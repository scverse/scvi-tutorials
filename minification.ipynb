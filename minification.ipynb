{
 "cells": [
  {
   "attachments": {},
   "cell_type": "markdown",
   "id": "e5abf651",
   "metadata": {},
   "source": [
    "# Minification\n",
    "\n",
    "Minification refers to the process of reducing the amount of content in your dataset in a smart way. This can be useful for various sorts of reasons and there can be different ways you might want to do this (we call these minification types). Currently, the only type of minification we support is one where we replace the count data with the parameters of the latent posterior distribution, estimated by a trained model. We will focus this tutorial on this type of minification.\n",
    "\n",
    "There are multiple motivations for minifying the data in this way:\n",
    "\n",
    "- The data is more compact, so it takes up less space on disk and in memory.\n",
    "- Data transfer (share, upload, download) is more smooth owing to the smaller data size.\n",
    "- By using the latent posterior parameters, we can skip the encoder network and save on computation time.\n",
    "\n",
    "The reason why this is that most post-training routines for scvi-tools models do not in fact require the full counts. Once your model is trained, you essentially only need the model weights and the pre-computed embeddings to carry out analyses. There are certain exceptions to this, but those routines will alert you if you try to call them with a minified dataset.\n",
    "\n",
    "<img src=\"https://raw.githubusercontent.com/scverse/scvi-tutorials/main/figures/minification.svg?raw=true\" alt=\"Minification overview\" />\n",
    "\n",
    "Moreover, you can actually use the latent posterior and the decoder network to estimate the original counts! This is of course not the exact same thing as using your actual full counts, but we can show that it is a good approximation using posterior predictive metrics (paper link tbd).\n",
    "\n",
    "Let's now see how to minify a dataset and use the corresponding model."
   ]
  },
  {
   "cell_type": "code",
   "execution_count": 1,
   "id": "26d9e3c8",
   "metadata": {},
   "outputs": [],
   "source": [
    "!pip install --quiet scvi-colab\n",
    "from scvi_colab import install\n",
    "\n",
    "install()"
   ]
  },
  {
   "cell_type": "code",
   "execution_count": 1,
   "id": "fc44fff9",
   "metadata": {},
   "outputs": [],
   "source": [
    "import scanpy as sc\n",
    "\n",
    "sc.set_figure_params(figsize=(4, 4))\n",
    "\n",
    "# for white background of figures (only for docs rendering)\n",
    "%config InlineBackend.print_figure_kwargs={'facecolor' : \"w\"}\n",
    "%config InlineBackend.figure_format='retina'"
   ]
  },
  {
   "cell_type": "code",
   "execution_count": 2,
   "id": "53758a1c",
   "metadata": {},
   "outputs": [
    {
     "name": "stderr",
     "output_type": "stream",
     "text": [
      "Global seed set to 0\n"
     ]
    }
   ],
   "source": [
    "import time\n",
    "\n",
    "import scanpy as sc\n",
    "import scvi"
   ]
  },
  {
   "attachments": {},
   "cell_type": "markdown",
   "id": "48c07965",
   "metadata": {},
   "source": [
    "## Get the data and model\n",
    "\n",
    "Here we use the data and pre-trained model obtained from running [this](https://docs.scvi-tools.org/en/stable/tutorials/notebooks/api_overview.html) scvi-tools tutorial.\n",
    "\n",
    "The dataset used is a subset of the heart cell atlas dataset:\\\n",
    "Litviňuková, M., Talavera-López, C., Maatz, H., Reichart, D., Worth, C. L., Lindberg, E. L., … & Teichmann, S. A. (2020). Cells of the adult human heart. Nature, 588(7838), 466-472.\n",
    "\n",
    "Let's train the model as usual. Also save the model and data on disk as we'll need them later."
   ]
  },
  {
   "cell_type": "code",
   "execution_count": 3,
   "id": "285ab758",
   "metadata": {},
   "outputs": [],
   "source": [
    "adata = scvi.data.heart_cell_atlas_subsampled()\n",
    "sc.pp.filter_genes(adata, min_counts=3)\n",
    "adata.layers[\"counts\"] = adata.X.copy()\n",
    "sc.pp.normalize_total(adata, target_sum=1e4)\n",
    "sc.pp.log1p(adata)\n",
    "adata.raw = adata\n",
    "sc.pp.highly_variable_genes(\n",
    "    adata,\n",
    "    n_top_genes=1200,\n",
    "    subset=True,\n",
    "    layer=\"counts\",\n",
    "    flavor=\"seurat_v3\",\n",
    "    batch_key=\"cell_source\",\n",
    ")\n",
    "scvi.model.SCVI.setup_anndata(\n",
    "    adata,\n",
    "    layer=\"counts\",\n",
    "    categorical_covariate_keys=[\"cell_source\", \"donor\"],\n",
    "    continuous_covariate_keys=[\"percent_mito\", \"percent_ribo\"],\n",
    ")\n",
    "model = scvi.model.SCVI(adata)\n",
    "model.train()\n",
    "model.save(\"local/hca/\", save_anndata=True)"
   ]
  },
  {
   "cell_type": "code",
   "execution_count": 36,
   "id": "0ba49f7b",
   "metadata": {},
   "outputs": [
    {
     "name": "stdout",
     "output_type": "stream",
     "text": [
      "\u001b[34mINFO    \u001b[0m File local/hca/model.pt already downloaded                                                                \n"
     ]
    }
   ],
   "source": [
    "model_path = \"local/hca\"\n",
    "model = scvi.model.SCVI.load(model_path)"
   ]
  },
  {
   "cell_type": "code",
   "execution_count": 37,
   "id": "cb2ebffc",
   "metadata": {},
   "outputs": [
    {
     "data": {
      "text/html": [
       "<pre style=\"white-space:pre;overflow-x:auto;line-height:normal;font-family:Menlo,'DejaVu Sans Mono',consolas,'Courier New',monospace\">SCVI Model with the following params: \n",
       "n_hidden: <span style=\"color: #008080; text-decoration-color: #008080; font-weight: bold\">128</span>, n_latent: <span style=\"color: #008080; text-decoration-color: #008080; font-weight: bold\">10</span>, n_layers: <span style=\"color: #008080; text-decoration-color: #008080; font-weight: bold\">1</span>, dropout_rate: <span style=\"color: #008080; text-decoration-color: #008080; font-weight: bold\">0.1</span>, dispersion: gene, gene_likelihood: zinb, \n",
       "latent_distribution: normal\n",
       "Training status: Trained\n",
       "Model's adata is minified?: <span style=\"color: #ff0000; text-decoration-color: #ff0000; font-style: italic\">False</span>\n",
       "</pre>\n"
      ],
      "text/plain": [
       "SCVI Model with the following params: \n",
       "n_hidden: \u001b[1;36m128\u001b[0m, n_latent: \u001b[1;36m10\u001b[0m, n_layers: \u001b[1;36m1\u001b[0m, dropout_rate: \u001b[1;36m0.1\u001b[0m, dispersion: gene, gene_likelihood: zinb, \n",
       "latent_distribution: normal\n",
       "Training status: Trained\n",
       "Model's adata is minified?: \u001b[3;91mFalse\u001b[0m\n"
      ]
     },
     "metadata": {},
     "output_type": "display_data"
    },
    {
     "data": {
      "text/plain": []
     },
     "execution_count": 37,
     "metadata": {},
     "output_type": "execute_result"
    }
   ],
   "source": [
    "model"
   ]
  },
  {
   "attachments": {},
   "cell_type": "markdown",
   "id": "435542fe",
   "metadata": {},
   "source": [
    "Note that, as expected, \"Model's adata is minified\" is False."
   ]
  },
  {
   "cell_type": "code",
   "execution_count": 38,
   "id": "8fe7cd11",
   "metadata": {},
   "outputs": [
    {
     "data": {
      "text/plain": [
       "AnnData object with n_obs × n_vars = 18641 × 1200\n",
       "    obs: 'NRP', 'age_group', 'cell_source', 'cell_type', 'donor', 'gender', 'n_counts', 'n_genes', 'percent_mito', 'percent_ribo', 'region', 'sample', 'scrublet_score', 'source', 'type', 'version', 'cell_states', 'Used', '_scvi_batch', '_scvi_labels'\n",
       "    var: 'gene_ids-Harvard-Nuclei', 'feature_types-Harvard-Nuclei', 'gene_ids-Sanger-Nuclei', 'feature_types-Sanger-Nuclei', 'gene_ids-Sanger-Cells', 'feature_types-Sanger-Cells', 'gene_ids-Sanger-CD45', 'feature_types-Sanger-CD45', 'n_counts', 'highly_variable', 'highly_variable_rank', 'means', 'variances', 'variances_norm', 'highly_variable_nbatches'\n",
       "    uns: '_scvi_manager_uuid', '_scvi_uuid', 'cell_type_colors', 'hvg', 'log1p'\n",
       "    obsm: '_scvi_extra_categorical_covs', '_scvi_extra_continuous_covs'\n",
       "    layers: 'counts'"
      ]
     },
     "execution_count": 38,
     "metadata": {},
     "output_type": "execute_result"
    }
   ],
   "source": [
    "model.adata"
   ]
  },
  {
   "attachments": {},
   "cell_type": "markdown",
   "id": "150f41f6",
   "metadata": {},
   "source": [
    "Notice that in addition to `adata.X`, we also have a layer (`counts`) and a `raw` attribute."
   ]
  },
  {
   "cell_type": "code",
   "execution_count": 39,
   "id": "4184fcfc",
   "metadata": {},
   "outputs": [
    {
     "data": {
      "text/plain": [
       "<anndata._core.raw.Raw at 0x140678400>"
      ]
     },
     "execution_count": 39,
     "metadata": {},
     "output_type": "execute_result"
    }
   ],
   "source": [
    "model.adata.raw"
   ]
  },
  {
   "attachments": {},
   "cell_type": "markdown",
   "id": "832acb1e",
   "metadata": {},
   "source": [
    "Let's also save a reference to `model.adata`. We'll see later that this remains unchanged because **minification is not an inplace procedure**."
   ]
  },
  {
   "cell_type": "code",
   "execution_count": 41,
   "id": "776e0e84",
   "metadata": {},
   "outputs": [
    {
     "data": {
      "text/plain": [
       "True"
      ]
     },
     "execution_count": 41,
     "metadata": {},
     "output_type": "execute_result"
    }
   ],
   "source": [
    "bdata = model.adata\n",
    "bdata is model.adata  # this should be True because we didn't copy the anndata object"
   ]
  },
  {
   "attachments": {},
   "cell_type": "markdown",
   "id": "d919fa66",
   "metadata": {},
   "source": [
    "## Minify"
   ]
  },
  {
   "attachments": {},
   "cell_type": "markdown",
   "id": "c86693f5",
   "metadata": {},
   "source": [
    "To minify the data, all we need to do is:\n",
    "\n",
    "1. get the latent representation and store it in the adata\n",
    "1. call `model.minify_adata()`"
   ]
  },
  {
   "cell_type": "code",
   "execution_count": 42,
   "id": "cd6c5291",
   "metadata": {},
   "outputs": [
    {
     "name": "stdout",
     "output_type": "stream",
     "text": [
      "\u001b[34mINFO    \u001b[0m Input AnnData not setup with scvi-tools. attempting to transfer AnnData setup                             \n",
      "\u001b[34mINFO    \u001b[0m Generating sequential column names                                                                        \n",
      "\u001b[34mINFO    \u001b[0m Generating sequential column names                                                                        \n"
     ]
    },
    {
     "name": "stderr",
     "output_type": "stream",
     "text": [
      "/Users/valehvpa/GitRepos/scvi-tools/scvi/model/utils/_minification.py:31: FutureWarning: X.dtype being converted to np.float32 from float64. In the next version of anndata (0.9) conversion will not be automatic. Pass dtype explicitly to avoid this warning. Pass `AnnData(X, dtype=X.dtype, ...)` to get the future behavour.\n",
      "  bdata = AnnData(\n"
     ]
    }
   ],
   "source": [
    "qzm, qzv = model.get_latent_representation(give_mean=False, return_dist=True)\n",
    "model.adata.obsm[\"X_latent_qzm\"] = qzm\n",
    "model.adata.obsm[\"X_latent_qzv\"] = qzv\n",
    "\n",
    "model.minify_adata()"
   ]
  },
  {
   "cell_type": "code",
   "execution_count": 43,
   "id": "3bc62561",
   "metadata": {},
   "outputs": [
    {
     "data": {
      "text/html": [
       "<pre style=\"white-space:pre;overflow-x:auto;line-height:normal;font-family:Menlo,'DejaVu Sans Mono',consolas,'Courier New',monospace\">SCVI Model with the following params: \n",
       "n_hidden: <span style=\"color: #008080; text-decoration-color: #008080; font-weight: bold\">128</span>, n_latent: <span style=\"color: #008080; text-decoration-color: #008080; font-weight: bold\">10</span>, n_layers: <span style=\"color: #008080; text-decoration-color: #008080; font-weight: bold\">1</span>, dropout_rate: <span style=\"color: #008080; text-decoration-color: #008080; font-weight: bold\">0.1</span>, dispersion: gene, gene_likelihood: zinb, \n",
       "latent_distribution: normal\n",
       "Training status: Trained\n",
       "Model's adata is minified?: <span style=\"color: #00ff00; text-decoration-color: #00ff00; font-style: italic\">True</span>\n",
       "</pre>\n"
      ],
      "text/plain": [
       "SCVI Model with the following params: \n",
       "n_hidden: \u001b[1;36m128\u001b[0m, n_latent: \u001b[1;36m10\u001b[0m, n_layers: \u001b[1;36m1\u001b[0m, dropout_rate: \u001b[1;36m0.1\u001b[0m, dispersion: gene, gene_likelihood: zinb, \n",
       "latent_distribution: normal\n",
       "Training status: Trained\n",
       "Model's adata is minified?: \u001b[3;92mTrue\u001b[0m\n"
      ]
     },
     "metadata": {},
     "output_type": "display_data"
    },
    {
     "data": {
      "text/plain": []
     },
     "execution_count": 43,
     "metadata": {},
     "output_type": "execute_result"
    }
   ],
   "source": [
    "model"
   ]
  },
  {
   "attachments": {},
   "cell_type": "markdown",
   "id": "71ca6950",
   "metadata": {},
   "source": [
    "As expected, \"Model's adata is minified\" is now True. Also, we can check the model's `minified_data_type`:"
   ]
  },
  {
   "cell_type": "code",
   "execution_count": 44,
   "id": "1b320565",
   "metadata": {},
   "outputs": [
    {
     "data": {
      "text/plain": [
       "'latent_posterior_parameters'"
      ]
     },
     "execution_count": 44,
     "metadata": {},
     "output_type": "execute_result"
    }
   ],
   "source": [
    "model.minified_data_type"
   ]
  },
  {
   "attachments": {},
   "cell_type": "markdown",
   "id": "ece17baa",
   "metadata": {},
   "source": [
    "Let's check out the data now:"
   ]
  },
  {
   "cell_type": "code",
   "execution_count": 45,
   "id": "79a6b64b",
   "metadata": {},
   "outputs": [
    {
     "data": {
      "text/plain": [
       "AnnData object with n_obs × n_vars = 18641 × 1200\n",
       "    obs: 'NRP', 'age_group', 'cell_source', 'cell_type', 'donor', 'gender', 'n_counts', 'n_genes', 'percent_mito', 'percent_ribo', 'region', 'sample', 'scrublet_score', 'source', 'type', 'version', 'cell_states', 'Used', '_scvi_batch', '_scvi_labels', '_scvi_observed_lib_size'\n",
       "    var: 'gene_ids-Harvard-Nuclei', 'feature_types-Harvard-Nuclei', 'gene_ids-Sanger-Nuclei', 'feature_types-Sanger-Nuclei', 'gene_ids-Sanger-Cells', 'feature_types-Sanger-Cells', 'gene_ids-Sanger-CD45', 'feature_types-Sanger-CD45', 'n_counts', 'highly_variable', 'highly_variable_rank', 'means', 'variances', 'variances_norm', 'highly_variable_nbatches'\n",
       "    uns: '_scvi_manager_uuid', 'cell_type_colors', 'hvg', 'log1p', '_scvi_adata_minify_type', '_scvi_uuid'\n",
       "    obsm: '_scvi_extra_categorical_covs', '_scvi_extra_continuous_covs', 'X_latent_qzm', 'X_latent_qzv', '_scvi_latent_qzm', '_scvi_latent_qzv'\n",
       "    layers: 'counts'"
      ]
     },
     "execution_count": 45,
     "metadata": {},
     "output_type": "execute_result"
    }
   ],
   "source": [
    "model.adata"
   ]
  },
  {
   "attachments": {},
   "cell_type": "markdown",
   "id": "eb2fb724",
   "metadata": {},
   "source": [
    "First, let's check that the original adata was not modified (minification is not inplace):"
   ]
  },
  {
   "cell_type": "code",
   "execution_count": 46,
   "id": "aeaa029e",
   "metadata": {},
   "outputs": [
    {
     "data": {
      "text/plain": [
       "False"
      ]
     },
     "execution_count": 46,
     "metadata": {},
     "output_type": "execute_result"
    }
   ],
   "source": [
    "model.adata is bdata"
   ]
  },
  {
   "attachments": {},
   "cell_type": "markdown",
   "id": "dd1bec6a",
   "metadata": {},
   "source": [
    "Next, we see that we still have the same number of obs and vars: 18641 × 1200. This seems strange! Didn't we say we minized the data? We did. The way we did that is we \"emptied\" the contents of `adata.X`, `adata.layers[\"counts\"]`, and `adata.raw`. Instead, we cached the much smaller latent posterior parameters in `adata.obsm[\"_scvi_latent_qzm\"]` and `adata.obsm[\"_scvi_latent_qzv\"]`. Let's double check that:"
   ]
  },
  {
   "cell_type": "code",
   "execution_count": 47,
   "id": "cc5b771d",
   "metadata": {},
   "outputs": [
    {
     "data": {
      "text/plain": [
       "<18641x1200 sparse matrix of type '<class 'numpy.float32'>'\n",
       "\twith 0 stored elements in Compressed Sparse Row format>"
      ]
     },
     "execution_count": 47,
     "metadata": {},
     "output_type": "execute_result"
    }
   ],
   "source": [
    "model.adata.X"
   ]
  },
  {
   "cell_type": "code",
   "execution_count": 48,
   "id": "adafa4ac",
   "metadata": {},
   "outputs": [
    {
     "data": {
      "text/plain": [
       "<18641x1200 sparse matrix of type '<class 'numpy.float64'>'\n",
       "\twith 0 stored elements in Compressed Sparse Row format>"
      ]
     },
     "execution_count": 48,
     "metadata": {},
     "output_type": "execute_result"
    }
   ],
   "source": [
    "model.adata.layers[\"counts\"]"
   ]
  },
  {
   "cell_type": "code",
   "execution_count": 49,
   "id": "b808c34c",
   "metadata": {},
   "outputs": [
    {
     "data": {
      "text/plain": [
       "True"
      ]
     },
     "execution_count": 49,
     "metadata": {},
     "output_type": "execute_result"
    }
   ],
   "source": [
    "model.adata.raw is None"
   ]
  },
  {
   "cell_type": "code",
   "execution_count": 50,
   "id": "8ed8d48f",
   "metadata": {},
   "outputs": [
    {
     "data": {
      "text/plain": [
       "AnnData object with n_obs × n_vars = 18641 × 1200\n",
       "    obs: 'NRP', 'age_group', 'cell_source', 'cell_type', 'donor', 'gender', 'n_counts', 'n_genes', 'percent_mito', 'percent_ribo', 'region', 'sample', 'scrublet_score', 'source', 'type', 'version', 'cell_states', 'Used', '_scvi_batch', '_scvi_labels'\n",
       "    var: 'gene_ids-Harvard-Nuclei', 'feature_types-Harvard-Nuclei', 'gene_ids-Sanger-Nuclei', 'feature_types-Sanger-Nuclei', 'gene_ids-Sanger-Cells', 'feature_types-Sanger-Cells', 'gene_ids-Sanger-CD45', 'feature_types-Sanger-CD45', 'n_counts', 'highly_variable', 'highly_variable_rank', 'means', 'variances', 'variances_norm', 'highly_variable_nbatches'\n",
       "    uns: '_scvi_manager_uuid', '_scvi_uuid', 'cell_type_colors', 'hvg', 'log1p'\n",
       "    obsm: '_scvi_extra_categorical_covs', '_scvi_extra_continuous_covs', 'X_latent_qzm', 'X_latent_qzv'\n",
       "    layers: 'counts'"
      ]
     },
     "execution_count": 50,
     "metadata": {},
     "output_type": "execute_result"
    }
   ],
   "source": [
    "bdata"
   ]
  },
  {
   "attachments": {},
   "cell_type": "markdown",
   "id": "ee9b7b0b",
   "metadata": {},
   "source": [
    "Everything else is the same, all the other metadata is there.\n",
    "\n",
    "But is the data really smaller now? Let's check:"
   ]
  },
  {
   "cell_type": "code",
   "execution_count": 51,
   "id": "d63b70ae",
   "metadata": {},
   "outputs": [],
   "source": [
    "save_path = \"local/hca_minified\"\n",
    "model.save(save_path, overwrite=True, save_anndata=True)"
   ]
  },
  {
   "cell_type": "code",
   "execution_count": 61,
   "id": "79f2f24a",
   "metadata": {},
   "outputs": [
    {
     "name": "stdout",
     "output_type": "stream",
     "text": [
      "-rw-r--r--  1 valehvpa  staff   212M Jan 30 18:02 local/hca/adata.h5ad\n"
     ]
    }
   ],
   "source": [
    "ls -lh local/hca/adata.h5ad"
   ]
  },
  {
   "cell_type": "code",
   "execution_count": 60,
   "id": "a13f18ec",
   "metadata": {},
   "outputs": [
    {
     "name": "stdout",
     "output_type": "stream",
     "text": [
      "-rw-r--r--  1 valehvpa  staff   8.1M Jan 30 18:05 local/hca_minified/adata.h5ad\n"
     ]
    }
   ],
   "source": [
    "ls -lh local/hca_minified/adata.h5ad"
   ]
  },
  {
   "attachments": {},
   "cell_type": "markdown",
   "id": "b73102c2",
   "metadata": {},
   "source": [
    "We also see a a new uns key called `_scvi_adata_minify_type`. This specifies the type of minification. It's the same as `model.minified_data_type`. In fact this is a quick way to tell if your data is minified. We also expose a utility function to check that quickly."
   ]
  },
  {
   "cell_type": "code",
   "execution_count": 26,
   "id": "2bfe604b",
   "metadata": {},
   "outputs": [
    {
     "data": {
      "text/plain": [
       "'latent_posterior_parameters'"
      ]
     },
     "execution_count": 26,
     "metadata": {},
     "output_type": "execute_result"
    }
   ],
   "source": [
    "model.adata.uns[\"_scvi_adata_minify_type\"]"
   ]
  },
  {
   "cell_type": "code",
   "execution_count": 27,
   "id": "42ade97a",
   "metadata": {},
   "outputs": [
    {
     "data": {
      "text/plain": [
       "True"
      ]
     },
     "execution_count": 27,
     "metadata": {},
     "output_type": "execute_result"
    }
   ],
   "source": [
    "scvi.data._utils._is_minified(model.adata)"
   ]
  },
  {
   "attachments": {},
   "cell_type": "markdown",
   "id": "670290ce",
   "metadata": {},
   "source": [
    "Last but not least, you might have noticed that there is a new obs columns called `_scvi_observed_lib_size`. We add the pre-computed per-cell library sizes to this column and use it during inference, because the minified data is deprived of the full counts.\n",
    "\n",
    "Another claim we made earlier is that analysis functions are faster if you use the minified data. Let's time how much they take. Here we'll look at the `get_likelihood_parameters` method."
   ]
  },
  {
   "cell_type": "code",
   "execution_count": 65,
   "id": "ce41ef00",
   "metadata": {},
   "outputs": [
    {
     "name": "stdout",
     "output_type": "stream",
     "text": [
      "\u001b[34mINFO    \u001b[0m File local/hca/model.pt already downloaded                                                                \n",
      "without a minified data `get_likelihood_parameters` takes on average 3.2357523918151854 seconds\n"
     ]
    }
   ],
   "source": [
    "model_orig = scvi.model.SCVI.load(\"local/hca\")\n",
    "\n",
    "n = 5\n",
    "start_time = time.time()\n",
    "for i in range(n):\n",
    "    model_orig.get_likelihood_parameters(n_samples=3, give_mean=True)\n",
    "end_time = time.time()\n",
    "print(\n",
    "    f\"without a minified data `get_likelihood_parameters` takes on average {(end_time - start_time)/n} seconds\"\n",
    ")"
   ]
  },
  {
   "cell_type": "code",
   "execution_count": 71,
   "id": "78ea1dac",
   "metadata": {},
   "outputs": [
    {
     "name": "stdout",
     "output_type": "stream",
     "text": [
      "with a minified data `get_likelihood_parameters` takes on average 3.049869012832642 seconds\n"
     ]
    }
   ],
   "source": [
    "n = 5\n",
    "start_time = time.time()\n",
    "for i in range(n):\n",
    "    model.get_likelihood_parameters(n_samples=3, give_mean=True)\n",
    "end_time = time.time()\n",
    "print(\n",
    "    f\"with a minified data `get_likelihood_parameters` takes on average {(end_time - start_time)/n} seconds\"\n",
    ")"
   ]
  },
  {
   "attachments": {},
   "cell_type": "markdown",
   "id": "964f9740",
   "metadata": {},
   "source": [
    "Time savings are not very sharp in the case of this dataset, but there are some marginal savings regardless."
   ]
  },
  {
   "attachments": {},
   "cell_type": "markdown",
   "id": "22c37d5a",
   "metadata": {},
   "source": [
    "## Save and load\n",
    "\n",
    "Just like a regular model, you can save the model and its minified data, and load them back in:"
   ]
  },
  {
   "cell_type": "code",
   "execution_count": 72,
   "id": "4a899e25",
   "metadata": {},
   "outputs": [
    {
     "name": "stdout",
     "output_type": "stream",
     "text": [
      "\u001b[34mINFO    \u001b[0m File local/hca_minified/model.pt already downloaded                                                       \n"
     ]
    },
    {
     "data": {
      "text/html": [
       "<pre style=\"white-space:pre;overflow-x:auto;line-height:normal;font-family:Menlo,'DejaVu Sans Mono',consolas,'Courier New',monospace\">SCVI Model with the following params: \n",
       "n_hidden: <span style=\"color: #008080; text-decoration-color: #008080; font-weight: bold\">128</span>, n_latent: <span style=\"color: #008080; text-decoration-color: #008080; font-weight: bold\">10</span>, n_layers: <span style=\"color: #008080; text-decoration-color: #008080; font-weight: bold\">1</span>, dropout_rate: <span style=\"color: #008080; text-decoration-color: #008080; font-weight: bold\">0.1</span>, dispersion: gene, gene_likelihood: zinb, \n",
       "latent_distribution: normal\n",
       "Training status: Trained\n",
       "Model's adata is minified?: <span style=\"color: #00ff00; text-decoration-color: #00ff00; font-style: italic\">True</span>\n",
       "</pre>\n"
      ],
      "text/plain": [
       "SCVI Model with the following params: \n",
       "n_hidden: \u001b[1;36m128\u001b[0m, n_latent: \u001b[1;36m10\u001b[0m, n_layers: \u001b[1;36m1\u001b[0m, dropout_rate: \u001b[1;36m0.1\u001b[0m, dispersion: gene, gene_likelihood: zinb, \n",
       "latent_distribution: normal\n",
       "Training status: Trained\n",
       "Model's adata is minified?: \u001b[3;92mTrue\u001b[0m\n"
      ]
     },
     "metadata": {},
     "output_type": "display_data"
    },
    {
     "name": "stdout",
     "output_type": "stream",
     "text": [
      "\n",
      "Data is minified?: True\n"
     ]
    }
   ],
   "source": [
    "save_path = \"local/hca_minified\"\n",
    "model.save(save_path, overwrite=True, save_anndata=True)\n",
    "\n",
    "# load saved model with saved (minified) adata\n",
    "loaded_model = scvi.model.SCVI.load(save_path)\n",
    "\n",
    "print(loaded_model)\n",
    "print(\"Data is minified?: \" + str(scvi.data._utils._is_minified(loaded_model.adata)))"
   ]
  },
  {
   "attachments": {},
   "cell_type": "markdown",
   "id": "57daa543",
   "metadata": {},
   "source": [
    "Next, let's load the model with a non-minified data."
   ]
  },
  {
   "cell_type": "code",
   "execution_count": 73,
   "id": "c71e218c",
   "metadata": {},
   "outputs": [
    {
     "name": "stdout",
     "output_type": "stream",
     "text": [
      "\u001b[34mINFO    \u001b[0m File local/hca_minified/model.pt already downloaded                                                       \n"
     ]
    },
    {
     "data": {
      "text/html": [
       "<pre style=\"white-space:pre;overflow-x:auto;line-height:normal;font-family:Menlo,'DejaVu Sans Mono',consolas,'Courier New',monospace\">SCVI Model with the following params: \n",
       "n_hidden: <span style=\"color: #008080; text-decoration-color: #008080; font-weight: bold\">128</span>, n_latent: <span style=\"color: #008080; text-decoration-color: #008080; font-weight: bold\">10</span>, n_layers: <span style=\"color: #008080; text-decoration-color: #008080; font-weight: bold\">1</span>, dropout_rate: <span style=\"color: #008080; text-decoration-color: #008080; font-weight: bold\">0.1</span>, dispersion: gene, gene_likelihood: zinb, \n",
       "latent_distribution: normal\n",
       "Training status: Trained\n",
       "Model's adata is minified?: <span style=\"color: #ff0000; text-decoration-color: #ff0000; font-style: italic\">False</span>\n",
       "</pre>\n"
      ],
      "text/plain": [
       "SCVI Model with the following params: \n",
       "n_hidden: \u001b[1;36m128\u001b[0m, n_latent: \u001b[1;36m10\u001b[0m, n_layers: \u001b[1;36m1\u001b[0m, dropout_rate: \u001b[1;36m0.1\u001b[0m, dispersion: gene, gene_likelihood: zinb, \n",
       "latent_distribution: normal\n",
       "Training status: Trained\n",
       "Model's adata is minified?: \u001b[3;91mFalse\u001b[0m\n"
      ]
     },
     "metadata": {},
     "output_type": "display_data"
    },
    {
     "name": "stdout",
     "output_type": "stream",
     "text": [
      "\n",
      "Data is minified?: False\n"
     ]
    }
   ],
   "source": [
    "loaded_model = scvi.model.SCVI.load(save_path, adata=bdata)\n",
    "\n",
    "print(loaded_model)\n",
    "print(\"Data is minified?: \" + str(scvi.data._utils._is_minified(loaded_model.adata)))"
   ]
  },
  {
   "attachments": {},
   "cell_type": "markdown",
   "id": "a3db15e6",
   "metadata": {},
   "source": [
    "So if you want to \"undo\" the minification procedure, so to speak, you can always load your model with the non-minified data (if you still have it), or any other non-minified data for that matter, as long as it's compatible with the model of course.\n",
    "\n",
    "Last but not least, let's see what happens if we try to load a model whose adata was not minified, with a dataset that is minified:"
   ]
  },
  {
   "cell_type": "code",
   "execution_count": 74,
   "id": "723726bc",
   "metadata": {},
   "outputs": [
    {
     "data": {
      "text/plain": [
       "True"
      ]
     },
     "execution_count": 74,
     "metadata": {},
     "output_type": "execute_result"
    }
   ],
   "source": [
    "scvi.data._utils._is_minified(model.adata)"
   ]
  },
  {
   "cell_type": "code",
   "execution_count": 75,
   "id": "c88064b6",
   "metadata": {},
   "outputs": [
    {
     "name": "stdout",
     "output_type": "stream",
     "text": [
      "\u001b[34mINFO    \u001b[0m File local/hca/model.pt already downloaded                                                                \n"
     ]
    },
    {
     "ename": "KeyError",
     "evalue": "'state_registry'",
     "output_type": "error",
     "traceback": [
      "\u001b[0;31m---------------------------------------------------------------------------\u001b[0m",
      "\u001b[0;31mKeyError\u001b[0m                                  Traceback (most recent call last)",
      "Cell \u001b[0;32mIn [75], line 1\u001b[0m\n\u001b[0;32m----> 1\u001b[0m scvi\u001b[39m.\u001b[39;49mmodel\u001b[39m.\u001b[39;49mSCVI\u001b[39m.\u001b[39;49mload(\u001b[39m\"\u001b[39;49m\u001b[39mlocal/hca\u001b[39;49m\u001b[39m\"\u001b[39;49m, adata\u001b[39m=\u001b[39;49mmodel\u001b[39m.\u001b[39;49madata)\n",
      "File \u001b[0;32m~/GitRepos/scvi-tools/scvi/model/base/_base_model.py:669\u001b[0m, in \u001b[0;36mBaseModelClass.load\u001b[0;34m(cls, dir_path, adata, use_gpu, prefix, backup_url)\u001b[0m\n\u001b[1;32m    665\u001b[0m \u001b[39m# Calling ``setup_anndata`` method with the original arguments passed into\u001b[39;00m\n\u001b[1;32m    666\u001b[0m \u001b[39m# the saved model. This enables simple backwards compatibility in the case of\u001b[39;00m\n\u001b[1;32m    667\u001b[0m \u001b[39m# newly introduced fields or parameters.\u001b[39;00m\n\u001b[1;32m    668\u001b[0m method_name \u001b[39m=\u001b[39m registry\u001b[39m.\u001b[39mget(_SETUP_METHOD_NAME, \u001b[39m\"\u001b[39m\u001b[39msetup_anndata\u001b[39m\u001b[39m\"\u001b[39m)\n\u001b[0;32m--> 669\u001b[0m \u001b[39mgetattr\u001b[39;49m(\u001b[39mcls\u001b[39;49m, method_name)(\n\u001b[1;32m    670\u001b[0m     adata, source_registry\u001b[39m=\u001b[39;49mregistry, \u001b[39m*\u001b[39;49m\u001b[39m*\u001b[39;49mregistry[_SETUP_ARGS_KEY]\n\u001b[1;32m    671\u001b[0m )\n\u001b[1;32m    673\u001b[0m model \u001b[39m=\u001b[39m _initialize_model(\u001b[39mcls\u001b[39m, adata, attr_dict)\n\u001b[1;32m    674\u001b[0m model\u001b[39m.\u001b[39mmodule\u001b[39m.\u001b[39mon_load(model)\n",
      "File \u001b[0;32m~/GitRepos/scvi-tools/scvi/model/_scvi.py:213\u001b[0m, in \u001b[0;36mSCVI.setup_anndata\u001b[0;34m(cls, adata, layer, batch_key, labels_key, size_factor_key, categorical_covariate_keys, continuous_covariate_keys, **kwargs)\u001b[0m\n\u001b[1;32m    209\u001b[0m     anndata_fields \u001b[39m+\u001b[39m\u001b[39m=\u001b[39m \u001b[39mcls\u001b[39m\u001b[39m.\u001b[39m_get_fields_for_adata_minification(adata_minify_type)\n\u001b[1;32m    210\u001b[0m adata_manager \u001b[39m=\u001b[39m AnnDataManager(\n\u001b[1;32m    211\u001b[0m     fields\u001b[39m=\u001b[39manndata_fields, setup_method_args\u001b[39m=\u001b[39msetup_method_args\n\u001b[1;32m    212\u001b[0m )\n\u001b[0;32m--> 213\u001b[0m adata_manager\u001b[39m.\u001b[39;49mregister_fields(adata, \u001b[39m*\u001b[39;49m\u001b[39m*\u001b[39;49mkwargs)\n\u001b[1;32m    214\u001b[0m \u001b[39mcls\u001b[39m\u001b[39m.\u001b[39mregister_manager(adata_manager)\n",
      "File \u001b[0;32m~/GitRepos/scvi-tools/scvi/data/_manager.py:179\u001b[0m, in \u001b[0;36mAnnDataManager.register_fields\u001b[0;34m(self, adata, source_registry, **transfer_kwargs)\u001b[0m\n\u001b[1;32m    176\u001b[0m \u001b[39mself\u001b[39m\u001b[39m.\u001b[39m_validate_anndata_object(adata)\n\u001b[1;32m    178\u001b[0m \u001b[39mfor\u001b[39;00m field \u001b[39min\u001b[39;00m \u001b[39mself\u001b[39m\u001b[39m.\u001b[39mfields:\n\u001b[0;32m--> 179\u001b[0m     \u001b[39mself\u001b[39;49m\u001b[39m.\u001b[39;49m_add_field(\n\u001b[1;32m    180\u001b[0m         field\u001b[39m=\u001b[39;49mfield,\n\u001b[1;32m    181\u001b[0m         adata\u001b[39m=\u001b[39;49madata,\n\u001b[1;32m    182\u001b[0m         source_registry\u001b[39m=\u001b[39;49msource_registry,\n\u001b[1;32m    183\u001b[0m         \u001b[39m*\u001b[39;49m\u001b[39m*\u001b[39;49mtransfer_kwargs,\n\u001b[1;32m    184\u001b[0m     )\n\u001b[1;32m    186\u001b[0m \u001b[39m# Save arguments for register_fields.\u001b[39;00m\n\u001b[1;32m    187\u001b[0m \u001b[39mself\u001b[39m\u001b[39m.\u001b[39m_source_registry \u001b[39m=\u001b[39m deepcopy(source_registry)\n",
      "File \u001b[0;32m~/GitRepos/scvi-tools/scvi/data/_manager.py:215\u001b[0m, in \u001b[0;36mAnnDataManager._add_field\u001b[0;34m(self, field, adata, source_registry, **transfer_kwargs)\u001b[0m\n\u001b[1;32m    211\u001b[0m \u001b[39mif\u001b[39;00m \u001b[39mnot\u001b[39;00m field\u001b[39m.\u001b[39mis_empty:\n\u001b[1;32m    212\u001b[0m     \u001b[39m# Transfer case: Source registry is used for validation and/or setup.\u001b[39;00m\n\u001b[1;32m    213\u001b[0m     \u001b[39mif\u001b[39;00m source_registry \u001b[39mis\u001b[39;00m \u001b[39mnot\u001b[39;00m \u001b[39mNone\u001b[39;00m:\n\u001b[1;32m    214\u001b[0m         field_registry[_constants\u001b[39m.\u001b[39m_STATE_REGISTRY_KEY] \u001b[39m=\u001b[39m field\u001b[39m.\u001b[39mtransfer_field(\n\u001b[0;32m--> 215\u001b[0m             source_registry[_constants\u001b[39m.\u001b[39;49m_FIELD_REGISTRIES_KEY][\n\u001b[1;32m    216\u001b[0m                 field\u001b[39m.\u001b[39;49mregistry_key\n\u001b[1;32m    217\u001b[0m             ][_constants\u001b[39m.\u001b[39;49m_STATE_REGISTRY_KEY],\n\u001b[1;32m    218\u001b[0m             adata,\n\u001b[1;32m    219\u001b[0m             \u001b[39m*\u001b[39m\u001b[39m*\u001b[39mtransfer_kwargs,\n\u001b[1;32m    220\u001b[0m         )\n\u001b[1;32m    221\u001b[0m     \u001b[39melse\u001b[39;00m:\n\u001b[1;32m    222\u001b[0m         field_registry[_constants\u001b[39m.\u001b[39m_STATE_REGISTRY_KEY] \u001b[39m=\u001b[39m field\u001b[39m.\u001b[39mregister_field(\n\u001b[1;32m    223\u001b[0m             adata\n\u001b[1;32m    224\u001b[0m         )\n",
      "\u001b[0;31mKeyError\u001b[0m: 'state_registry'"
     ]
    }
   ],
   "source": [
    "try:\n",
    "    scvi.model.SCVI.load(\"local/hca\", adata=model.adata)\n",
    "except KeyError as e:\n",
    "    print(e)"
   ]
  },
  {
   "attachments": {},
   "cell_type": "markdown",
   "id": "85d01faf",
   "metadata": {},
   "source": [
    "As we see, this is not allowed. This is because when you try to load a model with another dataset, we try to validate that dataset against the model's registry. In this case, the data is not compatible with the model registry because it has attributes pertaining to minification, which this model is not aware of."
   ]
  },
  {
   "attachments": {},
   "cell_type": "markdown",
   "id": "114aba4b",
   "metadata": {},
   "source": [
    "## Support\n",
    "\n",
    "Minification is not supported for all models yet. A model supports this functionality if and only if it inherits from the `BaseMinifiedModeModelClass` class. A model that does not support this:\n",
    "\n",
    "- does not have a `minify_adata()` method\n",
    "- cannot be loaded with a minified data. If you try to do this you will see this error:\n",
    "  \"The MyModel model currently does not support minified data.\"\n",
    "\n",
    "To support minification for your own model, inherit your model class from the `BaseMinifiedModeModelClass` and your module class from the `BaseMinifiedModeModuleClass`."
   ]
  }
 ],
 "metadata": {
  "kernelspec": {
   "display_name": "scvi-hub",
   "language": "python",
   "name": "python3"
  },
  "language_info": {
   "codemirror_mode": {
    "name": "ipython",
    "version": 3
   },
   "file_extension": ".py",
   "mimetype": "text/x-python",
   "name": "python",
   "nbconvert_exporter": "python",
   "pygments_lexer": "ipython3",
   "version": "3.9.13"
  },
  "vscode": {
   "interpreter": {
    "hash": "c7ad0fb529154325adae80858adf69263139128ad86800d0218f40cb1980a4c2"
   }
  }
 },
 "nbformat": 4,
 "nbformat_minor": 5
}
