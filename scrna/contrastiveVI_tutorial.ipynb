{
 "cells": [
  {
   "cell_type": "markdown",
   "metadata": {
    "id": "Z3tPCf4_3jsf"
   },
   "source": [
    "# Isolating perturbation-induced variations with contrastiveVI"
   ]
  },
  {
   "cell_type": "markdown",
   "metadata": {
    "id": "NRAt1mbfya2b"
   },
   "source": [
    "Perturb-seq is a platform for conducting large scale CRISPR-mediated gene perturbation screens in single-cells. A major goal of Perturb-seq experiments is to gain new insights as to gene functions (e.g. pathway membership) and the relationships between different genes. Unfortunately, analyzing the effects of CRISPR perturbation in Perturb-seq experiments can be confounded by sources of variation shared with control cells (e.g. cell-cycle-related variations).\n",
    "\n",
    "Here we illustrate how contrastiveVI's explicit deconvolution of shared and perturbed-cell-specific variations can overcome such challenges in the analysis of Perturb-seq data. For this case study, we'll consider data from a large-scale Perturb-seq experiment originally collected in [Norman et al.](https://www.science.org/doi/10.1126/science.aax4438) In this study the authors assessed the effects of 284 different CRISPR-mediated perturbations on the growth of K562 cells, where each perturbation induced the overexpression of a single gene or a pair of genes.\n",
    "\n",
    "If you use contrastiveVI in your work, please consider citing:\n",
    "\n",
    "- Weinberger, E., Lin, C. & Lee, SI. Isolating salient variations of interest in single-cell data with contrastiveVI. Nature Methods 20, 1336–1345 (2023)."
   ]
  },
  {
   "cell_type": "code",
   "execution_count": null,
   "metadata": {
    "id": "ypUys0Rq3ee-"
   },
   "outputs": [],
   "source": [
    "# !pip install --quiet scvi-colab\n",
    "# from scvi_colab import install\n",
    "\n",
    "# install()"
   ]
  },
  {
   "cell_type": "markdown",
   "metadata": {
    "id": "klytO9jn3_qe"
   },
   "source": [
    "## Imports and data loading"
   ]
  },
  {
   "cell_type": "code",
   "execution_count": null,
   "metadata": {
    "id": "jT81XzGEclF0"
   },
   "outputs": [],
   "source": [
    "import os\n",
    "import tempfile\n",
    "\n",
    "import numpy as np\n",
    "import requests\n",
    "import scanpy as sc\n",
    "import scvi\n",
    "import torch"
   ]
  },
  {
   "cell_type": "code",
   "execution_count": null,
   "metadata": {
    "colab": {
     "base_uri": "https://localhost:8080/"
    },
    "id": "7eg-j5yZc-e_",
    "outputId": "ba1a376f-6ea3-4e4b-c3d7-001473a4289f"
   },
   "outputs": [],
   "source": [
    "scvi.settings.seed = 0\n",
    "print(\"Last run with scvi-tools version:\", scvi.__version__)"
   ]
  },
  {
   "cell_type": "markdown",
   "metadata": {
    "id": "mvpxUFO54V79"
   },
   "source": [
    "You can modify `save_dir` below to change where the data files for this tutorial are saved."
   ]
  },
  {
   "cell_type": "code",
   "execution_count": null,
   "metadata": {
    "id": "DLm4NH_e4Rxl"
   },
   "outputs": [],
   "source": [
    "sc.set_figure_params(figsize=(4, 4))\n",
    "torch.set_float32_matmul_precision(\"high\")\n",
    "save_dir = tempfile.TemporaryDirectory()\n",
    "\n",
    "%config InlineBackend.print_figure_kwargs={'facecolor' : \"w\"}\n",
    "%config InlineBackend.figure_format='retina'"
   ]
  },
  {
   "cell_type": "markdown",
   "metadata": {
    "id": "Q0zjlN_94iH2"
   },
   "source": [
    "This dataset was filtered as described in the contrastiveVI manuscript (low quality cells filtered out, high variable gene selection, etc.). Normalized, log-transformed values can  be found in `adata.X`, while raw counts can be found in `adata.layers['count']`."
   ]
  },
  {
   "cell_type": "code",
   "execution_count": null,
   "metadata": {
    "colab": {
     "base_uri": "https://localhost:8080/",
     "height": 106,
     "referenced_widgets": [
      "d19d73af8cc846329bc8cbac5e4f20dc",
      "3fb7ef2e3b3b4fae901c9da42868553c",
      "aa253192059241d18eb87b2f5a2638c5",
      "1d68a278496a460db550884656695f78",
      "1bd130a7363646e9bae0aa872f88a0a1",
      "dd5f983b24f34b5e86b33d8fbdce2e4e",
      "9b6baedec7a3492d9cf1eb88ff27e30b",
      "07bd407dfa6a4b9393d9ab6f43fbde32",
      "5ef432665f624f1781c2890eb8674fd4",
      "f3ca49eba3c34cf1938661a0e9acbf81",
      "96d7d837e4c84315a8110a0ece0203d1"
     ]
    },
    "id": "pdiTM9O0cmR0",
    "outputId": "c8078d90-1450-4b88-b3aa-6a0629a1ed23"
   },
   "outputs": [],
   "source": [
    "adata_path = os.path.join(save_dir.name, \"norman_2019.h5ad\")\n",
    "\n",
    "adata = sc.read(\n",
    "    adata_path,\n",
    "    backup_url=\"https://figshare.com/ndownloader/files/43390776\",\n",
    ")\n",
    "adata.var_names = adata.var[\"gene_name\"]\n",
    "\n",
    "del adata.raw  # Save memory to stay within Colab free tier limits"
   ]
  },
  {
   "cell_type": "markdown",
   "metadata": {
    "id": "1q8kJ_zWtpWV"
   },
   "source": [
    "As an extra preprocessing step, we'll calculate cell cycle labels to be used later in our analysis:"
   ]
  },
  {
   "cell_type": "code",
   "execution_count": null,
   "metadata": {},
   "outputs": [],
   "source": [
    "def get_cell_cycle_genes() -> list:\n",
    "    # Canonical list of cell cycle genes\n",
    "    url = \"https://raw.githubusercontent.com/scverse/scanpy_usage/master/180209_cell_cycle/data/regev_lab_cell_cycle_genes.txt\"\n",
    "    cell_cycle_genes = requests.get(url).text.split(\"\\n\")[:-1]\n",
    "    return cell_cycle_genes"
   ]
  },
  {
   "cell_type": "code",
   "execution_count": null,
   "metadata": {
    "colab": {
     "base_uri": "https://localhost:8080/"
    },
    "id": "vPH5TTHctmgK",
    "outputId": "88543338-7b53-4e37-daee-962f74c8241d"
   },
   "outputs": [],
   "source": [
    "cell_cycle_genes = get_cell_cycle_genes()\n",
    "\n",
    "s_genes = cell_cycle_genes[:43]\n",
    "g2m_genes = cell_cycle_genes[43:]\n",
    "cell_cycle_genes = [x for x in cell_cycle_genes if x in adata.var_names]\n",
    "\n",
    "sc.tl.score_genes_cell_cycle(adata, s_genes=s_genes, g2m_genes=g2m_genes, use_raw=False)"
   ]
  },
  {
   "cell_type": "markdown",
   "metadata": {
    "id": "h_43It3N5KnD"
   },
   "source": [
    "Now let's briefly take a look at our data. In their original work Norman et al. labeled groups of perturbations with similar induced gene programs (e.g. inducing expression of megakaryocyte markers). Thus, we would expect perturbed cells to separate by these program labels (found in `adata.obs['gene_program']`).\n",
    "\n",
    "However, contrary to our prior knowledge, we find that perturbed cells do not clearly separate by our gene program labels, and instead separate by confounding variations shared with controls, such as cell cycle phase."
   ]
  },
  {
   "cell_type": "code",
   "execution_count": null,
   "metadata": {
    "colab": {
     "base_uri": "https://localhost:8080/",
     "height": 483
    },
    "id": "eYW1sVy55yyn",
    "outputId": "0e8b1fa7-f713-4595-bbcd-93130c2a6a58"
   },
   "outputs": [],
   "source": [
    "perturbed_adata = adata[\n",
    "    adata.obs[\"gene_program\"] != \"Ctrl\"\n",
    "]  # Only consider perturbed cells\n",
    "\n",
    "sc.pp.neighbors(perturbed_adata)\n",
    "sc.tl.umap(perturbed_adata)\n",
    "sc.pl.umap(perturbed_adata, color=[\"phase\", \"gene_program\"])"
   ]
  },
  {
   "cell_type": "markdown",
   "metadata": {
    "id": "xFD5GZdDuoK8"
   },
   "source": [
    "In the next section, we'll see how to use contrastiveVI to alleviate such issues"
   ]
  },
  {
   "cell_type": "markdown",
   "metadata": {
    "id": "Z1KUSfLO4uZj"
   },
   "source": [
    "## Prepare and run model"
   ]
  },
  {
   "cell_type": "code",
   "execution_count": null,
   "metadata": {
    "colab": {
     "base_uri": "https://localhost:8080/"
    },
    "id": "AdSWhwtO3x_0",
    "outputId": "1808ba5e-6fc6-4c36-e12f-b07bfb03b068"
   },
   "outputs": [],
   "source": [
    "scvi.external.ContrastiveVI.setup_anndata(adata, layer=\"count\")"
   ]
  },
  {
   "cell_type": "markdown",
   "metadata": {
    "id": "cMy9gtKmwRir"
   },
   "source": [
    "contrastiveVI explicitly isolates perturbed-cell-specific variations from variations shared with controls by assuming that the data is generated from two sets of latent variables. The first, called the **_background_** variables, are shared across perturbed and control cells. The second, called the **_salient_** variables, are only active in perturbed cells and are fixed at 0 for controls.\n",
    "\n",
    "Because contrastiveVI uses a single decoder network to reconstruct all cells, the background variables are naturally encouraged during training to capture patterns shared across all cells, while the salient variables instead pick up the remaining perturbed-cell-specific variations (see the contrastiveVI manuscript for additional details)."
   ]
  },
  {
   "cell_type": "code",
   "execution_count": null,
   "metadata": {
    "id": "W1rseYO0xoq3"
   },
   "outputs": [],
   "source": [
    "contrastive_vi_model = scvi.external.ContrastiveVI(\n",
    "    adata, n_salient_latent=10, n_background_latent=10, use_observed_lib_size=False\n",
    ")"
   ]
  },
  {
   "cell_type": "markdown",
   "metadata": {
    "id": "yxYzC8PXu2YT"
   },
   "source": [
    "Before training, we thus need to tell contrastiveVI which cells are only generated from background (i.e., control cells), and which cells are our target (i.e., perturbed cells)."
   ]
  },
  {
   "cell_type": "code",
   "execution_count": null,
   "metadata": {
    "id": "nRONhIkmu3IE"
   },
   "outputs": [],
   "source": [
    "background_indices = np.where(adata.obs[\"gene_program\"] == \"Ctrl\")[0]\n",
    "target_indices = np.where(adata.obs[\"gene_program\"] != \"Ctrl\")[0]"
   ]
  },
  {
   "cell_type": "code",
   "execution_count": null,
   "metadata": {
    "colab": {
     "base_uri": "https://localhost:8080/"
    },
    "id": "QizKU6cexunJ",
    "outputId": "16b28161-6f96-487f-ce43-d1a992711abe"
   },
   "outputs": [],
   "source": [
    "contrastive_vi_model.train(\n",
    "    background_indices=background_indices,\n",
    "    target_indices=target_indices,\n",
    "    early_stopping=True,\n",
    "    max_epochs=500,\n",
    ")"
   ]
  },
  {
   "cell_type": "markdown",
   "metadata": {
    "id": "FkSb05bIw8oC"
   },
   "source": [
    "Now let's get the salient representation of our perturbed cells."
   ]
  },
  {
   "cell_type": "code",
   "execution_count": null,
   "metadata": {
    "colab": {
     "base_uri": "https://localhost:8080/"
    },
    "id": "FvNct7tw4jwz",
    "outputId": "c5724033-e999-4219-a68f-dc37514e5e41"
   },
   "outputs": [],
   "source": [
    "perturbed_adata.obsm[\"salient_rep\"] = contrastive_vi_model.get_latent_representation(\n",
    "    perturbed_adata, representation_kind=\"salient\"\n",
    ")"
   ]
  },
  {
   "cell_type": "markdown",
   "metadata": {
    "id": "V4ApfARmxFqJ"
   },
   "source": [
    "Visualizing these salient representations, we find that they're invariant to the confounding cell-cycle-related variations and now separate clearly by gene program label as desired."
   ]
  },
  {
   "cell_type": "code",
   "execution_count": null,
   "metadata": {
    "colab": {
     "base_uri": "https://localhost:8080/",
     "height": 409
    },
    "id": "VdzcBwZHyY7Q",
    "outputId": "be04a919-363b-4d92-95d5-206aaf69668e"
   },
   "outputs": [],
   "source": [
    "sc.pp.neighbors(perturbed_adata, use_rep=\"salient_rep\")\n",
    "sc.tl.umap(perturbed_adata)\n",
    "sc.pl.umap(perturbed_adata, color=[\"phase\", \"gene_program\"])"
   ]
  }
 ],
 "metadata": {
  "accelerator": "GPU",
  "colab": {
   "provenance": []
  },
  "kernelspec": {
   "display_name": "Python 3",
   "name": "python3"
  },
  "language_info": {
   "codemirror_mode": {
    "name": "ipython",
    "version": 3
   },
   "file_extension": ".py",
   "mimetype": "text/x-python",
   "name": "python",
   "nbconvert_exporter": "python",
   "pygments_lexer": "ipython3",
   "version": "3.11.6"
  },
  "widgets": {
   "application/vnd.jupyter.widget-state+json": {
    "07bd407dfa6a4b9393d9ab6f43fbde32": {
     "model_module": "@jupyter-widgets/base",
     "model_module_version": "1.2.0",
     "model_name": "LayoutModel",
     "state": {
      "_model_module": "@jupyter-widgets/base",
      "_model_module_version": "1.2.0",
      "_model_name": "LayoutModel",
      "_view_count": null,
      "_view_module": "@jupyter-widgets/base",
      "_view_module_version": "1.2.0",
      "_view_name": "LayoutView",
      "align_content": null,
      "align_items": null,
      "align_self": null,
      "border": null,
      "bottom": null,
      "display": null,
      "flex": null,
      "flex_flow": null,
      "grid_area": null,
      "grid_auto_columns": null,
      "grid_auto_flow": null,
      "grid_auto_rows": null,
      "grid_column": null,
      "grid_gap": null,
      "grid_row": null,
      "grid_template_areas": null,
      "grid_template_columns": null,
      "grid_template_rows": null,
      "height": null,
      "justify_content": null,
      "justify_items": null,
      "left": null,
      "margin": null,
      "max_height": null,
      "max_width": null,
      "min_height": null,
      "min_width": null,
      "object_fit": null,
      "object_position": null,
      "order": null,
      "overflow": null,
      "overflow_x": null,
      "overflow_y": null,
      "padding": null,
      "right": null,
      "top": null,
      "visibility": null,
      "width": null
     }
    },
    "1bd130a7363646e9bae0aa872f88a0a1": {
     "model_module": "@jupyter-widgets/base",
     "model_module_version": "1.2.0",
     "model_name": "LayoutModel",
     "state": {
      "_model_module": "@jupyter-widgets/base",
      "_model_module_version": "1.2.0",
      "_model_name": "LayoutModel",
      "_view_count": null,
      "_view_module": "@jupyter-widgets/base",
      "_view_module_version": "1.2.0",
      "_view_name": "LayoutView",
      "align_content": null,
      "align_items": null,
      "align_self": null,
      "border": null,
      "bottom": null,
      "display": null,
      "flex": null,
      "flex_flow": null,
      "grid_area": null,
      "grid_auto_columns": null,
      "grid_auto_flow": null,
      "grid_auto_rows": null,
      "grid_column": null,
      "grid_gap": null,
      "grid_row": null,
      "grid_template_areas": null,
      "grid_template_columns": null,
      "grid_template_rows": null,
      "height": null,
      "justify_content": null,
      "justify_items": null,
      "left": null,
      "margin": null,
      "max_height": null,
      "max_width": null,
      "min_height": null,
      "min_width": null,
      "object_fit": null,
      "object_position": null,
      "order": null,
      "overflow": null,
      "overflow_x": null,
      "overflow_y": null,
      "padding": null,
      "right": null,
      "top": null,
      "visibility": null,
      "width": null
     }
    },
    "1d68a278496a460db550884656695f78": {
     "model_module": "@jupyter-widgets/controls",
     "model_module_version": "1.5.0",
     "model_name": "HTMLModel",
     "state": {
      "_dom_classes": [],
      "_model_module": "@jupyter-widgets/controls",
      "_model_module_version": "1.5.0",
      "_model_name": "HTMLModel",
      "_view_count": null,
      "_view_module": "@jupyter-widgets/controls",
      "_view_module_version": "1.5.0",
      "_view_name": "HTMLView",
      "description": "",
      "description_tooltip": null,
      "layout": "IPY_MODEL_f3ca49eba3c34cf1938661a0e9acbf81",
      "placeholder": "​",
      "style": "IPY_MODEL_96d7d837e4c84315a8110a0ece0203d1",
      "value": " 3.89G/3.89G [03:00&lt;00:00, 23.4MB/s]"
     }
    },
    "3fb7ef2e3b3b4fae901c9da42868553c": {
     "model_module": "@jupyter-widgets/controls",
     "model_module_version": "1.5.0",
     "model_name": "HTMLModel",
     "state": {
      "_dom_classes": [],
      "_model_module": "@jupyter-widgets/controls",
      "_model_module_version": "1.5.0",
      "_model_name": "HTMLModel",
      "_view_count": null,
      "_view_module": "@jupyter-widgets/controls",
      "_view_module_version": "1.5.0",
      "_view_name": "HTMLView",
      "description": "",
      "description_tooltip": null,
      "layout": "IPY_MODEL_dd5f983b24f34b5e86b33d8fbdce2e4e",
      "placeholder": "​",
      "style": "IPY_MODEL_9b6baedec7a3492d9cf1eb88ff27e30b",
      "value": "100%"
     }
    },
    "5ef432665f624f1781c2890eb8674fd4": {
     "model_module": "@jupyter-widgets/controls",
     "model_module_version": "1.5.0",
     "model_name": "ProgressStyleModel",
     "state": {
      "_model_module": "@jupyter-widgets/controls",
      "_model_module_version": "1.5.0",
      "_model_name": "ProgressStyleModel",
      "_view_count": null,
      "_view_module": "@jupyter-widgets/base",
      "_view_module_version": "1.2.0",
      "_view_name": "StyleView",
      "bar_color": null,
      "description_width": ""
     }
    },
    "96d7d837e4c84315a8110a0ece0203d1": {
     "model_module": "@jupyter-widgets/controls",
     "model_module_version": "1.5.0",
     "model_name": "DescriptionStyleModel",
     "state": {
      "_model_module": "@jupyter-widgets/controls",
      "_model_module_version": "1.5.0",
      "_model_name": "DescriptionStyleModel",
      "_view_count": null,
      "_view_module": "@jupyter-widgets/base",
      "_view_module_version": "1.2.0",
      "_view_name": "StyleView",
      "description_width": ""
     }
    },
    "9b6baedec7a3492d9cf1eb88ff27e30b": {
     "model_module": "@jupyter-widgets/controls",
     "model_module_version": "1.5.0",
     "model_name": "DescriptionStyleModel",
     "state": {
      "_model_module": "@jupyter-widgets/controls",
      "_model_module_version": "1.5.0",
      "_model_name": "DescriptionStyleModel",
      "_view_count": null,
      "_view_module": "@jupyter-widgets/base",
      "_view_module_version": "1.2.0",
      "_view_name": "StyleView",
      "description_width": ""
     }
    },
    "aa253192059241d18eb87b2f5a2638c5": {
     "model_module": "@jupyter-widgets/controls",
     "model_module_version": "1.5.0",
     "model_name": "FloatProgressModel",
     "state": {
      "_dom_classes": [],
      "_model_module": "@jupyter-widgets/controls",
      "_model_module_version": "1.5.0",
      "_model_name": "FloatProgressModel",
      "_view_count": null,
      "_view_module": "@jupyter-widgets/controls",
      "_view_module_version": "1.5.0",
      "_view_name": "ProgressView",
      "bar_style": "success",
      "description": "",
      "description_tooltip": null,
      "layout": "IPY_MODEL_07bd407dfa6a4b9393d9ab6f43fbde32",
      "max": 4178829846,
      "min": 0,
      "orientation": "horizontal",
      "style": "IPY_MODEL_5ef432665f624f1781c2890eb8674fd4",
      "value": 4178829846
     }
    },
    "d19d73af8cc846329bc8cbac5e4f20dc": {
     "model_module": "@jupyter-widgets/controls",
     "model_module_version": "1.5.0",
     "model_name": "HBoxModel",
     "state": {
      "_dom_classes": [],
      "_model_module": "@jupyter-widgets/controls",
      "_model_module_version": "1.5.0",
      "_model_name": "HBoxModel",
      "_view_count": null,
      "_view_module": "@jupyter-widgets/controls",
      "_view_module_version": "1.5.0",
      "_view_name": "HBoxView",
      "box_style": "",
      "children": [
       "IPY_MODEL_3fb7ef2e3b3b4fae901c9da42868553c",
       "IPY_MODEL_aa253192059241d18eb87b2f5a2638c5",
       "IPY_MODEL_1d68a278496a460db550884656695f78"
      ],
      "layout": "IPY_MODEL_1bd130a7363646e9bae0aa872f88a0a1"
     }
    },
    "dd5f983b24f34b5e86b33d8fbdce2e4e": {
     "model_module": "@jupyter-widgets/base",
     "model_module_version": "1.2.0",
     "model_name": "LayoutModel",
     "state": {
      "_model_module": "@jupyter-widgets/base",
      "_model_module_version": "1.2.0",
      "_model_name": "LayoutModel",
      "_view_count": null,
      "_view_module": "@jupyter-widgets/base",
      "_view_module_version": "1.2.0",
      "_view_name": "LayoutView",
      "align_content": null,
      "align_items": null,
      "align_self": null,
      "border": null,
      "bottom": null,
      "display": null,
      "flex": null,
      "flex_flow": null,
      "grid_area": null,
      "grid_auto_columns": null,
      "grid_auto_flow": null,
      "grid_auto_rows": null,
      "grid_column": null,
      "grid_gap": null,
      "grid_row": null,
      "grid_template_areas": null,
      "grid_template_columns": null,
      "grid_template_rows": null,
      "height": null,
      "justify_content": null,
      "justify_items": null,
      "left": null,
      "margin": null,
      "max_height": null,
      "max_width": null,
      "min_height": null,
      "min_width": null,
      "object_fit": null,
      "object_position": null,
      "order": null,
      "overflow": null,
      "overflow_x": null,
      "overflow_y": null,
      "padding": null,
      "right": null,
      "top": null,
      "visibility": null,
      "width": null
     }
    },
    "f3ca49eba3c34cf1938661a0e9acbf81": {
     "model_module": "@jupyter-widgets/base",
     "model_module_version": "1.2.0",
     "model_name": "LayoutModel",
     "state": {
      "_model_module": "@jupyter-widgets/base",
      "_model_module_version": "1.2.0",
      "_model_name": "LayoutModel",
      "_view_count": null,
      "_view_module": "@jupyter-widgets/base",
      "_view_module_version": "1.2.0",
      "_view_name": "LayoutView",
      "align_content": null,
      "align_items": null,
      "align_self": null,
      "border": null,
      "bottom": null,
      "display": null,
      "flex": null,
      "flex_flow": null,
      "grid_area": null,
      "grid_auto_columns": null,
      "grid_auto_flow": null,
      "grid_auto_rows": null,
      "grid_column": null,
      "grid_gap": null,
      "grid_row": null,
      "grid_template_areas": null,
      "grid_template_columns": null,
      "grid_template_rows": null,
      "height": null,
      "justify_content": null,
      "justify_items": null,
      "left": null,
      "margin": null,
      "max_height": null,
      "max_width": null,
      "min_height": null,
      "min_width": null,
      "object_fit": null,
      "object_position": null,
      "order": null,
      "overflow": null,
      "overflow_x": null,
      "overflow_y": null,
      "padding": null,
      "right": null,
      "top": null,
      "visibility": null,
      "width": null
     }
    }
   }
  }
 },
 "nbformat": 4,
 "nbformat_minor": 0
}
