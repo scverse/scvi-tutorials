{
 "cells": [
  {
   "attachments": {},
   "cell_type": "markdown",
   "metadata": {
    "colab_type": "text",
    "id": "LQNi8aIsijzk"
   },
   "source": [
    "# Identification of zero-inflated genes"
   ]
  },
  {
   "attachments": {},
   "cell_type": "markdown",
   "metadata": {
    "colab_type": "text",
    "id": "W7cITGhKijzn"
   },
   "source": [
    "AutoZI is a deep generative model adapted from scVI allowing a gene-specific treatment of zero-inflation. For each gene $g$, AutoZI notably learns the distribution of a random variable $\\delta_g$ which denotes the probability that gene $g$ is not zero-inflated. In this notebook, we present the use of the model on a PBMC dataset.\n",
    "\n",
    "More details about AutoZI can be found in : https://www.biorxiv.org/content/10.1101/794875v2"
   ]
  },
  {
   "cell_type": "markdown",
   "metadata": {},
   "source": [
    "```{note}\n",
    "Running the following cell will install tutorial dependencies on Google Colab only. It will have no effect on environments other than Google Colab.\n",
    "```"
   ]
  },
  {
   "cell_type": "code",
   "execution_count": 1,
   "metadata": {
    "execution": {
     "iopub.execute_input": "2024-02-12T17:59:02.362360Z",
     "iopub.status.busy": "2024-02-12T17:59:02.362192Z",
     "iopub.status.idle": "2024-02-12T17:59:05.175182Z",
     "shell.execute_reply": "2024-02-12T17:59:05.174662Z"
    }
   },
   "outputs": [
    {
     "name": "stdout",
     "output_type": "stream",
     "text": [
      "\u001b[33mWARNING: Running pip as the 'root' user can result in broken permissions and conflicting behaviour with the system package manager. It is recommended to use a virtual environment instead: https://pip.pypa.io/warnings/venv\u001b[0m\u001b[33m\r\n",
      "\u001b[0m"
     ]
    },
    {
     "name": "stderr",
     "output_type": "stream",
     "text": [
      "/env/lib/python3.11/site-packages/scvi_colab/_core.py:41: UserWarning: \n",
      "                Not currently in Google Colab environment.\n",
      "\n",
      "                Please run with `run_outside_colab=True` to override.\n",
      "\n",
      "                Returning with no further action.\n",
      "                \n",
      "  warn(\n"
     ]
    }
   ],
   "source": [
    "!pip install --quiet scvi-colab\n",
    "from scvi_colab import install\n",
    "\n",
    "install()"
   ]
  },
  {
   "cell_type": "code",
   "execution_count": 2,
   "metadata": {
    "colab": {
     "base_uri": "https://localhost:8080/",
     "height": 382
    },
    "colab_type": "code",
    "execution": {
     "iopub.execute_input": "2024-02-12T17:59:05.176893Z",
     "iopub.status.busy": "2024-02-12T17:59:05.176763Z",
     "iopub.status.idle": "2024-02-12T17:59:08.381392Z",
     "shell.execute_reply": "2024-02-12T17:59:08.380904Z"
    },
    "id": "kTvfZsr5jBT6",
    "outputId": "ec8f5e92-6210-4b12-8725-6f0d24fab440"
   },
   "outputs": [],
   "source": [
    "import tempfile\n",
    "\n",
    "import numpy as np\n",
    "import scanpy as sc\n",
    "import scvi\n",
    "import seaborn as sns\n",
    "import torch\n",
    "from scipy.stats import beta"
   ]
  },
  {
   "cell_type": "code",
   "execution_count": 3,
   "metadata": {
    "execution": {
     "iopub.execute_input": "2024-02-12T17:59:08.383469Z",
     "iopub.status.busy": "2024-02-12T17:59:08.383160Z",
     "iopub.status.idle": "2024-02-12T17:59:08.387099Z",
     "shell.execute_reply": "2024-02-12T17:59:08.386708Z"
    }
   },
   "outputs": [
    {
     "name": "stderr",
     "output_type": "stream",
     "text": [
      "Seed set to 0\n"
     ]
    },
    {
     "name": "stdout",
     "output_type": "stream",
     "text": [
      "Last run with scvi-tools version: 1.1.0\n"
     ]
    }
   ],
   "source": [
    "scvi.settings.seed = 0\n",
    "print(\"Last run with scvi-tools version:\", scvi.__version__)"
   ]
  },
  {
   "cell_type": "markdown",
   "metadata": {},
   "source": [
    "```{note}\n",
    "You can modify `save_dir` below to change where the data files for this tutorial are saved.\n",
    "```"
   ]
  },
  {
   "cell_type": "code",
   "execution_count": 4,
   "metadata": {
    "execution": {
     "iopub.execute_input": "2024-02-12T17:59:08.388751Z",
     "iopub.status.busy": "2024-02-12T17:59:08.388597Z",
     "iopub.status.idle": "2024-02-12T17:59:08.398772Z",
     "shell.execute_reply": "2024-02-12T17:59:08.398357Z"
    }
   },
   "outputs": [],
   "source": [
    "sc.set_figure_params(figsize=(6, 6), frameon=False)\n",
    "sns.set_theme()\n",
    "torch.set_float32_matmul_precision(\"high\")\n",
    "save_dir = tempfile.TemporaryDirectory()\n",
    "\n",
    "%config InlineBackend.print_figure_kwargs={\"facecolor\": \"w\"}\n",
    "%config InlineBackend.figure_format=\"retina\""
   ]
  },
  {
   "attachments": {},
   "cell_type": "markdown",
   "metadata": {
    "colab_type": "text",
    "id": "mC-uVd3zijz7"
   },
   "source": [
    "## Imports, data loading and preparation"
   ]
  },
  {
   "cell_type": "code",
   "execution_count": 5,
   "metadata": {
    "colab": {
     "base_uri": "https://localhost:8080/",
     "height": 330
    },
    "colab_type": "code",
    "execution": {
     "iopub.execute_input": "2024-02-12T17:59:08.400370Z",
     "iopub.status.busy": "2024-02-12T17:59:08.400218Z",
     "iopub.status.idle": "2024-02-12T17:59:16.424589Z",
     "shell.execute_reply": "2024-02-12T17:59:16.424136Z"
    },
    "id": "j27g4M4Uij0F",
    "outputId": "3af26218-d43a-437a-c5e4-a35ec5093177"
   },
   "outputs": [
    {
     "name": "stdout",
     "output_type": "stream",
     "text": [
      "\u001b[34mINFO    \u001b[0m Downloading file at \u001b[35m/tmp/tmpz2r8k26v/\u001b[0m\u001b[95mgene_info_pbmc.csv\u001b[0m                                                   \n"
     ]
    },
    {
     "name": "stdout",
     "output_type": "stream",
     "text": [
      "\r",
      "Downloading...:   0%|          | 0/908.0 [00:00<?, ?it/s]"
     ]
    },
    {
     "name": "stdout",
     "output_type": "stream",
     "text": [
      "\r",
      "Downloading...: 909it [00:00, 22863.34it/s]              "
     ]
    },
    {
     "name": "stdout",
     "output_type": "stream",
     "text": [
      "\n"
     ]
    },
    {
     "name": "stdout",
     "output_type": "stream",
     "text": [
      "\u001b[34mINFO    \u001b[0m Downloading file at \u001b[35m/tmp/tmpz2r8k26v/\u001b[0m\u001b[95mpbmc_metadata.pickle\u001b[0m                                                 \n"
     ]
    },
    {
     "name": "stdout",
     "output_type": "stream",
     "text": [
      "\r",
      "Downloading...:   0%|          | 0/4000.0 [00:00<?, ?it/s]"
     ]
    },
    {
     "name": "stdout",
     "output_type": "stream",
     "text": [
      "\r",
      "Downloading...: 4001it [00:00, 53094.64it/s]              "
     ]
    },
    {
     "name": "stdout",
     "output_type": "stream",
     "text": [
      "\n"
     ]
    },
    {
     "name": "stdout",
     "output_type": "stream",
     "text": [
      "\u001b[34mINFO    \u001b[0m Downloading file at \u001b[35m/tmp/tmpz2r8k26v/pbmc8k/\u001b[0m\u001b[95mfiltered_gene_bc_matrices.tar.gz\u001b[0m                              \n"
     ]
    },
    {
     "name": "stdout",
     "output_type": "stream",
     "text": [
      "\r",
      "Downloading...:   0%|          | 0/37558.0 [00:00<?, ?it/s]"
     ]
    },
    {
     "name": "stdout",
     "output_type": "stream",
     "text": [
      "\r",
      "Downloading...:  27%|██▋       | 10001/37558.0 [00:00<00:00, 98704.48it/s]"
     ]
    },
    {
     "name": "stdout",
     "output_type": "stream",
     "text": [
      "\r",
      "Downloading...:  59%|█████▉    | 22084/37558.0 [00:00<00:00, 109972.88it/s]"
     ]
    },
    {
     "name": "stdout",
     "output_type": "stream",
     "text": [
      "\r",
      "Downloading...:  91%|█████████ | 34233/37558.0 [00:00<00:00, 113413.73it/s]"
     ]
    },
    {
     "name": "stdout",
     "output_type": "stream",
     "text": [
      "\r",
      "Downloading...: 37559it [00:00, 113542.09it/s]                             "
     ]
    },
    {
     "name": "stdout",
     "output_type": "stream",
     "text": [
      "\n",
      "\u001b[34mINFO    \u001b[0m Extracting tar file                                                                                       \n"
     ]
    },
    {
     "name": "stdout",
     "output_type": "stream",
     "text": [
      "\u001b[34mINFO    \u001b[0m Removing extracted data at \u001b[35m/tmp/tmpz2r8k26v/pbmc8k/\u001b[0m\u001b[95mfiltered_gene_bc_matrices\u001b[0m                              \n"
     ]
    },
    {
     "name": "stdout",
     "output_type": "stream",
     "text": [
      "\u001b[34mINFO    \u001b[0m Downloading file at \u001b[35m/tmp/tmpz2r8k26v/pbmc4k/\u001b[0m\u001b[95mfiltered_gene_bc_matrices.tar.gz\u001b[0m                              \n"
     ]
    },
    {
     "name": "stdout",
     "output_type": "stream",
     "text": [
      "\r",
      "Downloading...:   0%|          | 0/18424.0 [00:00<?, ?it/s]"
     ]
    },
    {
     "name": "stdout",
     "output_type": "stream",
     "text": [
      "\r",
      "Downloading...:  56%|█████▋    | 10369/18424.0 [00:00<00:00, 103649.32it/s]"
     ]
    },
    {
     "name": "stdout",
     "output_type": "stream",
     "text": [
      "\r",
      "Downloading...: 100%|██████████| 18424/18424.0 [00:00<00:00, 98338.49it/s] "
     ]
    },
    {
     "name": "stdout",
     "output_type": "stream",
     "text": [
      "\n",
      "\u001b[34mINFO    \u001b[0m Extracting tar file                                                                                       \n"
     ]
    },
    {
     "name": "stdout",
     "output_type": "stream",
     "text": [
      "\u001b[34mINFO    \u001b[0m Removing extracted data at \u001b[35m/tmp/tmpz2r8k26v/pbmc4k/\u001b[0m\u001b[95mfiltered_gene_bc_matrices\u001b[0m                              \n"
     ]
    },
    {
     "name": "stderr",
     "output_type": "stream",
     "text": [
      "/env/lib/python3.11/site-packages/scvi/data/_built_in_data/_pbmc.py:75: FutureWarning: Use anndata.concat instead of AnnData.concatenate, AnnData.concatenate is deprecated and will be removed in the future. See the tutorial for concat at: https://anndata.readthedocs.io/en/latest/concatenation.html\n",
      "  adata = pbmc8k.concatenate(pbmc4k)\n"
     ]
    },
    {
     "name": "stderr",
     "output_type": "stream",
     "text": [
      "<frozen abc>:119: FutureWarning: SparseDataset is deprecated and will be removed in late 2024. It has been replaced by the public classes CSRDataset and CSCDataset.\n",
      "\n",
      "For instance checks, use `isinstance(X, (anndata.experimental.CSRDataset, anndata.experimental.CSCDataset))` instead.\n",
      "\n",
      "For creation, use `anndata.experimental.sparse_dataset(X)` instead.\n",
      "\n"
     ]
    },
    {
     "name": "stdout",
     "output_type": "stream",
     "text": [
      "\r",
      "Sampling from binomial...:   0%|          | 0/10000 [00:00<?, ?it/s]"
     ]
    },
    {
     "name": "stdout",
     "output_type": "stream",
     "text": [
      "\r",
      "Sampling from binomial...:  19%|█▊        | 1864/10000 [00:00<00:00, 18638.42it/s]"
     ]
    },
    {
     "name": "stdout",
     "output_type": "stream",
     "text": [
      "\r",
      "Sampling from binomial...:  37%|███▋      | 3728/10000 [00:00<00:00, 17752.57it/s]"
     ]
    },
    {
     "name": "stdout",
     "output_type": "stream",
     "text": [
      "\r",
      "Sampling from binomial...:  55%|█████▌    | 5507/10000 [00:00<00:00, 17704.11it/s]"
     ]
    },
    {
     "name": "stdout",
     "output_type": "stream",
     "text": [
      "\r",
      "Sampling from binomial...:  73%|███████▎  | 7279/10000 [00:00<00:00, 17679.53it/s]"
     ]
    },
    {
     "name": "stdout",
     "output_type": "stream",
     "text": [
      "\r",
      "Sampling from binomial...:  90%|█████████ | 9048/10000 [00:00<00:00, 17661.60it/s]"
     ]
    },
    {
     "name": "stdout",
     "output_type": "stream",
     "text": [
      "\r",
      "Sampling from binomial...: 100%|██████████| 10000/10000 [00:00<00:00, 17726.14it/s]"
     ]
    },
    {
     "name": "stdout",
     "output_type": "stream",
     "text": [
      "\n"
     ]
    },
    {
     "name": "stdout",
     "output_type": "stream",
     "text": [
      "\r",
      "Sampling from binomial...:   0%|          | 0/10000 [00:00<?, ?it/s]"
     ]
    },
    {
     "name": "stdout",
     "output_type": "stream",
     "text": [
      "\r",
      "Sampling from binomial...:  21%|██        | 2069/10000 [00:00<00:00, 20682.77it/s]"
     ]
    },
    {
     "name": "stdout",
     "output_type": "stream",
     "text": [
      "\r",
      "Sampling from binomial...:  41%|████▏     | 4138/10000 [00:00<00:00, 19124.51it/s]"
     ]
    },
    {
     "name": "stdout",
     "output_type": "stream",
     "text": [
      "\r",
      "Sampling from binomial...:  61%|██████    | 6059/10000 [00:00<00:00, 18682.39it/s]"
     ]
    },
    {
     "name": "stdout",
     "output_type": "stream",
     "text": [
      "\r",
      "Sampling from binomial...:  79%|███████▉  | 7931/10000 [00:00<00:00, 18477.01it/s]"
     ]
    },
    {
     "name": "stdout",
     "output_type": "stream",
     "text": [
      "\r",
      "Sampling from binomial...:  98%|█████████▊| 9781/10000 [00:00<00:00, 18366.37it/s]"
     ]
    },
    {
     "name": "stdout",
     "output_type": "stream",
     "text": [
      "\r",
      "Sampling from binomial...: 100%|██████████| 10000/10000 [00:00<00:00, 18625.46it/s]"
     ]
    },
    {
     "name": "stdout",
     "output_type": "stream",
     "text": [
      "\n"
     ]
    }
   ],
   "source": [
    "adata = scvi.data.pbmc_dataset(save_path=save_dir.name)\n",
    "adata.layers[\"counts\"] = adata.X.copy()\n",
    "scvi.data.poisson_gene_selection(\n",
    "    adata,\n",
    "    n_top_genes=1000,\n",
    "    batch_key=\"batch\",\n",
    "    subset=True,\n",
    "    layer=\"counts\",\n",
    ")\n",
    "scvi.model.AUTOZI.setup_anndata(\n",
    "    adata,\n",
    "    labels_key=\"str_labels\",\n",
    "    batch_key=\"batch\",\n",
    "    layer=\"counts\",\n",
    ")"
   ]
  },
  {
   "attachments": {},
   "cell_type": "markdown",
   "metadata": {
    "colab_type": "text",
    "id": "cYPYNAwRij0M"
   },
   "source": [
    "## Analyze gene-specific ZI"
   ]
  },
  {
   "attachments": {},
   "cell_type": "markdown",
   "metadata": {
    "colab_type": "text",
    "id": "6ovhk47Oij0N"
   },
   "source": [
    "In AutoZI, all $\\delta_g$'s follow a common $\\text{Beta}(\\alpha,\\beta)$ prior distribution where $\\alpha,\\beta \\in (0,1)$ and the zero-inflation probability in the ZINB component is bounded below by $\\tau_{\\text{dropout}} \\in (0,1)$. AutoZI is encoded by the `AutoZIVAE` class whose inputs, besides the size of the dataset, are $\\alpha$ (`alpha_prior`), $\\beta$ (`beta_prior`), $\\tau_{\\text{dropout}}$ (`minimal_dropout`). By default, we set $\\alpha = 0.5, \\beta = 0.5, \\tau_{\\text{dropout}} = 0.01$.\n",
    "\n",
    "Note : we can learn $\\alpha,\\beta$ in an Empirical Bayes fashion, which is possible by setting `alpha_prior = None` and `beta_prior = None`"
   ]
  },
  {
   "cell_type": "code",
   "execution_count": 6,
   "metadata": {
    "colab": {},
    "colab_type": "code",
    "execution": {
     "iopub.execute_input": "2024-02-12T17:59:16.426457Z",
     "iopub.status.busy": "2024-02-12T17:59:16.426289Z",
     "iopub.status.idle": "2024-02-12T17:59:16.456215Z",
     "shell.execute_reply": "2024-02-12T17:59:16.455743Z"
    },
    "id": "khMZvSw5ij0O"
   },
   "outputs": [],
   "source": [
    "model = scvi.model.AUTOZI(adata)"
   ]
  },
  {
   "attachments": {},
   "cell_type": "markdown",
   "metadata": {
    "colab_type": "text",
    "id": "HXOSTMrLij0V"
   },
   "source": [
    "We fit, for each gene $g$, an approximate posterior distribution $q(\\delta_g) = \\text{Beta}(\\alpha^g,\\beta^g)$ (with $\\alpha^g,\\beta^g \\in (0,1)$) on which we rely. We retrieve $\\alpha^g,\\beta^g$ for all genes $g$ (and $\\alpha,\\beta$, if learned) as numpy arrays using the method `get_alphas_betas` of `AutoZIVAE`."
   ]
  },
  {
   "cell_type": "code",
   "execution_count": 7,
   "metadata": {
    "colab": {
     "base_uri": "https://localhost:8080/",
     "height": 173,
     "referenced_widgets": [
      "4d7ac4d4d06b46f68e47d51f45f3d93a",
      "086bfdcc78404f66be5ec5233b85067c"
     ]
    },
    "colab_type": "code",
    "execution": {
     "iopub.execute_input": "2024-02-12T17:59:16.457882Z",
     "iopub.status.busy": "2024-02-12T17:59:16.457696Z",
     "iopub.status.idle": "2024-02-12T18:01:28.782964Z",
     "shell.execute_reply": "2024-02-12T18:01:28.782532Z"
    },
    "id": "__RPOTF2ij0W",
    "outputId": "3c17fcfb-f5fc-40e3-f13b-b88d953ec6b1"
   },
   "outputs": [
    {
     "name": "stderr",
     "output_type": "stream",
     "text": [
      "GPU available: True (cuda), used: True\n"
     ]
    },
    {
     "name": "stderr",
     "output_type": "stream",
     "text": [
      "TPU available: False, using: 0 TPU cores\n"
     ]
    },
    {
     "name": "stderr",
     "output_type": "stream",
     "text": [
      "IPU available: False, using: 0 IPUs\n"
     ]
    },
    {
     "name": "stderr",
     "output_type": "stream",
     "text": [
      "HPU available: False, using: 0 HPUs\n"
     ]
    },
    {
     "name": "stderr",
     "output_type": "stream",
     "text": [
      "LOCAL_RANK: 0 - CUDA_VISIBLE_DEVICES: [0]\n"
     ]
    },
    {
     "name": "stderr",
     "output_type": "stream",
     "text": [
      "/env/lib/python3.11/site-packages/lightning/pytorch/trainer/connectors/data_connector.py:441: The 'train_dataloader' does not have many workers which may be a bottleneck. Consider increasing the value of the `num_workers` argument` to `num_workers=19` in the `DataLoader` to improve performance.\n"
     ]
    },
    {
     "name": "stdout",
     "output_type": "stream",
     "text": [
      "\r",
      "Training:   0%|          | 0/200 [00:00<?, ?it/s]"
     ]
    },
    {
     "name": "stdout",
     "output_type": "stream",
     "text": [
      "\r",
      "Epoch 1/200:   0%|          | 0/200 [00:00<?, ?it/s]"
     ]
    },
    {
     "name": "stdout",
     "output_type": "stream",
     "text": [
      "\r",
      "Epoch 1/200:   0%|          | 1/200 [00:02<06:51,  2.07s/it]"
     ]
    },
    {
     "name": "stdout",
     "output_type": "stream",
     "text": [
      "\r",
      "Epoch 1/200:   0%|          | 1/200 [00:02<06:51,  2.07s/it, v_num=1, train_loss_step=8.41e+6, train_loss_epoch=8.44e+6]"
     ]
    },
    {
     "name": "stdout",
     "output_type": "stream",
     "text": [
      "\r",
      "Epoch 2/200:   0%|          | 1/200 [00:02<06:51,  2.07s/it, v_num=1, train_loss_step=8.41e+6, train_loss_epoch=8.44e+6]"
     ]
    },
    {
     "name": "stdout",
     "output_type": "stream",
     "text": [
      "\r",
      "Epoch 2/200:   1%|          | 2/200 [00:02<04:05,  1.24s/it, v_num=1, train_loss_step=8.41e+6, train_loss_epoch=8.44e+6]"
     ]
    },
    {
     "name": "stdout",
     "output_type": "stream",
     "text": [
      "\r",
      "Epoch 2/200:   1%|          | 2/200 [00:02<04:05,  1.24s/it, v_num=1, train_loss_step=8.1e+6, train_loss_epoch=8.07e+6] "
     ]
    },
    {
     "name": "stdout",
     "output_type": "stream",
     "text": [
      "\r",
      "Epoch 3/200:   1%|          | 2/200 [00:02<04:05,  1.24s/it, v_num=1, train_loss_step=8.1e+6, train_loss_epoch=8.07e+6]"
     ]
    },
    {
     "name": "stdout",
     "output_type": "stream",
     "text": [
      "\r",
      "Epoch 3/200:   2%|▏         | 3/200 [00:03<03:12,  1.03it/s, v_num=1, train_loss_step=8.1e+6, train_loss_epoch=8.07e+6]"
     ]
    },
    {
     "name": "stdout",
     "output_type": "stream",
     "text": [
      "\r",
      "Epoch 3/200:   2%|▏         | 3/200 [00:03<03:12,  1.03it/s, v_num=1, train_loss_step=8.36e+6, train_loss_epoch=7.95e+6]"
     ]
    },
    {
     "name": "stdout",
     "output_type": "stream",
     "text": [
      "\r",
      "Epoch 4/200:   2%|▏         | 3/200 [00:03<03:12,  1.03it/s, v_num=1, train_loss_step=8.36e+6, train_loss_epoch=7.95e+6]"
     ]
    },
    {
     "name": "stdout",
     "output_type": "stream",
     "text": [
      "\r",
      "Epoch 4/200:   2%|▏         | 4/200 [00:04<02:46,  1.18it/s, v_num=1, train_loss_step=8.36e+6, train_loss_epoch=7.95e+6]"
     ]
    },
    {
     "name": "stdout",
     "output_type": "stream",
     "text": [
      "\r",
      "Epoch 4/200:   2%|▏         | 4/200 [00:04<02:46,  1.18it/s, v_num=1, train_loss_step=7.48e+6, train_loss_epoch=7.9e+6] "
     ]
    },
    {
     "name": "stdout",
     "output_type": "stream",
     "text": [
      "\r",
      "Epoch 5/200:   2%|▏         | 4/200 [00:04<02:46,  1.18it/s, v_num=1, train_loss_step=7.48e+6, train_loss_epoch=7.9e+6]"
     ]
    },
    {
     "name": "stdout",
     "output_type": "stream",
     "text": [
      "\r",
      "Epoch 5/200:   2%|▎         | 5/200 [00:04<02:32,  1.28it/s, v_num=1, train_loss_step=7.48e+6, train_loss_epoch=7.9e+6]"
     ]
    },
    {
     "name": "stdout",
     "output_type": "stream",
     "text": [
      "\r",
      "Epoch 5/200:   2%|▎         | 5/200 [00:04<02:32,  1.28it/s, v_num=1, train_loss_step=8.1e+6, train_loss_epoch=7.85e+6]"
     ]
    },
    {
     "name": "stdout",
     "output_type": "stream",
     "text": [
      "\r",
      "Epoch 6/200:   2%|▎         | 5/200 [00:04<02:32,  1.28it/s, v_num=1, train_loss_step=8.1e+6, train_loss_epoch=7.85e+6]"
     ]
    },
    {
     "name": "stdout",
     "output_type": "stream",
     "text": [
      "\r",
      "Epoch 6/200:   3%|▎         | 6/200 [00:05<02:23,  1.35it/s, v_num=1, train_loss_step=8.1e+6, train_loss_epoch=7.85e+6]"
     ]
    },
    {
     "name": "stdout",
     "output_type": "stream",
     "text": [
      "\r",
      "Epoch 6/200:   3%|▎         | 6/200 [00:05<02:23,  1.35it/s, v_num=1, train_loss_step=8.44e+6, train_loss_epoch=7.83e+6]"
     ]
    },
    {
     "name": "stdout",
     "output_type": "stream",
     "text": [
      "\r",
      "Epoch 7/200:   3%|▎         | 6/200 [00:05<02:23,  1.35it/s, v_num=1, train_loss_step=8.44e+6, train_loss_epoch=7.83e+6]"
     ]
    },
    {
     "name": "stdout",
     "output_type": "stream",
     "text": [
      "\r",
      "Epoch 7/200:   4%|▎         | 7/200 [00:06<02:17,  1.40it/s, v_num=1, train_loss_step=8.44e+6, train_loss_epoch=7.83e+6]"
     ]
    },
    {
     "name": "stdout",
     "output_type": "stream",
     "text": [
      "\r",
      "Epoch 7/200:   4%|▎         | 7/200 [00:06<02:17,  1.40it/s, v_num=1, train_loss_step=7.64e+6, train_loss_epoch=7.81e+6]"
     ]
    },
    {
     "name": "stdout",
     "output_type": "stream",
     "text": [
      "\r",
      "Epoch 8/200:   4%|▎         | 7/200 [00:06<02:17,  1.40it/s, v_num=1, train_loss_step=7.64e+6, train_loss_epoch=7.81e+6]"
     ]
    },
    {
     "name": "stdout",
     "output_type": "stream",
     "text": [
      "\r",
      "Epoch 8/200:   4%|▍         | 8/200 [00:06<02:13,  1.44it/s, v_num=1, train_loss_step=7.64e+6, train_loss_epoch=7.81e+6]"
     ]
    },
    {
     "name": "stdout",
     "output_type": "stream",
     "text": [
      "\r",
      "Epoch 8/200:   4%|▍         | 8/200 [00:06<02:13,  1.44it/s, v_num=1, train_loss_step=7.59e+6, train_loss_epoch=7.8e+6] "
     ]
    },
    {
     "name": "stdout",
     "output_type": "stream",
     "text": [
      "\r",
      "Epoch 9/200:   4%|▍         | 8/200 [00:06<02:13,  1.44it/s, v_num=1, train_loss_step=7.59e+6, train_loss_epoch=7.8e+6]"
     ]
    },
    {
     "name": "stdout",
     "output_type": "stream",
     "text": [
      "\r",
      "Epoch 9/200:   4%|▍         | 9/200 [00:07<02:10,  1.46it/s, v_num=1, train_loss_step=7.59e+6, train_loss_epoch=7.8e+6]"
     ]
    },
    {
     "name": "stdout",
     "output_type": "stream",
     "text": [
      "\r",
      "Epoch 9/200:   4%|▍         | 9/200 [00:07<02:10,  1.46it/s, v_num=1, train_loss_step=7.98e+6, train_loss_epoch=7.79e+6]"
     ]
    },
    {
     "name": "stdout",
     "output_type": "stream",
     "text": [
      "\r",
      "Epoch 10/200:   4%|▍         | 9/200 [00:07<02:10,  1.46it/s, v_num=1, train_loss_step=7.98e+6, train_loss_epoch=7.79e+6]"
     ]
    },
    {
     "name": "stdout",
     "output_type": "stream",
     "text": [
      "\r",
      "Epoch 10/200:   5%|▌         | 10/200 [00:08<02:08,  1.48it/s, v_num=1, train_loss_step=7.98e+6, train_loss_epoch=7.79e+6]"
     ]
    },
    {
     "name": "stdout",
     "output_type": "stream",
     "text": [
      "\r",
      "Epoch 10/200:   5%|▌         | 10/200 [00:08<02:08,  1.48it/s, v_num=1, train_loss_step=7.85e+6, train_loss_epoch=7.78e+6]"
     ]
    },
    {
     "name": "stdout",
     "output_type": "stream",
     "text": [
      "\r",
      "Epoch 11/200:   5%|▌         | 10/200 [00:08<02:08,  1.48it/s, v_num=1, train_loss_step=7.85e+6, train_loss_epoch=7.78e+6]"
     ]
    },
    {
     "name": "stdout",
     "output_type": "stream",
     "text": [
      "\r",
      "Epoch 11/200:   6%|▌         | 11/200 [00:08<02:06,  1.49it/s, v_num=1, train_loss_step=7.85e+6, train_loss_epoch=7.78e+6]"
     ]
    },
    {
     "name": "stdout",
     "output_type": "stream",
     "text": [
      "\r",
      "Epoch 11/200:   6%|▌         | 11/200 [00:08<02:06,  1.49it/s, v_num=1, train_loss_step=7.3e+6, train_loss_epoch=7.78e+6] "
     ]
    },
    {
     "name": "stdout",
     "output_type": "stream",
     "text": [
      "\r",
      "Epoch 12/200:   6%|▌         | 11/200 [00:08<02:06,  1.49it/s, v_num=1, train_loss_step=7.3e+6, train_loss_epoch=7.78e+6]"
     ]
    },
    {
     "name": "stdout",
     "output_type": "stream",
     "text": [
      "\r",
      "Epoch 12/200:   6%|▌         | 12/200 [00:09<02:05,  1.50it/s, v_num=1, train_loss_step=7.3e+6, train_loss_epoch=7.78e+6]"
     ]
    },
    {
     "name": "stdout",
     "output_type": "stream",
     "text": [
      "\r",
      "Epoch 12/200:   6%|▌         | 12/200 [00:09<02:05,  1.50it/s, v_num=1, train_loss_step=7.54e+6, train_loss_epoch=7.77e+6]"
     ]
    },
    {
     "name": "stdout",
     "output_type": "stream",
     "text": [
      "\r",
      "Epoch 13/200:   6%|▌         | 12/200 [00:09<02:05,  1.50it/s, v_num=1, train_loss_step=7.54e+6, train_loss_epoch=7.77e+6]"
     ]
    },
    {
     "name": "stdout",
     "output_type": "stream",
     "text": [
      "\r",
      "Epoch 13/200:   6%|▋         | 13/200 [00:09<02:04,  1.50it/s, v_num=1, train_loss_step=7.54e+6, train_loss_epoch=7.77e+6]"
     ]
    },
    {
     "name": "stdout",
     "output_type": "stream",
     "text": [
      "\r",
      "Epoch 13/200:   6%|▋         | 13/200 [00:09<02:04,  1.50it/s, v_num=1, train_loss_step=8.14e+6, train_loss_epoch=7.77e+6]"
     ]
    },
    {
     "name": "stdout",
     "output_type": "stream",
     "text": [
      "\r",
      "Epoch 14/200:   6%|▋         | 13/200 [00:09<02:04,  1.50it/s, v_num=1, train_loss_step=8.14e+6, train_loss_epoch=7.77e+6]"
     ]
    },
    {
     "name": "stdout",
     "output_type": "stream",
     "text": [
      "\r",
      "Epoch 14/200:   7%|▋         | 14/200 [00:10<02:03,  1.51it/s, v_num=1, train_loss_step=8.14e+6, train_loss_epoch=7.77e+6]"
     ]
    },
    {
     "name": "stdout",
     "output_type": "stream",
     "text": [
      "\r",
      "Epoch 14/200:   7%|▋         | 14/200 [00:10<02:03,  1.51it/s, v_num=1, train_loss_step=7.32e+6, train_loss_epoch=7.76e+6]"
     ]
    },
    {
     "name": "stdout",
     "output_type": "stream",
     "text": [
      "\r",
      "Epoch 15/200:   7%|▋         | 14/200 [00:10<02:03,  1.51it/s, v_num=1, train_loss_step=7.32e+6, train_loss_epoch=7.76e+6]"
     ]
    },
    {
     "name": "stdout",
     "output_type": "stream",
     "text": [
      "\r",
      "Epoch 15/200:   8%|▊         | 15/200 [00:11<02:02,  1.51it/s, v_num=1, train_loss_step=7.32e+6, train_loss_epoch=7.76e+6]"
     ]
    },
    {
     "name": "stdout",
     "output_type": "stream",
     "text": [
      "\r",
      "Epoch 15/200:   8%|▊         | 15/200 [00:11<02:02,  1.51it/s, v_num=1, train_loss_step=8.39e+6, train_loss_epoch=7.76e+6]"
     ]
    },
    {
     "name": "stdout",
     "output_type": "stream",
     "text": [
      "\r",
      "Epoch 16/200:   8%|▊         | 15/200 [00:11<02:02,  1.51it/s, v_num=1, train_loss_step=8.39e+6, train_loss_epoch=7.76e+6]"
     ]
    },
    {
     "name": "stdout",
     "output_type": "stream",
     "text": [
      "\r",
      "Epoch 16/200:   8%|▊         | 16/200 [00:11<02:01,  1.51it/s, v_num=1, train_loss_step=8.39e+6, train_loss_epoch=7.76e+6]"
     ]
    },
    {
     "name": "stdout",
     "output_type": "stream",
     "text": [
      "\r",
      "Epoch 16/200:   8%|▊         | 16/200 [00:11<02:01,  1.51it/s, v_num=1, train_loss_step=7.56e+6, train_loss_epoch=7.76e+6]"
     ]
    },
    {
     "name": "stdout",
     "output_type": "stream",
     "text": [
      "\r",
      "Epoch 17/200:   8%|▊         | 16/200 [00:11<02:01,  1.51it/s, v_num=1, train_loss_step=7.56e+6, train_loss_epoch=7.76e+6]"
     ]
    },
    {
     "name": "stdout",
     "output_type": "stream",
     "text": [
      "\r",
      "Epoch 17/200:   8%|▊         | 17/200 [00:12<02:00,  1.52it/s, v_num=1, train_loss_step=7.56e+6, train_loss_epoch=7.76e+6]"
     ]
    },
    {
     "name": "stdout",
     "output_type": "stream",
     "text": [
      "\r",
      "Epoch 17/200:   8%|▊         | 17/200 [00:12<02:00,  1.52it/s, v_num=1, train_loss_step=7.56e+6, train_loss_epoch=7.75e+6]"
     ]
    },
    {
     "name": "stdout",
     "output_type": "stream",
     "text": [
      "\r",
      "Epoch 18/200:   8%|▊         | 17/200 [00:12<02:00,  1.52it/s, v_num=1, train_loss_step=7.56e+6, train_loss_epoch=7.75e+6]"
     ]
    },
    {
     "name": "stdout",
     "output_type": "stream",
     "text": [
      "\r",
      "Epoch 18/200:   9%|▉         | 18/200 [00:13<02:00,  1.52it/s, v_num=1, train_loss_step=7.56e+6, train_loss_epoch=7.75e+6]"
     ]
    },
    {
     "name": "stdout",
     "output_type": "stream",
     "text": [
      "\r",
      "Epoch 18/200:   9%|▉         | 18/200 [00:13<02:00,  1.52it/s, v_num=1, train_loss_step=7.46e+6, train_loss_epoch=7.75e+6]"
     ]
    },
    {
     "name": "stdout",
     "output_type": "stream",
     "text": [
      "\r",
      "Epoch 19/200:   9%|▉         | 18/200 [00:13<02:00,  1.52it/s, v_num=1, train_loss_step=7.46e+6, train_loss_epoch=7.75e+6]"
     ]
    },
    {
     "name": "stdout",
     "output_type": "stream",
     "text": [
      "\r",
      "Epoch 19/200:  10%|▉         | 19/200 [00:13<01:59,  1.52it/s, v_num=1, train_loss_step=7.46e+6, train_loss_epoch=7.75e+6]"
     ]
    },
    {
     "name": "stdout",
     "output_type": "stream",
     "text": [
      "\r",
      "Epoch 19/200:  10%|▉         | 19/200 [00:13<01:59,  1.52it/s, v_num=1, train_loss_step=7.07e+6, train_loss_epoch=7.75e+6]"
     ]
    },
    {
     "name": "stdout",
     "output_type": "stream",
     "text": [
      "\r",
      "Epoch 20/200:  10%|▉         | 19/200 [00:13<01:59,  1.52it/s, v_num=1, train_loss_step=7.07e+6, train_loss_epoch=7.75e+6]"
     ]
    },
    {
     "name": "stdout",
     "output_type": "stream",
     "text": [
      "\r",
      "Epoch 20/200:  10%|█         | 20/200 [00:14<01:58,  1.52it/s, v_num=1, train_loss_step=7.07e+6, train_loss_epoch=7.75e+6]"
     ]
    },
    {
     "name": "stdout",
     "output_type": "stream",
     "text": [
      "\r",
      "Epoch 20/200:  10%|█         | 20/200 [00:14<01:58,  1.52it/s, v_num=1, train_loss_step=7.75e+6, train_loss_epoch=7.75e+6]"
     ]
    },
    {
     "name": "stdout",
     "output_type": "stream",
     "text": [
      "\r",
      "Epoch 21/200:  10%|█         | 20/200 [00:14<01:58,  1.52it/s, v_num=1, train_loss_step=7.75e+6, train_loss_epoch=7.75e+6]"
     ]
    },
    {
     "name": "stdout",
     "output_type": "stream",
     "text": [
      "\r",
      "Epoch 21/200:  10%|█         | 21/200 [00:15<01:58,  1.52it/s, v_num=1, train_loss_step=7.75e+6, train_loss_epoch=7.75e+6]"
     ]
    },
    {
     "name": "stdout",
     "output_type": "stream",
     "text": [
      "\r",
      "Epoch 21/200:  10%|█         | 21/200 [00:15<01:58,  1.52it/s, v_num=1, train_loss_step=7.55e+6, train_loss_epoch=7.75e+6]"
     ]
    },
    {
     "name": "stdout",
     "output_type": "stream",
     "text": [
      "\r",
      "Epoch 22/200:  10%|█         | 21/200 [00:15<01:58,  1.52it/s, v_num=1, train_loss_step=7.55e+6, train_loss_epoch=7.75e+6]"
     ]
    },
    {
     "name": "stdout",
     "output_type": "stream",
     "text": [
      "\r",
      "Epoch 22/200:  11%|█         | 22/200 [00:15<01:57,  1.52it/s, v_num=1, train_loss_step=7.55e+6, train_loss_epoch=7.75e+6]"
     ]
    },
    {
     "name": "stdout",
     "output_type": "stream",
     "text": [
      "\r",
      "Epoch 22/200:  11%|█         | 22/200 [00:15<01:57,  1.52it/s, v_num=1, train_loss_step=7.05e+6, train_loss_epoch=7.75e+6]"
     ]
    },
    {
     "name": "stdout",
     "output_type": "stream",
     "text": [
      "\r",
      "Epoch 23/200:  11%|█         | 22/200 [00:15<01:57,  1.52it/s, v_num=1, train_loss_step=7.05e+6, train_loss_epoch=7.75e+6]"
     ]
    },
    {
     "name": "stdout",
     "output_type": "stream",
     "text": [
      "\r",
      "Epoch 23/200:  12%|█▏        | 23/200 [00:16<01:56,  1.52it/s, v_num=1, train_loss_step=7.05e+6, train_loss_epoch=7.75e+6]"
     ]
    },
    {
     "name": "stdout",
     "output_type": "stream",
     "text": [
      "\r",
      "Epoch 23/200:  12%|█▏        | 23/200 [00:16<01:56,  1.52it/s, v_num=1, train_loss_step=8.17e+6, train_loss_epoch=7.74e+6]"
     ]
    },
    {
     "name": "stdout",
     "output_type": "stream",
     "text": [
      "\r",
      "Epoch 24/200:  12%|█▏        | 23/200 [00:16<01:56,  1.52it/s, v_num=1, train_loss_step=8.17e+6, train_loss_epoch=7.74e+6]"
     ]
    },
    {
     "name": "stdout",
     "output_type": "stream",
     "text": [
      "\r",
      "Epoch 24/200:  12%|█▏        | 24/200 [00:17<01:55,  1.52it/s, v_num=1, train_loss_step=8.17e+6, train_loss_epoch=7.74e+6]"
     ]
    },
    {
     "name": "stdout",
     "output_type": "stream",
     "text": [
      "\r",
      "Epoch 24/200:  12%|█▏        | 24/200 [00:17<01:55,  1.52it/s, v_num=1, train_loss_step=7.58e+6, train_loss_epoch=7.75e+6]"
     ]
    },
    {
     "name": "stdout",
     "output_type": "stream",
     "text": [
      "\r",
      "Epoch 25/200:  12%|█▏        | 24/200 [00:17<01:55,  1.52it/s, v_num=1, train_loss_step=7.58e+6, train_loss_epoch=7.75e+6]"
     ]
    },
    {
     "name": "stdout",
     "output_type": "stream",
     "text": [
      "\r",
      "Epoch 25/200:  12%|█▎        | 25/200 [00:17<01:55,  1.52it/s, v_num=1, train_loss_step=7.58e+6, train_loss_epoch=7.75e+6]"
     ]
    },
    {
     "name": "stdout",
     "output_type": "stream",
     "text": [
      "\r",
      "Epoch 25/200:  12%|█▎        | 25/200 [00:17<01:55,  1.52it/s, v_num=1, train_loss_step=8.01e+6, train_loss_epoch=7.74e+6]"
     ]
    },
    {
     "name": "stdout",
     "output_type": "stream",
     "text": [
      "\r",
      "Epoch 26/200:  12%|█▎        | 25/200 [00:17<01:55,  1.52it/s, v_num=1, train_loss_step=8.01e+6, train_loss_epoch=7.74e+6]"
     ]
    },
    {
     "name": "stdout",
     "output_type": "stream",
     "text": [
      "\r",
      "Epoch 26/200:  13%|█▎        | 26/200 [00:18<01:54,  1.52it/s, v_num=1, train_loss_step=8.01e+6, train_loss_epoch=7.74e+6]"
     ]
    },
    {
     "name": "stdout",
     "output_type": "stream",
     "text": [
      "\r",
      "Epoch 26/200:  13%|█▎        | 26/200 [00:18<01:54,  1.52it/s, v_num=1, train_loss_step=8.26e+6, train_loss_epoch=7.74e+6]"
     ]
    },
    {
     "name": "stdout",
     "output_type": "stream",
     "text": [
      "\r",
      "Epoch 27/200:  13%|█▎        | 26/200 [00:18<01:54,  1.52it/s, v_num=1, train_loss_step=8.26e+6, train_loss_epoch=7.74e+6]"
     ]
    },
    {
     "name": "stdout",
     "output_type": "stream",
     "text": [
      "\r",
      "Epoch 27/200:  14%|█▎        | 27/200 [00:19<01:53,  1.52it/s, v_num=1, train_loss_step=8.26e+6, train_loss_epoch=7.74e+6]"
     ]
    },
    {
     "name": "stdout",
     "output_type": "stream",
     "text": [
      "\r",
      "Epoch 27/200:  14%|█▎        | 27/200 [00:19<01:53,  1.52it/s, v_num=1, train_loss_step=7.68e+6, train_loss_epoch=7.74e+6]"
     ]
    },
    {
     "name": "stdout",
     "output_type": "stream",
     "text": [
      "\r",
      "Epoch 28/200:  14%|█▎        | 27/200 [00:19<01:53,  1.52it/s, v_num=1, train_loss_step=7.68e+6, train_loss_epoch=7.74e+6]"
     ]
    },
    {
     "name": "stdout",
     "output_type": "stream",
     "text": [
      "\r",
      "Epoch 28/200:  14%|█▍        | 28/200 [00:19<01:53,  1.52it/s, v_num=1, train_loss_step=7.68e+6, train_loss_epoch=7.74e+6]"
     ]
    },
    {
     "name": "stdout",
     "output_type": "stream",
     "text": [
      "\r",
      "Epoch 28/200:  14%|█▍        | 28/200 [00:19<01:53,  1.52it/s, v_num=1, train_loss_step=8.16e+6, train_loss_epoch=7.74e+6]"
     ]
    },
    {
     "name": "stdout",
     "output_type": "stream",
     "text": [
      "\r",
      "Epoch 29/200:  14%|█▍        | 28/200 [00:19<01:53,  1.52it/s, v_num=1, train_loss_step=8.16e+6, train_loss_epoch=7.74e+6]"
     ]
    },
    {
     "name": "stdout",
     "output_type": "stream",
     "text": [
      "\r",
      "Epoch 29/200:  14%|█▍        | 29/200 [00:20<01:52,  1.52it/s, v_num=1, train_loss_step=8.16e+6, train_loss_epoch=7.74e+6]"
     ]
    },
    {
     "name": "stdout",
     "output_type": "stream",
     "text": [
      "\r",
      "Epoch 29/200:  14%|█▍        | 29/200 [00:20<01:52,  1.52it/s, v_num=1, train_loss_step=7.52e+6, train_loss_epoch=7.74e+6]"
     ]
    },
    {
     "name": "stdout",
     "output_type": "stream",
     "text": [
      "\r",
      "Epoch 30/200:  14%|█▍        | 29/200 [00:20<01:52,  1.52it/s, v_num=1, train_loss_step=7.52e+6, train_loss_epoch=7.74e+6]"
     ]
    },
    {
     "name": "stdout",
     "output_type": "stream",
     "text": [
      "\r",
      "Epoch 30/200:  15%|█▌        | 30/200 [00:21<01:51,  1.52it/s, v_num=1, train_loss_step=7.52e+6, train_loss_epoch=7.74e+6]"
     ]
    },
    {
     "name": "stdout",
     "output_type": "stream",
     "text": [
      "\r",
      "Epoch 30/200:  15%|█▌        | 30/200 [00:21<01:51,  1.52it/s, v_num=1, train_loss_step=7.41e+6, train_loss_epoch=7.74e+6]"
     ]
    },
    {
     "name": "stdout",
     "output_type": "stream",
     "text": [
      "\r",
      "Epoch 31/200:  15%|█▌        | 30/200 [00:21<01:51,  1.52it/s, v_num=1, train_loss_step=7.41e+6, train_loss_epoch=7.74e+6]"
     ]
    },
    {
     "name": "stdout",
     "output_type": "stream",
     "text": [
      "\r",
      "Epoch 31/200:  16%|█▌        | 31/200 [00:21<01:51,  1.52it/s, v_num=1, train_loss_step=7.41e+6, train_loss_epoch=7.74e+6]"
     ]
    },
    {
     "name": "stdout",
     "output_type": "stream",
     "text": [
      "\r",
      "Epoch 31/200:  16%|█▌        | 31/200 [00:21<01:51,  1.52it/s, v_num=1, train_loss_step=7.62e+6, train_loss_epoch=7.74e+6]"
     ]
    },
    {
     "name": "stdout",
     "output_type": "stream",
     "text": [
      "\r",
      "Epoch 32/200:  16%|█▌        | 31/200 [00:21<01:51,  1.52it/s, v_num=1, train_loss_step=7.62e+6, train_loss_epoch=7.74e+6]"
     ]
    },
    {
     "name": "stdout",
     "output_type": "stream",
     "text": [
      "\r",
      "Epoch 32/200:  16%|█▌        | 32/200 [00:22<01:50,  1.52it/s, v_num=1, train_loss_step=7.62e+6, train_loss_epoch=7.74e+6]"
     ]
    },
    {
     "name": "stdout",
     "output_type": "stream",
     "text": [
      "\r",
      "Epoch 32/200:  16%|█▌        | 32/200 [00:22<01:50,  1.52it/s, v_num=1, train_loss_step=7.97e+6, train_loss_epoch=7.74e+6]"
     ]
    },
    {
     "name": "stdout",
     "output_type": "stream",
     "text": [
      "\r",
      "Epoch 33/200:  16%|█▌        | 32/200 [00:22<01:50,  1.52it/s, v_num=1, train_loss_step=7.97e+6, train_loss_epoch=7.74e+6]"
     ]
    },
    {
     "name": "stdout",
     "output_type": "stream",
     "text": [
      "\r",
      "Epoch 33/200:  16%|█▋        | 33/200 [00:23<01:49,  1.52it/s, v_num=1, train_loss_step=7.97e+6, train_loss_epoch=7.74e+6]"
     ]
    },
    {
     "name": "stdout",
     "output_type": "stream",
     "text": [
      "\r",
      "Epoch 33/200:  16%|█▋        | 33/200 [00:23<01:49,  1.52it/s, v_num=1, train_loss_step=7.92e+6, train_loss_epoch=7.74e+6]"
     ]
    },
    {
     "name": "stdout",
     "output_type": "stream",
     "text": [
      "\r",
      "Epoch 34/200:  16%|█▋        | 33/200 [00:23<01:49,  1.52it/s, v_num=1, train_loss_step=7.92e+6, train_loss_epoch=7.74e+6]"
     ]
    },
    {
     "name": "stdout",
     "output_type": "stream",
     "text": [
      "\r",
      "Epoch 34/200:  17%|█▋        | 34/200 [00:23<01:49,  1.52it/s, v_num=1, train_loss_step=7.92e+6, train_loss_epoch=7.74e+6]"
     ]
    },
    {
     "name": "stdout",
     "output_type": "stream",
     "text": [
      "\r",
      "Epoch 34/200:  17%|█▋        | 34/200 [00:23<01:49,  1.52it/s, v_num=1, train_loss_step=7.8e+6, train_loss_epoch=7.73e+6] "
     ]
    },
    {
     "name": "stdout",
     "output_type": "stream",
     "text": [
      "\r",
      "Epoch 35/200:  17%|█▋        | 34/200 [00:23<01:49,  1.52it/s, v_num=1, train_loss_step=7.8e+6, train_loss_epoch=7.73e+6]"
     ]
    },
    {
     "name": "stdout",
     "output_type": "stream",
     "text": [
      "\r",
      "Epoch 35/200:  18%|█▊        | 35/200 [00:24<01:48,  1.52it/s, v_num=1, train_loss_step=7.8e+6, train_loss_epoch=7.73e+6]"
     ]
    },
    {
     "name": "stdout",
     "output_type": "stream",
     "text": [
      "\r",
      "Epoch 35/200:  18%|█▊        | 35/200 [00:24<01:48,  1.52it/s, v_num=1, train_loss_step=8.05e+6, train_loss_epoch=7.74e+6]"
     ]
    },
    {
     "name": "stdout",
     "output_type": "stream",
     "text": [
      "\r",
      "Epoch 36/200:  18%|█▊        | 35/200 [00:24<01:48,  1.52it/s, v_num=1, train_loss_step=8.05e+6, train_loss_epoch=7.74e+6]"
     ]
    },
    {
     "name": "stdout",
     "output_type": "stream",
     "text": [
      "\r",
      "Epoch 36/200:  18%|█▊        | 36/200 [00:25<01:47,  1.52it/s, v_num=1, train_loss_step=8.05e+6, train_loss_epoch=7.74e+6]"
     ]
    },
    {
     "name": "stdout",
     "output_type": "stream",
     "text": [
      "\r",
      "Epoch 36/200:  18%|█▊        | 36/200 [00:25<01:47,  1.52it/s, v_num=1, train_loss_step=7.72e+6, train_loss_epoch=7.74e+6]"
     ]
    },
    {
     "name": "stdout",
     "output_type": "stream",
     "text": [
      "\r",
      "Epoch 37/200:  18%|█▊        | 36/200 [00:25<01:47,  1.52it/s, v_num=1, train_loss_step=7.72e+6, train_loss_epoch=7.74e+6]"
     ]
    },
    {
     "name": "stdout",
     "output_type": "stream",
     "text": [
      "\r",
      "Epoch 37/200:  18%|█▊        | 37/200 [00:25<01:47,  1.52it/s, v_num=1, train_loss_step=7.72e+6, train_loss_epoch=7.74e+6]"
     ]
    },
    {
     "name": "stdout",
     "output_type": "stream",
     "text": [
      "\r",
      "Epoch 37/200:  18%|█▊        | 37/200 [00:25<01:47,  1.52it/s, v_num=1, train_loss_step=7.95e+6, train_loss_epoch=7.74e+6]"
     ]
    },
    {
     "name": "stdout",
     "output_type": "stream",
     "text": [
      "\r",
      "Epoch 38/200:  18%|█▊        | 37/200 [00:25<01:47,  1.52it/s, v_num=1, train_loss_step=7.95e+6, train_loss_epoch=7.74e+6]"
     ]
    },
    {
     "name": "stdout",
     "output_type": "stream",
     "text": [
      "\r",
      "Epoch 38/200:  19%|█▉        | 38/200 [00:26<01:46,  1.52it/s, v_num=1, train_loss_step=7.95e+6, train_loss_epoch=7.74e+6]"
     ]
    },
    {
     "name": "stdout",
     "output_type": "stream",
     "text": [
      "\r",
      "Epoch 38/200:  19%|█▉        | 38/200 [00:26<01:46,  1.52it/s, v_num=1, train_loss_step=7.71e+6, train_loss_epoch=7.73e+6]"
     ]
    },
    {
     "name": "stdout",
     "output_type": "stream",
     "text": [
      "\r",
      "Epoch 39/200:  19%|█▉        | 38/200 [00:26<01:46,  1.52it/s, v_num=1, train_loss_step=7.71e+6, train_loss_epoch=7.73e+6]"
     ]
    },
    {
     "name": "stdout",
     "output_type": "stream",
     "text": [
      "\r",
      "Epoch 39/200:  20%|█▉        | 39/200 [00:27<01:45,  1.52it/s, v_num=1, train_loss_step=7.71e+6, train_loss_epoch=7.73e+6]"
     ]
    },
    {
     "name": "stdout",
     "output_type": "stream",
     "text": [
      "\r",
      "Epoch 39/200:  20%|█▉        | 39/200 [00:27<01:45,  1.52it/s, v_num=1, train_loss_step=7.84e+6, train_loss_epoch=7.73e+6]"
     ]
    },
    {
     "name": "stdout",
     "output_type": "stream",
     "text": [
      "\r",
      "Epoch 40/200:  20%|█▉        | 39/200 [00:27<01:45,  1.52it/s, v_num=1, train_loss_step=7.84e+6, train_loss_epoch=7.73e+6]"
     ]
    },
    {
     "name": "stdout",
     "output_type": "stream",
     "text": [
      "\r",
      "Epoch 40/200:  20%|██        | 40/200 [00:27<01:45,  1.52it/s, v_num=1, train_loss_step=7.84e+6, train_loss_epoch=7.73e+6]"
     ]
    },
    {
     "name": "stdout",
     "output_type": "stream",
     "text": [
      "\r",
      "Epoch 40/200:  20%|██        | 40/200 [00:27<01:45,  1.52it/s, v_num=1, train_loss_step=8.29e+6, train_loss_epoch=7.73e+6]"
     ]
    },
    {
     "name": "stdout",
     "output_type": "stream",
     "text": [
      "\r",
      "Epoch 41/200:  20%|██        | 40/200 [00:27<01:45,  1.52it/s, v_num=1, train_loss_step=8.29e+6, train_loss_epoch=7.73e+6]"
     ]
    },
    {
     "name": "stdout",
     "output_type": "stream",
     "text": [
      "\r",
      "Epoch 41/200:  20%|██        | 41/200 [00:28<01:44,  1.52it/s, v_num=1, train_loss_step=8.29e+6, train_loss_epoch=7.73e+6]"
     ]
    },
    {
     "name": "stdout",
     "output_type": "stream",
     "text": [
      "\r",
      "Epoch 41/200:  20%|██        | 41/200 [00:28<01:44,  1.52it/s, v_num=1, train_loss_step=7.49e+6, train_loss_epoch=7.73e+6]"
     ]
    },
    {
     "name": "stdout",
     "output_type": "stream",
     "text": [
      "\r",
      "Epoch 42/200:  20%|██        | 41/200 [00:28<01:44,  1.52it/s, v_num=1, train_loss_step=7.49e+6, train_loss_epoch=7.73e+6]"
     ]
    },
    {
     "name": "stdout",
     "output_type": "stream",
     "text": [
      "\r",
      "Epoch 42/200:  21%|██        | 42/200 [00:29<01:44,  1.52it/s, v_num=1, train_loss_step=7.49e+6, train_loss_epoch=7.73e+6]"
     ]
    },
    {
     "name": "stdout",
     "output_type": "stream",
     "text": [
      "\r",
      "Epoch 42/200:  21%|██        | 42/200 [00:29<01:44,  1.52it/s, v_num=1, train_loss_step=7.54e+6, train_loss_epoch=7.73e+6]"
     ]
    },
    {
     "name": "stdout",
     "output_type": "stream",
     "text": [
      "\r",
      "Epoch 43/200:  21%|██        | 42/200 [00:29<01:44,  1.52it/s, v_num=1, train_loss_step=7.54e+6, train_loss_epoch=7.73e+6]"
     ]
    },
    {
     "name": "stdout",
     "output_type": "stream",
     "text": [
      "\r",
      "Epoch 43/200:  22%|██▏       | 43/200 [00:29<01:43,  1.52it/s, v_num=1, train_loss_step=7.54e+6, train_loss_epoch=7.73e+6]"
     ]
    },
    {
     "name": "stdout",
     "output_type": "stream",
     "text": [
      "\r",
      "Epoch 43/200:  22%|██▏       | 43/200 [00:29<01:43,  1.52it/s, v_num=1, train_loss_step=7.48e+6, train_loss_epoch=7.73e+6]"
     ]
    },
    {
     "name": "stdout",
     "output_type": "stream",
     "text": [
      "\r",
      "Epoch 44/200:  22%|██▏       | 43/200 [00:29<01:43,  1.52it/s, v_num=1, train_loss_step=7.48e+6, train_loss_epoch=7.73e+6]"
     ]
    },
    {
     "name": "stdout",
     "output_type": "stream",
     "text": [
      "\r",
      "Epoch 44/200:  22%|██▏       | 44/200 [00:30<01:42,  1.52it/s, v_num=1, train_loss_step=7.48e+6, train_loss_epoch=7.73e+6]"
     ]
    },
    {
     "name": "stdout",
     "output_type": "stream",
     "text": [
      "\r",
      "Epoch 44/200:  22%|██▏       | 44/200 [00:30<01:42,  1.52it/s, v_num=1, train_loss_step=7.31e+6, train_loss_epoch=7.73e+6]"
     ]
    },
    {
     "name": "stdout",
     "output_type": "stream",
     "text": [
      "\r",
      "Epoch 45/200:  22%|██▏       | 44/200 [00:30<01:42,  1.52it/s, v_num=1, train_loss_step=7.31e+6, train_loss_epoch=7.73e+6]"
     ]
    },
    {
     "name": "stdout",
     "output_type": "stream",
     "text": [
      "\r",
      "Epoch 45/200:  22%|██▎       | 45/200 [00:31<01:42,  1.52it/s, v_num=1, train_loss_step=7.31e+6, train_loss_epoch=7.73e+6]"
     ]
    },
    {
     "name": "stdout",
     "output_type": "stream",
     "text": [
      "\r",
      "Epoch 45/200:  22%|██▎       | 45/200 [00:31<01:42,  1.52it/s, v_num=1, train_loss_step=8.39e+6, train_loss_epoch=7.73e+6]"
     ]
    },
    {
     "name": "stdout",
     "output_type": "stream",
     "text": [
      "\r",
      "Epoch 46/200:  22%|██▎       | 45/200 [00:31<01:42,  1.52it/s, v_num=1, train_loss_step=8.39e+6, train_loss_epoch=7.73e+6]"
     ]
    },
    {
     "name": "stdout",
     "output_type": "stream",
     "text": [
      "\r",
      "Epoch 46/200:  23%|██▎       | 46/200 [00:31<01:41,  1.52it/s, v_num=1, train_loss_step=8.39e+6, train_loss_epoch=7.73e+6]"
     ]
    },
    {
     "name": "stdout",
     "output_type": "stream",
     "text": [
      "\r",
      "Epoch 46/200:  23%|██▎       | 46/200 [00:31<01:41,  1.52it/s, v_num=1, train_loss_step=7.85e+6, train_loss_epoch=7.73e+6]"
     ]
    },
    {
     "name": "stdout",
     "output_type": "stream",
     "text": [
      "\r",
      "Epoch 47/200:  23%|██▎       | 46/200 [00:31<01:41,  1.52it/s, v_num=1, train_loss_step=7.85e+6, train_loss_epoch=7.73e+6]"
     ]
    },
    {
     "name": "stdout",
     "output_type": "stream",
     "text": [
      "\r",
      "Epoch 47/200:  24%|██▎       | 47/200 [00:32<01:40,  1.52it/s, v_num=1, train_loss_step=7.85e+6, train_loss_epoch=7.73e+6]"
     ]
    },
    {
     "name": "stdout",
     "output_type": "stream",
     "text": [
      "\r",
      "Epoch 47/200:  24%|██▎       | 47/200 [00:32<01:40,  1.52it/s, v_num=1, train_loss_step=7.95e+6, train_loss_epoch=7.73e+6]"
     ]
    },
    {
     "name": "stdout",
     "output_type": "stream",
     "text": [
      "\r",
      "Epoch 48/200:  24%|██▎       | 47/200 [00:32<01:40,  1.52it/s, v_num=1, train_loss_step=7.95e+6, train_loss_epoch=7.73e+6]"
     ]
    },
    {
     "name": "stdout",
     "output_type": "stream",
     "text": [
      "\r",
      "Epoch 48/200:  24%|██▍       | 48/200 [00:33<01:40,  1.52it/s, v_num=1, train_loss_step=7.95e+6, train_loss_epoch=7.73e+6]"
     ]
    },
    {
     "name": "stdout",
     "output_type": "stream",
     "text": [
      "\r",
      "Epoch 48/200:  24%|██▍       | 48/200 [00:33<01:40,  1.52it/s, v_num=1, train_loss_step=7.92e+6, train_loss_epoch=7.73e+6]"
     ]
    },
    {
     "name": "stdout",
     "output_type": "stream",
     "text": [
      "\r",
      "Epoch 49/200:  24%|██▍       | 48/200 [00:33<01:40,  1.52it/s, v_num=1, train_loss_step=7.92e+6, train_loss_epoch=7.73e+6]"
     ]
    },
    {
     "name": "stdout",
     "output_type": "stream",
     "text": [
      "\r",
      "Epoch 49/200:  24%|██▍       | 49/200 [00:33<01:39,  1.52it/s, v_num=1, train_loss_step=7.92e+6, train_loss_epoch=7.73e+6]"
     ]
    },
    {
     "name": "stdout",
     "output_type": "stream",
     "text": [
      "\r",
      "Epoch 49/200:  24%|██▍       | 49/200 [00:33<01:39,  1.52it/s, v_num=1, train_loss_step=7.43e+6, train_loss_epoch=7.73e+6]"
     ]
    },
    {
     "name": "stdout",
     "output_type": "stream",
     "text": [
      "\r",
      "Epoch 50/200:  24%|██▍       | 49/200 [00:33<01:39,  1.52it/s, v_num=1, train_loss_step=7.43e+6, train_loss_epoch=7.73e+6]"
     ]
    },
    {
     "name": "stdout",
     "output_type": "stream",
     "text": [
      "\r",
      "Epoch 50/200:  25%|██▌       | 50/200 [00:34<01:38,  1.52it/s, v_num=1, train_loss_step=7.43e+6, train_loss_epoch=7.73e+6]"
     ]
    },
    {
     "name": "stdout",
     "output_type": "stream",
     "text": [
      "\r",
      "Epoch 50/200:  25%|██▌       | 50/200 [00:34<01:38,  1.52it/s, v_num=1, train_loss_step=8.04e+6, train_loss_epoch=7.73e+6]"
     ]
    },
    {
     "name": "stdout",
     "output_type": "stream",
     "text": [
      "\r",
      "Epoch 51/200:  25%|██▌       | 50/200 [00:34<01:38,  1.52it/s, v_num=1, train_loss_step=8.04e+6, train_loss_epoch=7.73e+6]"
     ]
    },
    {
     "name": "stdout",
     "output_type": "stream",
     "text": [
      "\r",
      "Epoch 51/200:  26%|██▌       | 51/200 [00:35<01:38,  1.52it/s, v_num=1, train_loss_step=8.04e+6, train_loss_epoch=7.73e+6]"
     ]
    },
    {
     "name": "stdout",
     "output_type": "stream",
     "text": [
      "\r",
      "Epoch 51/200:  26%|██▌       | 51/200 [00:35<01:38,  1.52it/s, v_num=1, train_loss_step=7.88e+6, train_loss_epoch=7.74e+6]"
     ]
    },
    {
     "name": "stdout",
     "output_type": "stream",
     "text": [
      "\r",
      "Epoch 52/200:  26%|██▌       | 51/200 [00:35<01:38,  1.52it/s, v_num=1, train_loss_step=7.88e+6, train_loss_epoch=7.74e+6]"
     ]
    },
    {
     "name": "stdout",
     "output_type": "stream",
     "text": [
      "\r",
      "Epoch 52/200:  26%|██▌       | 52/200 [00:35<01:37,  1.52it/s, v_num=1, train_loss_step=7.88e+6, train_loss_epoch=7.74e+6]"
     ]
    },
    {
     "name": "stdout",
     "output_type": "stream",
     "text": [
      "\r",
      "Epoch 52/200:  26%|██▌       | 52/200 [00:35<01:37,  1.52it/s, v_num=1, train_loss_step=7.36e+6, train_loss_epoch=7.73e+6]"
     ]
    },
    {
     "name": "stdout",
     "output_type": "stream",
     "text": [
      "\r",
      "Epoch 53/200:  26%|██▌       | 52/200 [00:35<01:37,  1.52it/s, v_num=1, train_loss_step=7.36e+6, train_loss_epoch=7.73e+6]"
     ]
    },
    {
     "name": "stdout",
     "output_type": "stream",
     "text": [
      "\r",
      "Epoch 53/200:  26%|██▋       | 53/200 [00:36<01:36,  1.52it/s, v_num=1, train_loss_step=7.36e+6, train_loss_epoch=7.73e+6]"
     ]
    },
    {
     "name": "stdout",
     "output_type": "stream",
     "text": [
      "\r",
      "Epoch 53/200:  26%|██▋       | 53/200 [00:36<01:36,  1.52it/s, v_num=1, train_loss_step=8.03e+6, train_loss_epoch=7.73e+6]"
     ]
    },
    {
     "name": "stdout",
     "output_type": "stream",
     "text": [
      "\r",
      "Epoch 54/200:  26%|██▋       | 53/200 [00:36<01:36,  1.52it/s, v_num=1, train_loss_step=8.03e+6, train_loss_epoch=7.73e+6]"
     ]
    },
    {
     "name": "stdout",
     "output_type": "stream",
     "text": [
      "\r",
      "Epoch 54/200:  27%|██▋       | 54/200 [00:36<01:36,  1.52it/s, v_num=1, train_loss_step=8.03e+6, train_loss_epoch=7.73e+6]"
     ]
    },
    {
     "name": "stdout",
     "output_type": "stream",
     "text": [
      "\r",
      "Epoch 54/200:  27%|██▋       | 54/200 [00:36<01:36,  1.52it/s, v_num=1, train_loss_step=7.71e+6, train_loss_epoch=7.73e+6]"
     ]
    },
    {
     "name": "stdout",
     "output_type": "stream",
     "text": [
      "\r",
      "Epoch 55/200:  27%|██▋       | 54/200 [00:36<01:36,  1.52it/s, v_num=1, train_loss_step=7.71e+6, train_loss_epoch=7.73e+6]"
     ]
    },
    {
     "name": "stdout",
     "output_type": "stream",
     "text": [
      "\r",
      "Epoch 55/200:  28%|██▊       | 55/200 [00:37<01:35,  1.52it/s, v_num=1, train_loss_step=7.71e+6, train_loss_epoch=7.73e+6]"
     ]
    },
    {
     "name": "stdout",
     "output_type": "stream",
     "text": [
      "\r",
      "Epoch 55/200:  28%|██▊       | 55/200 [00:37<01:35,  1.52it/s, v_num=1, train_loss_step=7.62e+6, train_loss_epoch=7.73e+6]"
     ]
    },
    {
     "name": "stdout",
     "output_type": "stream",
     "text": [
      "\r",
      "Epoch 56/200:  28%|██▊       | 55/200 [00:37<01:35,  1.52it/s, v_num=1, train_loss_step=7.62e+6, train_loss_epoch=7.73e+6]"
     ]
    },
    {
     "name": "stdout",
     "output_type": "stream",
     "text": [
      "\r",
      "Epoch 56/200:  28%|██▊       | 56/200 [00:38<01:35,  1.51it/s, v_num=1, train_loss_step=7.62e+6, train_loss_epoch=7.73e+6]"
     ]
    },
    {
     "name": "stdout",
     "output_type": "stream",
     "text": [
      "\r",
      "Epoch 56/200:  28%|██▊       | 56/200 [00:38<01:35,  1.51it/s, v_num=1, train_loss_step=8.19e+6, train_loss_epoch=7.73e+6]"
     ]
    },
    {
     "name": "stdout",
     "output_type": "stream",
     "text": [
      "\r",
      "Epoch 57/200:  28%|██▊       | 56/200 [00:38<01:35,  1.51it/s, v_num=1, train_loss_step=8.19e+6, train_loss_epoch=7.73e+6]"
     ]
    },
    {
     "name": "stdout",
     "output_type": "stream",
     "text": [
      "\r",
      "Epoch 57/200:  28%|██▊       | 57/200 [00:38<01:34,  1.52it/s, v_num=1, train_loss_step=8.19e+6, train_loss_epoch=7.73e+6]"
     ]
    },
    {
     "name": "stdout",
     "output_type": "stream",
     "text": [
      "\r",
      "Epoch 57/200:  28%|██▊       | 57/200 [00:38<01:34,  1.52it/s, v_num=1, train_loss_step=7.87e+6, train_loss_epoch=7.73e+6]"
     ]
    },
    {
     "name": "stdout",
     "output_type": "stream",
     "text": [
      "\r",
      "Epoch 58/200:  28%|██▊       | 57/200 [00:38<01:34,  1.52it/s, v_num=1, train_loss_step=7.87e+6, train_loss_epoch=7.73e+6]"
     ]
    },
    {
     "name": "stdout",
     "output_type": "stream",
     "text": [
      "\r",
      "Epoch 58/200:  29%|██▉       | 58/200 [00:39<01:33,  1.52it/s, v_num=1, train_loss_step=7.87e+6, train_loss_epoch=7.73e+6]"
     ]
    },
    {
     "name": "stdout",
     "output_type": "stream",
     "text": [
      "\r",
      "Epoch 58/200:  29%|██▉       | 58/200 [00:39<01:33,  1.52it/s, v_num=1, train_loss_step=7.46e+6, train_loss_epoch=7.73e+6]"
     ]
    },
    {
     "name": "stdout",
     "output_type": "stream",
     "text": [
      "\r",
      "Epoch 59/200:  29%|██▉       | 58/200 [00:39<01:33,  1.52it/s, v_num=1, train_loss_step=7.46e+6, train_loss_epoch=7.73e+6]"
     ]
    },
    {
     "name": "stdout",
     "output_type": "stream",
     "text": [
      "\r",
      "Epoch 59/200:  30%|██▉       | 59/200 [00:40<01:32,  1.52it/s, v_num=1, train_loss_step=7.46e+6, train_loss_epoch=7.73e+6]"
     ]
    },
    {
     "name": "stdout",
     "output_type": "stream",
     "text": [
      "\r",
      "Epoch 59/200:  30%|██▉       | 59/200 [00:40<01:32,  1.52it/s, v_num=1, train_loss_step=7.59e+6, train_loss_epoch=7.73e+6]"
     ]
    },
    {
     "name": "stdout",
     "output_type": "stream",
     "text": [
      "\r",
      "Epoch 60/200:  30%|██▉       | 59/200 [00:40<01:32,  1.52it/s, v_num=1, train_loss_step=7.59e+6, train_loss_epoch=7.73e+6]"
     ]
    },
    {
     "name": "stdout",
     "output_type": "stream",
     "text": [
      "\r",
      "Epoch 60/200:  30%|███       | 60/200 [00:40<01:32,  1.51it/s, v_num=1, train_loss_step=7.59e+6, train_loss_epoch=7.73e+6]"
     ]
    },
    {
     "name": "stdout",
     "output_type": "stream",
     "text": [
      "\r",
      "Epoch 60/200:  30%|███       | 60/200 [00:40<01:32,  1.51it/s, v_num=1, train_loss_step=7.65e+6, train_loss_epoch=7.73e+6]"
     ]
    },
    {
     "name": "stdout",
     "output_type": "stream",
     "text": [
      "\r",
      "Epoch 61/200:  30%|███       | 60/200 [00:40<01:32,  1.51it/s, v_num=1, train_loss_step=7.65e+6, train_loss_epoch=7.73e+6]"
     ]
    },
    {
     "name": "stdout",
     "output_type": "stream",
     "text": [
      "\r",
      "Epoch 61/200:  30%|███       | 61/200 [00:41<01:31,  1.52it/s, v_num=1, train_loss_step=7.65e+6, train_loss_epoch=7.73e+6]"
     ]
    },
    {
     "name": "stdout",
     "output_type": "stream",
     "text": [
      "\r",
      "Epoch 61/200:  30%|███       | 61/200 [00:41<01:31,  1.52it/s, v_num=1, train_loss_step=7.7e+6, train_loss_epoch=7.73e+6] "
     ]
    },
    {
     "name": "stdout",
     "output_type": "stream",
     "text": [
      "\r",
      "Epoch 62/200:  30%|███       | 61/200 [00:41<01:31,  1.52it/s, v_num=1, train_loss_step=7.7e+6, train_loss_epoch=7.73e+6]"
     ]
    },
    {
     "name": "stdout",
     "output_type": "stream",
     "text": [
      "\r",
      "Epoch 62/200:  31%|███       | 62/200 [00:42<01:30,  1.52it/s, v_num=1, train_loss_step=7.7e+6, train_loss_epoch=7.73e+6]"
     ]
    },
    {
     "name": "stdout",
     "output_type": "stream",
     "text": [
      "\r",
      "Epoch 62/200:  31%|███       | 62/200 [00:42<01:30,  1.52it/s, v_num=1, train_loss_step=7.64e+6, train_loss_epoch=7.73e+6]"
     ]
    },
    {
     "name": "stdout",
     "output_type": "stream",
     "text": [
      "\r",
      "Epoch 63/200:  31%|███       | 62/200 [00:42<01:30,  1.52it/s, v_num=1, train_loss_step=7.64e+6, train_loss_epoch=7.73e+6]"
     ]
    },
    {
     "name": "stdout",
     "output_type": "stream",
     "text": [
      "\r",
      "Epoch 63/200:  32%|███▏      | 63/200 [00:42<01:30,  1.52it/s, v_num=1, train_loss_step=7.64e+6, train_loss_epoch=7.73e+6]"
     ]
    },
    {
     "name": "stdout",
     "output_type": "stream",
     "text": [
      "\r",
      "Epoch 63/200:  32%|███▏      | 63/200 [00:42<01:30,  1.52it/s, v_num=1, train_loss_step=7.15e+6, train_loss_epoch=7.73e+6]"
     ]
    },
    {
     "name": "stdout",
     "output_type": "stream",
     "text": [
      "\r",
      "Epoch 64/200:  32%|███▏      | 63/200 [00:42<01:30,  1.52it/s, v_num=1, train_loss_step=7.15e+6, train_loss_epoch=7.73e+6]"
     ]
    },
    {
     "name": "stdout",
     "output_type": "stream",
     "text": [
      "\r",
      "Epoch 64/200:  32%|███▏      | 64/200 [00:43<01:29,  1.52it/s, v_num=1, train_loss_step=7.15e+6, train_loss_epoch=7.73e+6]"
     ]
    },
    {
     "name": "stdout",
     "output_type": "stream",
     "text": [
      "\r",
      "Epoch 64/200:  32%|███▏      | 64/200 [00:43<01:29,  1.52it/s, v_num=1, train_loss_step=7.84e+6, train_loss_epoch=7.73e+6]"
     ]
    },
    {
     "name": "stdout",
     "output_type": "stream",
     "text": [
      "\r",
      "Epoch 65/200:  32%|███▏      | 64/200 [00:43<01:29,  1.52it/s, v_num=1, train_loss_step=7.84e+6, train_loss_epoch=7.73e+6]"
     ]
    },
    {
     "name": "stdout",
     "output_type": "stream",
     "text": [
      "\r",
      "Epoch 65/200:  32%|███▎      | 65/200 [00:44<01:28,  1.52it/s, v_num=1, train_loss_step=7.84e+6, train_loss_epoch=7.73e+6]"
     ]
    },
    {
     "name": "stdout",
     "output_type": "stream",
     "text": [
      "\r",
      "Epoch 65/200:  32%|███▎      | 65/200 [00:44<01:28,  1.52it/s, v_num=1, train_loss_step=7.62e+6, train_loss_epoch=7.73e+6]"
     ]
    },
    {
     "name": "stdout",
     "output_type": "stream",
     "text": [
      "\r",
      "Epoch 66/200:  32%|███▎      | 65/200 [00:44<01:28,  1.52it/s, v_num=1, train_loss_step=7.62e+6, train_loss_epoch=7.73e+6]"
     ]
    },
    {
     "name": "stdout",
     "output_type": "stream",
     "text": [
      "\r",
      "Epoch 66/200:  33%|███▎      | 66/200 [00:44<01:28,  1.52it/s, v_num=1, train_loss_step=7.62e+6, train_loss_epoch=7.73e+6]"
     ]
    },
    {
     "name": "stdout",
     "output_type": "stream",
     "text": [
      "\r",
      "Epoch 66/200:  33%|███▎      | 66/200 [00:44<01:28,  1.52it/s, v_num=1, train_loss_step=7.56e+6, train_loss_epoch=7.73e+6]"
     ]
    },
    {
     "name": "stdout",
     "output_type": "stream",
     "text": [
      "\r",
      "Epoch 67/200:  33%|███▎      | 66/200 [00:44<01:28,  1.52it/s, v_num=1, train_loss_step=7.56e+6, train_loss_epoch=7.73e+6]"
     ]
    },
    {
     "name": "stdout",
     "output_type": "stream",
     "text": [
      "\r",
      "Epoch 67/200:  34%|███▎      | 67/200 [00:45<01:27,  1.52it/s, v_num=1, train_loss_step=7.56e+6, train_loss_epoch=7.73e+6]"
     ]
    },
    {
     "name": "stdout",
     "output_type": "stream",
     "text": [
      "\r",
      "Epoch 67/200:  34%|███▎      | 67/200 [00:45<01:27,  1.52it/s, v_num=1, train_loss_step=7.78e+6, train_loss_epoch=7.73e+6]"
     ]
    },
    {
     "name": "stdout",
     "output_type": "stream",
     "text": [
      "\r",
      "Epoch 68/200:  34%|███▎      | 67/200 [00:45<01:27,  1.52it/s, v_num=1, train_loss_step=7.78e+6, train_loss_epoch=7.73e+6]"
     ]
    },
    {
     "name": "stdout",
     "output_type": "stream",
     "text": [
      "\r",
      "Epoch 68/200:  34%|███▍      | 68/200 [00:46<01:26,  1.52it/s, v_num=1, train_loss_step=7.78e+6, train_loss_epoch=7.73e+6]"
     ]
    },
    {
     "name": "stdout",
     "output_type": "stream",
     "text": [
      "\r",
      "Epoch 68/200:  34%|███▍      | 68/200 [00:46<01:26,  1.52it/s, v_num=1, train_loss_step=7.73e+6, train_loss_epoch=7.74e+6]"
     ]
    },
    {
     "name": "stdout",
     "output_type": "stream",
     "text": [
      "\r",
      "Epoch 69/200:  34%|███▍      | 68/200 [00:46<01:26,  1.52it/s, v_num=1, train_loss_step=7.73e+6, train_loss_epoch=7.74e+6]"
     ]
    },
    {
     "name": "stdout",
     "output_type": "stream",
     "text": [
      "\r",
      "Epoch 69/200:  34%|███▍      | 69/200 [00:46<01:26,  1.52it/s, v_num=1, train_loss_step=7.73e+6, train_loss_epoch=7.74e+6]"
     ]
    },
    {
     "name": "stdout",
     "output_type": "stream",
     "text": [
      "\r",
      "Epoch 69/200:  34%|███▍      | 69/200 [00:46<01:26,  1.52it/s, v_num=1, train_loss_step=7.89e+6, train_loss_epoch=7.74e+6]"
     ]
    },
    {
     "name": "stdout",
     "output_type": "stream",
     "text": [
      "\r",
      "Epoch 70/200:  34%|███▍      | 69/200 [00:46<01:26,  1.52it/s, v_num=1, train_loss_step=7.89e+6, train_loss_epoch=7.74e+6]"
     ]
    },
    {
     "name": "stdout",
     "output_type": "stream",
     "text": [
      "\r",
      "Epoch 70/200:  35%|███▌      | 70/200 [00:47<01:25,  1.52it/s, v_num=1, train_loss_step=7.89e+6, train_loss_epoch=7.74e+6]"
     ]
    },
    {
     "name": "stdout",
     "output_type": "stream",
     "text": [
      "\r",
      "Epoch 70/200:  35%|███▌      | 70/200 [00:47<01:25,  1.52it/s, v_num=1, train_loss_step=7.5e+6, train_loss_epoch=7.73e+6] "
     ]
    },
    {
     "name": "stdout",
     "output_type": "stream",
     "text": [
      "\r",
      "Epoch 71/200:  35%|███▌      | 70/200 [00:47<01:25,  1.52it/s, v_num=1, train_loss_step=7.5e+6, train_loss_epoch=7.73e+6]"
     ]
    },
    {
     "name": "stdout",
     "output_type": "stream",
     "text": [
      "\r",
      "Epoch 71/200:  36%|███▌      | 71/200 [00:48<01:24,  1.52it/s, v_num=1, train_loss_step=7.5e+6, train_loss_epoch=7.73e+6]"
     ]
    },
    {
     "name": "stdout",
     "output_type": "stream",
     "text": [
      "\r",
      "Epoch 71/200:  36%|███▌      | 71/200 [00:48<01:24,  1.52it/s, v_num=1, train_loss_step=8.25e+6, train_loss_epoch=7.73e+6]"
     ]
    },
    {
     "name": "stdout",
     "output_type": "stream",
     "text": [
      "\r",
      "Epoch 72/200:  36%|███▌      | 71/200 [00:48<01:24,  1.52it/s, v_num=1, train_loss_step=8.25e+6, train_loss_epoch=7.73e+6]"
     ]
    },
    {
     "name": "stdout",
     "output_type": "stream",
     "text": [
      "\r",
      "Epoch 72/200:  36%|███▌      | 72/200 [00:48<01:24,  1.52it/s, v_num=1, train_loss_step=8.25e+6, train_loss_epoch=7.73e+6]"
     ]
    },
    {
     "name": "stdout",
     "output_type": "stream",
     "text": [
      "\r",
      "Epoch 72/200:  36%|███▌      | 72/200 [00:48<01:24,  1.52it/s, v_num=1, train_loss_step=7.94e+6, train_loss_epoch=7.73e+6]"
     ]
    },
    {
     "name": "stdout",
     "output_type": "stream",
     "text": [
      "\r",
      "Epoch 73/200:  36%|███▌      | 72/200 [00:48<01:24,  1.52it/s, v_num=1, train_loss_step=7.94e+6, train_loss_epoch=7.73e+6]"
     ]
    },
    {
     "name": "stdout",
     "output_type": "stream",
     "text": [
      "\r",
      "Epoch 73/200:  36%|███▋      | 73/200 [00:49<01:23,  1.52it/s, v_num=1, train_loss_step=7.94e+6, train_loss_epoch=7.73e+6]"
     ]
    },
    {
     "name": "stdout",
     "output_type": "stream",
     "text": [
      "\r",
      "Epoch 73/200:  36%|███▋      | 73/200 [00:49<01:23,  1.52it/s, v_num=1, train_loss_step=8.11e+6, train_loss_epoch=7.73e+6]"
     ]
    },
    {
     "name": "stdout",
     "output_type": "stream",
     "text": [
      "\r",
      "Epoch 74/200:  36%|███▋      | 73/200 [00:49<01:23,  1.52it/s, v_num=1, train_loss_step=8.11e+6, train_loss_epoch=7.73e+6]"
     ]
    },
    {
     "name": "stdout",
     "output_type": "stream",
     "text": [
      "\r",
      "Epoch 74/200:  37%|███▋      | 74/200 [00:50<01:23,  1.52it/s, v_num=1, train_loss_step=8.11e+6, train_loss_epoch=7.73e+6]"
     ]
    },
    {
     "name": "stdout",
     "output_type": "stream",
     "text": [
      "\r",
      "Epoch 74/200:  37%|███▋      | 74/200 [00:50<01:23,  1.52it/s, v_num=1, train_loss_step=7.79e+6, train_loss_epoch=7.74e+6]"
     ]
    },
    {
     "name": "stdout",
     "output_type": "stream",
     "text": [
      "\r",
      "Epoch 75/200:  37%|███▋      | 74/200 [00:50<01:23,  1.52it/s, v_num=1, train_loss_step=7.79e+6, train_loss_epoch=7.74e+6]"
     ]
    },
    {
     "name": "stdout",
     "output_type": "stream",
     "text": [
      "\r",
      "Epoch 75/200:  38%|███▊      | 75/200 [00:50<01:22,  1.52it/s, v_num=1, train_loss_step=7.79e+6, train_loss_epoch=7.74e+6]"
     ]
    },
    {
     "name": "stdout",
     "output_type": "stream",
     "text": [
      "\r",
      "Epoch 75/200:  38%|███▊      | 75/200 [00:50<01:22,  1.52it/s, v_num=1, train_loss_step=8.09e+6, train_loss_epoch=7.73e+6]"
     ]
    },
    {
     "name": "stdout",
     "output_type": "stream",
     "text": [
      "\r",
      "Epoch 76/200:  38%|███▊      | 75/200 [00:50<01:22,  1.52it/s, v_num=1, train_loss_step=8.09e+6, train_loss_epoch=7.73e+6]"
     ]
    },
    {
     "name": "stdout",
     "output_type": "stream",
     "text": [
      "\r",
      "Epoch 76/200:  38%|███▊      | 76/200 [00:51<01:21,  1.52it/s, v_num=1, train_loss_step=8.09e+6, train_loss_epoch=7.73e+6]"
     ]
    },
    {
     "name": "stdout",
     "output_type": "stream",
     "text": [
      "\r",
      "Epoch 76/200:  38%|███▊      | 76/200 [00:51<01:21,  1.52it/s, v_num=1, train_loss_step=7.21e+6, train_loss_epoch=7.74e+6]"
     ]
    },
    {
     "name": "stdout",
     "output_type": "stream",
     "text": [
      "\r",
      "Epoch 77/200:  38%|███▊      | 76/200 [00:51<01:21,  1.52it/s, v_num=1, train_loss_step=7.21e+6, train_loss_epoch=7.74e+6]"
     ]
    },
    {
     "name": "stdout",
     "output_type": "stream",
     "text": [
      "\r",
      "Epoch 77/200:  38%|███▊      | 77/200 [00:52<01:20,  1.52it/s, v_num=1, train_loss_step=7.21e+6, train_loss_epoch=7.74e+6]"
     ]
    },
    {
     "name": "stdout",
     "output_type": "stream",
     "text": [
      "\r",
      "Epoch 77/200:  38%|███▊      | 77/200 [00:52<01:20,  1.52it/s, v_num=1, train_loss_step=8.28e+6, train_loss_epoch=7.73e+6]"
     ]
    },
    {
     "name": "stdout",
     "output_type": "stream",
     "text": [
      "\r",
      "Epoch 78/200:  38%|███▊      | 77/200 [00:52<01:20,  1.52it/s, v_num=1, train_loss_step=8.28e+6, train_loss_epoch=7.73e+6]"
     ]
    },
    {
     "name": "stdout",
     "output_type": "stream",
     "text": [
      "\r",
      "Epoch 78/200:  39%|███▉      | 78/200 [00:52<01:20,  1.52it/s, v_num=1, train_loss_step=8.28e+6, train_loss_epoch=7.73e+6]"
     ]
    },
    {
     "name": "stdout",
     "output_type": "stream",
     "text": [
      "\r",
      "Epoch 78/200:  39%|███▉      | 78/200 [00:52<01:20,  1.52it/s, v_num=1, train_loss_step=7.86e+6, train_loss_epoch=7.74e+6]"
     ]
    },
    {
     "name": "stdout",
     "output_type": "stream",
     "text": [
      "\r",
      "Epoch 79/200:  39%|███▉      | 78/200 [00:52<01:20,  1.52it/s, v_num=1, train_loss_step=7.86e+6, train_loss_epoch=7.74e+6]"
     ]
    },
    {
     "name": "stdout",
     "output_type": "stream",
     "text": [
      "\r",
      "Epoch 79/200:  40%|███▉      | 79/200 [00:53<01:19,  1.53it/s, v_num=1, train_loss_step=7.86e+6, train_loss_epoch=7.74e+6]"
     ]
    },
    {
     "name": "stdout",
     "output_type": "stream",
     "text": [
      "\r",
      "Epoch 79/200:  40%|███▉      | 79/200 [00:53<01:19,  1.53it/s, v_num=1, train_loss_step=7.91e+6, train_loss_epoch=7.74e+6]"
     ]
    },
    {
     "name": "stdout",
     "output_type": "stream",
     "text": [
      "\r",
      "Epoch 80/200:  40%|███▉      | 79/200 [00:53<01:19,  1.53it/s, v_num=1, train_loss_step=7.91e+6, train_loss_epoch=7.74e+6]"
     ]
    },
    {
     "name": "stdout",
     "output_type": "stream",
     "text": [
      "\r",
      "Epoch 80/200:  40%|████      | 80/200 [00:54<01:18,  1.54it/s, v_num=1, train_loss_step=7.91e+6, train_loss_epoch=7.74e+6]"
     ]
    },
    {
     "name": "stdout",
     "output_type": "stream",
     "text": [
      "\r",
      "Epoch 80/200:  40%|████      | 80/200 [00:54<01:18,  1.54it/s, v_num=1, train_loss_step=7.6e+6, train_loss_epoch=7.74e+6] "
     ]
    },
    {
     "name": "stdout",
     "output_type": "stream",
     "text": [
      "\r",
      "Epoch 81/200:  40%|████      | 80/200 [00:54<01:18,  1.54it/s, v_num=1, train_loss_step=7.6e+6, train_loss_epoch=7.74e+6]"
     ]
    },
    {
     "name": "stdout",
     "output_type": "stream",
     "text": [
      "\r",
      "Epoch 81/200:  40%|████      | 81/200 [00:54<01:17,  1.54it/s, v_num=1, train_loss_step=7.6e+6, train_loss_epoch=7.74e+6]"
     ]
    },
    {
     "name": "stdout",
     "output_type": "stream",
     "text": [
      "\r",
      "Epoch 81/200:  40%|████      | 81/200 [00:54<01:17,  1.54it/s, v_num=1, train_loss_step=7.67e+6, train_loss_epoch=7.73e+6]"
     ]
    },
    {
     "name": "stdout",
     "output_type": "stream",
     "text": [
      "\r",
      "Epoch 82/200:  40%|████      | 81/200 [00:54<01:17,  1.54it/s, v_num=1, train_loss_step=7.67e+6, train_loss_epoch=7.73e+6]"
     ]
    },
    {
     "name": "stdout",
     "output_type": "stream",
     "text": [
      "\r",
      "Epoch 82/200:  41%|████      | 82/200 [00:55<01:16,  1.54it/s, v_num=1, train_loss_step=7.67e+6, train_loss_epoch=7.73e+6]"
     ]
    },
    {
     "name": "stdout",
     "output_type": "stream",
     "text": [
      "\r",
      "Epoch 82/200:  41%|████      | 82/200 [00:55<01:16,  1.54it/s, v_num=1, train_loss_step=7.55e+6, train_loss_epoch=7.73e+6]"
     ]
    },
    {
     "name": "stdout",
     "output_type": "stream",
     "text": [
      "\r",
      "Epoch 83/200:  41%|████      | 82/200 [00:55<01:16,  1.54it/s, v_num=1, train_loss_step=7.55e+6, train_loss_epoch=7.73e+6]"
     ]
    },
    {
     "name": "stdout",
     "output_type": "stream",
     "text": [
      "\r",
      "Epoch 83/200:  42%|████▏     | 83/200 [00:56<01:15,  1.55it/s, v_num=1, train_loss_step=7.55e+6, train_loss_epoch=7.73e+6]"
     ]
    },
    {
     "name": "stdout",
     "output_type": "stream",
     "text": [
      "\r",
      "Epoch 83/200:  42%|████▏     | 83/200 [00:56<01:15,  1.55it/s, v_num=1, train_loss_step=7.85e+6, train_loss_epoch=7.73e+6]"
     ]
    },
    {
     "name": "stdout",
     "output_type": "stream",
     "text": [
      "\r",
      "Epoch 84/200:  42%|████▏     | 83/200 [00:56<01:15,  1.55it/s, v_num=1, train_loss_step=7.85e+6, train_loss_epoch=7.73e+6]"
     ]
    },
    {
     "name": "stdout",
     "output_type": "stream",
     "text": [
      "\r",
      "Epoch 84/200:  42%|████▏     | 84/200 [00:56<01:14,  1.55it/s, v_num=1, train_loss_step=7.85e+6, train_loss_epoch=7.73e+6]"
     ]
    },
    {
     "name": "stdout",
     "output_type": "stream",
     "text": [
      "\r",
      "Epoch 84/200:  42%|████▏     | 84/200 [00:56<01:14,  1.55it/s, v_num=1, train_loss_step=7.87e+6, train_loss_epoch=7.73e+6]"
     ]
    },
    {
     "name": "stdout",
     "output_type": "stream",
     "text": [
      "\r",
      "Epoch 85/200:  42%|████▏     | 84/200 [00:56<01:14,  1.55it/s, v_num=1, train_loss_step=7.87e+6, train_loss_epoch=7.73e+6]"
     ]
    },
    {
     "name": "stdout",
     "output_type": "stream",
     "text": [
      "\r",
      "Epoch 85/200:  42%|████▎     | 85/200 [00:57<01:14,  1.55it/s, v_num=1, train_loss_step=7.87e+6, train_loss_epoch=7.73e+6]"
     ]
    },
    {
     "name": "stdout",
     "output_type": "stream",
     "text": [
      "\r",
      "Epoch 85/200:  42%|████▎     | 85/200 [00:57<01:14,  1.55it/s, v_num=1, train_loss_step=7.6e+6, train_loss_epoch=7.73e+6] "
     ]
    },
    {
     "name": "stdout",
     "output_type": "stream",
     "text": [
      "\r",
      "Epoch 86/200:  42%|████▎     | 85/200 [00:57<01:14,  1.55it/s, v_num=1, train_loss_step=7.6e+6, train_loss_epoch=7.73e+6]"
     ]
    },
    {
     "name": "stdout",
     "output_type": "stream",
     "text": [
      "\r",
      "Epoch 86/200:  43%|████▎     | 86/200 [00:57<01:13,  1.55it/s, v_num=1, train_loss_step=7.6e+6, train_loss_epoch=7.73e+6]"
     ]
    },
    {
     "name": "stdout",
     "output_type": "stream",
     "text": [
      "\r",
      "Epoch 86/200:  43%|████▎     | 86/200 [00:57<01:13,  1.55it/s, v_num=1, train_loss_step=7.64e+6, train_loss_epoch=7.74e+6]"
     ]
    },
    {
     "name": "stdout",
     "output_type": "stream",
     "text": [
      "\r",
      "Epoch 87/200:  43%|████▎     | 86/200 [00:57<01:13,  1.55it/s, v_num=1, train_loss_step=7.64e+6, train_loss_epoch=7.74e+6]"
     ]
    },
    {
     "name": "stdout",
     "output_type": "stream",
     "text": [
      "\r",
      "Epoch 87/200:  44%|████▎     | 87/200 [00:58<01:12,  1.55it/s, v_num=1, train_loss_step=7.64e+6, train_loss_epoch=7.74e+6]"
     ]
    },
    {
     "name": "stdout",
     "output_type": "stream",
     "text": [
      "\r",
      "Epoch 87/200:  44%|████▎     | 87/200 [00:58<01:12,  1.55it/s, v_num=1, train_loss_step=8.04e+6, train_loss_epoch=7.74e+6]"
     ]
    },
    {
     "name": "stdout",
     "output_type": "stream",
     "text": [
      "\r",
      "Epoch 88/200:  44%|████▎     | 87/200 [00:58<01:12,  1.55it/s, v_num=1, train_loss_step=8.04e+6, train_loss_epoch=7.74e+6]"
     ]
    },
    {
     "name": "stdout",
     "output_type": "stream",
     "text": [
      "\r",
      "Epoch 88/200:  44%|████▍     | 88/200 [00:59<01:12,  1.55it/s, v_num=1, train_loss_step=8.04e+6, train_loss_epoch=7.74e+6]"
     ]
    },
    {
     "name": "stdout",
     "output_type": "stream",
     "text": [
      "\r",
      "Epoch 88/200:  44%|████▍     | 88/200 [00:59<01:12,  1.55it/s, v_num=1, train_loss_step=7.97e+6, train_loss_epoch=7.74e+6]"
     ]
    },
    {
     "name": "stdout",
     "output_type": "stream",
     "text": [
      "\r",
      "Epoch 89/200:  44%|████▍     | 88/200 [00:59<01:12,  1.55it/s, v_num=1, train_loss_step=7.97e+6, train_loss_epoch=7.74e+6]"
     ]
    },
    {
     "name": "stdout",
     "output_type": "stream",
     "text": [
      "\r",
      "Epoch 89/200:  44%|████▍     | 89/200 [00:59<01:11,  1.55it/s, v_num=1, train_loss_step=7.97e+6, train_loss_epoch=7.74e+6]"
     ]
    },
    {
     "name": "stdout",
     "output_type": "stream",
     "text": [
      "\r",
      "Epoch 89/200:  44%|████▍     | 89/200 [00:59<01:11,  1.55it/s, v_num=1, train_loss_step=7.12e+6, train_loss_epoch=7.74e+6]"
     ]
    },
    {
     "name": "stdout",
     "output_type": "stream",
     "text": [
      "\r",
      "Epoch 90/200:  44%|████▍     | 89/200 [00:59<01:11,  1.55it/s, v_num=1, train_loss_step=7.12e+6, train_loss_epoch=7.74e+6]"
     ]
    },
    {
     "name": "stdout",
     "output_type": "stream",
     "text": [
      "\r",
      "Epoch 90/200:  45%|████▌     | 90/200 [01:00<01:10,  1.55it/s, v_num=1, train_loss_step=7.12e+6, train_loss_epoch=7.74e+6]"
     ]
    },
    {
     "name": "stdout",
     "output_type": "stream",
     "text": [
      "\r",
      "Epoch 90/200:  45%|████▌     | 90/200 [01:00<01:10,  1.55it/s, v_num=1, train_loss_step=7.85e+6, train_loss_epoch=7.74e+6]"
     ]
    },
    {
     "name": "stdout",
     "output_type": "stream",
     "text": [
      "\r",
      "Epoch 91/200:  45%|████▌     | 90/200 [01:00<01:10,  1.55it/s, v_num=1, train_loss_step=7.85e+6, train_loss_epoch=7.74e+6]"
     ]
    },
    {
     "name": "stdout",
     "output_type": "stream",
     "text": [
      "\r",
      "Epoch 91/200:  46%|████▌     | 91/200 [01:01<01:10,  1.55it/s, v_num=1, train_loss_step=7.85e+6, train_loss_epoch=7.74e+6]"
     ]
    },
    {
     "name": "stdout",
     "output_type": "stream",
     "text": [
      "\r",
      "Epoch 91/200:  46%|████▌     | 91/200 [01:01<01:10,  1.55it/s, v_num=1, train_loss_step=8.22e+6, train_loss_epoch=7.74e+6]"
     ]
    },
    {
     "name": "stdout",
     "output_type": "stream",
     "text": [
      "\r",
      "Epoch 92/200:  46%|████▌     | 91/200 [01:01<01:10,  1.55it/s, v_num=1, train_loss_step=8.22e+6, train_loss_epoch=7.74e+6]"
     ]
    },
    {
     "name": "stdout",
     "output_type": "stream",
     "text": [
      "\r",
      "Epoch 92/200:  46%|████▌     | 92/200 [01:01<01:09,  1.55it/s, v_num=1, train_loss_step=8.22e+6, train_loss_epoch=7.74e+6]"
     ]
    },
    {
     "name": "stdout",
     "output_type": "stream",
     "text": [
      "\r",
      "Epoch 92/200:  46%|████▌     | 92/200 [01:01<01:09,  1.55it/s, v_num=1, train_loss_step=7.86e+6, train_loss_epoch=7.74e+6]"
     ]
    },
    {
     "name": "stdout",
     "output_type": "stream",
     "text": [
      "\r",
      "Epoch 93/200:  46%|████▌     | 92/200 [01:01<01:09,  1.55it/s, v_num=1, train_loss_step=7.86e+6, train_loss_epoch=7.74e+6]"
     ]
    },
    {
     "name": "stdout",
     "output_type": "stream",
     "text": [
      "\r",
      "Epoch 93/200:  46%|████▋     | 93/200 [01:02<01:08,  1.55it/s, v_num=1, train_loss_step=7.86e+6, train_loss_epoch=7.74e+6]"
     ]
    },
    {
     "name": "stdout",
     "output_type": "stream",
     "text": [
      "\r",
      "Epoch 93/200:  46%|████▋     | 93/200 [01:02<01:08,  1.55it/s, v_num=1, train_loss_step=7.34e+6, train_loss_epoch=7.74e+6]"
     ]
    },
    {
     "name": "stdout",
     "output_type": "stream",
     "text": [
      "\r",
      "Epoch 94/200:  46%|████▋     | 93/200 [01:02<01:08,  1.55it/s, v_num=1, train_loss_step=7.34e+6, train_loss_epoch=7.74e+6]"
     ]
    },
    {
     "name": "stdout",
     "output_type": "stream",
     "text": [
      "\r",
      "Epoch 94/200:  47%|████▋     | 94/200 [01:03<01:08,  1.55it/s, v_num=1, train_loss_step=7.34e+6, train_loss_epoch=7.74e+6]"
     ]
    },
    {
     "name": "stdout",
     "output_type": "stream",
     "text": [
      "\r",
      "Epoch 94/200:  47%|████▋     | 94/200 [01:03<01:08,  1.55it/s, v_num=1, train_loss_step=7.99e+6, train_loss_epoch=7.74e+6]"
     ]
    },
    {
     "name": "stdout",
     "output_type": "stream",
     "text": [
      "\r",
      "Epoch 95/200:  47%|████▋     | 94/200 [01:03<01:08,  1.55it/s, v_num=1, train_loss_step=7.99e+6, train_loss_epoch=7.74e+6]"
     ]
    },
    {
     "name": "stdout",
     "output_type": "stream",
     "text": [
      "\r",
      "Epoch 95/200:  48%|████▊     | 95/200 [01:03<01:07,  1.55it/s, v_num=1, train_loss_step=7.99e+6, train_loss_epoch=7.74e+6]"
     ]
    },
    {
     "name": "stdout",
     "output_type": "stream",
     "text": [
      "\r",
      "Epoch 95/200:  48%|████▊     | 95/200 [01:03<01:07,  1.55it/s, v_num=1, train_loss_step=7.61e+6, train_loss_epoch=7.74e+6]"
     ]
    },
    {
     "name": "stdout",
     "output_type": "stream",
     "text": [
      "\r",
      "Epoch 96/200:  48%|████▊     | 95/200 [01:03<01:07,  1.55it/s, v_num=1, train_loss_step=7.61e+6, train_loss_epoch=7.74e+6]"
     ]
    },
    {
     "name": "stdout",
     "output_type": "stream",
     "text": [
      "\r",
      "Epoch 96/200:  48%|████▊     | 96/200 [01:04<01:07,  1.55it/s, v_num=1, train_loss_step=7.61e+6, train_loss_epoch=7.74e+6]"
     ]
    },
    {
     "name": "stdout",
     "output_type": "stream",
     "text": [
      "\r",
      "Epoch 96/200:  48%|████▊     | 96/200 [01:04<01:07,  1.55it/s, v_num=1, train_loss_step=7.72e+6, train_loss_epoch=7.74e+6]"
     ]
    },
    {
     "name": "stdout",
     "output_type": "stream",
     "text": [
      "\r",
      "Epoch 97/200:  48%|████▊     | 96/200 [01:04<01:07,  1.55it/s, v_num=1, train_loss_step=7.72e+6, train_loss_epoch=7.74e+6]"
     ]
    },
    {
     "name": "stdout",
     "output_type": "stream",
     "text": [
      "\r",
      "Epoch 97/200:  48%|████▊     | 97/200 [01:05<01:06,  1.55it/s, v_num=1, train_loss_step=7.72e+6, train_loss_epoch=7.74e+6]"
     ]
    },
    {
     "name": "stdout",
     "output_type": "stream",
     "text": [
      "\r",
      "Epoch 97/200:  48%|████▊     | 97/200 [01:05<01:06,  1.55it/s, v_num=1, train_loss_step=7.73e+6, train_loss_epoch=7.74e+6]"
     ]
    },
    {
     "name": "stdout",
     "output_type": "stream",
     "text": [
      "\r",
      "Epoch 98/200:  48%|████▊     | 97/200 [01:05<01:06,  1.55it/s, v_num=1, train_loss_step=7.73e+6, train_loss_epoch=7.74e+6]"
     ]
    },
    {
     "name": "stdout",
     "output_type": "stream",
     "text": [
      "\r",
      "Epoch 98/200:  49%|████▉     | 98/200 [01:05<01:05,  1.55it/s, v_num=1, train_loss_step=7.73e+6, train_loss_epoch=7.74e+6]"
     ]
    },
    {
     "name": "stdout",
     "output_type": "stream",
     "text": [
      "\r",
      "Epoch 98/200:  49%|████▉     | 98/200 [01:05<01:05,  1.55it/s, v_num=1, train_loss_step=7.5e+6, train_loss_epoch=7.74e+6] "
     ]
    },
    {
     "name": "stdout",
     "output_type": "stream",
     "text": [
      "\r",
      "Epoch 99/200:  49%|████▉     | 98/200 [01:05<01:05,  1.55it/s, v_num=1, train_loss_step=7.5e+6, train_loss_epoch=7.74e+6]"
     ]
    },
    {
     "name": "stdout",
     "output_type": "stream",
     "text": [
      "\r",
      "Epoch 99/200:  50%|████▉     | 99/200 [01:06<01:05,  1.55it/s, v_num=1, train_loss_step=7.5e+6, train_loss_epoch=7.74e+6]"
     ]
    },
    {
     "name": "stdout",
     "output_type": "stream",
     "text": [
      "\r",
      "Epoch 99/200:  50%|████▉     | 99/200 [01:06<01:05,  1.55it/s, v_num=1, train_loss_step=8.05e+6, train_loss_epoch=7.74e+6]"
     ]
    },
    {
     "name": "stdout",
     "output_type": "stream",
     "text": [
      "\r",
      "Epoch 100/200:  50%|████▉     | 99/200 [01:06<01:05,  1.55it/s, v_num=1, train_loss_step=8.05e+6, train_loss_epoch=7.74e+6]"
     ]
    },
    {
     "name": "stdout",
     "output_type": "stream",
     "text": [
      "\r",
      "Epoch 100/200:  50%|█████     | 100/200 [01:06<01:04,  1.55it/s, v_num=1, train_loss_step=8.05e+6, train_loss_epoch=7.74e+6]"
     ]
    },
    {
     "name": "stdout",
     "output_type": "stream",
     "text": [
      "\r",
      "Epoch 100/200:  50%|█████     | 100/200 [01:06<01:04,  1.55it/s, v_num=1, train_loss_step=7.45e+6, train_loss_epoch=7.74e+6]"
     ]
    },
    {
     "name": "stdout",
     "output_type": "stream",
     "text": [
      "\r",
      "Epoch 101/200:  50%|█████     | 100/200 [01:06<01:04,  1.55it/s, v_num=1, train_loss_step=7.45e+6, train_loss_epoch=7.74e+6]"
     ]
    },
    {
     "name": "stdout",
     "output_type": "stream",
     "text": [
      "\r",
      "Epoch 101/200:  50%|█████     | 101/200 [01:07<01:03,  1.55it/s, v_num=1, train_loss_step=7.45e+6, train_loss_epoch=7.74e+6]"
     ]
    },
    {
     "name": "stdout",
     "output_type": "stream",
     "text": [
      "\r",
      "Epoch 101/200:  50%|█████     | 101/200 [01:07<01:03,  1.55it/s, v_num=1, train_loss_step=7.99e+6, train_loss_epoch=7.74e+6]"
     ]
    },
    {
     "name": "stdout",
     "output_type": "stream",
     "text": [
      "\r",
      "Epoch 102/200:  50%|█████     | 101/200 [01:07<01:03,  1.55it/s, v_num=1, train_loss_step=7.99e+6, train_loss_epoch=7.74e+6]"
     ]
    },
    {
     "name": "stdout",
     "output_type": "stream",
     "text": [
      "\r",
      "Epoch 102/200:  51%|█████     | 102/200 [01:08<01:03,  1.55it/s, v_num=1, train_loss_step=7.99e+6, train_loss_epoch=7.74e+6]"
     ]
    },
    {
     "name": "stdout",
     "output_type": "stream",
     "text": [
      "\r",
      "Epoch 102/200:  51%|█████     | 102/200 [01:08<01:03,  1.55it/s, v_num=1, train_loss_step=7.6e+6, train_loss_epoch=7.74e+6] "
     ]
    },
    {
     "name": "stdout",
     "output_type": "stream",
     "text": [
      "\r",
      "Epoch 103/200:  51%|█████     | 102/200 [01:08<01:03,  1.55it/s, v_num=1, train_loss_step=7.6e+6, train_loss_epoch=7.74e+6]"
     ]
    },
    {
     "name": "stdout",
     "output_type": "stream",
     "text": [
      "\r",
      "Epoch 103/200:  52%|█████▏    | 103/200 [01:08<01:02,  1.55it/s, v_num=1, train_loss_step=7.6e+6, train_loss_epoch=7.74e+6]"
     ]
    },
    {
     "name": "stdout",
     "output_type": "stream",
     "text": [
      "\r",
      "Epoch 103/200:  52%|█████▏    | 103/200 [01:08<01:02,  1.55it/s, v_num=1, train_loss_step=7.81e+6, train_loss_epoch=7.74e+6]"
     ]
    },
    {
     "name": "stdout",
     "output_type": "stream",
     "text": [
      "\r",
      "Epoch 104/200:  52%|█████▏    | 103/200 [01:08<01:02,  1.55it/s, v_num=1, train_loss_step=7.81e+6, train_loss_epoch=7.74e+6]"
     ]
    },
    {
     "name": "stdout",
     "output_type": "stream",
     "text": [
      "\r",
      "Epoch 104/200:  52%|█████▏    | 104/200 [01:09<01:01,  1.55it/s, v_num=1, train_loss_step=7.81e+6, train_loss_epoch=7.74e+6]"
     ]
    },
    {
     "name": "stdout",
     "output_type": "stream",
     "text": [
      "\r",
      "Epoch 104/200:  52%|█████▏    | 104/200 [01:09<01:01,  1.55it/s, v_num=1, train_loss_step=8.28e+6, train_loss_epoch=7.74e+6]"
     ]
    },
    {
     "name": "stdout",
     "output_type": "stream",
     "text": [
      "\r",
      "Epoch 105/200:  52%|█████▏    | 104/200 [01:09<01:01,  1.55it/s, v_num=1, train_loss_step=8.28e+6, train_loss_epoch=7.74e+6]"
     ]
    },
    {
     "name": "stdout",
     "output_type": "stream",
     "text": [
      "\r",
      "Epoch 105/200:  52%|█████▎    | 105/200 [01:10<01:01,  1.55it/s, v_num=1, train_loss_step=8.28e+6, train_loss_epoch=7.74e+6]"
     ]
    },
    {
     "name": "stdout",
     "output_type": "stream",
     "text": [
      "\r",
      "Epoch 105/200:  52%|█████▎    | 105/200 [01:10<01:01,  1.55it/s, v_num=1, train_loss_step=8.08e+6, train_loss_epoch=7.74e+6]"
     ]
    },
    {
     "name": "stdout",
     "output_type": "stream",
     "text": [
      "\r",
      "Epoch 106/200:  52%|█████▎    | 105/200 [01:10<01:01,  1.55it/s, v_num=1, train_loss_step=8.08e+6, train_loss_epoch=7.74e+6]"
     ]
    },
    {
     "name": "stdout",
     "output_type": "stream",
     "text": [
      "\r",
      "Epoch 106/200:  53%|█████▎    | 106/200 [01:10<01:00,  1.55it/s, v_num=1, train_loss_step=8.08e+6, train_loss_epoch=7.74e+6]"
     ]
    },
    {
     "name": "stdout",
     "output_type": "stream",
     "text": [
      "\r",
      "Epoch 106/200:  53%|█████▎    | 106/200 [01:10<01:00,  1.55it/s, v_num=1, train_loss_step=7.41e+6, train_loss_epoch=7.74e+6]"
     ]
    },
    {
     "name": "stdout",
     "output_type": "stream",
     "text": [
      "\r",
      "Epoch 107/200:  53%|█████▎    | 106/200 [01:10<01:00,  1.55it/s, v_num=1, train_loss_step=7.41e+6, train_loss_epoch=7.74e+6]"
     ]
    },
    {
     "name": "stdout",
     "output_type": "stream",
     "text": [
      "\r",
      "Epoch 107/200:  54%|█████▎    | 107/200 [01:11<00:59,  1.55it/s, v_num=1, train_loss_step=7.41e+6, train_loss_epoch=7.74e+6]"
     ]
    },
    {
     "name": "stdout",
     "output_type": "stream",
     "text": [
      "\r",
      "Epoch 107/200:  54%|█████▎    | 107/200 [01:11<00:59,  1.55it/s, v_num=1, train_loss_step=7.3e+6, train_loss_epoch=7.74e+6] "
     ]
    },
    {
     "name": "stdout",
     "output_type": "stream",
     "text": [
      "\r",
      "Epoch 108/200:  54%|█████▎    | 107/200 [01:11<00:59,  1.55it/s, v_num=1, train_loss_step=7.3e+6, train_loss_epoch=7.74e+6]"
     ]
    },
    {
     "name": "stdout",
     "output_type": "stream",
     "text": [
      "\r",
      "Epoch 108/200:  54%|█████▍    | 108/200 [01:12<00:59,  1.55it/s, v_num=1, train_loss_step=7.3e+6, train_loss_epoch=7.74e+6]"
     ]
    },
    {
     "name": "stdout",
     "output_type": "stream",
     "text": [
      "\r",
      "Epoch 108/200:  54%|█████▍    | 108/200 [01:12<00:59,  1.55it/s, v_num=1, train_loss_step=7.85e+6, train_loss_epoch=7.74e+6]"
     ]
    },
    {
     "name": "stdout",
     "output_type": "stream",
     "text": [
      "\r",
      "Epoch 109/200:  54%|█████▍    | 108/200 [01:12<00:59,  1.55it/s, v_num=1, train_loss_step=7.85e+6, train_loss_epoch=7.74e+6]"
     ]
    },
    {
     "name": "stdout",
     "output_type": "stream",
     "text": [
      "\r",
      "Epoch 109/200:  55%|█████▍    | 109/200 [01:12<00:58,  1.55it/s, v_num=1, train_loss_step=7.85e+6, train_loss_epoch=7.74e+6]"
     ]
    },
    {
     "name": "stdout",
     "output_type": "stream",
     "text": [
      "\r",
      "Epoch 109/200:  55%|█████▍    | 109/200 [01:12<00:58,  1.55it/s, v_num=1, train_loss_step=7.49e+6, train_loss_epoch=7.74e+6]"
     ]
    },
    {
     "name": "stdout",
     "output_type": "stream",
     "text": [
      "\r",
      "Epoch 110/200:  55%|█████▍    | 109/200 [01:12<00:58,  1.55it/s, v_num=1, train_loss_step=7.49e+6, train_loss_epoch=7.74e+6]"
     ]
    },
    {
     "name": "stdout",
     "output_type": "stream",
     "text": [
      "\r",
      "Epoch 110/200:  55%|█████▌    | 110/200 [01:13<00:57,  1.55it/s, v_num=1, train_loss_step=7.49e+6, train_loss_epoch=7.74e+6]"
     ]
    },
    {
     "name": "stdout",
     "output_type": "stream",
     "text": [
      "\r",
      "Epoch 110/200:  55%|█████▌    | 110/200 [01:13<00:57,  1.55it/s, v_num=1, train_loss_step=8.01e+6, train_loss_epoch=7.74e+6]"
     ]
    },
    {
     "name": "stdout",
     "output_type": "stream",
     "text": [
      "\r",
      "Epoch 111/200:  55%|█████▌    | 110/200 [01:13<00:57,  1.55it/s, v_num=1, train_loss_step=8.01e+6, train_loss_epoch=7.74e+6]"
     ]
    },
    {
     "name": "stdout",
     "output_type": "stream",
     "text": [
      "\r",
      "Epoch 111/200:  56%|█████▌    | 111/200 [01:14<00:57,  1.55it/s, v_num=1, train_loss_step=8.01e+6, train_loss_epoch=7.74e+6]"
     ]
    },
    {
     "name": "stdout",
     "output_type": "stream",
     "text": [
      "\r",
      "Epoch 111/200:  56%|█████▌    | 111/200 [01:14<00:57,  1.55it/s, v_num=1, train_loss_step=7.63e+6, train_loss_epoch=7.74e+6]"
     ]
    },
    {
     "name": "stdout",
     "output_type": "stream",
     "text": [
      "\r",
      "Epoch 112/200:  56%|█████▌    | 111/200 [01:14<00:57,  1.55it/s, v_num=1, train_loss_step=7.63e+6, train_loss_epoch=7.74e+6]"
     ]
    },
    {
     "name": "stdout",
     "output_type": "stream",
     "text": [
      "\r",
      "Epoch 112/200:  56%|█████▌    | 112/200 [01:14<00:56,  1.55it/s, v_num=1, train_loss_step=7.63e+6, train_loss_epoch=7.74e+6]"
     ]
    },
    {
     "name": "stdout",
     "output_type": "stream",
     "text": [
      "\r",
      "Epoch 112/200:  56%|█████▌    | 112/200 [01:14<00:56,  1.55it/s, v_num=1, train_loss_step=7.72e+6, train_loss_epoch=7.74e+6]"
     ]
    },
    {
     "name": "stdout",
     "output_type": "stream",
     "text": [
      "\r",
      "Epoch 113/200:  56%|█████▌    | 112/200 [01:14<00:56,  1.55it/s, v_num=1, train_loss_step=7.72e+6, train_loss_epoch=7.74e+6]"
     ]
    },
    {
     "name": "stdout",
     "output_type": "stream",
     "text": [
      "\r",
      "Epoch 113/200:  56%|█████▋    | 113/200 [01:15<00:56,  1.55it/s, v_num=1, train_loss_step=7.72e+6, train_loss_epoch=7.74e+6]"
     ]
    },
    {
     "name": "stdout",
     "output_type": "stream",
     "text": [
      "\r",
      "Epoch 113/200:  56%|█████▋    | 113/200 [01:15<00:56,  1.55it/s, v_num=1, train_loss_step=7.87e+6, train_loss_epoch=7.74e+6]"
     ]
    },
    {
     "name": "stdout",
     "output_type": "stream",
     "text": [
      "\r",
      "Epoch 114/200:  56%|█████▋    | 113/200 [01:15<00:56,  1.55it/s, v_num=1, train_loss_step=7.87e+6, train_loss_epoch=7.74e+6]"
     ]
    },
    {
     "name": "stdout",
     "output_type": "stream",
     "text": [
      "\r",
      "Epoch 114/200:  57%|█████▋    | 114/200 [01:15<00:55,  1.55it/s, v_num=1, train_loss_step=7.87e+6, train_loss_epoch=7.74e+6]"
     ]
    },
    {
     "name": "stdout",
     "output_type": "stream",
     "text": [
      "\r",
      "Epoch 114/200:  57%|█████▋    | 114/200 [01:15<00:55,  1.55it/s, v_num=1, train_loss_step=7.7e+6, train_loss_epoch=7.74e+6] "
     ]
    },
    {
     "name": "stdout",
     "output_type": "stream",
     "text": [
      "\r",
      "Epoch 115/200:  57%|█████▋    | 114/200 [01:15<00:55,  1.55it/s, v_num=1, train_loss_step=7.7e+6, train_loss_epoch=7.74e+6]"
     ]
    },
    {
     "name": "stdout",
     "output_type": "stream",
     "text": [
      "\r",
      "Epoch 115/200:  57%|█████▊    | 115/200 [01:16<00:54,  1.55it/s, v_num=1, train_loss_step=7.7e+6, train_loss_epoch=7.74e+6]"
     ]
    },
    {
     "name": "stdout",
     "output_type": "stream",
     "text": [
      "\r",
      "Epoch 115/200:  57%|█████▊    | 115/200 [01:16<00:54,  1.55it/s, v_num=1, train_loss_step=7.6e+6, train_loss_epoch=7.74e+6]"
     ]
    },
    {
     "name": "stdout",
     "output_type": "stream",
     "text": [
      "\r",
      "Epoch 116/200:  57%|█████▊    | 115/200 [01:16<00:54,  1.55it/s, v_num=1, train_loss_step=7.6e+6, train_loss_epoch=7.74e+6]"
     ]
    },
    {
     "name": "stdout",
     "output_type": "stream",
     "text": [
      "\r",
      "Epoch 116/200:  58%|█████▊    | 116/200 [01:17<00:54,  1.55it/s, v_num=1, train_loss_step=7.6e+6, train_loss_epoch=7.74e+6]"
     ]
    },
    {
     "name": "stdout",
     "output_type": "stream",
     "text": [
      "\r",
      "Epoch 116/200:  58%|█████▊    | 116/200 [01:17<00:54,  1.55it/s, v_num=1, train_loss_step=7.71e+6, train_loss_epoch=7.74e+6]"
     ]
    },
    {
     "name": "stdout",
     "output_type": "stream",
     "text": [
      "\r",
      "Epoch 117/200:  58%|█████▊    | 116/200 [01:17<00:54,  1.55it/s, v_num=1, train_loss_step=7.71e+6, train_loss_epoch=7.74e+6]"
     ]
    },
    {
     "name": "stdout",
     "output_type": "stream",
     "text": [
      "\r",
      "Epoch 117/200:  58%|█████▊    | 117/200 [01:17<00:53,  1.55it/s, v_num=1, train_loss_step=7.71e+6, train_loss_epoch=7.74e+6]"
     ]
    },
    {
     "name": "stdout",
     "output_type": "stream",
     "text": [
      "\r",
      "Epoch 117/200:  58%|█████▊    | 117/200 [01:17<00:53,  1.55it/s, v_num=1, train_loss_step=7.76e+6, train_loss_epoch=7.74e+6]"
     ]
    },
    {
     "name": "stdout",
     "output_type": "stream",
     "text": [
      "\r",
      "Epoch 118/200:  58%|█████▊    | 117/200 [01:17<00:53,  1.55it/s, v_num=1, train_loss_step=7.76e+6, train_loss_epoch=7.74e+6]"
     ]
    },
    {
     "name": "stdout",
     "output_type": "stream",
     "text": [
      "\r",
      "Epoch 118/200:  59%|█████▉    | 118/200 [01:18<00:52,  1.55it/s, v_num=1, train_loss_step=7.76e+6, train_loss_epoch=7.74e+6]"
     ]
    },
    {
     "name": "stdout",
     "output_type": "stream",
     "text": [
      "\r",
      "Epoch 118/200:  59%|█████▉    | 118/200 [01:18<00:52,  1.55it/s, v_num=1, train_loss_step=7.98e+6, train_loss_epoch=7.74e+6]"
     ]
    },
    {
     "name": "stdout",
     "output_type": "stream",
     "text": [
      "\r",
      "Epoch 119/200:  59%|█████▉    | 118/200 [01:18<00:52,  1.55it/s, v_num=1, train_loss_step=7.98e+6, train_loss_epoch=7.74e+6]"
     ]
    },
    {
     "name": "stdout",
     "output_type": "stream",
     "text": [
      "\r",
      "Epoch 119/200:  60%|█████▉    | 119/200 [01:19<00:52,  1.55it/s, v_num=1, train_loss_step=7.98e+6, train_loss_epoch=7.74e+6]"
     ]
    },
    {
     "name": "stdout",
     "output_type": "stream",
     "text": [
      "\r",
      "Epoch 119/200:  60%|█████▉    | 119/200 [01:19<00:52,  1.55it/s, v_num=1, train_loss_step=7.42e+6, train_loss_epoch=7.74e+6]"
     ]
    },
    {
     "name": "stdout",
     "output_type": "stream",
     "text": [
      "\r",
      "Epoch 120/200:  60%|█████▉    | 119/200 [01:19<00:52,  1.55it/s, v_num=1, train_loss_step=7.42e+6, train_loss_epoch=7.74e+6]"
     ]
    },
    {
     "name": "stdout",
     "output_type": "stream",
     "text": [
      "\r",
      "Epoch 120/200:  60%|██████    | 120/200 [01:19<00:51,  1.55it/s, v_num=1, train_loss_step=7.42e+6, train_loss_epoch=7.74e+6]"
     ]
    },
    {
     "name": "stdout",
     "output_type": "stream",
     "text": [
      "\r",
      "Epoch 120/200:  60%|██████    | 120/200 [01:19<00:51,  1.55it/s, v_num=1, train_loss_step=7.83e+6, train_loss_epoch=7.74e+6]"
     ]
    },
    {
     "name": "stdout",
     "output_type": "stream",
     "text": [
      "\r",
      "Epoch 121/200:  60%|██████    | 120/200 [01:19<00:51,  1.55it/s, v_num=1, train_loss_step=7.83e+6, train_loss_epoch=7.74e+6]"
     ]
    },
    {
     "name": "stdout",
     "output_type": "stream",
     "text": [
      "\r",
      "Epoch 121/200:  60%|██████    | 121/200 [01:20<00:50,  1.55it/s, v_num=1, train_loss_step=7.83e+6, train_loss_epoch=7.74e+6]"
     ]
    },
    {
     "name": "stdout",
     "output_type": "stream",
     "text": [
      "\r",
      "Epoch 121/200:  60%|██████    | 121/200 [01:20<00:50,  1.55it/s, v_num=1, train_loss_step=7.59e+6, train_loss_epoch=7.74e+6]"
     ]
    },
    {
     "name": "stdout",
     "output_type": "stream",
     "text": [
      "\r",
      "Epoch 122/200:  60%|██████    | 121/200 [01:20<00:50,  1.55it/s, v_num=1, train_loss_step=7.59e+6, train_loss_epoch=7.74e+6]"
     ]
    },
    {
     "name": "stdout",
     "output_type": "stream",
     "text": [
      "\r",
      "Epoch 122/200:  61%|██████    | 122/200 [01:21<00:50,  1.55it/s, v_num=1, train_loss_step=7.59e+6, train_loss_epoch=7.74e+6]"
     ]
    },
    {
     "name": "stdout",
     "output_type": "stream",
     "text": [
      "\r",
      "Epoch 122/200:  61%|██████    | 122/200 [01:21<00:50,  1.55it/s, v_num=1, train_loss_step=7.89e+6, train_loss_epoch=7.74e+6]"
     ]
    },
    {
     "name": "stdout",
     "output_type": "stream",
     "text": [
      "\r",
      "Epoch 123/200:  61%|██████    | 122/200 [01:21<00:50,  1.55it/s, v_num=1, train_loss_step=7.89e+6, train_loss_epoch=7.74e+6]"
     ]
    },
    {
     "name": "stdout",
     "output_type": "stream",
     "text": [
      "\r",
      "Epoch 123/200:  62%|██████▏   | 123/200 [01:21<00:49,  1.55it/s, v_num=1, train_loss_step=7.89e+6, train_loss_epoch=7.74e+6]"
     ]
    },
    {
     "name": "stdout",
     "output_type": "stream",
     "text": [
      "\r",
      "Epoch 123/200:  62%|██████▏   | 123/200 [01:21<00:49,  1.55it/s, v_num=1, train_loss_step=8.28e+6, train_loss_epoch=7.74e+6]"
     ]
    },
    {
     "name": "stdout",
     "output_type": "stream",
     "text": [
      "\r",
      "Epoch 124/200:  62%|██████▏   | 123/200 [01:21<00:49,  1.55it/s, v_num=1, train_loss_step=8.28e+6, train_loss_epoch=7.74e+6]"
     ]
    },
    {
     "name": "stdout",
     "output_type": "stream",
     "text": [
      "\r",
      "Epoch 124/200:  62%|██████▏   | 124/200 [01:22<00:48,  1.55it/s, v_num=1, train_loss_step=8.28e+6, train_loss_epoch=7.74e+6]"
     ]
    },
    {
     "name": "stdout",
     "output_type": "stream",
     "text": [
      "\r",
      "Epoch 124/200:  62%|██████▏   | 124/200 [01:22<00:48,  1.55it/s, v_num=1, train_loss_step=7.58e+6, train_loss_epoch=7.74e+6]"
     ]
    },
    {
     "name": "stdout",
     "output_type": "stream",
     "text": [
      "\r",
      "Epoch 125/200:  62%|██████▏   | 124/200 [01:22<00:48,  1.55it/s, v_num=1, train_loss_step=7.58e+6, train_loss_epoch=7.74e+6]"
     ]
    },
    {
     "name": "stdout",
     "output_type": "stream",
     "text": [
      "\r",
      "Epoch 125/200:  62%|██████▎   | 125/200 [01:23<00:48,  1.55it/s, v_num=1, train_loss_step=7.58e+6, train_loss_epoch=7.74e+6]"
     ]
    },
    {
     "name": "stdout",
     "output_type": "stream",
     "text": [
      "\r",
      "Epoch 125/200:  62%|██████▎   | 125/200 [01:23<00:48,  1.55it/s, v_num=1, train_loss_step=7.86e+6, train_loss_epoch=7.74e+6]"
     ]
    },
    {
     "name": "stdout",
     "output_type": "stream",
     "text": [
      "\r",
      "Epoch 126/200:  62%|██████▎   | 125/200 [01:23<00:48,  1.55it/s, v_num=1, train_loss_step=7.86e+6, train_loss_epoch=7.74e+6]"
     ]
    },
    {
     "name": "stdout",
     "output_type": "stream",
     "text": [
      "\r",
      "Epoch 126/200:  63%|██████▎   | 126/200 [01:23<00:47,  1.55it/s, v_num=1, train_loss_step=7.86e+6, train_loss_epoch=7.74e+6]"
     ]
    },
    {
     "name": "stdout",
     "output_type": "stream",
     "text": [
      "\r",
      "Epoch 126/200:  63%|██████▎   | 126/200 [01:23<00:47,  1.55it/s, v_num=1, train_loss_step=7.85e+6, train_loss_epoch=7.74e+6]"
     ]
    },
    {
     "name": "stdout",
     "output_type": "stream",
     "text": [
      "\r",
      "Epoch 127/200:  63%|██████▎   | 126/200 [01:23<00:47,  1.55it/s, v_num=1, train_loss_step=7.85e+6, train_loss_epoch=7.74e+6]"
     ]
    },
    {
     "name": "stdout",
     "output_type": "stream",
     "text": [
      "\r",
      "Epoch 127/200:  64%|██████▎   | 127/200 [01:24<00:47,  1.55it/s, v_num=1, train_loss_step=7.85e+6, train_loss_epoch=7.74e+6]"
     ]
    },
    {
     "name": "stdout",
     "output_type": "stream",
     "text": [
      "\r",
      "Epoch 127/200:  64%|██████▎   | 127/200 [01:24<00:47,  1.55it/s, v_num=1, train_loss_step=7.95e+6, train_loss_epoch=7.74e+6]"
     ]
    },
    {
     "name": "stdout",
     "output_type": "stream",
     "text": [
      "\r",
      "Epoch 128/200:  64%|██████▎   | 127/200 [01:24<00:47,  1.55it/s, v_num=1, train_loss_step=7.95e+6, train_loss_epoch=7.74e+6]"
     ]
    },
    {
     "name": "stdout",
     "output_type": "stream",
     "text": [
      "\r",
      "Epoch 128/200:  64%|██████▍   | 128/200 [01:25<00:46,  1.55it/s, v_num=1, train_loss_step=7.95e+6, train_loss_epoch=7.74e+6]"
     ]
    },
    {
     "name": "stdout",
     "output_type": "stream",
     "text": [
      "\r",
      "Epoch 128/200:  64%|██████▍   | 128/200 [01:25<00:46,  1.55it/s, v_num=1, train_loss_step=7.67e+6, train_loss_epoch=7.74e+6]"
     ]
    },
    {
     "name": "stdout",
     "output_type": "stream",
     "text": [
      "\r",
      "Epoch 129/200:  64%|██████▍   | 128/200 [01:25<00:46,  1.55it/s, v_num=1, train_loss_step=7.67e+6, train_loss_epoch=7.74e+6]"
     ]
    },
    {
     "name": "stdout",
     "output_type": "stream",
     "text": [
      "\r",
      "Epoch 129/200:  64%|██████▍   | 129/200 [01:25<00:45,  1.55it/s, v_num=1, train_loss_step=7.67e+6, train_loss_epoch=7.74e+6]"
     ]
    },
    {
     "name": "stdout",
     "output_type": "stream",
     "text": [
      "\r",
      "Epoch 129/200:  64%|██████▍   | 129/200 [01:25<00:45,  1.55it/s, v_num=1, train_loss_step=7.63e+6, train_loss_epoch=7.75e+6]"
     ]
    },
    {
     "name": "stdout",
     "output_type": "stream",
     "text": [
      "\r",
      "Epoch 130/200:  64%|██████▍   | 129/200 [01:25<00:45,  1.55it/s, v_num=1, train_loss_step=7.63e+6, train_loss_epoch=7.75e+6]"
     ]
    },
    {
     "name": "stdout",
     "output_type": "stream",
     "text": [
      "\r",
      "Epoch 130/200:  65%|██████▌   | 130/200 [01:26<00:45,  1.55it/s, v_num=1, train_loss_step=7.63e+6, train_loss_epoch=7.75e+6]"
     ]
    },
    {
     "name": "stdout",
     "output_type": "stream",
     "text": [
      "\r",
      "Epoch 130/200:  65%|██████▌   | 130/200 [01:26<00:45,  1.55it/s, v_num=1, train_loss_step=7.97e+6, train_loss_epoch=7.74e+6]"
     ]
    },
    {
     "name": "stdout",
     "output_type": "stream",
     "text": [
      "\r",
      "Epoch 131/200:  65%|██████▌   | 130/200 [01:26<00:45,  1.55it/s, v_num=1, train_loss_step=7.97e+6, train_loss_epoch=7.74e+6]"
     ]
    },
    {
     "name": "stdout",
     "output_type": "stream",
     "text": [
      "\r",
      "Epoch 131/200:  66%|██████▌   | 131/200 [01:26<00:44,  1.55it/s, v_num=1, train_loss_step=7.97e+6, train_loss_epoch=7.74e+6]"
     ]
    },
    {
     "name": "stdout",
     "output_type": "stream",
     "text": [
      "\r",
      "Epoch 131/200:  66%|██████▌   | 131/200 [01:26<00:44,  1.55it/s, v_num=1, train_loss_step=8.28e+6, train_loss_epoch=7.74e+6]"
     ]
    },
    {
     "name": "stdout",
     "output_type": "stream",
     "text": [
      "\r",
      "Epoch 132/200:  66%|██████▌   | 131/200 [01:26<00:44,  1.55it/s, v_num=1, train_loss_step=8.28e+6, train_loss_epoch=7.74e+6]"
     ]
    },
    {
     "name": "stdout",
     "output_type": "stream",
     "text": [
      "\r",
      "Epoch 132/200:  66%|██████▌   | 132/200 [01:27<00:43,  1.55it/s, v_num=1, train_loss_step=8.28e+6, train_loss_epoch=7.74e+6]"
     ]
    },
    {
     "name": "stdout",
     "output_type": "stream",
     "text": [
      "\r",
      "Epoch 132/200:  66%|██████▌   | 132/200 [01:27<00:43,  1.55it/s, v_num=1, train_loss_step=7.65e+6, train_loss_epoch=7.75e+6]"
     ]
    },
    {
     "name": "stdout",
     "output_type": "stream",
     "text": [
      "\r",
      "Epoch 133/200:  66%|██████▌   | 132/200 [01:27<00:43,  1.55it/s, v_num=1, train_loss_step=7.65e+6, train_loss_epoch=7.75e+6]"
     ]
    },
    {
     "name": "stdout",
     "output_type": "stream",
     "text": [
      "\r",
      "Epoch 133/200:  66%|██████▋   | 133/200 [01:28<00:43,  1.55it/s, v_num=1, train_loss_step=7.65e+6, train_loss_epoch=7.75e+6]"
     ]
    },
    {
     "name": "stdout",
     "output_type": "stream",
     "text": [
      "\r",
      "Epoch 133/200:  66%|██████▋   | 133/200 [01:28<00:43,  1.55it/s, v_num=1, train_loss_step=7.62e+6, train_loss_epoch=7.75e+6]"
     ]
    },
    {
     "name": "stdout",
     "output_type": "stream",
     "text": [
      "\r",
      "Epoch 134/200:  66%|██████▋   | 133/200 [01:28<00:43,  1.55it/s, v_num=1, train_loss_step=7.62e+6, train_loss_epoch=7.75e+6]"
     ]
    },
    {
     "name": "stdout",
     "output_type": "stream",
     "text": [
      "\r",
      "Epoch 134/200:  67%|██████▋   | 134/200 [01:28<00:42,  1.55it/s, v_num=1, train_loss_step=7.62e+6, train_loss_epoch=7.75e+6]"
     ]
    },
    {
     "name": "stdout",
     "output_type": "stream",
     "text": [
      "\r",
      "Epoch 134/200:  67%|██████▋   | 134/200 [01:28<00:42,  1.55it/s, v_num=1, train_loss_step=7.91e+6, train_loss_epoch=7.74e+6]"
     ]
    },
    {
     "name": "stdout",
     "output_type": "stream",
     "text": [
      "\r",
      "Epoch 135/200:  67%|██████▋   | 134/200 [01:28<00:42,  1.55it/s, v_num=1, train_loss_step=7.91e+6, train_loss_epoch=7.74e+6]"
     ]
    },
    {
     "name": "stdout",
     "output_type": "stream",
     "text": [
      "\r",
      "Epoch 135/200:  68%|██████▊   | 135/200 [01:29<00:41,  1.55it/s, v_num=1, train_loss_step=7.91e+6, train_loss_epoch=7.74e+6]"
     ]
    },
    {
     "name": "stdout",
     "output_type": "stream",
     "text": [
      "\r",
      "Epoch 135/200:  68%|██████▊   | 135/200 [01:29<00:41,  1.55it/s, v_num=1, train_loss_step=7.78e+6, train_loss_epoch=7.75e+6]"
     ]
    },
    {
     "name": "stdout",
     "output_type": "stream",
     "text": [
      "\r",
      "Epoch 136/200:  68%|██████▊   | 135/200 [01:29<00:41,  1.55it/s, v_num=1, train_loss_step=7.78e+6, train_loss_epoch=7.75e+6]"
     ]
    },
    {
     "name": "stdout",
     "output_type": "stream",
     "text": [
      "\r",
      "Epoch 136/200:  68%|██████▊   | 136/200 [01:30<00:41,  1.55it/s, v_num=1, train_loss_step=7.78e+6, train_loss_epoch=7.75e+6]"
     ]
    },
    {
     "name": "stdout",
     "output_type": "stream",
     "text": [
      "\r",
      "Epoch 136/200:  68%|██████▊   | 136/200 [01:30<00:41,  1.55it/s, v_num=1, train_loss_step=7.82e+6, train_loss_epoch=7.75e+6]"
     ]
    },
    {
     "name": "stdout",
     "output_type": "stream",
     "text": [
      "\r",
      "Epoch 137/200:  68%|██████▊   | 136/200 [01:30<00:41,  1.55it/s, v_num=1, train_loss_step=7.82e+6, train_loss_epoch=7.75e+6]"
     ]
    },
    {
     "name": "stdout",
     "output_type": "stream",
     "text": [
      "\r",
      "Epoch 137/200:  68%|██████▊   | 137/200 [01:30<00:40,  1.55it/s, v_num=1, train_loss_step=7.82e+6, train_loss_epoch=7.75e+6]"
     ]
    },
    {
     "name": "stdout",
     "output_type": "stream",
     "text": [
      "\r",
      "Epoch 137/200:  68%|██████▊   | 137/200 [01:30<00:40,  1.55it/s, v_num=1, train_loss_step=8.32e+6, train_loss_epoch=7.74e+6]"
     ]
    },
    {
     "name": "stdout",
     "output_type": "stream",
     "text": [
      "\r",
      "Epoch 138/200:  68%|██████▊   | 137/200 [01:30<00:40,  1.55it/s, v_num=1, train_loss_step=8.32e+6, train_loss_epoch=7.74e+6]"
     ]
    },
    {
     "name": "stdout",
     "output_type": "stream",
     "text": [
      "\r",
      "Epoch 138/200:  69%|██████▉   | 138/200 [01:31<00:39,  1.55it/s, v_num=1, train_loss_step=8.32e+6, train_loss_epoch=7.74e+6]"
     ]
    },
    {
     "name": "stdout",
     "output_type": "stream",
     "text": [
      "\r",
      "Epoch 138/200:  69%|██████▉   | 138/200 [01:31<00:39,  1.55it/s, v_num=1, train_loss_step=7.44e+6, train_loss_epoch=7.75e+6]"
     ]
    },
    {
     "name": "stdout",
     "output_type": "stream",
     "text": [
      "\r",
      "Epoch 139/200:  69%|██████▉   | 138/200 [01:31<00:39,  1.55it/s, v_num=1, train_loss_step=7.44e+6, train_loss_epoch=7.75e+6]"
     ]
    },
    {
     "name": "stdout",
     "output_type": "stream",
     "text": [
      "\r",
      "Epoch 139/200:  70%|██████▉   | 139/200 [01:32<00:39,  1.55it/s, v_num=1, train_loss_step=7.44e+6, train_loss_epoch=7.75e+6]"
     ]
    },
    {
     "name": "stdout",
     "output_type": "stream",
     "text": [
      "\r",
      "Epoch 139/200:  70%|██████▉   | 139/200 [01:32<00:39,  1.55it/s, v_num=1, train_loss_step=7.49e+6, train_loss_epoch=7.75e+6]"
     ]
    },
    {
     "name": "stdout",
     "output_type": "stream",
     "text": [
      "\r",
      "Epoch 140/200:  70%|██████▉   | 139/200 [01:32<00:39,  1.55it/s, v_num=1, train_loss_step=7.49e+6, train_loss_epoch=7.75e+6]"
     ]
    },
    {
     "name": "stdout",
     "output_type": "stream",
     "text": [
      "\r",
      "Epoch 140/200:  70%|███████   | 140/200 [01:32<00:38,  1.55it/s, v_num=1, train_loss_step=7.49e+6, train_loss_epoch=7.75e+6]"
     ]
    },
    {
     "name": "stdout",
     "output_type": "stream",
     "text": [
      "\r",
      "Epoch 140/200:  70%|███████   | 140/200 [01:32<00:38,  1.55it/s, v_num=1, train_loss_step=8.07e+6, train_loss_epoch=7.75e+6]"
     ]
    },
    {
     "name": "stdout",
     "output_type": "stream",
     "text": [
      "\r",
      "Epoch 141/200:  70%|███████   | 140/200 [01:32<00:38,  1.55it/s, v_num=1, train_loss_step=8.07e+6, train_loss_epoch=7.75e+6]"
     ]
    },
    {
     "name": "stdout",
     "output_type": "stream",
     "text": [
      "\r",
      "Epoch 141/200:  70%|███████   | 141/200 [01:33<00:38,  1.55it/s, v_num=1, train_loss_step=8.07e+6, train_loss_epoch=7.75e+6]"
     ]
    },
    {
     "name": "stdout",
     "output_type": "stream",
     "text": [
      "\r",
      "Epoch 141/200:  70%|███████   | 141/200 [01:33<00:38,  1.55it/s, v_num=1, train_loss_step=7.78e+6, train_loss_epoch=7.75e+6]"
     ]
    },
    {
     "name": "stdout",
     "output_type": "stream",
     "text": [
      "\r",
      "Epoch 142/200:  70%|███████   | 141/200 [01:33<00:38,  1.55it/s, v_num=1, train_loss_step=7.78e+6, train_loss_epoch=7.75e+6]"
     ]
    },
    {
     "name": "stdout",
     "output_type": "stream",
     "text": [
      "\r",
      "Epoch 142/200:  71%|███████   | 142/200 [01:34<00:37,  1.55it/s, v_num=1, train_loss_step=7.78e+6, train_loss_epoch=7.75e+6]"
     ]
    },
    {
     "name": "stdout",
     "output_type": "stream",
     "text": [
      "\r",
      "Epoch 142/200:  71%|███████   | 142/200 [01:34<00:37,  1.55it/s, v_num=1, train_loss_step=7.3e+6, train_loss_epoch=7.75e+6] "
     ]
    },
    {
     "name": "stdout",
     "output_type": "stream",
     "text": [
      "\r",
      "Epoch 143/200:  71%|███████   | 142/200 [01:34<00:37,  1.55it/s, v_num=1, train_loss_step=7.3e+6, train_loss_epoch=7.75e+6]"
     ]
    },
    {
     "name": "stdout",
     "output_type": "stream",
     "text": [
      "\r",
      "Epoch 143/200:  72%|███████▏  | 143/200 [01:34<00:36,  1.55it/s, v_num=1, train_loss_step=7.3e+6, train_loss_epoch=7.75e+6]"
     ]
    },
    {
     "name": "stdout",
     "output_type": "stream",
     "text": [
      "\r",
      "Epoch 143/200:  72%|███████▏  | 143/200 [01:34<00:36,  1.55it/s, v_num=1, train_loss_step=7.53e+6, train_loss_epoch=7.75e+6]"
     ]
    },
    {
     "name": "stdout",
     "output_type": "stream",
     "text": [
      "\r",
      "Epoch 144/200:  72%|███████▏  | 143/200 [01:34<00:36,  1.55it/s, v_num=1, train_loss_step=7.53e+6, train_loss_epoch=7.75e+6]"
     ]
    },
    {
     "name": "stdout",
     "output_type": "stream",
     "text": [
      "\r",
      "Epoch 144/200:  72%|███████▏  | 144/200 [01:35<00:36,  1.55it/s, v_num=1, train_loss_step=7.53e+6, train_loss_epoch=7.75e+6]"
     ]
    },
    {
     "name": "stdout",
     "output_type": "stream",
     "text": [
      "\r",
      "Epoch 144/200:  72%|███████▏  | 144/200 [01:35<00:36,  1.55it/s, v_num=1, train_loss_step=7.8e+6, train_loss_epoch=7.75e+6] "
     ]
    },
    {
     "name": "stdout",
     "output_type": "stream",
     "text": [
      "\r",
      "Epoch 145/200:  72%|███████▏  | 144/200 [01:35<00:36,  1.55it/s, v_num=1, train_loss_step=7.8e+6, train_loss_epoch=7.75e+6]"
     ]
    },
    {
     "name": "stdout",
     "output_type": "stream",
     "text": [
      "\r",
      "Epoch 145/200:  72%|███████▎  | 145/200 [01:35<00:35,  1.55it/s, v_num=1, train_loss_step=7.8e+6, train_loss_epoch=7.75e+6]"
     ]
    },
    {
     "name": "stdout",
     "output_type": "stream",
     "text": [
      "\r",
      "Epoch 145/200:  72%|███████▎  | 145/200 [01:35<00:35,  1.55it/s, v_num=1, train_loss_step=8.12e+6, train_loss_epoch=7.75e+6]"
     ]
    },
    {
     "name": "stdout",
     "output_type": "stream",
     "text": [
      "\r",
      "Epoch 146/200:  72%|███████▎  | 145/200 [01:35<00:35,  1.55it/s, v_num=1, train_loss_step=8.12e+6, train_loss_epoch=7.75e+6]"
     ]
    },
    {
     "name": "stdout",
     "output_type": "stream",
     "text": [
      "\r",
      "Epoch 146/200:  73%|███████▎  | 146/200 [01:36<00:35,  1.54it/s, v_num=1, train_loss_step=8.12e+6, train_loss_epoch=7.75e+6]"
     ]
    },
    {
     "name": "stdout",
     "output_type": "stream",
     "text": [
      "\r",
      "Epoch 146/200:  73%|███████▎  | 146/200 [01:36<00:35,  1.54it/s, v_num=1, train_loss_step=7.82e+6, train_loss_epoch=7.75e+6]"
     ]
    },
    {
     "name": "stdout",
     "output_type": "stream",
     "text": [
      "\r",
      "Epoch 147/200:  73%|███████▎  | 146/200 [01:36<00:35,  1.54it/s, v_num=1, train_loss_step=7.82e+6, train_loss_epoch=7.75e+6]"
     ]
    },
    {
     "name": "stdout",
     "output_type": "stream",
     "text": [
      "\r",
      "Epoch 147/200:  74%|███████▎  | 147/200 [01:37<00:34,  1.53it/s, v_num=1, train_loss_step=7.82e+6, train_loss_epoch=7.75e+6]"
     ]
    },
    {
     "name": "stdout",
     "output_type": "stream",
     "text": [
      "\r",
      "Epoch 147/200:  74%|███████▎  | 147/200 [01:37<00:34,  1.53it/s, v_num=1, train_loss_step=7.89e+6, train_loss_epoch=7.75e+6]"
     ]
    },
    {
     "name": "stdout",
     "output_type": "stream",
     "text": [
      "\r",
      "Epoch 148/200:  74%|███████▎  | 147/200 [01:37<00:34,  1.53it/s, v_num=1, train_loss_step=7.89e+6, train_loss_epoch=7.75e+6]"
     ]
    },
    {
     "name": "stdout",
     "output_type": "stream",
     "text": [
      "\r",
      "Epoch 148/200:  74%|███████▍  | 148/200 [01:37<00:34,  1.53it/s, v_num=1, train_loss_step=7.89e+6, train_loss_epoch=7.75e+6]"
     ]
    },
    {
     "name": "stdout",
     "output_type": "stream",
     "text": [
      "\r",
      "Epoch 148/200:  74%|███████▍  | 148/200 [01:37<00:34,  1.53it/s, v_num=1, train_loss_step=7.62e+6, train_loss_epoch=7.75e+6]"
     ]
    },
    {
     "name": "stdout",
     "output_type": "stream",
     "text": [
      "\r",
      "Epoch 149/200:  74%|███████▍  | 148/200 [01:37<00:34,  1.53it/s, v_num=1, train_loss_step=7.62e+6, train_loss_epoch=7.75e+6]"
     ]
    },
    {
     "name": "stdout",
     "output_type": "stream",
     "text": [
      "\r",
      "Epoch 149/200:  74%|███████▍  | 149/200 [01:38<00:33,  1.52it/s, v_num=1, train_loss_step=7.62e+6, train_loss_epoch=7.75e+6]"
     ]
    },
    {
     "name": "stdout",
     "output_type": "stream",
     "text": [
      "\r",
      "Epoch 149/200:  74%|███████▍  | 149/200 [01:38<00:33,  1.52it/s, v_num=1, train_loss_step=7.86e+6, train_loss_epoch=7.75e+6]"
     ]
    },
    {
     "name": "stdout",
     "output_type": "stream",
     "text": [
      "\r",
      "Epoch 150/200:  74%|███████▍  | 149/200 [01:38<00:33,  1.52it/s, v_num=1, train_loss_step=7.86e+6, train_loss_epoch=7.75e+6]"
     ]
    },
    {
     "name": "stdout",
     "output_type": "stream",
     "text": [
      "\r",
      "Epoch 150/200:  75%|███████▌  | 150/200 [01:39<00:32,  1.52it/s, v_num=1, train_loss_step=7.86e+6, train_loss_epoch=7.75e+6]"
     ]
    },
    {
     "name": "stdout",
     "output_type": "stream",
     "text": [
      "\r",
      "Epoch 150/200:  75%|███████▌  | 150/200 [01:39<00:32,  1.52it/s, v_num=1, train_loss_step=7.45e+6, train_loss_epoch=7.75e+6]"
     ]
    },
    {
     "name": "stdout",
     "output_type": "stream",
     "text": [
      "\r",
      "Epoch 151/200:  75%|███████▌  | 150/200 [01:39<00:32,  1.52it/s, v_num=1, train_loss_step=7.45e+6, train_loss_epoch=7.75e+6]"
     ]
    },
    {
     "name": "stdout",
     "output_type": "stream",
     "text": [
      "\r",
      "Epoch 151/200:  76%|███████▌  | 151/200 [01:39<00:32,  1.52it/s, v_num=1, train_loss_step=7.45e+6, train_loss_epoch=7.75e+6]"
     ]
    },
    {
     "name": "stdout",
     "output_type": "stream",
     "text": [
      "\r",
      "Epoch 151/200:  76%|███████▌  | 151/200 [01:39<00:32,  1.52it/s, v_num=1, train_loss_step=7.8e+6, train_loss_epoch=7.75e+6] "
     ]
    },
    {
     "name": "stdout",
     "output_type": "stream",
     "text": [
      "\r",
      "Epoch 152/200:  76%|███████▌  | 151/200 [01:39<00:32,  1.52it/s, v_num=1, train_loss_step=7.8e+6, train_loss_epoch=7.75e+6]"
     ]
    },
    {
     "name": "stdout",
     "output_type": "stream",
     "text": [
      "\r",
      "Epoch 152/200:  76%|███████▌  | 152/200 [01:40<00:31,  1.52it/s, v_num=1, train_loss_step=7.8e+6, train_loss_epoch=7.75e+6]"
     ]
    },
    {
     "name": "stdout",
     "output_type": "stream",
     "text": [
      "\r",
      "Epoch 152/200:  76%|███████▌  | 152/200 [01:40<00:31,  1.52it/s, v_num=1, train_loss_step=7.57e+6, train_loss_epoch=7.75e+6]"
     ]
    },
    {
     "name": "stdout",
     "output_type": "stream",
     "text": [
      "\r",
      "Epoch 153/200:  76%|███████▌  | 152/200 [01:40<00:31,  1.52it/s, v_num=1, train_loss_step=7.57e+6, train_loss_epoch=7.75e+6]"
     ]
    },
    {
     "name": "stdout",
     "output_type": "stream",
     "text": [
      "\r",
      "Epoch 153/200:  76%|███████▋  | 153/200 [01:41<00:30,  1.52it/s, v_num=1, train_loss_step=7.57e+6, train_loss_epoch=7.75e+6]"
     ]
    },
    {
     "name": "stdout",
     "output_type": "stream",
     "text": [
      "\r",
      "Epoch 153/200:  76%|███████▋  | 153/200 [01:41<00:30,  1.52it/s, v_num=1, train_loss_step=7.57e+6, train_loss_epoch=7.75e+6]"
     ]
    },
    {
     "name": "stdout",
     "output_type": "stream",
     "text": [
      "\r",
      "Epoch 154/200:  76%|███████▋  | 153/200 [01:41<00:30,  1.52it/s, v_num=1, train_loss_step=7.57e+6, train_loss_epoch=7.75e+6]"
     ]
    },
    {
     "name": "stdout",
     "output_type": "stream",
     "text": [
      "\r",
      "Epoch 154/200:  77%|███████▋  | 154/200 [01:41<00:30,  1.52it/s, v_num=1, train_loss_step=7.57e+6, train_loss_epoch=7.75e+6]"
     ]
    },
    {
     "name": "stdout",
     "output_type": "stream",
     "text": [
      "\r",
      "Epoch 154/200:  77%|███████▋  | 154/200 [01:41<00:30,  1.52it/s, v_num=1, train_loss_step=7.6e+6, train_loss_epoch=7.75e+6] "
     ]
    },
    {
     "name": "stdout",
     "output_type": "stream",
     "text": [
      "\r",
      "Epoch 155/200:  77%|███████▋  | 154/200 [01:41<00:30,  1.52it/s, v_num=1, train_loss_step=7.6e+6, train_loss_epoch=7.75e+6]"
     ]
    },
    {
     "name": "stdout",
     "output_type": "stream",
     "text": [
      "\r",
      "Epoch 155/200:  78%|███████▊  | 155/200 [01:42<00:29,  1.52it/s, v_num=1, train_loss_step=7.6e+6, train_loss_epoch=7.75e+6]"
     ]
    },
    {
     "name": "stdout",
     "output_type": "stream",
     "text": [
      "\r",
      "Epoch 155/200:  78%|███████▊  | 155/200 [01:42<00:29,  1.52it/s, v_num=1, train_loss_step=8.98e+6, train_loss_epoch=7.75e+6]"
     ]
    },
    {
     "name": "stdout",
     "output_type": "stream",
     "text": [
      "\r",
      "Epoch 156/200:  78%|███████▊  | 155/200 [01:42<00:29,  1.52it/s, v_num=1, train_loss_step=8.98e+6, train_loss_epoch=7.75e+6]"
     ]
    },
    {
     "name": "stdout",
     "output_type": "stream",
     "text": [
      "\r",
      "Epoch 156/200:  78%|███████▊  | 156/200 [01:43<00:29,  1.52it/s, v_num=1, train_loss_step=8.98e+6, train_loss_epoch=7.75e+6]"
     ]
    },
    {
     "name": "stdout",
     "output_type": "stream",
     "text": [
      "\r",
      "Epoch 156/200:  78%|███████▊  | 156/200 [01:43<00:29,  1.52it/s, v_num=1, train_loss_step=7.56e+6, train_loss_epoch=7.76e+6]"
     ]
    },
    {
     "name": "stdout",
     "output_type": "stream",
     "text": [
      "\r",
      "Epoch 157/200:  78%|███████▊  | 156/200 [01:43<00:29,  1.52it/s, v_num=1, train_loss_step=7.56e+6, train_loss_epoch=7.76e+6]"
     ]
    },
    {
     "name": "stdout",
     "output_type": "stream",
     "text": [
      "\r",
      "Epoch 157/200:  78%|███████▊  | 157/200 [01:43<00:28,  1.52it/s, v_num=1, train_loss_step=7.56e+6, train_loss_epoch=7.76e+6]"
     ]
    },
    {
     "name": "stdout",
     "output_type": "stream",
     "text": [
      "\r",
      "Epoch 157/200:  78%|███████▊  | 157/200 [01:43<00:28,  1.52it/s, v_num=1, train_loss_step=7.84e+6, train_loss_epoch=7.75e+6]"
     ]
    },
    {
     "name": "stdout",
     "output_type": "stream",
     "text": [
      "\r",
      "Epoch 158/200:  78%|███████▊  | 157/200 [01:43<00:28,  1.52it/s, v_num=1, train_loss_step=7.84e+6, train_loss_epoch=7.75e+6]"
     ]
    },
    {
     "name": "stdout",
     "output_type": "stream",
     "text": [
      "\r",
      "Epoch 158/200:  79%|███████▉  | 158/200 [01:44<00:27,  1.52it/s, v_num=1, train_loss_step=7.84e+6, train_loss_epoch=7.75e+6]"
     ]
    },
    {
     "name": "stdout",
     "output_type": "stream",
     "text": [
      "\r",
      "Epoch 158/200:  79%|███████▉  | 158/200 [01:44<00:27,  1.52it/s, v_num=1, train_loss_step=7.83e+6, train_loss_epoch=7.75e+6]"
     ]
    },
    {
     "name": "stdout",
     "output_type": "stream",
     "text": [
      "\r",
      "Epoch 159/200:  79%|███████▉  | 158/200 [01:44<00:27,  1.52it/s, v_num=1, train_loss_step=7.83e+6, train_loss_epoch=7.75e+6]"
     ]
    },
    {
     "name": "stdout",
     "output_type": "stream",
     "text": [
      "\r",
      "Epoch 159/200:  80%|███████▉  | 159/200 [01:45<00:27,  1.52it/s, v_num=1, train_loss_step=7.83e+6, train_loss_epoch=7.75e+6]"
     ]
    },
    {
     "name": "stdout",
     "output_type": "stream",
     "text": [
      "\r",
      "Epoch 159/200:  80%|███████▉  | 159/200 [01:45<00:27,  1.52it/s, v_num=1, train_loss_step=7.82e+6, train_loss_epoch=7.75e+6]"
     ]
    },
    {
     "name": "stdout",
     "output_type": "stream",
     "text": [
      "\r",
      "Epoch 160/200:  80%|███████▉  | 159/200 [01:45<00:27,  1.52it/s, v_num=1, train_loss_step=7.82e+6, train_loss_epoch=7.75e+6]"
     ]
    },
    {
     "name": "stdout",
     "output_type": "stream",
     "text": [
      "\r",
      "Epoch 160/200:  80%|████████  | 160/200 [01:45<00:26,  1.51it/s, v_num=1, train_loss_step=7.82e+6, train_loss_epoch=7.75e+6]"
     ]
    },
    {
     "name": "stdout",
     "output_type": "stream",
     "text": [
      "\r",
      "Epoch 160/200:  80%|████████  | 160/200 [01:45<00:26,  1.51it/s, v_num=1, train_loss_step=7.5e+6, train_loss_epoch=7.75e+6] "
     ]
    },
    {
     "name": "stdout",
     "output_type": "stream",
     "text": [
      "\r",
      "Epoch 161/200:  80%|████████  | 160/200 [01:45<00:26,  1.51it/s, v_num=1, train_loss_step=7.5e+6, train_loss_epoch=7.75e+6]"
     ]
    },
    {
     "name": "stdout",
     "output_type": "stream",
     "text": [
      "\r",
      "Epoch 161/200:  80%|████████  | 161/200 [01:46<00:25,  1.51it/s, v_num=1, train_loss_step=7.5e+6, train_loss_epoch=7.75e+6]"
     ]
    },
    {
     "name": "stdout",
     "output_type": "stream",
     "text": [
      "\r",
      "Epoch 161/200:  80%|████████  | 161/200 [01:46<00:25,  1.51it/s, v_num=1, train_loss_step=7.91e+6, train_loss_epoch=7.75e+6]"
     ]
    },
    {
     "name": "stdout",
     "output_type": "stream",
     "text": [
      "\r",
      "Epoch 162/200:  80%|████████  | 161/200 [01:46<00:25,  1.51it/s, v_num=1, train_loss_step=7.91e+6, train_loss_epoch=7.75e+6]"
     ]
    },
    {
     "name": "stdout",
     "output_type": "stream",
     "text": [
      "\r",
      "Epoch 162/200:  81%|████████  | 162/200 [01:47<00:25,  1.51it/s, v_num=1, train_loss_step=7.91e+6, train_loss_epoch=7.75e+6]"
     ]
    },
    {
     "name": "stdout",
     "output_type": "stream",
     "text": [
      "\r",
      "Epoch 162/200:  81%|████████  | 162/200 [01:47<00:25,  1.51it/s, v_num=1, train_loss_step=8e+6, train_loss_epoch=7.75e+6]   "
     ]
    },
    {
     "name": "stdout",
     "output_type": "stream",
     "text": [
      "\r",
      "Epoch 163/200:  81%|████████  | 162/200 [01:47<00:25,  1.51it/s, v_num=1, train_loss_step=8e+6, train_loss_epoch=7.75e+6]"
     ]
    },
    {
     "name": "stdout",
     "output_type": "stream",
     "text": [
      "\r",
      "Epoch 163/200:  82%|████████▏ | 163/200 [01:47<00:24,  1.51it/s, v_num=1, train_loss_step=8e+6, train_loss_epoch=7.75e+6]"
     ]
    },
    {
     "name": "stdout",
     "output_type": "stream",
     "text": [
      "\r",
      "Epoch 163/200:  82%|████████▏ | 163/200 [01:47<00:24,  1.51it/s, v_num=1, train_loss_step=7.87e+6, train_loss_epoch=7.75e+6]"
     ]
    },
    {
     "name": "stdout",
     "output_type": "stream",
     "text": [
      "\r",
      "Epoch 164/200:  82%|████████▏ | 163/200 [01:47<00:24,  1.51it/s, v_num=1, train_loss_step=7.87e+6, train_loss_epoch=7.75e+6]"
     ]
    },
    {
     "name": "stdout",
     "output_type": "stream",
     "text": [
      "\r",
      "Epoch 164/200:  82%|████████▏ | 164/200 [01:48<00:23,  1.51it/s, v_num=1, train_loss_step=7.87e+6, train_loss_epoch=7.75e+6]"
     ]
    },
    {
     "name": "stdout",
     "output_type": "stream",
     "text": [
      "\r",
      "Epoch 164/200:  82%|████████▏ | 164/200 [01:48<00:23,  1.51it/s, v_num=1, train_loss_step=7.42e+6, train_loss_epoch=7.75e+6]"
     ]
    },
    {
     "name": "stdout",
     "output_type": "stream",
     "text": [
      "\r",
      "Epoch 165/200:  82%|████████▏ | 164/200 [01:48<00:23,  1.51it/s, v_num=1, train_loss_step=7.42e+6, train_loss_epoch=7.75e+6]"
     ]
    },
    {
     "name": "stdout",
     "output_type": "stream",
     "text": [
      "\r",
      "Epoch 165/200:  82%|████████▎ | 165/200 [01:49<00:23,  1.51it/s, v_num=1, train_loss_step=7.42e+6, train_loss_epoch=7.75e+6]"
     ]
    },
    {
     "name": "stdout",
     "output_type": "stream",
     "text": [
      "\r",
      "Epoch 165/200:  82%|████████▎ | 165/200 [01:49<00:23,  1.51it/s, v_num=1, train_loss_step=8.54e+6, train_loss_epoch=7.76e+6]"
     ]
    },
    {
     "name": "stdout",
     "output_type": "stream",
     "text": [
      "\r",
      "Epoch 166/200:  82%|████████▎ | 165/200 [01:49<00:23,  1.51it/s, v_num=1, train_loss_step=8.54e+6, train_loss_epoch=7.76e+6]"
     ]
    },
    {
     "name": "stdout",
     "output_type": "stream",
     "text": [
      "\r",
      "Epoch 166/200:  83%|████████▎ | 166/200 [01:49<00:22,  1.51it/s, v_num=1, train_loss_step=8.54e+6, train_loss_epoch=7.76e+6]"
     ]
    },
    {
     "name": "stdout",
     "output_type": "stream",
     "text": [
      "\r",
      "Epoch 166/200:  83%|████████▎ | 166/200 [01:49<00:22,  1.51it/s, v_num=1, train_loss_step=7.56e+6, train_loss_epoch=7.75e+6]"
     ]
    },
    {
     "name": "stdout",
     "output_type": "stream",
     "text": [
      "\r",
      "Epoch 167/200:  83%|████████▎ | 166/200 [01:49<00:22,  1.51it/s, v_num=1, train_loss_step=7.56e+6, train_loss_epoch=7.75e+6]"
     ]
    },
    {
     "name": "stdout",
     "output_type": "stream",
     "text": [
      "\r",
      "Epoch 167/200:  84%|████████▎ | 167/200 [01:50<00:21,  1.51it/s, v_num=1, train_loss_step=7.56e+6, train_loss_epoch=7.75e+6]"
     ]
    },
    {
     "name": "stdout",
     "output_type": "stream",
     "text": [
      "\r",
      "Epoch 167/200:  84%|████████▎ | 167/200 [01:50<00:21,  1.51it/s, v_num=1, train_loss_step=7.99e+6, train_loss_epoch=7.76e+6]"
     ]
    },
    {
     "name": "stdout",
     "output_type": "stream",
     "text": [
      "\r",
      "Epoch 168/200:  84%|████████▎ | 167/200 [01:50<00:21,  1.51it/s, v_num=1, train_loss_step=7.99e+6, train_loss_epoch=7.76e+6]"
     ]
    },
    {
     "name": "stdout",
     "output_type": "stream",
     "text": [
      "\r",
      "Epoch 168/200:  84%|████████▍ | 168/200 [01:51<00:21,  1.51it/s, v_num=1, train_loss_step=7.99e+6, train_loss_epoch=7.76e+6]"
     ]
    },
    {
     "name": "stdout",
     "output_type": "stream",
     "text": [
      "\r",
      "Epoch 168/200:  84%|████████▍ | 168/200 [01:51<00:21,  1.51it/s, v_num=1, train_loss_step=7.29e+6, train_loss_epoch=7.76e+6]"
     ]
    },
    {
     "name": "stdout",
     "output_type": "stream",
     "text": [
      "\r",
      "Epoch 169/200:  84%|████████▍ | 168/200 [01:51<00:21,  1.51it/s, v_num=1, train_loss_step=7.29e+6, train_loss_epoch=7.76e+6]"
     ]
    },
    {
     "name": "stdout",
     "output_type": "stream",
     "text": [
      "\r",
      "Epoch 169/200:  84%|████████▍ | 169/200 [01:51<00:20,  1.51it/s, v_num=1, train_loss_step=7.29e+6, train_loss_epoch=7.76e+6]"
     ]
    },
    {
     "name": "stdout",
     "output_type": "stream",
     "text": [
      "\r",
      "Epoch 169/200:  84%|████████▍ | 169/200 [01:51<00:20,  1.51it/s, v_num=1, train_loss_step=8.07e+6, train_loss_epoch=7.76e+6]"
     ]
    },
    {
     "name": "stdout",
     "output_type": "stream",
     "text": [
      "\r",
      "Epoch 170/200:  84%|████████▍ | 169/200 [01:51<00:20,  1.51it/s, v_num=1, train_loss_step=8.07e+6, train_loss_epoch=7.76e+6]"
     ]
    },
    {
     "name": "stdout",
     "output_type": "stream",
     "text": [
      "\r",
      "Epoch 170/200:  85%|████████▌ | 170/200 [01:52<00:19,  1.51it/s, v_num=1, train_loss_step=8.07e+6, train_loss_epoch=7.76e+6]"
     ]
    },
    {
     "name": "stdout",
     "output_type": "stream",
     "text": [
      "\r",
      "Epoch 170/200:  85%|████████▌ | 170/200 [01:52<00:19,  1.51it/s, v_num=1, train_loss_step=7.79e+6, train_loss_epoch=7.76e+6]"
     ]
    },
    {
     "name": "stdout",
     "output_type": "stream",
     "text": [
      "\r",
      "Epoch 171/200:  85%|████████▌ | 170/200 [01:52<00:19,  1.51it/s, v_num=1, train_loss_step=7.79e+6, train_loss_epoch=7.76e+6]"
     ]
    },
    {
     "name": "stdout",
     "output_type": "stream",
     "text": [
      "\r",
      "Epoch 171/200:  86%|████████▌ | 171/200 [01:53<00:19,  1.51it/s, v_num=1, train_loss_step=7.79e+6, train_loss_epoch=7.76e+6]"
     ]
    },
    {
     "name": "stdout",
     "output_type": "stream",
     "text": [
      "\r",
      "Epoch 171/200:  86%|████████▌ | 171/200 [01:53<00:19,  1.51it/s, v_num=1, train_loss_step=8.1e+6, train_loss_epoch=7.76e+6] "
     ]
    },
    {
     "name": "stdout",
     "output_type": "stream",
     "text": [
      "\r",
      "Epoch 172/200:  86%|████████▌ | 171/200 [01:53<00:19,  1.51it/s, v_num=1, train_loss_step=8.1e+6, train_loss_epoch=7.76e+6]"
     ]
    },
    {
     "name": "stdout",
     "output_type": "stream",
     "text": [
      "\r",
      "Epoch 172/200:  86%|████████▌ | 172/200 [01:53<00:18,  1.51it/s, v_num=1, train_loss_step=8.1e+6, train_loss_epoch=7.76e+6]"
     ]
    },
    {
     "name": "stdout",
     "output_type": "stream",
     "text": [
      "\r",
      "Epoch 172/200:  86%|████████▌ | 172/200 [01:53<00:18,  1.51it/s, v_num=1, train_loss_step=8.08e+6, train_loss_epoch=7.76e+6]"
     ]
    },
    {
     "name": "stdout",
     "output_type": "stream",
     "text": [
      "\r",
      "Epoch 173/200:  86%|████████▌ | 172/200 [01:53<00:18,  1.51it/s, v_num=1, train_loss_step=8.08e+6, train_loss_epoch=7.76e+6]"
     ]
    },
    {
     "name": "stdout",
     "output_type": "stream",
     "text": [
      "\r",
      "Epoch 173/200:  86%|████████▋ | 173/200 [01:54<00:17,  1.51it/s, v_num=1, train_loss_step=8.08e+6, train_loss_epoch=7.76e+6]"
     ]
    },
    {
     "name": "stdout",
     "output_type": "stream",
     "text": [
      "\r",
      "Epoch 173/200:  86%|████████▋ | 173/200 [01:54<00:17,  1.51it/s, v_num=1, train_loss_step=7.73e+6, train_loss_epoch=7.76e+6]"
     ]
    },
    {
     "name": "stdout",
     "output_type": "stream",
     "text": [
      "\r",
      "Epoch 174/200:  86%|████████▋ | 173/200 [01:54<00:17,  1.51it/s, v_num=1, train_loss_step=7.73e+6, train_loss_epoch=7.76e+6]"
     ]
    },
    {
     "name": "stdout",
     "output_type": "stream",
     "text": [
      "\r",
      "Epoch 174/200:  87%|████████▋ | 174/200 [01:55<00:17,  1.51it/s, v_num=1, train_loss_step=7.73e+6, train_loss_epoch=7.76e+6]"
     ]
    },
    {
     "name": "stdout",
     "output_type": "stream",
     "text": [
      "\r",
      "Epoch 174/200:  87%|████████▋ | 174/200 [01:55<00:17,  1.51it/s, v_num=1, train_loss_step=7.96e+6, train_loss_epoch=7.76e+6]"
     ]
    },
    {
     "name": "stdout",
     "output_type": "stream",
     "text": [
      "\r",
      "Epoch 175/200:  87%|████████▋ | 174/200 [01:55<00:17,  1.51it/s, v_num=1, train_loss_step=7.96e+6, train_loss_epoch=7.76e+6]"
     ]
    },
    {
     "name": "stdout",
     "output_type": "stream",
     "text": [
      "\r",
      "Epoch 175/200:  88%|████████▊ | 175/200 [01:55<00:16,  1.51it/s, v_num=1, train_loss_step=7.96e+6, train_loss_epoch=7.76e+6]"
     ]
    },
    {
     "name": "stdout",
     "output_type": "stream",
     "text": [
      "\r",
      "Epoch 175/200:  88%|████████▊ | 175/200 [01:55<00:16,  1.51it/s, v_num=1, train_loss_step=7.67e+6, train_loss_epoch=7.76e+6]"
     ]
    },
    {
     "name": "stdout",
     "output_type": "stream",
     "text": [
      "\r",
      "Epoch 176/200:  88%|████████▊ | 175/200 [01:55<00:16,  1.51it/s, v_num=1, train_loss_step=7.67e+6, train_loss_epoch=7.76e+6]"
     ]
    },
    {
     "name": "stdout",
     "output_type": "stream",
     "text": [
      "\r",
      "Epoch 176/200:  88%|████████▊ | 176/200 [01:56<00:15,  1.52it/s, v_num=1, train_loss_step=7.67e+6, train_loss_epoch=7.76e+6]"
     ]
    },
    {
     "name": "stdout",
     "output_type": "stream",
     "text": [
      "\r",
      "Epoch 176/200:  88%|████████▊ | 176/200 [01:56<00:15,  1.52it/s, v_num=1, train_loss_step=7.52e+6, train_loss_epoch=7.76e+6]"
     ]
    },
    {
     "name": "stdout",
     "output_type": "stream",
     "text": [
      "\r",
      "Epoch 177/200:  88%|████████▊ | 176/200 [01:56<00:15,  1.52it/s, v_num=1, train_loss_step=7.52e+6, train_loss_epoch=7.76e+6]"
     ]
    },
    {
     "name": "stdout",
     "output_type": "stream",
     "text": [
      "\r",
      "Epoch 177/200:  88%|████████▊ | 177/200 [01:57<00:15,  1.51it/s, v_num=1, train_loss_step=7.52e+6, train_loss_epoch=7.76e+6]"
     ]
    },
    {
     "name": "stdout",
     "output_type": "stream",
     "text": [
      "\r",
      "Epoch 177/200:  88%|████████▊ | 177/200 [01:57<00:15,  1.51it/s, v_num=1, train_loss_step=7.89e+6, train_loss_epoch=7.76e+6]"
     ]
    },
    {
     "name": "stdout",
     "output_type": "stream",
     "text": [
      "\r",
      "Epoch 178/200:  88%|████████▊ | 177/200 [01:57<00:15,  1.51it/s, v_num=1, train_loss_step=7.89e+6, train_loss_epoch=7.76e+6]"
     ]
    },
    {
     "name": "stdout",
     "output_type": "stream",
     "text": [
      "\r",
      "Epoch 178/200:  89%|████████▉ | 178/200 [01:57<00:14,  1.52it/s, v_num=1, train_loss_step=7.89e+6, train_loss_epoch=7.76e+6]"
     ]
    },
    {
     "name": "stdout",
     "output_type": "stream",
     "text": [
      "\r",
      "Epoch 178/200:  89%|████████▉ | 178/200 [01:57<00:14,  1.52it/s, v_num=1, train_loss_step=7.27e+6, train_loss_epoch=7.76e+6]"
     ]
    },
    {
     "name": "stdout",
     "output_type": "stream",
     "text": [
      "\r",
      "Epoch 179/200:  89%|████████▉ | 178/200 [01:57<00:14,  1.52it/s, v_num=1, train_loss_step=7.27e+6, train_loss_epoch=7.76e+6]"
     ]
    },
    {
     "name": "stdout",
     "output_type": "stream",
     "text": [
      "\r",
      "Epoch 179/200:  90%|████████▉ | 179/200 [01:58<00:13,  1.52it/s, v_num=1, train_loss_step=7.27e+6, train_loss_epoch=7.76e+6]"
     ]
    },
    {
     "name": "stdout",
     "output_type": "stream",
     "text": [
      "\r",
      "Epoch 179/200:  90%|████████▉ | 179/200 [01:58<00:13,  1.52it/s, v_num=1, train_loss_step=8.39e+6, train_loss_epoch=7.76e+6]"
     ]
    },
    {
     "name": "stdout",
     "output_type": "stream",
     "text": [
      "\r",
      "Epoch 180/200:  90%|████████▉ | 179/200 [01:58<00:13,  1.52it/s, v_num=1, train_loss_step=8.39e+6, train_loss_epoch=7.76e+6]"
     ]
    },
    {
     "name": "stdout",
     "output_type": "stream",
     "text": [
      "\r",
      "Epoch 180/200:  90%|█████████ | 180/200 [01:59<00:13,  1.51it/s, v_num=1, train_loss_step=8.39e+6, train_loss_epoch=7.76e+6]"
     ]
    },
    {
     "name": "stdout",
     "output_type": "stream",
     "text": [
      "\r",
      "Epoch 180/200:  90%|█████████ | 180/200 [01:59<00:13,  1.51it/s, v_num=1, train_loss_step=7.35e+6, train_loss_epoch=7.76e+6]"
     ]
    },
    {
     "name": "stdout",
     "output_type": "stream",
     "text": [
      "\r",
      "Epoch 181/200:  90%|█████████ | 180/200 [01:59<00:13,  1.51it/s, v_num=1, train_loss_step=7.35e+6, train_loss_epoch=7.76e+6]"
     ]
    },
    {
     "name": "stdout",
     "output_type": "stream",
     "text": [
      "\r",
      "Epoch 181/200:  90%|█████████ | 181/200 [01:59<00:12,  1.51it/s, v_num=1, train_loss_step=7.35e+6, train_loss_epoch=7.76e+6]"
     ]
    },
    {
     "name": "stdout",
     "output_type": "stream",
     "text": [
      "\r",
      "Epoch 181/200:  90%|█████████ | 181/200 [01:59<00:12,  1.51it/s, v_num=1, train_loss_step=7.59e+6, train_loss_epoch=7.76e+6]"
     ]
    },
    {
     "name": "stdout",
     "output_type": "stream",
     "text": [
      "\r",
      "Epoch 182/200:  90%|█████████ | 181/200 [01:59<00:12,  1.51it/s, v_num=1, train_loss_step=7.59e+6, train_loss_epoch=7.76e+6]"
     ]
    },
    {
     "name": "stdout",
     "output_type": "stream",
     "text": [
      "\r",
      "Epoch 182/200:  91%|█████████ | 182/200 [02:00<00:11,  1.51it/s, v_num=1, train_loss_step=7.59e+6, train_loss_epoch=7.76e+6]"
     ]
    },
    {
     "name": "stdout",
     "output_type": "stream",
     "text": [
      "\r",
      "Epoch 182/200:  91%|█████████ | 182/200 [02:00<00:11,  1.51it/s, v_num=1, train_loss_step=7.45e+6, train_loss_epoch=7.76e+6]"
     ]
    },
    {
     "name": "stdout",
     "output_type": "stream",
     "text": [
      "\r",
      "Epoch 183/200:  91%|█████████ | 182/200 [02:00<00:11,  1.51it/s, v_num=1, train_loss_step=7.45e+6, train_loss_epoch=7.76e+6]"
     ]
    },
    {
     "name": "stdout",
     "output_type": "stream",
     "text": [
      "\r",
      "Epoch 183/200:  92%|█████████▏| 183/200 [02:01<00:11,  1.52it/s, v_num=1, train_loss_step=7.45e+6, train_loss_epoch=7.76e+6]"
     ]
    },
    {
     "name": "stdout",
     "output_type": "stream",
     "text": [
      "\r",
      "Epoch 183/200:  92%|█████████▏| 183/200 [02:01<00:11,  1.52it/s, v_num=1, train_loss_step=7.92e+6, train_loss_epoch=7.76e+6]"
     ]
    },
    {
     "name": "stdout",
     "output_type": "stream",
     "text": [
      "\r",
      "Epoch 184/200:  92%|█████████▏| 183/200 [02:01<00:11,  1.52it/s, v_num=1, train_loss_step=7.92e+6, train_loss_epoch=7.76e+6]"
     ]
    },
    {
     "name": "stdout",
     "output_type": "stream",
     "text": [
      "\r",
      "Epoch 184/200:  92%|█████████▏| 184/200 [02:01<00:10,  1.52it/s, v_num=1, train_loss_step=7.92e+6, train_loss_epoch=7.76e+6]"
     ]
    },
    {
     "name": "stdout",
     "output_type": "stream",
     "text": [
      "\r",
      "Epoch 184/200:  92%|█████████▏| 184/200 [02:01<00:10,  1.52it/s, v_num=1, train_loss_step=7.92e+6, train_loss_epoch=7.76e+6]"
     ]
    },
    {
     "name": "stdout",
     "output_type": "stream",
     "text": [
      "\r",
      "Epoch 185/200:  92%|█████████▏| 184/200 [02:01<00:10,  1.52it/s, v_num=1, train_loss_step=7.92e+6, train_loss_epoch=7.76e+6]"
     ]
    },
    {
     "name": "stdout",
     "output_type": "stream",
     "text": [
      "\r",
      "Epoch 185/200:  92%|█████████▎| 185/200 [02:02<00:09,  1.52it/s, v_num=1, train_loss_step=7.92e+6, train_loss_epoch=7.76e+6]"
     ]
    },
    {
     "name": "stdout",
     "output_type": "stream",
     "text": [
      "\r",
      "Epoch 185/200:  92%|█████████▎| 185/200 [02:02<00:09,  1.52it/s, v_num=1, train_loss_step=8.21e+6, train_loss_epoch=7.76e+6]"
     ]
    },
    {
     "name": "stdout",
     "output_type": "stream",
     "text": [
      "\r",
      "Epoch 186/200:  92%|█████████▎| 185/200 [02:02<00:09,  1.52it/s, v_num=1, train_loss_step=8.21e+6, train_loss_epoch=7.76e+6]"
     ]
    },
    {
     "name": "stdout",
     "output_type": "stream",
     "text": [
      "\r",
      "Epoch 186/200:  93%|█████████▎| 186/200 [02:03<00:09,  1.52it/s, v_num=1, train_loss_step=8.21e+6, train_loss_epoch=7.76e+6]"
     ]
    },
    {
     "name": "stdout",
     "output_type": "stream",
     "text": [
      "\r",
      "Epoch 186/200:  93%|█████████▎| 186/200 [02:03<00:09,  1.52it/s, v_num=1, train_loss_step=7.43e+6, train_loss_epoch=7.76e+6]"
     ]
    },
    {
     "name": "stdout",
     "output_type": "stream",
     "text": [
      "\r",
      "Epoch 187/200:  93%|█████████▎| 186/200 [02:03<00:09,  1.52it/s, v_num=1, train_loss_step=7.43e+6, train_loss_epoch=7.76e+6]"
     ]
    },
    {
     "name": "stdout",
     "output_type": "stream",
     "text": [
      "\r",
      "Epoch 187/200:  94%|█████████▎| 187/200 [02:03<00:08,  1.52it/s, v_num=1, train_loss_step=7.43e+6, train_loss_epoch=7.76e+6]"
     ]
    },
    {
     "name": "stdout",
     "output_type": "stream",
     "text": [
      "\r",
      "Epoch 187/200:  94%|█████████▎| 187/200 [02:03<00:08,  1.52it/s, v_num=1, train_loss_step=7.48e+6, train_loss_epoch=7.76e+6]"
     ]
    },
    {
     "name": "stdout",
     "output_type": "stream",
     "text": [
      "\r",
      "Epoch 188/200:  94%|█████████▎| 187/200 [02:03<00:08,  1.52it/s, v_num=1, train_loss_step=7.48e+6, train_loss_epoch=7.76e+6]"
     ]
    },
    {
     "name": "stdout",
     "output_type": "stream",
     "text": [
      "\r",
      "Epoch 188/200:  94%|█████████▍| 188/200 [02:04<00:07,  1.52it/s, v_num=1, train_loss_step=7.48e+6, train_loss_epoch=7.76e+6]"
     ]
    },
    {
     "name": "stdout",
     "output_type": "stream",
     "text": [
      "\r",
      "Epoch 188/200:  94%|█████████▍| 188/200 [02:04<00:07,  1.52it/s, v_num=1, train_loss_step=7.63e+6, train_loss_epoch=7.76e+6]"
     ]
    },
    {
     "name": "stdout",
     "output_type": "stream",
     "text": [
      "\r",
      "Epoch 189/200:  94%|█████████▍| 188/200 [02:04<00:07,  1.52it/s, v_num=1, train_loss_step=7.63e+6, train_loss_epoch=7.76e+6]"
     ]
    },
    {
     "name": "stdout",
     "output_type": "stream",
     "text": [
      "\r",
      "Epoch 189/200:  94%|█████████▍| 189/200 [02:05<00:07,  1.52it/s, v_num=1, train_loss_step=7.63e+6, train_loss_epoch=7.76e+6]"
     ]
    },
    {
     "name": "stdout",
     "output_type": "stream",
     "text": [
      "\r",
      "Epoch 189/200:  94%|█████████▍| 189/200 [02:05<00:07,  1.52it/s, v_num=1, train_loss_step=7.92e+6, train_loss_epoch=7.76e+6]"
     ]
    },
    {
     "name": "stdout",
     "output_type": "stream",
     "text": [
      "\r",
      "Epoch 190/200:  94%|█████████▍| 189/200 [02:05<00:07,  1.52it/s, v_num=1, train_loss_step=7.92e+6, train_loss_epoch=7.76e+6]"
     ]
    },
    {
     "name": "stdout",
     "output_type": "stream",
     "text": [
      "\r",
      "Epoch 190/200:  95%|█████████▌| 190/200 [02:05<00:06,  1.52it/s, v_num=1, train_loss_step=7.92e+6, train_loss_epoch=7.76e+6]"
     ]
    },
    {
     "name": "stdout",
     "output_type": "stream",
     "text": [
      "\r",
      "Epoch 190/200:  95%|█████████▌| 190/200 [02:05<00:06,  1.52it/s, v_num=1, train_loss_step=7.96e+6, train_loss_epoch=7.76e+6]"
     ]
    },
    {
     "name": "stdout",
     "output_type": "stream",
     "text": [
      "\r",
      "Epoch 191/200:  95%|█████████▌| 190/200 [02:05<00:06,  1.52it/s, v_num=1, train_loss_step=7.96e+6, train_loss_epoch=7.76e+6]"
     ]
    },
    {
     "name": "stdout",
     "output_type": "stream",
     "text": [
      "\r",
      "Epoch 191/200:  96%|█████████▌| 191/200 [02:06<00:05,  1.52it/s, v_num=1, train_loss_step=7.96e+6, train_loss_epoch=7.76e+6]"
     ]
    },
    {
     "name": "stdout",
     "output_type": "stream",
     "text": [
      "\r",
      "Epoch 191/200:  96%|█████████▌| 191/200 [02:06<00:05,  1.52it/s, v_num=1, train_loss_step=7.5e+6, train_loss_epoch=7.76e+6] "
     ]
    },
    {
     "name": "stdout",
     "output_type": "stream",
     "text": [
      "\r",
      "Epoch 192/200:  96%|█████████▌| 191/200 [02:06<00:05,  1.52it/s, v_num=1, train_loss_step=7.5e+6, train_loss_epoch=7.76e+6]"
     ]
    },
    {
     "name": "stdout",
     "output_type": "stream",
     "text": [
      "\r",
      "Epoch 192/200:  96%|█████████▌| 192/200 [02:07<00:05,  1.52it/s, v_num=1, train_loss_step=7.5e+6, train_loss_epoch=7.76e+6]"
     ]
    },
    {
     "name": "stdout",
     "output_type": "stream",
     "text": [
      "\r",
      "Epoch 192/200:  96%|█████████▌| 192/200 [02:07<00:05,  1.52it/s, v_num=1, train_loss_step=7.87e+6, train_loss_epoch=7.76e+6]"
     ]
    },
    {
     "name": "stdout",
     "output_type": "stream",
     "text": [
      "\r",
      "Epoch 193/200:  96%|█████████▌| 192/200 [02:07<00:05,  1.52it/s, v_num=1, train_loss_step=7.87e+6, train_loss_epoch=7.76e+6]"
     ]
    },
    {
     "name": "stdout",
     "output_type": "stream",
     "text": [
      "\r",
      "Epoch 193/200:  96%|█████████▋| 193/200 [02:07<00:04,  1.52it/s, v_num=1, train_loss_step=7.87e+6, train_loss_epoch=7.76e+6]"
     ]
    },
    {
     "name": "stdout",
     "output_type": "stream",
     "text": [
      "\r",
      "Epoch 193/200:  96%|█████████▋| 193/200 [02:07<00:04,  1.52it/s, v_num=1, train_loss_step=8.12e+6, train_loss_epoch=7.76e+6]"
     ]
    },
    {
     "name": "stdout",
     "output_type": "stream",
     "text": [
      "\r",
      "Epoch 194/200:  96%|█████████▋| 193/200 [02:07<00:04,  1.52it/s, v_num=1, train_loss_step=8.12e+6, train_loss_epoch=7.76e+6]"
     ]
    },
    {
     "name": "stdout",
     "output_type": "stream",
     "text": [
      "\r",
      "Epoch 194/200:  97%|█████████▋| 194/200 [02:08<00:03,  1.52it/s, v_num=1, train_loss_step=8.12e+6, train_loss_epoch=7.76e+6]"
     ]
    },
    {
     "name": "stdout",
     "output_type": "stream",
     "text": [
      "\r",
      "Epoch 194/200:  97%|█████████▋| 194/200 [02:08<00:03,  1.52it/s, v_num=1, train_loss_step=7.43e+6, train_loss_epoch=7.76e+6]"
     ]
    },
    {
     "name": "stdout",
     "output_type": "stream",
     "text": [
      "\r",
      "Epoch 195/200:  97%|█████████▋| 194/200 [02:08<00:03,  1.52it/s, v_num=1, train_loss_step=7.43e+6, train_loss_epoch=7.76e+6]"
     ]
    },
    {
     "name": "stdout",
     "output_type": "stream",
     "text": [
      "\r",
      "Epoch 195/200:  98%|█████████▊| 195/200 [02:08<00:03,  1.52it/s, v_num=1, train_loss_step=7.43e+6, train_loss_epoch=7.76e+6]"
     ]
    },
    {
     "name": "stdout",
     "output_type": "stream",
     "text": [
      "\r",
      "Epoch 195/200:  98%|█████████▊| 195/200 [02:08<00:03,  1.52it/s, v_num=1, train_loss_step=7.56e+6, train_loss_epoch=7.76e+6]"
     ]
    },
    {
     "name": "stdout",
     "output_type": "stream",
     "text": [
      "\r",
      "Epoch 196/200:  98%|█████████▊| 195/200 [02:08<00:03,  1.52it/s, v_num=1, train_loss_step=7.56e+6, train_loss_epoch=7.76e+6]"
     ]
    },
    {
     "name": "stdout",
     "output_type": "stream",
     "text": [
      "\r",
      "Epoch 196/200:  98%|█████████▊| 196/200 [02:09<00:02,  1.52it/s, v_num=1, train_loss_step=7.56e+6, train_loss_epoch=7.76e+6]"
     ]
    },
    {
     "name": "stdout",
     "output_type": "stream",
     "text": [
      "\r",
      "Epoch 196/200:  98%|█████████▊| 196/200 [02:09<00:02,  1.52it/s, v_num=1, train_loss_step=7.94e+6, train_loss_epoch=7.76e+6]"
     ]
    },
    {
     "name": "stdout",
     "output_type": "stream",
     "text": [
      "\r",
      "Epoch 197/200:  98%|█████████▊| 196/200 [02:09<00:02,  1.52it/s, v_num=1, train_loss_step=7.94e+6, train_loss_epoch=7.76e+6]"
     ]
    },
    {
     "name": "stdout",
     "output_type": "stream",
     "text": [
      "\r",
      "Epoch 197/200:  98%|█████████▊| 197/200 [02:10<00:01,  1.52it/s, v_num=1, train_loss_step=7.94e+6, train_loss_epoch=7.76e+6]"
     ]
    },
    {
     "name": "stdout",
     "output_type": "stream",
     "text": [
      "\r",
      "Epoch 197/200:  98%|█████████▊| 197/200 [02:10<00:01,  1.52it/s, v_num=1, train_loss_step=7.4e+6, train_loss_epoch=7.76e+6] "
     ]
    },
    {
     "name": "stdout",
     "output_type": "stream",
     "text": [
      "\r",
      "Epoch 198/200:  98%|█████████▊| 197/200 [02:10<00:01,  1.52it/s, v_num=1, train_loss_step=7.4e+6, train_loss_epoch=7.76e+6]"
     ]
    },
    {
     "name": "stdout",
     "output_type": "stream",
     "text": [
      "\r",
      "Epoch 198/200:  99%|█████████▉| 198/200 [02:10<00:01,  1.51it/s, v_num=1, train_loss_step=7.4e+6, train_loss_epoch=7.76e+6]"
     ]
    },
    {
     "name": "stdout",
     "output_type": "stream",
     "text": [
      "\r",
      "Epoch 198/200:  99%|█████████▉| 198/200 [02:10<00:01,  1.51it/s, v_num=1, train_loss_step=7.69e+6, train_loss_epoch=7.76e+6]"
     ]
    },
    {
     "name": "stdout",
     "output_type": "stream",
     "text": [
      "\r",
      "Epoch 199/200:  99%|█████████▉| 198/200 [02:10<00:01,  1.51it/s, v_num=1, train_loss_step=7.69e+6, train_loss_epoch=7.76e+6]"
     ]
    },
    {
     "name": "stdout",
     "output_type": "stream",
     "text": [
      "\r",
      "Epoch 199/200: 100%|█████████▉| 199/200 [02:11<00:00,  1.52it/s, v_num=1, train_loss_step=7.69e+6, train_loss_epoch=7.76e+6]"
     ]
    },
    {
     "name": "stdout",
     "output_type": "stream",
     "text": [
      "\r",
      "Epoch 199/200: 100%|█████████▉| 199/200 [02:11<00:00,  1.52it/s, v_num=1, train_loss_step=7.49e+6, train_loss_epoch=7.77e+6]"
     ]
    },
    {
     "name": "stdout",
     "output_type": "stream",
     "text": [
      "\r",
      "Epoch 200/200: 100%|█████████▉| 199/200 [02:11<00:00,  1.52it/s, v_num=1, train_loss_step=7.49e+6, train_loss_epoch=7.77e+6]"
     ]
    },
    {
     "name": "stdout",
     "output_type": "stream",
     "text": [
      "\r",
      "Epoch 200/200: 100%|██████████| 200/200 [02:12<00:00,  1.52it/s, v_num=1, train_loss_step=7.49e+6, train_loss_epoch=7.77e+6]"
     ]
    },
    {
     "name": "stdout",
     "output_type": "stream",
     "text": [
      "\r",
      "Epoch 200/200: 100%|██████████| 200/200 [02:12<00:00,  1.52it/s, v_num=1, train_loss_step=7.22e+6, train_loss_epoch=7.76e+6]"
     ]
    },
    {
     "name": "stderr",
     "output_type": "stream",
     "text": [
      "`Trainer.fit` stopped: `max_epochs=200` reached.\n"
     ]
    },
    {
     "name": "stdout",
     "output_type": "stream",
     "text": [
      "\r",
      "Epoch 200/200: 100%|██████████| 200/200 [02:12<00:00,  1.51it/s, v_num=1, train_loss_step=7.22e+6, train_loss_epoch=7.76e+6]"
     ]
    },
    {
     "name": "stdout",
     "output_type": "stream",
     "text": [
      "\n"
     ]
    }
   ],
   "source": [
    "model.train(max_epochs=200, plan_kwargs={\"lr\": 1e-2})"
   ]
  },
  {
   "cell_type": "code",
   "execution_count": 8,
   "metadata": {
    "colab": {},
    "colab_type": "code",
    "execution": {
     "iopub.execute_input": "2024-02-12T18:01:28.784638Z",
     "iopub.status.busy": "2024-02-12T18:01:28.784475Z",
     "iopub.status.idle": "2024-02-12T18:01:28.787228Z",
     "shell.execute_reply": "2024-02-12T18:01:28.786811Z"
    },
    "id": "B-lEw2IWij0a"
   },
   "outputs": [],
   "source": [
    "outputs = model.get_alphas_betas()\n",
    "alpha_posterior = outputs[\"alpha_posterior\"]\n",
    "beta_posterior = outputs[\"beta_posterior\"]"
   ]
  },
  {
   "attachments": {},
   "cell_type": "markdown",
   "metadata": {
    "colab_type": "text",
    "id": "BXrym0Cgij0e"
   },
   "source": [
    "Now that we obtained fitted $\\alpha^g,\\beta^g$, different metrics are possible. Bayesian decision theory suggests us the posterior probability of the zero-inflation hypothesis $q(\\delta_g < 0.5)$, but also other metrics such as the mean wrt $q$ of $\\delta_g$ are possible. We focus on the former. We decide that gene $g$ is ZI if and only if $q(\\delta_g < 0.5)$ is greater than a given threshold, say $0.5$. We may note that it is equivalent to $\\alpha^g < \\beta^g$. From this we can deduce the fraction of predicted ZI genes in the dataset."
   ]
  },
  {
   "cell_type": "code",
   "execution_count": 9,
   "metadata": {
    "colab": {
     "base_uri": "https://localhost:8080/",
     "height": 34
    },
    "colab_type": "code",
    "execution": {
     "iopub.execute_input": "2024-02-12T18:01:28.788841Z",
     "iopub.status.busy": "2024-02-12T18:01:28.788688Z",
     "iopub.status.idle": "2024-02-12T18:01:28.791391Z",
     "shell.execute_reply": "2024-02-12T18:01:28.791098Z"
    },
    "id": "h2kXAcZLij0e",
    "outputId": "ea7f42b6-49f7-448b-cbaa-0b1b0bf5d9b7"
   },
   "outputs": [
    {
     "name": "stdout",
     "output_type": "stream",
     "text": [
      "Fraction of predicted ZI genes : 0.843\n"
     ]
    }
   ],
   "source": [
    "# Threshold (or Kzinb/Knb+Kzinb in paper)\n",
    "threshold = 0.5\n",
    "\n",
    "# q(delta_g < 0.5) probabilities\n",
    "zi_probs = beta.cdf(0.5, alpha_posterior, beta_posterior)\n",
    "\n",
    "# ZI genes\n",
    "is_zi_pred = zi_probs > threshold\n",
    "\n",
    "print(\"Fraction of predicted ZI genes :\", is_zi_pred.mean())"
   ]
  },
  {
   "attachments": {},
   "cell_type": "markdown",
   "metadata": {
    "colab_type": "text",
    "id": "Ps5oykK0ij0k"
   },
   "source": [
    "We noted that predictions were less accurate for genes $g$ whose average expressions - or predicted NB means, equivalently - were low. Indeed, genes assumed not to be ZI were more often predicted as ZI for such low average expressions. A threshold of 1 proved reasonable to separate genes predicted with more or less accuracy. Hence we may want to focus on predictions for genes with average expression above 1."
   ]
  },
  {
   "cell_type": "code",
   "execution_count": 10,
   "metadata": {
    "colab": {
     "base_uri": "https://localhost:8080/",
     "height": 52
    },
    "colab_type": "code",
    "execution": {
     "iopub.execute_input": "2024-02-12T18:01:28.793041Z",
     "iopub.status.busy": "2024-02-12T18:01:28.792758Z",
     "iopub.status.idle": "2024-02-12T18:01:28.810149Z",
     "shell.execute_reply": "2024-02-12T18:01:28.809591Z"
    },
    "id": "6AFreZzjij0l",
    "outputId": "302b439d-028f-4264-e9c7-04ca6c194ba7"
   },
   "outputs": [
    {
     "name": "stdout",
     "output_type": "stream",
     "text": [
      "Fraction of genes with avg expression > 1 : 0.104\n",
      "Fraction of predicted ZI genes with avg expression > 1 : 0.49038461538461536\n"
     ]
    }
   ],
   "source": [
    "mask_sufficient_expression = (np.array(adata.X.mean(axis=0)) > 1.0).reshape(-1)\n",
    "print(\"Fraction of genes with avg expression > 1 :\", mask_sufficient_expression.mean())\n",
    "print(\n",
    "    \"Fraction of predicted ZI genes with avg expression > 1 :\",\n",
    "    is_zi_pred[mask_sufficient_expression].mean(),\n",
    ")"
   ]
  },
  {
   "attachments": {},
   "cell_type": "markdown",
   "metadata": {
    "colab_type": "text",
    "id": "B1V3X_GSij0p"
   },
   "source": [
    "## Analyze gene-cell-type-specific ZI"
   ]
  },
  {
   "attachments": {},
   "cell_type": "markdown",
   "metadata": {
    "colab_type": "text",
    "id": "uUmJ6hStij0q"
   },
   "source": [
    "One may argue that zero-inflation should also be treated on the cell-type (or 'label') level, in addition to the gene level. AutoZI can be extended by assuming a random variable $\\delta_{gc}$ for each gene $g$ and cell type $c$ which denotes the probability that gene $g$ is not zero-inflated in cell-type $c$. The analysis above can be extended to this new scale."
   ]
  },
  {
   "cell_type": "code",
   "execution_count": 11,
   "metadata": {
    "colab": {
     "base_uri": "https://localhost:8080/",
     "height": 173,
     "referenced_widgets": [
      "a6621ea35c23422da082b161388e265c",
      "e76db661573a4d5cb20cc1e31c7717f5"
     ]
    },
    "colab_type": "code",
    "execution": {
     "iopub.execute_input": "2024-02-12T18:01:28.811907Z",
     "iopub.status.busy": "2024-02-12T18:01:28.811748Z",
     "iopub.status.idle": "2024-02-12T18:03:42.878643Z",
     "shell.execute_reply": "2024-02-12T18:03:42.878140Z"
    },
    "id": "1pr5WP_Eij0q",
    "outputId": "5ca84813-93f1-4fd2-d1da-1b5d5e7402bb"
   },
   "outputs": [
    {
     "name": "stderr",
     "output_type": "stream",
     "text": [
      "GPU available: True (cuda), used: True\n"
     ]
    },
    {
     "name": "stderr",
     "output_type": "stream",
     "text": [
      "TPU available: False, using: 0 TPU cores\n"
     ]
    },
    {
     "name": "stderr",
     "output_type": "stream",
     "text": [
      "IPU available: False, using: 0 IPUs\n"
     ]
    },
    {
     "name": "stderr",
     "output_type": "stream",
     "text": [
      "HPU available: False, using: 0 HPUs\n"
     ]
    },
    {
     "name": "stderr",
     "output_type": "stream",
     "text": [
      "LOCAL_RANK: 0 - CUDA_VISIBLE_DEVICES: [0]\n"
     ]
    },
    {
     "name": "stderr",
     "output_type": "stream",
     "text": [
      "/env/lib/python3.11/site-packages/lightning/pytorch/trainer/connectors/data_connector.py:441: The 'train_dataloader' does not have many workers which may be a bottleneck. Consider increasing the value of the `num_workers` argument` to `num_workers=19` in the `DataLoader` to improve performance.\n"
     ]
    },
    {
     "name": "stdout",
     "output_type": "stream",
     "text": [
      "\r",
      "Training:   0%|          | 0/200 [00:00<?, ?it/s]"
     ]
    },
    {
     "name": "stdout",
     "output_type": "stream",
     "text": [
      "\r",
      "Epoch 1/200:   0%|          | 0/200 [00:00<?, ?it/s]"
     ]
    },
    {
     "name": "stdout",
     "output_type": "stream",
     "text": [
      "\r",
      "Epoch 1/200:   0%|          | 1/200 [00:00<02:14,  1.48it/s]"
     ]
    },
    {
     "name": "stdout",
     "output_type": "stream",
     "text": [
      "\r",
      "Epoch 1/200:   0%|          | 1/200 [00:00<02:14,  1.48it/s, v_num=1, train_loss_step=8.3e+6, train_loss_epoch=8.44e+6]"
     ]
    },
    {
     "name": "stdout",
     "output_type": "stream",
     "text": [
      "\r",
      "Epoch 2/200:   0%|          | 1/200 [00:00<02:14,  1.48it/s, v_num=1, train_loss_step=8.3e+6, train_loss_epoch=8.44e+6]"
     ]
    },
    {
     "name": "stdout",
     "output_type": "stream",
     "text": [
      "\r",
      "Epoch 2/200:   1%|          | 2/200 [00:01<02:12,  1.49it/s, v_num=1, train_loss_step=8.3e+6, train_loss_epoch=8.44e+6]"
     ]
    },
    {
     "name": "stdout",
     "output_type": "stream",
     "text": [
      "\r",
      "Epoch 2/200:   1%|          | 2/200 [00:01<02:12,  1.49it/s, v_num=1, train_loss_step=7.5e+6, train_loss_epoch=8.09e+6]"
     ]
    },
    {
     "name": "stdout",
     "output_type": "stream",
     "text": [
      "\r",
      "Epoch 3/200:   1%|          | 2/200 [00:01<02:12,  1.49it/s, v_num=1, train_loss_step=7.5e+6, train_loss_epoch=8.09e+6]"
     ]
    },
    {
     "name": "stdout",
     "output_type": "stream",
     "text": [
      "\r",
      "Epoch 3/200:   2%|▏         | 3/200 [00:02<02:12,  1.49it/s, v_num=1, train_loss_step=7.5e+6, train_loss_epoch=8.09e+6]"
     ]
    },
    {
     "name": "stdout",
     "output_type": "stream",
     "text": [
      "\r",
      "Epoch 3/200:   2%|▏         | 3/200 [00:02<02:12,  1.49it/s, v_num=1, train_loss_step=7.45e+6, train_loss_epoch=7.97e+6]"
     ]
    },
    {
     "name": "stdout",
     "output_type": "stream",
     "text": [
      "\r",
      "Epoch 4/200:   2%|▏         | 3/200 [00:02<02:12,  1.49it/s, v_num=1, train_loss_step=7.45e+6, train_loss_epoch=7.97e+6]"
     ]
    },
    {
     "name": "stdout",
     "output_type": "stream",
     "text": [
      "\r",
      "Epoch 4/200:   2%|▏         | 4/200 [00:02<02:11,  1.49it/s, v_num=1, train_loss_step=7.45e+6, train_loss_epoch=7.97e+6]"
     ]
    },
    {
     "name": "stdout",
     "output_type": "stream",
     "text": [
      "\r",
      "Epoch 4/200:   2%|▏         | 4/200 [00:02<02:11,  1.49it/s, v_num=1, train_loss_step=8.54e+6, train_loss_epoch=7.9e+6] "
     ]
    },
    {
     "name": "stdout",
     "output_type": "stream",
     "text": [
      "\r",
      "Epoch 5/200:   2%|▏         | 4/200 [00:02<02:11,  1.49it/s, v_num=1, train_loss_step=8.54e+6, train_loss_epoch=7.9e+6]"
     ]
    },
    {
     "name": "stdout",
     "output_type": "stream",
     "text": [
      "\r",
      "Epoch 5/200:   2%|▎         | 5/200 [00:03<02:10,  1.49it/s, v_num=1, train_loss_step=8.54e+6, train_loss_epoch=7.9e+6]"
     ]
    },
    {
     "name": "stdout",
     "output_type": "stream",
     "text": [
      "\r",
      "Epoch 5/200:   2%|▎         | 5/200 [00:03<02:10,  1.49it/s, v_num=1, train_loss_step=7.41e+6, train_loss_epoch=7.86e+6]"
     ]
    },
    {
     "name": "stdout",
     "output_type": "stream",
     "text": [
      "\r",
      "Epoch 6/200:   2%|▎         | 5/200 [00:03<02:10,  1.49it/s, v_num=1, train_loss_step=7.41e+6, train_loss_epoch=7.86e+6]"
     ]
    },
    {
     "name": "stdout",
     "output_type": "stream",
     "text": [
      "\r",
      "Epoch 6/200:   3%|▎         | 6/200 [00:04<02:09,  1.49it/s, v_num=1, train_loss_step=7.41e+6, train_loss_epoch=7.86e+6]"
     ]
    },
    {
     "name": "stdout",
     "output_type": "stream",
     "text": [
      "\r",
      "Epoch 6/200:   3%|▎         | 6/200 [00:04<02:09,  1.49it/s, v_num=1, train_loss_step=7.73e+6, train_loss_epoch=7.83e+6]"
     ]
    },
    {
     "name": "stdout",
     "output_type": "stream",
     "text": [
      "\r",
      "Epoch 7/200:   3%|▎         | 6/200 [00:04<02:09,  1.49it/s, v_num=1, train_loss_step=7.73e+6, train_loss_epoch=7.83e+6]"
     ]
    },
    {
     "name": "stdout",
     "output_type": "stream",
     "text": [
      "\r",
      "Epoch 7/200:   4%|▎         | 7/200 [00:04<02:09,  1.50it/s, v_num=1, train_loss_step=7.73e+6, train_loss_epoch=7.83e+6]"
     ]
    },
    {
     "name": "stdout",
     "output_type": "stream",
     "text": [
      "\r",
      "Epoch 7/200:   4%|▎         | 7/200 [00:04<02:09,  1.50it/s, v_num=1, train_loss_step=8.3e+6, train_loss_epoch=7.82e+6] "
     ]
    },
    {
     "name": "stdout",
     "output_type": "stream",
     "text": [
      "\r",
      "Epoch 8/200:   4%|▎         | 7/200 [00:04<02:09,  1.50it/s, v_num=1, train_loss_step=8.3e+6, train_loss_epoch=7.82e+6]"
     ]
    },
    {
     "name": "stdout",
     "output_type": "stream",
     "text": [
      "\r",
      "Epoch 8/200:   4%|▍         | 8/200 [00:05<02:08,  1.50it/s, v_num=1, train_loss_step=8.3e+6, train_loss_epoch=7.82e+6]"
     ]
    },
    {
     "name": "stdout",
     "output_type": "stream",
     "text": [
      "\r",
      "Epoch 8/200:   4%|▍         | 8/200 [00:05<02:08,  1.50it/s, v_num=1, train_loss_step=7.55e+6, train_loss_epoch=7.8e+6]"
     ]
    },
    {
     "name": "stdout",
     "output_type": "stream",
     "text": [
      "\r",
      "Epoch 9/200:   4%|▍         | 8/200 [00:05<02:08,  1.50it/s, v_num=1, train_loss_step=7.55e+6, train_loss_epoch=7.8e+6]"
     ]
    },
    {
     "name": "stdout",
     "output_type": "stream",
     "text": [
      "\r",
      "Epoch 9/200:   4%|▍         | 9/200 [00:06<02:07,  1.50it/s, v_num=1, train_loss_step=7.55e+6, train_loss_epoch=7.8e+6]"
     ]
    },
    {
     "name": "stdout",
     "output_type": "stream",
     "text": [
      "\r",
      "Epoch 9/200:   4%|▍         | 9/200 [00:06<02:07,  1.50it/s, v_num=1, train_loss_step=7.2e+6, train_loss_epoch=7.79e+6]"
     ]
    },
    {
     "name": "stdout",
     "output_type": "stream",
     "text": [
      "\r",
      "Epoch 10/200:   4%|▍         | 9/200 [00:06<02:07,  1.50it/s, v_num=1, train_loss_step=7.2e+6, train_loss_epoch=7.79e+6]"
     ]
    },
    {
     "name": "stdout",
     "output_type": "stream",
     "text": [
      "\r",
      "Epoch 10/200:   5%|▌         | 10/200 [00:06<02:07,  1.50it/s, v_num=1, train_loss_step=7.2e+6, train_loss_epoch=7.79e+6]"
     ]
    },
    {
     "name": "stdout",
     "output_type": "stream",
     "text": [
      "\r",
      "Epoch 10/200:   5%|▌         | 10/200 [00:06<02:07,  1.50it/s, v_num=1, train_loss_step=8.1e+6, train_loss_epoch=7.78e+6]"
     ]
    },
    {
     "name": "stdout",
     "output_type": "stream",
     "text": [
      "\r",
      "Epoch 11/200:   5%|▌         | 10/200 [00:06<02:07,  1.50it/s, v_num=1, train_loss_step=8.1e+6, train_loss_epoch=7.78e+6]"
     ]
    },
    {
     "name": "stdout",
     "output_type": "stream",
     "text": [
      "\r",
      "Epoch 11/200:   6%|▌         | 11/200 [00:07<02:06,  1.49it/s, v_num=1, train_loss_step=8.1e+6, train_loss_epoch=7.78e+6]"
     ]
    },
    {
     "name": "stdout",
     "output_type": "stream",
     "text": [
      "\r",
      "Epoch 11/200:   6%|▌         | 11/200 [00:07<02:06,  1.49it/s, v_num=1, train_loss_step=7.32e+6, train_loss_epoch=7.78e+6]"
     ]
    },
    {
     "name": "stdout",
     "output_type": "stream",
     "text": [
      "\r",
      "Epoch 12/200:   6%|▌         | 11/200 [00:07<02:06,  1.49it/s, v_num=1, train_loss_step=7.32e+6, train_loss_epoch=7.78e+6]"
     ]
    },
    {
     "name": "stdout",
     "output_type": "stream",
     "text": [
      "\r",
      "Epoch 12/200:   6%|▌         | 12/200 [00:08<02:05,  1.50it/s, v_num=1, train_loss_step=7.32e+6, train_loss_epoch=7.78e+6]"
     ]
    },
    {
     "name": "stdout",
     "output_type": "stream",
     "text": [
      "\r",
      "Epoch 12/200:   6%|▌         | 12/200 [00:08<02:05,  1.50it/s, v_num=1, train_loss_step=7.19e+6, train_loss_epoch=7.77e+6]"
     ]
    },
    {
     "name": "stdout",
     "output_type": "stream",
     "text": [
      "\r",
      "Epoch 13/200:   6%|▌         | 12/200 [00:08<02:05,  1.50it/s, v_num=1, train_loss_step=7.19e+6, train_loss_epoch=7.77e+6]"
     ]
    },
    {
     "name": "stdout",
     "output_type": "stream",
     "text": [
      "\r",
      "Epoch 13/200:   6%|▋         | 13/200 [00:08<02:05,  1.50it/s, v_num=1, train_loss_step=7.19e+6, train_loss_epoch=7.77e+6]"
     ]
    },
    {
     "name": "stdout",
     "output_type": "stream",
     "text": [
      "\r",
      "Epoch 13/200:   6%|▋         | 13/200 [00:08<02:05,  1.50it/s, v_num=1, train_loss_step=8.36e+6, train_loss_epoch=7.77e+6]"
     ]
    },
    {
     "name": "stdout",
     "output_type": "stream",
     "text": [
      "\r",
      "Epoch 14/200:   6%|▋         | 13/200 [00:08<02:05,  1.50it/s, v_num=1, train_loss_step=8.36e+6, train_loss_epoch=7.77e+6]"
     ]
    },
    {
     "name": "stdout",
     "output_type": "stream",
     "text": [
      "\r",
      "Epoch 14/200:   7%|▋         | 14/200 [00:09<02:04,  1.50it/s, v_num=1, train_loss_step=8.36e+6, train_loss_epoch=7.77e+6]"
     ]
    },
    {
     "name": "stdout",
     "output_type": "stream",
     "text": [
      "\r",
      "Epoch 14/200:   7%|▋         | 14/200 [00:09<02:04,  1.50it/s, v_num=1, train_loss_step=7.48e+6, train_loss_epoch=7.76e+6]"
     ]
    },
    {
     "name": "stdout",
     "output_type": "stream",
     "text": [
      "\r",
      "Epoch 15/200:   7%|▋         | 14/200 [00:09<02:04,  1.50it/s, v_num=1, train_loss_step=7.48e+6, train_loss_epoch=7.76e+6]"
     ]
    },
    {
     "name": "stdout",
     "output_type": "stream",
     "text": [
      "\r",
      "Epoch 15/200:   8%|▊         | 15/200 [00:10<02:03,  1.50it/s, v_num=1, train_loss_step=7.48e+6, train_loss_epoch=7.76e+6]"
     ]
    },
    {
     "name": "stdout",
     "output_type": "stream",
     "text": [
      "\r",
      "Epoch 15/200:   8%|▊         | 15/200 [00:10<02:03,  1.50it/s, v_num=1, train_loss_step=7.53e+6, train_loss_epoch=7.76e+6]"
     ]
    },
    {
     "name": "stdout",
     "output_type": "stream",
     "text": [
      "\r",
      "Epoch 16/200:   8%|▊         | 15/200 [00:10<02:03,  1.50it/s, v_num=1, train_loss_step=7.53e+6, train_loss_epoch=7.76e+6]"
     ]
    },
    {
     "name": "stdout",
     "output_type": "stream",
     "text": [
      "\r",
      "Epoch 16/200:   8%|▊         | 16/200 [00:10<02:03,  1.50it/s, v_num=1, train_loss_step=7.53e+6, train_loss_epoch=7.76e+6]"
     ]
    },
    {
     "name": "stdout",
     "output_type": "stream",
     "text": [
      "\r",
      "Epoch 16/200:   8%|▊         | 16/200 [00:10<02:03,  1.50it/s, v_num=1, train_loss_step=7.69e+6, train_loss_epoch=7.76e+6]"
     ]
    },
    {
     "name": "stdout",
     "output_type": "stream",
     "text": [
      "\r",
      "Epoch 17/200:   8%|▊         | 16/200 [00:10<02:03,  1.50it/s, v_num=1, train_loss_step=7.69e+6, train_loss_epoch=7.76e+6]"
     ]
    },
    {
     "name": "stdout",
     "output_type": "stream",
     "text": [
      "\r",
      "Epoch 17/200:   8%|▊         | 17/200 [00:11<02:02,  1.50it/s, v_num=1, train_loss_step=7.69e+6, train_loss_epoch=7.76e+6]"
     ]
    },
    {
     "name": "stdout",
     "output_type": "stream",
     "text": [
      "\r",
      "Epoch 17/200:   8%|▊         | 17/200 [00:11<02:02,  1.50it/s, v_num=1, train_loss_step=7.75e+6, train_loss_epoch=7.75e+6]"
     ]
    },
    {
     "name": "stdout",
     "output_type": "stream",
     "text": [
      "\r",
      "Epoch 18/200:   8%|▊         | 17/200 [00:11<02:02,  1.50it/s, v_num=1, train_loss_step=7.75e+6, train_loss_epoch=7.75e+6]"
     ]
    },
    {
     "name": "stdout",
     "output_type": "stream",
     "text": [
      "\r",
      "Epoch 18/200:   9%|▉         | 18/200 [00:12<02:01,  1.50it/s, v_num=1, train_loss_step=7.75e+6, train_loss_epoch=7.75e+6]"
     ]
    },
    {
     "name": "stdout",
     "output_type": "stream",
     "text": [
      "\r",
      "Epoch 18/200:   9%|▉         | 18/200 [00:12<02:01,  1.50it/s, v_num=1, train_loss_step=7.55e+6, train_loss_epoch=7.75e+6]"
     ]
    },
    {
     "name": "stdout",
     "output_type": "stream",
     "text": [
      "\r",
      "Epoch 19/200:   9%|▉         | 18/200 [00:12<02:01,  1.50it/s, v_num=1, train_loss_step=7.55e+6, train_loss_epoch=7.75e+6]"
     ]
    },
    {
     "name": "stdout",
     "output_type": "stream",
     "text": [
      "\r",
      "Epoch 19/200:  10%|▉         | 19/200 [00:12<02:01,  1.50it/s, v_num=1, train_loss_step=7.55e+6, train_loss_epoch=7.75e+6]"
     ]
    },
    {
     "name": "stdout",
     "output_type": "stream",
     "text": [
      "\r",
      "Epoch 19/200:  10%|▉         | 19/200 [00:12<02:01,  1.50it/s, v_num=1, train_loss_step=7.51e+6, train_loss_epoch=7.75e+6]"
     ]
    },
    {
     "name": "stdout",
     "output_type": "stream",
     "text": [
      "\r",
      "Epoch 20/200:  10%|▉         | 19/200 [00:12<02:01,  1.50it/s, v_num=1, train_loss_step=7.51e+6, train_loss_epoch=7.75e+6]"
     ]
    },
    {
     "name": "stdout",
     "output_type": "stream",
     "text": [
      "\r",
      "Epoch 20/200:  10%|█         | 20/200 [00:13<02:00,  1.50it/s, v_num=1, train_loss_step=7.51e+6, train_loss_epoch=7.75e+6]"
     ]
    },
    {
     "name": "stdout",
     "output_type": "stream",
     "text": [
      "\r",
      "Epoch 20/200:  10%|█         | 20/200 [00:13<02:00,  1.50it/s, v_num=1, train_loss_step=7.81e+6, train_loss_epoch=7.75e+6]"
     ]
    },
    {
     "name": "stdout",
     "output_type": "stream",
     "text": [
      "\r",
      "Epoch 21/200:  10%|█         | 20/200 [00:13<02:00,  1.50it/s, v_num=1, train_loss_step=7.81e+6, train_loss_epoch=7.75e+6]"
     ]
    },
    {
     "name": "stdout",
     "output_type": "stream",
     "text": [
      "\r",
      "Epoch 21/200:  10%|█         | 21/200 [00:14<01:59,  1.50it/s, v_num=1, train_loss_step=7.81e+6, train_loss_epoch=7.75e+6]"
     ]
    },
    {
     "name": "stdout",
     "output_type": "stream",
     "text": [
      "\r",
      "Epoch 21/200:  10%|█         | 21/200 [00:14<01:59,  1.50it/s, v_num=1, train_loss_step=7.45e+6, train_loss_epoch=7.75e+6]"
     ]
    },
    {
     "name": "stdout",
     "output_type": "stream",
     "text": [
      "\r",
      "Epoch 22/200:  10%|█         | 21/200 [00:14<01:59,  1.50it/s, v_num=1, train_loss_step=7.45e+6, train_loss_epoch=7.75e+6]"
     ]
    },
    {
     "name": "stdout",
     "output_type": "stream",
     "text": [
      "\r",
      "Epoch 22/200:  11%|█         | 22/200 [00:14<01:59,  1.50it/s, v_num=1, train_loss_step=7.45e+6, train_loss_epoch=7.75e+6]"
     ]
    },
    {
     "name": "stdout",
     "output_type": "stream",
     "text": [
      "\r",
      "Epoch 22/200:  11%|█         | 22/200 [00:14<01:59,  1.50it/s, v_num=1, train_loss_step=7.72e+6, train_loss_epoch=7.74e+6]"
     ]
    },
    {
     "name": "stdout",
     "output_type": "stream",
     "text": [
      "\r",
      "Epoch 23/200:  11%|█         | 22/200 [00:14<01:59,  1.50it/s, v_num=1, train_loss_step=7.72e+6, train_loss_epoch=7.74e+6]"
     ]
    },
    {
     "name": "stdout",
     "output_type": "stream",
     "text": [
      "\r",
      "Epoch 23/200:  12%|█▏        | 23/200 [00:15<01:58,  1.50it/s, v_num=1, train_loss_step=7.72e+6, train_loss_epoch=7.74e+6]"
     ]
    },
    {
     "name": "stdout",
     "output_type": "stream",
     "text": [
      "\r",
      "Epoch 23/200:  12%|█▏        | 23/200 [00:15<01:58,  1.50it/s, v_num=1, train_loss_step=7.86e+6, train_loss_epoch=7.74e+6]"
     ]
    },
    {
     "name": "stdout",
     "output_type": "stream",
     "text": [
      "\r",
      "Epoch 24/200:  12%|█▏        | 23/200 [00:15<01:58,  1.50it/s, v_num=1, train_loss_step=7.86e+6, train_loss_epoch=7.74e+6]"
     ]
    },
    {
     "name": "stdout",
     "output_type": "stream",
     "text": [
      "\r",
      "Epoch 24/200:  12%|█▏        | 24/200 [00:16<01:57,  1.50it/s, v_num=1, train_loss_step=7.86e+6, train_loss_epoch=7.74e+6]"
     ]
    },
    {
     "name": "stdout",
     "output_type": "stream",
     "text": [
      "\r",
      "Epoch 24/200:  12%|█▏        | 24/200 [00:16<01:57,  1.50it/s, v_num=1, train_loss_step=7.51e+6, train_loss_epoch=7.74e+6]"
     ]
    },
    {
     "name": "stdout",
     "output_type": "stream",
     "text": [
      "\r",
      "Epoch 25/200:  12%|█▏        | 24/200 [00:16<01:57,  1.50it/s, v_num=1, train_loss_step=7.51e+6, train_loss_epoch=7.74e+6]"
     ]
    },
    {
     "name": "stdout",
     "output_type": "stream",
     "text": [
      "\r",
      "Epoch 25/200:  12%|█▎        | 25/200 [00:16<01:57,  1.50it/s, v_num=1, train_loss_step=7.51e+6, train_loss_epoch=7.74e+6]"
     ]
    },
    {
     "name": "stdout",
     "output_type": "stream",
     "text": [
      "\r",
      "Epoch 25/200:  12%|█▎        | 25/200 [00:16<01:57,  1.50it/s, v_num=1, train_loss_step=7.47e+6, train_loss_epoch=7.74e+6]"
     ]
    },
    {
     "name": "stdout",
     "output_type": "stream",
     "text": [
      "\r",
      "Epoch 26/200:  12%|█▎        | 25/200 [00:16<01:57,  1.50it/s, v_num=1, train_loss_step=7.47e+6, train_loss_epoch=7.74e+6]"
     ]
    },
    {
     "name": "stdout",
     "output_type": "stream",
     "text": [
      "\r",
      "Epoch 26/200:  13%|█▎        | 26/200 [00:17<01:56,  1.49it/s, v_num=1, train_loss_step=7.47e+6, train_loss_epoch=7.74e+6]"
     ]
    },
    {
     "name": "stdout",
     "output_type": "stream",
     "text": [
      "\r",
      "Epoch 26/200:  13%|█▎        | 26/200 [00:17<01:56,  1.49it/s, v_num=1, train_loss_step=7.62e+6, train_loss_epoch=7.74e+6]"
     ]
    },
    {
     "name": "stdout",
     "output_type": "stream",
     "text": [
      "\r",
      "Epoch 27/200:  13%|█▎        | 26/200 [00:17<01:56,  1.49it/s, v_num=1, train_loss_step=7.62e+6, train_loss_epoch=7.74e+6]"
     ]
    },
    {
     "name": "stdout",
     "output_type": "stream",
     "text": [
      "\r",
      "Epoch 27/200:  14%|█▎        | 27/200 [00:18<01:55,  1.50it/s, v_num=1, train_loss_step=7.62e+6, train_loss_epoch=7.74e+6]"
     ]
    },
    {
     "name": "stdout",
     "output_type": "stream",
     "text": [
      "\r",
      "Epoch 27/200:  14%|█▎        | 27/200 [00:18<01:55,  1.50it/s, v_num=1, train_loss_step=7.11e+6, train_loss_epoch=7.74e+6]"
     ]
    },
    {
     "name": "stdout",
     "output_type": "stream",
     "text": [
      "\r",
      "Epoch 28/200:  14%|█▎        | 27/200 [00:18<01:55,  1.50it/s, v_num=1, train_loss_step=7.11e+6, train_loss_epoch=7.74e+6]"
     ]
    },
    {
     "name": "stdout",
     "output_type": "stream",
     "text": [
      "\r",
      "Epoch 28/200:  14%|█▍        | 28/200 [00:18<01:55,  1.49it/s, v_num=1, train_loss_step=7.11e+6, train_loss_epoch=7.74e+6]"
     ]
    },
    {
     "name": "stdout",
     "output_type": "stream",
     "text": [
      "\r",
      "Epoch 28/200:  14%|█▍        | 28/200 [00:18<01:55,  1.49it/s, v_num=1, train_loss_step=8.15e+6, train_loss_epoch=7.74e+6]"
     ]
    },
    {
     "name": "stdout",
     "output_type": "stream",
     "text": [
      "\r",
      "Epoch 29/200:  14%|█▍        | 28/200 [00:18<01:55,  1.49it/s, v_num=1, train_loss_step=8.15e+6, train_loss_epoch=7.74e+6]"
     ]
    },
    {
     "name": "stdout",
     "output_type": "stream",
     "text": [
      "\r",
      "Epoch 29/200:  14%|█▍        | 29/200 [00:19<01:54,  1.49it/s, v_num=1, train_loss_step=8.15e+6, train_loss_epoch=7.74e+6]"
     ]
    },
    {
     "name": "stdout",
     "output_type": "stream",
     "text": [
      "\r",
      "Epoch 29/200:  14%|█▍        | 29/200 [00:19<01:54,  1.49it/s, v_num=1, train_loss_step=7.8e+6, train_loss_epoch=7.74e+6] "
     ]
    },
    {
     "name": "stdout",
     "output_type": "stream",
     "text": [
      "\r",
      "Epoch 30/200:  14%|█▍        | 29/200 [00:19<01:54,  1.49it/s, v_num=1, train_loss_step=7.8e+6, train_loss_epoch=7.74e+6]"
     ]
    },
    {
     "name": "stdout",
     "output_type": "stream",
     "text": [
      "\r",
      "Epoch 30/200:  15%|█▌        | 30/200 [00:20<01:53,  1.49it/s, v_num=1, train_loss_step=7.8e+6, train_loss_epoch=7.74e+6]"
     ]
    },
    {
     "name": "stdout",
     "output_type": "stream",
     "text": [
      "\r",
      "Epoch 30/200:  15%|█▌        | 30/200 [00:20<01:53,  1.49it/s, v_num=1, train_loss_step=8.08e+6, train_loss_epoch=7.74e+6]"
     ]
    },
    {
     "name": "stdout",
     "output_type": "stream",
     "text": [
      "\r",
      "Epoch 31/200:  15%|█▌        | 30/200 [00:20<01:53,  1.49it/s, v_num=1, train_loss_step=8.08e+6, train_loss_epoch=7.74e+6]"
     ]
    },
    {
     "name": "stdout",
     "output_type": "stream",
     "text": [
      "\r",
      "Epoch 31/200:  16%|█▌        | 31/200 [00:20<01:53,  1.49it/s, v_num=1, train_loss_step=8.08e+6, train_loss_epoch=7.74e+6]"
     ]
    },
    {
     "name": "stdout",
     "output_type": "stream",
     "text": [
      "\r",
      "Epoch 31/200:  16%|█▌        | 31/200 [00:20<01:53,  1.49it/s, v_num=1, train_loss_step=7.65e+6, train_loss_epoch=7.74e+6]"
     ]
    },
    {
     "name": "stdout",
     "output_type": "stream",
     "text": [
      "\r",
      "Epoch 32/200:  16%|█▌        | 31/200 [00:20<01:53,  1.49it/s, v_num=1, train_loss_step=7.65e+6, train_loss_epoch=7.74e+6]"
     ]
    },
    {
     "name": "stdout",
     "output_type": "stream",
     "text": [
      "\r",
      "Epoch 32/200:  16%|█▌        | 32/200 [00:21<01:52,  1.49it/s, v_num=1, train_loss_step=7.65e+6, train_loss_epoch=7.74e+6]"
     ]
    },
    {
     "name": "stdout",
     "output_type": "stream",
     "text": [
      "\r",
      "Epoch 32/200:  16%|█▌        | 32/200 [00:21<01:52,  1.49it/s, v_num=1, train_loss_step=7.98e+6, train_loss_epoch=7.74e+6]"
     ]
    },
    {
     "name": "stdout",
     "output_type": "stream",
     "text": [
      "\r",
      "Epoch 33/200:  16%|█▌        | 32/200 [00:21<01:52,  1.49it/s, v_num=1, train_loss_step=7.98e+6, train_loss_epoch=7.74e+6]"
     ]
    },
    {
     "name": "stdout",
     "output_type": "stream",
     "text": [
      "\r",
      "Epoch 33/200:  16%|█▋        | 33/200 [00:22<01:51,  1.50it/s, v_num=1, train_loss_step=7.98e+6, train_loss_epoch=7.74e+6]"
     ]
    },
    {
     "name": "stdout",
     "output_type": "stream",
     "text": [
      "\r",
      "Epoch 33/200:  16%|█▋        | 33/200 [00:22<01:51,  1.50it/s, v_num=1, train_loss_step=7.99e+6, train_loss_epoch=7.73e+6]"
     ]
    },
    {
     "name": "stdout",
     "output_type": "stream",
     "text": [
      "\r",
      "Epoch 34/200:  16%|█▋        | 33/200 [00:22<01:51,  1.50it/s, v_num=1, train_loss_step=7.99e+6, train_loss_epoch=7.73e+6]"
     ]
    },
    {
     "name": "stdout",
     "output_type": "stream",
     "text": [
      "\r",
      "Epoch 34/200:  17%|█▋        | 34/200 [00:22<01:50,  1.50it/s, v_num=1, train_loss_step=7.99e+6, train_loss_epoch=7.73e+6]"
     ]
    },
    {
     "name": "stdout",
     "output_type": "stream",
     "text": [
      "\r",
      "Epoch 34/200:  17%|█▋        | 34/200 [00:22<01:50,  1.50it/s, v_num=1, train_loss_step=7.24e+6, train_loss_epoch=7.73e+6]"
     ]
    },
    {
     "name": "stdout",
     "output_type": "stream",
     "text": [
      "\r",
      "Epoch 35/200:  17%|█▋        | 34/200 [00:22<01:50,  1.50it/s, v_num=1, train_loss_step=7.24e+6, train_loss_epoch=7.73e+6]"
     ]
    },
    {
     "name": "stdout",
     "output_type": "stream",
     "text": [
      "\r",
      "Epoch 35/200:  18%|█▊        | 35/200 [00:23<01:50,  1.50it/s, v_num=1, train_loss_step=7.24e+6, train_loss_epoch=7.73e+6]"
     ]
    },
    {
     "name": "stdout",
     "output_type": "stream",
     "text": [
      "\r",
      "Epoch 35/200:  18%|█▊        | 35/200 [00:23<01:50,  1.50it/s, v_num=1, train_loss_step=7.52e+6, train_loss_epoch=7.73e+6]"
     ]
    },
    {
     "name": "stdout",
     "output_type": "stream",
     "text": [
      "\r",
      "Epoch 36/200:  18%|█▊        | 35/200 [00:23<01:50,  1.50it/s, v_num=1, train_loss_step=7.52e+6, train_loss_epoch=7.73e+6]"
     ]
    },
    {
     "name": "stdout",
     "output_type": "stream",
     "text": [
      "\r",
      "Epoch 36/200:  18%|█▊        | 36/200 [00:24<01:49,  1.50it/s, v_num=1, train_loss_step=7.52e+6, train_loss_epoch=7.73e+6]"
     ]
    },
    {
     "name": "stdout",
     "output_type": "stream",
     "text": [
      "\r",
      "Epoch 36/200:  18%|█▊        | 36/200 [00:24<01:49,  1.50it/s, v_num=1, train_loss_step=8.98e+6, train_loss_epoch=7.74e+6]"
     ]
    },
    {
     "name": "stdout",
     "output_type": "stream",
     "text": [
      "\r",
      "Epoch 37/200:  18%|█▊        | 36/200 [00:24<01:49,  1.50it/s, v_num=1, train_loss_step=8.98e+6, train_loss_epoch=7.74e+6]"
     ]
    },
    {
     "name": "stdout",
     "output_type": "stream",
     "text": [
      "\r",
      "Epoch 37/200:  18%|█▊        | 37/200 [00:24<01:48,  1.50it/s, v_num=1, train_loss_step=8.98e+6, train_loss_epoch=7.74e+6]"
     ]
    },
    {
     "name": "stdout",
     "output_type": "stream",
     "text": [
      "\r",
      "Epoch 37/200:  18%|█▊        | 37/200 [00:24<01:48,  1.50it/s, v_num=1, train_loss_step=8.02e+6, train_loss_epoch=7.73e+6]"
     ]
    },
    {
     "name": "stdout",
     "output_type": "stream",
     "text": [
      "\r",
      "Epoch 38/200:  18%|█▊        | 37/200 [00:24<01:48,  1.50it/s, v_num=1, train_loss_step=8.02e+6, train_loss_epoch=7.73e+6]"
     ]
    },
    {
     "name": "stdout",
     "output_type": "stream",
     "text": [
      "\r",
      "Epoch 38/200:  19%|█▉        | 38/200 [00:25<01:48,  1.50it/s, v_num=1, train_loss_step=8.02e+6, train_loss_epoch=7.73e+6]"
     ]
    },
    {
     "name": "stdout",
     "output_type": "stream",
     "text": [
      "\r",
      "Epoch 38/200:  19%|█▉        | 38/200 [00:25<01:48,  1.50it/s, v_num=1, train_loss_step=7.87e+6, train_loss_epoch=7.73e+6]"
     ]
    },
    {
     "name": "stdout",
     "output_type": "stream",
     "text": [
      "\r",
      "Epoch 39/200:  19%|█▉        | 38/200 [00:25<01:48,  1.50it/s, v_num=1, train_loss_step=7.87e+6, train_loss_epoch=7.73e+6]"
     ]
    },
    {
     "name": "stdout",
     "output_type": "stream",
     "text": [
      "\r",
      "Epoch 39/200:  20%|█▉        | 39/200 [00:26<01:47,  1.50it/s, v_num=1, train_loss_step=7.87e+6, train_loss_epoch=7.73e+6]"
     ]
    },
    {
     "name": "stdout",
     "output_type": "stream",
     "text": [
      "\r",
      "Epoch 39/200:  20%|█▉        | 39/200 [00:26<01:47,  1.50it/s, v_num=1, train_loss_step=7.89e+6, train_loss_epoch=7.73e+6]"
     ]
    },
    {
     "name": "stdout",
     "output_type": "stream",
     "text": [
      "\r",
      "Epoch 40/200:  20%|█▉        | 39/200 [00:26<01:47,  1.50it/s, v_num=1, train_loss_step=7.89e+6, train_loss_epoch=7.73e+6]"
     ]
    },
    {
     "name": "stdout",
     "output_type": "stream",
     "text": [
      "\r",
      "Epoch 40/200:  20%|██        | 40/200 [00:26<01:46,  1.50it/s, v_num=1, train_loss_step=7.89e+6, train_loss_epoch=7.73e+6]"
     ]
    },
    {
     "name": "stdout",
     "output_type": "stream",
     "text": [
      "\r",
      "Epoch 40/200:  20%|██        | 40/200 [00:26<01:46,  1.50it/s, v_num=1, train_loss_step=8.33e+6, train_loss_epoch=7.73e+6]"
     ]
    },
    {
     "name": "stdout",
     "output_type": "stream",
     "text": [
      "\r",
      "Epoch 41/200:  20%|██        | 40/200 [00:26<01:46,  1.50it/s, v_num=1, train_loss_step=8.33e+6, train_loss_epoch=7.73e+6]"
     ]
    },
    {
     "name": "stdout",
     "output_type": "stream",
     "text": [
      "\r",
      "Epoch 41/200:  20%|██        | 41/200 [00:27<01:46,  1.49it/s, v_num=1, train_loss_step=8.33e+6, train_loss_epoch=7.73e+6]"
     ]
    },
    {
     "name": "stdout",
     "output_type": "stream",
     "text": [
      "\r",
      "Epoch 41/200:  20%|██        | 41/200 [00:27<01:46,  1.49it/s, v_num=1, train_loss_step=8.11e+6, train_loss_epoch=7.73e+6]"
     ]
    },
    {
     "name": "stdout",
     "output_type": "stream",
     "text": [
      "\r",
      "Epoch 42/200:  20%|██        | 41/200 [00:27<01:46,  1.49it/s, v_num=1, train_loss_step=8.11e+6, train_loss_epoch=7.73e+6]"
     ]
    },
    {
     "name": "stdout",
     "output_type": "stream",
     "text": [
      "\r",
      "Epoch 42/200:  21%|██        | 42/200 [00:28<01:45,  1.49it/s, v_num=1, train_loss_step=8.11e+6, train_loss_epoch=7.73e+6]"
     ]
    },
    {
     "name": "stdout",
     "output_type": "stream",
     "text": [
      "\r",
      "Epoch 42/200:  21%|██        | 42/200 [00:28<01:45,  1.49it/s, v_num=1, train_loss_step=8.35e+6, train_loss_epoch=7.73e+6]"
     ]
    },
    {
     "name": "stdout",
     "output_type": "stream",
     "text": [
      "\r",
      "Epoch 43/200:  21%|██        | 42/200 [00:28<01:45,  1.49it/s, v_num=1, train_loss_step=8.35e+6, train_loss_epoch=7.73e+6]"
     ]
    },
    {
     "name": "stdout",
     "output_type": "stream",
     "text": [
      "\r",
      "Epoch 43/200:  22%|██▏       | 43/200 [00:28<01:45,  1.49it/s, v_num=1, train_loss_step=8.35e+6, train_loss_epoch=7.73e+6]"
     ]
    },
    {
     "name": "stdout",
     "output_type": "stream",
     "text": [
      "\r",
      "Epoch 43/200:  22%|██▏       | 43/200 [00:28<01:45,  1.49it/s, v_num=1, train_loss_step=7.59e+6, train_loss_epoch=7.73e+6]"
     ]
    },
    {
     "name": "stdout",
     "output_type": "stream",
     "text": [
      "\r",
      "Epoch 44/200:  22%|██▏       | 43/200 [00:28<01:45,  1.49it/s, v_num=1, train_loss_step=7.59e+6, train_loss_epoch=7.73e+6]"
     ]
    },
    {
     "name": "stdout",
     "output_type": "stream",
     "text": [
      "\r",
      "Epoch 44/200:  22%|██▏       | 44/200 [00:29<01:44,  1.49it/s, v_num=1, train_loss_step=7.59e+6, train_loss_epoch=7.73e+6]"
     ]
    },
    {
     "name": "stdout",
     "output_type": "stream",
     "text": [
      "\r",
      "Epoch 44/200:  22%|██▏       | 44/200 [00:29<01:44,  1.49it/s, v_num=1, train_loss_step=7.7e+6, train_loss_epoch=7.73e+6] "
     ]
    },
    {
     "name": "stdout",
     "output_type": "stream",
     "text": [
      "\r",
      "Epoch 45/200:  22%|██▏       | 44/200 [00:29<01:44,  1.49it/s, v_num=1, train_loss_step=7.7e+6, train_loss_epoch=7.73e+6]"
     ]
    },
    {
     "name": "stdout",
     "output_type": "stream",
     "text": [
      "\r",
      "Epoch 45/200:  22%|██▎       | 45/200 [00:30<01:43,  1.49it/s, v_num=1, train_loss_step=7.7e+6, train_loss_epoch=7.73e+6]"
     ]
    },
    {
     "name": "stdout",
     "output_type": "stream",
     "text": [
      "\r",
      "Epoch 45/200:  22%|██▎       | 45/200 [00:30<01:43,  1.49it/s, v_num=1, train_loss_step=7.72e+6, train_loss_epoch=7.73e+6]"
     ]
    },
    {
     "name": "stdout",
     "output_type": "stream",
     "text": [
      "\r",
      "Epoch 46/200:  22%|██▎       | 45/200 [00:30<01:43,  1.49it/s, v_num=1, train_loss_step=7.72e+6, train_loss_epoch=7.73e+6]"
     ]
    },
    {
     "name": "stdout",
     "output_type": "stream",
     "text": [
      "\r",
      "Epoch 46/200:  23%|██▎       | 46/200 [00:30<01:43,  1.49it/s, v_num=1, train_loss_step=7.72e+6, train_loss_epoch=7.73e+6]"
     ]
    },
    {
     "name": "stdout",
     "output_type": "stream",
     "text": [
      "\r",
      "Epoch 46/200:  23%|██▎       | 46/200 [00:30<01:43,  1.49it/s, v_num=1, train_loss_step=7.81e+6, train_loss_epoch=7.73e+6]"
     ]
    },
    {
     "name": "stdout",
     "output_type": "stream",
     "text": [
      "\r",
      "Epoch 47/200:  23%|██▎       | 46/200 [00:30<01:43,  1.49it/s, v_num=1, train_loss_step=7.81e+6, train_loss_epoch=7.73e+6]"
     ]
    },
    {
     "name": "stdout",
     "output_type": "stream",
     "text": [
      "\r",
      "Epoch 47/200:  24%|██▎       | 47/200 [00:31<01:42,  1.49it/s, v_num=1, train_loss_step=7.81e+6, train_loss_epoch=7.73e+6]"
     ]
    },
    {
     "name": "stdout",
     "output_type": "stream",
     "text": [
      "\r",
      "Epoch 47/200:  24%|██▎       | 47/200 [00:31<01:42,  1.49it/s, v_num=1, train_loss_step=7.64e+6, train_loss_epoch=7.73e+6]"
     ]
    },
    {
     "name": "stdout",
     "output_type": "stream",
     "text": [
      "\r",
      "Epoch 48/200:  24%|██▎       | 47/200 [00:31<01:42,  1.49it/s, v_num=1, train_loss_step=7.64e+6, train_loss_epoch=7.73e+6]"
     ]
    },
    {
     "name": "stdout",
     "output_type": "stream",
     "text": [
      "\r",
      "Epoch 48/200:  24%|██▍       | 48/200 [00:32<01:41,  1.49it/s, v_num=1, train_loss_step=7.64e+6, train_loss_epoch=7.73e+6]"
     ]
    },
    {
     "name": "stdout",
     "output_type": "stream",
     "text": [
      "\r",
      "Epoch 48/200:  24%|██▍       | 48/200 [00:32<01:41,  1.49it/s, v_num=1, train_loss_step=7.7e+6, train_loss_epoch=7.73e+6] "
     ]
    },
    {
     "name": "stdout",
     "output_type": "stream",
     "text": [
      "\r",
      "Epoch 49/200:  24%|██▍       | 48/200 [00:32<01:41,  1.49it/s, v_num=1, train_loss_step=7.7e+6, train_loss_epoch=7.73e+6]"
     ]
    },
    {
     "name": "stdout",
     "output_type": "stream",
     "text": [
      "\r",
      "Epoch 49/200:  24%|██▍       | 49/200 [00:32<01:41,  1.49it/s, v_num=1, train_loss_step=7.7e+6, train_loss_epoch=7.73e+6]"
     ]
    },
    {
     "name": "stdout",
     "output_type": "stream",
     "text": [
      "\r",
      "Epoch 49/200:  24%|██▍       | 49/200 [00:32<01:41,  1.49it/s, v_num=1, train_loss_step=7.72e+6, train_loss_epoch=7.73e+6]"
     ]
    },
    {
     "name": "stdout",
     "output_type": "stream",
     "text": [
      "\r",
      "Epoch 50/200:  24%|██▍       | 49/200 [00:32<01:41,  1.49it/s, v_num=1, train_loss_step=7.72e+6, train_loss_epoch=7.73e+6]"
     ]
    },
    {
     "name": "stdout",
     "output_type": "stream",
     "text": [
      "\r",
      "Epoch 50/200:  25%|██▌       | 50/200 [00:33<01:40,  1.49it/s, v_num=1, train_loss_step=7.72e+6, train_loss_epoch=7.73e+6]"
     ]
    },
    {
     "name": "stdout",
     "output_type": "stream",
     "text": [
      "\r",
      "Epoch 50/200:  25%|██▌       | 50/200 [00:33<01:40,  1.49it/s, v_num=1, train_loss_step=7.45e+6, train_loss_epoch=7.73e+6]"
     ]
    },
    {
     "name": "stdout",
     "output_type": "stream",
     "text": [
      "\r",
      "Epoch 51/200:  25%|██▌       | 50/200 [00:33<01:40,  1.49it/s, v_num=1, train_loss_step=7.45e+6, train_loss_epoch=7.73e+6]"
     ]
    },
    {
     "name": "stdout",
     "output_type": "stream",
     "text": [
      "\r",
      "Epoch 51/200:  26%|██▌       | 51/200 [00:34<01:39,  1.49it/s, v_num=1, train_loss_step=7.45e+6, train_loss_epoch=7.73e+6]"
     ]
    },
    {
     "name": "stdout",
     "output_type": "stream",
     "text": [
      "\r",
      "Epoch 51/200:  26%|██▌       | 51/200 [00:34<01:39,  1.49it/s, v_num=1, train_loss_step=7.74e+6, train_loss_epoch=7.73e+6]"
     ]
    },
    {
     "name": "stdout",
     "output_type": "stream",
     "text": [
      "\r",
      "Epoch 52/200:  26%|██▌       | 51/200 [00:34<01:39,  1.49it/s, v_num=1, train_loss_step=7.74e+6, train_loss_epoch=7.73e+6]"
     ]
    },
    {
     "name": "stdout",
     "output_type": "stream",
     "text": [
      "\r",
      "Epoch 52/200:  26%|██▌       | 52/200 [00:34<01:39,  1.49it/s, v_num=1, train_loss_step=7.74e+6, train_loss_epoch=7.73e+6]"
     ]
    },
    {
     "name": "stdout",
     "output_type": "stream",
     "text": [
      "\r",
      "Epoch 52/200:  26%|██▌       | 52/200 [00:34<01:39,  1.49it/s, v_num=1, train_loss_step=7.3e+6, train_loss_epoch=7.73e+6] "
     ]
    },
    {
     "name": "stdout",
     "output_type": "stream",
     "text": [
      "\r",
      "Epoch 53/200:  26%|██▌       | 52/200 [00:34<01:39,  1.49it/s, v_num=1, train_loss_step=7.3e+6, train_loss_epoch=7.73e+6]"
     ]
    },
    {
     "name": "stdout",
     "output_type": "stream",
     "text": [
      "\r",
      "Epoch 53/200:  26%|██▋       | 53/200 [00:35<01:38,  1.49it/s, v_num=1, train_loss_step=7.3e+6, train_loss_epoch=7.73e+6]"
     ]
    },
    {
     "name": "stdout",
     "output_type": "stream",
     "text": [
      "\r",
      "Epoch 53/200:  26%|██▋       | 53/200 [00:35<01:38,  1.49it/s, v_num=1, train_loss_step=7.92e+6, train_loss_epoch=7.73e+6]"
     ]
    },
    {
     "name": "stdout",
     "output_type": "stream",
     "text": [
      "\r",
      "Epoch 54/200:  26%|██▋       | 53/200 [00:35<01:38,  1.49it/s, v_num=1, train_loss_step=7.92e+6, train_loss_epoch=7.73e+6]"
     ]
    },
    {
     "name": "stdout",
     "output_type": "stream",
     "text": [
      "\r",
      "Epoch 54/200:  27%|██▋       | 54/200 [00:36<01:37,  1.49it/s, v_num=1, train_loss_step=7.92e+6, train_loss_epoch=7.73e+6]"
     ]
    },
    {
     "name": "stdout",
     "output_type": "stream",
     "text": [
      "\r",
      "Epoch 54/200:  27%|██▋       | 54/200 [00:36<01:37,  1.49it/s, v_num=1, train_loss_step=8.34e+6, train_loss_epoch=7.73e+6]"
     ]
    },
    {
     "name": "stdout",
     "output_type": "stream",
     "text": [
      "\r",
      "Epoch 55/200:  27%|██▋       | 54/200 [00:36<01:37,  1.49it/s, v_num=1, train_loss_step=8.34e+6, train_loss_epoch=7.73e+6]"
     ]
    },
    {
     "name": "stdout",
     "output_type": "stream",
     "text": [
      "\r",
      "Epoch 55/200:  28%|██▊       | 55/200 [00:36<01:37,  1.49it/s, v_num=1, train_loss_step=8.34e+6, train_loss_epoch=7.73e+6]"
     ]
    },
    {
     "name": "stdout",
     "output_type": "stream",
     "text": [
      "\r",
      "Epoch 55/200:  28%|██▊       | 55/200 [00:36<01:37,  1.49it/s, v_num=1, train_loss_step=7.97e+6, train_loss_epoch=7.73e+6]"
     ]
    },
    {
     "name": "stdout",
     "output_type": "stream",
     "text": [
      "\r",
      "Epoch 56/200:  28%|██▊       | 55/200 [00:36<01:37,  1.49it/s, v_num=1, train_loss_step=7.97e+6, train_loss_epoch=7.73e+6]"
     ]
    },
    {
     "name": "stdout",
     "output_type": "stream",
     "text": [
      "\r",
      "Epoch 56/200:  28%|██▊       | 56/200 [00:37<01:36,  1.49it/s, v_num=1, train_loss_step=7.97e+6, train_loss_epoch=7.73e+6]"
     ]
    },
    {
     "name": "stdout",
     "output_type": "stream",
     "text": [
      "\r",
      "Epoch 56/200:  28%|██▊       | 56/200 [00:37<01:36,  1.49it/s, v_num=1, train_loss_step=7.3e+6, train_loss_epoch=7.73e+6] "
     ]
    },
    {
     "name": "stdout",
     "output_type": "stream",
     "text": [
      "\r",
      "Epoch 57/200:  28%|██▊       | 56/200 [00:37<01:36,  1.49it/s, v_num=1, train_loss_step=7.3e+6, train_loss_epoch=7.73e+6]"
     ]
    },
    {
     "name": "stdout",
     "output_type": "stream",
     "text": [
      "\r",
      "Epoch 57/200:  28%|██▊       | 57/200 [00:38<01:35,  1.49it/s, v_num=1, train_loss_step=7.3e+6, train_loss_epoch=7.73e+6]"
     ]
    },
    {
     "name": "stdout",
     "output_type": "stream",
     "text": [
      "\r",
      "Epoch 57/200:  28%|██▊       | 57/200 [00:38<01:35,  1.49it/s, v_num=1, train_loss_step=7.71e+6, train_loss_epoch=7.73e+6]"
     ]
    },
    {
     "name": "stdout",
     "output_type": "stream",
     "text": [
      "\r",
      "Epoch 58/200:  28%|██▊       | 57/200 [00:38<01:35,  1.49it/s, v_num=1, train_loss_step=7.71e+6, train_loss_epoch=7.73e+6]"
     ]
    },
    {
     "name": "stdout",
     "output_type": "stream",
     "text": [
      "\r",
      "Epoch 58/200:  29%|██▉       | 58/200 [00:38<01:35,  1.49it/s, v_num=1, train_loss_step=7.71e+6, train_loss_epoch=7.73e+6]"
     ]
    },
    {
     "name": "stdout",
     "output_type": "stream",
     "text": [
      "\r",
      "Epoch 58/200:  29%|██▉       | 58/200 [00:38<01:35,  1.49it/s, v_num=1, train_loss_step=7.41e+6, train_loss_epoch=7.73e+6]"
     ]
    },
    {
     "name": "stdout",
     "output_type": "stream",
     "text": [
      "\r",
      "Epoch 59/200:  29%|██▉       | 58/200 [00:38<01:35,  1.49it/s, v_num=1, train_loss_step=7.41e+6, train_loss_epoch=7.73e+6]"
     ]
    },
    {
     "name": "stdout",
     "output_type": "stream",
     "text": [
      "\r",
      "Epoch 59/200:  30%|██▉       | 59/200 [00:39<01:34,  1.49it/s, v_num=1, train_loss_step=7.41e+6, train_loss_epoch=7.73e+6]"
     ]
    },
    {
     "name": "stdout",
     "output_type": "stream",
     "text": [
      "\r",
      "Epoch 59/200:  30%|██▉       | 59/200 [00:39<01:34,  1.49it/s, v_num=1, train_loss_step=7.42e+6, train_loss_epoch=7.73e+6]"
     ]
    },
    {
     "name": "stdout",
     "output_type": "stream",
     "text": [
      "\r",
      "Epoch 60/200:  30%|██▉       | 59/200 [00:39<01:34,  1.49it/s, v_num=1, train_loss_step=7.42e+6, train_loss_epoch=7.73e+6]"
     ]
    },
    {
     "name": "stdout",
     "output_type": "stream",
     "text": [
      "\r",
      "Epoch 60/200:  30%|███       | 60/200 [00:40<01:33,  1.49it/s, v_num=1, train_loss_step=7.42e+6, train_loss_epoch=7.73e+6]"
     ]
    },
    {
     "name": "stdout",
     "output_type": "stream",
     "text": [
      "\r",
      "Epoch 60/200:  30%|███       | 60/200 [00:40<01:33,  1.49it/s, v_num=1, train_loss_step=7.94e+6, train_loss_epoch=7.73e+6]"
     ]
    },
    {
     "name": "stdout",
     "output_type": "stream",
     "text": [
      "\r",
      "Epoch 61/200:  30%|███       | 60/200 [00:40<01:33,  1.49it/s, v_num=1, train_loss_step=7.94e+6, train_loss_epoch=7.73e+6]"
     ]
    },
    {
     "name": "stdout",
     "output_type": "stream",
     "text": [
      "\r",
      "Epoch 61/200:  30%|███       | 61/200 [00:40<01:33,  1.49it/s, v_num=1, train_loss_step=7.94e+6, train_loss_epoch=7.73e+6]"
     ]
    },
    {
     "name": "stdout",
     "output_type": "stream",
     "text": [
      "\r",
      "Epoch 61/200:  30%|███       | 61/200 [00:40<01:33,  1.49it/s, v_num=1, train_loss_step=7.71e+6, train_loss_epoch=7.73e+6]"
     ]
    },
    {
     "name": "stdout",
     "output_type": "stream",
     "text": [
      "\r",
      "Epoch 62/200:  30%|███       | 61/200 [00:40<01:33,  1.49it/s, v_num=1, train_loss_step=7.71e+6, train_loss_epoch=7.73e+6]"
     ]
    },
    {
     "name": "stdout",
     "output_type": "stream",
     "text": [
      "\r",
      "Epoch 62/200:  31%|███       | 62/200 [00:41<01:32,  1.49it/s, v_num=1, train_loss_step=7.71e+6, train_loss_epoch=7.73e+6]"
     ]
    },
    {
     "name": "stdout",
     "output_type": "stream",
     "text": [
      "\r",
      "Epoch 62/200:  31%|███       | 62/200 [00:41<01:32,  1.49it/s, v_num=1, train_loss_step=7.77e+6, train_loss_epoch=7.73e+6]"
     ]
    },
    {
     "name": "stdout",
     "output_type": "stream",
     "text": [
      "\r",
      "Epoch 63/200:  31%|███       | 62/200 [00:41<01:32,  1.49it/s, v_num=1, train_loss_step=7.77e+6, train_loss_epoch=7.73e+6]"
     ]
    },
    {
     "name": "stdout",
     "output_type": "stream",
     "text": [
      "\r",
      "Epoch 63/200:  32%|███▏      | 63/200 [00:42<01:31,  1.49it/s, v_num=1, train_loss_step=7.77e+6, train_loss_epoch=7.73e+6]"
     ]
    },
    {
     "name": "stdout",
     "output_type": "stream",
     "text": [
      "\r",
      "Epoch 63/200:  32%|███▏      | 63/200 [00:42<01:31,  1.49it/s, v_num=1, train_loss_step=7.93e+6, train_loss_epoch=7.73e+6]"
     ]
    },
    {
     "name": "stdout",
     "output_type": "stream",
     "text": [
      "\r",
      "Epoch 64/200:  32%|███▏      | 63/200 [00:42<01:31,  1.49it/s, v_num=1, train_loss_step=7.93e+6, train_loss_epoch=7.73e+6]"
     ]
    },
    {
     "name": "stdout",
     "output_type": "stream",
     "text": [
      "\r",
      "Epoch 64/200:  32%|███▏      | 64/200 [00:42<01:31,  1.49it/s, v_num=1, train_loss_step=7.93e+6, train_loss_epoch=7.73e+6]"
     ]
    },
    {
     "name": "stdout",
     "output_type": "stream",
     "text": [
      "\r",
      "Epoch 64/200:  32%|███▏      | 64/200 [00:42<01:31,  1.49it/s, v_num=1, train_loss_step=7.45e+6, train_loss_epoch=7.73e+6]"
     ]
    },
    {
     "name": "stdout",
     "output_type": "stream",
     "text": [
      "\r",
      "Epoch 65/200:  32%|███▏      | 64/200 [00:42<01:31,  1.49it/s, v_num=1, train_loss_step=7.45e+6, train_loss_epoch=7.73e+6]"
     ]
    },
    {
     "name": "stdout",
     "output_type": "stream",
     "text": [
      "\r",
      "Epoch 65/200:  32%|███▎      | 65/200 [00:43<01:30,  1.49it/s, v_num=1, train_loss_step=7.45e+6, train_loss_epoch=7.73e+6]"
     ]
    },
    {
     "name": "stdout",
     "output_type": "stream",
     "text": [
      "\r",
      "Epoch 65/200:  32%|███▎      | 65/200 [00:43<01:30,  1.49it/s, v_num=1, train_loss_step=7.11e+6, train_loss_epoch=7.73e+6]"
     ]
    },
    {
     "name": "stdout",
     "output_type": "stream",
     "text": [
      "\r",
      "Epoch 66/200:  32%|███▎      | 65/200 [00:43<01:30,  1.49it/s, v_num=1, train_loss_step=7.11e+6, train_loss_epoch=7.73e+6]"
     ]
    },
    {
     "name": "stdout",
     "output_type": "stream",
     "text": [
      "\r",
      "Epoch 66/200:  33%|███▎      | 66/200 [00:44<01:29,  1.49it/s, v_num=1, train_loss_step=7.11e+6, train_loss_epoch=7.73e+6]"
     ]
    },
    {
     "name": "stdout",
     "output_type": "stream",
     "text": [
      "\r",
      "Epoch 66/200:  33%|███▎      | 66/200 [00:44<01:29,  1.49it/s, v_num=1, train_loss_step=7.88e+6, train_loss_epoch=7.73e+6]"
     ]
    },
    {
     "name": "stdout",
     "output_type": "stream",
     "text": [
      "\r",
      "Epoch 67/200:  33%|███▎      | 66/200 [00:44<01:29,  1.49it/s, v_num=1, train_loss_step=7.88e+6, train_loss_epoch=7.73e+6]"
     ]
    },
    {
     "name": "stdout",
     "output_type": "stream",
     "text": [
      "\r",
      "Epoch 67/200:  34%|███▎      | 67/200 [00:44<01:29,  1.49it/s, v_num=1, train_loss_step=7.88e+6, train_loss_epoch=7.73e+6]"
     ]
    },
    {
     "name": "stdout",
     "output_type": "stream",
     "text": [
      "\r",
      "Epoch 67/200:  34%|███▎      | 67/200 [00:44<01:29,  1.49it/s, v_num=1, train_loss_step=8.14e+6, train_loss_epoch=7.73e+6]"
     ]
    },
    {
     "name": "stdout",
     "output_type": "stream",
     "text": [
      "\r",
      "Epoch 68/200:  34%|███▎      | 67/200 [00:44<01:29,  1.49it/s, v_num=1, train_loss_step=8.14e+6, train_loss_epoch=7.73e+6]"
     ]
    },
    {
     "name": "stdout",
     "output_type": "stream",
     "text": [
      "\r",
      "Epoch 68/200:  34%|███▍      | 68/200 [00:45<01:28,  1.49it/s, v_num=1, train_loss_step=8.14e+6, train_loss_epoch=7.73e+6]"
     ]
    },
    {
     "name": "stdout",
     "output_type": "stream",
     "text": [
      "\r",
      "Epoch 68/200:  34%|███▍      | 68/200 [00:45<01:28,  1.49it/s, v_num=1, train_loss_step=7.54e+6, train_loss_epoch=7.73e+6]"
     ]
    },
    {
     "name": "stdout",
     "output_type": "stream",
     "text": [
      "\r",
      "Epoch 69/200:  34%|███▍      | 68/200 [00:45<01:28,  1.49it/s, v_num=1, train_loss_step=7.54e+6, train_loss_epoch=7.73e+6]"
     ]
    },
    {
     "name": "stdout",
     "output_type": "stream",
     "text": [
      "\r",
      "Epoch 69/200:  34%|███▍      | 69/200 [00:46<01:27,  1.49it/s, v_num=1, train_loss_step=7.54e+6, train_loss_epoch=7.73e+6]"
     ]
    },
    {
     "name": "stdout",
     "output_type": "stream",
     "text": [
      "\r",
      "Epoch 69/200:  34%|███▍      | 69/200 [00:46<01:27,  1.49it/s, v_num=1, train_loss_step=7.58e+6, train_loss_epoch=7.73e+6]"
     ]
    },
    {
     "name": "stdout",
     "output_type": "stream",
     "text": [
      "\r",
      "Epoch 70/200:  34%|███▍      | 69/200 [00:46<01:27,  1.49it/s, v_num=1, train_loss_step=7.58e+6, train_loss_epoch=7.73e+6]"
     ]
    },
    {
     "name": "stdout",
     "output_type": "stream",
     "text": [
      "\r",
      "Epoch 70/200:  35%|███▌      | 70/200 [00:46<01:27,  1.49it/s, v_num=1, train_loss_step=7.58e+6, train_loss_epoch=7.73e+6]"
     ]
    },
    {
     "name": "stdout",
     "output_type": "stream",
     "text": [
      "\r",
      "Epoch 70/200:  35%|███▌      | 70/200 [00:46<01:27,  1.49it/s, v_num=1, train_loss_step=8.1e+6, train_loss_epoch=7.73e+6] "
     ]
    },
    {
     "name": "stdout",
     "output_type": "stream",
     "text": [
      "\r",
      "Epoch 71/200:  35%|███▌      | 70/200 [00:46<01:27,  1.49it/s, v_num=1, train_loss_step=8.1e+6, train_loss_epoch=7.73e+6]"
     ]
    },
    {
     "name": "stdout",
     "output_type": "stream",
     "text": [
      "\r",
      "Epoch 71/200:  36%|███▌      | 71/200 [00:47<01:26,  1.49it/s, v_num=1, train_loss_step=8.1e+6, train_loss_epoch=7.73e+6]"
     ]
    },
    {
     "name": "stdout",
     "output_type": "stream",
     "text": [
      "\r",
      "Epoch 71/200:  36%|███▌      | 71/200 [00:47<01:26,  1.49it/s, v_num=1, train_loss_step=7.56e+6, train_loss_epoch=7.73e+6]"
     ]
    },
    {
     "name": "stdout",
     "output_type": "stream",
     "text": [
      "\r",
      "Epoch 72/200:  36%|███▌      | 71/200 [00:47<01:26,  1.49it/s, v_num=1, train_loss_step=7.56e+6, train_loss_epoch=7.73e+6]"
     ]
    },
    {
     "name": "stdout",
     "output_type": "stream",
     "text": [
      "\r",
      "Epoch 72/200:  36%|███▌      | 72/200 [00:48<01:25,  1.49it/s, v_num=1, train_loss_step=7.56e+6, train_loss_epoch=7.73e+6]"
     ]
    },
    {
     "name": "stdout",
     "output_type": "stream",
     "text": [
      "\r",
      "Epoch 72/200:  36%|███▌      | 72/200 [00:48<01:25,  1.49it/s, v_num=1, train_loss_step=7.63e+6, train_loss_epoch=7.73e+6]"
     ]
    },
    {
     "name": "stdout",
     "output_type": "stream",
     "text": [
      "\r",
      "Epoch 73/200:  36%|███▌      | 72/200 [00:48<01:25,  1.49it/s, v_num=1, train_loss_step=7.63e+6, train_loss_epoch=7.73e+6]"
     ]
    },
    {
     "name": "stdout",
     "output_type": "stream",
     "text": [
      "\r",
      "Epoch 73/200:  36%|███▋      | 73/200 [00:48<01:25,  1.49it/s, v_num=1, train_loss_step=7.63e+6, train_loss_epoch=7.73e+6]"
     ]
    },
    {
     "name": "stdout",
     "output_type": "stream",
     "text": [
      "\r",
      "Epoch 73/200:  36%|███▋      | 73/200 [00:48<01:25,  1.49it/s, v_num=1, train_loss_step=7.26e+6, train_loss_epoch=7.73e+6]"
     ]
    },
    {
     "name": "stdout",
     "output_type": "stream",
     "text": [
      "\r",
      "Epoch 74/200:  36%|███▋      | 73/200 [00:48<01:25,  1.49it/s, v_num=1, train_loss_step=7.26e+6, train_loss_epoch=7.73e+6]"
     ]
    },
    {
     "name": "stdout",
     "output_type": "stream",
     "text": [
      "\r",
      "Epoch 74/200:  37%|███▋      | 74/200 [00:49<01:24,  1.49it/s, v_num=1, train_loss_step=7.26e+6, train_loss_epoch=7.73e+6]"
     ]
    },
    {
     "name": "stdout",
     "output_type": "stream",
     "text": [
      "\r",
      "Epoch 74/200:  37%|███▋      | 74/200 [00:49<01:24,  1.49it/s, v_num=1, train_loss_step=7.25e+6, train_loss_epoch=7.73e+6]"
     ]
    },
    {
     "name": "stdout",
     "output_type": "stream",
     "text": [
      "\r",
      "Epoch 75/200:  37%|███▋      | 74/200 [00:49<01:24,  1.49it/s, v_num=1, train_loss_step=7.25e+6, train_loss_epoch=7.73e+6]"
     ]
    },
    {
     "name": "stdout",
     "output_type": "stream",
     "text": [
      "\r",
      "Epoch 75/200:  38%|███▊      | 75/200 [00:50<01:23,  1.49it/s, v_num=1, train_loss_step=7.25e+6, train_loss_epoch=7.73e+6]"
     ]
    },
    {
     "name": "stdout",
     "output_type": "stream",
     "text": [
      "\r",
      "Epoch 75/200:  38%|███▊      | 75/200 [00:50<01:23,  1.49it/s, v_num=1, train_loss_step=7.49e+6, train_loss_epoch=7.73e+6]"
     ]
    },
    {
     "name": "stdout",
     "output_type": "stream",
     "text": [
      "\r",
      "Epoch 76/200:  38%|███▊      | 75/200 [00:50<01:23,  1.49it/s, v_num=1, train_loss_step=7.49e+6, train_loss_epoch=7.73e+6]"
     ]
    },
    {
     "name": "stdout",
     "output_type": "stream",
     "text": [
      "\r",
      "Epoch 76/200:  38%|███▊      | 76/200 [00:50<01:23,  1.49it/s, v_num=1, train_loss_step=7.49e+6, train_loss_epoch=7.73e+6]"
     ]
    },
    {
     "name": "stdout",
     "output_type": "stream",
     "text": [
      "\r",
      "Epoch 76/200:  38%|███▊      | 76/200 [00:50<01:23,  1.49it/s, v_num=1, train_loss_step=7.92e+6, train_loss_epoch=7.73e+6]"
     ]
    },
    {
     "name": "stdout",
     "output_type": "stream",
     "text": [
      "\r",
      "Epoch 77/200:  38%|███▊      | 76/200 [00:50<01:23,  1.49it/s, v_num=1, train_loss_step=7.92e+6, train_loss_epoch=7.73e+6]"
     ]
    },
    {
     "name": "stdout",
     "output_type": "stream",
     "text": [
      "\r",
      "Epoch 77/200:  38%|███▊      | 77/200 [00:51<01:22,  1.49it/s, v_num=1, train_loss_step=7.92e+6, train_loss_epoch=7.73e+6]"
     ]
    },
    {
     "name": "stdout",
     "output_type": "stream",
     "text": [
      "\r",
      "Epoch 77/200:  38%|███▊      | 77/200 [00:51<01:22,  1.49it/s, v_num=1, train_loss_step=7.87e+6, train_loss_epoch=7.73e+6]"
     ]
    },
    {
     "name": "stdout",
     "output_type": "stream",
     "text": [
      "\r",
      "Epoch 78/200:  38%|███▊      | 77/200 [00:51<01:22,  1.49it/s, v_num=1, train_loss_step=7.87e+6, train_loss_epoch=7.73e+6]"
     ]
    },
    {
     "name": "stdout",
     "output_type": "stream",
     "text": [
      "\r",
      "Epoch 78/200:  39%|███▉      | 78/200 [00:52<01:21,  1.49it/s, v_num=1, train_loss_step=7.87e+6, train_loss_epoch=7.73e+6]"
     ]
    },
    {
     "name": "stdout",
     "output_type": "stream",
     "text": [
      "\r",
      "Epoch 78/200:  39%|███▉      | 78/200 [00:52<01:21,  1.49it/s, v_num=1, train_loss_step=7.72e+6, train_loss_epoch=7.73e+6]"
     ]
    },
    {
     "name": "stdout",
     "output_type": "stream",
     "text": [
      "\r",
      "Epoch 79/200:  39%|███▉      | 78/200 [00:52<01:21,  1.49it/s, v_num=1, train_loss_step=7.72e+6, train_loss_epoch=7.73e+6]"
     ]
    },
    {
     "name": "stdout",
     "output_type": "stream",
     "text": [
      "\r",
      "Epoch 79/200:  40%|███▉      | 79/200 [00:52<01:21,  1.49it/s, v_num=1, train_loss_step=7.72e+6, train_loss_epoch=7.73e+6]"
     ]
    },
    {
     "name": "stdout",
     "output_type": "stream",
     "text": [
      "\r",
      "Epoch 79/200:  40%|███▉      | 79/200 [00:52<01:21,  1.49it/s, v_num=1, train_loss_step=8.11e+6, train_loss_epoch=7.73e+6]"
     ]
    },
    {
     "name": "stdout",
     "output_type": "stream",
     "text": [
      "\r",
      "Epoch 80/200:  40%|███▉      | 79/200 [00:52<01:21,  1.49it/s, v_num=1, train_loss_step=8.11e+6, train_loss_epoch=7.73e+6]"
     ]
    },
    {
     "name": "stdout",
     "output_type": "stream",
     "text": [
      "\r",
      "Epoch 80/200:  40%|████      | 80/200 [00:53<01:20,  1.49it/s, v_num=1, train_loss_step=8.11e+6, train_loss_epoch=7.73e+6]"
     ]
    },
    {
     "name": "stdout",
     "output_type": "stream",
     "text": [
      "\r",
      "Epoch 80/200:  40%|████      | 80/200 [00:53<01:20,  1.49it/s, v_num=1, train_loss_step=8.75e+6, train_loss_epoch=7.73e+6]"
     ]
    },
    {
     "name": "stdout",
     "output_type": "stream",
     "text": [
      "\r",
      "Epoch 81/200:  40%|████      | 80/200 [00:53<01:20,  1.49it/s, v_num=1, train_loss_step=8.75e+6, train_loss_epoch=7.73e+6]"
     ]
    },
    {
     "name": "stdout",
     "output_type": "stream",
     "text": [
      "\r",
      "Epoch 81/200:  40%|████      | 81/200 [00:54<01:19,  1.49it/s, v_num=1, train_loss_step=8.75e+6, train_loss_epoch=7.73e+6]"
     ]
    },
    {
     "name": "stdout",
     "output_type": "stream",
     "text": [
      "\r",
      "Epoch 81/200:  40%|████      | 81/200 [00:54<01:19,  1.49it/s, v_num=1, train_loss_step=7.34e+6, train_loss_epoch=7.74e+6]"
     ]
    },
    {
     "name": "stdout",
     "output_type": "stream",
     "text": [
      "\r",
      "Epoch 82/200:  40%|████      | 81/200 [00:54<01:19,  1.49it/s, v_num=1, train_loss_step=7.34e+6, train_loss_epoch=7.74e+6]"
     ]
    },
    {
     "name": "stdout",
     "output_type": "stream",
     "text": [
      "\r",
      "Epoch 82/200:  41%|████      | 82/200 [00:54<01:19,  1.49it/s, v_num=1, train_loss_step=7.34e+6, train_loss_epoch=7.74e+6]"
     ]
    },
    {
     "name": "stdout",
     "output_type": "stream",
     "text": [
      "\r",
      "Epoch 82/200:  41%|████      | 82/200 [00:54<01:19,  1.49it/s, v_num=1, train_loss_step=7.4e+6, train_loss_epoch=7.73e+6] "
     ]
    },
    {
     "name": "stdout",
     "output_type": "stream",
     "text": [
      "\r",
      "Epoch 83/200:  41%|████      | 82/200 [00:54<01:19,  1.49it/s, v_num=1, train_loss_step=7.4e+6, train_loss_epoch=7.73e+6]"
     ]
    },
    {
     "name": "stdout",
     "output_type": "stream",
     "text": [
      "\r",
      "Epoch 83/200:  42%|████▏     | 83/200 [00:55<01:18,  1.49it/s, v_num=1, train_loss_step=7.4e+6, train_loss_epoch=7.73e+6]"
     ]
    },
    {
     "name": "stdout",
     "output_type": "stream",
     "text": [
      "\r",
      "Epoch 83/200:  42%|████▏     | 83/200 [00:55<01:18,  1.49it/s, v_num=1, train_loss_step=8.09e+6, train_loss_epoch=7.73e+6]"
     ]
    },
    {
     "name": "stdout",
     "output_type": "stream",
     "text": [
      "\r",
      "Epoch 84/200:  42%|████▏     | 83/200 [00:55<01:18,  1.49it/s, v_num=1, train_loss_step=8.09e+6, train_loss_epoch=7.73e+6]"
     ]
    },
    {
     "name": "stdout",
     "output_type": "stream",
     "text": [
      "\r",
      "Epoch 84/200:  42%|████▏     | 84/200 [00:56<01:17,  1.49it/s, v_num=1, train_loss_step=8.09e+6, train_loss_epoch=7.73e+6]"
     ]
    },
    {
     "name": "stdout",
     "output_type": "stream",
     "text": [
      "\r",
      "Epoch 84/200:  42%|████▏     | 84/200 [00:56<01:17,  1.49it/s, v_num=1, train_loss_step=7.48e+6, train_loss_epoch=7.73e+6]"
     ]
    },
    {
     "name": "stdout",
     "output_type": "stream",
     "text": [
      "\r",
      "Epoch 85/200:  42%|████▏     | 84/200 [00:56<01:17,  1.49it/s, v_num=1, train_loss_step=7.48e+6, train_loss_epoch=7.73e+6]"
     ]
    },
    {
     "name": "stdout",
     "output_type": "stream",
     "text": [
      "\r",
      "Epoch 85/200:  42%|████▎     | 85/200 [00:56<01:17,  1.49it/s, v_num=1, train_loss_step=7.48e+6, train_loss_epoch=7.73e+6]"
     ]
    },
    {
     "name": "stdout",
     "output_type": "stream",
     "text": [
      "\r",
      "Epoch 85/200:  42%|████▎     | 85/200 [00:56<01:17,  1.49it/s, v_num=1, train_loss_step=7.79e+6, train_loss_epoch=7.73e+6]"
     ]
    },
    {
     "name": "stdout",
     "output_type": "stream",
     "text": [
      "\r",
      "Epoch 86/200:  42%|████▎     | 85/200 [00:56<01:17,  1.49it/s, v_num=1, train_loss_step=7.79e+6, train_loss_epoch=7.73e+6]"
     ]
    },
    {
     "name": "stdout",
     "output_type": "stream",
     "text": [
      "\r",
      "Epoch 86/200:  43%|████▎     | 86/200 [00:57<01:16,  1.49it/s, v_num=1, train_loss_step=7.79e+6, train_loss_epoch=7.73e+6]"
     ]
    },
    {
     "name": "stdout",
     "output_type": "stream",
     "text": [
      "\r",
      "Epoch 86/200:  43%|████▎     | 86/200 [00:57<01:16,  1.49it/s, v_num=1, train_loss_step=7.37e+6, train_loss_epoch=7.73e+6]"
     ]
    },
    {
     "name": "stdout",
     "output_type": "stream",
     "text": [
      "\r",
      "Epoch 87/200:  43%|████▎     | 86/200 [00:57<01:16,  1.49it/s, v_num=1, train_loss_step=7.37e+6, train_loss_epoch=7.73e+6]"
     ]
    },
    {
     "name": "stdout",
     "output_type": "stream",
     "text": [
      "\r",
      "Epoch 87/200:  44%|████▎     | 87/200 [00:58<01:15,  1.49it/s, v_num=1, train_loss_step=7.37e+6, train_loss_epoch=7.73e+6]"
     ]
    },
    {
     "name": "stdout",
     "output_type": "stream",
     "text": [
      "\r",
      "Epoch 87/200:  44%|████▎     | 87/200 [00:58<01:15,  1.49it/s, v_num=1, train_loss_step=8.15e+6, train_loss_epoch=7.73e+6]"
     ]
    },
    {
     "name": "stdout",
     "output_type": "stream",
     "text": [
      "\r",
      "Epoch 88/200:  44%|████▎     | 87/200 [00:58<01:15,  1.49it/s, v_num=1, train_loss_step=8.15e+6, train_loss_epoch=7.73e+6]"
     ]
    },
    {
     "name": "stdout",
     "output_type": "stream",
     "text": [
      "\r",
      "Epoch 88/200:  44%|████▍     | 88/200 [00:58<01:15,  1.49it/s, v_num=1, train_loss_step=8.15e+6, train_loss_epoch=7.73e+6]"
     ]
    },
    {
     "name": "stdout",
     "output_type": "stream",
     "text": [
      "\r",
      "Epoch 88/200:  44%|████▍     | 88/200 [00:58<01:15,  1.49it/s, v_num=1, train_loss_step=7.54e+6, train_loss_epoch=7.73e+6]"
     ]
    },
    {
     "name": "stdout",
     "output_type": "stream",
     "text": [
      "\r",
      "Epoch 89/200:  44%|████▍     | 88/200 [00:58<01:15,  1.49it/s, v_num=1, train_loss_step=7.54e+6, train_loss_epoch=7.73e+6]"
     ]
    },
    {
     "name": "stdout",
     "output_type": "stream",
     "text": [
      "\r",
      "Epoch 89/200:  44%|████▍     | 89/200 [00:59<01:14,  1.49it/s, v_num=1, train_loss_step=7.54e+6, train_loss_epoch=7.73e+6]"
     ]
    },
    {
     "name": "stdout",
     "output_type": "stream",
     "text": [
      "\r",
      "Epoch 89/200:  44%|████▍     | 89/200 [00:59<01:14,  1.49it/s, v_num=1, train_loss_step=7.66e+6, train_loss_epoch=7.73e+6]"
     ]
    },
    {
     "name": "stdout",
     "output_type": "stream",
     "text": [
      "\r",
      "Epoch 90/200:  44%|████▍     | 89/200 [00:59<01:14,  1.49it/s, v_num=1, train_loss_step=7.66e+6, train_loss_epoch=7.73e+6]"
     ]
    },
    {
     "name": "stdout",
     "output_type": "stream",
     "text": [
      "\r",
      "Epoch 90/200:  45%|████▌     | 90/200 [01:00<01:13,  1.49it/s, v_num=1, train_loss_step=7.66e+6, train_loss_epoch=7.73e+6]"
     ]
    },
    {
     "name": "stdout",
     "output_type": "stream",
     "text": [
      "\r",
      "Epoch 90/200:  45%|████▌     | 90/200 [01:00<01:13,  1.49it/s, v_num=1, train_loss_step=7.71e+6, train_loss_epoch=7.73e+6]"
     ]
    },
    {
     "name": "stdout",
     "output_type": "stream",
     "text": [
      "\r",
      "Epoch 91/200:  45%|████▌     | 90/200 [01:00<01:13,  1.49it/s, v_num=1, train_loss_step=7.71e+6, train_loss_epoch=7.73e+6]"
     ]
    },
    {
     "name": "stdout",
     "output_type": "stream",
     "text": [
      "\r",
      "Epoch 91/200:  46%|████▌     | 91/200 [01:00<01:13,  1.49it/s, v_num=1, train_loss_step=7.71e+6, train_loss_epoch=7.73e+6]"
     ]
    },
    {
     "name": "stdout",
     "output_type": "stream",
     "text": [
      "\r",
      "Epoch 91/200:  46%|████▌     | 91/200 [01:00<01:13,  1.49it/s, v_num=1, train_loss_step=7.81e+6, train_loss_epoch=7.74e+6]"
     ]
    },
    {
     "name": "stdout",
     "output_type": "stream",
     "text": [
      "\r",
      "Epoch 92/200:  46%|████▌     | 91/200 [01:00<01:13,  1.49it/s, v_num=1, train_loss_step=7.81e+6, train_loss_epoch=7.74e+6]"
     ]
    },
    {
     "name": "stdout",
     "output_type": "stream",
     "text": [
      "\r",
      "Epoch 92/200:  46%|████▌     | 92/200 [01:01<01:12,  1.49it/s, v_num=1, train_loss_step=7.81e+6, train_loss_epoch=7.74e+6]"
     ]
    },
    {
     "name": "stdout",
     "output_type": "stream",
     "text": [
      "\r",
      "Epoch 92/200:  46%|████▌     | 92/200 [01:01<01:12,  1.49it/s, v_num=1, train_loss_step=7.56e+6, train_loss_epoch=7.73e+6]"
     ]
    },
    {
     "name": "stdout",
     "output_type": "stream",
     "text": [
      "\r",
      "Epoch 93/200:  46%|████▌     | 92/200 [01:01<01:12,  1.49it/s, v_num=1, train_loss_step=7.56e+6, train_loss_epoch=7.73e+6]"
     ]
    },
    {
     "name": "stdout",
     "output_type": "stream",
     "text": [
      "\r",
      "Epoch 93/200:  46%|████▋     | 93/200 [01:02<01:11,  1.49it/s, v_num=1, train_loss_step=7.56e+6, train_loss_epoch=7.73e+6]"
     ]
    },
    {
     "name": "stdout",
     "output_type": "stream",
     "text": [
      "\r",
      "Epoch 93/200:  46%|████▋     | 93/200 [01:02<01:11,  1.49it/s, v_num=1, train_loss_step=7.58e+6, train_loss_epoch=7.73e+6]"
     ]
    },
    {
     "name": "stdout",
     "output_type": "stream",
     "text": [
      "\r",
      "Epoch 94/200:  46%|████▋     | 93/200 [01:02<01:11,  1.49it/s, v_num=1, train_loss_step=7.58e+6, train_loss_epoch=7.73e+6]"
     ]
    },
    {
     "name": "stdout",
     "output_type": "stream",
     "text": [
      "\r",
      "Epoch 94/200:  47%|████▋     | 94/200 [01:02<01:11,  1.49it/s, v_num=1, train_loss_step=7.58e+6, train_loss_epoch=7.73e+6]"
     ]
    },
    {
     "name": "stdout",
     "output_type": "stream",
     "text": [
      "\r",
      "Epoch 94/200:  47%|████▋     | 94/200 [01:02<01:11,  1.49it/s, v_num=1, train_loss_step=7.56e+6, train_loss_epoch=7.73e+6]"
     ]
    },
    {
     "name": "stdout",
     "output_type": "stream",
     "text": [
      "\r",
      "Epoch 95/200:  47%|████▋     | 94/200 [01:02<01:11,  1.49it/s, v_num=1, train_loss_step=7.56e+6, train_loss_epoch=7.73e+6]"
     ]
    },
    {
     "name": "stdout",
     "output_type": "stream",
     "text": [
      "\r",
      "Epoch 95/200:  48%|████▊     | 95/200 [01:03<01:10,  1.49it/s, v_num=1, train_loss_step=7.56e+6, train_loss_epoch=7.73e+6]"
     ]
    },
    {
     "name": "stdout",
     "output_type": "stream",
     "text": [
      "\r",
      "Epoch 95/200:  48%|████▊     | 95/200 [01:03<01:10,  1.49it/s, v_num=1, train_loss_step=7.62e+6, train_loss_epoch=7.73e+6]"
     ]
    },
    {
     "name": "stdout",
     "output_type": "stream",
     "text": [
      "\r",
      "Epoch 96/200:  48%|████▊     | 95/200 [01:03<01:10,  1.49it/s, v_num=1, train_loss_step=7.62e+6, train_loss_epoch=7.73e+6]"
     ]
    },
    {
     "name": "stdout",
     "output_type": "stream",
     "text": [
      "\r",
      "Epoch 96/200:  48%|████▊     | 96/200 [01:04<01:09,  1.49it/s, v_num=1, train_loss_step=7.62e+6, train_loss_epoch=7.73e+6]"
     ]
    },
    {
     "name": "stdout",
     "output_type": "stream",
     "text": [
      "\r",
      "Epoch 96/200:  48%|████▊     | 96/200 [01:04<01:09,  1.49it/s, v_num=1, train_loss_step=7.8e+6, train_loss_epoch=7.74e+6] "
     ]
    },
    {
     "name": "stdout",
     "output_type": "stream",
     "text": [
      "\r",
      "Epoch 97/200:  48%|████▊     | 96/200 [01:04<01:09,  1.49it/s, v_num=1, train_loss_step=7.8e+6, train_loss_epoch=7.74e+6]"
     ]
    },
    {
     "name": "stdout",
     "output_type": "stream",
     "text": [
      "\r",
      "Epoch 97/200:  48%|████▊     | 97/200 [01:04<01:08,  1.49it/s, v_num=1, train_loss_step=7.8e+6, train_loss_epoch=7.74e+6]"
     ]
    },
    {
     "name": "stdout",
     "output_type": "stream",
     "text": [
      "\r",
      "Epoch 97/200:  48%|████▊     | 97/200 [01:04<01:08,  1.49it/s, v_num=1, train_loss_step=7.21e+6, train_loss_epoch=7.73e+6]"
     ]
    },
    {
     "name": "stdout",
     "output_type": "stream",
     "text": [
      "\r",
      "Epoch 98/200:  48%|████▊     | 97/200 [01:04<01:08,  1.49it/s, v_num=1, train_loss_step=7.21e+6, train_loss_epoch=7.73e+6]"
     ]
    },
    {
     "name": "stdout",
     "output_type": "stream",
     "text": [
      "\r",
      "Epoch 98/200:  49%|████▉     | 98/200 [01:05<01:08,  1.49it/s, v_num=1, train_loss_step=7.21e+6, train_loss_epoch=7.73e+6]"
     ]
    },
    {
     "name": "stdout",
     "output_type": "stream",
     "text": [
      "\r",
      "Epoch 98/200:  49%|████▉     | 98/200 [01:05<01:08,  1.49it/s, v_num=1, train_loss_step=8.18e+6, train_loss_epoch=7.73e+6]"
     ]
    },
    {
     "name": "stdout",
     "output_type": "stream",
     "text": [
      "\r",
      "Epoch 99/200:  49%|████▉     | 98/200 [01:05<01:08,  1.49it/s, v_num=1, train_loss_step=8.18e+6, train_loss_epoch=7.73e+6]"
     ]
    },
    {
     "name": "stdout",
     "output_type": "stream",
     "text": [
      "\r",
      "Epoch 99/200:  50%|████▉     | 99/200 [01:06<01:07,  1.49it/s, v_num=1, train_loss_step=8.18e+6, train_loss_epoch=7.73e+6]"
     ]
    },
    {
     "name": "stdout",
     "output_type": "stream",
     "text": [
      "\r",
      "Epoch 99/200:  50%|████▉     | 99/200 [01:06<01:07,  1.49it/s, v_num=1, train_loss_step=7.8e+6, train_loss_epoch=7.74e+6] "
     ]
    },
    {
     "name": "stdout",
     "output_type": "stream",
     "text": [
      "\r",
      "Epoch 100/200:  50%|████▉     | 99/200 [01:06<01:07,  1.49it/s, v_num=1, train_loss_step=7.8e+6, train_loss_epoch=7.74e+6]"
     ]
    },
    {
     "name": "stdout",
     "output_type": "stream",
     "text": [
      "\r",
      "Epoch 100/200:  50%|█████     | 100/200 [01:06<01:06,  1.49it/s, v_num=1, train_loss_step=7.8e+6, train_loss_epoch=7.74e+6]"
     ]
    },
    {
     "name": "stdout",
     "output_type": "stream",
     "text": [
      "\r",
      "Epoch 100/200:  50%|█████     | 100/200 [01:06<01:06,  1.49it/s, v_num=1, train_loss_step=8.06e+6, train_loss_epoch=7.74e+6]"
     ]
    },
    {
     "name": "stdout",
     "output_type": "stream",
     "text": [
      "\r",
      "Epoch 101/200:  50%|█████     | 100/200 [01:06<01:06,  1.49it/s, v_num=1, train_loss_step=8.06e+6, train_loss_epoch=7.74e+6]"
     ]
    },
    {
     "name": "stdout",
     "output_type": "stream",
     "text": [
      "\r",
      "Epoch 101/200:  50%|█████     | 101/200 [01:07<01:06,  1.49it/s, v_num=1, train_loss_step=8.06e+6, train_loss_epoch=7.74e+6]"
     ]
    },
    {
     "name": "stdout",
     "output_type": "stream",
     "text": [
      "\r",
      "Epoch 101/200:  50%|█████     | 101/200 [01:07<01:06,  1.49it/s, v_num=1, train_loss_step=7.18e+6, train_loss_epoch=7.74e+6]"
     ]
    },
    {
     "name": "stdout",
     "output_type": "stream",
     "text": [
      "\r",
      "Epoch 102/200:  50%|█████     | 101/200 [01:07<01:06,  1.49it/s, v_num=1, train_loss_step=7.18e+6, train_loss_epoch=7.74e+6]"
     ]
    },
    {
     "name": "stdout",
     "output_type": "stream",
     "text": [
      "\r",
      "Epoch 102/200:  51%|█████     | 102/200 [01:08<01:05,  1.49it/s, v_num=1, train_loss_step=7.18e+6, train_loss_epoch=7.74e+6]"
     ]
    },
    {
     "name": "stdout",
     "output_type": "stream",
     "text": [
      "\r",
      "Epoch 102/200:  51%|█████     | 102/200 [01:08<01:05,  1.49it/s, v_num=1, train_loss_step=8.07e+6, train_loss_epoch=7.74e+6]"
     ]
    },
    {
     "name": "stdout",
     "output_type": "stream",
     "text": [
      "\r",
      "Epoch 103/200:  51%|█████     | 102/200 [01:08<01:05,  1.49it/s, v_num=1, train_loss_step=8.07e+6, train_loss_epoch=7.74e+6]"
     ]
    },
    {
     "name": "stdout",
     "output_type": "stream",
     "text": [
      "\r",
      "Epoch 103/200:  52%|█████▏    | 103/200 [01:08<01:05,  1.49it/s, v_num=1, train_loss_step=8.07e+6, train_loss_epoch=7.74e+6]"
     ]
    },
    {
     "name": "stdout",
     "output_type": "stream",
     "text": [
      "\r",
      "Epoch 103/200:  52%|█████▏    | 103/200 [01:08<01:05,  1.49it/s, v_num=1, train_loss_step=8.03e+6, train_loss_epoch=7.73e+6]"
     ]
    },
    {
     "name": "stdout",
     "output_type": "stream",
     "text": [
      "\r",
      "Epoch 104/200:  52%|█████▏    | 103/200 [01:08<01:05,  1.49it/s, v_num=1, train_loss_step=8.03e+6, train_loss_epoch=7.73e+6]"
     ]
    },
    {
     "name": "stdout",
     "output_type": "stream",
     "text": [
      "\r",
      "Epoch 104/200:  52%|█████▏    | 104/200 [01:09<01:04,  1.49it/s, v_num=1, train_loss_step=8.03e+6, train_loss_epoch=7.73e+6]"
     ]
    },
    {
     "name": "stdout",
     "output_type": "stream",
     "text": [
      "\r",
      "Epoch 104/200:  52%|█████▏    | 104/200 [01:09<01:04,  1.49it/s, v_num=1, train_loss_step=7.52e+6, train_loss_epoch=7.74e+6]"
     ]
    },
    {
     "name": "stdout",
     "output_type": "stream",
     "text": [
      "\r",
      "Epoch 105/200:  52%|█████▏    | 104/200 [01:09<01:04,  1.49it/s, v_num=1, train_loss_step=7.52e+6, train_loss_epoch=7.74e+6]"
     ]
    },
    {
     "name": "stdout",
     "output_type": "stream",
     "text": [
      "\r",
      "Epoch 105/200:  52%|█████▎    | 105/200 [01:10<01:03,  1.49it/s, v_num=1, train_loss_step=7.52e+6, train_loss_epoch=7.74e+6]"
     ]
    },
    {
     "name": "stdout",
     "output_type": "stream",
     "text": [
      "\r",
      "Epoch 105/200:  52%|█████▎    | 105/200 [01:10<01:03,  1.49it/s, v_num=1, train_loss_step=8.05e+6, train_loss_epoch=7.74e+6]"
     ]
    },
    {
     "name": "stdout",
     "output_type": "stream",
     "text": [
      "\r",
      "Epoch 106/200:  52%|█████▎    | 105/200 [01:10<01:03,  1.49it/s, v_num=1, train_loss_step=8.05e+6, train_loss_epoch=7.74e+6]"
     ]
    },
    {
     "name": "stdout",
     "output_type": "stream",
     "text": [
      "\r",
      "Epoch 106/200:  53%|█████▎    | 106/200 [01:10<01:02,  1.49it/s, v_num=1, train_loss_step=8.05e+6, train_loss_epoch=7.74e+6]"
     ]
    },
    {
     "name": "stdout",
     "output_type": "stream",
     "text": [
      "\r",
      "Epoch 106/200:  53%|█████▎    | 106/200 [01:10<01:02,  1.49it/s, v_num=1, train_loss_step=8.07e+6, train_loss_epoch=7.74e+6]"
     ]
    },
    {
     "name": "stdout",
     "output_type": "stream",
     "text": [
      "\r",
      "Epoch 107/200:  53%|█████▎    | 106/200 [01:10<01:02,  1.49it/s, v_num=1, train_loss_step=8.07e+6, train_loss_epoch=7.74e+6]"
     ]
    },
    {
     "name": "stdout",
     "output_type": "stream",
     "text": [
      "\r",
      "Epoch 107/200:  54%|█████▎    | 107/200 [01:11<01:02,  1.49it/s, v_num=1, train_loss_step=8.07e+6, train_loss_epoch=7.74e+6]"
     ]
    },
    {
     "name": "stdout",
     "output_type": "stream",
     "text": [
      "\r",
      "Epoch 107/200:  54%|█████▎    | 107/200 [01:11<01:02,  1.49it/s, v_num=1, train_loss_step=8.06e+6, train_loss_epoch=7.74e+6]"
     ]
    },
    {
     "name": "stdout",
     "output_type": "stream",
     "text": [
      "\r",
      "Epoch 108/200:  54%|█████▎    | 107/200 [01:11<01:02,  1.49it/s, v_num=1, train_loss_step=8.06e+6, train_loss_epoch=7.74e+6]"
     ]
    },
    {
     "name": "stdout",
     "output_type": "stream",
     "text": [
      "\r",
      "Epoch 108/200:  54%|█████▍    | 108/200 [01:12<01:01,  1.49it/s, v_num=1, train_loss_step=8.06e+6, train_loss_epoch=7.74e+6]"
     ]
    },
    {
     "name": "stdout",
     "output_type": "stream",
     "text": [
      "\r",
      "Epoch 108/200:  54%|█████▍    | 108/200 [01:12<01:01,  1.49it/s, v_num=1, train_loss_step=8.08e+6, train_loss_epoch=7.74e+6]"
     ]
    },
    {
     "name": "stdout",
     "output_type": "stream",
     "text": [
      "\r",
      "Epoch 109/200:  54%|█████▍    | 108/200 [01:12<01:01,  1.49it/s, v_num=1, train_loss_step=8.08e+6, train_loss_epoch=7.74e+6]"
     ]
    },
    {
     "name": "stdout",
     "output_type": "stream",
     "text": [
      "\r",
      "Epoch 109/200:  55%|█████▍    | 109/200 [01:13<01:01,  1.48it/s, v_num=1, train_loss_step=8.08e+6, train_loss_epoch=7.74e+6]"
     ]
    },
    {
     "name": "stdout",
     "output_type": "stream",
     "text": [
      "\r",
      "Epoch 109/200:  55%|█████▍    | 109/200 [01:13<01:01,  1.48it/s, v_num=1, train_loss_step=7.6e+6, train_loss_epoch=7.74e+6] "
     ]
    },
    {
     "name": "stdout",
     "output_type": "stream",
     "text": [
      "\r",
      "Epoch 110/200:  55%|█████▍    | 109/200 [01:13<01:01,  1.48it/s, v_num=1, train_loss_step=7.6e+6, train_loss_epoch=7.74e+6]"
     ]
    },
    {
     "name": "stdout",
     "output_type": "stream",
     "text": [
      "\r",
      "Epoch 110/200:  55%|█████▌    | 110/200 [01:13<01:00,  1.48it/s, v_num=1, train_loss_step=7.6e+6, train_loss_epoch=7.74e+6]"
     ]
    },
    {
     "name": "stdout",
     "output_type": "stream",
     "text": [
      "\r",
      "Epoch 110/200:  55%|█████▌    | 110/200 [01:13<01:00,  1.48it/s, v_num=1, train_loss_step=7.34e+6, train_loss_epoch=7.74e+6]"
     ]
    },
    {
     "name": "stdout",
     "output_type": "stream",
     "text": [
      "\r",
      "Epoch 111/200:  55%|█████▌    | 110/200 [01:13<01:00,  1.48it/s, v_num=1, train_loss_step=7.34e+6, train_loss_epoch=7.74e+6]"
     ]
    },
    {
     "name": "stdout",
     "output_type": "stream",
     "text": [
      "\r",
      "Epoch 111/200:  56%|█████▌    | 111/200 [01:14<00:59,  1.48it/s, v_num=1, train_loss_step=7.34e+6, train_loss_epoch=7.74e+6]"
     ]
    },
    {
     "name": "stdout",
     "output_type": "stream",
     "text": [
      "\r",
      "Epoch 111/200:  56%|█████▌    | 111/200 [01:14<00:59,  1.48it/s, v_num=1, train_loss_step=7.76e+6, train_loss_epoch=7.74e+6]"
     ]
    },
    {
     "name": "stdout",
     "output_type": "stream",
     "text": [
      "\r",
      "Epoch 112/200:  56%|█████▌    | 111/200 [01:14<00:59,  1.48it/s, v_num=1, train_loss_step=7.76e+6, train_loss_epoch=7.74e+6]"
     ]
    },
    {
     "name": "stdout",
     "output_type": "stream",
     "text": [
      "\r",
      "Epoch 112/200:  56%|█████▌    | 112/200 [01:15<00:59,  1.49it/s, v_num=1, train_loss_step=7.76e+6, train_loss_epoch=7.74e+6]"
     ]
    },
    {
     "name": "stdout",
     "output_type": "stream",
     "text": [
      "\r",
      "Epoch 112/200:  56%|█████▌    | 112/200 [01:15<00:59,  1.49it/s, v_num=1, train_loss_step=7.89e+6, train_loss_epoch=7.74e+6]"
     ]
    },
    {
     "name": "stdout",
     "output_type": "stream",
     "text": [
      "\r",
      "Epoch 113/200:  56%|█████▌    | 112/200 [01:15<00:59,  1.49it/s, v_num=1, train_loss_step=7.89e+6, train_loss_epoch=7.74e+6]"
     ]
    },
    {
     "name": "stdout",
     "output_type": "stream",
     "text": [
      "\r",
      "Epoch 113/200:  56%|█████▋    | 113/200 [01:15<00:58,  1.49it/s, v_num=1, train_loss_step=7.89e+6, train_loss_epoch=7.74e+6]"
     ]
    },
    {
     "name": "stdout",
     "output_type": "stream",
     "text": [
      "\r",
      "Epoch 113/200:  56%|█████▋    | 113/200 [01:15<00:58,  1.49it/s, v_num=1, train_loss_step=7.47e+6, train_loss_epoch=7.74e+6]"
     ]
    },
    {
     "name": "stdout",
     "output_type": "stream",
     "text": [
      "\r",
      "Epoch 114/200:  56%|█████▋    | 113/200 [01:15<00:58,  1.49it/s, v_num=1, train_loss_step=7.47e+6, train_loss_epoch=7.74e+6]"
     ]
    },
    {
     "name": "stdout",
     "output_type": "stream",
     "text": [
      "\r",
      "Epoch 114/200:  57%|█████▋    | 114/200 [01:16<00:57,  1.49it/s, v_num=1, train_loss_step=7.47e+6, train_loss_epoch=7.74e+6]"
     ]
    },
    {
     "name": "stdout",
     "output_type": "stream",
     "text": [
      "\r",
      "Epoch 114/200:  57%|█████▋    | 114/200 [01:16<00:57,  1.49it/s, v_num=1, train_loss_step=7.95e+6, train_loss_epoch=7.74e+6]"
     ]
    },
    {
     "name": "stdout",
     "output_type": "stream",
     "text": [
      "\r",
      "Epoch 115/200:  57%|█████▋    | 114/200 [01:16<00:57,  1.49it/s, v_num=1, train_loss_step=7.95e+6, train_loss_epoch=7.74e+6]"
     ]
    },
    {
     "name": "stdout",
     "output_type": "stream",
     "text": [
      "\r",
      "Epoch 115/200:  57%|█████▊    | 115/200 [01:17<00:57,  1.49it/s, v_num=1, train_loss_step=7.95e+6, train_loss_epoch=7.74e+6]"
     ]
    },
    {
     "name": "stdout",
     "output_type": "stream",
     "text": [
      "\r",
      "Epoch 115/200:  57%|█████▊    | 115/200 [01:17<00:57,  1.49it/s, v_num=1, train_loss_step=7.8e+6, train_loss_epoch=7.74e+6] "
     ]
    },
    {
     "name": "stdout",
     "output_type": "stream",
     "text": [
      "\r",
      "Epoch 116/200:  57%|█████▊    | 115/200 [01:17<00:57,  1.49it/s, v_num=1, train_loss_step=7.8e+6, train_loss_epoch=7.74e+6]"
     ]
    },
    {
     "name": "stdout",
     "output_type": "stream",
     "text": [
      "\r",
      "Epoch 116/200:  58%|█████▊    | 116/200 [01:17<00:56,  1.49it/s, v_num=1, train_loss_step=7.8e+6, train_loss_epoch=7.74e+6]"
     ]
    },
    {
     "name": "stdout",
     "output_type": "stream",
     "text": [
      "\r",
      "Epoch 116/200:  58%|█████▊    | 116/200 [01:17<00:56,  1.49it/s, v_num=1, train_loss_step=7.48e+6, train_loss_epoch=7.74e+6]"
     ]
    },
    {
     "name": "stdout",
     "output_type": "stream",
     "text": [
      "\r",
      "Epoch 117/200:  58%|█████▊    | 116/200 [01:17<00:56,  1.49it/s, v_num=1, train_loss_step=7.48e+6, train_loss_epoch=7.74e+6]"
     ]
    },
    {
     "name": "stdout",
     "output_type": "stream",
     "text": [
      "\r",
      "Epoch 117/200:  58%|█████▊    | 117/200 [01:18<00:55,  1.49it/s, v_num=1, train_loss_step=7.48e+6, train_loss_epoch=7.74e+6]"
     ]
    },
    {
     "name": "stdout",
     "output_type": "stream",
     "text": [
      "\r",
      "Epoch 117/200:  58%|█████▊    | 117/200 [01:18<00:55,  1.49it/s, v_num=1, train_loss_step=8.13e+6, train_loss_epoch=7.74e+6]"
     ]
    },
    {
     "name": "stdout",
     "output_type": "stream",
     "text": [
      "\r",
      "Epoch 118/200:  58%|█████▊    | 117/200 [01:18<00:55,  1.49it/s, v_num=1, train_loss_step=8.13e+6, train_loss_epoch=7.74e+6]"
     ]
    },
    {
     "name": "stdout",
     "output_type": "stream",
     "text": [
      "\r",
      "Epoch 118/200:  59%|█████▉    | 118/200 [01:19<00:55,  1.49it/s, v_num=1, train_loss_step=8.13e+6, train_loss_epoch=7.74e+6]"
     ]
    },
    {
     "name": "stdout",
     "output_type": "stream",
     "text": [
      "\r",
      "Epoch 118/200:  59%|█████▉    | 118/200 [01:19<00:55,  1.49it/s, v_num=1, train_loss_step=7.5e+6, train_loss_epoch=7.74e+6] "
     ]
    },
    {
     "name": "stdout",
     "output_type": "stream",
     "text": [
      "\r",
      "Epoch 119/200:  59%|█████▉    | 118/200 [01:19<00:55,  1.49it/s, v_num=1, train_loss_step=7.5e+6, train_loss_epoch=7.74e+6]"
     ]
    },
    {
     "name": "stdout",
     "output_type": "stream",
     "text": [
      "\r",
      "Epoch 119/200:  60%|█████▉    | 119/200 [01:19<00:54,  1.49it/s, v_num=1, train_loss_step=7.5e+6, train_loss_epoch=7.74e+6]"
     ]
    },
    {
     "name": "stdout",
     "output_type": "stream",
     "text": [
      "\r",
      "Epoch 119/200:  60%|█████▉    | 119/200 [01:19<00:54,  1.49it/s, v_num=1, train_loss_step=7.96e+6, train_loss_epoch=7.74e+6]"
     ]
    },
    {
     "name": "stdout",
     "output_type": "stream",
     "text": [
      "\r",
      "Epoch 120/200:  60%|█████▉    | 119/200 [01:19<00:54,  1.49it/s, v_num=1, train_loss_step=7.96e+6, train_loss_epoch=7.74e+6]"
     ]
    },
    {
     "name": "stdout",
     "output_type": "stream",
     "text": [
      "\r",
      "Epoch 120/200:  60%|██████    | 120/200 [01:20<00:53,  1.49it/s, v_num=1, train_loss_step=7.96e+6, train_loss_epoch=7.74e+6]"
     ]
    },
    {
     "name": "stdout",
     "output_type": "stream",
     "text": [
      "\r",
      "Epoch 120/200:  60%|██████    | 120/200 [01:20<00:53,  1.49it/s, v_num=1, train_loss_step=7.88e+6, train_loss_epoch=7.74e+6]"
     ]
    },
    {
     "name": "stdout",
     "output_type": "stream",
     "text": [
      "\r",
      "Epoch 121/200:  60%|██████    | 120/200 [01:20<00:53,  1.49it/s, v_num=1, train_loss_step=7.88e+6, train_loss_epoch=7.74e+6]"
     ]
    },
    {
     "name": "stdout",
     "output_type": "stream",
     "text": [
      "\r",
      "Epoch 121/200:  60%|██████    | 121/200 [01:21<00:52,  1.49it/s, v_num=1, train_loss_step=7.88e+6, train_loss_epoch=7.74e+6]"
     ]
    },
    {
     "name": "stdout",
     "output_type": "stream",
     "text": [
      "\r",
      "Epoch 121/200:  60%|██████    | 121/200 [01:21<00:52,  1.49it/s, v_num=1, train_loss_step=8.27e+6, train_loss_epoch=7.74e+6]"
     ]
    },
    {
     "name": "stdout",
     "output_type": "stream",
     "text": [
      "\r",
      "Epoch 122/200:  60%|██████    | 121/200 [01:21<00:52,  1.49it/s, v_num=1, train_loss_step=8.27e+6, train_loss_epoch=7.74e+6]"
     ]
    },
    {
     "name": "stdout",
     "output_type": "stream",
     "text": [
      "\r",
      "Epoch 122/200:  61%|██████    | 122/200 [01:21<00:52,  1.49it/s, v_num=1, train_loss_step=8.27e+6, train_loss_epoch=7.74e+6]"
     ]
    },
    {
     "name": "stdout",
     "output_type": "stream",
     "text": [
      "\r",
      "Epoch 122/200:  61%|██████    | 122/200 [01:21<00:52,  1.49it/s, v_num=1, train_loss_step=7.7e+6, train_loss_epoch=7.74e+6] "
     ]
    },
    {
     "name": "stdout",
     "output_type": "stream",
     "text": [
      "\r",
      "Epoch 123/200:  61%|██████    | 122/200 [01:21<00:52,  1.49it/s, v_num=1, train_loss_step=7.7e+6, train_loss_epoch=7.74e+6]"
     ]
    },
    {
     "name": "stdout",
     "output_type": "stream",
     "text": [
      "\r",
      "Epoch 123/200:  62%|██████▏   | 123/200 [01:22<00:51,  1.49it/s, v_num=1, train_loss_step=7.7e+6, train_loss_epoch=7.74e+6]"
     ]
    },
    {
     "name": "stdout",
     "output_type": "stream",
     "text": [
      "\r",
      "Epoch 123/200:  62%|██████▏   | 123/200 [01:22<00:51,  1.49it/s, v_num=1, train_loss_step=7.88e+6, train_loss_epoch=7.74e+6]"
     ]
    },
    {
     "name": "stdout",
     "output_type": "stream",
     "text": [
      "\r",
      "Epoch 124/200:  62%|██████▏   | 123/200 [01:22<00:51,  1.49it/s, v_num=1, train_loss_step=7.88e+6, train_loss_epoch=7.74e+6]"
     ]
    },
    {
     "name": "stdout",
     "output_type": "stream",
     "text": [
      "\r",
      "Epoch 124/200:  62%|██████▏   | 124/200 [01:23<00:50,  1.49it/s, v_num=1, train_loss_step=7.88e+6, train_loss_epoch=7.74e+6]"
     ]
    },
    {
     "name": "stdout",
     "output_type": "stream",
     "text": [
      "\r",
      "Epoch 124/200:  62%|██████▏   | 124/200 [01:23<00:50,  1.49it/s, v_num=1, train_loss_step=7.92e+6, train_loss_epoch=7.74e+6]"
     ]
    },
    {
     "name": "stdout",
     "output_type": "stream",
     "text": [
      "\r",
      "Epoch 125/200:  62%|██████▏   | 124/200 [01:23<00:50,  1.49it/s, v_num=1, train_loss_step=7.92e+6, train_loss_epoch=7.74e+6]"
     ]
    },
    {
     "name": "stdout",
     "output_type": "stream",
     "text": [
      "\r",
      "Epoch 125/200:  62%|██████▎   | 125/200 [01:23<00:50,  1.49it/s, v_num=1, train_loss_step=7.92e+6, train_loss_epoch=7.74e+6]"
     ]
    },
    {
     "name": "stdout",
     "output_type": "stream",
     "text": [
      "\r",
      "Epoch 125/200:  62%|██████▎   | 125/200 [01:23<00:50,  1.49it/s, v_num=1, train_loss_step=7.62e+6, train_loss_epoch=7.74e+6]"
     ]
    },
    {
     "name": "stdout",
     "output_type": "stream",
     "text": [
      "\r",
      "Epoch 126/200:  62%|██████▎   | 125/200 [01:23<00:50,  1.49it/s, v_num=1, train_loss_step=7.62e+6, train_loss_epoch=7.74e+6]"
     ]
    },
    {
     "name": "stdout",
     "output_type": "stream",
     "text": [
      "\r",
      "Epoch 126/200:  63%|██████▎   | 126/200 [01:24<00:49,  1.49it/s, v_num=1, train_loss_step=7.62e+6, train_loss_epoch=7.74e+6]"
     ]
    },
    {
     "name": "stdout",
     "output_type": "stream",
     "text": [
      "\r",
      "Epoch 126/200:  63%|██████▎   | 126/200 [01:24<00:49,  1.49it/s, v_num=1, train_loss_step=8.63e+6, train_loss_epoch=7.74e+6]"
     ]
    },
    {
     "name": "stdout",
     "output_type": "stream",
     "text": [
      "\r",
      "Epoch 127/200:  63%|██████▎   | 126/200 [01:24<00:49,  1.49it/s, v_num=1, train_loss_step=8.63e+6, train_loss_epoch=7.74e+6]"
     ]
    },
    {
     "name": "stdout",
     "output_type": "stream",
     "text": [
      "\r",
      "Epoch 127/200:  64%|██████▎   | 127/200 [01:25<00:48,  1.49it/s, v_num=1, train_loss_step=8.63e+6, train_loss_epoch=7.74e+6]"
     ]
    },
    {
     "name": "stdout",
     "output_type": "stream",
     "text": [
      "\r",
      "Epoch 127/200:  64%|██████▎   | 127/200 [01:25<00:48,  1.49it/s, v_num=1, train_loss_step=8e+6, train_loss_epoch=7.74e+6]   "
     ]
    },
    {
     "name": "stdout",
     "output_type": "stream",
     "text": [
      "\r",
      "Epoch 128/200:  64%|██████▎   | 127/200 [01:25<00:48,  1.49it/s, v_num=1, train_loss_step=8e+6, train_loss_epoch=7.74e+6]"
     ]
    },
    {
     "name": "stdout",
     "output_type": "stream",
     "text": [
      "\r",
      "Epoch 128/200:  64%|██████▍   | 128/200 [01:25<00:48,  1.49it/s, v_num=1, train_loss_step=8e+6, train_loss_epoch=7.74e+6]"
     ]
    },
    {
     "name": "stdout",
     "output_type": "stream",
     "text": [
      "\r",
      "Epoch 128/200:  64%|██████▍   | 128/200 [01:25<00:48,  1.49it/s, v_num=1, train_loss_step=7.68e+6, train_loss_epoch=7.74e+6]"
     ]
    },
    {
     "name": "stdout",
     "output_type": "stream",
     "text": [
      "\r",
      "Epoch 129/200:  64%|██████▍   | 128/200 [01:25<00:48,  1.49it/s, v_num=1, train_loss_step=7.68e+6, train_loss_epoch=7.74e+6]"
     ]
    },
    {
     "name": "stdout",
     "output_type": "stream",
     "text": [
      "\r",
      "Epoch 129/200:  64%|██████▍   | 129/200 [01:26<00:47,  1.49it/s, v_num=1, train_loss_step=7.68e+6, train_loss_epoch=7.74e+6]"
     ]
    },
    {
     "name": "stdout",
     "output_type": "stream",
     "text": [
      "\r",
      "Epoch 129/200:  64%|██████▍   | 129/200 [01:26<00:47,  1.49it/s, v_num=1, train_loss_step=8.04e+6, train_loss_epoch=7.74e+6]"
     ]
    },
    {
     "name": "stdout",
     "output_type": "stream",
     "text": [
      "\r",
      "Epoch 130/200:  64%|██████▍   | 129/200 [01:26<00:47,  1.49it/s, v_num=1, train_loss_step=8.04e+6, train_loss_epoch=7.74e+6]"
     ]
    },
    {
     "name": "stdout",
     "output_type": "stream",
     "text": [
      "\r",
      "Epoch 130/200:  65%|██████▌   | 130/200 [01:27<00:46,  1.49it/s, v_num=1, train_loss_step=8.04e+6, train_loss_epoch=7.74e+6]"
     ]
    },
    {
     "name": "stdout",
     "output_type": "stream",
     "text": [
      "\r",
      "Epoch 130/200:  65%|██████▌   | 130/200 [01:27<00:46,  1.49it/s, v_num=1, train_loss_step=7.99e+6, train_loss_epoch=7.74e+6]"
     ]
    },
    {
     "name": "stdout",
     "output_type": "stream",
     "text": [
      "\r",
      "Epoch 131/200:  65%|██████▌   | 130/200 [01:27<00:46,  1.49it/s, v_num=1, train_loss_step=7.99e+6, train_loss_epoch=7.74e+6]"
     ]
    },
    {
     "name": "stdout",
     "output_type": "stream",
     "text": [
      "\r",
      "Epoch 131/200:  66%|██████▌   | 131/200 [01:27<00:46,  1.49it/s, v_num=1, train_loss_step=7.99e+6, train_loss_epoch=7.74e+6]"
     ]
    },
    {
     "name": "stdout",
     "output_type": "stream",
     "text": [
      "\r",
      "Epoch 131/200:  66%|██████▌   | 131/200 [01:27<00:46,  1.49it/s, v_num=1, train_loss_step=7.66e+6, train_loss_epoch=7.74e+6]"
     ]
    },
    {
     "name": "stdout",
     "output_type": "stream",
     "text": [
      "\r",
      "Epoch 132/200:  66%|██████▌   | 131/200 [01:27<00:46,  1.49it/s, v_num=1, train_loss_step=7.66e+6, train_loss_epoch=7.74e+6]"
     ]
    },
    {
     "name": "stdout",
     "output_type": "stream",
     "text": [
      "\r",
      "Epoch 132/200:  66%|██████▌   | 132/200 [01:28<00:45,  1.49it/s, v_num=1, train_loss_step=7.66e+6, train_loss_epoch=7.74e+6]"
     ]
    },
    {
     "name": "stdout",
     "output_type": "stream",
     "text": [
      "\r",
      "Epoch 132/200:  66%|██████▌   | 132/200 [01:28<00:45,  1.49it/s, v_num=1, train_loss_step=8.44e+6, train_loss_epoch=7.74e+6]"
     ]
    },
    {
     "name": "stdout",
     "output_type": "stream",
     "text": [
      "\r",
      "Epoch 133/200:  66%|██████▌   | 132/200 [01:28<00:45,  1.49it/s, v_num=1, train_loss_step=8.44e+6, train_loss_epoch=7.74e+6]"
     ]
    },
    {
     "name": "stdout",
     "output_type": "stream",
     "text": [
      "\r",
      "Epoch 133/200:  66%|██████▋   | 133/200 [01:29<00:44,  1.49it/s, v_num=1, train_loss_step=8.44e+6, train_loss_epoch=7.74e+6]"
     ]
    },
    {
     "name": "stdout",
     "output_type": "stream",
     "text": [
      "\r",
      "Epoch 133/200:  66%|██████▋   | 133/200 [01:29<00:44,  1.49it/s, v_num=1, train_loss_step=7.91e+6, train_loss_epoch=7.74e+6]"
     ]
    },
    {
     "name": "stdout",
     "output_type": "stream",
     "text": [
      "\r",
      "Epoch 134/200:  66%|██████▋   | 133/200 [01:29<00:44,  1.49it/s, v_num=1, train_loss_step=7.91e+6, train_loss_epoch=7.74e+6]"
     ]
    },
    {
     "name": "stdout",
     "output_type": "stream",
     "text": [
      "\r",
      "Epoch 134/200:  67%|██████▋   | 134/200 [01:29<00:44,  1.49it/s, v_num=1, train_loss_step=7.91e+6, train_loss_epoch=7.74e+6]"
     ]
    },
    {
     "name": "stdout",
     "output_type": "stream",
     "text": [
      "\r",
      "Epoch 134/200:  67%|██████▋   | 134/200 [01:29<00:44,  1.49it/s, v_num=1, train_loss_step=7.63e+6, train_loss_epoch=7.74e+6]"
     ]
    },
    {
     "name": "stdout",
     "output_type": "stream",
     "text": [
      "\r",
      "Epoch 135/200:  67%|██████▋   | 134/200 [01:29<00:44,  1.49it/s, v_num=1, train_loss_step=7.63e+6, train_loss_epoch=7.74e+6]"
     ]
    },
    {
     "name": "stdout",
     "output_type": "stream",
     "text": [
      "\r",
      "Epoch 135/200:  68%|██████▊   | 135/200 [01:30<00:43,  1.49it/s, v_num=1, train_loss_step=7.63e+6, train_loss_epoch=7.74e+6]"
     ]
    },
    {
     "name": "stdout",
     "output_type": "stream",
     "text": [
      "\r",
      "Epoch 135/200:  68%|██████▊   | 135/200 [01:30<00:43,  1.49it/s, v_num=1, train_loss_step=7.45e+6, train_loss_epoch=7.74e+6]"
     ]
    },
    {
     "name": "stdout",
     "output_type": "stream",
     "text": [
      "\r",
      "Epoch 136/200:  68%|██████▊   | 135/200 [01:30<00:43,  1.49it/s, v_num=1, train_loss_step=7.45e+6, train_loss_epoch=7.74e+6]"
     ]
    },
    {
     "name": "stdout",
     "output_type": "stream",
     "text": [
      "\r",
      "Epoch 136/200:  68%|██████▊   | 136/200 [01:31<00:42,  1.49it/s, v_num=1, train_loss_step=7.45e+6, train_loss_epoch=7.74e+6]"
     ]
    },
    {
     "name": "stdout",
     "output_type": "stream",
     "text": [
      "\r",
      "Epoch 136/200:  68%|██████▊   | 136/200 [01:31<00:42,  1.49it/s, v_num=1, train_loss_step=7.48e+6, train_loss_epoch=7.75e+6]"
     ]
    },
    {
     "name": "stdout",
     "output_type": "stream",
     "text": [
      "\r",
      "Epoch 137/200:  68%|██████▊   | 136/200 [01:31<00:42,  1.49it/s, v_num=1, train_loss_step=7.48e+6, train_loss_epoch=7.75e+6]"
     ]
    },
    {
     "name": "stdout",
     "output_type": "stream",
     "text": [
      "\r",
      "Epoch 137/200:  68%|██████▊   | 137/200 [01:31<00:42,  1.49it/s, v_num=1, train_loss_step=7.48e+6, train_loss_epoch=7.75e+6]"
     ]
    },
    {
     "name": "stdout",
     "output_type": "stream",
     "text": [
      "\r",
      "Epoch 137/200:  68%|██████▊   | 137/200 [01:31<00:42,  1.49it/s, v_num=1, train_loss_step=8.02e+6, train_loss_epoch=7.74e+6]"
     ]
    },
    {
     "name": "stdout",
     "output_type": "stream",
     "text": [
      "\r",
      "Epoch 138/200:  68%|██████▊   | 137/200 [01:31<00:42,  1.49it/s, v_num=1, train_loss_step=8.02e+6, train_loss_epoch=7.74e+6]"
     ]
    },
    {
     "name": "stdout",
     "output_type": "stream",
     "text": [
      "\r",
      "Epoch 138/200:  69%|██████▉   | 138/200 [01:32<00:41,  1.49it/s, v_num=1, train_loss_step=8.02e+6, train_loss_epoch=7.74e+6]"
     ]
    },
    {
     "name": "stdout",
     "output_type": "stream",
     "text": [
      "\r",
      "Epoch 138/200:  69%|██████▉   | 138/200 [01:32<00:41,  1.49it/s, v_num=1, train_loss_step=7.62e+6, train_loss_epoch=7.74e+6]"
     ]
    },
    {
     "name": "stdout",
     "output_type": "stream",
     "text": [
      "\r",
      "Epoch 139/200:  69%|██████▉   | 138/200 [01:32<00:41,  1.49it/s, v_num=1, train_loss_step=7.62e+6, train_loss_epoch=7.74e+6]"
     ]
    },
    {
     "name": "stdout",
     "output_type": "stream",
     "text": [
      "\r",
      "Epoch 139/200:  70%|██████▉   | 139/200 [01:33<00:40,  1.49it/s, v_num=1, train_loss_step=7.62e+6, train_loss_epoch=7.74e+6]"
     ]
    },
    {
     "name": "stdout",
     "output_type": "stream",
     "text": [
      "\r",
      "Epoch 139/200:  70%|██████▉   | 139/200 [01:33<00:40,  1.49it/s, v_num=1, train_loss_step=7.88e+6, train_loss_epoch=7.75e+6]"
     ]
    },
    {
     "name": "stdout",
     "output_type": "stream",
     "text": [
      "\r",
      "Epoch 140/200:  70%|██████▉   | 139/200 [01:33<00:40,  1.49it/s, v_num=1, train_loss_step=7.88e+6, train_loss_epoch=7.75e+6]"
     ]
    },
    {
     "name": "stdout",
     "output_type": "stream",
     "text": [
      "\r",
      "Epoch 140/200:  70%|███████   | 140/200 [01:33<00:40,  1.49it/s, v_num=1, train_loss_step=7.88e+6, train_loss_epoch=7.75e+6]"
     ]
    },
    {
     "name": "stdout",
     "output_type": "stream",
     "text": [
      "\r",
      "Epoch 140/200:  70%|███████   | 140/200 [01:33<00:40,  1.49it/s, v_num=1, train_loss_step=7.76e+6, train_loss_epoch=7.75e+6]"
     ]
    },
    {
     "name": "stdout",
     "output_type": "stream",
     "text": [
      "\r",
      "Epoch 141/200:  70%|███████   | 140/200 [01:33<00:40,  1.49it/s, v_num=1, train_loss_step=7.76e+6, train_loss_epoch=7.75e+6]"
     ]
    },
    {
     "name": "stdout",
     "output_type": "stream",
     "text": [
      "\r",
      "Epoch 141/200:  70%|███████   | 141/200 [01:34<00:39,  1.49it/s, v_num=1, train_loss_step=7.76e+6, train_loss_epoch=7.75e+6]"
     ]
    },
    {
     "name": "stdout",
     "output_type": "stream",
     "text": [
      "\r",
      "Epoch 141/200:  70%|███████   | 141/200 [01:34<00:39,  1.49it/s, v_num=1, train_loss_step=8.19e+6, train_loss_epoch=7.74e+6]"
     ]
    },
    {
     "name": "stdout",
     "output_type": "stream",
     "text": [
      "\r",
      "Epoch 142/200:  70%|███████   | 141/200 [01:34<00:39,  1.49it/s, v_num=1, train_loss_step=8.19e+6, train_loss_epoch=7.74e+6]"
     ]
    },
    {
     "name": "stdout",
     "output_type": "stream",
     "text": [
      "\r",
      "Epoch 142/200:  71%|███████   | 142/200 [01:35<00:38,  1.49it/s, v_num=1, train_loss_step=8.19e+6, train_loss_epoch=7.74e+6]"
     ]
    },
    {
     "name": "stdout",
     "output_type": "stream",
     "text": [
      "\r",
      "Epoch 142/200:  71%|███████   | 142/200 [01:35<00:38,  1.49it/s, v_num=1, train_loss_step=8.44e+6, train_loss_epoch=7.75e+6]"
     ]
    },
    {
     "name": "stdout",
     "output_type": "stream",
     "text": [
      "\r",
      "Epoch 143/200:  71%|███████   | 142/200 [01:35<00:38,  1.49it/s, v_num=1, train_loss_step=8.44e+6, train_loss_epoch=7.75e+6]"
     ]
    },
    {
     "name": "stdout",
     "output_type": "stream",
     "text": [
      "\r",
      "Epoch 143/200:  72%|███████▏  | 143/200 [01:35<00:38,  1.49it/s, v_num=1, train_loss_step=8.44e+6, train_loss_epoch=7.75e+6]"
     ]
    },
    {
     "name": "stdout",
     "output_type": "stream",
     "text": [
      "\r",
      "Epoch 143/200:  72%|███████▏  | 143/200 [01:35<00:38,  1.49it/s, v_num=1, train_loss_step=7.89e+6, train_loss_epoch=7.75e+6]"
     ]
    },
    {
     "name": "stdout",
     "output_type": "stream",
     "text": [
      "\r",
      "Epoch 144/200:  72%|███████▏  | 143/200 [01:35<00:38,  1.49it/s, v_num=1, train_loss_step=7.89e+6, train_loss_epoch=7.75e+6]"
     ]
    },
    {
     "name": "stdout",
     "output_type": "stream",
     "text": [
      "\r",
      "Epoch 144/200:  72%|███████▏  | 144/200 [01:36<00:37,  1.50it/s, v_num=1, train_loss_step=7.89e+6, train_loss_epoch=7.75e+6]"
     ]
    },
    {
     "name": "stdout",
     "output_type": "stream",
     "text": [
      "\r",
      "Epoch 144/200:  72%|███████▏  | 144/200 [01:36<00:37,  1.50it/s, v_num=1, train_loss_step=8.01e+6, train_loss_epoch=7.74e+6]"
     ]
    },
    {
     "name": "stdout",
     "output_type": "stream",
     "text": [
      "\r",
      "Epoch 145/200:  72%|███████▏  | 144/200 [01:36<00:37,  1.50it/s, v_num=1, train_loss_step=8.01e+6, train_loss_epoch=7.74e+6]"
     ]
    },
    {
     "name": "stdout",
     "output_type": "stream",
     "text": [
      "\r",
      "Epoch 145/200:  72%|███████▎  | 145/200 [01:37<00:36,  1.50it/s, v_num=1, train_loss_step=8.01e+6, train_loss_epoch=7.74e+6]"
     ]
    },
    {
     "name": "stdout",
     "output_type": "stream",
     "text": [
      "\r",
      "Epoch 145/200:  72%|███████▎  | 145/200 [01:37<00:36,  1.50it/s, v_num=1, train_loss_step=7.71e+6, train_loss_epoch=7.75e+6]"
     ]
    },
    {
     "name": "stdout",
     "output_type": "stream",
     "text": [
      "\r",
      "Epoch 146/200:  72%|███████▎  | 145/200 [01:37<00:36,  1.50it/s, v_num=1, train_loss_step=7.71e+6, train_loss_epoch=7.75e+6]"
     ]
    },
    {
     "name": "stdout",
     "output_type": "stream",
     "text": [
      "\r",
      "Epoch 146/200:  73%|███████▎  | 146/200 [01:37<00:36,  1.50it/s, v_num=1, train_loss_step=7.71e+6, train_loss_epoch=7.75e+6]"
     ]
    },
    {
     "name": "stdout",
     "output_type": "stream",
     "text": [
      "\r",
      "Epoch 146/200:  73%|███████▎  | 146/200 [01:37<00:36,  1.50it/s, v_num=1, train_loss_step=7.72e+6, train_loss_epoch=7.75e+6]"
     ]
    },
    {
     "name": "stdout",
     "output_type": "stream",
     "text": [
      "\r",
      "Epoch 147/200:  73%|███████▎  | 146/200 [01:37<00:36,  1.50it/s, v_num=1, train_loss_step=7.72e+6, train_loss_epoch=7.75e+6]"
     ]
    },
    {
     "name": "stdout",
     "output_type": "stream",
     "text": [
      "\r",
      "Epoch 147/200:  74%|███████▎  | 147/200 [01:38<00:35,  1.50it/s, v_num=1, train_loss_step=7.72e+6, train_loss_epoch=7.75e+6]"
     ]
    },
    {
     "name": "stdout",
     "output_type": "stream",
     "text": [
      "\r",
      "Epoch 147/200:  74%|███████▎  | 147/200 [01:38<00:35,  1.50it/s, v_num=1, train_loss_step=8.01e+6, train_loss_epoch=7.75e+6]"
     ]
    },
    {
     "name": "stdout",
     "output_type": "stream",
     "text": [
      "\r",
      "Epoch 148/200:  74%|███████▎  | 147/200 [01:38<00:35,  1.50it/s, v_num=1, train_loss_step=8.01e+6, train_loss_epoch=7.75e+6]"
     ]
    },
    {
     "name": "stdout",
     "output_type": "stream",
     "text": [
      "\r",
      "Epoch 148/200:  74%|███████▍  | 148/200 [01:39<00:34,  1.50it/s, v_num=1, train_loss_step=8.01e+6, train_loss_epoch=7.75e+6]"
     ]
    },
    {
     "name": "stdout",
     "output_type": "stream",
     "text": [
      "\r",
      "Epoch 148/200:  74%|███████▍  | 148/200 [01:39<00:34,  1.50it/s, v_num=1, train_loss_step=8.16e+6, train_loss_epoch=7.75e+6]"
     ]
    },
    {
     "name": "stdout",
     "output_type": "stream",
     "text": [
      "\r",
      "Epoch 149/200:  74%|███████▍  | 148/200 [01:39<00:34,  1.50it/s, v_num=1, train_loss_step=8.16e+6, train_loss_epoch=7.75e+6]"
     ]
    },
    {
     "name": "stdout",
     "output_type": "stream",
     "text": [
      "\r",
      "Epoch 149/200:  74%|███████▍  | 149/200 [01:39<00:34,  1.50it/s, v_num=1, train_loss_step=8.16e+6, train_loss_epoch=7.75e+6]"
     ]
    },
    {
     "name": "stdout",
     "output_type": "stream",
     "text": [
      "\r",
      "Epoch 149/200:  74%|███████▍  | 149/200 [01:39<00:34,  1.50it/s, v_num=1, train_loss_step=7.62e+6, train_loss_epoch=7.75e+6]"
     ]
    },
    {
     "name": "stdout",
     "output_type": "stream",
     "text": [
      "\r",
      "Epoch 150/200:  74%|███████▍  | 149/200 [01:39<00:34,  1.50it/s, v_num=1, train_loss_step=7.62e+6, train_loss_epoch=7.75e+6]"
     ]
    },
    {
     "name": "stdout",
     "output_type": "stream",
     "text": [
      "\r",
      "Epoch 150/200:  75%|███████▌  | 150/200 [01:40<00:33,  1.50it/s, v_num=1, train_loss_step=7.62e+6, train_loss_epoch=7.75e+6]"
     ]
    },
    {
     "name": "stdout",
     "output_type": "stream",
     "text": [
      "\r",
      "Epoch 150/200:  75%|███████▌  | 150/200 [01:40<00:33,  1.50it/s, v_num=1, train_loss_step=7.81e+6, train_loss_epoch=7.75e+6]"
     ]
    },
    {
     "name": "stdout",
     "output_type": "stream",
     "text": [
      "\r",
      "Epoch 151/200:  75%|███████▌  | 150/200 [01:40<00:33,  1.50it/s, v_num=1, train_loss_step=7.81e+6, train_loss_epoch=7.75e+6]"
     ]
    },
    {
     "name": "stdout",
     "output_type": "stream",
     "text": [
      "\r",
      "Epoch 151/200:  76%|███████▌  | 151/200 [01:41<00:32,  1.50it/s, v_num=1, train_loss_step=7.81e+6, train_loss_epoch=7.75e+6]"
     ]
    },
    {
     "name": "stdout",
     "output_type": "stream",
     "text": [
      "\r",
      "Epoch 151/200:  76%|███████▌  | 151/200 [01:41<00:32,  1.50it/s, v_num=1, train_loss_step=7.87e+6, train_loss_epoch=7.75e+6]"
     ]
    },
    {
     "name": "stdout",
     "output_type": "stream",
     "text": [
      "\r",
      "Epoch 152/200:  76%|███████▌  | 151/200 [01:41<00:32,  1.50it/s, v_num=1, train_loss_step=7.87e+6, train_loss_epoch=7.75e+6]"
     ]
    },
    {
     "name": "stdout",
     "output_type": "stream",
     "text": [
      "\r",
      "Epoch 152/200:  76%|███████▌  | 152/200 [01:41<00:32,  1.50it/s, v_num=1, train_loss_step=7.87e+6, train_loss_epoch=7.75e+6]"
     ]
    },
    {
     "name": "stdout",
     "output_type": "stream",
     "text": [
      "\r",
      "Epoch 152/200:  76%|███████▌  | 152/200 [01:41<00:32,  1.50it/s, v_num=1, train_loss_step=7.71e+6, train_loss_epoch=7.75e+6]"
     ]
    },
    {
     "name": "stdout",
     "output_type": "stream",
     "text": [
      "\r",
      "Epoch 153/200:  76%|███████▌  | 152/200 [01:41<00:32,  1.50it/s, v_num=1, train_loss_step=7.71e+6, train_loss_epoch=7.75e+6]"
     ]
    },
    {
     "name": "stdout",
     "output_type": "stream",
     "text": [
      "\r",
      "Epoch 153/200:  76%|███████▋  | 153/200 [01:42<00:31,  1.50it/s, v_num=1, train_loss_step=7.71e+6, train_loss_epoch=7.75e+6]"
     ]
    },
    {
     "name": "stdout",
     "output_type": "stream",
     "text": [
      "\r",
      "Epoch 153/200:  76%|███████▋  | 153/200 [01:42<00:31,  1.50it/s, v_num=1, train_loss_step=7.42e+6, train_loss_epoch=7.75e+6]"
     ]
    },
    {
     "name": "stdout",
     "output_type": "stream",
     "text": [
      "\r",
      "Epoch 154/200:  76%|███████▋  | 153/200 [01:42<00:31,  1.50it/s, v_num=1, train_loss_step=7.42e+6, train_loss_epoch=7.75e+6]"
     ]
    },
    {
     "name": "stdout",
     "output_type": "stream",
     "text": [
      "\r",
      "Epoch 154/200:  77%|███████▋  | 154/200 [01:43<00:30,  1.50it/s, v_num=1, train_loss_step=7.42e+6, train_loss_epoch=7.75e+6]"
     ]
    },
    {
     "name": "stdout",
     "output_type": "stream",
     "text": [
      "\r",
      "Epoch 154/200:  77%|███████▋  | 154/200 [01:43<00:30,  1.50it/s, v_num=1, train_loss_step=8.02e+6, train_loss_epoch=7.75e+6]"
     ]
    },
    {
     "name": "stdout",
     "output_type": "stream",
     "text": [
      "\r",
      "Epoch 155/200:  77%|███████▋  | 154/200 [01:43<00:30,  1.50it/s, v_num=1, train_loss_step=8.02e+6, train_loss_epoch=7.75e+6]"
     ]
    },
    {
     "name": "stdout",
     "output_type": "stream",
     "text": [
      "\r",
      "Epoch 155/200:  78%|███████▊  | 155/200 [01:43<00:30,  1.50it/s, v_num=1, train_loss_step=8.02e+6, train_loss_epoch=7.75e+6]"
     ]
    },
    {
     "name": "stdout",
     "output_type": "stream",
     "text": [
      "\r",
      "Epoch 155/200:  78%|███████▊  | 155/200 [01:43<00:30,  1.50it/s, v_num=1, train_loss_step=8.22e+6, train_loss_epoch=7.75e+6]"
     ]
    },
    {
     "name": "stdout",
     "output_type": "stream",
     "text": [
      "\r",
      "Epoch 156/200:  78%|███████▊  | 155/200 [01:43<00:30,  1.50it/s, v_num=1, train_loss_step=8.22e+6, train_loss_epoch=7.75e+6]"
     ]
    },
    {
     "name": "stdout",
     "output_type": "stream",
     "text": [
      "\r",
      "Epoch 156/200:  78%|███████▊  | 156/200 [01:44<00:29,  1.49it/s, v_num=1, train_loss_step=8.22e+6, train_loss_epoch=7.75e+6]"
     ]
    },
    {
     "name": "stdout",
     "output_type": "stream",
     "text": [
      "\r",
      "Epoch 156/200:  78%|███████▊  | 156/200 [01:44<00:29,  1.49it/s, v_num=1, train_loss_step=7.75e+6, train_loss_epoch=7.75e+6]"
     ]
    },
    {
     "name": "stdout",
     "output_type": "stream",
     "text": [
      "\r",
      "Epoch 157/200:  78%|███████▊  | 156/200 [01:44<00:29,  1.49it/s, v_num=1, train_loss_step=7.75e+6, train_loss_epoch=7.75e+6]"
     ]
    },
    {
     "name": "stdout",
     "output_type": "stream",
     "text": [
      "\r",
      "Epoch 157/200:  78%|███████▊  | 157/200 [01:45<00:28,  1.49it/s, v_num=1, train_loss_step=7.75e+6, train_loss_epoch=7.75e+6]"
     ]
    },
    {
     "name": "stdout",
     "output_type": "stream",
     "text": [
      "\r",
      "Epoch 157/200:  78%|███████▊  | 157/200 [01:45<00:28,  1.49it/s, v_num=1, train_loss_step=7.43e+6, train_loss_epoch=7.75e+6]"
     ]
    },
    {
     "name": "stdout",
     "output_type": "stream",
     "text": [
      "\r",
      "Epoch 158/200:  78%|███████▊  | 157/200 [01:45<00:28,  1.49it/s, v_num=1, train_loss_step=7.43e+6, train_loss_epoch=7.75e+6]"
     ]
    },
    {
     "name": "stdout",
     "output_type": "stream",
     "text": [
      "\r",
      "Epoch 158/200:  79%|███████▉  | 158/200 [01:45<00:28,  1.49it/s, v_num=1, train_loss_step=7.43e+6, train_loss_epoch=7.75e+6]"
     ]
    },
    {
     "name": "stdout",
     "output_type": "stream",
     "text": [
      "\r",
      "Epoch 158/200:  79%|███████▉  | 158/200 [01:45<00:28,  1.49it/s, v_num=1, train_loss_step=7.83e+6, train_loss_epoch=7.75e+6]"
     ]
    },
    {
     "name": "stdout",
     "output_type": "stream",
     "text": [
      "\r",
      "Epoch 159/200:  79%|███████▉  | 158/200 [01:45<00:28,  1.49it/s, v_num=1, train_loss_step=7.83e+6, train_loss_epoch=7.75e+6]"
     ]
    },
    {
     "name": "stdout",
     "output_type": "stream",
     "text": [
      "\r",
      "Epoch 159/200:  80%|███████▉  | 159/200 [01:46<00:27,  1.49it/s, v_num=1, train_loss_step=7.83e+6, train_loss_epoch=7.75e+6]"
     ]
    },
    {
     "name": "stdout",
     "output_type": "stream",
     "text": [
      "\r",
      "Epoch 159/200:  80%|███████▉  | 159/200 [01:46<00:27,  1.49it/s, v_num=1, train_loss_step=7.64e+6, train_loss_epoch=7.75e+6]"
     ]
    },
    {
     "name": "stdout",
     "output_type": "stream",
     "text": [
      "\r",
      "Epoch 160/200:  80%|███████▉  | 159/200 [01:46<00:27,  1.49it/s, v_num=1, train_loss_step=7.64e+6, train_loss_epoch=7.75e+6]"
     ]
    },
    {
     "name": "stdout",
     "output_type": "stream",
     "text": [
      "\r",
      "Epoch 160/200:  80%|████████  | 160/200 [01:47<00:26,  1.49it/s, v_num=1, train_loss_step=7.64e+6, train_loss_epoch=7.75e+6]"
     ]
    },
    {
     "name": "stdout",
     "output_type": "stream",
     "text": [
      "\r",
      "Epoch 160/200:  80%|████████  | 160/200 [01:47<00:26,  1.49it/s, v_num=1, train_loss_step=7.69e+6, train_loss_epoch=7.75e+6]"
     ]
    },
    {
     "name": "stdout",
     "output_type": "stream",
     "text": [
      "\r",
      "Epoch 161/200:  80%|████████  | 160/200 [01:47<00:26,  1.49it/s, v_num=1, train_loss_step=7.69e+6, train_loss_epoch=7.75e+6]"
     ]
    },
    {
     "name": "stdout",
     "output_type": "stream",
     "text": [
      "\r",
      "Epoch 161/200:  80%|████████  | 161/200 [01:47<00:26,  1.49it/s, v_num=1, train_loss_step=7.69e+6, train_loss_epoch=7.75e+6]"
     ]
    },
    {
     "name": "stdout",
     "output_type": "stream",
     "text": [
      "\r",
      "Epoch 161/200:  80%|████████  | 161/200 [01:47<00:26,  1.49it/s, v_num=1, train_loss_step=7.92e+6, train_loss_epoch=7.75e+6]"
     ]
    },
    {
     "name": "stdout",
     "output_type": "stream",
     "text": [
      "\r",
      "Epoch 162/200:  80%|████████  | 161/200 [01:47<00:26,  1.49it/s, v_num=1, train_loss_step=7.92e+6, train_loss_epoch=7.75e+6]"
     ]
    },
    {
     "name": "stdout",
     "output_type": "stream",
     "text": [
      "\r",
      "Epoch 162/200:  81%|████████  | 162/200 [01:48<00:25,  1.49it/s, v_num=1, train_loss_step=7.92e+6, train_loss_epoch=7.75e+6]"
     ]
    },
    {
     "name": "stdout",
     "output_type": "stream",
     "text": [
      "\r",
      "Epoch 162/200:  81%|████████  | 162/200 [01:48<00:25,  1.49it/s, v_num=1, train_loss_step=8.32e+6, train_loss_epoch=7.75e+6]"
     ]
    },
    {
     "name": "stdout",
     "output_type": "stream",
     "text": [
      "\r",
      "Epoch 163/200:  81%|████████  | 162/200 [01:48<00:25,  1.49it/s, v_num=1, train_loss_step=8.32e+6, train_loss_epoch=7.75e+6]"
     ]
    },
    {
     "name": "stdout",
     "output_type": "stream",
     "text": [
      "\r",
      "Epoch 163/200:  82%|████████▏ | 163/200 [01:49<00:24,  1.49it/s, v_num=1, train_loss_step=8.32e+6, train_loss_epoch=7.75e+6]"
     ]
    },
    {
     "name": "stdout",
     "output_type": "stream",
     "text": [
      "\r",
      "Epoch 163/200:  82%|████████▏ | 163/200 [01:49<00:24,  1.49it/s, v_num=1, train_loss_step=8.11e+6, train_loss_epoch=7.75e+6]"
     ]
    },
    {
     "name": "stdout",
     "output_type": "stream",
     "text": [
      "\r",
      "Epoch 164/200:  82%|████████▏ | 163/200 [01:49<00:24,  1.49it/s, v_num=1, train_loss_step=8.11e+6, train_loss_epoch=7.75e+6]"
     ]
    },
    {
     "name": "stdout",
     "output_type": "stream",
     "text": [
      "\r",
      "Epoch 164/200:  82%|████████▏ | 164/200 [01:49<00:24,  1.49it/s, v_num=1, train_loss_step=8.11e+6, train_loss_epoch=7.75e+6]"
     ]
    },
    {
     "name": "stdout",
     "output_type": "stream",
     "text": [
      "\r",
      "Epoch 164/200:  82%|████████▏ | 164/200 [01:49<00:24,  1.49it/s, v_num=1, train_loss_step=7.41e+6, train_loss_epoch=7.76e+6]"
     ]
    },
    {
     "name": "stdout",
     "output_type": "stream",
     "text": [
      "\r",
      "Epoch 165/200:  82%|████████▏ | 164/200 [01:49<00:24,  1.49it/s, v_num=1, train_loss_step=7.41e+6, train_loss_epoch=7.76e+6]"
     ]
    },
    {
     "name": "stdout",
     "output_type": "stream",
     "text": [
      "\r",
      "Epoch 165/200:  82%|████████▎ | 165/200 [01:50<00:23,  1.49it/s, v_num=1, train_loss_step=7.41e+6, train_loss_epoch=7.76e+6]"
     ]
    },
    {
     "name": "stdout",
     "output_type": "stream",
     "text": [
      "\r",
      "Epoch 165/200:  82%|████████▎ | 165/200 [01:50<00:23,  1.49it/s, v_num=1, train_loss_step=7.92e+6, train_loss_epoch=7.75e+6]"
     ]
    },
    {
     "name": "stdout",
     "output_type": "stream",
     "text": [
      "\r",
      "Epoch 166/200:  82%|████████▎ | 165/200 [01:50<00:23,  1.49it/s, v_num=1, train_loss_step=7.92e+6, train_loss_epoch=7.75e+6]"
     ]
    },
    {
     "name": "stdout",
     "output_type": "stream",
     "text": [
      "\r",
      "Epoch 166/200:  83%|████████▎ | 166/200 [01:51<00:22,  1.49it/s, v_num=1, train_loss_step=7.92e+6, train_loss_epoch=7.75e+6]"
     ]
    },
    {
     "name": "stdout",
     "output_type": "stream",
     "text": [
      "\r",
      "Epoch 166/200:  83%|████████▎ | 166/200 [01:51<00:22,  1.49it/s, v_num=1, train_loss_step=7.44e+6, train_loss_epoch=7.75e+6]"
     ]
    },
    {
     "name": "stdout",
     "output_type": "stream",
     "text": [
      "\r",
      "Epoch 167/200:  83%|████████▎ | 166/200 [01:51<00:22,  1.49it/s, v_num=1, train_loss_step=7.44e+6, train_loss_epoch=7.75e+6]"
     ]
    },
    {
     "name": "stdout",
     "output_type": "stream",
     "text": [
      "\r",
      "Epoch 167/200:  84%|████████▎ | 167/200 [01:51<00:22,  1.49it/s, v_num=1, train_loss_step=7.44e+6, train_loss_epoch=7.75e+6]"
     ]
    },
    {
     "name": "stdout",
     "output_type": "stream",
     "text": [
      "\r",
      "Epoch 167/200:  84%|████████▎ | 167/200 [01:51<00:22,  1.49it/s, v_num=1, train_loss_step=7.84e+6, train_loss_epoch=7.75e+6]"
     ]
    },
    {
     "name": "stdout",
     "output_type": "stream",
     "text": [
      "\r",
      "Epoch 168/200:  84%|████████▎ | 167/200 [01:51<00:22,  1.49it/s, v_num=1, train_loss_step=7.84e+6, train_loss_epoch=7.75e+6]"
     ]
    },
    {
     "name": "stdout",
     "output_type": "stream",
     "text": [
      "\r",
      "Epoch 168/200:  84%|████████▍ | 168/200 [01:52<00:21,  1.49it/s, v_num=1, train_loss_step=7.84e+6, train_loss_epoch=7.75e+6]"
     ]
    },
    {
     "name": "stdout",
     "output_type": "stream",
     "text": [
      "\r",
      "Epoch 168/200:  84%|████████▍ | 168/200 [01:52<00:21,  1.49it/s, v_num=1, train_loss_step=7.42e+6, train_loss_epoch=7.75e+6]"
     ]
    },
    {
     "name": "stdout",
     "output_type": "stream",
     "text": [
      "\r",
      "Epoch 169/200:  84%|████████▍ | 168/200 [01:52<00:21,  1.49it/s, v_num=1, train_loss_step=7.42e+6, train_loss_epoch=7.75e+6]"
     ]
    },
    {
     "name": "stdout",
     "output_type": "stream",
     "text": [
      "\r",
      "Epoch 169/200:  84%|████████▍ | 169/200 [01:53<00:20,  1.49it/s, v_num=1, train_loss_step=7.42e+6, train_loss_epoch=7.75e+6]"
     ]
    },
    {
     "name": "stdout",
     "output_type": "stream",
     "text": [
      "\r",
      "Epoch 169/200:  84%|████████▍ | 169/200 [01:53<00:20,  1.49it/s, v_num=1, train_loss_step=8.36e+6, train_loss_epoch=7.76e+6]"
     ]
    },
    {
     "name": "stdout",
     "output_type": "stream",
     "text": [
      "\r",
      "Epoch 170/200:  84%|████████▍ | 169/200 [01:53<00:20,  1.49it/s, v_num=1, train_loss_step=8.36e+6, train_loss_epoch=7.76e+6]"
     ]
    },
    {
     "name": "stdout",
     "output_type": "stream",
     "text": [
      "\r",
      "Epoch 170/200:  85%|████████▌ | 170/200 [01:53<00:20,  1.49it/s, v_num=1, train_loss_step=8.36e+6, train_loss_epoch=7.76e+6]"
     ]
    },
    {
     "name": "stdout",
     "output_type": "stream",
     "text": [
      "\r",
      "Epoch 170/200:  85%|████████▌ | 170/200 [01:53<00:20,  1.49it/s, v_num=1, train_loss_step=8.2e+6, train_loss_epoch=7.75e+6] "
     ]
    },
    {
     "name": "stdout",
     "output_type": "stream",
     "text": [
      "\r",
      "Epoch 171/200:  85%|████████▌ | 170/200 [01:53<00:20,  1.49it/s, v_num=1, train_loss_step=8.2e+6, train_loss_epoch=7.75e+6]"
     ]
    },
    {
     "name": "stdout",
     "output_type": "stream",
     "text": [
      "\r",
      "Epoch 171/200:  86%|████████▌ | 171/200 [01:54<00:19,  1.49it/s, v_num=1, train_loss_step=8.2e+6, train_loss_epoch=7.75e+6]"
     ]
    },
    {
     "name": "stdout",
     "output_type": "stream",
     "text": [
      "\r",
      "Epoch 171/200:  86%|████████▌ | 171/200 [01:54<00:19,  1.49it/s, v_num=1, train_loss_step=7.77e+6, train_loss_epoch=7.75e+6]"
     ]
    },
    {
     "name": "stdout",
     "output_type": "stream",
     "text": [
      "\r",
      "Epoch 172/200:  86%|████████▌ | 171/200 [01:54<00:19,  1.49it/s, v_num=1, train_loss_step=7.77e+6, train_loss_epoch=7.75e+6]"
     ]
    },
    {
     "name": "stdout",
     "output_type": "stream",
     "text": [
      "\r",
      "Epoch 172/200:  86%|████████▌ | 172/200 [01:55<00:18,  1.49it/s, v_num=1, train_loss_step=7.77e+6, train_loss_epoch=7.75e+6]"
     ]
    },
    {
     "name": "stdout",
     "output_type": "stream",
     "text": [
      "\r",
      "Epoch 172/200:  86%|████████▌ | 172/200 [01:55<00:18,  1.49it/s, v_num=1, train_loss_step=7.6e+6, train_loss_epoch=7.75e+6] "
     ]
    },
    {
     "name": "stdout",
     "output_type": "stream",
     "text": [
      "\r",
      "Epoch 173/200:  86%|████████▌ | 172/200 [01:55<00:18,  1.49it/s, v_num=1, train_loss_step=7.6e+6, train_loss_epoch=7.75e+6]"
     ]
    },
    {
     "name": "stdout",
     "output_type": "stream",
     "text": [
      "\r",
      "Epoch 173/200:  86%|████████▋ | 173/200 [01:55<00:18,  1.49it/s, v_num=1, train_loss_step=7.6e+6, train_loss_epoch=7.75e+6]"
     ]
    },
    {
     "name": "stdout",
     "output_type": "stream",
     "text": [
      "\r",
      "Epoch 173/200:  86%|████████▋ | 173/200 [01:55<00:18,  1.49it/s, v_num=1, train_loss_step=7.95e+6, train_loss_epoch=7.75e+6]"
     ]
    },
    {
     "name": "stdout",
     "output_type": "stream",
     "text": [
      "\r",
      "Epoch 174/200:  86%|████████▋ | 173/200 [01:55<00:18,  1.49it/s, v_num=1, train_loss_step=7.95e+6, train_loss_epoch=7.75e+6]"
     ]
    },
    {
     "name": "stdout",
     "output_type": "stream",
     "text": [
      "\r",
      "Epoch 174/200:  87%|████████▋ | 174/200 [01:56<00:17,  1.49it/s, v_num=1, train_loss_step=7.95e+6, train_loss_epoch=7.75e+6]"
     ]
    },
    {
     "name": "stdout",
     "output_type": "stream",
     "text": [
      "\r",
      "Epoch 174/200:  87%|████████▋ | 174/200 [01:56<00:17,  1.49it/s, v_num=1, train_loss_step=7.39e+6, train_loss_epoch=7.76e+6]"
     ]
    },
    {
     "name": "stdout",
     "output_type": "stream",
     "text": [
      "\r",
      "Epoch 175/200:  87%|████████▋ | 174/200 [01:56<00:17,  1.49it/s, v_num=1, train_loss_step=7.39e+6, train_loss_epoch=7.76e+6]"
     ]
    },
    {
     "name": "stdout",
     "output_type": "stream",
     "text": [
      "\r",
      "Epoch 175/200:  88%|████████▊ | 175/200 [01:57<00:16,  1.49it/s, v_num=1, train_loss_step=7.39e+6, train_loss_epoch=7.76e+6]"
     ]
    },
    {
     "name": "stdout",
     "output_type": "stream",
     "text": [
      "\r",
      "Epoch 175/200:  88%|████████▊ | 175/200 [01:57<00:16,  1.49it/s, v_num=1, train_loss_step=7.53e+6, train_loss_epoch=7.75e+6]"
     ]
    },
    {
     "name": "stdout",
     "output_type": "stream",
     "text": [
      "\r",
      "Epoch 176/200:  88%|████████▊ | 175/200 [01:57<00:16,  1.49it/s, v_num=1, train_loss_step=7.53e+6, train_loss_epoch=7.75e+6]"
     ]
    },
    {
     "name": "stdout",
     "output_type": "stream",
     "text": [
      "\r",
      "Epoch 176/200:  88%|████████▊ | 176/200 [01:57<00:16,  1.49it/s, v_num=1, train_loss_step=7.53e+6, train_loss_epoch=7.75e+6]"
     ]
    },
    {
     "name": "stdout",
     "output_type": "stream",
     "text": [
      "\r",
      "Epoch 176/200:  88%|████████▊ | 176/200 [01:57<00:16,  1.49it/s, v_num=1, train_loss_step=7.51e+6, train_loss_epoch=7.75e+6]"
     ]
    },
    {
     "name": "stdout",
     "output_type": "stream",
     "text": [
      "\r",
      "Epoch 177/200:  88%|████████▊ | 176/200 [01:57<00:16,  1.49it/s, v_num=1, train_loss_step=7.51e+6, train_loss_epoch=7.75e+6]"
     ]
    },
    {
     "name": "stdout",
     "output_type": "stream",
     "text": [
      "\r",
      "Epoch 177/200:  88%|████████▊ | 177/200 [01:58<00:15,  1.49it/s, v_num=1, train_loss_step=7.51e+6, train_loss_epoch=7.75e+6]"
     ]
    },
    {
     "name": "stdout",
     "output_type": "stream",
     "text": [
      "\r",
      "Epoch 177/200:  88%|████████▊ | 177/200 [01:58<00:15,  1.49it/s, v_num=1, train_loss_step=8.07e+6, train_loss_epoch=7.75e+6]"
     ]
    },
    {
     "name": "stdout",
     "output_type": "stream",
     "text": [
      "\r",
      "Epoch 178/200:  88%|████████▊ | 177/200 [01:58<00:15,  1.49it/s, v_num=1, train_loss_step=8.07e+6, train_loss_epoch=7.75e+6]"
     ]
    },
    {
     "name": "stdout",
     "output_type": "stream",
     "text": [
      "\r",
      "Epoch 178/200:  89%|████████▉ | 178/200 [01:59<00:14,  1.49it/s, v_num=1, train_loss_step=8.07e+6, train_loss_epoch=7.75e+6]"
     ]
    },
    {
     "name": "stdout",
     "output_type": "stream",
     "text": [
      "\r",
      "Epoch 178/200:  89%|████████▉ | 178/200 [01:59<00:14,  1.49it/s, v_num=1, train_loss_step=8.23e+6, train_loss_epoch=7.76e+6]"
     ]
    },
    {
     "name": "stdout",
     "output_type": "stream",
     "text": [
      "\r",
      "Epoch 179/200:  89%|████████▉ | 178/200 [01:59<00:14,  1.49it/s, v_num=1, train_loss_step=8.23e+6, train_loss_epoch=7.76e+6]"
     ]
    },
    {
     "name": "stdout",
     "output_type": "stream",
     "text": [
      "\r",
      "Epoch 179/200:  90%|████████▉ | 179/200 [01:59<00:14,  1.49it/s, v_num=1, train_loss_step=8.23e+6, train_loss_epoch=7.76e+6]"
     ]
    },
    {
     "name": "stdout",
     "output_type": "stream",
     "text": [
      "\r",
      "Epoch 179/200:  90%|████████▉ | 179/200 [01:59<00:14,  1.49it/s, v_num=1, train_loss_step=8.1e+6, train_loss_epoch=7.76e+6] "
     ]
    },
    {
     "name": "stdout",
     "output_type": "stream",
     "text": [
      "\r",
      "Epoch 180/200:  90%|████████▉ | 179/200 [01:59<00:14,  1.49it/s, v_num=1, train_loss_step=8.1e+6, train_loss_epoch=7.76e+6]"
     ]
    },
    {
     "name": "stdout",
     "output_type": "stream",
     "text": [
      "\r",
      "Epoch 180/200:  90%|█████████ | 180/200 [02:00<00:13,  1.49it/s, v_num=1, train_loss_step=8.1e+6, train_loss_epoch=7.76e+6]"
     ]
    },
    {
     "name": "stdout",
     "output_type": "stream",
     "text": [
      "\r",
      "Epoch 180/200:  90%|█████████ | 180/200 [02:00<00:13,  1.49it/s, v_num=1, train_loss_step=7.83e+6, train_loss_epoch=7.76e+6]"
     ]
    },
    {
     "name": "stdout",
     "output_type": "stream",
     "text": [
      "\r",
      "Epoch 181/200:  90%|█████████ | 180/200 [02:00<00:13,  1.49it/s, v_num=1, train_loss_step=7.83e+6, train_loss_epoch=7.76e+6]"
     ]
    },
    {
     "name": "stdout",
     "output_type": "stream",
     "text": [
      "\r",
      "Epoch 181/200:  90%|█████████ | 181/200 [02:01<00:12,  1.49it/s, v_num=1, train_loss_step=7.83e+6, train_loss_epoch=7.76e+6]"
     ]
    },
    {
     "name": "stdout",
     "output_type": "stream",
     "text": [
      "\r",
      "Epoch 181/200:  90%|█████████ | 181/200 [02:01<00:12,  1.49it/s, v_num=1, train_loss_step=7.94e+6, train_loss_epoch=7.76e+6]"
     ]
    },
    {
     "name": "stdout",
     "output_type": "stream",
     "text": [
      "\r",
      "Epoch 182/200:  90%|█████████ | 181/200 [02:01<00:12,  1.49it/s, v_num=1, train_loss_step=7.94e+6, train_loss_epoch=7.76e+6]"
     ]
    },
    {
     "name": "stdout",
     "output_type": "stream",
     "text": [
      "\r",
      "Epoch 182/200:  91%|█████████ | 182/200 [02:01<00:12,  1.49it/s, v_num=1, train_loss_step=7.94e+6, train_loss_epoch=7.76e+6]"
     ]
    },
    {
     "name": "stdout",
     "output_type": "stream",
     "text": [
      "\r",
      "Epoch 182/200:  91%|█████████ | 182/200 [02:01<00:12,  1.49it/s, v_num=1, train_loss_step=7.63e+6, train_loss_epoch=7.76e+6]"
     ]
    },
    {
     "name": "stdout",
     "output_type": "stream",
     "text": [
      "\r",
      "Epoch 183/200:  91%|█████████ | 182/200 [02:01<00:12,  1.49it/s, v_num=1, train_loss_step=7.63e+6, train_loss_epoch=7.76e+6]"
     ]
    },
    {
     "name": "stdout",
     "output_type": "stream",
     "text": [
      "\r",
      "Epoch 183/200:  92%|█████████▏| 183/200 [02:02<00:11,  1.49it/s, v_num=1, train_loss_step=7.63e+6, train_loss_epoch=7.76e+6]"
     ]
    },
    {
     "name": "stdout",
     "output_type": "stream",
     "text": [
      "\r",
      "Epoch 183/200:  92%|█████████▏| 183/200 [02:02<00:11,  1.49it/s, v_num=1, train_loss_step=7.92e+6, train_loss_epoch=7.76e+6]"
     ]
    },
    {
     "name": "stdout",
     "output_type": "stream",
     "text": [
      "\r",
      "Epoch 184/200:  92%|█████████▏| 183/200 [02:02<00:11,  1.49it/s, v_num=1, train_loss_step=7.92e+6, train_loss_epoch=7.76e+6]"
     ]
    },
    {
     "name": "stdout",
     "output_type": "stream",
     "text": [
      "\r",
      "Epoch 184/200:  92%|█████████▏| 184/200 [02:03<00:10,  1.49it/s, v_num=1, train_loss_step=7.92e+6, train_loss_epoch=7.76e+6]"
     ]
    },
    {
     "name": "stdout",
     "output_type": "stream",
     "text": [
      "\r",
      "Epoch 184/200:  92%|█████████▏| 184/200 [02:03<00:10,  1.49it/s, v_num=1, train_loss_step=7.55e+6, train_loss_epoch=7.76e+6]"
     ]
    },
    {
     "name": "stdout",
     "output_type": "stream",
     "text": [
      "\r",
      "Epoch 185/200:  92%|█████████▏| 184/200 [02:03<00:10,  1.49it/s, v_num=1, train_loss_step=7.55e+6, train_loss_epoch=7.76e+6]"
     ]
    },
    {
     "name": "stdout",
     "output_type": "stream",
     "text": [
      "\r",
      "Epoch 185/200:  92%|█████████▎| 185/200 [02:03<00:10,  1.49it/s, v_num=1, train_loss_step=7.55e+6, train_loss_epoch=7.76e+6]"
     ]
    },
    {
     "name": "stdout",
     "output_type": "stream",
     "text": [
      "\r",
      "Epoch 185/200:  92%|█████████▎| 185/200 [02:03<00:10,  1.49it/s, v_num=1, train_loss_step=7.89e+6, train_loss_epoch=7.76e+6]"
     ]
    },
    {
     "name": "stdout",
     "output_type": "stream",
     "text": [
      "\r",
      "Epoch 186/200:  92%|█████████▎| 185/200 [02:03<00:10,  1.49it/s, v_num=1, train_loss_step=7.89e+6, train_loss_epoch=7.76e+6]"
     ]
    },
    {
     "name": "stdout",
     "output_type": "stream",
     "text": [
      "\r",
      "Epoch 186/200:  93%|█████████▎| 186/200 [02:04<00:09,  1.49it/s, v_num=1, train_loss_step=7.89e+6, train_loss_epoch=7.76e+6]"
     ]
    },
    {
     "name": "stdout",
     "output_type": "stream",
     "text": [
      "\r",
      "Epoch 186/200:  93%|█████████▎| 186/200 [02:04<00:09,  1.49it/s, v_num=1, train_loss_step=7.51e+6, train_loss_epoch=7.76e+6]"
     ]
    },
    {
     "name": "stdout",
     "output_type": "stream",
     "text": [
      "\r",
      "Epoch 187/200:  93%|█████████▎| 186/200 [02:04<00:09,  1.49it/s, v_num=1, train_loss_step=7.51e+6, train_loss_epoch=7.76e+6]"
     ]
    },
    {
     "name": "stdout",
     "output_type": "stream",
     "text": [
      "\r",
      "Epoch 187/200:  94%|█████████▎| 187/200 [02:05<00:08,  1.49it/s, v_num=1, train_loss_step=7.51e+6, train_loss_epoch=7.76e+6]"
     ]
    },
    {
     "name": "stdout",
     "output_type": "stream",
     "text": [
      "\r",
      "Epoch 187/200:  94%|█████████▎| 187/200 [02:05<00:08,  1.49it/s, v_num=1, train_loss_step=7.09e+6, train_loss_epoch=7.76e+6]"
     ]
    },
    {
     "name": "stdout",
     "output_type": "stream",
     "text": [
      "\r",
      "Epoch 188/200:  94%|█████████▎| 187/200 [02:05<00:08,  1.49it/s, v_num=1, train_loss_step=7.09e+6, train_loss_epoch=7.76e+6]"
     ]
    },
    {
     "name": "stdout",
     "output_type": "stream",
     "text": [
      "\r",
      "Epoch 188/200:  94%|█████████▍| 188/200 [02:05<00:08,  1.49it/s, v_num=1, train_loss_step=7.09e+6, train_loss_epoch=7.76e+6]"
     ]
    },
    {
     "name": "stdout",
     "output_type": "stream",
     "text": [
      "\r",
      "Epoch 188/200:  94%|█████████▍| 188/200 [02:05<00:08,  1.49it/s, v_num=1, train_loss_step=7.33e+6, train_loss_epoch=7.76e+6]"
     ]
    },
    {
     "name": "stdout",
     "output_type": "stream",
     "text": [
      "\r",
      "Epoch 189/200:  94%|█████████▍| 188/200 [02:05<00:08,  1.49it/s, v_num=1, train_loss_step=7.33e+6, train_loss_epoch=7.76e+6]"
     ]
    },
    {
     "name": "stdout",
     "output_type": "stream",
     "text": [
      "\r",
      "Epoch 189/200:  94%|█████████▍| 189/200 [02:06<00:07,  1.49it/s, v_num=1, train_loss_step=7.33e+6, train_loss_epoch=7.76e+6]"
     ]
    },
    {
     "name": "stdout",
     "output_type": "stream",
     "text": [
      "\r",
      "Epoch 189/200:  94%|█████████▍| 189/200 [02:06<00:07,  1.49it/s, v_num=1, train_loss_step=7.56e+6, train_loss_epoch=7.76e+6]"
     ]
    },
    {
     "name": "stdout",
     "output_type": "stream",
     "text": [
      "\r",
      "Epoch 190/200:  94%|█████████▍| 189/200 [02:06<00:07,  1.49it/s, v_num=1, train_loss_step=7.56e+6, train_loss_epoch=7.76e+6]"
     ]
    },
    {
     "name": "stdout",
     "output_type": "stream",
     "text": [
      "\r",
      "Epoch 190/200:  95%|█████████▌| 190/200 [02:07<00:06,  1.49it/s, v_num=1, train_loss_step=7.56e+6, train_loss_epoch=7.76e+6]"
     ]
    },
    {
     "name": "stdout",
     "output_type": "stream",
     "text": [
      "\r",
      "Epoch 190/200:  95%|█████████▌| 190/200 [02:07<00:06,  1.49it/s, v_num=1, train_loss_step=7.86e+6, train_loss_epoch=7.76e+6]"
     ]
    },
    {
     "name": "stdout",
     "output_type": "stream",
     "text": [
      "\r",
      "Epoch 191/200:  95%|█████████▌| 190/200 [02:07<00:06,  1.49it/s, v_num=1, train_loss_step=7.86e+6, train_loss_epoch=7.76e+6]"
     ]
    },
    {
     "name": "stdout",
     "output_type": "stream",
     "text": [
      "\r",
      "Epoch 191/200:  96%|█████████▌| 191/200 [02:07<00:06,  1.49it/s, v_num=1, train_loss_step=7.86e+6, train_loss_epoch=7.76e+6]"
     ]
    },
    {
     "name": "stdout",
     "output_type": "stream",
     "text": [
      "\r",
      "Epoch 191/200:  96%|█████████▌| 191/200 [02:07<00:06,  1.49it/s, v_num=1, train_loss_step=7.68e+6, train_loss_epoch=7.76e+6]"
     ]
    },
    {
     "name": "stdout",
     "output_type": "stream",
     "text": [
      "\r",
      "Epoch 192/200:  96%|█████████▌| 191/200 [02:07<00:06,  1.49it/s, v_num=1, train_loss_step=7.68e+6, train_loss_epoch=7.76e+6]"
     ]
    },
    {
     "name": "stdout",
     "output_type": "stream",
     "text": [
      "\r",
      "Epoch 192/200:  96%|█████████▌| 192/200 [02:08<00:05,  1.49it/s, v_num=1, train_loss_step=7.68e+6, train_loss_epoch=7.76e+6]"
     ]
    },
    {
     "name": "stdout",
     "output_type": "stream",
     "text": [
      "\r",
      "Epoch 192/200:  96%|█████████▌| 192/200 [02:08<00:05,  1.49it/s, v_num=1, train_loss_step=7.56e+6, train_loss_epoch=7.76e+6]"
     ]
    },
    {
     "name": "stdout",
     "output_type": "stream",
     "text": [
      "\r",
      "Epoch 193/200:  96%|█████████▌| 192/200 [02:08<00:05,  1.49it/s, v_num=1, train_loss_step=7.56e+6, train_loss_epoch=7.76e+6]"
     ]
    },
    {
     "name": "stdout",
     "output_type": "stream",
     "text": [
      "\r",
      "Epoch 193/200:  96%|█████████▋| 193/200 [02:09<00:04,  1.49it/s, v_num=1, train_loss_step=7.56e+6, train_loss_epoch=7.76e+6]"
     ]
    },
    {
     "name": "stdout",
     "output_type": "stream",
     "text": [
      "\r",
      "Epoch 193/200:  96%|█████████▋| 193/200 [02:09<00:04,  1.49it/s, v_num=1, train_loss_step=8.15e+6, train_loss_epoch=7.76e+6]"
     ]
    },
    {
     "name": "stdout",
     "output_type": "stream",
     "text": [
      "\r",
      "Epoch 194/200:  96%|█████████▋| 193/200 [02:09<00:04,  1.49it/s, v_num=1, train_loss_step=8.15e+6, train_loss_epoch=7.76e+6]"
     ]
    },
    {
     "name": "stdout",
     "output_type": "stream",
     "text": [
      "\r",
      "Epoch 194/200:  97%|█████████▋| 194/200 [02:09<00:04,  1.49it/s, v_num=1, train_loss_step=8.15e+6, train_loss_epoch=7.76e+6]"
     ]
    },
    {
     "name": "stdout",
     "output_type": "stream",
     "text": [
      "\r",
      "Epoch 194/200:  97%|█████████▋| 194/200 [02:09<00:04,  1.49it/s, v_num=1, train_loss_step=7.95e+6, train_loss_epoch=7.76e+6]"
     ]
    },
    {
     "name": "stdout",
     "output_type": "stream",
     "text": [
      "\r",
      "Epoch 195/200:  97%|█████████▋| 194/200 [02:09<00:04,  1.49it/s, v_num=1, train_loss_step=7.95e+6, train_loss_epoch=7.76e+6]"
     ]
    },
    {
     "name": "stdout",
     "output_type": "stream",
     "text": [
      "\r",
      "Epoch 195/200:  98%|█████████▊| 195/200 [02:10<00:03,  1.49it/s, v_num=1, train_loss_step=7.95e+6, train_loss_epoch=7.76e+6]"
     ]
    },
    {
     "name": "stdout",
     "output_type": "stream",
     "text": [
      "\r",
      "Epoch 195/200:  98%|█████████▊| 195/200 [02:10<00:03,  1.49it/s, v_num=1, train_loss_step=8.67e+6, train_loss_epoch=7.76e+6]"
     ]
    },
    {
     "name": "stdout",
     "output_type": "stream",
     "text": [
      "\r",
      "Epoch 196/200:  98%|█████████▊| 195/200 [02:10<00:03,  1.49it/s, v_num=1, train_loss_step=8.67e+6, train_loss_epoch=7.76e+6]"
     ]
    },
    {
     "name": "stdout",
     "output_type": "stream",
     "text": [
      "\r",
      "Epoch 196/200:  98%|█████████▊| 196/200 [02:11<00:02,  1.49it/s, v_num=1, train_loss_step=8.67e+6, train_loss_epoch=7.76e+6]"
     ]
    },
    {
     "name": "stdout",
     "output_type": "stream",
     "text": [
      "\r",
      "Epoch 196/200:  98%|█████████▊| 196/200 [02:11<00:02,  1.49it/s, v_num=1, train_loss_step=8.26e+6, train_loss_epoch=7.76e+6]"
     ]
    },
    {
     "name": "stdout",
     "output_type": "stream",
     "text": [
      "\r",
      "Epoch 197/200:  98%|█████████▊| 196/200 [02:11<00:02,  1.49it/s, v_num=1, train_loss_step=8.26e+6, train_loss_epoch=7.76e+6]"
     ]
    },
    {
     "name": "stdout",
     "output_type": "stream",
     "text": [
      "\r",
      "Epoch 197/200:  98%|█████████▊| 197/200 [02:12<00:02,  1.49it/s, v_num=1, train_loss_step=8.26e+6, train_loss_epoch=7.76e+6]"
     ]
    },
    {
     "name": "stdout",
     "output_type": "stream",
     "text": [
      "\r",
      "Epoch 197/200:  98%|█████████▊| 197/200 [02:12<00:02,  1.49it/s, v_num=1, train_loss_step=7.77e+6, train_loss_epoch=7.76e+6]"
     ]
    },
    {
     "name": "stdout",
     "output_type": "stream",
     "text": [
      "\r",
      "Epoch 198/200:  98%|█████████▊| 197/200 [02:12<00:02,  1.49it/s, v_num=1, train_loss_step=7.77e+6, train_loss_epoch=7.76e+6]"
     ]
    },
    {
     "name": "stdout",
     "output_type": "stream",
     "text": [
      "\r",
      "Epoch 198/200:  99%|█████████▉| 198/200 [02:12<00:01,  1.49it/s, v_num=1, train_loss_step=7.77e+6, train_loss_epoch=7.76e+6]"
     ]
    },
    {
     "name": "stdout",
     "output_type": "stream",
     "text": [
      "\r",
      "Epoch 198/200:  99%|█████████▉| 198/200 [02:12<00:01,  1.49it/s, v_num=1, train_loss_step=7.3e+6, train_loss_epoch=7.76e+6] "
     ]
    },
    {
     "name": "stdout",
     "output_type": "stream",
     "text": [
      "\r",
      "Epoch 199/200:  99%|█████████▉| 198/200 [02:12<00:01,  1.49it/s, v_num=1, train_loss_step=7.3e+6, train_loss_epoch=7.76e+6]"
     ]
    },
    {
     "name": "stdout",
     "output_type": "stream",
     "text": [
      "\r",
      "Epoch 199/200: 100%|█████████▉| 199/200 [02:13<00:00,  1.49it/s, v_num=1, train_loss_step=7.3e+6, train_loss_epoch=7.76e+6]"
     ]
    },
    {
     "name": "stdout",
     "output_type": "stream",
     "text": [
      "\r",
      "Epoch 199/200: 100%|█████████▉| 199/200 [02:13<00:00,  1.49it/s, v_num=1, train_loss_step=7.95e+6, train_loss_epoch=7.76e+6]"
     ]
    },
    {
     "name": "stdout",
     "output_type": "stream",
     "text": [
      "\r",
      "Epoch 200/200: 100%|█████████▉| 199/200 [02:13<00:00,  1.49it/s, v_num=1, train_loss_step=7.95e+6, train_loss_epoch=7.76e+6]"
     ]
    },
    {
     "name": "stdout",
     "output_type": "stream",
     "text": [
      "\r",
      "Epoch 200/200: 100%|██████████| 200/200 [02:14<00:00,  1.49it/s, v_num=1, train_loss_step=7.95e+6, train_loss_epoch=7.76e+6]"
     ]
    },
    {
     "name": "stdout",
     "output_type": "stream",
     "text": [
      "\r",
      "Epoch 200/200: 100%|██████████| 200/200 [02:14<00:00,  1.49it/s, v_num=1, train_loss_step=7.65e+6, train_loss_epoch=7.76e+6]"
     ]
    },
    {
     "name": "stderr",
     "output_type": "stream",
     "text": [
      "`Trainer.fit` stopped: `max_epochs=200` reached.\n"
     ]
    },
    {
     "name": "stdout",
     "output_type": "stream",
     "text": [
      "\r",
      "Epoch 200/200: 100%|██████████| 200/200 [02:14<00:00,  1.49it/s, v_num=1, train_loss_step=7.65e+6, train_loss_epoch=7.76e+6]"
     ]
    },
    {
     "name": "stdout",
     "output_type": "stream",
     "text": [
      "\n"
     ]
    }
   ],
   "source": [
    "# Model definition\n",
    "model_genelabel = scvi.model.AUTOZI(adata, dispersion=\"gene-label\", zero_inflation=\"gene-label\")\n",
    "\n",
    "# Training\n",
    "model_genelabel.train(max_epochs=200, plan_kwargs={\"lr\": 1e-2})\n",
    "\n",
    "# Retrieve posterior distribution parameters\n",
    "outputs_genelabel = model_genelabel.get_alphas_betas()\n",
    "alpha_posterior_genelabel = outputs_genelabel[\"alpha_posterior\"]\n",
    "beta_posterior_genelabel = outputs_genelabel[\"beta_posterior\"]"
   ]
  },
  {
   "cell_type": "code",
   "execution_count": 12,
   "metadata": {
    "colab": {
     "base_uri": "https://localhost:8080/",
     "height": 330
    },
    "colab_type": "code",
    "execution": {
     "iopub.execute_input": "2024-02-12T18:03:42.880376Z",
     "iopub.status.busy": "2024-02-12T18:03:42.880235Z",
     "iopub.status.idle": "2024-02-12T18:03:42.886070Z",
     "shell.execute_reply": "2024-02-12T18:03:42.885768Z"
    },
    "id": "1wu__h5lij0v",
    "outputId": "89ef3bd7-ddeb-4264-94f7-b1e41d92ceb6"
   },
   "outputs": [
    {
     "name": "stdout",
     "output_type": "stream",
     "text": [
      "Fraction of predicted ZI genes for cell type B cells : 0.603 \n",
      "\n",
      "Fraction of predicted ZI genes for cell type CD14+ Monocytes : 0.613 \n",
      "\n",
      "Fraction of predicted ZI genes for cell type CD4 T cells : 0.584 \n",
      "\n",
      "Fraction of predicted ZI genes for cell type CD8 T cells : 0.551 \n",
      "\n",
      "Fraction of predicted ZI genes for cell type Dendritic Cells : 0.608 \n",
      "\n",
      "Fraction of predicted ZI genes for cell type FCGR3A+ Monocytes : 0.566 \n",
      "\n",
      "Fraction of predicted ZI genes for cell type Megakaryocytes : 0.599 \n",
      "\n",
      "Fraction of predicted ZI genes for cell type NK cells : 0.51 \n",
      "\n",
      "Fraction of predicted ZI genes for cell type Other : 0.683 \n",
      "\n"
     ]
    }
   ],
   "source": [
    "# q(delta_g < 0.5) probabilities\n",
    "zi_probs_genelabel = beta.cdf(0.5, alpha_posterior_genelabel, beta_posterior_genelabel)\n",
    "\n",
    "# ZI gene-cell-types\n",
    "is_zi_pred_genelabel = zi_probs_genelabel > threshold\n",
    "\n",
    "ct = adata.obs.str_labels.astype(\"category\")\n",
    "codes = np.unique(ct.cat.codes)\n",
    "cats = ct.cat.categories\n",
    "for ind_cell_type, cell_type in zip(codes, cats):\n",
    "    is_zi_pred_genelabel_here = is_zi_pred_genelabel[:, ind_cell_type]\n",
    "    print(\n",
    "        f\"Fraction of predicted ZI genes for cell type {cell_type} :\",\n",
    "        is_zi_pred_genelabel_here.mean(),\n",
    "        \"\\n\",\n",
    "    )"
   ]
  },
  {
   "cell_type": "code",
   "execution_count": 13,
   "metadata": {
    "colab": {
     "base_uri": "https://localhost:8080/",
     "height": 486
    },
    "colab_type": "code",
    "execution": {
     "iopub.execute_input": "2024-02-12T18:03:42.887709Z",
     "iopub.status.busy": "2024-02-12T18:03:42.887442Z",
     "iopub.status.idle": "2024-02-12T18:03:42.907315Z",
     "shell.execute_reply": "2024-02-12T18:03:42.906750Z"
    },
    "id": "ItgDITuBij02",
    "outputId": "f99f45ce-a9fd-4839-c944-80d7c7152443"
   },
   "outputs": [
    {
     "name": "stdout",
     "output_type": "stream",
     "text": [
      "Fraction of genes with avg expression > 1 for cell type B cells : 0.044\n",
      "Fraction of predicted ZI genes with avg expression > 1 for cell type B cells : 0.25 \n",
      "\n",
      "Fraction of genes with avg expression > 1 for cell type CD14+ Monocytes : 0.123\n",
      "Fraction of predicted ZI genes with avg expression > 1 for cell type CD14+ Monocytes : 0.21951219512195122 \n",
      "\n",
      "Fraction of genes with avg expression > 1 for cell type CD4 T cells : 0.066\n",
      "Fraction of predicted ZI genes with avg expression > 1 for cell type CD4 T cells : 0.22727272727272727 \n",
      "\n",
      "Fraction of genes with avg expression > 1 for cell type CD8 T cells : 0.08\n",
      "Fraction of predicted ZI genes with avg expression > 1 for cell type CD8 T cells : 0.275 \n",
      "\n",
      "Fraction of genes with avg expression > 1 for cell type Dendritic Cells : 0.397\n",
      "Fraction of predicted ZI genes with avg expression > 1 for cell type Dendritic Cells : 0.43073047858942065 \n",
      "\n",
      "Fraction of genes with avg expression > 1 for cell type FCGR3A+ Monocytes : 0.234\n",
      "Fraction of predicted ZI genes with avg expression > 1 for cell type FCGR3A+ Monocytes : 0.3247863247863248 \n",
      "\n",
      "Fraction of genes with avg expression > 1 for cell type Megakaryocytes : 0.231\n",
      "Fraction of predicted ZI genes with avg expression > 1 for cell type Megakaryocytes : 0.4155844155844156 \n",
      "\n",
      "Fraction of genes with avg expression > 1 for cell type NK cells : 0.106\n",
      "Fraction of predicted ZI genes with avg expression > 1 for cell type NK cells : 0.2641509433962264 \n",
      "\n",
      "Fraction of genes with avg expression > 1 for cell type Other : 0.21\n",
      "Fraction of predicted ZI genes with avg expression > 1 for cell type Other : 0.4857142857142857 \n",
      "\n"
     ]
    }
   ],
   "source": [
    "# With avg expressions > 1\n",
    "for ind_cell_type, cell_type in zip(codes, cats):\n",
    "    mask_sufficient_expression = (\n",
    "        np.array(adata.X[adata.obs.str_labels.values.reshape(-1) == cell_type, :].mean(axis=0))\n",
    "        > 1.0\n",
    "    ).reshape(-1)\n",
    "    print(\n",
    "        f\"Fraction of genes with avg expression > 1 for cell type {cell_type} :\",\n",
    "        mask_sufficient_expression.mean(),\n",
    "    )\n",
    "    is_zi_pred_genelabel_here = is_zi_pred_genelabel[mask_sufficient_expression, ind_cell_type]\n",
    "    print(\n",
    "        f\"Fraction of predicted ZI genes with avg expression > 1 for cell type {cell_type} :\",\n",
    "        is_zi_pred_genelabel_here.mean(),\n",
    "        \"\\n\",\n",
    "    )"
   ]
  }
 ],
 "metadata": {
  "accelerator": "GPU",
  "colab": {
   "collapsed_sections": [],
   "name": "AutoZI_tutorial.ipynb",
   "provenance": []
  },
  "kernelspec": {
   "display_name": "Python 3",
   "language": "python",
   "name": "python3"
  },
  "language_info": {
   "codemirror_mode": {
    "name": "ipython",
    "version": 3
   },
   "file_extension": ".py",
   "mimetype": "text/x-python",
   "name": "python",
   "nbconvert_exporter": "python",
   "pygments_lexer": "ipython3",
   "version": "3.11.7"
  },
  "widgets": {
   "application/vnd.jupyter.widget-state+json": {
    "086bfdcc78404f66be5ec5233b85067c": {
     "model_module": "@jupyter-widgets/base",
     "model_name": "LayoutModel",
     "state": {
      "_model_module": "@jupyter-widgets/base",
      "_model_module_version": "1.2.0",
      "_model_name": "LayoutModel",
      "_view_count": null,
      "_view_module": "@jupyter-widgets/base",
      "_view_module_version": "1.2.0",
      "_view_name": "LayoutView",
      "align_content": null,
      "align_items": null,
      "align_self": null,
      "border": null,
      "bottom": null,
      "display": null,
      "flex": null,
      "flex_flow": null,
      "grid_area": null,
      "grid_auto_columns": null,
      "grid_auto_flow": null,
      "grid_auto_rows": null,
      "grid_column": null,
      "grid_gap": null,
      "grid_row": null,
      "grid_template_areas": null,
      "grid_template_columns": null,
      "grid_template_rows": null,
      "height": null,
      "justify_content": null,
      "justify_items": null,
      "left": null,
      "margin": null,
      "max_height": null,
      "max_width": null,
      "min_height": null,
      "min_width": null,
      "object_fit": null,
      "object_position": null,
      "order": null,
      "overflow": null,
      "overflow_x": null,
      "overflow_y": null,
      "padding": null,
      "right": null,
      "top": null,
      "visibility": null,
      "width": null
     }
    },
    "4d7ac4d4d06b46f68e47d51f45f3d93a": {
     "model_module": "@jupyter-widgets/output",
     "model_name": "OutputModel",
     "state": {
      "_dom_classes": [],
      "_model_module": "@jupyter-widgets/output",
      "_model_module_version": "1.0.0",
      "_model_name": "OutputModel",
      "_view_count": null,
      "_view_module": "@jupyter-widgets/output",
      "_view_module_version": "1.0.0",
      "_view_name": "OutputView",
      "layout": "IPY_MODEL_086bfdcc78404f66be5ec5233b85067c",
      "msg_id": "",
      "outputs": [
       {
        "metadata": {
         "tags": []
        },
        "output_type": "display_data",
        "text/html": "<pre style=\"white-space:pre;overflow-x:auto;line-height:normal;font-family:Menlo,'DejaVu Sans Mono',consolas,'Courier New',monospace\">Training... <span style=\"color: #729c1f\">━━━━━━━━━━━━━━━━━━━━━━━━━━━━━━━━━━━━━━━━</span> <span style=\"color: #800080\">100%</span> <span style=\"color: #008080\">0:00:00</span>\n</pre>\n",
        "text/plain": "<rich.jupyter.JupyterRenderable at 0x7f5ee986d940>"
       }
      ]
     }
    },
    "a6621ea35c23422da082b161388e265c": {
     "model_module": "@jupyter-widgets/output",
     "model_name": "OutputModel",
     "state": {
      "_dom_classes": [],
      "_model_module": "@jupyter-widgets/output",
      "_model_module_version": "1.0.0",
      "_model_name": "OutputModel",
      "_view_count": null,
      "_view_module": "@jupyter-widgets/output",
      "_view_module_version": "1.0.0",
      "_view_name": "OutputView",
      "layout": "IPY_MODEL_e76db661573a4d5cb20cc1e31c7717f5",
      "msg_id": "",
      "outputs": [
       {
        "metadata": {
         "tags": []
        },
        "output_type": "display_data",
        "text/html": "<pre style=\"white-space:pre;overflow-x:auto;line-height:normal;font-family:Menlo,'DejaVu Sans Mono',consolas,'Courier New',monospace\">Training... <span style=\"color: #729c1f\">━━━━━━━━━━━━━━━━━━━━━━━━━━━━━━━━━━━━━━━━</span> <span style=\"color: #800080\">100%</span> <span style=\"color: #008080\">0:00:00</span>\n</pre>\n",
        "text/plain": "<rich.jupyter.JupyterRenderable at 0x7f5ee98638d0>"
       }
      ]
     }
    },
    "e76db661573a4d5cb20cc1e31c7717f5": {
     "model_module": "@jupyter-widgets/base",
     "model_name": "LayoutModel",
     "state": {
      "_model_module": "@jupyter-widgets/base",
      "_model_module_version": "1.2.0",
      "_model_name": "LayoutModel",
      "_view_count": null,
      "_view_module": "@jupyter-widgets/base",
      "_view_module_version": "1.2.0",
      "_view_name": "LayoutView",
      "align_content": null,
      "align_items": null,
      "align_self": null,
      "border": null,
      "bottom": null,
      "display": null,
      "flex": null,
      "flex_flow": null,
      "grid_area": null,
      "grid_auto_columns": null,
      "grid_auto_flow": null,
      "grid_auto_rows": null,
      "grid_column": null,
      "grid_gap": null,
      "grid_row": null,
      "grid_template_areas": null,
      "grid_template_columns": null,
      "grid_template_rows": null,
      "height": null,
      "justify_content": null,
      "justify_items": null,
      "left": null,
      "margin": null,
      "max_height": null,
      "max_width": null,
      "min_height": null,
      "min_width": null,
      "object_fit": null,
      "object_position": null,
      "order": null,
      "overflow": null,
      "overflow_x": null,
      "overflow_y": null,
      "padding": null,
      "right": null,
      "top": null,
      "visibility": null,
      "width": null
     }
    }
   }
  }
 },
 "nbformat": 4,
 "nbformat_minor": 4
}
