{
 "cells": [
  {
   "attachments": {},
   "cell_type": "markdown",
   "metadata": {
    "colab_type": "text",
    "id": "LQNi8aIsijzk"
   },
   "source": [
    "# Identification of zero-inflated genes"
   ]
  },
  {
   "attachments": {},
   "cell_type": "markdown",
   "metadata": {
    "colab_type": "text",
    "id": "W7cITGhKijzn"
   },
   "source": [
    "AutoZI is a deep generative model adapted from scVI allowing a gene-specific treatment of zero-inflation. For each gene $g$, AutoZI notably learns the distribution of a random variable $\\delta_g$ which denotes the probability that gene $g$ is not zero-inflated. In this notebook, we present the use of the model on a PBMC dataset.\n",
    "\n",
    "More details about AutoZI can be found in : https://www.biorxiv.org/content/10.1101/794875v2"
   ]
  },
  {
   "cell_type": "markdown",
   "metadata": {},
   "source": [
    "```{note}\n",
    "Running the following cell will install tutorial dependencies on Google Colab only. It will have no effect on environments other than Google Colab.\n",
    "```"
   ]
  },
  {
   "cell_type": "code",
   "execution_count": 1,
   "metadata": {
    "execution": {
     "iopub.execute_input": "2023-12-07T01:51:20.631359Z",
     "iopub.status.busy": "2023-12-07T01:51:20.631222Z",
     "iopub.status.idle": "2023-12-07T01:51:20.633648Z",
     "shell.execute_reply": "2023-12-07T01:51:20.633274Z"
    }
   },
   "outputs": [],
   "source": [
    "!pip install --quiet scvi-colab\n",
    "from scvi_colab import install\n",
    "\n",
    "install()"
   ]
  },
  {
   "cell_type": "code",
   "execution_count": 2,
   "metadata": {
    "colab": {
     "base_uri": "https://localhost:8080/",
     "height": 382
    },
    "colab_type": "code",
    "execution": {
     "iopub.execute_input": "2023-12-07T01:51:20.635031Z",
     "iopub.status.busy": "2023-12-07T01:51:20.634931Z",
     "iopub.status.idle": "2023-12-07T01:51:23.521429Z",
     "shell.execute_reply": "2023-12-07T01:51:23.520996Z"
    },
    "id": "kTvfZsr5jBT6",
    "outputId": "ec8f5e92-6210-4b12-8725-6f0d24fab440"
   },
   "outputs": [],
   "source": [
    "import tempfile\n",
    "\n",
    "import numpy as np\n",
    "import scanpy as sc\n",
    "import scvi\n",
    "import seaborn as sns\n",
    "import torch\n",
    "from scipy.stats import beta"
   ]
  },
  {
   "cell_type": "code",
   "execution_count": 3,
   "metadata": {
    "execution": {
     "iopub.execute_input": "2023-12-07T01:51:23.523461Z",
     "iopub.status.busy": "2023-12-07T01:51:23.523103Z",
     "iopub.status.idle": "2023-12-07T01:51:23.526656Z",
     "shell.execute_reply": "2023-12-07T01:51:23.526243Z"
    }
   },
   "outputs": [
    {
     "name": "stderr",
     "output_type": "stream",
     "text": [
      "Seed set to 0\n"
     ]
    },
    {
     "name": "stdout",
     "output_type": "stream",
     "text": [
      "Last run with scvi-tools version: 1.1.0\n"
     ]
    }
   ],
   "source": [
    "scvi.settings.seed = 0\n",
    "print(\"Last run with scvi-tools version:\", scvi.__version__)"
   ]
  },
  {
   "cell_type": "markdown",
   "metadata": {},
   "source": [
    "```{note}\n",
    "You can modify `save_dir` below to change where the data files for this tutorial are saved.\n",
    "```"
   ]
  },
  {
   "cell_type": "code",
   "execution_count": 4,
   "metadata": {
    "execution": {
     "iopub.execute_input": "2023-12-07T01:51:23.545518Z",
     "iopub.status.busy": "2023-12-07T01:51:23.545223Z",
     "iopub.status.idle": "2023-12-07T01:51:23.547608Z",
     "shell.execute_reply": "2023-12-07T01:51:23.547270Z"
    }
   },
   "outputs": [],
   "source": [
    "sc.set_figure_params(figsize=(6, 6), frameon=False)\n",
    "sns.set_theme()\n",
    "torch.set_float32_matmul_precision(\"high\")\n",
    "save_dir = tempfile.TemporaryDirectory()\n",
    "\n",
    "%config InlineBackend.print_figure_kwargs={\"facecolor\": \"w\"}\n",
    "%config InlineBackend.figure_format=\"retina\""
   ]
  },
  {
   "attachments": {},
   "cell_type": "markdown",
   "metadata": {
    "colab_type": "text",
    "id": "mC-uVd3zijz7"
   },
   "source": [
    "## Imports, data loading and preparation"
   ]
  },
  {
   "cell_type": "code",
   "execution_count": 5,
   "metadata": {
    "colab": {
     "base_uri": "https://localhost:8080/",
     "height": 330
    },
    "colab_type": "code",
    "execution": {
     "iopub.execute_input": "2023-12-07T01:51:23.549101Z",
     "iopub.status.busy": "2023-12-07T01:51:23.548907Z",
     "iopub.status.idle": "2023-12-07T01:51:42.194312Z",
     "shell.execute_reply": "2023-12-07T01:51:42.193871Z"
    },
    "id": "j27g4M4Uij0F",
    "outputId": "3af26218-d43a-437a-c5e4-a35ec5093177"
   },
   "outputs": [
    {
     "name": "stdout",
     "output_type": "stream",
     "text": [
      "\u001b[34mINFO    \u001b[0m Downloading file at \u001b[35m/tmp/tmpe49nu9kn/\u001b[0m\u001b[95mgene_info_pbmc.csv\u001b[0m                                                   \n",
      "Downloading...: 909it [00:00, 22555.49it/s]              \n",
      "\u001b[34mINFO    \u001b[0m Downloading file at \u001b[35m/tmp/tmpe49nu9kn/\u001b[0m\u001b[95mpbmc_metadata.pickle\u001b[0m                                                 \n",
      "Downloading...: 4001it [00:00, 50533.63it/s]              \n",
      "\u001b[34mINFO    \u001b[0m Downloading file at \u001b[35m/tmp/tmpe49nu9kn/pbmc8k/\u001b[0m\u001b[95mfiltered_gene_bc_matrices.tar.gz\u001b[0m                              \n",
      "Downloading...: 37559it [00:00, 83630.33it/s]                             \n",
      "\u001b[34mINFO    \u001b[0m Extracting tar file                                                                                       \n",
      "\u001b[34mINFO    \u001b[0m Removing extracted data at \u001b[35m/tmp/tmpe49nu9kn/pbmc8k/\u001b[0m\u001b[95mfiltered_gene_bc_matrices\u001b[0m                              \n",
      "\u001b[34mINFO    \u001b[0m Downloading file at \u001b[35m/tmp/tmpe49nu9kn/pbmc4k/\u001b[0m\u001b[95mfiltered_gene_bc_matrices.tar.gz\u001b[0m                              \n",
      "Downloading...: 100%|██████████| 18424/18424.0 [00:00<00:00, 110778.32it/s]\n",
      "\u001b[34mINFO    \u001b[0m Extracting tar file                                                                                       \n",
      "\u001b[34mINFO    \u001b[0m Removing extracted data at \u001b[35m/tmp/tmpe49nu9kn/pbmc4k/\u001b[0m\u001b[95mfiltered_gene_bc_matrices\u001b[0m                              \n"
     ]
    },
    {
     "name": "stderr",
     "output_type": "stream",
     "text": [
      "/env/lib/python3.11/site-packages/scvi/data/_built_in_data/_pbmc.py:75: FutureWarning: Use anndata.concat instead of AnnData.concatenate, AnnData.concatenate is deprecated and will be removed in the future. See the tutorial for concat at: https://anndata.readthedocs.io/en/latest/concatenation.html\n",
      "  adata = pbmc8k.concatenate(pbmc4k)\n",
      "<frozen abc>:119: FutureWarning: SparseDataset is deprecated and will be removed in late 2024. It has been replaced by the public classes CSRDataset and CSCDataset.\n",
      "\n",
      "For instance checks, use `isinstance(X, (anndata.experimental.CSRDataset, anndata.experimental.CSCDataset))` instead.\n",
      "\n",
      "For creation, use `anndata.experimental.sparse_dataset(X)` instead.\n",
      "\n"
     ]
    },
    {
     "name": "stdout",
     "output_type": "stream",
     "text": [
      "Sampling from binomial...: 100%|██████████| 10000/10000 [00:00<00:00, 17626.89it/s]\n",
      "Sampling from binomial...: 100%|██████████| 10000/10000 [00:00<00:00, 18392.36it/s]\n"
     ]
    }
   ],
   "source": [
    "adata = scvi.data.pbmc_dataset(save_path=save_dir.name)\n",
    "adata.layers[\"counts\"] = adata.X.copy()\n",
    "scvi.data.poisson_gene_selection(\n",
    "    adata,\n",
    "    n_top_genes=1000,\n",
    "    batch_key=\"batch\",\n",
    "    subset=True,\n",
    "    layer=\"counts\",\n",
    ")\n",
    "scvi.model.AUTOZI.setup_anndata(\n",
    "    adata,\n",
    "    labels_key=\"str_labels\",\n",
    "    batch_key=\"batch\",\n",
    "    layer=\"counts\",\n",
    ")"
   ]
  },
  {
   "attachments": {},
   "cell_type": "markdown",
   "metadata": {
    "colab_type": "text",
    "id": "cYPYNAwRij0M"
   },
   "source": [
    "## Analyze gene-specific ZI"
   ]
  },
  {
   "attachments": {},
   "cell_type": "markdown",
   "metadata": {
    "colab_type": "text",
    "id": "6ovhk47Oij0N"
   },
   "source": [
    "In AutoZI, all $\\delta_g$'s follow a common $\\text{Beta}(\\alpha,\\beta)$ prior distribution where $\\alpha,\\beta \\in (0,1)$ and the zero-inflation probability in the ZINB component is bounded below by $\\tau_{\\text{dropout}} \\in (0,1)$. AutoZI is encoded by the `AutoZIVAE` class whose inputs, besides the size of the dataset, are $\\alpha$ (`alpha_prior`), $\\beta$ (`beta_prior`), $\\tau_{\\text{dropout}}$ (`minimal_dropout`). By default, we set $\\alpha = 0.5, \\beta = 0.5, \\tau_{\\text{dropout}} = 0.01$.\n",
    "\n",
    "Note : we can learn $\\alpha,\\beta$ in an Empirical Bayes fashion, which is possible by setting `alpha_prior = None` and `beta_prior = None`"
   ]
  },
  {
   "cell_type": "code",
   "execution_count": 6,
   "metadata": {
    "colab": {},
    "colab_type": "code",
    "execution": {
     "iopub.execute_input": "2023-12-07T01:51:42.195994Z",
     "iopub.status.busy": "2023-12-07T01:51:42.195874Z",
     "iopub.status.idle": "2023-12-07T01:51:42.206819Z",
     "shell.execute_reply": "2023-12-07T01:51:42.206408Z"
    },
    "id": "khMZvSw5ij0O"
   },
   "outputs": [],
   "source": [
    "model = scvi.model.AUTOZI(adata)"
   ]
  },
  {
   "attachments": {},
   "cell_type": "markdown",
   "metadata": {
    "colab_type": "text",
    "id": "HXOSTMrLij0V"
   },
   "source": [
    "We fit, for each gene $g$, an approximate posterior distribution $q(\\delta_g) = \\text{Beta}(\\alpha^g,\\beta^g)$ (with $\\alpha^g,\\beta^g \\in (0,1)$) on which we rely. We retrieve $\\alpha^g,\\beta^g$ for all genes $g$ (and $\\alpha,\\beta$, if learned) as numpy arrays using the method `get_alphas_betas` of `AutoZIVAE`."
   ]
  },
  {
   "cell_type": "code",
   "execution_count": 7,
   "metadata": {
    "colab": {
     "base_uri": "https://localhost:8080/",
     "height": 173,
     "referenced_widgets": [
      "4d7ac4d4d06b46f68e47d51f45f3d93a",
      "086bfdcc78404f66be5ec5233b85067c"
     ]
    },
    "colab_type": "code",
    "execution": {
     "iopub.execute_input": "2023-12-07T01:51:42.208316Z",
     "iopub.status.busy": "2023-12-07T01:51:42.208126Z",
     "iopub.status.idle": "2023-12-07T01:53:50.194408Z",
     "shell.execute_reply": "2023-12-07T01:53:50.194003Z"
    },
    "id": "__RPOTF2ij0W",
    "outputId": "3c17fcfb-f5fc-40e3-f13b-b88d953ec6b1"
   },
   "outputs": [
    {
     "name": "stderr",
     "output_type": "stream",
     "text": [
      "GPU available: True (cuda), used: True\n",
      "TPU available: False, using: 0 TPU cores\n",
      "IPU available: False, using: 0 IPUs\n",
      "HPU available: False, using: 0 HPUs\n",
      "LOCAL_RANK: 0 - CUDA_VISIBLE_DEVICES: [0]\n",
      "/env/lib/python3.11/site-packages/lightning/pytorch/trainer/connectors/data_connector.py:441: The 'train_dataloader' does not have many workers which may be a bottleneck. Consider increasing the value of the `num_workers` argument` to `num_workers=19` in the `DataLoader` to improve performance.\n"
     ]
    },
    {
     "name": "stdout",
     "output_type": "stream",
     "text": [
      "Epoch 200/200: 100%|██████████| 200/200 [02:07<00:00,  1.58it/s, v_num=1, train_loss_step=7.22e+6, train_loss_epoch=7.76e+6]"
     ]
    },
    {
     "name": "stderr",
     "output_type": "stream",
     "text": [
      "`Trainer.fit` stopped: `max_epochs=200` reached.\n"
     ]
    },
    {
     "name": "stdout",
     "output_type": "stream",
     "text": [
      "Epoch 200/200: 100%|██████████| 200/200 [02:07<00:00,  1.56it/s, v_num=1, train_loss_step=7.22e+6, train_loss_epoch=7.76e+6]\n"
     ]
    }
   ],
   "source": [
    "model.train(max_epochs=200, plan_kwargs={\"lr\": 1e-2})"
   ]
  },
  {
   "cell_type": "code",
   "execution_count": 8,
   "metadata": {
    "colab": {},
    "colab_type": "code",
    "execution": {
     "iopub.execute_input": "2023-12-07T01:53:50.195958Z",
     "iopub.status.busy": "2023-12-07T01:53:50.195812Z",
     "iopub.status.idle": "2023-12-07T01:53:50.198083Z",
     "shell.execute_reply": "2023-12-07T01:53:50.197811Z"
    },
    "id": "B-lEw2IWij0a"
   },
   "outputs": [],
   "source": [
    "outputs = model.get_alphas_betas()\n",
    "alpha_posterior = outputs[\"alpha_posterior\"]\n",
    "beta_posterior = outputs[\"beta_posterior\"]"
   ]
  },
  {
   "attachments": {},
   "cell_type": "markdown",
   "metadata": {
    "colab_type": "text",
    "id": "BXrym0Cgij0e"
   },
   "source": [
    "Now that we obtained fitted $\\alpha^g,\\beta^g$, different metrics are possible. Bayesian decision theory suggests us the posterior probability of the zero-inflation hypothesis $q(\\delta_g < 0.5)$, but also other metrics such as the mean wrt $q$ of $\\delta_g$ are possible. We focus on the former. We decide that gene $g$ is ZI if and only if $q(\\delta_g < 0.5)$ is greater than a given threshold, say $0.5$. We may note that it is equivalent to $\\alpha^g < \\beta^g$. From this we can deduce the fraction of predicted ZI genes in the dataset."
   ]
  },
  {
   "cell_type": "code",
   "execution_count": 9,
   "metadata": {
    "colab": {
     "base_uri": "https://localhost:8080/",
     "height": 34
    },
    "colab_type": "code",
    "execution": {
     "iopub.execute_input": "2023-12-07T01:53:50.199552Z",
     "iopub.status.busy": "2023-12-07T01:53:50.199366Z",
     "iopub.status.idle": "2023-12-07T01:53:50.201921Z",
     "shell.execute_reply": "2023-12-07T01:53:50.201627Z"
    },
    "id": "h2kXAcZLij0e",
    "outputId": "ea7f42b6-49f7-448b-cbaa-0b1b0bf5d9b7"
   },
   "outputs": [
    {
     "name": "stdout",
     "output_type": "stream",
     "text": [
      "Fraction of predicted ZI genes : 0.843\n"
     ]
    }
   ],
   "source": [
    "# Threshold (or Kzinb/Knb+Kzinb in paper)\n",
    "threshold = 0.5\n",
    "\n",
    "# q(delta_g < 0.5) probabilities\n",
    "zi_probs = beta.cdf(0.5, alpha_posterior, beta_posterior)\n",
    "\n",
    "# ZI genes\n",
    "is_zi_pred = zi_probs > threshold\n",
    "\n",
    "print(\"Fraction of predicted ZI genes :\", is_zi_pred.mean())"
   ]
  },
  {
   "attachments": {},
   "cell_type": "markdown",
   "metadata": {
    "colab_type": "text",
    "id": "Ps5oykK0ij0k"
   },
   "source": [
    "We noted that predictions were less accurate for genes $g$ whose average expressions - or predicted NB means, equivalently - were low. Indeed, genes assumed not to be ZI were more often predicted as ZI for such low average expressions. A threshold of 1 proved reasonable to separate genes predicted with more or less accuracy. Hence we may want to focus on predictions for genes with average expression above 1."
   ]
  },
  {
   "cell_type": "code",
   "execution_count": 10,
   "metadata": {
    "colab": {
     "base_uri": "https://localhost:8080/",
     "height": 52
    },
    "colab_type": "code",
    "execution": {
     "iopub.execute_input": "2023-12-07T01:53:50.203407Z",
     "iopub.status.busy": "2023-12-07T01:53:50.203222Z",
     "iopub.status.idle": "2023-12-07T01:53:50.216687Z",
     "shell.execute_reply": "2023-12-07T01:53:50.216319Z"
    },
    "id": "6AFreZzjij0l",
    "outputId": "302b439d-028f-4264-e9c7-04ca6c194ba7"
   },
   "outputs": [
    {
     "name": "stdout",
     "output_type": "stream",
     "text": [
      "Fraction of genes with avg expression > 1 : 0.104\n",
      "Fraction of predicted ZI genes with avg expression > 1 : 0.49038461538461536\n"
     ]
    }
   ],
   "source": [
    "mask_sufficient_expression = (np.array(adata.X.mean(axis=0)) > 1.0).reshape(-1)\n",
    "print(\"Fraction of genes with avg expression > 1 :\", mask_sufficient_expression.mean())\n",
    "print(\n",
    "    \"Fraction of predicted ZI genes with avg expression > 1 :\",\n",
    "    is_zi_pred[mask_sufficient_expression].mean(),\n",
    ")"
   ]
  },
  {
   "attachments": {},
   "cell_type": "markdown",
   "metadata": {
    "colab_type": "text",
    "id": "B1V3X_GSij0p"
   },
   "source": [
    "## Analyze gene-cell-type-specific ZI"
   ]
  },
  {
   "attachments": {},
   "cell_type": "markdown",
   "metadata": {
    "colab_type": "text",
    "id": "uUmJ6hStij0q"
   },
   "source": [
    "One may argue that zero-inflation should also be treated on the cell-type (or 'label') level, in addition to the gene level. AutoZI can be extended by assuming a random variable $\\delta_{gc}$ for each gene $g$ and cell type $c$ which denotes the probability that gene $g$ is not zero-inflated in cell-type $c$. The analysis above can be extended to this new scale."
   ]
  },
  {
   "cell_type": "code",
   "execution_count": 11,
   "metadata": {
    "colab": {
     "base_uri": "https://localhost:8080/",
     "height": 173,
     "referenced_widgets": [
      "a6621ea35c23422da082b161388e265c",
      "e76db661573a4d5cb20cc1e31c7717f5"
     ]
    },
    "colab_type": "code",
    "execution": {
     "iopub.execute_input": "2023-12-07T01:53:50.218363Z",
     "iopub.status.busy": "2023-12-07T01:53:50.218142Z",
     "iopub.status.idle": "2023-12-07T01:55:56.338604Z",
     "shell.execute_reply": "2023-12-07T01:55:56.338195Z"
    },
    "id": "1pr5WP_Eij0q",
    "outputId": "5ca84813-93f1-4fd2-d1da-1b5d5e7402bb"
   },
   "outputs": [
    {
     "name": "stderr",
     "output_type": "stream",
     "text": [
      "GPU available: True (cuda), used: True\n",
      "TPU available: False, using: 0 TPU cores\n",
      "IPU available: False, using: 0 IPUs\n",
      "HPU available: False, using: 0 HPUs\n",
      "LOCAL_RANK: 0 - CUDA_VISIBLE_DEVICES: [0]\n",
      "/env/lib/python3.11/site-packages/lightning/pytorch/trainer/connectors/data_connector.py:441: The 'train_dataloader' does not have many workers which may be a bottleneck. Consider increasing the value of the `num_workers` argument` to `num_workers=19` in the `DataLoader` to improve performance.\n"
     ]
    },
    {
     "name": "stdout",
     "output_type": "stream",
     "text": [
      "Epoch 200/200: 100%|██████████| 200/200 [02:06<00:00,  1.55it/s, v_num=1, train_loss_step=7.65e+6, train_loss_epoch=7.76e+6]"
     ]
    },
    {
     "name": "stderr",
     "output_type": "stream",
     "text": [
      "`Trainer.fit` stopped: `max_epochs=200` reached.\n"
     ]
    },
    {
     "name": "stdout",
     "output_type": "stream",
     "text": [
      "Epoch 200/200: 100%|██████████| 200/200 [02:06<00:00,  1.59it/s, v_num=1, train_loss_step=7.65e+6, train_loss_epoch=7.76e+6]\n"
     ]
    }
   ],
   "source": [
    "# Model definition\n",
    "model_genelabel = scvi.model.AUTOZI(\n",
    "    adata, dispersion=\"gene-label\", zero_inflation=\"gene-label\"\n",
    ")\n",
    "\n",
    "# Training\n",
    "model_genelabel.train(max_epochs=200, plan_kwargs={\"lr\": 1e-2})\n",
    "\n",
    "# Retrieve posterior distribution parameters\n",
    "outputs_genelabel = model_genelabel.get_alphas_betas()\n",
    "alpha_posterior_genelabel = outputs_genelabel[\"alpha_posterior\"]\n",
    "beta_posterior_genelabel = outputs_genelabel[\"beta_posterior\"]"
   ]
  },
  {
   "cell_type": "code",
   "execution_count": 12,
   "metadata": {
    "colab": {
     "base_uri": "https://localhost:8080/",
     "height": 330
    },
    "colab_type": "code",
    "execution": {
     "iopub.execute_input": "2023-12-07T01:55:56.340222Z",
     "iopub.status.busy": "2023-12-07T01:55:56.340052Z",
     "iopub.status.idle": "2023-12-07T01:55:56.345443Z",
     "shell.execute_reply": "2023-12-07T01:55:56.345178Z"
    },
    "id": "1wu__h5lij0v",
    "outputId": "89ef3bd7-ddeb-4264-94f7-b1e41d92ceb6"
   },
   "outputs": [
    {
     "name": "stdout",
     "output_type": "stream",
     "text": [
      "Fraction of predicted ZI genes for cell type B cells : 0.603 \n",
      "\n",
      "Fraction of predicted ZI genes for cell type CD14+ Monocytes : 0.613 \n",
      "\n",
      "Fraction of predicted ZI genes for cell type CD4 T cells : 0.584 \n",
      "\n",
      "Fraction of predicted ZI genes for cell type CD8 T cells : 0.551 \n",
      "\n",
      "Fraction of predicted ZI genes for cell type Dendritic Cells : 0.608 \n",
      "\n",
      "Fraction of predicted ZI genes for cell type FCGR3A+ Monocytes : 0.566 \n",
      "\n",
      "Fraction of predicted ZI genes for cell type Megakaryocytes : 0.599 \n",
      "\n",
      "Fraction of predicted ZI genes for cell type NK cells : 0.51 \n",
      "\n",
      "Fraction of predicted ZI genes for cell type Other : 0.683 \n",
      "\n"
     ]
    }
   ],
   "source": [
    "# q(delta_g < 0.5) probabilities\n",
    "zi_probs_genelabel = beta.cdf(0.5, alpha_posterior_genelabel, beta_posterior_genelabel)\n",
    "\n",
    "# ZI gene-cell-types\n",
    "is_zi_pred_genelabel = zi_probs_genelabel > threshold\n",
    "\n",
    "ct = adata.obs.str_labels.astype(\"category\")\n",
    "codes = np.unique(ct.cat.codes)\n",
    "cats = ct.cat.categories\n",
    "for ind_cell_type, cell_type in zip(codes, cats):\n",
    "    is_zi_pred_genelabel_here = is_zi_pred_genelabel[:, ind_cell_type]\n",
    "    print(\n",
    "        f\"Fraction of predicted ZI genes for cell type {cell_type} :\",\n",
    "        is_zi_pred_genelabel_here.mean(),\n",
    "        \"\\n\",\n",
    "    )"
   ]
  },
  {
   "cell_type": "code",
   "execution_count": 13,
   "metadata": {
    "colab": {
     "base_uri": "https://localhost:8080/",
     "height": 486
    },
    "colab_type": "code",
    "execution": {
     "iopub.execute_input": "2023-12-07T01:55:56.347002Z",
     "iopub.status.busy": "2023-12-07T01:55:56.346755Z",
     "iopub.status.idle": "2023-12-07T01:55:56.361959Z",
     "shell.execute_reply": "2023-12-07T01:55:56.361540Z"
    },
    "id": "ItgDITuBij02",
    "outputId": "f99f45ce-a9fd-4839-c944-80d7c7152443"
   },
   "outputs": [
    {
     "name": "stdout",
     "output_type": "stream",
     "text": [
      "Fraction of genes with avg expression > 1 for cell type B cells : 0.044\n",
      "Fraction of predicted ZI genes with avg expression > 1 for cell type B cells : 0.25 \n",
      "\n",
      "Fraction of genes with avg expression > 1 for cell type CD14+ Monocytes : 0.123\n",
      "Fraction of predicted ZI genes with avg expression > 1 for cell type CD14+ Monocytes : 0.21951219512195122 \n",
      "\n",
      "Fraction of genes with avg expression > 1 for cell type CD4 T cells : 0.066\n",
      "Fraction of predicted ZI genes with avg expression > 1 for cell type CD4 T cells : 0.22727272727272727 \n",
      "\n",
      "Fraction of genes with avg expression > 1 for cell type CD8 T cells : 0.08\n",
      "Fraction of predicted ZI genes with avg expression > 1 for cell type CD8 T cells : 0.275 \n",
      "\n",
      "Fraction of genes with avg expression > 1 for cell type Dendritic Cells : 0.397\n",
      "Fraction of predicted ZI genes with avg expression > 1 for cell type Dendritic Cells : 0.43073047858942065 \n",
      "\n",
      "Fraction of genes with avg expression > 1 for cell type FCGR3A+ Monocytes : 0.234\n",
      "Fraction of predicted ZI genes with avg expression > 1 for cell type FCGR3A+ Monocytes : 0.3247863247863248 \n",
      "\n",
      "Fraction of genes with avg expression > 1 for cell type Megakaryocytes : 0.231\n",
      "Fraction of predicted ZI genes with avg expression > 1 for cell type Megakaryocytes : 0.4155844155844156 \n",
      "\n",
      "Fraction of genes with avg expression > 1 for cell type NK cells : 0.106\n",
      "Fraction of predicted ZI genes with avg expression > 1 for cell type NK cells : 0.2641509433962264 \n",
      "\n",
      "Fraction of genes with avg expression > 1 for cell type Other : 0.21\n",
      "Fraction of predicted ZI genes with avg expression > 1 for cell type Other : 0.4857142857142857 \n",
      "\n"
     ]
    }
   ],
   "source": [
    "# With avg expressions > 1\n",
    "for ind_cell_type, cell_type in zip(codes, cats):\n",
    "    mask_sufficient_expression = (\n",
    "        np.array(\n",
    "            adata.X[adata.obs.str_labels.values.reshape(-1) == cell_type, :].mean(\n",
    "                axis=0\n",
    "            )\n",
    "        )\n",
    "        > 1.0\n",
    "    ).reshape(-1)\n",
    "    print(\n",
    "        f\"Fraction of genes with avg expression > 1 for cell type {cell_type} :\",\n",
    "        mask_sufficient_expression.mean(),\n",
    "    )\n",
    "    is_zi_pred_genelabel_here = is_zi_pred_genelabel[\n",
    "        mask_sufficient_expression, ind_cell_type\n",
    "    ]\n",
    "    print(\n",
    "        f\"Fraction of predicted ZI genes with avg expression > 1 for cell type {cell_type} :\",\n",
    "        is_zi_pred_genelabel_here.mean(),\n",
    "        \"\\n\",\n",
    "    )"
   ]
  }
 ],
 "metadata": {
  "accelerator": "GPU",
  "colab": {
   "collapsed_sections": [],
   "name": "AutoZI_tutorial.ipynb",
   "provenance": []
  },
  "kernelspec": {
   "display_name": "Python 3",
   "language": "python",
   "name": "python3"
  },
  "language_info": {
   "codemirror_mode": {
    "name": "ipython",
    "version": 3
   },
   "file_extension": ".py",
   "mimetype": "text/x-python",
   "name": "python",
   "nbconvert_exporter": "python",
   "pygments_lexer": "ipython3",
   "version": "3.11.6"
  },
  "widgets": {
   "application/vnd.jupyter.widget-state+json": {
    "086bfdcc78404f66be5ec5233b85067c": {
     "model_module": "@jupyter-widgets/base",
     "model_name": "LayoutModel",
     "state": {
      "_model_module": "@jupyter-widgets/base",
      "_model_module_version": "1.2.0",
      "_model_name": "LayoutModel",
      "_view_count": null,
      "_view_module": "@jupyter-widgets/base",
      "_view_module_version": "1.2.0",
      "_view_name": "LayoutView",
      "align_content": null,
      "align_items": null,
      "align_self": null,
      "border": null,
      "bottom": null,
      "display": null,
      "flex": null,
      "flex_flow": null,
      "grid_area": null,
      "grid_auto_columns": null,
      "grid_auto_flow": null,
      "grid_auto_rows": null,
      "grid_column": null,
      "grid_gap": null,
      "grid_row": null,
      "grid_template_areas": null,
      "grid_template_columns": null,
      "grid_template_rows": null,
      "height": null,
      "justify_content": null,
      "justify_items": null,
      "left": null,
      "margin": null,
      "max_height": null,
      "max_width": null,
      "min_height": null,
      "min_width": null,
      "object_fit": null,
      "object_position": null,
      "order": null,
      "overflow": null,
      "overflow_x": null,
      "overflow_y": null,
      "padding": null,
      "right": null,
      "top": null,
      "visibility": null,
      "width": null
     }
    },
    "4d7ac4d4d06b46f68e47d51f45f3d93a": {
     "model_module": "@jupyter-widgets/output",
     "model_name": "OutputModel",
     "state": {
      "_dom_classes": [],
      "_model_module": "@jupyter-widgets/output",
      "_model_module_version": "1.0.0",
      "_model_name": "OutputModel",
      "_view_count": null,
      "_view_module": "@jupyter-widgets/output",
      "_view_module_version": "1.0.0",
      "_view_name": "OutputView",
      "layout": "IPY_MODEL_086bfdcc78404f66be5ec5233b85067c",
      "msg_id": "",
      "outputs": [
       {
        "metadata": {
         "tags": []
        },
        "output_type": "display_data",
        "text/html": "<pre style=\"white-space:pre;overflow-x:auto;line-height:normal;font-family:Menlo,'DejaVu Sans Mono',consolas,'Courier New',monospace\">Training... <span style=\"color: #729c1f\">━━━━━━━━━━━━━━━━━━━━━━━━━━━━━━━━━━━━━━━━</span> <span style=\"color: #800080\">100%</span> <span style=\"color: #008080\">0:00:00</span>\n</pre>\n",
        "text/plain": "<rich.jupyter.JupyterRenderable at 0x7f5ee986d940>"
       }
      ]
     }
    },
    "a6621ea35c23422da082b161388e265c": {
     "model_module": "@jupyter-widgets/output",
     "model_name": "OutputModel",
     "state": {
      "_dom_classes": [],
      "_model_module": "@jupyter-widgets/output",
      "_model_module_version": "1.0.0",
      "_model_name": "OutputModel",
      "_view_count": null,
      "_view_module": "@jupyter-widgets/output",
      "_view_module_version": "1.0.0",
      "_view_name": "OutputView",
      "layout": "IPY_MODEL_e76db661573a4d5cb20cc1e31c7717f5",
      "msg_id": "",
      "outputs": [
       {
        "metadata": {
         "tags": []
        },
        "output_type": "display_data",
        "text/html": "<pre style=\"white-space:pre;overflow-x:auto;line-height:normal;font-family:Menlo,'DejaVu Sans Mono',consolas,'Courier New',monospace\">Training... <span style=\"color: #729c1f\">━━━━━━━━━━━━━━━━━━━━━━━━━━━━━━━━━━━━━━━━</span> <span style=\"color: #800080\">100%</span> <span style=\"color: #008080\">0:00:00</span>\n</pre>\n",
        "text/plain": "<rich.jupyter.JupyterRenderable at 0x7f5ee98638d0>"
       }
      ]
     }
    },
    "e76db661573a4d5cb20cc1e31c7717f5": {
     "model_module": "@jupyter-widgets/base",
     "model_name": "LayoutModel",
     "state": {
      "_model_module": "@jupyter-widgets/base",
      "_model_module_version": "1.2.0",
      "_model_name": "LayoutModel",
      "_view_count": null,
      "_view_module": "@jupyter-widgets/base",
      "_view_module_version": "1.2.0",
      "_view_name": "LayoutView",
      "align_content": null,
      "align_items": null,
      "align_self": null,
      "border": null,
      "bottom": null,
      "display": null,
      "flex": null,
      "flex_flow": null,
      "grid_area": null,
      "grid_auto_columns": null,
      "grid_auto_flow": null,
      "grid_auto_rows": null,
      "grid_column": null,
      "grid_gap": null,
      "grid_row": null,
      "grid_template_areas": null,
      "grid_template_columns": null,
      "grid_template_rows": null,
      "height": null,
      "justify_content": null,
      "justify_items": null,
      "left": null,
      "margin": null,
      "max_height": null,
      "max_width": null,
      "min_height": null,
      "min_width": null,
      "object_fit": null,
      "object_position": null,
      "order": null,
      "overflow": null,
      "overflow_x": null,
      "overflow_y": null,
      "padding": null,
      "right": null,
      "top": null,
      "visibility": null,
      "width": null
     }
    }
   }
  }
 },
 "nbformat": 4,
 "nbformat_minor": 4
}
