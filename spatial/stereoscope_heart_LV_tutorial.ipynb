{
 "cells": [
  {
   "cell_type": "markdown",
   "metadata": {},
   "source": [
    "# Stereoscope applied to left ventricule data"
   ]
  },
  {
   "cell_type": "markdown",
   "metadata": {
    "id": "4NyQRQqaeAli"
   },
   "source": [
    "- Developed by Carlos Talavera-López Ph.D, WSI, edited by Romain Lopez\n",
    "- Version: 210301\n",
    "\n",
    "In this notebook, we present the workflow to run Stereoscope within the scvi-tools codebase. We map the adult heart cell atlas data from [Litviňuková et al (2020)](https://www.nature.com/articles/s41586-020-2797-4). This experiment takes around one hour to run on Colab.\n",
    "\n",
    "You can access the raw count matrices as 'anndata' objects at www.heartcellatlas.org."
   ]
  },
  {
   "cell_type": "markdown",
   "metadata": {},
   "source": [
    "Uncomment the following lines in Google Colab in order to install `scvi-tools`:"
   ]
  },
  {
   "cell_type": "code",
   "execution_count": null,
   "metadata": {},
   "outputs": [],
   "source": [
    "# !pip install --quiet scvi-colab\n",
    "# from scvi_colab import install\n",
    "\n",
    "# install()"
   ]
  },
  {
   "cell_type": "code",
   "execution_count": null,
   "metadata": {
    "colab": {
     "base_uri": "https://localhost:8080/"
    },
    "id": "RkgE8VByd2zo",
    "outputId": "5d9c802a-ce00-4233-bfe2-2ec2b68b78db"
   },
   "outputs": [],
   "source": [
    "import os\n",
    "import tempfile\n",
    "import warnings\n",
    "\n",
    "import matplotlib.pyplot as plt\n",
    "import numpy as np\n",
    "import scanpy as sc\n",
    "import scvi\n",
    "import seaborn as sns\n",
    "import torch\n",
    "from scvi.external import RNAStereoscope, SpatialStereoscope"
   ]
  },
  {
   "cell_type": "code",
   "execution_count": null,
   "metadata": {},
   "outputs": [],
   "source": [
    "scvi.settings.seed = 0\n",
    "print(\"Last run with scvi-tools version:\", scvi.__version__)"
   ]
  },
  {
   "cell_type": "code",
   "execution_count": null,
   "metadata": {
    "id": "Tl6o4uPbe6t6"
   },
   "outputs": [],
   "source": [
    "sc.set_figure_params(figsize=(4, 4))\n",
    "torch.set_float32_matmul_precision(\"high\")\n",
    "warnings.filterwarnings(\"ignore\")\n",
    "save_dir = tempfile.TemporaryDirectory()\n",
    "\n",
    "%config InlineBackend.print_figure_kwargs={'facecolor' : \"w\"}\n",
    "%config InlineBackend.figure_format='retina'"
   ]
  },
  {
   "cell_type": "markdown",
   "metadata": {
    "id": "iWzgtpTtn_hf"
   },
   "source": [
    "## Download single-cell data"
   ]
  },
  {
   "cell_type": "markdown",
   "metadata": {
    "id": "_GUpiVh7fI7G"
   },
   "source": [
    "Read in expression data. This is a subset of the data you want to map. Here I use a balanced subset of cells from the left ventricle (~ 50K). You can create your own subset according to what you are interested in."
   ]
  },
  {
   "cell_type": "code",
   "execution_count": null,
   "metadata": {},
   "outputs": [],
   "source": [
    "adata_path = os.path.join(save_dir.name, \"adata.h5ad\")\n",
    "\n",
    "sc_adata = sc.read(\n",
    "    adata_path,\n",
    "    backup_url=\"https://ndownloader.figshare.com/files/26153564\",\n",
    ")\n",
    "sc_adata"
   ]
  },
  {
   "cell_type": "markdown",
   "metadata": {
    "id": "6cV8X10qgMbS"
   },
   "source": [
    "## Preprocess single-cell data"
   ]
  },
  {
   "cell_type": "code",
   "execution_count": null,
   "metadata": {
    "colab": {
     "base_uri": "https://localhost:8080/"
    },
    "id": "QR5Y7aaDf_L2",
    "outputId": "0f7c34ad-490d-4dd7-9432-620b11cc0b2f"
   },
   "outputs": [],
   "source": [
    "sc.pp.filter_genes(sc_adata, min_counts=10)\n",
    "sc_adata"
   ]
  },
  {
   "cell_type": "code",
   "execution_count": null,
   "metadata": {
    "colab": {
     "base_uri": "https://localhost:8080/"
    },
    "id": "ibjnh2XcgRfU",
    "outputId": "d51d63e4-46fd-4f52-e3ff-3f597d0cd6f8"
   },
   "outputs": [],
   "source": [
    "sc_adata.obs[\"combined\"] = [\n",
    "    sc_adata.obs.loc[i, \"cell_source\"] + sc_adata.obs.loc[i, \"donor\"]\n",
    "    for i in sc_adata.obs_names\n",
    "]\n",
    "sc_adata"
   ]
  },
  {
   "cell_type": "markdown",
   "metadata": {
    "id": "DTxmymh1U_j7"
   },
   "source": [
    "Remove mitochondrial genes"
   ]
  },
  {
   "cell_type": "code",
   "execution_count": null,
   "metadata": {
    "colab": {
     "base_uri": "https://localhost:8080/"
    },
    "id": "eFHxE4BvVCcW",
    "outputId": "2fd4a725-d2fa-4d94-fc4a-945fda7d743c"
   },
   "outputs": [],
   "source": [
    "non_mito_genes_list = [\n",
    "    name for name in sc_adata.var_names if not name.startswith(\"MT-\")\n",
    "]\n",
    "sc_adata = sc_adata[:, non_mito_genes_list]\n",
    "sc_adata"
   ]
  },
  {
   "cell_type": "markdown",
   "metadata": {
    "id": "pl_8oIiSnOgn"
   },
   "source": [
    "Normalize data on a different layer, because Stereoscope works with raw counts. We did not see better results by using all the genes, so for computational purposed we cut here to 7,000 genes."
   ]
  },
  {
   "cell_type": "code",
   "execution_count": null,
   "metadata": {
    "id": "tyXGwsd_gPeE"
   },
   "outputs": [],
   "source": [
    "sc_adata.layers[\"counts\"] = sc_adata.X.copy()\n",
    "sc.pp.normalize_total(sc_adata, target_sum=1e5)\n",
    "sc.pp.log1p(sc_adata)\n",
    "sc_adata.raw = sc_adata"
   ]
  },
  {
   "cell_type": "code",
   "execution_count": null,
   "metadata": {
    "id": "KS42e-VGVnqi"
   },
   "outputs": [],
   "source": [
    "sc.pp.highly_variable_genes(\n",
    "    sc_adata,\n",
    "    n_top_genes=7000,\n",
    "    subset=True,\n",
    "    layer=\"counts\",\n",
    "    flavor=\"seurat_v3\",\n",
    "    batch_key=\"combined\",\n",
    "    span=1,\n",
    ")"
   ]
  },
  {
   "cell_type": "markdown",
   "metadata": {
    "id": "LvF10wSslNOA"
   },
   "source": [
    "Examine the cell type labels"
   ]
  },
  {
   "cell_type": "code",
   "execution_count": null,
   "metadata": {
    "colab": {
     "base_uri": "https://localhost:8080/"
    },
    "id": "Mx4j0ht4dDBm",
    "outputId": "48c0f106-d41d-4d23-bd12-e804c0c87b12"
   },
   "outputs": [],
   "source": [
    "sc_adata.obs[\"cell_states\"].value_counts()"
   ]
  },
  {
   "cell_type": "markdown",
   "metadata": {
    "id": "83kRoNiKfT9z"
   },
   "source": [
    "## Read in visium data"
   ]
  },
  {
   "cell_type": "code",
   "execution_count": null,
   "metadata": {
    "colab": {
     "base_uri": "https://localhost:8080/",
     "height": 116,
     "referenced_widgets": [
      "74a7088e515b4d0480a3f83cfe73058a",
      "0a66f3e83dd04f628f638cfa637cbfef",
      "045d825e3bad46f4bab95df134374c0f",
      "2d1508477e5141329f88d9eab3c2c125",
      "2c5de900afeb4a0ebe66d03253dd9b99",
      "bb859488c55c4bc384d3a2d4d93506fe",
      "354226853e834604aff60e46b1dc94fb",
      "35c28ca35cd7423baf6e4382dfe2823b",
      "e7679d6da1964183a71a22be2be5566f",
      "b48032ca9a8d479c9ec776cac9e13e84",
      "e2f7c295650f4d049425ae001d068fd3",
      "3fc2564de99e40129a5135cf84addef4",
      "4cd67762d60f4ab6abef2110abdc0a8e",
      "8cd9309f1c37426ca1ca7348cbadfb4d",
      "e688893985aa4593bbcd664634b52a04",
      "1462d94cb7f54796b01136d232771955",
      "d38c0f4ba4974685bfd632f0d8b0bdef",
      "f778ee3e886f41cba1a1eeb114721f3a",
      "7940b9ad99fd43b4896e8d03f2822795",
      "10a0299549d548e49d39bf88ec8b7c9d",
      "2c57cacf34454213bbe3242e61c0245b",
      "afb1b5d5013848c8a9a2edba92ed9669"
     ]
    },
    "id": "BS7vXoQvPIdL",
    "outputId": "02f34a24-d563-4099-ccaf-7b45ae7fe48c"
   },
   "outputs": [],
   "source": [
    "st_adata = sc.datasets.visium_sge(sample_id=\"V1_Human_Heart\")\n",
    "st_adata.var_names_make_unique()"
   ]
  },
  {
   "cell_type": "code",
   "execution_count": null,
   "metadata": {
    "colab": {
     "base_uri": "https://localhost:8080/"
    },
    "id": "lX7_QzdBfQzC",
    "outputId": "2f3f61ea-ac54-4b95-91a6-cef5ec93a076"
   },
   "outputs": [],
   "source": [
    "st_adata.var[\"mt\"] = st_adata.var_names.str.startswith(\"MT-\")\n",
    "sc.pp.calculate_qc_metrics(st_adata, qc_vars=[\"mt\"], inplace=True)\n",
    "st_adata"
   ]
  },
  {
   "cell_type": "markdown",
   "metadata": {
    "id": "ZMkv9JOAfkxD"
   },
   "source": [
    "- Clean up data based on QC values"
   ]
  },
  {
   "cell_type": "code",
   "execution_count": null,
   "metadata": {
    "colab": {
     "base_uri": "https://localhost:8080/",
     "height": 153
    },
    "id": "b53Q6Pt8fgVR",
    "outputId": "e7ad5b45-b190-4926-8c69-753208963fc0"
   },
   "outputs": [],
   "source": [
    "fig, axs = plt.subplots(1, 4, figsize=(10, 2))\n",
    "sns.distplot(st_adata.obs[\"total_counts\"], kde=False, ax=axs[0])\n",
    "sns.distplot(\n",
    "    st_adata.obs[\"total_counts\"][st_adata.obs[\"total_counts\"] < 20000],\n",
    "    kde=False,\n",
    "    bins=60,\n",
    "    ax=axs[1],\n",
    ")\n",
    "sns.distplot(st_adata.obs[\"n_genes_by_counts\"], kde=False, bins=60, ax=axs[2])\n",
    "sns.distplot(\n",
    "    st_adata.obs[\"n_genes_by_counts\"][st_adata.obs[\"n_genes_by_counts\"] < 1000],\n",
    "    kde=False,\n",
    "    bins=60,\n",
    "    ax=axs[3],\n",
    ")\n",
    "plt.tight_layout()\n",
    "plt.show()"
   ]
  },
  {
   "cell_type": "code",
   "execution_count": null,
   "metadata": {
    "colab": {
     "base_uri": "https://localhost:8080/",
     "height": 512
    },
    "id": "1zq3KIt1fn-H",
    "outputId": "f6858162-fde0-400d-e28d-73c520e19c8b"
   },
   "outputs": [],
   "source": [
    "sc.pp.filter_cells(st_adata, min_counts=500)\n",
    "sc.pp.filter_cells(st_adata, min_genes=500)\n",
    "sc.pl.violin(\n",
    "    st_adata,\n",
    "    [\"n_genes_by_counts\", \"total_counts\", \"pct_counts_mt\"],\n",
    "    jitter=0.25,\n",
    "    multi_panel=True,\n",
    ")\n",
    "st_adata"
   ]
  },
  {
   "cell_type": "code",
   "execution_count": null,
   "metadata": {
    "colab": {
     "base_uri": "https://localhost:8080/",
     "height": 278
    },
    "id": "dPcgv1Kyf72y",
    "outputId": "84ee33f3-11c9-4340-9923-9adb8b9b48e0"
   },
   "outputs": [],
   "source": [
    "sc.pl.spatial(st_adata, img_key=\"hires\", color=[\"TTN\"])"
   ]
  },
  {
   "cell_type": "markdown",
   "metadata": {
    "id": "OIb1ybYSoL2k"
   },
   "source": [
    "## Learn cell-type specific gene expression from scRNA-seq data"
   ]
  },
  {
   "cell_type": "markdown",
   "metadata": {
    "id": "ae4j-GqrSwos"
   },
   "source": [
    "Filter genes to be the same on the spatial data"
   ]
  },
  {
   "cell_type": "code",
   "execution_count": null,
   "metadata": {
    "id": "115_XH47Sz69"
   },
   "outputs": [],
   "source": [
    "intersect = np.intersect1d(sc_adata.var_names, st_adata.var_names)\n",
    "st_adata = st_adata[:, intersect].copy()\n",
    "sc_adata = sc_adata[:, intersect].copy()"
   ]
  },
  {
   "cell_type": "markdown",
   "metadata": {
    "id": "9-UW1o6lgdX6"
   },
   "source": [
    "Setup the AnnData object"
   ]
  },
  {
   "cell_type": "code",
   "execution_count": null,
   "metadata": {
    "colab": {
     "base_uri": "https://localhost:8080/"
    },
    "id": "Q6I0a068gaAa",
    "outputId": "8753aeaa-c496-41bb-debf-b8d4c0cce328"
   },
   "outputs": [],
   "source": [
    "RNAStereoscope.setup_anndata(sc_adata, layer=\"counts\", labels_key=\"cell_states\")"
   ]
  },
  {
   "cell_type": "markdown",
   "metadata": {
    "id": "rryqTe42H4iZ"
   },
   "source": [
    "Train the _scRNA-Seq_ model"
   ]
  },
  {
   "cell_type": "code",
   "execution_count": null,
   "metadata": {
    "colab": {
     "base_uri": "https://localhost:8080/",
     "height": 334
    },
    "id": "6-HMqZBeeAzy",
    "outputId": "a3bffe54-7527-41a2-cc41-dd04ea332795"
   },
   "outputs": [],
   "source": [
    "sc_model_path = os.path.join(save_dir.name, \"sc_model\")\n",
    "\n",
    "sc_model = RNAStereoscope(sc_adata)\n",
    "sc_model.train(max_epochs=100)\n",
    "sc_model.history[\"elbo_train\"][10:].plot()\n",
    "sc_model.save(sc_model_path, overwrite=True)"
   ]
  },
  {
   "cell_type": "markdown",
   "metadata": {
    "id": "6Z9GKqdYV1la"
   },
   "source": [
    "## Infer proportion for spatial data"
   ]
  },
  {
   "cell_type": "code",
   "execution_count": null,
   "metadata": {
    "colab": {
     "base_uri": "https://localhost:8080/"
    },
    "id": "HN00p8yMgnfe",
    "outputId": "2fadd15a-37cd-4550-d6ed-b4bd58bc2ca1"
   },
   "outputs": [],
   "source": [
    "st_adata.layers[\"counts\"] = st_adata.X.copy()\n",
    "SpatialStereoscope.setup_anndata(st_adata, layer=\"counts\")"
   ]
  },
  {
   "cell_type": "markdown",
   "metadata": {
    "id": "jWk3l-pyH9VU"
   },
   "source": [
    "Train _Visium_ model"
   ]
  },
  {
   "cell_type": "code",
   "execution_count": null,
   "metadata": {
    "colab": {
     "base_uri": "https://localhost:8080/",
     "height": 334
    },
    "id": "u8aV6IYpk5TD",
    "outputId": "971fa298-2edb-4c1e-e459-7f94e9b6ea95"
   },
   "outputs": [],
   "source": [
    "spatial_model_path = os.path.join(save_dir.name, \"spatial_model\")\n",
    "\n",
    "spatial_model = SpatialStereoscope.from_rna_model(st_adata, sc_model)\n",
    "spatial_model.train(max_epochs=2000)\n",
    "spatial_model.history[\"elbo_train\"][10:].plot()\n",
    "spatial_model.save(spatial_model_path, overwrite=True)"
   ]
  },
  {
   "cell_type": "markdown",
   "metadata": {
    "id": "iaGbgbixIBK3"
   },
   "source": [
    "## Deconvolution results"
   ]
  },
  {
   "cell_type": "code",
   "execution_count": null,
   "metadata": {
    "id": "_SGH7jdWgu72"
   },
   "outputs": [],
   "source": [
    "st_adata.obsm[\"deconvolution\"] = spatial_model.get_proportions()\n",
    "\n",
    "# also copy as single field in the anndata for visualization\n",
    "for ct in st_adata.obsm[\"deconvolution\"].columns:\n",
    "    st_adata.obs[ct] = st_adata.obsm[\"deconvolution\"][ct]"
   ]
  },
  {
   "cell_type": "markdown",
   "metadata": {
    "id": "VHV4NZ3zIFZn"
   },
   "source": [
    "### Visualise populations\n",
    "\n",
    "Et voilá, we have now an anndata object that contains the inferred proportions on each Visium spot for each cell type in our single cell reference dataset.\n",
    "\n",
    "In this example we can observe how nicely the arterial endotehlial cells (EC5_art) and the venous endothelial cells (EC6_ven) are highlighted in the areas were we expect to see cardiac vessels based on the histology of the sample."
   ]
  },
  {
   "cell_type": "code",
   "execution_count": null,
   "metadata": {
    "colab": {
     "base_uri": "https://localhost:8080/",
     "height": 242
    },
    "id": "RaCnaXlrWOns",
    "outputId": "12c19e47-df1c-48a2-b835-d9784eb2a620"
   },
   "outputs": [],
   "source": [
    "# low dpi for uploading to github\n",
    "sc.settings.set_figure_params(\n",
    "    dpi=60, color_map=\"RdPu\", dpi_save=200, vector_friendly=True, format=\"svg\"\n",
    ")\n",
    "sc.pl.spatial(\n",
    "    st_adata,\n",
    "    img_key=\"hires\",\n",
    "    color=[\"EC5_art\", \"EC6_ven\"],\n",
    "    size=1.2,\n",
    "    color_map=\"inferno\",\n",
    ")"
   ]
  }
 ],
 "metadata": {
  "accelerator": "GPU",
  "colab": {
   "collapsed_sections": [],
   "name": "stereoscope_heart_LV_tutorial",
   "provenance": [],
   "toc_visible": true
  },
  "kernelspec": {
   "display_name": "scvi-tools-dev",
   "language": "python",
   "name": "python3"
  },
  "language_info": {
   "codemirror_mode": {
    "name": "ipython",
    "version": 3
   },
   "file_extension": ".py",
   "mimetype": "text/x-python",
   "name": "python",
   "nbconvert_exporter": "python",
   "pygments_lexer": "ipython3",
   "version": "3.11.6"
  },
  "vscode": {
   "interpreter": {
    "hash": "b5142939ddaa1787bd1bfcf4c0ad4d35be0fa2237c553f986d37efcb39f03f79"
   }
  },
  "widgets": {
   "application/vnd.jupyter.widget-state+json": {
    "045d825e3bad46f4bab95df134374c0f": {
     "model_module": "@jupyter-widgets/controls",
     "model_name": "HTMLModel",
     "state": {
      "_dom_classes": [],
      "_model_module": "@jupyter-widgets/controls",
      "_model_module_version": "1.5.0",
      "_model_name": "HTMLModel",
      "_view_count": null,
      "_view_module": "@jupyter-widgets/controls",
      "_view_module_version": "1.5.0",
      "_view_name": "HTMLView",
      "description": "",
      "description_tooltip": null,
      "layout": "IPY_MODEL_354226853e834604aff60e46b1dc94fb",
      "placeholder": "​",
      "style": "IPY_MODEL_bb859488c55c4bc384d3a2d4d93506fe",
      "value": "100%"
     }
    },
    "0a66f3e83dd04f628f638cfa637cbfef": {
     "model_module": "@jupyter-widgets/base",
     "model_name": "LayoutModel",
     "state": {
      "_model_module": "@jupyter-widgets/base",
      "_model_module_version": "1.2.0",
      "_model_name": "LayoutModel",
      "_view_count": null,
      "_view_module": "@jupyter-widgets/base",
      "_view_module_version": "1.2.0",
      "_view_name": "LayoutView",
      "align_content": null,
      "align_items": null,
      "align_self": null,
      "border": null,
      "bottom": null,
      "display": null,
      "flex": null,
      "flex_flow": null,
      "grid_area": null,
      "grid_auto_columns": null,
      "grid_auto_flow": null,
      "grid_auto_rows": null,
      "grid_column": null,
      "grid_gap": null,
      "grid_row": null,
      "grid_template_areas": null,
      "grid_template_columns": null,
      "grid_template_rows": null,
      "height": null,
      "justify_content": null,
      "justify_items": null,
      "left": null,
      "margin": null,
      "max_height": null,
      "max_width": null,
      "min_height": null,
      "min_width": null,
      "object_fit": null,
      "object_position": null,
      "order": null,
      "overflow": null,
      "overflow_x": null,
      "overflow_y": null,
      "padding": null,
      "right": null,
      "top": null,
      "visibility": null,
      "width": null
     }
    },
    "10a0299549d548e49d39bf88ec8b7c9d": {
     "model_module": "@jupyter-widgets/base",
     "model_name": "LayoutModel",
     "state": {
      "_model_module": "@jupyter-widgets/base",
      "_model_module_version": "1.2.0",
      "_model_name": "LayoutModel",
      "_view_count": null,
      "_view_module": "@jupyter-widgets/base",
      "_view_module_version": "1.2.0",
      "_view_name": "LayoutView",
      "align_content": null,
      "align_items": null,
      "align_self": null,
      "border": null,
      "bottom": null,
      "display": null,
      "flex": null,
      "flex_flow": null,
      "grid_area": null,
      "grid_auto_columns": null,
      "grid_auto_flow": null,
      "grid_auto_rows": null,
      "grid_column": null,
      "grid_gap": null,
      "grid_row": null,
      "grid_template_areas": null,
      "grid_template_columns": null,
      "grid_template_rows": null,
      "height": null,
      "justify_content": null,
      "justify_items": null,
      "left": null,
      "margin": null,
      "max_height": null,
      "max_width": null,
      "min_height": null,
      "min_width": null,
      "object_fit": null,
      "object_position": null,
      "order": null,
      "overflow": null,
      "overflow_x": null,
      "overflow_y": null,
      "padding": null,
      "right": null,
      "top": null,
      "visibility": null,
      "width": null
     }
    },
    "1462d94cb7f54796b01136d232771955": {
     "model_module": "@jupyter-widgets/controls",
     "model_name": "HTMLModel",
     "state": {
      "_dom_classes": [],
      "_model_module": "@jupyter-widgets/controls",
      "_model_module_version": "1.5.0",
      "_model_name": "HTMLModel",
      "_view_count": null,
      "_view_module": "@jupyter-widgets/controls",
      "_view_module_version": "1.5.0",
      "_view_name": "HTMLView",
      "description": "",
      "description_tooltip": null,
      "layout": "IPY_MODEL_afb1b5d5013848c8a9a2edba92ed9669",
      "placeholder": "​",
      "style": "IPY_MODEL_2c57cacf34454213bbe3242e61c0245b",
      "value": " 11.6M/11.6M [00:00&lt;00:00, 19.9MB/s]"
     }
    },
    "2c57cacf34454213bbe3242e61c0245b": {
     "model_module": "@jupyter-widgets/controls",
     "model_name": "DescriptionStyleModel",
     "state": {
      "_model_module": "@jupyter-widgets/controls",
      "_model_module_version": "1.5.0",
      "_model_name": "DescriptionStyleModel",
      "_view_count": null,
      "_view_module": "@jupyter-widgets/base",
      "_view_module_version": "1.2.0",
      "_view_name": "StyleView",
      "description_width": ""
     }
    },
    "2c5de900afeb4a0ebe66d03253dd9b99": {
     "model_module": "@jupyter-widgets/controls",
     "model_name": "HTMLModel",
     "state": {
      "_dom_classes": [],
      "_model_module": "@jupyter-widgets/controls",
      "_model_module_version": "1.5.0",
      "_model_name": "HTMLModel",
      "_view_count": null,
      "_view_module": "@jupyter-widgets/controls",
      "_view_module_version": "1.5.0",
      "_view_name": "HTMLView",
      "description": "",
      "description_tooltip": null,
      "layout": "IPY_MODEL_e2f7c295650f4d049425ae001d068fd3",
      "placeholder": "​",
      "style": "IPY_MODEL_b48032ca9a8d479c9ec776cac9e13e84",
      "value": " 8.78M/8.78M [00:00&lt;00:00, 28.5MB/s]"
     }
    },
    "2d1508477e5141329f88d9eab3c2c125": {
     "model_module": "@jupyter-widgets/controls",
     "model_name": "FloatProgressModel",
     "state": {
      "_dom_classes": [],
      "_model_module": "@jupyter-widgets/controls",
      "_model_module_version": "1.5.0",
      "_model_name": "FloatProgressModel",
      "_view_count": null,
      "_view_module": "@jupyter-widgets/controls",
      "_view_module_version": "1.5.0",
      "_view_name": "ProgressView",
      "bar_style": "success",
      "description": "",
      "description_tooltip": null,
      "layout": "IPY_MODEL_e7679d6da1964183a71a22be2be5566f",
      "max": 9204127,
      "min": 0,
      "orientation": "horizontal",
      "style": "IPY_MODEL_35c28ca35cd7423baf6e4382dfe2823b",
      "value": 9204127
     }
    },
    "354226853e834604aff60e46b1dc94fb": {
     "model_module": "@jupyter-widgets/base",
     "model_name": "LayoutModel",
     "state": {
      "_model_module": "@jupyter-widgets/base",
      "_model_module_version": "1.2.0",
      "_model_name": "LayoutModel",
      "_view_count": null,
      "_view_module": "@jupyter-widgets/base",
      "_view_module_version": "1.2.0",
      "_view_name": "LayoutView",
      "align_content": null,
      "align_items": null,
      "align_self": null,
      "border": null,
      "bottom": null,
      "display": null,
      "flex": null,
      "flex_flow": null,
      "grid_area": null,
      "grid_auto_columns": null,
      "grid_auto_flow": null,
      "grid_auto_rows": null,
      "grid_column": null,
      "grid_gap": null,
      "grid_row": null,
      "grid_template_areas": null,
      "grid_template_columns": null,
      "grid_template_rows": null,
      "height": null,
      "justify_content": null,
      "justify_items": null,
      "left": null,
      "margin": null,
      "max_height": null,
      "max_width": null,
      "min_height": null,
      "min_width": null,
      "object_fit": null,
      "object_position": null,
      "order": null,
      "overflow": null,
      "overflow_x": null,
      "overflow_y": null,
      "padding": null,
      "right": null,
      "top": null,
      "visibility": null,
      "width": null
     }
    },
    "35c28ca35cd7423baf6e4382dfe2823b": {
     "model_module": "@jupyter-widgets/controls",
     "model_name": "ProgressStyleModel",
     "state": {
      "_model_module": "@jupyter-widgets/controls",
      "_model_module_version": "1.5.0",
      "_model_name": "ProgressStyleModel",
      "_view_count": null,
      "_view_module": "@jupyter-widgets/base",
      "_view_module_version": "1.2.0",
      "_view_name": "StyleView",
      "bar_color": null,
      "description_width": ""
     }
    },
    "3fc2564de99e40129a5135cf84addef4": {
     "model_module": "@jupyter-widgets/controls",
     "model_name": "HBoxModel",
     "state": {
      "_dom_classes": [],
      "_model_module": "@jupyter-widgets/controls",
      "_model_module_version": "1.5.0",
      "_model_name": "HBoxModel",
      "_view_count": null,
      "_view_module": "@jupyter-widgets/controls",
      "_view_module_version": "1.5.0",
      "_view_name": "HBoxView",
      "box_style": "",
      "children": [
       "IPY_MODEL_8cd9309f1c37426ca1ca7348cbadfb4d",
       "IPY_MODEL_e688893985aa4593bbcd664634b52a04",
       "IPY_MODEL_1462d94cb7f54796b01136d232771955"
      ],
      "layout": "IPY_MODEL_4cd67762d60f4ab6abef2110abdc0a8e"
     }
    },
    "4cd67762d60f4ab6abef2110abdc0a8e": {
     "model_module": "@jupyter-widgets/base",
     "model_name": "LayoutModel",
     "state": {
      "_model_module": "@jupyter-widgets/base",
      "_model_module_version": "1.2.0",
      "_model_name": "LayoutModel",
      "_view_count": null,
      "_view_module": "@jupyter-widgets/base",
      "_view_module_version": "1.2.0",
      "_view_name": "LayoutView",
      "align_content": null,
      "align_items": null,
      "align_self": null,
      "border": null,
      "bottom": null,
      "display": null,
      "flex": null,
      "flex_flow": null,
      "grid_area": null,
      "grid_auto_columns": null,
      "grid_auto_flow": null,
      "grid_auto_rows": null,
      "grid_column": null,
      "grid_gap": null,
      "grid_row": null,
      "grid_template_areas": null,
      "grid_template_columns": null,
      "grid_template_rows": null,
      "height": null,
      "justify_content": null,
      "justify_items": null,
      "left": null,
      "margin": null,
      "max_height": null,
      "max_width": null,
      "min_height": null,
      "min_width": null,
      "object_fit": null,
      "object_position": null,
      "order": null,
      "overflow": null,
      "overflow_x": null,
      "overflow_y": null,
      "padding": null,
      "right": null,
      "top": null,
      "visibility": null,
      "width": null
     }
    },
    "74a7088e515b4d0480a3f83cfe73058a": {
     "model_module": "@jupyter-widgets/controls",
     "model_name": "HBoxModel",
     "state": {
      "_dom_classes": [],
      "_model_module": "@jupyter-widgets/controls",
      "_model_module_version": "1.5.0",
      "_model_name": "HBoxModel",
      "_view_count": null,
      "_view_module": "@jupyter-widgets/controls",
      "_view_module_version": "1.5.0",
      "_view_name": "HBoxView",
      "box_style": "",
      "children": [
       "IPY_MODEL_045d825e3bad46f4bab95df134374c0f",
       "IPY_MODEL_2d1508477e5141329f88d9eab3c2c125",
       "IPY_MODEL_2c5de900afeb4a0ebe66d03253dd9b99"
      ],
      "layout": "IPY_MODEL_0a66f3e83dd04f628f638cfa637cbfef"
     }
    },
    "7940b9ad99fd43b4896e8d03f2822795": {
     "model_module": "@jupyter-widgets/controls",
     "model_name": "ProgressStyleModel",
     "state": {
      "_model_module": "@jupyter-widgets/controls",
      "_model_module_version": "1.5.0",
      "_model_name": "ProgressStyleModel",
      "_view_count": null,
      "_view_module": "@jupyter-widgets/base",
      "_view_module_version": "1.2.0",
      "_view_name": "StyleView",
      "bar_color": null,
      "description_width": ""
     }
    },
    "8cd9309f1c37426ca1ca7348cbadfb4d": {
     "model_module": "@jupyter-widgets/controls",
     "model_name": "HTMLModel",
     "state": {
      "_dom_classes": [],
      "_model_module": "@jupyter-widgets/controls",
      "_model_module_version": "1.5.0",
      "_model_name": "HTMLModel",
      "_view_count": null,
      "_view_module": "@jupyter-widgets/controls",
      "_view_module_version": "1.5.0",
      "_view_name": "HTMLView",
      "description": "",
      "description_tooltip": null,
      "layout": "IPY_MODEL_f778ee3e886f41cba1a1eeb114721f3a",
      "placeholder": "​",
      "style": "IPY_MODEL_d38c0f4ba4974685bfd632f0d8b0bdef",
      "value": "100%"
     }
    },
    "afb1b5d5013848c8a9a2edba92ed9669": {
     "model_module": "@jupyter-widgets/base",
     "model_name": "LayoutModel",
     "state": {
      "_model_module": "@jupyter-widgets/base",
      "_model_module_version": "1.2.0",
      "_model_name": "LayoutModel",
      "_view_count": null,
      "_view_module": "@jupyter-widgets/base",
      "_view_module_version": "1.2.0",
      "_view_name": "LayoutView",
      "align_content": null,
      "align_items": null,
      "align_self": null,
      "border": null,
      "bottom": null,
      "display": null,
      "flex": null,
      "flex_flow": null,
      "grid_area": null,
      "grid_auto_columns": null,
      "grid_auto_flow": null,
      "grid_auto_rows": null,
      "grid_column": null,
      "grid_gap": null,
      "grid_row": null,
      "grid_template_areas": null,
      "grid_template_columns": null,
      "grid_template_rows": null,
      "height": null,
      "justify_content": null,
      "justify_items": null,
      "left": null,
      "margin": null,
      "max_height": null,
      "max_width": null,
      "min_height": null,
      "min_width": null,
      "object_fit": null,
      "object_position": null,
      "order": null,
      "overflow": null,
      "overflow_x": null,
      "overflow_y": null,
      "padding": null,
      "right": null,
      "top": null,
      "visibility": null,
      "width": null
     }
    },
    "b48032ca9a8d479c9ec776cac9e13e84": {
     "model_module": "@jupyter-widgets/controls",
     "model_name": "DescriptionStyleModel",
     "state": {
      "_model_module": "@jupyter-widgets/controls",
      "_model_module_version": "1.5.0",
      "_model_name": "DescriptionStyleModel",
      "_view_count": null,
      "_view_module": "@jupyter-widgets/base",
      "_view_module_version": "1.2.0",
      "_view_name": "StyleView",
      "description_width": ""
     }
    },
    "bb859488c55c4bc384d3a2d4d93506fe": {
     "model_module": "@jupyter-widgets/controls",
     "model_name": "DescriptionStyleModel",
     "state": {
      "_model_module": "@jupyter-widgets/controls",
      "_model_module_version": "1.5.0",
      "_model_name": "DescriptionStyleModel",
      "_view_count": null,
      "_view_module": "@jupyter-widgets/base",
      "_view_module_version": "1.2.0",
      "_view_name": "StyleView",
      "description_width": ""
     }
    },
    "d38c0f4ba4974685bfd632f0d8b0bdef": {
     "model_module": "@jupyter-widgets/controls",
     "model_name": "DescriptionStyleModel",
     "state": {
      "_model_module": "@jupyter-widgets/controls",
      "_model_module_version": "1.5.0",
      "_model_name": "DescriptionStyleModel",
      "_view_count": null,
      "_view_module": "@jupyter-widgets/base",
      "_view_module_version": "1.2.0",
      "_view_name": "StyleView",
      "description_width": ""
     }
    },
    "e2f7c295650f4d049425ae001d068fd3": {
     "model_module": "@jupyter-widgets/base",
     "model_name": "LayoutModel",
     "state": {
      "_model_module": "@jupyter-widgets/base",
      "_model_module_version": "1.2.0",
      "_model_name": "LayoutModel",
      "_view_count": null,
      "_view_module": "@jupyter-widgets/base",
      "_view_module_version": "1.2.0",
      "_view_name": "LayoutView",
      "align_content": null,
      "align_items": null,
      "align_self": null,
      "border": null,
      "bottom": null,
      "display": null,
      "flex": null,
      "flex_flow": null,
      "grid_area": null,
      "grid_auto_columns": null,
      "grid_auto_flow": null,
      "grid_auto_rows": null,
      "grid_column": null,
      "grid_gap": null,
      "grid_row": null,
      "grid_template_areas": null,
      "grid_template_columns": null,
      "grid_template_rows": null,
      "height": null,
      "justify_content": null,
      "justify_items": null,
      "left": null,
      "margin": null,
      "max_height": null,
      "max_width": null,
      "min_height": null,
      "min_width": null,
      "object_fit": null,
      "object_position": null,
      "order": null,
      "overflow": null,
      "overflow_x": null,
      "overflow_y": null,
      "padding": null,
      "right": null,
      "top": null,
      "visibility": null,
      "width": null
     }
    },
    "e688893985aa4593bbcd664634b52a04": {
     "model_module": "@jupyter-widgets/controls",
     "model_name": "FloatProgressModel",
     "state": {
      "_dom_classes": [],
      "_model_module": "@jupyter-widgets/controls",
      "_model_module_version": "1.5.0",
      "_model_name": "FloatProgressModel",
      "_view_count": null,
      "_view_module": "@jupyter-widgets/controls",
      "_view_module_version": "1.5.0",
      "_view_name": "ProgressView",
      "bar_style": "success",
      "description": "",
      "description_tooltip": null,
      "layout": "IPY_MODEL_10a0299549d548e49d39bf88ec8b7c9d",
      "max": 12196059,
      "min": 0,
      "orientation": "horizontal",
      "style": "IPY_MODEL_7940b9ad99fd43b4896e8d03f2822795",
      "value": 12196059
     }
    },
    "e7679d6da1964183a71a22be2be5566f": {
     "model_module": "@jupyter-widgets/base",
     "model_name": "LayoutModel",
     "state": {
      "_model_module": "@jupyter-widgets/base",
      "_model_module_version": "1.2.0",
      "_model_name": "LayoutModel",
      "_view_count": null,
      "_view_module": "@jupyter-widgets/base",
      "_view_module_version": "1.2.0",
      "_view_name": "LayoutView",
      "align_content": null,
      "align_items": null,
      "align_self": null,
      "border": null,
      "bottom": null,
      "display": null,
      "flex": null,
      "flex_flow": null,
      "grid_area": null,
      "grid_auto_columns": null,
      "grid_auto_flow": null,
      "grid_auto_rows": null,
      "grid_column": null,
      "grid_gap": null,
      "grid_row": null,
      "grid_template_areas": null,
      "grid_template_columns": null,
      "grid_template_rows": null,
      "height": null,
      "justify_content": null,
      "justify_items": null,
      "left": null,
      "margin": null,
      "max_height": null,
      "max_width": null,
      "min_height": null,
      "min_width": null,
      "object_fit": null,
      "object_position": null,
      "order": null,
      "overflow": null,
      "overflow_x": null,
      "overflow_y": null,
      "padding": null,
      "right": null,
      "top": null,
      "visibility": null,
      "width": null
     }
    },
    "f778ee3e886f41cba1a1eeb114721f3a": {
     "model_module": "@jupyter-widgets/base",
     "model_name": "LayoutModel",
     "state": {
      "_model_module": "@jupyter-widgets/base",
      "_model_module_version": "1.2.0",
      "_model_name": "LayoutModel",
      "_view_count": null,
      "_view_module": "@jupyter-widgets/base",
      "_view_module_version": "1.2.0",
      "_view_name": "LayoutView",
      "align_content": null,
      "align_items": null,
      "align_self": null,
      "border": null,
      "bottom": null,
      "display": null,
      "flex": null,
      "flex_flow": null,
      "grid_area": null,
      "grid_auto_columns": null,
      "grid_auto_flow": null,
      "grid_auto_rows": null,
      "grid_column": null,
      "grid_gap": null,
      "grid_row": null,
      "grid_template_areas": null,
      "grid_template_columns": null,
      "grid_template_rows": null,
      "height": null,
      "justify_content": null,
      "justify_items": null,
      "left": null,
      "margin": null,
      "max_height": null,
      "max_width": null,
      "min_height": null,
      "min_width": null,
      "object_fit": null,
      "object_position": null,
      "order": null,
      "overflow": null,
      "overflow_x": null,
      "overflow_y": null,
      "padding": null,
      "right": null,
      "top": null,
      "visibility": null,
      "width": null
     }
    }
   }
  }
 },
 "nbformat": 4,
 "nbformat_minor": 4
}
