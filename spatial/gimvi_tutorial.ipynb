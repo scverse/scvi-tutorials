{
 "cells": [
  {
   "cell_type": "markdown",
   "metadata": {
    "colab_type": "text",
    "id": "ibnLzLEdZXpy",
    "pycharm": {}
   },
   "source": [
    "# Introduction to gimVI\n",
    "\n",
    "## Imputing missing genes in spatial data from sequencing data with gimVI"
   ]
  },
  {
   "cell_type": "code",
   "execution_count": null,
   "metadata": {},
   "outputs": [],
   "source": [
    "!pip install --quiet scvi-colab\n",
    "from scvi_colab import install\n",
    "\n",
    "install()"
   ]
  },
  {
   "cell_type": "code",
   "execution_count": null,
   "metadata": {
    "ExecuteTime": {
     "end_time": "2019-07-04T02:48:01.686041Z",
     "start_time": "2019-07-04T02:48:01.681842Z"
    },
    "colab": {
     "base_uri": "https://localhost:8080/",
     "height": 289
    },
    "colab_type": "code",
    "id": "B_XeLksNZXpz",
    "outputId": "d1f3f634-aa64-4d99-b7c2-dac643651319",
    "pycharm": {}
   },
   "outputs": [],
   "source": [
    "import tempfile\n",
    "\n",
    "import anndata\n",
    "import matplotlib.pyplot as plt\n",
    "import numpy as np\n",
    "import scanpy as sc\n",
    "import scvi\n",
    "import torch\n",
    "from scipy.stats import spearmanr\n",
    "from scvi.data import cortex, smfish\n",
    "from scvi.external import GIMVI"
   ]
  },
  {
   "cell_type": "code",
   "execution_count": null,
   "metadata": {},
   "outputs": [],
   "source": [
    "scvi.settings.seed = 0\n",
    "print(\"Last run with scvi-tools version:\", scvi.__version__)"
   ]
  },
  {
   "cell_type": "code",
   "execution_count": null,
   "metadata": {
    "ExecuteTime": {
     "end_time": "2019-07-04T02:48:01.716333Z",
     "start_time": "2019-07-04T02:48:01.713433Z"
    },
    "colab": {},
    "colab_type": "code",
    "id": "TFCFD9M7ZXp2",
    "pycharm": {}
   },
   "outputs": [],
   "source": [
    "sc.set_figure_params(figsize=(4, 4))\n",
    "torch.set_float32_matmul_precision(\"high\")\n",
    "save_dir = tempfile.TemporaryDirectory()\n",
    "\n",
    "%config InlineBackend.print_figure_kwargs={'facecolor' : \"w\"}\n",
    "%config InlineBackend.figure_format='retina'"
   ]
  },
  {
   "cell_type": "code",
   "execution_count": null,
   "metadata": {
    "colab": {
     "base_uri": "https://localhost:8080/",
     "height": 136
    },
    "colab_type": "code",
    "id": "BP_-wXI2A3Xw",
    "outputId": "1317268d-42dc-43d1-9d98-6a9f6135ae7a"
   },
   "outputs": [],
   "source": [
    "train_size = 0.8\n",
    "spatial_data = smfish(save_path=save_dir.name)\n",
    "seq_data = cortex(save_path=save_dir.name)"
   ]
  },
  {
   "cell_type": "markdown",
   "metadata": {
    "colab_type": "text",
    "id": "TuBoA_-clBy2"
   },
   "source": [
    "## Preparing the data\n",
    "\n",
    "In this section, we hold out some of the genes in the spatial dataset in order to test the imputation results"
   ]
  },
  {
   "cell_type": "code",
   "execution_count": null,
   "metadata": {
    "colab": {
     "base_uri": "https://localhost:8080/",
     "height": 289
    },
    "colab_type": "code",
    "id": "DQ2gAL5dMwOH",
    "outputId": "5c8ef75e-6f5c-45c7-ad21-3960fbb1eb82"
   },
   "outputs": [],
   "source": [
    "# only use genes in both datasets\n",
    "seq_data = seq_data[:, spatial_data.var_names].copy()\n",
    "\n",
    "seq_gene_names = seq_data.var_names\n",
    "n_genes = seq_data.n_vars\n",
    "n_train_genes = int(n_genes * train_size)\n",
    "\n",
    "# randomly select training_genes\n",
    "rand_train_gene_idx = np.random.choice(range(n_genes), n_train_genes, replace=False)\n",
    "rand_test_gene_idx = sorted(set(range(n_genes)) - set(rand_train_gene_idx))\n",
    "rand_train_genes = seq_gene_names[rand_train_gene_idx]\n",
    "rand_test_genes = seq_gene_names[rand_test_gene_idx]\n",
    "\n",
    "# spatial_data_partial has a subset of the genes to train on\n",
    "spatial_data_partial = spatial_data[:, rand_train_genes].copy()\n",
    "\n",
    "# remove cells with no counts\n",
    "sc.pp.filter_cells(spatial_data_partial, min_counts=1)\n",
    "sc.pp.filter_cells(seq_data, min_counts=1)\n",
    "\n",
    "# setup_anndata for spatial and sequencing data\n",
    "GIMVI.setup_anndata(spatial_data_partial, labels_key=\"labels\", batch_key=\"batch\")\n",
    "GIMVI.setup_anndata(seq_data, labels_key=\"labels\")\n",
    "\n",
    "# spatial_data should use the same cells as our training data\n",
    "# cells may have been removed by scanpy.pp.filter_cells()\n",
    "spatial_data = spatial_data[spatial_data_partial.obs_names]"
   ]
  },
  {
   "cell_type": "markdown",
   "metadata": {
    "colab_type": "text",
    "id": "E6fZnroelqyY"
   },
   "source": [
    "## Creating the model and training"
   ]
  },
  {
   "cell_type": "code",
   "execution_count": null,
   "metadata": {
    "colab": {
     "base_uri": "https://localhost:8080/",
     "height": 33,
     "referenced_widgets": [
      "2991a22454974f5f98fb8789ff803261",
      "8ea057d14a034beba82308dd01cad16e"
     ]
    },
    "colab_type": "code",
    "id": "VxVNuPTUA8We",
    "outputId": "e67e979c-66fa-43a7-8fed-972afa11aaf2"
   },
   "outputs": [],
   "source": [
    "model = GIMVI(seq_data, spatial_data_partial)\n",
    "model.train(max_epochs=200)"
   ]
  },
  {
   "cell_type": "markdown",
   "metadata": {
    "colab_type": "text",
    "id": "87DmDj9Llv4G"
   },
   "source": [
    "## Analyzing the results\n",
    "\n",
    "### Getting the latent representations and plotting UMAPs"
   ]
  },
  {
   "cell_type": "code",
   "execution_count": null,
   "metadata": {
    "colab": {},
    "colab_type": "code",
    "id": "FgvgRALlBENh"
   },
   "outputs": [],
   "source": [
    "# get the latent representations for the sequencing and spatial data\n",
    "latent_seq, latent_spatial = model.get_latent_representation()\n",
    "\n",
    "# concatenate to one latent representation\n",
    "latent_representation = np.concatenate([latent_seq, latent_spatial])\n",
    "latent_adata = anndata.AnnData(latent_representation)\n",
    "\n",
    "# labels which cells were from the sequencing dataset and which were from the spatial dataset\n",
    "latent_labels = ([\"seq\"] * latent_seq.shape[0]) + (\n",
    "    [\"spatial\"] * latent_spatial.shape[0]\n",
    ")\n",
    "latent_adata.obs[\"labels\"] = latent_labels\n",
    "\n",
    "# compute umap\n",
    "sc.pp.neighbors(latent_adata, use_rep=\"X\")\n",
    "sc.tl.umap(latent_adata)\n",
    "\n",
    "# save umap representations to original seq and spatial_datasets\n",
    "seq_data.obsm[\"X_umap\"] = latent_adata.obsm[\"X_umap\"][: seq_data.shape[0]]\n",
    "spatial_data.obsm[\"X_umap\"] = latent_adata.obsm[\"X_umap\"][seq_data.shape[0] :]"
   ]
  },
  {
   "cell_type": "code",
   "execution_count": null,
   "metadata": {
    "colab": {
     "base_uri": "https://localhost:8080/",
     "height": 295
    },
    "colab_type": "code",
    "id": "WWpFczybRQvO",
    "outputId": "6743ac45-07cc-4d08-de3c-c5bb62baae5a"
   },
   "outputs": [],
   "source": [
    "# umap of the combined latent space\n",
    "sc.pl.umap(latent_adata, color=\"labels\", show=True)"
   ]
  },
  {
   "cell_type": "code",
   "execution_count": null,
   "metadata": {
    "colab": {
     "base_uri": "https://localhost:8080/",
     "height": 278
    },
    "colab_type": "code",
    "id": "uM5wDKoYRSjX",
    "outputId": "8dbe54bb-26cc-4925-915c-1fb06cd3a348"
   },
   "outputs": [],
   "source": [
    "# umap of sequencing dataset\n",
    "sc.pl.umap(seq_data, color=\"cell_type\")"
   ]
  },
  {
   "cell_type": "code",
   "execution_count": null,
   "metadata": {
    "colab": {
     "base_uri": "https://localhost:8080/",
     "height": 278
    },
    "colab_type": "code",
    "id": "9W2XThBpRUZU",
    "outputId": "4ff71e8b-47d4-4c8e-d7ce-09a04b5e04ac"
   },
   "outputs": [],
   "source": [
    "# umap of spatial dataset\n",
    "sc.pl.umap(spatial_data, color=\"str_labels\")"
   ]
  },
  {
   "cell_type": "markdown",
   "metadata": {
    "colab_type": "text",
    "id": "a7vQfroInO-Q"
   },
   "source": [
    "### Getting Imputation Score\n",
    "\n",
    "imputation_score() returns the median spearman r correlation over all the cells"
   ]
  },
  {
   "cell_type": "code",
   "execution_count": null,
   "metadata": {
    "ExecuteTime": {
     "end_time": "2019-07-04T02:52:36.979392Z",
     "start_time": "2019-07-04T02:52:36.854057Z"
    },
    "colab": {
     "base_uri": "https://localhost:8080/",
     "height": 34
    },
    "colab_type": "code",
    "id": "9ER5bEOPZXqZ",
    "outputId": "e8ee5807-385c-4942-db4b-ca3515301048",
    "pycharm": {}
   },
   "outputs": [],
   "source": [
    "# utility function for scoring the imputation\n",
    "\n",
    "\n",
    "def imputation_score(model, data_spatial, gene_ids_test, normalized=True):\n",
    "    _, fish_imputation = model.get_imputed_values(normalized=normalized)\n",
    "    original, imputed = (\n",
    "        data_spatial.X[:, gene_ids_test],\n",
    "        fish_imputation[:, gene_ids_test],\n",
    "    )\n",
    "\n",
    "    if normalized:\n",
    "        original = original / data_spatial.X.sum(axis=1).reshape(-1, 1)\n",
    "\n",
    "    spearman_gene = []\n",
    "    for g in range(imputed.shape[1]):\n",
    "        if np.all(imputed[:, g] == 0):\n",
    "            correlation = 0\n",
    "        else:\n",
    "            correlation = spearmanr(original[:, g], imputed[:, g])[0]\n",
    "        spearman_gene.append(correlation)\n",
    "    return np.median(np.array(spearman_gene))\n",
    "\n",
    "\n",
    "imputation_score(model, spatial_data, rand_test_gene_idx, True)"
   ]
  },
  {
   "cell_type": "markdown",
   "metadata": {
    "colab_type": "text",
    "id": "ME1h9nQlZXqb",
    "pycharm": {}
   },
   "source": [
    "### Plot imputation for *Lamp5*, which should have been hidden in the training"
   ]
  },
  {
   "cell_type": "code",
   "execution_count": null,
   "metadata": {
    "ExecuteTime": {
     "end_time": "2019-07-04T02:52:37.307612Z",
     "start_time": "2019-07-04T02:52:36.981367Z"
    },
    "colab": {
     "base_uri": "https://localhost:8080/",
     "height": 297
    },
    "colab_type": "code",
    "id": "zWipt-mHZXqd",
    "outputId": "06eec25f-8e65-412f-d574-85a6a87768e4",
    "pycharm": {}
   },
   "outputs": [],
   "source": [
    "def plot_gene_spatial(model, data_spatial, gene):\n",
    "    data_seq = model.adatas[0]\n",
    "    data_fish = data_spatial\n",
    "\n",
    "    fig, (ax_gt, ax) = plt.subplots(1, 2)\n",
    "\n",
    "    if isinstance(gene, str):\n",
    "        gene_id = list(data_seq.gene_names).index(gene)\n",
    "    else:\n",
    "        gene_id = gene\n",
    "\n",
    "    x_coord = data_fish.obs[\"x_coord\"]\n",
    "    y_coord = data_fish.obs[\"y_coord\"]\n",
    "\n",
    "    def order_by_strenght(x, y, z):\n",
    "        ind = np.argsort(z)\n",
    "        return x[ind], y[ind], z[ind]\n",
    "\n",
    "    s = 20\n",
    "\n",
    "    def transform(data):\n",
    "        return np.log(1 + 100 * data)\n",
    "\n",
    "    # Plot groundtruth\n",
    "    x, y, z = order_by_strenght(\n",
    "        x_coord, y_coord, data_fish.X[:, gene_id] / (data_fish.X.sum(axis=1) + 1)\n",
    "    )\n",
    "    ax_gt.scatter(x, y, c=transform(z), s=s, edgecolors=\"none\", marker=\"s\", cmap=\"Reds\")\n",
    "    ax_gt.set_title(\"Groundtruth\")\n",
    "    ax_gt.axis(\"off\")\n",
    "\n",
    "    _, imputed = model.get_imputed_values(normalized=True)\n",
    "    x, y, z = order_by_strenght(x_coord, y_coord, imputed[:, gene_id])\n",
    "    ax.scatter(x, y, c=transform(z), s=s, edgecolors=\"none\", marker=\"s\", cmap=\"Reds\")\n",
    "    ax.set_title(\"Imputed\")\n",
    "    ax.axis(\"off\")\n",
    "    plt.tight_layout()\n",
    "    plt.show()\n",
    "\n",
    "\n",
    "assert \"Lamp5\" in rand_test_genes\n",
    "plot_gene_spatial(model, spatial_data, 9)"
   ]
  }
 ],
 "metadata": {
  "colab": {
   "name": "gimvi_tutorial.ipynb",
   "provenance": []
  },
  "kernelspec": {
   "display_name": "Python 3",
   "language": "python",
   "name": "python3"
  },
  "language_info": {
   "codemirror_mode": {
    "name": "ipython",
    "version": 3
   },
   "file_extension": ".py",
   "mimetype": "text/x-python",
   "name": "python",
   "nbconvert_exporter": "python",
   "pygments_lexer": "ipython3",
   "version": "3.11.6"
  },
  "widgets": {
   "application/vnd.jupyter.widget-state+json": {
    "2991a22454974f5f98fb8789ff803261": {
     "model_module": "@jupyter-widgets/output",
     "model_name": "OutputModel",
     "state": {
      "_dom_classes": [],
      "_model_module": "@jupyter-widgets/output",
      "_model_module_version": "1.0.0",
      "_model_name": "OutputModel",
      "_view_count": null,
      "_view_module": "@jupyter-widgets/output",
      "_view_module_version": "1.0.0",
      "_view_name": "OutputView",
      "layout": "IPY_MODEL_8ea057d14a034beba82308dd01cad16e",
      "msg_id": "",
      "outputs": [
       {
        "metadata": {
         "tags": []
        },
        "output_type": "display_data",
        "text/html": "<pre style=\"white-space:pre;overflow-x:auto;line-height:normal;font-family:Menlo,'DejaVu Sans Mono',consolas,'Courier New',monospace\">Training... <span style=\"color: #729c1f\">━━━━━━━━━━━━━━━━━━━━━━━━━━━━━━━━━━━━━━━━</span> <span style=\"color: #800080\">100%</span> <span style=\"color: #008080\">0:00:00</span>\n</pre>\n",
        "text/plain": "<rich.jupyter.JupyterRenderable at 0x7f80abbc6390>"
       }
      ]
     }
    },
    "8ea057d14a034beba82308dd01cad16e": {
     "model_module": "@jupyter-widgets/base",
     "model_name": "LayoutModel",
     "state": {
      "_model_module": "@jupyter-widgets/base",
      "_model_module_version": "1.2.0",
      "_model_name": "LayoutModel",
      "_view_count": null,
      "_view_module": "@jupyter-widgets/base",
      "_view_module_version": "1.2.0",
      "_view_name": "LayoutView",
      "align_content": null,
      "align_items": null,
      "align_self": null,
      "border": null,
      "bottom": null,
      "display": null,
      "flex": null,
      "flex_flow": null,
      "grid_area": null,
      "grid_auto_columns": null,
      "grid_auto_flow": null,
      "grid_auto_rows": null,
      "grid_column": null,
      "grid_gap": null,
      "grid_row": null,
      "grid_template_areas": null,
      "grid_template_columns": null,
      "grid_template_rows": null,
      "height": null,
      "justify_content": null,
      "justify_items": null,
      "left": null,
      "margin": null,
      "max_height": null,
      "max_width": null,
      "min_height": null,
      "min_width": null,
      "object_fit": null,
      "object_position": null,
      "order": null,
      "overflow": null,
      "overflow_x": null,
      "overflow_y": null,
      "padding": null,
      "right": null,
      "top": null,
      "visibility": null,
      "width": null
     }
    }
   }
  }
 },
 "nbformat": 4,
 "nbformat_minor": 4
}
