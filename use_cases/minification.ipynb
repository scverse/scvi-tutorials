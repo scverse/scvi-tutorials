{
 "cells": [
  {
   "attachments": {},
   "cell_type": "markdown",
   "id": "e5abf651",
   "metadata": {},
   "source": [
    "# Minification\n",
    "\n",
    "Minification refers to the process of reducing the amount of content in your dataset in a smart way. This can be useful for various sorts of reasons and there can be different ways you might want to do this (we call these minification types). Currently, the only type of minification we support is one where we replace the count data with the parameters of the latent posterior distribution, estimated by a trained model. We will focus this tutorial on this type of minification.\n",
    "\n",
    "There are multiple motivations for minifying the data in this way:\n",
    "\n",
    "- The data is more compact, so it takes up less space on disk and in memory.\n",
    "- Data transfer (share, upload, download) is more smooth owing to the smaller data size.\n",
    "- By using the latent posterior parameters, we can skip the encoder network and save on computation time.\n",
    "\n",
    "The reason why this is that most post-training routines for scvi-tools models do not in fact require the full counts. Once your model is trained, you essentially only need the model weights and the pre-computed embeddings to carry out analyses. There are certain exceptions to this, but those routines will alert you if you try to call them with a minified dataset.\n",
    "\n",
    "<img src=\"https://raw.githubusercontent.com/scverse/scvi-tutorials/main/figures/minification.svg?raw=true\" alt=\"Minification overview\" />\n",
    "\n",
    "Moreover, you can actually use the latent posterior and the decoder network to estimate the original counts! This is of course not the exact same thing as using your actual full counts, but we can show that it is a good approximation using posterior predictive metrics (paper link tbd).\n",
    "\n",
    "Let's now see how to minify a dataset and use the corresponding model."
   ]
  },
  {
   "cell_type": "markdown",
   "id": "553ace75",
   "metadata": {},
   "source": [
    "```{note}\n",
    "Running the following cell will install tutorial dependencies on Google Colab only. It will have no effect on environments other than Google Colab.\n",
    "```"
   ]
  },
  {
   "cell_type": "code",
   "execution_count": 1,
   "id": "26d9e3c8",
   "metadata": {
    "execution": {
     "iopub.execute_input": "2024-09-22T12:29:52.983565Z",
     "iopub.status.busy": "2024-09-22T12:29:52.983391Z",
     "iopub.status.idle": "2024-09-22T12:29:54.015351Z",
     "shell.execute_reply": "2024-09-22T12:29:54.014953Z"
    }
   },
   "outputs": [
    {
     "name": "stdout",
     "output_type": "stream",
     "text": [
      "\u001b[33mWARNING: Running pip as the 'root' user can result in broken permissions and conflicting behaviour with the system package manager, possibly rendering your system unusable.It is recommended to use a virtual environment instead: https://pip.pypa.io/warnings/venv. Use the --root-user-action option if you know what you are doing and want to suppress this warning.\u001b[0m\u001b[33m\r\n",
      "\u001b[0m"
     ]
    },
    {
     "name": "stderr",
     "output_type": "stream",
     "text": [
      "/usr/local/lib/python3.12/site-packages/scvi_colab/_core.py:41: UserWarning: \n",
      "                Not currently in Google Colab environment.\n",
      "\n",
      "                Please run with `run_outside_colab=True` to override.\n",
      "\n",
      "                Returning with no further action.\n",
      "                \n",
      "  warn(\n"
     ]
    }
   ],
   "source": [
    "!pip install --quiet scvi-colab\n",
    "from scvi_colab import install\n",
    "\n",
    "install()"
   ]
  },
  {
   "cell_type": "code",
   "execution_count": 2,
   "id": "53758a1c",
   "metadata": {
    "execution": {
     "iopub.execute_input": "2024-09-22T12:29:54.016489Z",
     "iopub.status.busy": "2024-09-22T12:29:54.016384Z",
     "iopub.status.idle": "2024-09-22T12:30:03.028532Z",
     "shell.execute_reply": "2024-09-22T12:30:03.028104Z"
    }
   },
   "outputs": [
    {
     "name": "stderr",
     "output_type": "stream",
     "text": [
      "/usr/local/lib/python3.12/site-packages/leidenalg/VertexPartition.py:388: SyntaxWarning: invalid escape sequence '\\m'\n",
      "  \"\"\" Implements modularity. This quality function is well-defined only for positive edge weights.\n",
      "/usr/local/lib/python3.12/site-packages/leidenalg/VertexPartition.py:761: SyntaxWarning: invalid escape sequence '\\m'\n",
      "  \"\"\" Implements Reichardt and Bornholdt's Potts model with a configuration null model.\n",
      "/usr/local/lib/python3.12/site-packages/leidenalg/Optimiser.py:7: SyntaxWarning: invalid escape sequence '\\g'\n",
      "  \"\"\" Class for doing community detection using the Leiden algorithm.\n",
      "/usr/local/lib/python3.12/site-packages/leidenalg/Optimiser.py:305: SyntaxWarning: invalid escape sequence '\\s'\n",
      "  \"\"\" Optimise the given partitions simultaneously.\n"
     ]
    },
    {
     "name": "stderr",
     "output_type": "stream",
     "text": [
      "/usr/local/lib/python3.12/site-packages/pyro/ops/stats.py:514: SyntaxWarning: invalid escape sequence '\\g'\n",
      "  \"\"\"\n"
     ]
    }
   ],
   "source": [
    "import os\n",
    "import tempfile\n",
    "\n",
    "import scanpy as sc\n",
    "import scvi\n",
    "import seaborn as sns\n",
    "import torch"
   ]
  },
  {
   "cell_type": "code",
   "execution_count": 3,
   "id": "e862c7c3",
   "metadata": {
    "execution": {
     "iopub.execute_input": "2024-09-22T12:30:03.030600Z",
     "iopub.status.busy": "2024-09-22T12:30:03.030371Z",
     "iopub.status.idle": "2024-09-22T12:30:03.033683Z",
     "shell.execute_reply": "2024-09-22T12:30:03.033425Z"
    }
   },
   "outputs": [
    {
     "name": "stderr",
     "output_type": "stream",
     "text": [
      "Seed set to 0\n"
     ]
    },
    {
     "name": "stdout",
     "output_type": "stream",
     "text": [
      "Last run with scvi-tools version: 1.1.6\n"
     ]
    }
   ],
   "source": [
    "scvi.settings.seed = 0\n",
    "print(\"Last run with scvi-tools version:\", scvi.__version__)"
   ]
  },
  {
   "cell_type": "markdown",
   "id": "4620a142",
   "metadata": {},
   "source": [
    "```{note}\n",
    "You can modify `save_dir` below to change where the data files for this tutorial are saved.\n",
    "```"
   ]
  },
  {
   "cell_type": "code",
   "execution_count": 4,
   "id": "f72dddb4",
   "metadata": {
    "execution": {
     "iopub.execute_input": "2024-09-22T12:30:03.034632Z",
     "iopub.status.busy": "2024-09-22T12:30:03.034534Z",
     "iopub.status.idle": "2024-09-22T12:30:03.046692Z",
     "shell.execute_reply": "2024-09-22T12:30:03.046428Z"
    }
   },
   "outputs": [],
   "source": [
    "sc.set_figure_params(figsize=(6, 6), frameon=False)\n",
    "sns.set_theme()\n",
    "torch.set_float32_matmul_precision(\"high\")\n",
    "save_dir = tempfile.TemporaryDirectory()\n",
    "\n",
    "%config InlineBackend.print_figure_kwargs={\"facecolor\": \"w\"}\n",
    "%config InlineBackend.figure_format=\"retina\""
   ]
  },
  {
   "attachments": {},
   "cell_type": "markdown",
   "id": "48c07965",
   "metadata": {},
   "source": [
    "## Get the data and model\n",
    "\n",
    "Here we use the data and pre-trained model obtained from running [this](https://docs.scvi-tools.org/en/latest/tutorials/notebooks/quick_start/api_overview.html) scvi-tools tutorial.\n",
    "\n",
    "The dataset used is a subset of the heart cell atlas dataset:\\\n",
    "Litviňuková, M., Talavera-López, C., Maatz, H., Reichart, D., Worth, C. L., Lindberg, E. L., … & Teichmann, S. A. (2020). Cells of the adult human heart. Nature, 588(7838), 466-472.\n",
    "\n",
    "Let's train the model as usual. Also save the model and data on disk as we'll need them later."
   ]
  },
  {
   "cell_type": "code",
   "execution_count": 5,
   "id": "22869494",
   "metadata": {
    "execution": {
     "iopub.execute_input": "2024-09-22T12:30:03.048347Z",
     "iopub.status.busy": "2024-09-22T12:30:03.048246Z",
     "iopub.status.idle": "2024-09-22T12:30:09.530960Z",
     "shell.execute_reply": "2024-09-22T12:30:09.530523Z"
    }
   },
   "outputs": [
    {
     "name": "stdout",
     "output_type": "stream",
     "text": [
      "\u001b[34mINFO    \u001b[0m Downloading file at \u001b[35m/tmp/tmpyhtb3zgo/\u001b[0m\u001b[95mhca_subsampled_20k.h5ad\u001b[0m                                              \n"
     ]
    },
    {
     "data": {
      "application/vnd.jupyter.widget-view+json": {
       "model_id": "800ce6f0e03441f2b7197ad013bbaac2",
       "version_major": 2,
       "version_minor": 0
      },
      "text/plain": [
       "Downloading...:   0%|          | 0/65714.0 [00:00<?, ?it/s]"
      ]
     },
     "metadata": {},
     "output_type": "display_data"
    }
   ],
   "source": [
    "adata = scvi.data.heart_cell_atlas_subsampled(save_path=save_dir.name)"
   ]
  },
  {
   "cell_type": "code",
   "execution_count": 6,
   "id": "05c34f47",
   "metadata": {
    "execution": {
     "iopub.execute_input": "2024-09-22T12:30:09.532950Z",
     "iopub.status.busy": "2024-09-22T12:30:09.532849Z",
     "iopub.status.idle": "2024-09-22T12:30:13.807186Z",
     "shell.execute_reply": "2024-09-22T12:30:13.806718Z"
    }
   },
   "outputs": [],
   "source": [
    "sc.pp.filter_genes(adata, min_counts=3)\n",
    "adata.layers[\"counts\"] = adata.X.copy()\n",
    "sc.pp.normalize_total(adata, target_sum=1e4)\n",
    "sc.pp.log1p(adata)\n",
    "adata.raw = adata\n",
    "sc.pp.highly_variable_genes(\n",
    "    adata,\n",
    "    n_top_genes=1200,\n",
    "    subset=True,\n",
    "    layer=\"counts\",\n",
    "    flavor=\"seurat_v3\",\n",
    "    batch_key=\"cell_source\",\n",
    ")"
   ]
  },
  {
   "cell_type": "code",
   "execution_count": 7,
   "id": "bcd5e56d",
   "metadata": {
    "execution": {
     "iopub.execute_input": "2024-09-22T12:30:13.808944Z",
     "iopub.status.busy": "2024-09-22T12:30:13.808843Z",
     "iopub.status.idle": "2024-09-22T12:30:13.824554Z",
     "shell.execute_reply": "2024-09-22T12:30:13.824172Z"
    }
   },
   "outputs": [],
   "source": [
    "scvi.model.SCVI.setup_anndata(\n",
    "    adata,\n",
    "    layer=\"counts\",\n",
    "    categorical_covariate_keys=[\"cell_source\", \"donor\"],\n",
    "    continuous_covariate_keys=[\"percent_mito\", \"percent_ribo\"],\n",
    ")\n",
    "model = scvi.model.SCVI(adata)"
   ]
  },
  {
   "cell_type": "code",
   "execution_count": 8,
   "id": "84345f0d",
   "metadata": {
    "execution": {
     "iopub.execute_input": "2024-09-22T12:30:13.826258Z",
     "iopub.status.busy": "2024-09-22T12:30:13.826161Z",
     "iopub.status.idle": "2024-09-22T12:30:27.519387Z",
     "shell.execute_reply": "2024-09-22T12:30:27.519086Z"
    }
   },
   "outputs": [
    {
     "name": "stderr",
     "output_type": "stream",
     "text": [
      "GPU available: True (cuda), used: True\n"
     ]
    },
    {
     "name": "stderr",
     "output_type": "stream",
     "text": [
      "TPU available: False, using: 0 TPU cores\n"
     ]
    },
    {
     "name": "stderr",
     "output_type": "stream",
     "text": [
      "HPU available: False, using: 0 HPUs\n"
     ]
    },
    {
     "name": "stderr",
     "output_type": "stream",
     "text": [
      "LOCAL_RANK: 0 - CUDA_VISIBLE_DEVICES: [0]\n"
     ]
    },
    {
     "name": "stderr",
     "output_type": "stream",
     "text": [
      "/usr/local/lib/python3.12/site-packages/lightning/pytorch/trainer/connectors/data_connector.py:424: The 'train_dataloader' does not have many workers which may be a bottleneck. Consider increasing the value of the `num_workers` argument` to `num_workers=63` in the `DataLoader` to improve performance.\n"
     ]
    },
    {
     "data": {
      "application/vnd.jupyter.widget-view+json": {
       "model_id": "e5329735b20b4e518dde57fe42f91478",
       "version_major": 2,
       "version_minor": 0
      },
      "text/plain": [
       "Training:   0%|          | 0/20 [00:00<?, ?it/s]"
      ]
     },
     "metadata": {},
     "output_type": "display_data"
    },
    {
     "name": "stderr",
     "output_type": "stream",
     "text": [
      "`Trainer.fit` stopped: `max_epochs=20` reached.\n"
     ]
    }
   ],
   "source": [
    "model.train(max_epochs=20)"
   ]
  },
  {
   "cell_type": "code",
   "execution_count": 9,
   "id": "a45cec7d",
   "metadata": {
    "execution": {
     "iopub.execute_input": "2024-09-22T12:30:27.520882Z",
     "iopub.status.busy": "2024-09-22T12:30:27.520790Z",
     "iopub.status.idle": "2024-09-22T12:30:27.752601Z",
     "shell.execute_reply": "2024-09-22T12:30:27.752183Z"
    }
   },
   "outputs": [],
   "source": [
    "model_path = os.path.join(save_dir.name, \"scvi_hca\")\n",
    "model.save(model_path, save_anndata=True, overwrite=True)"
   ]
  },
  {
   "cell_type": "code",
   "execution_count": 10,
   "id": "0ba49f7b",
   "metadata": {
    "execution": {
     "iopub.execute_input": "2024-09-22T12:30:27.754180Z",
     "iopub.status.busy": "2024-09-22T12:30:27.754088Z",
     "iopub.status.idle": "2024-09-22T12:30:27.928688Z",
     "shell.execute_reply": "2024-09-22T12:30:27.928377Z"
    }
   },
   "outputs": [
    {
     "name": "stdout",
     "output_type": "stream",
     "text": [
      "\u001b[34mINFO    \u001b[0m File \u001b[35m/tmp/tmpyhtb3zgo/scvi_hca/\u001b[0m\u001b[95mmodel.pt\u001b[0m already downloaded                                                \n"
     ]
    },
    {
     "name": "stderr",
     "output_type": "stream",
     "text": [
      "/usr/local/lib/python3.12/site-packages/scvi/model/base/_save_load.py:76: FutureWarning: You are using `torch.load` with `weights_only=False` (the current default value), which uses the default pickle module implicitly. It is possible to construct malicious pickle data which will execute arbitrary code during unpickling (See https://github.com/pytorch/pytorch/blob/main/SECURITY.md#untrusted-models for more details). In a future release, the default value for `weights_only` will be flipped to `True`. This limits the functions that could be executed during unpickling. Arbitrary objects will no longer be allowed to be loaded via this mode unless they are explicitly allowlisted by the user via `torch.serialization.add_safe_globals`. We recommend you start setting `weights_only=True` for any use case where you don't have full control of the loaded file. Please open an issue on GitHub for any issues related to this experimental feature.\n",
      "  model = torch.load(model_path, map_location=map_location)\n"
     ]
    },
    {
     "data": {
      "text/html": [
       "<pre style=\"white-space:pre;overflow-x:auto;line-height:normal;font-family:Menlo,'DejaVu Sans Mono',consolas,'Courier New',monospace\">SCVI model with the following parameters: \n",
       "n_hidden: <span style=\"color: #008080; text-decoration-color: #008080; font-weight: bold\">128</span>, n_latent: <span style=\"color: #008080; text-decoration-color: #008080; font-weight: bold\">10</span>, n_layers: <span style=\"color: #008080; text-decoration-color: #008080; font-weight: bold\">1</span>, dropout_rate: <span style=\"color: #008080; text-decoration-color: #008080; font-weight: bold\">0.1</span>, dispersion: gene, gene_likelihood: zinb, \n",
       "latent_distribution: normal.\n",
       "Training status: Trained\n",
       "Model's adata is minified?: <span style=\"color: #ff0000; text-decoration-color: #ff0000; font-style: italic\">False</span>\n",
       "</pre>\n"
      ],
      "text/plain": [
       "SCVI model with the following parameters: \n",
       "n_hidden: \u001b[1;36m128\u001b[0m, n_latent: \u001b[1;36m10\u001b[0m, n_layers: \u001b[1;36m1\u001b[0m, dropout_rate: \u001b[1;36m0.1\u001b[0m, dispersion: gene, gene_likelihood: zinb, \n",
       "latent_distribution: normal.\n",
       "Training status: Trained\n",
       "Model's adata is minified?: \u001b[3;91mFalse\u001b[0m\n"
      ]
     },
     "metadata": {},
     "output_type": "display_data"
    },
    {
     "data": {
      "text/plain": []
     },
     "execution_count": 10,
     "metadata": {},
     "output_type": "execute_result"
    }
   ],
   "source": [
    "model = scvi.model.SCVI.load(model_path)\n",
    "model"
   ]
  },
  {
   "attachments": {},
   "cell_type": "markdown",
   "id": "435542fe",
   "metadata": {},
   "source": [
    "Note that, as expected, \"Model's adata is minified\" is False."
   ]
  },
  {
   "cell_type": "code",
   "execution_count": 11,
   "id": "8fe7cd11",
   "metadata": {
    "execution": {
     "iopub.execute_input": "2024-09-22T12:30:27.929648Z",
     "iopub.status.busy": "2024-09-22T12:30:27.929554Z",
     "iopub.status.idle": "2024-09-22T12:30:27.931707Z",
     "shell.execute_reply": "2024-09-22T12:30:27.931483Z"
    }
   },
   "outputs": [
    {
     "data": {
      "text/plain": [
       "AnnData object with n_obs × n_vars = 18641 × 1200\n",
       "    obs: 'NRP', 'age_group', 'cell_source', 'cell_type', 'donor', 'gender', 'n_counts', 'n_genes', 'percent_mito', 'percent_ribo', 'region', 'sample', 'scrublet_score', 'source', 'type', 'version', 'cell_states', 'Used', '_scvi_batch', '_scvi_labels'\n",
       "    var: 'gene_ids-Harvard-Nuclei', 'feature_types-Harvard-Nuclei', 'gene_ids-Sanger-Nuclei', 'feature_types-Sanger-Nuclei', 'gene_ids-Sanger-Cells', 'feature_types-Sanger-Cells', 'gene_ids-Sanger-CD45', 'feature_types-Sanger-CD45', 'n_counts', 'highly_variable', 'highly_variable_rank', 'means', 'variances', 'variances_norm', 'highly_variable_nbatches'\n",
       "    uns: '_scvi_manager_uuid', '_scvi_uuid', 'cell_type_colors', 'hvg', 'log1p'\n",
       "    obsm: '_scvi_extra_categorical_covs', '_scvi_extra_continuous_covs'\n",
       "    layers: 'counts'"
      ]
     },
     "execution_count": 11,
     "metadata": {},
     "output_type": "execute_result"
    }
   ],
   "source": [
    "model.adata"
   ]
  },
  {
   "attachments": {},
   "cell_type": "markdown",
   "id": "150f41f6",
   "metadata": {},
   "source": [
    "Notice that in addition to `adata.X`, we also have a layer (`counts`) and a `raw` attribute."
   ]
  },
  {
   "cell_type": "code",
   "execution_count": 12,
   "id": "4184fcfc",
   "metadata": {
    "execution": {
     "iopub.execute_input": "2024-09-22T12:30:27.932669Z",
     "iopub.status.busy": "2024-09-22T12:30:27.932485Z",
     "iopub.status.idle": "2024-09-22T12:30:27.934334Z",
     "shell.execute_reply": "2024-09-22T12:30:27.934107Z"
    }
   },
   "outputs": [
    {
     "data": {
      "text/plain": [
       "<anndata._core.raw.Raw at 0x7a7222581640>"
      ]
     },
     "execution_count": 12,
     "metadata": {},
     "output_type": "execute_result"
    }
   ],
   "source": [
    "model.adata.raw"
   ]
  },
  {
   "attachments": {},
   "cell_type": "markdown",
   "id": "832acb1e",
   "metadata": {},
   "source": [
    "Let's also save a reference to `model.adata`. We'll see later that this remains unchanged because **minification is not an inplace procedure**."
   ]
  },
  {
   "cell_type": "code",
   "execution_count": 13,
   "id": "776e0e84",
   "metadata": {
    "execution": {
     "iopub.execute_input": "2024-09-22T12:30:27.935139Z",
     "iopub.status.busy": "2024-09-22T12:30:27.935058Z",
     "iopub.status.idle": "2024-09-22T12:30:27.936992Z",
     "shell.execute_reply": "2024-09-22T12:30:27.936764Z"
    }
   },
   "outputs": [
    {
     "data": {
      "text/plain": [
       "True"
      ]
     },
     "execution_count": 13,
     "metadata": {},
     "output_type": "execute_result"
    }
   ],
   "source": [
    "bdata = model.adata\n",
    "bdata is model.adata  # this should be True because we didn't copy the anndata object"
   ]
  },
  {
   "attachments": {},
   "cell_type": "markdown",
   "id": "d919fa66",
   "metadata": {},
   "source": [
    "## Minify"
   ]
  },
  {
   "attachments": {},
   "cell_type": "markdown",
   "id": "c86693f5",
   "metadata": {},
   "source": [
    "To minify the data, all we need to do is:\n",
    "\n",
    "1. get the latent representation and store it in the adata\n",
    "1. call `model.minify_adata()`"
   ]
  },
  {
   "cell_type": "code",
   "execution_count": 14,
   "id": "cd6c5291",
   "metadata": {
    "execution": {
     "iopub.execute_input": "2024-09-22T12:30:27.937801Z",
     "iopub.status.busy": "2024-09-22T12:30:27.937682Z",
     "iopub.status.idle": "2024-09-22T12:30:28.055503Z",
     "shell.execute_reply": "2024-09-22T12:30:28.055241Z"
    }
   },
   "outputs": [
    {
     "name": "stdout",
     "output_type": "stream",
     "text": [
      "\u001b[34mINFO    \u001b[0m Input AnnData not setup with scvi-tools. attempting to transfer AnnData setup                             \n"
     ]
    },
    {
     "name": "stdout",
     "output_type": "stream",
     "text": [
      "\u001b[34mINFO    \u001b[0m Generating sequential column names                                                                        \n"
     ]
    },
    {
     "name": "stdout",
     "output_type": "stream",
     "text": [
      "\u001b[34mINFO    \u001b[0m Generating sequential column names                                                                        \n"
     ]
    }
   ],
   "source": [
    "qzm, qzv = model.get_latent_representation(give_mean=False, return_dist=True)\n",
    "model.adata.obsm[\"X_latent_qzm\"] = qzm\n",
    "model.adata.obsm[\"X_latent_qzv\"] = qzv\n",
    "\n",
    "model.minify_adata()"
   ]
  },
  {
   "cell_type": "code",
   "execution_count": 15,
   "id": "3bc62561",
   "metadata": {
    "execution": {
     "iopub.execute_input": "2024-09-22T12:30:28.056377Z",
     "iopub.status.busy": "2024-09-22T12:30:28.056287Z",
     "iopub.status.idle": "2024-09-22T12:30:28.060677Z",
     "shell.execute_reply": "2024-09-22T12:30:28.060452Z"
    }
   },
   "outputs": [
    {
     "data": {
      "text/html": [
       "<pre style=\"white-space:pre;overflow-x:auto;line-height:normal;font-family:Menlo,'DejaVu Sans Mono',consolas,'Courier New',monospace\">SCVI model with the following parameters: \n",
       "n_hidden: <span style=\"color: #008080; text-decoration-color: #008080; font-weight: bold\">128</span>, n_latent: <span style=\"color: #008080; text-decoration-color: #008080; font-weight: bold\">10</span>, n_layers: <span style=\"color: #008080; text-decoration-color: #008080; font-weight: bold\">1</span>, dropout_rate: <span style=\"color: #008080; text-decoration-color: #008080; font-weight: bold\">0.1</span>, dispersion: gene, gene_likelihood: zinb, \n",
       "latent_distribution: normal.\n",
       "Training status: Trained\n",
       "Model's adata is minified?: <span style=\"color: #00ff00; text-decoration-color: #00ff00; font-style: italic\">True</span>\n",
       "</pre>\n"
      ],
      "text/plain": [
       "SCVI model with the following parameters: \n",
       "n_hidden: \u001b[1;36m128\u001b[0m, n_latent: \u001b[1;36m10\u001b[0m, n_layers: \u001b[1;36m1\u001b[0m, dropout_rate: \u001b[1;36m0.1\u001b[0m, dispersion: gene, gene_likelihood: zinb, \n",
       "latent_distribution: normal.\n",
       "Training status: Trained\n",
       "Model's adata is minified?: \u001b[3;92mTrue\u001b[0m\n"
      ]
     },
     "metadata": {},
     "output_type": "display_data"
    },
    {
     "data": {
      "text/plain": []
     },
     "execution_count": 15,
     "metadata": {},
     "output_type": "execute_result"
    }
   ],
   "source": [
    "model"
   ]
  },
  {
   "attachments": {},
   "cell_type": "markdown",
   "id": "71ca6950",
   "metadata": {},
   "source": [
    "As expected, \"Model's adata is minified\" is now True. Also, we can check the model's `minified_data_type`:"
   ]
  },
  {
   "cell_type": "code",
   "execution_count": 16,
   "id": "1b320565",
   "metadata": {
    "execution": {
     "iopub.execute_input": "2024-09-22T12:30:28.061551Z",
     "iopub.status.busy": "2024-09-22T12:30:28.061465Z",
     "iopub.status.idle": "2024-09-22T12:30:28.063970Z",
     "shell.execute_reply": "2024-09-22T12:30:28.063741Z"
    }
   },
   "outputs": [
    {
     "data": {
      "text/plain": [
       "'latent_posterior_parameters'"
      ]
     },
     "execution_count": 16,
     "metadata": {},
     "output_type": "execute_result"
    }
   ],
   "source": [
    "model.minified_data_type"
   ]
  },
  {
   "attachments": {},
   "cell_type": "markdown",
   "id": "ece17baa",
   "metadata": {},
   "source": [
    "Let's check out the data now:"
   ]
  },
  {
   "cell_type": "code",
   "execution_count": 17,
   "id": "79a6b64b",
   "metadata": {
    "execution": {
     "iopub.execute_input": "2024-09-22T12:30:28.064856Z",
     "iopub.status.busy": "2024-09-22T12:30:28.064769Z",
     "iopub.status.idle": "2024-09-22T12:30:28.066766Z",
     "shell.execute_reply": "2024-09-22T12:30:28.066538Z"
    }
   },
   "outputs": [
    {
     "data": {
      "text/plain": [
       "AnnData object with n_obs × n_vars = 18641 × 1200\n",
       "    obs: 'NRP', 'age_group', 'cell_source', 'cell_type', 'donor', 'gender', 'n_counts', 'n_genes', 'percent_mito', 'percent_ribo', 'region', 'sample', 'scrublet_score', 'source', 'type', 'version', 'cell_states', 'Used', '_scvi_batch', '_scvi_labels', '_scvi_observed_lib_size'\n",
       "    var: 'gene_ids-Harvard-Nuclei', 'feature_types-Harvard-Nuclei', 'gene_ids-Sanger-Nuclei', 'feature_types-Sanger-Nuclei', 'gene_ids-Sanger-Cells', 'feature_types-Sanger-Cells', 'gene_ids-Sanger-CD45', 'feature_types-Sanger-CD45', 'n_counts', 'highly_variable', 'highly_variable_rank', 'means', 'variances', 'variances_norm', 'highly_variable_nbatches'\n",
       "    uns: '_scvi_manager_uuid', 'cell_type_colors', 'hvg', 'log1p', '_scvi_adata_minify_type', '_scvi_uuid'\n",
       "    obsm: '_scvi_extra_categorical_covs', '_scvi_extra_continuous_covs', 'X_latent_qzm', 'X_latent_qzv', '_scvi_latent_qzm', '_scvi_latent_qzv'\n",
       "    layers: 'counts'"
      ]
     },
     "execution_count": 17,
     "metadata": {},
     "output_type": "execute_result"
    }
   ],
   "source": [
    "model.adata"
   ]
  },
  {
   "attachments": {},
   "cell_type": "markdown",
   "id": "eb2fb724",
   "metadata": {},
   "source": [
    "First, let's check that the original adata was not modified (minification is not inplace):"
   ]
  },
  {
   "cell_type": "code",
   "execution_count": 18,
   "id": "aeaa029e",
   "metadata": {
    "execution": {
     "iopub.execute_input": "2024-09-22T12:30:28.067591Z",
     "iopub.status.busy": "2024-09-22T12:30:28.067511Z",
     "iopub.status.idle": "2024-09-22T12:30:28.069420Z",
     "shell.execute_reply": "2024-09-22T12:30:28.069191Z"
    }
   },
   "outputs": [
    {
     "data": {
      "text/plain": [
       "False"
      ]
     },
     "execution_count": 18,
     "metadata": {},
     "output_type": "execute_result"
    }
   ],
   "source": [
    "model.adata is bdata"
   ]
  },
  {
   "attachments": {},
   "cell_type": "markdown",
   "id": "dd1bec6a",
   "metadata": {},
   "source": [
    "Next, we see that we still have the same number of obs and vars: 18641 × 1200. This seems strange! Didn't we say we minized the data? We did. The way we did that is we \"emptied\" the contents of `adata.X`, `adata.layers[\"counts\"]`, and `adata.raw`. Instead, we cached the much smaller latent posterior parameters in `adata.obsm[\"_scvi_latent_qzm\"]` and `adata.obsm[\"_scvi_latent_qzv\"]`. Let's double check that:"
   ]
  },
  {
   "cell_type": "code",
   "execution_count": 19,
   "id": "cc5b771d",
   "metadata": {
    "execution": {
     "iopub.execute_input": "2024-09-22T12:30:28.070257Z",
     "iopub.status.busy": "2024-09-22T12:30:28.070078Z",
     "iopub.status.idle": "2024-09-22T12:30:28.071977Z",
     "shell.execute_reply": "2024-09-22T12:30:28.071751Z"
    }
   },
   "outputs": [
    {
     "data": {
      "text/plain": [
       "<Compressed Sparse Row sparse matrix of dtype 'float64'\n",
       "\twith 0 stored elements and shape (18641, 1200)>"
      ]
     },
     "execution_count": 19,
     "metadata": {},
     "output_type": "execute_result"
    }
   ],
   "source": [
    "model.adata.X"
   ]
  },
  {
   "cell_type": "code",
   "execution_count": 20,
   "id": "adafa4ac",
   "metadata": {
    "execution": {
     "iopub.execute_input": "2024-09-22T12:30:28.072728Z",
     "iopub.status.busy": "2024-09-22T12:30:28.072641Z",
     "iopub.status.idle": "2024-09-22T12:30:28.074681Z",
     "shell.execute_reply": "2024-09-22T12:30:28.074453Z"
    }
   },
   "outputs": [
    {
     "data": {
      "text/plain": [
       "<Compressed Sparse Row sparse matrix of dtype 'float64'\n",
       "\twith 0 stored elements and shape (18641, 1200)>"
      ]
     },
     "execution_count": 20,
     "metadata": {},
     "output_type": "execute_result"
    }
   ],
   "source": [
    "model.adata.layers[\"counts\"]"
   ]
  },
  {
   "cell_type": "code",
   "execution_count": 21,
   "id": "b808c34c",
   "metadata": {
    "execution": {
     "iopub.execute_input": "2024-09-22T12:30:28.075387Z",
     "iopub.status.busy": "2024-09-22T12:30:28.075306Z",
     "iopub.status.idle": "2024-09-22T12:30:28.077187Z",
     "shell.execute_reply": "2024-09-22T12:30:28.076962Z"
    }
   },
   "outputs": [
    {
     "data": {
      "text/plain": [
       "True"
      ]
     },
     "execution_count": 21,
     "metadata": {},
     "output_type": "execute_result"
    }
   ],
   "source": [
    "model.adata.raw is None"
   ]
  },
  {
   "cell_type": "code",
   "execution_count": 22,
   "id": "8ed8d48f",
   "metadata": {
    "execution": {
     "iopub.execute_input": "2024-09-22T12:30:28.077908Z",
     "iopub.status.busy": "2024-09-22T12:30:28.077797Z",
     "iopub.status.idle": "2024-09-22T12:30:28.079662Z",
     "shell.execute_reply": "2024-09-22T12:30:28.079437Z"
    }
   },
   "outputs": [
    {
     "data": {
      "text/plain": [
       "AnnData object with n_obs × n_vars = 18641 × 1200\n",
       "    obs: 'NRP', 'age_group', 'cell_source', 'cell_type', 'donor', 'gender', 'n_counts', 'n_genes', 'percent_mito', 'percent_ribo', 'region', 'sample', 'scrublet_score', 'source', 'type', 'version', 'cell_states', 'Used', '_scvi_batch', '_scvi_labels'\n",
       "    var: 'gene_ids-Harvard-Nuclei', 'feature_types-Harvard-Nuclei', 'gene_ids-Sanger-Nuclei', 'feature_types-Sanger-Nuclei', 'gene_ids-Sanger-Cells', 'feature_types-Sanger-Cells', 'gene_ids-Sanger-CD45', 'feature_types-Sanger-CD45', 'n_counts', 'highly_variable', 'highly_variable_rank', 'means', 'variances', 'variances_norm', 'highly_variable_nbatches'\n",
       "    uns: '_scvi_manager_uuid', '_scvi_uuid', 'cell_type_colors', 'hvg', 'log1p'\n",
       "    obsm: '_scvi_extra_categorical_covs', '_scvi_extra_continuous_covs', 'X_latent_qzm', 'X_latent_qzv'\n",
       "    layers: 'counts'"
      ]
     },
     "execution_count": 22,
     "metadata": {},
     "output_type": "execute_result"
    }
   ],
   "source": [
    "bdata"
   ]
  },
  {
   "attachments": {},
   "cell_type": "markdown",
   "id": "ee9b7b0b",
   "metadata": {},
   "source": [
    "Everything else is the same, all the other metadata is there.\n",
    "\n",
    "But is the data really smaller now? Let's check:"
   ]
  },
  {
   "cell_type": "code",
   "execution_count": 23,
   "id": "d63b70ae",
   "metadata": {
    "execution": {
     "iopub.execute_input": "2024-09-22T12:30:28.080398Z",
     "iopub.status.busy": "2024-09-22T12:30:28.080317Z",
     "iopub.status.idle": "2024-09-22T12:30:28.131807Z",
     "shell.execute_reply": "2024-09-22T12:30:28.131263Z"
    }
   },
   "outputs": [],
   "source": [
    "minified_model_path = os.path.join(save_dir.name, \"scvi_hca_minified\")\n",
    "model.save(minified_model_path, save_anndata=True, overwrite=True)"
   ]
  },
  {
   "cell_type": "code",
   "execution_count": 24,
   "id": "79f2f24a",
   "metadata": {
    "execution": {
     "iopub.execute_input": "2024-09-22T12:30:28.133403Z",
     "iopub.status.busy": "2024-09-22T12:30:28.133307Z",
     "iopub.status.idle": "2024-09-22T12:30:28.135531Z",
     "shell.execute_reply": "2024-09-22T12:30:28.135268Z"
    }
   },
   "outputs": [
    {
     "name": "stdout",
     "output_type": "stream",
     "text": [
      "AnnData size before minification: 212 MB\n",
      "AnnData size after minification: 8 MB\n"
     ]
    }
   ],
   "source": [
    "before = os.path.getsize(os.path.join(model_path, \"adata.h5ad\")) // (1024 * 1024)\n",
    "after = os.path.getsize(os.path.join(minified_model_path, \"adata.h5ad\")) // (1024 * 1024)\n",
    "\n",
    "print(f\"AnnData size before minification: {before} MB\")\n",
    "print(f\"AnnData size after minification: {after} MB\")"
   ]
  },
  {
   "attachments": {},
   "cell_type": "markdown",
   "id": "b73102c2",
   "metadata": {},
   "source": [
    "We also see a a new uns key called `_scvi_adata_minify_type`. This specifies the type of minification. It's the same as `model.minified_data_type`. In fact this is a quick way to tell if your data is minified. We also expose a utility function to check that quickly."
   ]
  },
  {
   "cell_type": "code",
   "execution_count": 25,
   "id": "2bfe604b",
   "metadata": {
    "execution": {
     "iopub.execute_input": "2024-09-22T12:30:28.136470Z",
     "iopub.status.busy": "2024-09-22T12:30:28.136348Z",
     "iopub.status.idle": "2024-09-22T12:30:28.138350Z",
     "shell.execute_reply": "2024-09-22T12:30:28.138114Z"
    }
   },
   "outputs": [
    {
     "data": {
      "text/plain": [
       "'latent_posterior_parameters'"
      ]
     },
     "execution_count": 25,
     "metadata": {},
     "output_type": "execute_result"
    }
   ],
   "source": [
    "model.adata.uns[\"_scvi_adata_minify_type\"]"
   ]
  },
  {
   "cell_type": "code",
   "execution_count": 26,
   "id": "42ade97a",
   "metadata": {
    "execution": {
     "iopub.execute_input": "2024-09-22T12:30:28.139275Z",
     "iopub.status.busy": "2024-09-22T12:30:28.139096Z",
     "iopub.status.idle": "2024-09-22T12:30:28.140965Z",
     "shell.execute_reply": "2024-09-22T12:30:28.140742Z"
    }
   },
   "outputs": [
    {
     "data": {
      "text/plain": [
       "True"
      ]
     },
     "execution_count": 26,
     "metadata": {},
     "output_type": "execute_result"
    }
   ],
   "source": [
    "scvi.data._utils._is_minified(model.adata)"
   ]
  },
  {
   "attachments": {},
   "cell_type": "markdown",
   "id": "670290ce",
   "metadata": {},
   "source": [
    "Last but not least, you might have noticed that there is a new obs columns called `_scvi_observed_lib_size`. We add the pre-computed per-cell library sizes to this column and use it during inference, because the minified data is deprived of the full counts.\n",
    "\n",
    "Another claim we made earlier is that analysis functions are faster if you use the minified data. Let's time how much they take. Here we'll look at the `get_likelihood_parameters` method."
   ]
  },
  {
   "cell_type": "code",
   "execution_count": 27,
   "id": "ce41ef00",
   "metadata": {
    "execution": {
     "iopub.execute_input": "2024-09-22T12:30:28.141783Z",
     "iopub.status.busy": "2024-09-22T12:30:28.141703Z",
     "iopub.status.idle": "2024-09-22T12:30:46.301341Z",
     "shell.execute_reply": "2024-09-22T12:30:46.300994Z"
    }
   },
   "outputs": [
    {
     "name": "stdout",
     "output_type": "stream",
     "text": [
      "\u001b[34mINFO    \u001b[0m File \u001b[35m/tmp/tmpyhtb3zgo/scvi_hca/\u001b[0m\u001b[95mmodel.pt\u001b[0m already downloaded                                                \n"
     ]
    },
    {
     "name": "stdout",
     "output_type": "stream",
     "text": [
      "Running `get_likelihood_parameters` without minified data...\n"
     ]
    },
    {
     "name": "stderr",
     "output_type": "stream",
     "text": [
      "/usr/local/lib/python3.12/site-packages/scvi/model/base/_save_load.py:76: FutureWarning: You are using `torch.load` with `weights_only=False` (the current default value), which uses the default pickle module implicitly. It is possible to construct malicious pickle data which will execute arbitrary code during unpickling (See https://github.com/pytorch/pytorch/blob/main/SECURITY.md#untrusted-models for more details). In a future release, the default value for `weights_only` will be flipped to `True`. This limits the functions that could be executed during unpickling. Arbitrary objects will no longer be allowed to be loaded via this mode unless they are explicitly allowlisted by the user via `torch.serialization.add_safe_globals`. We recommend you start setting `weights_only=True` for any use case where you don't have full control of the loaded file. Please open an issue on GitHub for any issues related to this experimental feature.\n",
      "  model = torch.load(model_path, map_location=map_location)\n"
     ]
    },
    {
     "name": "stdout",
     "output_type": "stream",
     "text": [
      "2.19 s ± 30.4 ms per loop (mean ± std. dev. of 7 runs, 1 loop each)\n"
     ]
    }
   ],
   "source": [
    "model_orig = scvi.model.SCVI.load(model_path)\n",
    "\n",
    "print(\"Running `get_likelihood_parameters` without minified data...\")\n",
    "%timeit model_orig.get_likelihood_parameters(n_samples=3, give_mean=True)"
   ]
  },
  {
   "cell_type": "code",
   "execution_count": 28,
   "id": "78ea1dac",
   "metadata": {
    "execution": {
     "iopub.execute_input": "2024-09-22T12:30:46.302405Z",
     "iopub.status.busy": "2024-09-22T12:30:46.302302Z",
     "iopub.status.idle": "2024-09-22T12:31:04.505351Z",
     "shell.execute_reply": "2024-09-22T12:31:04.505010Z"
    }
   },
   "outputs": [
    {
     "name": "stdout",
     "output_type": "stream",
     "text": [
      "Running `get_likelihood_parameters` with minified data...\n"
     ]
    },
    {
     "name": "stdout",
     "output_type": "stream",
     "text": [
      "2.28 s ± 76.2 ms per loop (mean ± std. dev. of 7 runs, 1 loop each)\n"
     ]
    }
   ],
   "source": [
    "print(\"Running `get_likelihood_parameters` with minified data...\")\n",
    "%timeit model.get_likelihood_parameters(n_samples=3, give_mean=True)"
   ]
  },
  {
   "attachments": {},
   "cell_type": "markdown",
   "id": "964f9740",
   "metadata": {},
   "source": [
    "Time savings are not very sharp in the case of this dataset, but there are some marginal savings regardless."
   ]
  },
  {
   "attachments": {},
   "cell_type": "markdown",
   "id": "22c37d5a",
   "metadata": {},
   "source": [
    "## Save and load\n",
    "\n",
    "Just like a regular model, you can save the model and its minified data, and load them back in:"
   ]
  },
  {
   "cell_type": "code",
   "execution_count": 29,
   "id": "4a899e25",
   "metadata": {
    "execution": {
     "iopub.execute_input": "2024-09-22T12:31:04.506420Z",
     "iopub.status.busy": "2024-09-22T12:31:04.506309Z",
     "iopub.status.idle": "2024-09-22T12:31:04.614905Z",
     "shell.execute_reply": "2024-09-22T12:31:04.614656Z"
    }
   },
   "outputs": [
    {
     "name": "stdout",
     "output_type": "stream",
     "text": [
      "\u001b[34mINFO    \u001b[0m File \u001b[35m/tmp/tmpyhtb3zgo/scvi_hca_minified/\u001b[0m\u001b[95mmodel.pt\u001b[0m already downloaded                                       \n"
     ]
    },
    {
     "name": "stderr",
     "output_type": "stream",
     "text": [
      "/usr/local/lib/python3.12/site-packages/scvi/model/base/_save_load.py:76: FutureWarning: You are using `torch.load` with `weights_only=False` (the current default value), which uses the default pickle module implicitly. It is possible to construct malicious pickle data which will execute arbitrary code during unpickling (See https://github.com/pytorch/pytorch/blob/main/SECURITY.md#untrusted-models for more details). In a future release, the default value for `weights_only` will be flipped to `True`. This limits the functions that could be executed during unpickling. Arbitrary objects will no longer be allowed to be loaded via this mode unless they are explicitly allowlisted by the user via `torch.serialization.add_safe_globals`. We recommend you start setting `weights_only=True` for any use case where you don't have full control of the loaded file. Please open an issue on GitHub for any issues related to this experimental feature.\n",
      "  model = torch.load(model_path, map_location=map_location)\n"
     ]
    },
    {
     "data": {
      "text/html": [
       "<pre style=\"white-space:pre;overflow-x:auto;line-height:normal;font-family:Menlo,'DejaVu Sans Mono',consolas,'Courier New',monospace\">SCVI model with the following parameters: \n",
       "n_hidden: <span style=\"color: #008080; text-decoration-color: #008080; font-weight: bold\">128</span>, n_latent: <span style=\"color: #008080; text-decoration-color: #008080; font-weight: bold\">10</span>, n_layers: <span style=\"color: #008080; text-decoration-color: #008080; font-weight: bold\">1</span>, dropout_rate: <span style=\"color: #008080; text-decoration-color: #008080; font-weight: bold\">0.1</span>, dispersion: gene, gene_likelihood: zinb, \n",
       "latent_distribution: normal.\n",
       "Training status: Trained\n",
       "Model's adata is minified?: <span style=\"color: #00ff00; text-decoration-color: #00ff00; font-style: italic\">True</span>\n",
       "</pre>\n"
      ],
      "text/plain": [
       "SCVI model with the following parameters: \n",
       "n_hidden: \u001b[1;36m128\u001b[0m, n_latent: \u001b[1;36m10\u001b[0m, n_layers: \u001b[1;36m1\u001b[0m, dropout_rate: \u001b[1;36m0.1\u001b[0m, dispersion: gene, gene_likelihood: zinb, \n",
       "latent_distribution: normal.\n",
       "Training status: Trained\n",
       "Model's adata is minified?: \u001b[3;92mTrue\u001b[0m\n"
      ]
     },
     "metadata": {},
     "output_type": "display_data"
    },
    {
     "data": {
      "text/plain": []
     },
     "execution_count": 29,
     "metadata": {},
     "output_type": "execute_result"
    }
   ],
   "source": [
    "model.save(minified_model_path, overwrite=True, save_anndata=True)\n",
    "\n",
    "# load saved model with saved (minified) adata\n",
    "loaded_model = scvi.model.SCVI.load(minified_model_path)\n",
    "loaded_model"
   ]
  },
  {
   "attachments": {},
   "cell_type": "markdown",
   "id": "57daa543",
   "metadata": {},
   "source": [
    "Next, let's load the model with a non-minified data."
   ]
  },
  {
   "cell_type": "code",
   "execution_count": 30,
   "id": "c71e218c",
   "metadata": {
    "execution": {
     "iopub.execute_input": "2024-09-22T12:31:04.615907Z",
     "iopub.status.busy": "2024-09-22T12:31:04.615820Z",
     "iopub.status.idle": "2024-09-22T12:31:04.633952Z",
     "shell.execute_reply": "2024-09-22T12:31:04.633711Z"
    }
   },
   "outputs": [
    {
     "name": "stdout",
     "output_type": "stream",
     "text": [
      "\u001b[34mINFO    \u001b[0m File \u001b[35m/tmp/tmpyhtb3zgo/scvi_hca/\u001b[0m\u001b[95mmodel.pt\u001b[0m already downloaded                                                \n"
     ]
    },
    {
     "name": "stderr",
     "output_type": "stream",
     "text": [
      "/usr/local/lib/python3.12/site-packages/scvi/model/base/_save_load.py:76: FutureWarning: You are using `torch.load` with `weights_only=False` (the current default value), which uses the default pickle module implicitly. It is possible to construct malicious pickle data which will execute arbitrary code during unpickling (See https://github.com/pytorch/pytorch/blob/main/SECURITY.md#untrusted-models for more details). In a future release, the default value for `weights_only` will be flipped to `True`. This limits the functions that could be executed during unpickling. Arbitrary objects will no longer be allowed to be loaded via this mode unless they are explicitly allowlisted by the user via `torch.serialization.add_safe_globals`. We recommend you start setting `weights_only=True` for any use case where you don't have full control of the loaded file. Please open an issue on GitHub for any issues related to this experimental feature.\n",
      "  model = torch.load(model_path, map_location=map_location)\n"
     ]
    },
    {
     "data": {
      "text/html": [
       "<pre style=\"white-space:pre;overflow-x:auto;line-height:normal;font-family:Menlo,'DejaVu Sans Mono',consolas,'Courier New',monospace\">SCVI model with the following parameters: \n",
       "n_hidden: <span style=\"color: #008080; text-decoration-color: #008080; font-weight: bold\">128</span>, n_latent: <span style=\"color: #008080; text-decoration-color: #008080; font-weight: bold\">10</span>, n_layers: <span style=\"color: #008080; text-decoration-color: #008080; font-weight: bold\">1</span>, dropout_rate: <span style=\"color: #008080; text-decoration-color: #008080; font-weight: bold\">0.1</span>, dispersion: gene, gene_likelihood: zinb, \n",
       "latent_distribution: normal.\n",
       "Training status: Trained\n",
       "Model's adata is minified?: <span style=\"color: #ff0000; text-decoration-color: #ff0000; font-style: italic\">False</span>\n",
       "</pre>\n"
      ],
      "text/plain": [
       "SCVI model with the following parameters: \n",
       "n_hidden: \u001b[1;36m128\u001b[0m, n_latent: \u001b[1;36m10\u001b[0m, n_layers: \u001b[1;36m1\u001b[0m, dropout_rate: \u001b[1;36m0.1\u001b[0m, dispersion: gene, gene_likelihood: zinb, \n",
       "latent_distribution: normal.\n",
       "Training status: Trained\n",
       "Model's adata is minified?: \u001b[3;91mFalse\u001b[0m\n"
      ]
     },
     "metadata": {},
     "output_type": "display_data"
    },
    {
     "data": {
      "text/plain": []
     },
     "execution_count": 30,
     "metadata": {},
     "output_type": "execute_result"
    }
   ],
   "source": [
    "loaded_model = scvi.model.SCVI.load(model_path, adata=bdata)\n",
    "loaded_model"
   ]
  },
  {
   "attachments": {},
   "cell_type": "markdown",
   "id": "a3db15e6",
   "metadata": {},
   "source": [
    "So if you want to \"undo\" the minification procedure, so to speak, you can always load your model with the non-minified data (if you still have it), or any other non-minified data for that matter, as long as it's compatible with the model of course.\n",
    "\n",
    "Last but not least, let's see what happens if we try to load a model whose adata was not minified, with a dataset that is minified:"
   ]
  },
  {
   "cell_type": "code",
   "execution_count": 31,
   "id": "723726bc",
   "metadata": {
    "execution": {
     "iopub.execute_input": "2024-09-22T12:31:04.634928Z",
     "iopub.status.busy": "2024-09-22T12:31:04.634841Z",
     "iopub.status.idle": "2024-09-22T12:31:04.636749Z",
     "shell.execute_reply": "2024-09-22T12:31:04.636571Z"
    }
   },
   "outputs": [
    {
     "data": {
      "text/plain": [
       "True"
      ]
     },
     "execution_count": 31,
     "metadata": {},
     "output_type": "execute_result"
    }
   ],
   "source": [
    "scvi.data._utils._is_minified(model.adata)"
   ]
  },
  {
   "cell_type": "code",
   "execution_count": 32,
   "id": "c88064b6",
   "metadata": {
    "execution": {
     "iopub.execute_input": "2024-09-22T12:31:04.637542Z",
     "iopub.status.busy": "2024-09-22T12:31:04.637462Z",
     "iopub.status.idle": "2024-09-22T12:31:04.646164Z",
     "shell.execute_reply": "2024-09-22T12:31:04.645961Z"
    }
   },
   "outputs": [
    {
     "name": "stdout",
     "output_type": "stream",
     "text": [
      "\u001b[34mINFO    \u001b[0m File \u001b[35m/tmp/tmpyhtb3zgo/scvi_hca/\u001b[0m\u001b[95mmodel.pt\u001b[0m already downloaded                                                \n"
     ]
    },
    {
     "name": "stdout",
     "output_type": "stream",
     "text": [
      "KeyError: 'state_registry'\n"
     ]
    },
    {
     "name": "stderr",
     "output_type": "stream",
     "text": [
      "/usr/local/lib/python3.12/site-packages/scvi/model/base/_save_load.py:76: FutureWarning: You are using `torch.load` with `weights_only=False` (the current default value), which uses the default pickle module implicitly. It is possible to construct malicious pickle data which will execute arbitrary code during unpickling (See https://github.com/pytorch/pytorch/blob/main/SECURITY.md#untrusted-models for more details). In a future release, the default value for `weights_only` will be flipped to `True`. This limits the functions that could be executed during unpickling. Arbitrary objects will no longer be allowed to be loaded via this mode unless they are explicitly allowlisted by the user via `torch.serialization.add_safe_globals`. We recommend you start setting `weights_only=True` for any use case where you don't have full control of the loaded file. Please open an issue on GitHub for any issues related to this experimental feature.\n",
      "  model = torch.load(model_path, map_location=map_location)\n"
     ]
    }
   ],
   "source": [
    "try:\n",
    "    scvi.model.SCVI.load(model_path, adata=model.adata)\n",
    "except KeyError as e:\n",
    "    print(\"KeyError: \" + str(e))"
   ]
  },
  {
   "attachments": {},
   "cell_type": "markdown",
   "id": "85d01faf",
   "metadata": {},
   "source": [
    "As we see, this is not allowed. This is because when you try to load a model with another dataset, we try to validate that dataset against the model's registry. In this case, the data is not compatible with the model registry because it has attributes pertaining to minification, which this model is not aware of."
   ]
  },
  {
   "attachments": {},
   "cell_type": "markdown",
   "id": "114aba4b",
   "metadata": {},
   "source": [
    "## Support\n",
    "\n",
    "Minification is not supported for all models yet. A model supports this functionality if and only if it inherits from the `BaseMinifiedModeModelClass` class. A model that does not support this:\n",
    "\n",
    "- does not have a `minify_adata()` method\n",
    "- cannot be loaded with a minified data. If you try to do this you will see this error:\n",
    "  \"The MyModel model currently does not support minified data.\"\n",
    "\n",
    "To support minification for your own model, inherit your model class from the `BaseMinifiedModeModelClass` and your module class from the `BaseMinifiedModeModuleClass`."
   ]
  }
 ],
 "metadata": {
  "kernelspec": {
   "display_name": "scvi-hub",
   "language": "python",
   "name": "python3"
  },
  "language_info": {
   "codemirror_mode": {
    "name": "ipython",
    "version": 3
   },
   "file_extension": ".py",
   "mimetype": "text/x-python",
   "name": "python",
   "nbconvert_exporter": "python",
   "pygments_lexer": "ipython3",
   "version": "3.12.6"
  },
  "vscode": {
   "interpreter": {
    "hash": "c7ad0fb529154325adae80858adf69263139128ad86800d0218f40cb1980a4c2"
   }
  },
  "widgets": {
   "application/vnd.jupyter.widget-state+json": {
    "state": {
     "19c0f9587a884fcf939f0ad057e41201": {
      "model_module": "@jupyter-widgets/base",
      "model_module_version": "2.0.0",
      "model_name": "LayoutModel",
      "state": {
       "_model_module": "@jupyter-widgets/base",
       "_model_module_version": "2.0.0",
       "_model_name": "LayoutModel",
       "_view_count": null,
       "_view_module": "@jupyter-widgets/base",
       "_view_module_version": "2.0.0",
       "_view_name": "LayoutView",
       "align_content": null,
       "align_items": null,
       "align_self": null,
       "border_bottom": null,
       "border_left": null,
       "border_right": null,
       "border_top": null,
       "bottom": null,
       "display": null,
       "flex": null,
       "flex_flow": null,
       "grid_area": null,
       "grid_auto_columns": null,
       "grid_auto_flow": null,
       "grid_auto_rows": null,
       "grid_column": null,
       "grid_gap": null,
       "grid_row": null,
       "grid_template_areas": null,
       "grid_template_columns": null,
       "grid_template_rows": null,
       "height": null,
       "justify_content": null,
       "justify_items": null,
       "left": null,
       "margin": null,
       "max_height": null,
       "max_width": null,
       "min_height": null,
       "min_width": null,
       "object_fit": null,
       "object_position": null,
       "order": null,
       "overflow": null,
       "padding": null,
       "right": null,
       "top": null,
       "visibility": null,
       "width": null
      }
     },
     "1a31ad85945442e2b8cc2ec496e434a2": {
      "model_module": "@jupyter-widgets/controls",
      "model_module_version": "2.0.0",
      "model_name": "ProgressStyleModel",
      "state": {
       "_model_module": "@jupyter-widgets/controls",
       "_model_module_version": "2.0.0",
       "_model_name": "ProgressStyleModel",
       "_view_count": null,
       "_view_module": "@jupyter-widgets/base",
       "_view_module_version": "2.0.0",
       "_view_name": "StyleView",
       "bar_color": null,
       "description_width": ""
      }
     },
     "365fc05cb401460192c1fce3a8bd46d6": {
      "model_module": "@jupyter-widgets/base",
      "model_module_version": "2.0.0",
      "model_name": "LayoutModel",
      "state": {
       "_model_module": "@jupyter-widgets/base",
       "_model_module_version": "2.0.0",
       "_model_name": "LayoutModel",
       "_view_count": null,
       "_view_module": "@jupyter-widgets/base",
       "_view_module_version": "2.0.0",
       "_view_name": "LayoutView",
       "align_content": null,
       "align_items": null,
       "align_self": null,
       "border_bottom": null,
       "border_left": null,
       "border_right": null,
       "border_top": null,
       "bottom": null,
       "display": null,
       "flex": null,
       "flex_flow": null,
       "grid_area": null,
       "grid_auto_columns": null,
       "grid_auto_flow": null,
       "grid_auto_rows": null,
       "grid_column": null,
       "grid_gap": null,
       "grid_row": null,
       "grid_template_areas": null,
       "grid_template_columns": null,
       "grid_template_rows": null,
       "height": null,
       "justify_content": null,
       "justify_items": null,
       "left": null,
       "margin": null,
       "max_height": null,
       "max_width": null,
       "min_height": null,
       "min_width": null,
       "object_fit": null,
       "object_position": null,
       "order": null,
       "overflow": null,
       "padding": null,
       "right": null,
       "top": null,
       "visibility": null,
       "width": null
      }
     },
     "482d717c03f047f3a9c67f145bf1a599": {
      "model_module": "@jupyter-widgets/controls",
      "model_module_version": "2.0.0",
      "model_name": "HTMLModel",
      "state": {
       "_dom_classes": [],
       "_model_module": "@jupyter-widgets/controls",
       "_model_module_version": "2.0.0",
       "_model_name": "HTMLModel",
       "_view_count": null,
       "_view_module": "@jupyter-widgets/controls",
       "_view_module_version": "2.0.0",
       "_view_name": "HTMLView",
       "description": "",
       "description_allow_html": false,
       "layout": "IPY_MODEL_4ae934b0f18c4a928ea2c1509154bc70",
       "placeholder": "​",
       "style": "IPY_MODEL_839e2fd0359f4b29ba089d4e9d75949a",
       "tabbable": null,
       "tooltip": null,
       "value": "Downloading...: 100%"
      }
     },
     "48cd1d06e1094438b44a4b18211a8209": {
      "model_module": "@jupyter-widgets/controls",
      "model_module_version": "2.0.0",
      "model_name": "ProgressStyleModel",
      "state": {
       "_model_module": "@jupyter-widgets/controls",
       "_model_module_version": "2.0.0",
       "_model_name": "ProgressStyleModel",
       "_view_count": null,
       "_view_module": "@jupyter-widgets/base",
       "_view_module_version": "2.0.0",
       "_view_name": "StyleView",
       "bar_color": null,
       "description_width": ""
      }
     },
     "4ae934b0f18c4a928ea2c1509154bc70": {
      "model_module": "@jupyter-widgets/base",
      "model_module_version": "2.0.0",
      "model_name": "LayoutModel",
      "state": {
       "_model_module": "@jupyter-widgets/base",
       "_model_module_version": "2.0.0",
       "_model_name": "LayoutModel",
       "_view_count": null,
       "_view_module": "@jupyter-widgets/base",
       "_view_module_version": "2.0.0",
       "_view_name": "LayoutView",
       "align_content": null,
       "align_items": null,
       "align_self": null,
       "border_bottom": null,
       "border_left": null,
       "border_right": null,
       "border_top": null,
       "bottom": null,
       "display": null,
       "flex": null,
       "flex_flow": null,
       "grid_area": null,
       "grid_auto_columns": null,
       "grid_auto_flow": null,
       "grid_auto_rows": null,
       "grid_column": null,
       "grid_gap": null,
       "grid_row": null,
       "grid_template_areas": null,
       "grid_template_columns": null,
       "grid_template_rows": null,
       "height": null,
       "justify_content": null,
       "justify_items": null,
       "left": null,
       "margin": null,
       "max_height": null,
       "max_width": null,
       "min_height": null,
       "min_width": null,
       "object_fit": null,
       "object_position": null,
       "order": null,
       "overflow": null,
       "padding": null,
       "right": null,
       "top": null,
       "visibility": null,
       "width": null
      }
     },
     "5240f6cfe6a74acdaf62bbbd8d0cdb42": {
      "model_module": "@jupyter-widgets/controls",
      "model_module_version": "2.0.0",
      "model_name": "HTMLModel",
      "state": {
       "_dom_classes": [],
       "_model_module": "@jupyter-widgets/controls",
       "_model_module_version": "2.0.0",
       "_model_name": "HTMLModel",
       "_view_count": null,
       "_view_module": "@jupyter-widgets/controls",
       "_view_module_version": "2.0.0",
       "_view_name": "HTMLView",
       "description": "",
       "description_allow_html": false,
       "layout": "IPY_MODEL_934ed6d87d3443749c46fc6b215c5c5b",
       "placeholder": "​",
       "style": "IPY_MODEL_bffede4240eb466e89cf064c8ba433bb",
       "tabbable": null,
       "tooltip": null,
       "value": "Epoch 20/20: 100%"
      }
     },
     "590a0175afcc43198b24d6d0ab5b0c9c": {
      "model_module": "@jupyter-widgets/controls",
      "model_module_version": "2.0.0",
      "model_name": "FloatProgressModel",
      "state": {
       "_dom_classes": [],
       "_model_module": "@jupyter-widgets/controls",
       "_model_module_version": "2.0.0",
       "_model_name": "FloatProgressModel",
       "_view_count": null,
       "_view_module": "@jupyter-widgets/controls",
       "_view_module_version": "2.0.0",
       "_view_name": "ProgressView",
       "bar_style": "success",
       "description": "",
       "description_allow_html": false,
       "layout": "IPY_MODEL_cb279d218da840cabc73edc6a3fdcf87",
       "max": 65714.0,
       "min": 0.0,
       "orientation": "horizontal",
       "style": "IPY_MODEL_1a31ad85945442e2b8cc2ec496e434a2",
       "tabbable": null,
       "tooltip": null,
       "value": 65714.0
      }
     },
     "800ce6f0e03441f2b7197ad013bbaac2": {
      "model_module": "@jupyter-widgets/controls",
      "model_module_version": "2.0.0",
      "model_name": "HBoxModel",
      "state": {
       "_dom_classes": [],
       "_model_module": "@jupyter-widgets/controls",
       "_model_module_version": "2.0.0",
       "_model_name": "HBoxModel",
       "_view_count": null,
       "_view_module": "@jupyter-widgets/controls",
       "_view_module_version": "2.0.0",
       "_view_name": "HBoxView",
       "box_style": "",
       "children": [
        "IPY_MODEL_482d717c03f047f3a9c67f145bf1a599",
        "IPY_MODEL_590a0175afcc43198b24d6d0ab5b0c9c",
        "IPY_MODEL_bfd6b0e4b0d346d999ef29afc0320070"
       ],
       "layout": "IPY_MODEL_d4c7b41ffab84866bcf2ddc0f381cab1",
       "tabbable": null,
       "tooltip": null
      }
     },
     "839e2fd0359f4b29ba089d4e9d75949a": {
      "model_module": "@jupyter-widgets/controls",
      "model_module_version": "2.0.0",
      "model_name": "HTMLStyleModel",
      "state": {
       "_model_module": "@jupyter-widgets/controls",
       "_model_module_version": "2.0.0",
       "_model_name": "HTMLStyleModel",
       "_view_count": null,
       "_view_module": "@jupyter-widgets/base",
       "_view_module_version": "2.0.0",
       "_view_name": "StyleView",
       "background": null,
       "description_width": "",
       "font_size": null,
       "text_color": null
      }
     },
     "88de504cc242494fb7df589c54e964ad": {
      "model_module": "@jupyter-widgets/controls",
      "model_module_version": "2.0.0",
      "model_name": "HTMLModel",
      "state": {
       "_dom_classes": [],
       "_model_module": "@jupyter-widgets/controls",
       "_model_module_version": "2.0.0",
       "_model_name": "HTMLModel",
       "_view_count": null,
       "_view_module": "@jupyter-widgets/controls",
       "_view_module_version": "2.0.0",
       "_view_name": "HTMLView",
       "description": "",
       "description_allow_html": false,
       "layout": "IPY_MODEL_e4bef291e052464a96a831f0c274656b",
       "placeholder": "​",
       "style": "IPY_MODEL_dc1f2828840d4c779d59f573d7234d47",
       "tabbable": null,
       "tooltip": null,
       "value": " 20/20 [00:13&lt;00:00,  1.50it/s, v_num=1, train_loss_step=275, train_loss_epoch=282]"
      }
     },
     "8b350a9b7e0d41aea9b2df93d860a4fa": {
      "model_module": "@jupyter-widgets/controls",
      "model_module_version": "2.0.0",
      "model_name": "FloatProgressModel",
      "state": {
       "_dom_classes": [],
       "_model_module": "@jupyter-widgets/controls",
       "_model_module_version": "2.0.0",
       "_model_name": "FloatProgressModel",
       "_view_count": null,
       "_view_module": "@jupyter-widgets/controls",
       "_view_module_version": "2.0.0",
       "_view_name": "ProgressView",
       "bar_style": "success",
       "description": "",
       "description_allow_html": false,
       "layout": "IPY_MODEL_d2ef1ea4a40b44d0b238172b81f390c1",
       "max": 20.0,
       "min": 0.0,
       "orientation": "horizontal",
       "style": "IPY_MODEL_48cd1d06e1094438b44a4b18211a8209",
       "tabbable": null,
       "tooltip": null,
       "value": 20.0
      }
     },
     "934ed6d87d3443749c46fc6b215c5c5b": {
      "model_module": "@jupyter-widgets/base",
      "model_module_version": "2.0.0",
      "model_name": "LayoutModel",
      "state": {
       "_model_module": "@jupyter-widgets/base",
       "_model_module_version": "2.0.0",
       "_model_name": "LayoutModel",
       "_view_count": null,
       "_view_module": "@jupyter-widgets/base",
       "_view_module_version": "2.0.0",
       "_view_name": "LayoutView",
       "align_content": null,
       "align_items": null,
       "align_self": null,
       "border_bottom": null,
       "border_left": null,
       "border_right": null,
       "border_top": null,
       "bottom": null,
       "display": null,
       "flex": null,
       "flex_flow": null,
       "grid_area": null,
       "grid_auto_columns": null,
       "grid_auto_flow": null,
       "grid_auto_rows": null,
       "grid_column": null,
       "grid_gap": null,
       "grid_row": null,
       "grid_template_areas": null,
       "grid_template_columns": null,
       "grid_template_rows": null,
       "height": null,
       "justify_content": null,
       "justify_items": null,
       "left": null,
       "margin": null,
       "max_height": null,
       "max_width": null,
       "min_height": null,
       "min_width": null,
       "object_fit": null,
       "object_position": null,
       "order": null,
       "overflow": null,
       "padding": null,
       "right": null,
       "top": null,
       "visibility": null,
       "width": null
      }
     },
     "bd4966c918994bdcafdb9f23f2998447": {
      "model_module": "@jupyter-widgets/controls",
      "model_module_version": "2.0.0",
      "model_name": "HTMLStyleModel",
      "state": {
       "_model_module": "@jupyter-widgets/controls",
       "_model_module_version": "2.0.0",
       "_model_name": "HTMLStyleModel",
       "_view_count": null,
       "_view_module": "@jupyter-widgets/base",
       "_view_module_version": "2.0.0",
       "_view_name": "StyleView",
       "background": null,
       "description_width": "",
       "font_size": null,
       "text_color": null
      }
     },
     "bfd6b0e4b0d346d999ef29afc0320070": {
      "model_module": "@jupyter-widgets/controls",
      "model_module_version": "2.0.0",
      "model_name": "HTMLModel",
      "state": {
       "_dom_classes": [],
       "_model_module": "@jupyter-widgets/controls",
       "_model_module_version": "2.0.0",
       "_model_name": "HTMLModel",
       "_view_count": null,
       "_view_module": "@jupyter-widgets/controls",
       "_view_module_version": "2.0.0",
       "_view_name": "HTMLView",
       "description": "",
       "description_allow_html": false,
       "layout": "IPY_MODEL_365fc05cb401460192c1fce3a8bd46d6",
       "placeholder": "​",
       "style": "IPY_MODEL_bd4966c918994bdcafdb9f23f2998447",
       "tabbable": null,
       "tooltip": null,
       "value": " 65714/65714.0 [00:01&lt;00:00, 69871.90it/s]"
      }
     },
     "bffede4240eb466e89cf064c8ba433bb": {
      "model_module": "@jupyter-widgets/controls",
      "model_module_version": "2.0.0",
      "model_name": "HTMLStyleModel",
      "state": {
       "_model_module": "@jupyter-widgets/controls",
       "_model_module_version": "2.0.0",
       "_model_name": "HTMLStyleModel",
       "_view_count": null,
       "_view_module": "@jupyter-widgets/base",
       "_view_module_version": "2.0.0",
       "_view_name": "StyleView",
       "background": null,
       "description_width": "",
       "font_size": null,
       "text_color": null
      }
     },
     "cb279d218da840cabc73edc6a3fdcf87": {
      "model_module": "@jupyter-widgets/base",
      "model_module_version": "2.0.0",
      "model_name": "LayoutModel",
      "state": {
       "_model_module": "@jupyter-widgets/base",
       "_model_module_version": "2.0.0",
       "_model_name": "LayoutModel",
       "_view_count": null,
       "_view_module": "@jupyter-widgets/base",
       "_view_module_version": "2.0.0",
       "_view_name": "LayoutView",
       "align_content": null,
       "align_items": null,
       "align_self": null,
       "border_bottom": null,
       "border_left": null,
       "border_right": null,
       "border_top": null,
       "bottom": null,
       "display": null,
       "flex": null,
       "flex_flow": null,
       "grid_area": null,
       "grid_auto_columns": null,
       "grid_auto_flow": null,
       "grid_auto_rows": null,
       "grid_column": null,
       "grid_gap": null,
       "grid_row": null,
       "grid_template_areas": null,
       "grid_template_columns": null,
       "grid_template_rows": null,
       "height": null,
       "justify_content": null,
       "justify_items": null,
       "left": null,
       "margin": null,
       "max_height": null,
       "max_width": null,
       "min_height": null,
       "min_width": null,
       "object_fit": null,
       "object_position": null,
       "order": null,
       "overflow": null,
       "padding": null,
       "right": null,
       "top": null,
       "visibility": null,
       "width": null
      }
     },
     "d2ef1ea4a40b44d0b238172b81f390c1": {
      "model_module": "@jupyter-widgets/base",
      "model_module_version": "2.0.0",
      "model_name": "LayoutModel",
      "state": {
       "_model_module": "@jupyter-widgets/base",
       "_model_module_version": "2.0.0",
       "_model_name": "LayoutModel",
       "_view_count": null,
       "_view_module": "@jupyter-widgets/base",
       "_view_module_version": "2.0.0",
       "_view_name": "LayoutView",
       "align_content": null,
       "align_items": null,
       "align_self": null,
       "border_bottom": null,
       "border_left": null,
       "border_right": null,
       "border_top": null,
       "bottom": null,
       "display": null,
       "flex": null,
       "flex_flow": null,
       "grid_area": null,
       "grid_auto_columns": null,
       "grid_auto_flow": null,
       "grid_auto_rows": null,
       "grid_column": null,
       "grid_gap": null,
       "grid_row": null,
       "grid_template_areas": null,
       "grid_template_columns": null,
       "grid_template_rows": null,
       "height": null,
       "justify_content": null,
       "justify_items": null,
       "left": null,
       "margin": null,
       "max_height": null,
       "max_width": null,
       "min_height": null,
       "min_width": null,
       "object_fit": null,
       "object_position": null,
       "order": null,
       "overflow": null,
       "padding": null,
       "right": null,
       "top": null,
       "visibility": null,
       "width": null
      }
     },
     "d4c7b41ffab84866bcf2ddc0f381cab1": {
      "model_module": "@jupyter-widgets/base",
      "model_module_version": "2.0.0",
      "model_name": "LayoutModel",
      "state": {
       "_model_module": "@jupyter-widgets/base",
       "_model_module_version": "2.0.0",
       "_model_name": "LayoutModel",
       "_view_count": null,
       "_view_module": "@jupyter-widgets/base",
       "_view_module_version": "2.0.0",
       "_view_name": "LayoutView",
       "align_content": null,
       "align_items": null,
       "align_self": null,
       "border_bottom": null,
       "border_left": null,
       "border_right": null,
       "border_top": null,
       "bottom": null,
       "display": null,
       "flex": null,
       "flex_flow": null,
       "grid_area": null,
       "grid_auto_columns": null,
       "grid_auto_flow": null,
       "grid_auto_rows": null,
       "grid_column": null,
       "grid_gap": null,
       "grid_row": null,
       "grid_template_areas": null,
       "grid_template_columns": null,
       "grid_template_rows": null,
       "height": null,
       "justify_content": null,
       "justify_items": null,
       "left": null,
       "margin": null,
       "max_height": null,
       "max_width": null,
       "min_height": null,
       "min_width": null,
       "object_fit": null,
       "object_position": null,
       "order": null,
       "overflow": null,
       "padding": null,
       "right": null,
       "top": null,
       "visibility": null,
       "width": null
      }
     },
     "dc1f2828840d4c779d59f573d7234d47": {
      "model_module": "@jupyter-widgets/controls",
      "model_module_version": "2.0.0",
      "model_name": "HTMLStyleModel",
      "state": {
       "_model_module": "@jupyter-widgets/controls",
       "_model_module_version": "2.0.0",
       "_model_name": "HTMLStyleModel",
       "_view_count": null,
       "_view_module": "@jupyter-widgets/base",
       "_view_module_version": "2.0.0",
       "_view_name": "StyleView",
       "background": null,
       "description_width": "",
       "font_size": null,
       "text_color": null
      }
     },
     "e4bef291e052464a96a831f0c274656b": {
      "model_module": "@jupyter-widgets/base",
      "model_module_version": "2.0.0",
      "model_name": "LayoutModel",
      "state": {
       "_model_module": "@jupyter-widgets/base",
       "_model_module_version": "2.0.0",
       "_model_name": "LayoutModel",
       "_view_count": null,
       "_view_module": "@jupyter-widgets/base",
       "_view_module_version": "2.0.0",
       "_view_name": "LayoutView",
       "align_content": null,
       "align_items": null,
       "align_self": null,
       "border_bottom": null,
       "border_left": null,
       "border_right": null,
       "border_top": null,
       "bottom": null,
       "display": null,
       "flex": null,
       "flex_flow": null,
       "grid_area": null,
       "grid_auto_columns": null,
       "grid_auto_flow": null,
       "grid_auto_rows": null,
       "grid_column": null,
       "grid_gap": null,
       "grid_row": null,
       "grid_template_areas": null,
       "grid_template_columns": null,
       "grid_template_rows": null,
       "height": null,
       "justify_content": null,
       "justify_items": null,
       "left": null,
       "margin": null,
       "max_height": null,
       "max_width": null,
       "min_height": null,
       "min_width": null,
       "object_fit": null,
       "object_position": null,
       "order": null,
       "overflow": null,
       "padding": null,
       "right": null,
       "top": null,
       "visibility": null,
       "width": null
      }
     },
     "e5329735b20b4e518dde57fe42f91478": {
      "model_module": "@jupyter-widgets/controls",
      "model_module_version": "2.0.0",
      "model_name": "HBoxModel",
      "state": {
       "_dom_classes": [],
       "_model_module": "@jupyter-widgets/controls",
       "_model_module_version": "2.0.0",
       "_model_name": "HBoxModel",
       "_view_count": null,
       "_view_module": "@jupyter-widgets/controls",
       "_view_module_version": "2.0.0",
       "_view_name": "HBoxView",
       "box_style": "",
       "children": [
        "IPY_MODEL_5240f6cfe6a74acdaf62bbbd8d0cdb42",
        "IPY_MODEL_8b350a9b7e0d41aea9b2df93d860a4fa",
        "IPY_MODEL_88de504cc242494fb7df589c54e964ad"
       ],
       "layout": "IPY_MODEL_19c0f9587a884fcf939f0ad057e41201",
       "tabbable": null,
       "tooltip": null
      }
     }
    },
    "version_major": 2,
    "version_minor": 0
   }
  }
 },
 "nbformat": 4,
 "nbformat_minor": 5
}
