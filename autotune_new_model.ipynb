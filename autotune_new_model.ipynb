{
 "cells": [
  {
   "attachments": {},
   "cell_type": "markdown",
   "metadata": {},
   "source": [
    "# Using autotune with a new model class"
   ]
  },
  {
   "attachments": {},
   "cell_type": "markdown",
   "metadata": {},
   "source": [
    "<div class=\"alert alert-warning\">\n",
    "\n",
    "Warning\n",
    "\n",
    "`scvi.autotune` development is still in progress. The API is subject to change.\n",
    "\n",
    "</div>"
   ]
  },
  {
   "attachments": {},
   "cell_type": "markdown",
   "metadata": {},
   "source": [
    "This tutorial provides an overview of how to prepare a new model to interact with [`scvi.autotune.ModelTuner`](https://docs.scvi-tools.org/en/latest/api/reference/scvi.autotune.ModelTuner.html#scvi.autotune.ModelTuner). For a more basic overview of `scvi.autotune`, see the tutorial for [model hyperparameter tuning with scVI](). This tutorial also assumes a general understanding of how models are implemented in `scvi-tools` as covered in the [model development tutorial](https://docs.scvi-tools.org/en/latest/tutorials/notebooks/model_user_guide.html).\n",
    "\n",
    "In particular, we will go through the following steps:\n",
    "\n",
    "1. Installing required packages\n",
    "2. Creating a new model class\n",
    "3. Marking tunable hyperparameters\n",
    "4. Exposing tunable elements\n",
    "5. Exposing logged metrics"
   ]
  }
 ],
 "metadata": {
  "kernelspec": {
   "display_name": "Python 3",
   "language": "python",
   "name": "python3"
  },
  "language_info": {
   "name": "python",
   "version": "3.8.10 (default, Nov 14 2022, 12:59:47) \n[GCC 9.4.0]"
  },
  "orig_nbformat": 4,
  "vscode": {
   "interpreter": {
    "hash": "e7370f93d1d0cde622a1f8e1c04877d8463912d04d973331ad4851f04de6915a"
   }
  }
 },
 "nbformat": 4,
 "nbformat_minor": 2
}
