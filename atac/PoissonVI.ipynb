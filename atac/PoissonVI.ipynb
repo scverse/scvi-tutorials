{
 "cells": [
  {
   "cell_type": "markdown",
   "metadata": {},
   "source": [
    "# PoissonVI: Analyzing quantitative scATAC-seq fragment counts\n",
    "\n",
    "[PoissonVI](https://www.nature.com/articles/s41592-023-02112-6) is used for analyzing scATAC-seq data using quantitative fragment counts. This tutorial walks through how to read, set-up and train the model, accessing and visualizing the latent space, and differential accessibility. We use the 5kPBMC sample dataset from 10x but these steps can be easily adjusted for other datasets.\n",
    "\n",
    "If you use PoissonVI, please consider citing:\n",
    "\n",
    "- Martens, L. D., Fischer, D. S., Yépez, V. A., Theis, F. J., & Gagneur, J. (2023). Modeling fragment counts improves single-cell ATAC-seq analysis. Nature Methods."
   ]
  },
  {
   "cell_type": "markdown",
   "metadata": {},
   "source": [
    "```{note}\n",
    "Running the following cell will install tutorial dependencies on Google Colab only. It will have no effect on environments other than Google Colab.\n",
    "```"
   ]
  },
  {
   "cell_type": "code",
   "execution_count": 1,
   "metadata": {
    "execution": {
     "iopub.execute_input": "2024-02-12T17:35:27.509154Z",
     "iopub.status.busy": "2024-02-12T17:35:27.508364Z",
     "iopub.status.idle": "2024-02-12T17:35:30.278316Z",
     "shell.execute_reply": "2024-02-12T17:35:30.277782Z"
    },
    "tags": []
   },
   "outputs": [
    {
     "name": "stdout",
     "output_type": "stream",
     "text": [
      "\u001b[33mWARNING: Running pip as the 'root' user can result in broken permissions and conflicting behaviour with the system package manager. It is recommended to use a virtual environment instead: https://pip.pypa.io/warnings/venv\u001b[0m\u001b[33m\r\n",
      "\u001b[0m"
     ]
    },
    {
     "name": "stderr",
     "output_type": "stream",
     "text": [
      "/env/lib/python3.11/site-packages/scvi_colab/_core.py:41: UserWarning: \n",
      "                Not currently in Google Colab environment.\n",
      "\n",
      "                Please run with `run_outside_colab=True` to override.\n",
      "\n",
      "                Returning with no further action.\n",
      "                \n",
      "  warn(\n"
     ]
    }
   ],
   "source": [
    "!pip install --quiet scvi-colab\n",
    "from scvi_colab import install\n",
    "\n",
    "install()"
   ]
  },
  {
   "cell_type": "code",
   "execution_count": 2,
   "metadata": {
    "execution": {
     "iopub.execute_input": "2024-02-12T17:35:30.280240Z",
     "iopub.status.busy": "2024-02-12T17:35:30.280074Z",
     "iopub.status.idle": "2024-02-12T17:35:33.464324Z",
     "shell.execute_reply": "2024-02-12T17:35:33.463824Z"
    },
    "scrolled": true,
    "tags": []
   },
   "outputs": [],
   "source": [
    "import os\n",
    "import tempfile\n",
    "from pathlib import Path\n",
    "\n",
    "import pooch\n",
    "import scanpy as sc\n",
    "import scvi\n",
    "import torch"
   ]
  },
  {
   "cell_type": "code",
   "execution_count": 3,
   "metadata": {
    "execution": {
     "iopub.execute_input": "2024-02-12T17:35:33.466510Z",
     "iopub.status.busy": "2024-02-12T17:35:33.466158Z",
     "iopub.status.idle": "2024-02-12T17:35:33.469846Z",
     "shell.execute_reply": "2024-02-12T17:35:33.469560Z"
    },
    "tags": []
   },
   "outputs": [
    {
     "name": "stderr",
     "output_type": "stream",
     "text": [
      "Seed set to 0\n"
     ]
    },
    {
     "name": "stdout",
     "output_type": "stream",
     "text": [
      "Last run with scvi-tools version: 1.1.0\n"
     ]
    }
   ],
   "source": [
    "scvi.settings.seed = 0\n",
    "print(\"Last run with scvi-tools version:\", scvi.__version__)"
   ]
  },
  {
   "cell_type": "markdown",
   "metadata": {},
   "source": [
    "```{note}\n",
    "You can modify `save_dir` below to change where the data files for this tutorial are saved.\n",
    "```"
   ]
  },
  {
   "cell_type": "code",
   "execution_count": 4,
   "metadata": {
    "execution": {
     "iopub.execute_input": "2024-02-12T17:35:33.471435Z",
     "iopub.status.busy": "2024-02-12T17:35:33.471276Z",
     "iopub.status.idle": "2024-02-12T17:35:33.480773Z",
     "shell.execute_reply": "2024-02-12T17:35:33.480367Z"
    },
    "tags": []
   },
   "outputs": [],
   "source": [
    "sc.set_figure_params(figsize=(4, 4), frameon=False)\n",
    "torch.set_float32_matmul_precision(\"high\")\n",
    "save_dir = tempfile.TemporaryDirectory()\n",
    "\n",
    "%config InlineBackend.print_figure_kwargs={\"facecolor\" : \"w\"}\n",
    "%config InlineBackend.figure_format=\"retina\""
   ]
  },
  {
   "cell_type": "markdown",
   "metadata": {},
   "source": [
    "## Download and preprocess data"
   ]
  },
  {
   "cell_type": "markdown",
   "metadata": {},
   "source": [
    "First we need to download the sample data - we will use the `pooch` package to do this."
   ]
  },
  {
   "cell_type": "code",
   "execution_count": 5,
   "metadata": {
    "execution": {
     "iopub.execute_input": "2024-02-12T17:35:33.482416Z",
     "iopub.status.busy": "2024-02-12T17:35:33.482262Z",
     "iopub.status.idle": "2024-02-12T17:35:33.485098Z",
     "shell.execute_reply": "2024-02-12T17:35:33.484749Z"
    },
    "tags": []
   },
   "outputs": [],
   "source": [
    "def download_data(save_path: str, fname: str = \"atac_pbmc_5k\") -> str:\n",
    "    \"\"\"Download the data files.\"\"\"\n",
    "    data_paths = pooch.retrieve(\n",
    "        url=\"https://cf.10xgenomics.com/samples/cell-atac/1.2.0/atac_pbmc_5k_nextgem/atac_pbmc_5k_nextgem_filtered_peak_bc_matrix.tar.gz\",\n",
    "        known_hash=\"78e536a1508108fa5bd3b411a7484809c011f3403800369b20db05bdbfeb2284\",\n",
    "        fname=fname,\n",
    "        path=save_path,\n",
    "        processor=pooch.Untar(),\n",
    "        progressbar=True,\n",
    "    )\n",
    "    return str(Path(data_paths[0]).parent)"
   ]
  },
  {
   "cell_type": "code",
   "execution_count": 6,
   "metadata": {
    "execution": {
     "iopub.execute_input": "2024-02-12T17:35:33.486719Z",
     "iopub.status.busy": "2024-02-12T17:35:33.486480Z",
     "iopub.status.idle": "2024-02-12T17:35:37.916125Z",
     "shell.execute_reply": "2024-02-12T17:35:37.915660Z"
    },
    "tags": []
   },
   "outputs": [
    {
     "name": "stderr",
     "output_type": "stream",
     "text": [
      "Downloading data from 'https://cf.10xgenomics.com/samples/cell-atac/1.2.0/atac_pbmc_5k_nextgem/atac_pbmc_5k_nextgem_filtered_peak_bc_matrix.tar.gz' to file '/tmp/tmp_udwzwzp/atac_pbmc_5k'.\n"
     ]
    },
    {
     "name": "stderr",
     "output_type": "stream",
     "text": [
      "\r",
      "  0%|                                               | 0.00/114M [00:00<?, ?B/s]"
     ]
    },
    {
     "name": "stderr",
     "output_type": "stream",
     "text": [
      "\r",
      "  4%|█▍                                    | 4.27M/114M [00:00<00:02, 42.7MB/s]"
     ]
    },
    {
     "name": "stderr",
     "output_type": "stream",
     "text": [
      "\r",
      " 11%|████▎                                 | 12.8M/114M [00:00<00:01, 66.0MB/s]"
     ]
    },
    {
     "name": "stderr",
     "output_type": "stream",
     "text": [
      "\r",
      " 18%|██████▊                               | 20.3M/114M [00:00<00:01, 69.9MB/s]"
     ]
    },
    {
     "name": "stderr",
     "output_type": "stream",
     "text": [
      "\r",
      " 27%|██████████▎                           | 31.1M/114M [00:00<00:00, 85.0MB/s]"
     ]
    },
    {
     "name": "stderr",
     "output_type": "stream",
     "text": [
      "\r",
      " 37%|█████████████▉                        | 41.9M/114M [00:00<00:01, 64.9MB/s]"
     ]
    },
    {
     "name": "stderr",
     "output_type": "stream",
     "text": [
      "\r",
      " 44%|████████████████▉                     | 50.6M/114M [00:00<00:00, 70.8MB/s]"
     ]
    },
    {
     "name": "stderr",
     "output_type": "stream",
     "text": [
      "\r",
      " 54%|████████████████████▋                 | 62.1M/114M [00:00<00:00, 82.7MB/s]"
     ]
    },
    {
     "name": "stderr",
     "output_type": "stream",
     "text": [
      "\r",
      " 63%|███████████████████████▉              | 72.0M/114M [00:00<00:00, 87.1MB/s]"
     ]
    },
    {
     "name": "stderr",
     "output_type": "stream",
     "text": [
      "\r",
      " 71%|███████████████████████████           | 81.2M/114M [00:01<00:00, 88.0MB/s]"
     ]
    },
    {
     "name": "stderr",
     "output_type": "stream",
     "text": [
      "\r",
      " 79%|██████████████████████████████        | 90.3M/114M [00:01<00:00, 67.7MB/s]"
     ]
    },
    {
     "name": "stderr",
     "output_type": "stream",
     "text": [
      "\r",
      " 86%|████████████████████████████████▋     | 98.0M/114M [00:01<00:00, 54.0MB/s]"
     ]
    },
    {
     "name": "stderr",
     "output_type": "stream",
     "text": [
      "\r",
      " 92%|███████████████████████████████████▋   | 104M/114M [00:01<00:00, 32.7MB/s]"
     ]
    },
    {
     "name": "stderr",
     "output_type": "stream",
     "text": [
      "\r",
      " 96%|█████████████████████████████████████▍ | 109M/114M [00:02<00:00, 29.7MB/s]"
     ]
    },
    {
     "name": "stderr",
     "output_type": "stream",
     "text": [
      "\r",
      " 99%|██████████████████████████████████████▊| 113M/114M [00:02<00:00, 22.4MB/s]"
     ]
    },
    {
     "name": "stderr",
     "output_type": "stream",
     "text": [
      "\r",
      "  0%|                                               | 0.00/114M [00:00<?, ?B/s]"
     ]
    },
    {
     "name": "stderr",
     "output_type": "stream",
     "text": [
      "\r",
      "100%|████████████████████████████████████████| 114M/114M [00:00<00:00, 337GB/s]"
     ]
    },
    {
     "name": "stderr",
     "output_type": "stream",
     "text": [
      "\n"
     ]
    },
    {
     "name": "stderr",
     "output_type": "stream",
     "text": [
      "Untarring contents of '/tmp/tmp_udwzwzp/atac_pbmc_5k' to '/tmp/tmp_udwzwzp/atac_pbmc_5k.untar'\n"
     ]
    }
   ],
   "source": [
    "data_path = download_data(save_dir.name)"
   ]
  },
  {
   "cell_type": "markdown",
   "metadata": {},
   "source": [
    "PoissonVI expects as input an AnnData object with a cell-by-region matrix. There are various pipelines that handle preprocessing of scATAC-seq to obtain this matrix from the sequencing data. If the data was generated by 10x genomics, this matrix is among the standard outputs of CellRanger. Other pipelines, like [SnapATAC](https://github.com/r3fang/SnapATAC/) and [ArchR](https://www.archrproject.com/bookdown/add-peak-matrix.html), also generate similar matrices."
   ]
  },
  {
   "cell_type": "markdown",
   "metadata": {},
   "source": [
    "```{important}\n",
    "In each of these approaches, a **read count matrix** is generated which has more even counts than uneven counts. Due to this, the matrix can not easily be modeled with a standard count distribution. As an alternative, we recommend modeling the **fragment counts**, which are monotonic decreasing. We suggest a straightforward method to convert read counts to fragment counts: round the read counts to the nearest even count and divide by two- which in most cases is very close to the true fragment counts. If you do not want to use the approximation, counting fragments overlapping a peak can be achieved using methods such as the `FeatureMatrix` function in [Signac](https://stuartlab.org/signac/reference/featurematrix), which specifically counts fragments.\n",
    "```"
   ]
  },
  {
   "cell_type": "markdown",
   "metadata": {},
   "source": [
    "In the case of 10x data, scvi has a special reader function `scvi.data.read_10x_atac` that reads the files and creates an AnnData object, demonstrated below.\n",
    "\n",
    "Throughout this tutorial, we use [sample scATACseq data from 10X of 5K PBMCs](https://support.10xgenomics.com/single-cell-atac/datasets/1.2.0/atac_pbmc_5k_nextgem)."
   ]
  },
  {
   "cell_type": "code",
   "execution_count": 7,
   "metadata": {
    "execution": {
     "iopub.execute_input": "2024-02-12T17:35:37.918032Z",
     "iopub.status.busy": "2024-02-12T17:35:37.917821Z",
     "iopub.status.idle": "2024-02-12T17:35:38.765361Z",
     "shell.execute_reply": "2024-02-12T17:35:38.764892Z"
    },
    "tags": []
   },
   "outputs": [
    {
     "data": {
      "text/plain": [
       "AnnData object with n_obs × n_vars = 4585 × 115554\n",
       "    obs: 'batch_id'\n",
       "    var: 'chr', 'start', 'end'"
      ]
     },
     "execution_count": 7,
     "metadata": {},
     "output_type": "execute_result"
    }
   ],
   "source": [
    "adata = scvi.data.read_10x_atac(data_path)\n",
    "adata"
   ]
  },
  {
   "cell_type": "markdown",
   "metadata": {},
   "source": [
    "A rapid method for discerning whether a count matrix contains read counts or fragment counts involves a simple count of ones and twos within the matrix. If we have a read count matrix, we expect a higher number of even counts, resulting in a higher frequency of twos compared to ones."
   ]
  },
  {
   "cell_type": "code",
   "execution_count": 8,
   "metadata": {
    "execution": {
     "iopub.execute_input": "2024-02-12T17:35:38.766880Z",
     "iopub.status.busy": "2024-02-12T17:35:38.766743Z",
     "iopub.status.idle": "2024-02-12T17:35:38.844326Z",
     "shell.execute_reply": "2024-02-12T17:35:38.843858Z"
    },
    "tags": []
   },
   "outputs": [
    {
     "data": {
      "text/plain": [
       "1617289"
      ]
     },
     "execution_count": 8,
     "metadata": {},
     "output_type": "execute_result"
    }
   ],
   "source": [
    "(adata.X == 1).sum()"
   ]
  },
  {
   "cell_type": "code",
   "execution_count": 9,
   "metadata": {
    "execution": {
     "iopub.execute_input": "2024-02-12T17:35:38.845820Z",
     "iopub.status.busy": "2024-02-12T17:35:38.845664Z",
     "iopub.status.idle": "2024-02-12T17:35:39.029715Z",
     "shell.execute_reply": "2024-02-12T17:35:39.029337Z"
    },
    "tags": []
   },
   "outputs": [
    {
     "data": {
      "text/plain": [
       "25632158"
      ]
     },
     "execution_count": 9,
     "metadata": {},
     "output_type": "execute_result"
    }
   ],
   "source": [
    "(adata.X == 2).sum()"
   ]
  },
  {
   "cell_type": "markdown",
   "metadata": {},
   "source": [
    "We can see that we have more twos than ones, which means that we have a read count matrix. In this tutorial, we will use the described approximation to convert them to fragment counts using the `scvi.data.reads_to_fragments` which will store the fragment counts in `adata.layers['fragments']`"
   ]
  },
  {
   "cell_type": "code",
   "execution_count": 10,
   "metadata": {
    "execution": {
     "iopub.execute_input": "2024-02-12T17:35:39.031242Z",
     "iopub.status.busy": "2024-02-12T17:35:39.031112Z",
     "iopub.status.idle": "2024-02-12T17:35:39.186647Z",
     "shell.execute_reply": "2024-02-12T17:35:39.186109Z"
    },
    "tags": []
   },
   "outputs": [],
   "source": [
    "scvi.data.reads_to_fragments(adata)"
   ]
  },
  {
   "cell_type": "code",
   "execution_count": 11,
   "metadata": {
    "execution": {
     "iopub.execute_input": "2024-02-12T17:35:39.188293Z",
     "iopub.status.busy": "2024-02-12T17:35:39.188162Z",
     "iopub.status.idle": "2024-02-12T17:35:39.190740Z",
     "shell.execute_reply": "2024-02-12T17:35:39.190460Z"
    },
    "tags": []
   },
   "outputs": [
    {
     "data": {
      "text/plain": [
       "AnnData object with n_obs × n_vars = 4585 × 115554\n",
       "    obs: 'batch_id'\n",
       "    var: 'chr', 'start', 'end'\n",
       "    layers: 'fragments'"
      ]
     },
     "execution_count": 11,
     "metadata": {},
     "output_type": "execute_result"
    }
   ],
   "source": [
    "adata"
   ]
  },
  {
   "cell_type": "markdown",
   "metadata": {},
   "source": [
    "If we test again the number of ones and twos for the fragment count layer, we see that we do have more ones that twos:"
   ]
  },
  {
   "cell_type": "code",
   "execution_count": 12,
   "metadata": {
    "execution": {
     "iopub.execute_input": "2024-02-12T17:35:39.192107Z",
     "iopub.status.busy": "2024-02-12T17:35:39.191985Z",
     "iopub.status.idle": "2024-02-12T17:35:39.386583Z",
     "shell.execute_reply": "2024-02-12T17:35:39.386272Z"
    },
    "tags": []
   },
   "outputs": [
    {
     "data": {
      "text/plain": [
       "27249447"
      ]
     },
     "execution_count": 12,
     "metadata": {},
     "output_type": "execute_result"
    }
   ],
   "source": [
    "(adata.layers[\"fragments\"] == 1).sum()"
   ]
  },
  {
   "cell_type": "code",
   "execution_count": 13,
   "metadata": {
    "execution": {
     "iopub.execute_input": "2024-02-12T17:35:39.388076Z",
     "iopub.status.busy": "2024-02-12T17:35:39.387918Z",
     "iopub.status.idle": "2024-02-12T17:35:39.507804Z",
     "shell.execute_reply": "2024-02-12T17:35:39.507371Z"
    },
    "tags": []
   },
   "outputs": [
    {
     "data": {
      "text/plain": [
       "7233892"
      ]
     },
     "execution_count": 13,
     "metadata": {},
     "output_type": "execute_result"
    }
   ],
   "source": [
    "(adata.layers[\"fragments\"] == 2).sum()"
   ]
  },
  {
   "cell_type": "markdown",
   "metadata": {},
   "source": [
    "We can use Scanpy to further handle, filter, and manipulate the data. In our case, we might want to filter out peaks that are rarely detected, to make the model train faster:"
   ]
  },
  {
   "cell_type": "code",
   "execution_count": 14,
   "metadata": {
    "execution": {
     "iopub.execute_input": "2024-02-12T17:35:39.509382Z",
     "iopub.status.busy": "2024-02-12T17:35:39.509227Z",
     "iopub.status.idle": "2024-02-12T17:35:40.271005Z",
     "shell.execute_reply": "2024-02-12T17:35:40.270459Z"
    },
    "tags": []
   },
   "outputs": [
    {
     "name": "stdout",
     "output_type": "stream",
     "text": [
      "# regions before filtering: 115554\n"
     ]
    },
    {
     "name": "stdout",
     "output_type": "stream",
     "text": [
      "# regions after filtering: 33142\n"
     ]
    }
   ],
   "source": [
    "print(\"# regions before filtering:\", adata.shape[-1])\n",
    "\n",
    "# compute the threshold: 5% of the cells\n",
    "min_cells = int(adata.shape[0] * 0.05)\n",
    "# in-place filtering of regions\n",
    "sc.pp.filter_genes(adata, min_cells=min_cells)\n",
    "\n",
    "print(\"# regions after filtering:\", adata.shape[-1])"
   ]
  },
  {
   "cell_type": "markdown",
   "metadata": {},
   "source": [
    "## Set up, train, save, and load the model\n",
    "\n",
    "We can now set up the AnnData object with PoissonVI, which will ensure everything the model needs is in place for training.\n",
    "\n",
    "This is also the stage where we can condition the model on additional covariates, which encourages the model to remove the impact of those covariates from the learned latent space. Our sample data is a single batch, so we won't demonstrate this directly, but it can be done simply by setting the `batch_key` argument to the annotation to be used as a batch covariate (must be a valid key in `adata.obs`). As the count layer, we will choose the `fragments` layer which contains our converted counts."
   ]
  },
  {
   "cell_type": "code",
   "execution_count": 15,
   "metadata": {
    "execution": {
     "iopub.execute_input": "2024-02-12T17:35:40.272665Z",
     "iopub.status.busy": "2024-02-12T17:35:40.272528Z",
     "iopub.status.idle": "2024-02-12T17:35:40.421986Z",
     "shell.execute_reply": "2024-02-12T17:35:40.421517Z"
    },
    "tags": []
   },
   "outputs": [
    {
     "name": "stderr",
     "output_type": "stream",
     "text": [
      "<frozen abc>:119: FutureWarning: SparseDataset is deprecated and will be removed in late 2024. It has been replaced by the public classes CSRDataset and CSCDataset.\n",
      "\n",
      "For instance checks, use `isinstance(X, (anndata.experimental.CSRDataset, anndata.experimental.CSCDataset))` instead.\n",
      "\n",
      "For creation, use `anndata.experimental.sparse_dataset(X)` instead.\n",
      "\n"
     ]
    }
   ],
   "source": [
    "scvi.external.POISSONVI.setup_anndata(adata, layer=\"fragments\")"
   ]
  },
  {
   "cell_type": "markdown",
   "metadata": {},
   "source": [
    "We can now create a PoissonVI model object and train it!"
   ]
  },
  {
   "cell_type": "markdown",
   "metadata": {},
   "source": [
    "```{important}\n",
    "The default `max_epochs` is set to `500`, but in practice PoissonVI stops early once the model converges (we quantify convergence with the model's validation reconstruction loss). This is especially the case for larger datasets, which require fewer training epochs to converge since each epoch lets the model view more data. \n",
    "\n",
    "This means that the estimated training runtime is usually an overestimate of the actual runtime. For the data used in this tutorial, it typically converges with around half of `max_epochs`!\n",
    "```"
   ]
  },
  {
   "cell_type": "code",
   "execution_count": 16,
   "metadata": {
    "execution": {
     "iopub.execute_input": "2024-02-12T17:35:40.423656Z",
     "iopub.status.busy": "2024-02-12T17:35:40.423520Z",
     "iopub.status.idle": "2024-02-12T17:37:31.920325Z",
     "shell.execute_reply": "2024-02-12T17:37:31.919958Z"
    },
    "tags": []
   },
   "outputs": [
    {
     "name": "stderr",
     "output_type": "stream",
     "text": [
      "GPU available: True (cuda), used: True\n"
     ]
    },
    {
     "name": "stderr",
     "output_type": "stream",
     "text": [
      "TPU available: False, using: 0 TPU cores\n"
     ]
    },
    {
     "name": "stderr",
     "output_type": "stream",
     "text": [
      "IPU available: False, using: 0 IPUs\n"
     ]
    },
    {
     "name": "stderr",
     "output_type": "stream",
     "text": [
      "HPU available: False, using: 0 HPUs\n"
     ]
    },
    {
     "name": "stderr",
     "output_type": "stream",
     "text": [
      "LOCAL_RANK: 0 - CUDA_VISIBLE_DEVICES: [0]\n"
     ]
    },
    {
     "name": "stderr",
     "output_type": "stream",
     "text": [
      "/env/lib/python3.11/site-packages/lightning/pytorch/trainer/connectors/data_connector.py:441: The 'train_dataloader' does not have many workers which may be a bottleneck. Consider increasing the value of the `num_workers` argument` to `num_workers=19` in the `DataLoader` to improve performance.\n",
      "/env/lib/python3.11/site-packages/lightning/pytorch/trainer/connectors/data_connector.py:441: The 'val_dataloader' does not have many workers which may be a bottleneck. Consider increasing the value of the `num_workers` argument` to `num_workers=19` in the `DataLoader` to improve performance.\n"
     ]
    },
    {
     "name": "stdout",
     "output_type": "stream",
     "text": [
      "\r",
      "Training:   0%|          | 0/500 [00:00<?, ?it/s]"
     ]
    },
    {
     "name": "stdout",
     "output_type": "stream",
     "text": [
      "\r",
      "Epoch 1/500:   0%|          | 0/500 [00:00<?, ?it/s]"
     ]
    },
    {
     "name": "stdout",
     "output_type": "stream",
     "text": [
      "\r",
      "Epoch 1/500:   0%|          | 1/500 [00:00<08:09,  1.02it/s]"
     ]
    },
    {
     "name": "stdout",
     "output_type": "stream",
     "text": [
      "\r",
      "Epoch 1/500:   0%|          | 1/500 [00:00<08:09,  1.02it/s, v_num=1, train_loss_step=2.3e+4, train_loss_epoch=2.45e+4]"
     ]
    },
    {
     "name": "stdout",
     "output_type": "stream",
     "text": [
      "\r",
      "Epoch 2/500:   0%|          | 1/500 [00:00<08:09,  1.02it/s, v_num=1, train_loss_step=2.3e+4, train_loss_epoch=2.45e+4]"
     ]
    },
    {
     "name": "stdout",
     "output_type": "stream",
     "text": [
      "\r",
      "Epoch 2/500:   0%|          | 2/500 [00:01<05:31,  1.50it/s, v_num=1, train_loss_step=2.3e+4, train_loss_epoch=2.45e+4]"
     ]
    },
    {
     "name": "stdout",
     "output_type": "stream",
     "text": [
      "\r",
      "Epoch 2/500:   0%|          | 2/500 [00:01<05:31,  1.50it/s, v_num=1, train_loss_step=2.18e+4, train_loss_epoch=2.26e+4]"
     ]
    },
    {
     "name": "stdout",
     "output_type": "stream",
     "text": [
      "\r",
      "Epoch 3/500:   0%|          | 2/500 [00:01<05:31,  1.50it/s, v_num=1, train_loss_step=2.18e+4, train_loss_epoch=2.26e+4]"
     ]
    },
    {
     "name": "stdout",
     "output_type": "stream",
     "text": [
      "\r",
      "Epoch 3/500:   1%|          | 3/500 [00:01<04:40,  1.77it/s, v_num=1, train_loss_step=2.18e+4, train_loss_epoch=2.26e+4]"
     ]
    },
    {
     "name": "stdout",
     "output_type": "stream",
     "text": [
      "\r",
      "Epoch 3/500:   1%|          | 3/500 [00:01<04:40,  1.77it/s, v_num=1, train_loss_step=1.98e+4, train_loss_epoch=2.12e+4]"
     ]
    },
    {
     "name": "stdout",
     "output_type": "stream",
     "text": [
      "\r",
      "Epoch 4/500:   1%|          | 3/500 [00:01<04:40,  1.77it/s, v_num=1, train_loss_step=1.98e+4, train_loss_epoch=2.12e+4]"
     ]
    },
    {
     "name": "stdout",
     "output_type": "stream",
     "text": [
      "\r",
      "Epoch 4/500:   1%|          | 4/500 [00:02<04:16,  1.94it/s, v_num=1, train_loss_step=1.98e+4, train_loss_epoch=2.12e+4]"
     ]
    },
    {
     "name": "stdout",
     "output_type": "stream",
     "text": [
      "\r",
      "Epoch 4/500:   1%|          | 4/500 [00:02<04:16,  1.94it/s, v_num=1, train_loss_step=2.02e+4, train_loss_epoch=2.04e+4]"
     ]
    },
    {
     "name": "stdout",
     "output_type": "stream",
     "text": [
      "\r",
      "Epoch 5/500:   1%|          | 4/500 [00:02<04:16,  1.94it/s, v_num=1, train_loss_step=2.02e+4, train_loss_epoch=2.04e+4]"
     ]
    },
    {
     "name": "stdout",
     "output_type": "stream",
     "text": [
      "\r",
      "Epoch 5/500:   1%|          | 5/500 [00:02<04:02,  2.04it/s, v_num=1, train_loss_step=2.02e+4, train_loss_epoch=2.04e+4]"
     ]
    },
    {
     "name": "stdout",
     "output_type": "stream",
     "text": [
      "\r",
      "Epoch 5/500:   1%|          | 5/500 [00:02<04:02,  2.04it/s, v_num=1, train_loss_step=2.04e+4, train_loss_epoch=2e+4]   "
     ]
    },
    {
     "name": "stdout",
     "output_type": "stream",
     "text": [
      "\r",
      "Epoch 6/500:   1%|          | 5/500 [00:02<04:02,  2.04it/s, v_num=1, train_loss_step=2.04e+4, train_loss_epoch=2e+4]"
     ]
    },
    {
     "name": "stdout",
     "output_type": "stream",
     "text": [
      "\r",
      "Epoch 6/500:   1%|          | 6/500 [00:03<03:54,  2.11it/s, v_num=1, train_loss_step=2.04e+4, train_loss_epoch=2e+4]"
     ]
    },
    {
     "name": "stdout",
     "output_type": "stream",
     "text": [
      "\r",
      "Epoch 6/500:   1%|          | 6/500 [00:03<03:54,  2.11it/s, v_num=1, train_loss_step=2.11e+4, train_loss_epoch=1.98e+4]"
     ]
    },
    {
     "name": "stdout",
     "output_type": "stream",
     "text": [
      "\r",
      "Epoch 7/500:   1%|          | 6/500 [00:03<03:54,  2.11it/s, v_num=1, train_loss_step=2.11e+4, train_loss_epoch=1.98e+4]"
     ]
    },
    {
     "name": "stdout",
     "output_type": "stream",
     "text": [
      "\r",
      "Epoch 7/500:   1%|▏         | 7/500 [00:03<03:49,  2.15it/s, v_num=1, train_loss_step=2.11e+4, train_loss_epoch=1.98e+4]"
     ]
    },
    {
     "name": "stdout",
     "output_type": "stream",
     "text": [
      "\r",
      "Epoch 7/500:   1%|▏         | 7/500 [00:03<03:49,  2.15it/s, v_num=1, train_loss_step=2.02e+4, train_loss_epoch=1.97e+4]"
     ]
    },
    {
     "name": "stdout",
     "output_type": "stream",
     "text": [
      "\r",
      "Epoch 8/500:   1%|▏         | 7/500 [00:03<03:49,  2.15it/s, v_num=1, train_loss_step=2.02e+4, train_loss_epoch=1.97e+4]"
     ]
    },
    {
     "name": "stdout",
     "output_type": "stream",
     "text": [
      "\r",
      "Epoch 8/500:   2%|▏         | 8/500 [00:04<03:45,  2.18it/s, v_num=1, train_loss_step=2.02e+4, train_loss_epoch=1.97e+4]"
     ]
    },
    {
     "name": "stdout",
     "output_type": "stream",
     "text": [
      "\r",
      "Epoch 8/500:   2%|▏         | 8/500 [00:04<03:45,  2.18it/s, v_num=1, train_loss_step=2.06e+4, train_loss_epoch=1.97e+4]"
     ]
    },
    {
     "name": "stdout",
     "output_type": "stream",
     "text": [
      "\r",
      "Epoch 9/500:   2%|▏         | 8/500 [00:04<03:45,  2.18it/s, v_num=1, train_loss_step=2.06e+4, train_loss_epoch=1.97e+4]"
     ]
    },
    {
     "name": "stdout",
     "output_type": "stream",
     "text": [
      "\r",
      "Epoch 9/500:   2%|▏         | 9/500 [00:04<03:42,  2.20it/s, v_num=1, train_loss_step=2.06e+4, train_loss_epoch=1.97e+4]"
     ]
    },
    {
     "name": "stdout",
     "output_type": "stream",
     "text": [
      "\r",
      "Epoch 9/500:   2%|▏         | 9/500 [00:04<03:42,  2.20it/s, v_num=1, train_loss_step=1.78e+4, train_loss_epoch=1.96e+4]"
     ]
    },
    {
     "name": "stdout",
     "output_type": "stream",
     "text": [
      "\r",
      "Epoch 10/500:   2%|▏         | 9/500 [00:04<03:42,  2.20it/s, v_num=1, train_loss_step=1.78e+4, train_loss_epoch=1.96e+4]"
     ]
    },
    {
     "name": "stdout",
     "output_type": "stream",
     "text": [
      "\r",
      "Epoch 10/500:   2%|▏         | 10/500 [00:04<03:40,  2.22it/s, v_num=1, train_loss_step=1.78e+4, train_loss_epoch=1.96e+4]"
     ]
    },
    {
     "name": "stdout",
     "output_type": "stream",
     "text": [
      "\r",
      "Epoch 10/500:   2%|▏         | 10/500 [00:04<03:40,  2.22it/s, v_num=1, train_loss_step=1.89e+4, train_loss_epoch=1.95e+4]"
     ]
    },
    {
     "name": "stdout",
     "output_type": "stream",
     "text": [
      "\r",
      "Epoch 11/500:   2%|▏         | 10/500 [00:04<03:40,  2.22it/s, v_num=1, train_loss_step=1.89e+4, train_loss_epoch=1.95e+4]"
     ]
    },
    {
     "name": "stdout",
     "output_type": "stream",
     "text": [
      "\r",
      "Epoch 11/500:   2%|▏         | 11/500 [00:05<03:39,  2.23it/s, v_num=1, train_loss_step=1.89e+4, train_loss_epoch=1.95e+4]"
     ]
    },
    {
     "name": "stdout",
     "output_type": "stream",
     "text": [
      "\r",
      "Epoch 11/500:   2%|▏         | 11/500 [00:05<03:39,  2.23it/s, v_num=1, train_loss_step=1.79e+4, train_loss_epoch=1.94e+4]"
     ]
    },
    {
     "name": "stdout",
     "output_type": "stream",
     "text": [
      "\r",
      "Epoch 12/500:   2%|▏         | 11/500 [00:05<03:39,  2.23it/s, v_num=1, train_loss_step=1.79e+4, train_loss_epoch=1.94e+4]"
     ]
    },
    {
     "name": "stdout",
     "output_type": "stream",
     "text": [
      "\r",
      "Epoch 12/500:   2%|▏         | 12/500 [00:05<03:38,  2.23it/s, v_num=1, train_loss_step=1.79e+4, train_loss_epoch=1.94e+4]"
     ]
    },
    {
     "name": "stdout",
     "output_type": "stream",
     "text": [
      "\r",
      "Epoch 12/500:   2%|▏         | 12/500 [00:05<03:38,  2.23it/s, v_num=1, train_loss_step=1.91e+4, train_loss_epoch=1.92e+4]"
     ]
    },
    {
     "name": "stdout",
     "output_type": "stream",
     "text": [
      "\r",
      "Epoch 13/500:   2%|▏         | 12/500 [00:05<03:38,  2.23it/s, v_num=1, train_loss_step=1.91e+4, train_loss_epoch=1.92e+4]"
     ]
    },
    {
     "name": "stdout",
     "output_type": "stream",
     "text": [
      "\r",
      "Epoch 13/500:   3%|▎         | 13/500 [00:06<03:37,  2.24it/s, v_num=1, train_loss_step=1.91e+4, train_loss_epoch=1.92e+4]"
     ]
    },
    {
     "name": "stdout",
     "output_type": "stream",
     "text": [
      "\r",
      "Epoch 13/500:   3%|▎         | 13/500 [00:06<03:37,  2.24it/s, v_num=1, train_loss_step=1.96e+4, train_loss_epoch=1.91e+4]"
     ]
    },
    {
     "name": "stdout",
     "output_type": "stream",
     "text": [
      "\r",
      "Epoch 14/500:   3%|▎         | 13/500 [00:06<03:37,  2.24it/s, v_num=1, train_loss_step=1.96e+4, train_loss_epoch=1.91e+4]"
     ]
    },
    {
     "name": "stdout",
     "output_type": "stream",
     "text": [
      "\r",
      "Epoch 14/500:   3%|▎         | 14/500 [00:06<03:36,  2.24it/s, v_num=1, train_loss_step=1.96e+4, train_loss_epoch=1.91e+4]"
     ]
    },
    {
     "name": "stdout",
     "output_type": "stream",
     "text": [
      "\r",
      "Epoch 14/500:   3%|▎         | 14/500 [00:06<03:36,  2.24it/s, v_num=1, train_loss_step=1.89e+4, train_loss_epoch=1.9e+4] "
     ]
    },
    {
     "name": "stdout",
     "output_type": "stream",
     "text": [
      "\r",
      "Epoch 15/500:   3%|▎         | 14/500 [00:06<03:36,  2.24it/s, v_num=1, train_loss_step=1.89e+4, train_loss_epoch=1.9e+4]"
     ]
    },
    {
     "name": "stdout",
     "output_type": "stream",
     "text": [
      "\r",
      "Epoch 15/500:   3%|▎         | 15/500 [00:07<03:35,  2.25it/s, v_num=1, train_loss_step=1.89e+4, train_loss_epoch=1.9e+4]"
     ]
    },
    {
     "name": "stdout",
     "output_type": "stream",
     "text": [
      "\r",
      "Epoch 15/500:   3%|▎         | 15/500 [00:07<03:35,  2.25it/s, v_num=1, train_loss_step=1.8e+4, train_loss_epoch=1.89e+4]"
     ]
    },
    {
     "name": "stdout",
     "output_type": "stream",
     "text": [
      "\r",
      "Epoch 16/500:   3%|▎         | 15/500 [00:07<03:35,  2.25it/s, v_num=1, train_loss_step=1.8e+4, train_loss_epoch=1.89e+4]"
     ]
    },
    {
     "name": "stdout",
     "output_type": "stream",
     "text": [
      "\r",
      "Epoch 16/500:   3%|▎         | 16/500 [00:07<03:35,  2.25it/s, v_num=1, train_loss_step=1.8e+4, train_loss_epoch=1.89e+4]"
     ]
    },
    {
     "name": "stdout",
     "output_type": "stream",
     "text": [
      "\r",
      "Epoch 16/500:   3%|▎         | 16/500 [00:07<03:35,  2.25it/s, v_num=1, train_loss_step=2.03e+4, train_loss_epoch=1.89e+4]"
     ]
    },
    {
     "name": "stdout",
     "output_type": "stream",
     "text": [
      "\r",
      "Epoch 17/500:   3%|▎         | 16/500 [00:07<03:35,  2.25it/s, v_num=1, train_loss_step=2.03e+4, train_loss_epoch=1.89e+4]"
     ]
    },
    {
     "name": "stdout",
     "output_type": "stream",
     "text": [
      "\r",
      "Epoch 17/500:   3%|▎         | 17/500 [00:08<03:34,  2.25it/s, v_num=1, train_loss_step=2.03e+4, train_loss_epoch=1.89e+4]"
     ]
    },
    {
     "name": "stdout",
     "output_type": "stream",
     "text": [
      "\r",
      "Epoch 17/500:   3%|▎         | 17/500 [00:08<03:34,  2.25it/s, v_num=1, train_loss_step=1.73e+4, train_loss_epoch=1.89e+4]"
     ]
    },
    {
     "name": "stdout",
     "output_type": "stream",
     "text": [
      "\r",
      "Epoch 18/500:   3%|▎         | 17/500 [00:08<03:34,  2.25it/s, v_num=1, train_loss_step=1.73e+4, train_loss_epoch=1.89e+4]"
     ]
    },
    {
     "name": "stdout",
     "output_type": "stream",
     "text": [
      "\r",
      "Epoch 18/500:   4%|▎         | 18/500 [00:08<03:34,  2.25it/s, v_num=1, train_loss_step=1.73e+4, train_loss_epoch=1.89e+4]"
     ]
    },
    {
     "name": "stdout",
     "output_type": "stream",
     "text": [
      "\r",
      "Epoch 18/500:   4%|▎         | 18/500 [00:08<03:34,  2.25it/s, v_num=1, train_loss_step=2e+4, train_loss_epoch=1.89e+4]   "
     ]
    },
    {
     "name": "stdout",
     "output_type": "stream",
     "text": [
      "\r",
      "Epoch 19/500:   4%|▎         | 18/500 [00:08<03:34,  2.25it/s, v_num=1, train_loss_step=2e+4, train_loss_epoch=1.89e+4]"
     ]
    },
    {
     "name": "stdout",
     "output_type": "stream",
     "text": [
      "\r",
      "Epoch 19/500:   4%|▍         | 19/500 [00:08<03:33,  2.25it/s, v_num=1, train_loss_step=2e+4, train_loss_epoch=1.89e+4]"
     ]
    },
    {
     "name": "stdout",
     "output_type": "stream",
     "text": [
      "\r",
      "Epoch 19/500:   4%|▍         | 19/500 [00:08<03:33,  2.25it/s, v_num=1, train_loss_step=1.87e+4, train_loss_epoch=1.88e+4]"
     ]
    },
    {
     "name": "stdout",
     "output_type": "stream",
     "text": [
      "\r",
      "Epoch 20/500:   4%|▍         | 19/500 [00:08<03:33,  2.25it/s, v_num=1, train_loss_step=1.87e+4, train_loss_epoch=1.88e+4]"
     ]
    },
    {
     "name": "stdout",
     "output_type": "stream",
     "text": [
      "\r",
      "Epoch 20/500:   4%|▍         | 20/500 [00:09<03:33,  2.25it/s, v_num=1, train_loss_step=1.87e+4, train_loss_epoch=1.88e+4]"
     ]
    },
    {
     "name": "stdout",
     "output_type": "stream",
     "text": [
      "\r",
      "Epoch 20/500:   4%|▍         | 20/500 [00:09<03:33,  2.25it/s, v_num=1, train_loss_step=1.84e+4, train_loss_epoch=1.88e+4]"
     ]
    },
    {
     "name": "stdout",
     "output_type": "stream",
     "text": [
      "\r",
      "Epoch 21/500:   4%|▍         | 20/500 [00:09<03:33,  2.25it/s, v_num=1, train_loss_step=1.84e+4, train_loss_epoch=1.88e+4]"
     ]
    },
    {
     "name": "stdout",
     "output_type": "stream",
     "text": [
      "\r",
      "Epoch 21/500:   4%|▍         | 21/500 [00:09<03:32,  2.25it/s, v_num=1, train_loss_step=1.84e+4, train_loss_epoch=1.88e+4]"
     ]
    },
    {
     "name": "stdout",
     "output_type": "stream",
     "text": [
      "\r",
      "Epoch 21/500:   4%|▍         | 21/500 [00:09<03:32,  2.25it/s, v_num=1, train_loss_step=1.71e+4, train_loss_epoch=1.88e+4]"
     ]
    },
    {
     "name": "stdout",
     "output_type": "stream",
     "text": [
      "\r",
      "Epoch 22/500:   4%|▍         | 21/500 [00:09<03:32,  2.25it/s, v_num=1, train_loss_step=1.71e+4, train_loss_epoch=1.88e+4]"
     ]
    },
    {
     "name": "stdout",
     "output_type": "stream",
     "text": [
      "\r",
      "Epoch 22/500:   4%|▍         | 22/500 [00:10<03:32,  2.25it/s, v_num=1, train_loss_step=1.71e+4, train_loss_epoch=1.88e+4]"
     ]
    },
    {
     "name": "stdout",
     "output_type": "stream",
     "text": [
      "\r",
      "Epoch 22/500:   4%|▍         | 22/500 [00:10<03:32,  2.25it/s, v_num=1, train_loss_step=1.92e+4, train_loss_epoch=1.88e+4]"
     ]
    },
    {
     "name": "stdout",
     "output_type": "stream",
     "text": [
      "\r",
      "Epoch 23/500:   4%|▍         | 22/500 [00:10<03:32,  2.25it/s, v_num=1, train_loss_step=1.92e+4, train_loss_epoch=1.88e+4]"
     ]
    },
    {
     "name": "stdout",
     "output_type": "stream",
     "text": [
      "\r",
      "Epoch 23/500:   5%|▍         | 23/500 [00:10<03:31,  2.25it/s, v_num=1, train_loss_step=1.92e+4, train_loss_epoch=1.88e+4]"
     ]
    },
    {
     "name": "stdout",
     "output_type": "stream",
     "text": [
      "\r",
      "Epoch 23/500:   5%|▍         | 23/500 [00:10<03:31,  2.25it/s, v_num=1, train_loss_step=1.91e+4, train_loss_epoch=1.88e+4]"
     ]
    },
    {
     "name": "stdout",
     "output_type": "stream",
     "text": [
      "\r",
      "Epoch 24/500:   5%|▍         | 23/500 [00:10<03:31,  2.25it/s, v_num=1, train_loss_step=1.91e+4, train_loss_epoch=1.88e+4]"
     ]
    },
    {
     "name": "stdout",
     "output_type": "stream",
     "text": [
      "\r",
      "Epoch 24/500:   5%|▍         | 24/500 [00:11<03:31,  2.25it/s, v_num=1, train_loss_step=1.91e+4, train_loss_epoch=1.88e+4]"
     ]
    },
    {
     "name": "stdout",
     "output_type": "stream",
     "text": [
      "\r",
      "Epoch 24/500:   5%|▍         | 24/500 [00:11<03:31,  2.25it/s, v_num=1, train_loss_step=1.99e+4, train_loss_epoch=1.88e+4]"
     ]
    },
    {
     "name": "stdout",
     "output_type": "stream",
     "text": [
      "\r",
      "Epoch 25/500:   5%|▍         | 24/500 [00:11<03:31,  2.25it/s, v_num=1, train_loss_step=1.99e+4, train_loss_epoch=1.88e+4]"
     ]
    },
    {
     "name": "stdout",
     "output_type": "stream",
     "text": [
      "\r",
      "Epoch 25/500:   5%|▌         | 25/500 [00:11<03:31,  2.25it/s, v_num=1, train_loss_step=1.99e+4, train_loss_epoch=1.88e+4]"
     ]
    },
    {
     "name": "stdout",
     "output_type": "stream",
     "text": [
      "\r",
      "Epoch 25/500:   5%|▌         | 25/500 [00:11<03:31,  2.25it/s, v_num=1, train_loss_step=1.95e+4, train_loss_epoch=1.88e+4]"
     ]
    },
    {
     "name": "stdout",
     "output_type": "stream",
     "text": [
      "\r",
      "Epoch 26/500:   5%|▌         | 25/500 [00:11<03:31,  2.25it/s, v_num=1, train_loss_step=1.95e+4, train_loss_epoch=1.88e+4]"
     ]
    },
    {
     "name": "stdout",
     "output_type": "stream",
     "text": [
      "\r",
      "Epoch 26/500:   5%|▌         | 26/500 [00:12<03:30,  2.25it/s, v_num=1, train_loss_step=1.95e+4, train_loss_epoch=1.88e+4]"
     ]
    },
    {
     "name": "stdout",
     "output_type": "stream",
     "text": [
      "\r",
      "Epoch 26/500:   5%|▌         | 26/500 [00:12<03:30,  2.25it/s, v_num=1, train_loss_step=1.73e+4, train_loss_epoch=1.88e+4]"
     ]
    },
    {
     "name": "stdout",
     "output_type": "stream",
     "text": [
      "\r",
      "Epoch 27/500:   5%|▌         | 26/500 [00:12<03:30,  2.25it/s, v_num=1, train_loss_step=1.73e+4, train_loss_epoch=1.88e+4]"
     ]
    },
    {
     "name": "stdout",
     "output_type": "stream",
     "text": [
      "\r",
      "Epoch 27/500:   5%|▌         | 27/500 [00:12<03:30,  2.25it/s, v_num=1, train_loss_step=1.73e+4, train_loss_epoch=1.88e+4]"
     ]
    },
    {
     "name": "stdout",
     "output_type": "stream",
     "text": [
      "\r",
      "Epoch 27/500:   5%|▌         | 27/500 [00:12<03:30,  2.25it/s, v_num=1, train_loss_step=2.06e+4, train_loss_epoch=1.88e+4]"
     ]
    },
    {
     "name": "stdout",
     "output_type": "stream",
     "text": [
      "\r",
      "Epoch 28/500:   5%|▌         | 27/500 [00:12<03:30,  2.25it/s, v_num=1, train_loss_step=2.06e+4, train_loss_epoch=1.88e+4]"
     ]
    },
    {
     "name": "stdout",
     "output_type": "stream",
     "text": [
      "\r",
      "Epoch 28/500:   6%|▌         | 28/500 [00:12<03:29,  2.25it/s, v_num=1, train_loss_step=2.06e+4, train_loss_epoch=1.88e+4]"
     ]
    },
    {
     "name": "stdout",
     "output_type": "stream",
     "text": [
      "\r",
      "Epoch 28/500:   6%|▌         | 28/500 [00:12<03:29,  2.25it/s, v_num=1, train_loss_step=2.07e+4, train_loss_epoch=1.88e+4]"
     ]
    },
    {
     "name": "stdout",
     "output_type": "stream",
     "text": [
      "\r",
      "Epoch 29/500:   6%|▌         | 28/500 [00:12<03:29,  2.25it/s, v_num=1, train_loss_step=2.07e+4, train_loss_epoch=1.88e+4]"
     ]
    },
    {
     "name": "stdout",
     "output_type": "stream",
     "text": [
      "\r",
      "Epoch 29/500:   6%|▌         | 29/500 [00:13<03:29,  2.25it/s, v_num=1, train_loss_step=2.07e+4, train_loss_epoch=1.88e+4]"
     ]
    },
    {
     "name": "stdout",
     "output_type": "stream",
     "text": [
      "\r",
      "Epoch 29/500:   6%|▌         | 29/500 [00:13<03:29,  2.25it/s, v_num=1, train_loss_step=1.89e+4, train_loss_epoch=1.87e+4]"
     ]
    },
    {
     "name": "stdout",
     "output_type": "stream",
     "text": [
      "\r",
      "Epoch 30/500:   6%|▌         | 29/500 [00:13<03:29,  2.25it/s, v_num=1, train_loss_step=1.89e+4, train_loss_epoch=1.87e+4]"
     ]
    },
    {
     "name": "stdout",
     "output_type": "stream",
     "text": [
      "\r",
      "Epoch 30/500:   6%|▌         | 30/500 [00:13<03:28,  2.25it/s, v_num=1, train_loss_step=1.89e+4, train_loss_epoch=1.87e+4]"
     ]
    },
    {
     "name": "stdout",
     "output_type": "stream",
     "text": [
      "\r",
      "Epoch 30/500:   6%|▌         | 30/500 [00:13<03:28,  2.25it/s, v_num=1, train_loss_step=1.91e+4, train_loss_epoch=1.87e+4]"
     ]
    },
    {
     "name": "stdout",
     "output_type": "stream",
     "text": [
      "\r",
      "Epoch 31/500:   6%|▌         | 30/500 [00:13<03:28,  2.25it/s, v_num=1, train_loss_step=1.91e+4, train_loss_epoch=1.87e+4]"
     ]
    },
    {
     "name": "stdout",
     "output_type": "stream",
     "text": [
      "\r",
      "Epoch 31/500:   6%|▌         | 31/500 [00:14<03:28,  2.25it/s, v_num=1, train_loss_step=1.91e+4, train_loss_epoch=1.87e+4]"
     ]
    },
    {
     "name": "stdout",
     "output_type": "stream",
     "text": [
      "\r",
      "Epoch 31/500:   6%|▌         | 31/500 [00:14<03:28,  2.25it/s, v_num=1, train_loss_step=1.86e+4, train_loss_epoch=1.87e+4]"
     ]
    },
    {
     "name": "stdout",
     "output_type": "stream",
     "text": [
      "\r",
      "Epoch 32/500:   6%|▌         | 31/500 [00:14<03:28,  2.25it/s, v_num=1, train_loss_step=1.86e+4, train_loss_epoch=1.87e+4]"
     ]
    },
    {
     "name": "stdout",
     "output_type": "stream",
     "text": [
      "\r",
      "Epoch 32/500:   6%|▋         | 32/500 [00:14<03:27,  2.25it/s, v_num=1, train_loss_step=1.86e+4, train_loss_epoch=1.87e+4]"
     ]
    },
    {
     "name": "stdout",
     "output_type": "stream",
     "text": [
      "\r",
      "Epoch 32/500:   6%|▋         | 32/500 [00:14<03:27,  2.25it/s, v_num=1, train_loss_step=1.72e+4, train_loss_epoch=1.87e+4]"
     ]
    },
    {
     "name": "stdout",
     "output_type": "stream",
     "text": [
      "\r",
      "Epoch 33/500:   6%|▋         | 32/500 [00:14<03:27,  2.25it/s, v_num=1, train_loss_step=1.72e+4, train_loss_epoch=1.87e+4]"
     ]
    },
    {
     "name": "stdout",
     "output_type": "stream",
     "text": [
      "\r",
      "Epoch 33/500:   7%|▋         | 33/500 [00:15<03:27,  2.25it/s, v_num=1, train_loss_step=1.72e+4, train_loss_epoch=1.87e+4]"
     ]
    },
    {
     "name": "stdout",
     "output_type": "stream",
     "text": [
      "\r",
      "Epoch 33/500:   7%|▋         | 33/500 [00:15<03:27,  2.25it/s, v_num=1, train_loss_step=1.85e+4, train_loss_epoch=1.87e+4]"
     ]
    },
    {
     "name": "stdout",
     "output_type": "stream",
     "text": [
      "\r",
      "Epoch 34/500:   7%|▋         | 33/500 [00:15<03:27,  2.25it/s, v_num=1, train_loss_step=1.85e+4, train_loss_epoch=1.87e+4]"
     ]
    },
    {
     "name": "stdout",
     "output_type": "stream",
     "text": [
      "\r",
      "Epoch 34/500:   7%|▋         | 34/500 [00:15<03:26,  2.25it/s, v_num=1, train_loss_step=1.85e+4, train_loss_epoch=1.87e+4]"
     ]
    },
    {
     "name": "stdout",
     "output_type": "stream",
     "text": [
      "\r",
      "Epoch 34/500:   7%|▋         | 34/500 [00:15<03:26,  2.25it/s, v_num=1, train_loss_step=1.81e+4, train_loss_epoch=1.87e+4]"
     ]
    },
    {
     "name": "stdout",
     "output_type": "stream",
     "text": [
      "\r",
      "Epoch 35/500:   7%|▋         | 34/500 [00:15<03:26,  2.25it/s, v_num=1, train_loss_step=1.81e+4, train_loss_epoch=1.87e+4]"
     ]
    },
    {
     "name": "stdout",
     "output_type": "stream",
     "text": [
      "\r",
      "Epoch 35/500:   7%|▋         | 35/500 [00:16<03:26,  2.25it/s, v_num=1, train_loss_step=1.81e+4, train_loss_epoch=1.87e+4]"
     ]
    },
    {
     "name": "stdout",
     "output_type": "stream",
     "text": [
      "\r",
      "Epoch 35/500:   7%|▋         | 35/500 [00:16<03:26,  2.25it/s, v_num=1, train_loss_step=1.9e+4, train_loss_epoch=1.87e+4] "
     ]
    },
    {
     "name": "stdout",
     "output_type": "stream",
     "text": [
      "\r",
      "Epoch 36/500:   7%|▋         | 35/500 [00:16<03:26,  2.25it/s, v_num=1, train_loss_step=1.9e+4, train_loss_epoch=1.87e+4]"
     ]
    },
    {
     "name": "stdout",
     "output_type": "stream",
     "text": [
      "\r",
      "Epoch 36/500:   7%|▋         | 36/500 [00:16<03:26,  2.25it/s, v_num=1, train_loss_step=1.9e+4, train_loss_epoch=1.87e+4]"
     ]
    },
    {
     "name": "stdout",
     "output_type": "stream",
     "text": [
      "\r",
      "Epoch 36/500:   7%|▋         | 36/500 [00:16<03:26,  2.25it/s, v_num=1, train_loss_step=1.9e+4, train_loss_epoch=1.87e+4]"
     ]
    },
    {
     "name": "stdout",
     "output_type": "stream",
     "text": [
      "\r",
      "Epoch 37/500:   7%|▋         | 36/500 [00:16<03:26,  2.25it/s, v_num=1, train_loss_step=1.9e+4, train_loss_epoch=1.87e+4]"
     ]
    },
    {
     "name": "stdout",
     "output_type": "stream",
     "text": [
      "\r",
      "Epoch 37/500:   7%|▋         | 37/500 [00:16<03:25,  2.25it/s, v_num=1, train_loss_step=1.9e+4, train_loss_epoch=1.87e+4]"
     ]
    },
    {
     "name": "stdout",
     "output_type": "stream",
     "text": [
      "\r",
      "Epoch 37/500:   7%|▋         | 37/500 [00:16<03:25,  2.25it/s, v_num=1, train_loss_step=1.78e+4, train_loss_epoch=1.87e+4]"
     ]
    },
    {
     "name": "stdout",
     "output_type": "stream",
     "text": [
      "\r",
      "Epoch 38/500:   7%|▋         | 37/500 [00:16<03:25,  2.25it/s, v_num=1, train_loss_step=1.78e+4, train_loss_epoch=1.87e+4]"
     ]
    },
    {
     "name": "stdout",
     "output_type": "stream",
     "text": [
      "\r",
      "Epoch 38/500:   8%|▊         | 38/500 [00:17<03:25,  2.25it/s, v_num=1, train_loss_step=1.78e+4, train_loss_epoch=1.87e+4]"
     ]
    },
    {
     "name": "stdout",
     "output_type": "stream",
     "text": [
      "\r",
      "Epoch 38/500:   8%|▊         | 38/500 [00:17<03:25,  2.25it/s, v_num=1, train_loss_step=1.7e+4, train_loss_epoch=1.87e+4] "
     ]
    },
    {
     "name": "stdout",
     "output_type": "stream",
     "text": [
      "\r",
      "Epoch 39/500:   8%|▊         | 38/500 [00:17<03:25,  2.25it/s, v_num=1, train_loss_step=1.7e+4, train_loss_epoch=1.87e+4]"
     ]
    },
    {
     "name": "stdout",
     "output_type": "stream",
     "text": [
      "\r",
      "Epoch 39/500:   8%|▊         | 39/500 [00:17<03:24,  2.25it/s, v_num=1, train_loss_step=1.7e+4, train_loss_epoch=1.87e+4]"
     ]
    },
    {
     "name": "stdout",
     "output_type": "stream",
     "text": [
      "\r",
      "Epoch 39/500:   8%|▊         | 39/500 [00:17<03:24,  2.25it/s, v_num=1, train_loss_step=1.91e+4, train_loss_epoch=1.86e+4]"
     ]
    },
    {
     "name": "stdout",
     "output_type": "stream",
     "text": [
      "\r",
      "Epoch 40/500:   8%|▊         | 39/500 [00:17<03:24,  2.25it/s, v_num=1, train_loss_step=1.91e+4, train_loss_epoch=1.86e+4]"
     ]
    },
    {
     "name": "stdout",
     "output_type": "stream",
     "text": [
      "\r",
      "Epoch 40/500:   8%|▊         | 40/500 [00:18<03:24,  2.25it/s, v_num=1, train_loss_step=1.91e+4, train_loss_epoch=1.86e+4]"
     ]
    },
    {
     "name": "stdout",
     "output_type": "stream",
     "text": [
      "\r",
      "Epoch 40/500:   8%|▊         | 40/500 [00:18<03:24,  2.25it/s, v_num=1, train_loss_step=1.73e+4, train_loss_epoch=1.86e+4]"
     ]
    },
    {
     "name": "stdout",
     "output_type": "stream",
     "text": [
      "\r",
      "Epoch 41/500:   8%|▊         | 40/500 [00:18<03:24,  2.25it/s, v_num=1, train_loss_step=1.73e+4, train_loss_epoch=1.86e+4]"
     ]
    },
    {
     "name": "stdout",
     "output_type": "stream",
     "text": [
      "\r",
      "Epoch 41/500:   8%|▊         | 41/500 [00:18<03:24,  2.25it/s, v_num=1, train_loss_step=1.73e+4, train_loss_epoch=1.86e+4]"
     ]
    },
    {
     "name": "stdout",
     "output_type": "stream",
     "text": [
      "\r",
      "Epoch 41/500:   8%|▊         | 41/500 [00:18<03:24,  2.25it/s, v_num=1, train_loss_step=1.91e+4, train_loss_epoch=1.86e+4]"
     ]
    },
    {
     "name": "stdout",
     "output_type": "stream",
     "text": [
      "\r",
      "Epoch 42/500:   8%|▊         | 41/500 [00:18<03:24,  2.25it/s, v_num=1, train_loss_step=1.91e+4, train_loss_epoch=1.86e+4]"
     ]
    },
    {
     "name": "stdout",
     "output_type": "stream",
     "text": [
      "\r",
      "Epoch 42/500:   8%|▊         | 42/500 [00:19<03:23,  2.25it/s, v_num=1, train_loss_step=1.91e+4, train_loss_epoch=1.86e+4]"
     ]
    },
    {
     "name": "stdout",
     "output_type": "stream",
     "text": [
      "\r",
      "Epoch 42/500:   8%|▊         | 42/500 [00:19<03:23,  2.25it/s, v_num=1, train_loss_step=2e+4, train_loss_epoch=1.86e+4]   "
     ]
    },
    {
     "name": "stdout",
     "output_type": "stream",
     "text": [
      "\r",
      "Epoch 43/500:   8%|▊         | 42/500 [00:19<03:23,  2.25it/s, v_num=1, train_loss_step=2e+4, train_loss_epoch=1.86e+4]"
     ]
    },
    {
     "name": "stdout",
     "output_type": "stream",
     "text": [
      "\r",
      "Epoch 43/500:   9%|▊         | 43/500 [00:19<03:23,  2.25it/s, v_num=1, train_loss_step=2e+4, train_loss_epoch=1.86e+4]"
     ]
    },
    {
     "name": "stdout",
     "output_type": "stream",
     "text": [
      "\r",
      "Epoch 43/500:   9%|▊         | 43/500 [00:19<03:23,  2.25it/s, v_num=1, train_loss_step=1.87e+4, train_loss_epoch=1.86e+4]"
     ]
    },
    {
     "name": "stdout",
     "output_type": "stream",
     "text": [
      "\r",
      "Epoch 44/500:   9%|▊         | 43/500 [00:19<03:23,  2.25it/s, v_num=1, train_loss_step=1.87e+4, train_loss_epoch=1.86e+4]"
     ]
    },
    {
     "name": "stdout",
     "output_type": "stream",
     "text": [
      "\r",
      "Epoch 44/500:   9%|▉         | 44/500 [00:20<03:22,  2.25it/s, v_num=1, train_loss_step=1.87e+4, train_loss_epoch=1.86e+4]"
     ]
    },
    {
     "name": "stdout",
     "output_type": "stream",
     "text": [
      "\r",
      "Epoch 44/500:   9%|▉         | 44/500 [00:20<03:22,  2.25it/s, v_num=1, train_loss_step=1.91e+4, train_loss_epoch=1.86e+4]"
     ]
    },
    {
     "name": "stdout",
     "output_type": "stream",
     "text": [
      "\r",
      "Epoch 45/500:   9%|▉         | 44/500 [00:20<03:22,  2.25it/s, v_num=1, train_loss_step=1.91e+4, train_loss_epoch=1.86e+4]"
     ]
    },
    {
     "name": "stdout",
     "output_type": "stream",
     "text": [
      "\r",
      "Epoch 45/500:   9%|▉         | 45/500 [00:20<03:22,  2.25it/s, v_num=1, train_loss_step=1.91e+4, train_loss_epoch=1.86e+4]"
     ]
    },
    {
     "name": "stdout",
     "output_type": "stream",
     "text": [
      "\r",
      "Epoch 45/500:   9%|▉         | 45/500 [00:20<03:22,  2.25it/s, v_num=1, train_loss_step=1.8e+4, train_loss_epoch=1.86e+4] "
     ]
    },
    {
     "name": "stdout",
     "output_type": "stream",
     "text": [
      "\r",
      "Epoch 46/500:   9%|▉         | 45/500 [00:20<03:22,  2.25it/s, v_num=1, train_loss_step=1.8e+4, train_loss_epoch=1.86e+4]"
     ]
    },
    {
     "name": "stdout",
     "output_type": "stream",
     "text": [
      "\r",
      "Epoch 46/500:   9%|▉         | 46/500 [00:20<03:21,  2.25it/s, v_num=1, train_loss_step=1.8e+4, train_loss_epoch=1.86e+4]"
     ]
    },
    {
     "name": "stdout",
     "output_type": "stream",
     "text": [
      "\r",
      "Epoch 46/500:   9%|▉         | 46/500 [00:20<03:21,  2.25it/s, v_num=1, train_loss_step=1.82e+4, train_loss_epoch=1.86e+4]"
     ]
    },
    {
     "name": "stdout",
     "output_type": "stream",
     "text": [
      "\r",
      "Epoch 47/500:   9%|▉         | 46/500 [00:20<03:21,  2.25it/s, v_num=1, train_loss_step=1.82e+4, train_loss_epoch=1.86e+4]"
     ]
    },
    {
     "name": "stdout",
     "output_type": "stream",
     "text": [
      "\r",
      "Epoch 47/500:   9%|▉         | 47/500 [00:21<03:21,  2.25it/s, v_num=1, train_loss_step=1.82e+4, train_loss_epoch=1.86e+4]"
     ]
    },
    {
     "name": "stdout",
     "output_type": "stream",
     "text": [
      "\r",
      "Epoch 47/500:   9%|▉         | 47/500 [00:21<03:21,  2.25it/s, v_num=1, train_loss_step=1.67e+4, train_loss_epoch=1.86e+4]"
     ]
    },
    {
     "name": "stdout",
     "output_type": "stream",
     "text": [
      "\r",
      "Epoch 48/500:   9%|▉         | 47/500 [00:21<03:21,  2.25it/s, v_num=1, train_loss_step=1.67e+4, train_loss_epoch=1.86e+4]"
     ]
    },
    {
     "name": "stdout",
     "output_type": "stream",
     "text": [
      "\r",
      "Epoch 48/500:  10%|▉         | 48/500 [00:21<03:21,  2.25it/s, v_num=1, train_loss_step=1.67e+4, train_loss_epoch=1.86e+4]"
     ]
    },
    {
     "name": "stdout",
     "output_type": "stream",
     "text": [
      "\r",
      "Epoch 48/500:  10%|▉         | 48/500 [00:21<03:21,  2.25it/s, v_num=1, train_loss_step=1.73e+4, train_loss_epoch=1.86e+4]"
     ]
    },
    {
     "name": "stdout",
     "output_type": "stream",
     "text": [
      "\r",
      "Epoch 49/500:  10%|▉         | 48/500 [00:21<03:21,  2.25it/s, v_num=1, train_loss_step=1.73e+4, train_loss_epoch=1.86e+4]"
     ]
    },
    {
     "name": "stdout",
     "output_type": "stream",
     "text": [
      "\r",
      "Epoch 49/500:  10%|▉         | 49/500 [00:22<03:20,  2.25it/s, v_num=1, train_loss_step=1.73e+4, train_loss_epoch=1.86e+4]"
     ]
    },
    {
     "name": "stdout",
     "output_type": "stream",
     "text": [
      "\r",
      "Epoch 49/500:  10%|▉         | 49/500 [00:22<03:20,  2.25it/s, v_num=1, train_loss_step=1.75e+4, train_loss_epoch=1.86e+4]"
     ]
    },
    {
     "name": "stdout",
     "output_type": "stream",
     "text": [
      "\r",
      "Epoch 50/500:  10%|▉         | 49/500 [00:22<03:20,  2.25it/s, v_num=1, train_loss_step=1.75e+4, train_loss_epoch=1.86e+4]"
     ]
    },
    {
     "name": "stdout",
     "output_type": "stream",
     "text": [
      "\r",
      "Epoch 50/500:  10%|█         | 50/500 [00:22<03:20,  2.25it/s, v_num=1, train_loss_step=1.75e+4, train_loss_epoch=1.86e+4]"
     ]
    },
    {
     "name": "stdout",
     "output_type": "stream",
     "text": [
      "\r",
      "Epoch 50/500:  10%|█         | 50/500 [00:22<03:20,  2.25it/s, v_num=1, train_loss_step=1.94e+4, train_loss_epoch=1.86e+4]"
     ]
    },
    {
     "name": "stdout",
     "output_type": "stream",
     "text": [
      "\r",
      "Epoch 51/500:  10%|█         | 50/500 [00:22<03:20,  2.25it/s, v_num=1, train_loss_step=1.94e+4, train_loss_epoch=1.86e+4]"
     ]
    },
    {
     "name": "stdout",
     "output_type": "stream",
     "text": [
      "\r",
      "Epoch 51/500:  10%|█         | 51/500 [00:23<03:19,  2.25it/s, v_num=1, train_loss_step=1.94e+4, train_loss_epoch=1.86e+4]"
     ]
    },
    {
     "name": "stdout",
     "output_type": "stream",
     "text": [
      "\r",
      "Epoch 51/500:  10%|█         | 51/500 [00:23<03:19,  2.25it/s, v_num=1, train_loss_step=1.97e+4, train_loss_epoch=1.86e+4]"
     ]
    },
    {
     "name": "stdout",
     "output_type": "stream",
     "text": [
      "\r",
      "Epoch 52/500:  10%|█         | 51/500 [00:23<03:19,  2.25it/s, v_num=1, train_loss_step=1.97e+4, train_loss_epoch=1.86e+4]"
     ]
    },
    {
     "name": "stdout",
     "output_type": "stream",
     "text": [
      "\r",
      "Epoch 52/500:  10%|█         | 52/500 [00:23<03:19,  2.25it/s, v_num=1, train_loss_step=1.97e+4, train_loss_epoch=1.86e+4]"
     ]
    },
    {
     "name": "stdout",
     "output_type": "stream",
     "text": [
      "\r",
      "Epoch 52/500:  10%|█         | 52/500 [00:23<03:19,  2.25it/s, v_num=1, train_loss_step=1.8e+4, train_loss_epoch=1.86e+4] "
     ]
    },
    {
     "name": "stdout",
     "output_type": "stream",
     "text": [
      "\r",
      "Epoch 53/500:  10%|█         | 52/500 [00:23<03:19,  2.25it/s, v_num=1, train_loss_step=1.8e+4, train_loss_epoch=1.86e+4]"
     ]
    },
    {
     "name": "stdout",
     "output_type": "stream",
     "text": [
      "\r",
      "Epoch 53/500:  11%|█         | 53/500 [00:24<03:18,  2.25it/s, v_num=1, train_loss_step=1.8e+4, train_loss_epoch=1.86e+4]"
     ]
    },
    {
     "name": "stdout",
     "output_type": "stream",
     "text": [
      "\r",
      "Epoch 53/500:  11%|█         | 53/500 [00:24<03:18,  2.25it/s, v_num=1, train_loss_step=1.77e+4, train_loss_epoch=1.86e+4]"
     ]
    },
    {
     "name": "stdout",
     "output_type": "stream",
     "text": [
      "\r",
      "Epoch 54/500:  11%|█         | 53/500 [00:24<03:18,  2.25it/s, v_num=1, train_loss_step=1.77e+4, train_loss_epoch=1.86e+4]"
     ]
    },
    {
     "name": "stdout",
     "output_type": "stream",
     "text": [
      "\r",
      "Epoch 54/500:  11%|█         | 54/500 [00:24<03:18,  2.25it/s, v_num=1, train_loss_step=1.77e+4, train_loss_epoch=1.86e+4]"
     ]
    },
    {
     "name": "stdout",
     "output_type": "stream",
     "text": [
      "\r",
      "Epoch 54/500:  11%|█         | 54/500 [00:24<03:18,  2.25it/s, v_num=1, train_loss_step=1.93e+4, train_loss_epoch=1.86e+4]"
     ]
    },
    {
     "name": "stdout",
     "output_type": "stream",
     "text": [
      "\r",
      "Epoch 55/500:  11%|█         | 54/500 [00:24<03:18,  2.25it/s, v_num=1, train_loss_step=1.93e+4, train_loss_epoch=1.86e+4]"
     ]
    },
    {
     "name": "stdout",
     "output_type": "stream",
     "text": [
      "\r",
      "Epoch 55/500:  11%|█         | 55/500 [00:24<03:17,  2.25it/s, v_num=1, train_loss_step=1.93e+4, train_loss_epoch=1.86e+4]"
     ]
    },
    {
     "name": "stdout",
     "output_type": "stream",
     "text": [
      "\r",
      "Epoch 55/500:  11%|█         | 55/500 [00:24<03:17,  2.25it/s, v_num=1, train_loss_step=1.88e+4, train_loss_epoch=1.86e+4]"
     ]
    },
    {
     "name": "stdout",
     "output_type": "stream",
     "text": [
      "\r",
      "Epoch 56/500:  11%|█         | 55/500 [00:24<03:17,  2.25it/s, v_num=1, train_loss_step=1.88e+4, train_loss_epoch=1.86e+4]"
     ]
    },
    {
     "name": "stdout",
     "output_type": "stream",
     "text": [
      "\r",
      "Epoch 56/500:  11%|█         | 56/500 [00:25<03:17,  2.25it/s, v_num=1, train_loss_step=1.88e+4, train_loss_epoch=1.86e+4]"
     ]
    },
    {
     "name": "stdout",
     "output_type": "stream",
     "text": [
      "\r",
      "Epoch 56/500:  11%|█         | 56/500 [00:25<03:17,  2.25it/s, v_num=1, train_loss_step=1.96e+4, train_loss_epoch=1.86e+4]"
     ]
    },
    {
     "name": "stdout",
     "output_type": "stream",
     "text": [
      "\r",
      "Epoch 57/500:  11%|█         | 56/500 [00:25<03:17,  2.25it/s, v_num=1, train_loss_step=1.96e+4, train_loss_epoch=1.86e+4]"
     ]
    },
    {
     "name": "stdout",
     "output_type": "stream",
     "text": [
      "\r",
      "Epoch 57/500:  11%|█▏        | 57/500 [00:25<03:16,  2.25it/s, v_num=1, train_loss_step=1.96e+4, train_loss_epoch=1.86e+4]"
     ]
    },
    {
     "name": "stdout",
     "output_type": "stream",
     "text": [
      "\r",
      "Epoch 57/500:  11%|█▏        | 57/500 [00:25<03:16,  2.25it/s, v_num=1, train_loss_step=1.85e+4, train_loss_epoch=1.86e+4]"
     ]
    },
    {
     "name": "stdout",
     "output_type": "stream",
     "text": [
      "\r",
      "Epoch 58/500:  11%|█▏        | 57/500 [00:25<03:16,  2.25it/s, v_num=1, train_loss_step=1.85e+4, train_loss_epoch=1.86e+4]"
     ]
    },
    {
     "name": "stdout",
     "output_type": "stream",
     "text": [
      "\r",
      "Epoch 58/500:  12%|█▏        | 58/500 [00:26<03:16,  2.25it/s, v_num=1, train_loss_step=1.85e+4, train_loss_epoch=1.86e+4]"
     ]
    },
    {
     "name": "stdout",
     "output_type": "stream",
     "text": [
      "\r",
      "Epoch 58/500:  12%|█▏        | 58/500 [00:26<03:16,  2.25it/s, v_num=1, train_loss_step=1.83e+4, train_loss_epoch=1.86e+4]"
     ]
    },
    {
     "name": "stdout",
     "output_type": "stream",
     "text": [
      "\r",
      "Epoch 59/500:  12%|█▏        | 58/500 [00:26<03:16,  2.25it/s, v_num=1, train_loss_step=1.83e+4, train_loss_epoch=1.86e+4]"
     ]
    },
    {
     "name": "stdout",
     "output_type": "stream",
     "text": [
      "\r",
      "Epoch 59/500:  12%|█▏        | 59/500 [00:26<03:16,  2.24it/s, v_num=1, train_loss_step=1.83e+4, train_loss_epoch=1.86e+4]"
     ]
    },
    {
     "name": "stdout",
     "output_type": "stream",
     "text": [
      "\r",
      "Epoch 59/500:  12%|█▏        | 59/500 [00:26<03:16,  2.24it/s, v_num=1, train_loss_step=1.9e+4, train_loss_epoch=1.86e+4] "
     ]
    },
    {
     "name": "stdout",
     "output_type": "stream",
     "text": [
      "\r",
      "Epoch 60/500:  12%|█▏        | 59/500 [00:26<03:16,  2.24it/s, v_num=1, train_loss_step=1.9e+4, train_loss_epoch=1.86e+4]"
     ]
    },
    {
     "name": "stdout",
     "output_type": "stream",
     "text": [
      "\r",
      "Epoch 60/500:  12%|█▏        | 60/500 [00:27<03:15,  2.25it/s, v_num=1, train_loss_step=1.9e+4, train_loss_epoch=1.86e+4]"
     ]
    },
    {
     "name": "stdout",
     "output_type": "stream",
     "text": [
      "\r",
      "Epoch 60/500:  12%|█▏        | 60/500 [00:27<03:15,  2.25it/s, v_num=1, train_loss_step=1.97e+4, train_loss_epoch=1.86e+4]"
     ]
    },
    {
     "name": "stdout",
     "output_type": "stream",
     "text": [
      "\r",
      "Epoch 61/500:  12%|█▏        | 60/500 [00:27<03:15,  2.25it/s, v_num=1, train_loss_step=1.97e+4, train_loss_epoch=1.86e+4]"
     ]
    },
    {
     "name": "stdout",
     "output_type": "stream",
     "text": [
      "\r",
      "Epoch 61/500:  12%|█▏        | 61/500 [00:27<03:15,  2.25it/s, v_num=1, train_loss_step=1.97e+4, train_loss_epoch=1.86e+4]"
     ]
    },
    {
     "name": "stdout",
     "output_type": "stream",
     "text": [
      "\r",
      "Epoch 61/500:  12%|█▏        | 61/500 [00:27<03:15,  2.25it/s, v_num=1, train_loss_step=1.85e+4, train_loss_epoch=1.86e+4]"
     ]
    },
    {
     "name": "stdout",
     "output_type": "stream",
     "text": [
      "\r",
      "Epoch 62/500:  12%|█▏        | 61/500 [00:27<03:15,  2.25it/s, v_num=1, train_loss_step=1.85e+4, train_loss_epoch=1.86e+4]"
     ]
    },
    {
     "name": "stdout",
     "output_type": "stream",
     "text": [
      "\r",
      "Epoch 62/500:  12%|█▏        | 62/500 [00:28<03:15,  2.25it/s, v_num=1, train_loss_step=1.85e+4, train_loss_epoch=1.86e+4]"
     ]
    },
    {
     "name": "stdout",
     "output_type": "stream",
     "text": [
      "\r",
      "Epoch 62/500:  12%|█▏        | 62/500 [00:28<03:15,  2.25it/s, v_num=1, train_loss_step=1.79e+4, train_loss_epoch=1.86e+4]"
     ]
    },
    {
     "name": "stdout",
     "output_type": "stream",
     "text": [
      "\r",
      "Epoch 63/500:  12%|█▏        | 62/500 [00:28<03:15,  2.25it/s, v_num=1, train_loss_step=1.79e+4, train_loss_epoch=1.86e+4]"
     ]
    },
    {
     "name": "stdout",
     "output_type": "stream",
     "text": [
      "\r",
      "Epoch 63/500:  13%|█▎        | 63/500 [00:28<03:14,  2.25it/s, v_num=1, train_loss_step=1.79e+4, train_loss_epoch=1.86e+4]"
     ]
    },
    {
     "name": "stdout",
     "output_type": "stream",
     "text": [
      "\r",
      "Epoch 63/500:  13%|█▎        | 63/500 [00:28<03:14,  2.25it/s, v_num=1, train_loss_step=1.77e+4, train_loss_epoch=1.86e+4]"
     ]
    },
    {
     "name": "stdout",
     "output_type": "stream",
     "text": [
      "\r",
      "Epoch 64/500:  13%|█▎        | 63/500 [00:28<03:14,  2.25it/s, v_num=1, train_loss_step=1.77e+4, train_loss_epoch=1.86e+4]"
     ]
    },
    {
     "name": "stdout",
     "output_type": "stream",
     "text": [
      "\r",
      "Epoch 64/500:  13%|█▎        | 64/500 [00:28<03:14,  2.25it/s, v_num=1, train_loss_step=1.77e+4, train_loss_epoch=1.86e+4]"
     ]
    },
    {
     "name": "stdout",
     "output_type": "stream",
     "text": [
      "\r",
      "Epoch 64/500:  13%|█▎        | 64/500 [00:28<03:14,  2.25it/s, v_num=1, train_loss_step=1.85e+4, train_loss_epoch=1.86e+4]"
     ]
    },
    {
     "name": "stdout",
     "output_type": "stream",
     "text": [
      "\r",
      "Epoch 65/500:  13%|█▎        | 64/500 [00:28<03:14,  2.25it/s, v_num=1, train_loss_step=1.85e+4, train_loss_epoch=1.86e+4]"
     ]
    },
    {
     "name": "stdout",
     "output_type": "stream",
     "text": [
      "\r",
      "Epoch 65/500:  13%|█▎        | 65/500 [00:29<03:13,  2.24it/s, v_num=1, train_loss_step=1.85e+4, train_loss_epoch=1.86e+4]"
     ]
    },
    {
     "name": "stdout",
     "output_type": "stream",
     "text": [
      "\r",
      "Epoch 65/500:  13%|█▎        | 65/500 [00:29<03:13,  2.24it/s, v_num=1, train_loss_step=1.95e+4, train_loss_epoch=1.86e+4]"
     ]
    },
    {
     "name": "stdout",
     "output_type": "stream",
     "text": [
      "\r",
      "Epoch 66/500:  13%|█▎        | 65/500 [00:29<03:13,  2.24it/s, v_num=1, train_loss_step=1.95e+4, train_loss_epoch=1.86e+4]"
     ]
    },
    {
     "name": "stdout",
     "output_type": "stream",
     "text": [
      "\r",
      "Epoch 66/500:  13%|█▎        | 66/500 [00:29<03:13,  2.24it/s, v_num=1, train_loss_step=1.95e+4, train_loss_epoch=1.86e+4]"
     ]
    },
    {
     "name": "stdout",
     "output_type": "stream",
     "text": [
      "\r",
      "Epoch 66/500:  13%|█▎        | 66/500 [00:29<03:13,  2.24it/s, v_num=1, train_loss_step=1.81e+4, train_loss_epoch=1.86e+4]"
     ]
    },
    {
     "name": "stdout",
     "output_type": "stream",
     "text": [
      "\r",
      "Epoch 67/500:  13%|█▎        | 66/500 [00:29<03:13,  2.24it/s, v_num=1, train_loss_step=1.81e+4, train_loss_epoch=1.86e+4]"
     ]
    },
    {
     "name": "stdout",
     "output_type": "stream",
     "text": [
      "\r",
      "Epoch 67/500:  13%|█▎        | 67/500 [00:30<03:12,  2.24it/s, v_num=1, train_loss_step=1.81e+4, train_loss_epoch=1.86e+4]"
     ]
    },
    {
     "name": "stdout",
     "output_type": "stream",
     "text": [
      "\r",
      "Epoch 67/500:  13%|█▎        | 67/500 [00:30<03:12,  2.24it/s, v_num=1, train_loss_step=1.82e+4, train_loss_epoch=1.86e+4]"
     ]
    },
    {
     "name": "stdout",
     "output_type": "stream",
     "text": [
      "\r",
      "Epoch 68/500:  13%|█▎        | 67/500 [00:30<03:12,  2.24it/s, v_num=1, train_loss_step=1.82e+4, train_loss_epoch=1.86e+4]"
     ]
    },
    {
     "name": "stdout",
     "output_type": "stream",
     "text": [
      "\r",
      "Epoch 68/500:  14%|█▎        | 68/500 [00:30<03:12,  2.25it/s, v_num=1, train_loss_step=1.82e+4, train_loss_epoch=1.86e+4]"
     ]
    },
    {
     "name": "stdout",
     "output_type": "stream",
     "text": [
      "\r",
      "Epoch 68/500:  14%|█▎        | 68/500 [00:30<03:12,  2.25it/s, v_num=1, train_loss_step=2e+4, train_loss_epoch=1.86e+4]   "
     ]
    },
    {
     "name": "stdout",
     "output_type": "stream",
     "text": [
      "\r",
      "Epoch 69/500:  14%|█▎        | 68/500 [00:30<03:12,  2.25it/s, v_num=1, train_loss_step=2e+4, train_loss_epoch=1.86e+4]"
     ]
    },
    {
     "name": "stdout",
     "output_type": "stream",
     "text": [
      "\r",
      "Epoch 69/500:  14%|█▍        | 69/500 [00:31<03:11,  2.25it/s, v_num=1, train_loss_step=2e+4, train_loss_epoch=1.86e+4]"
     ]
    },
    {
     "name": "stdout",
     "output_type": "stream",
     "text": [
      "\r",
      "Epoch 69/500:  14%|█▍        | 69/500 [00:31<03:11,  2.25it/s, v_num=1, train_loss_step=1.65e+4, train_loss_epoch=1.86e+4]"
     ]
    },
    {
     "name": "stdout",
     "output_type": "stream",
     "text": [
      "\r",
      "Epoch 70/500:  14%|█▍        | 69/500 [00:31<03:11,  2.25it/s, v_num=1, train_loss_step=1.65e+4, train_loss_epoch=1.86e+4]"
     ]
    },
    {
     "name": "stdout",
     "output_type": "stream",
     "text": [
      "\r",
      "Epoch 70/500:  14%|█▍        | 70/500 [00:31<03:11,  2.25it/s, v_num=1, train_loss_step=1.65e+4, train_loss_epoch=1.86e+4]"
     ]
    },
    {
     "name": "stdout",
     "output_type": "stream",
     "text": [
      "\r",
      "Epoch 70/500:  14%|█▍        | 70/500 [00:31<03:11,  2.25it/s, v_num=1, train_loss_step=1.75e+4, train_loss_epoch=1.86e+4]"
     ]
    },
    {
     "name": "stdout",
     "output_type": "stream",
     "text": [
      "\r",
      "Epoch 71/500:  14%|█▍        | 70/500 [00:31<03:11,  2.25it/s, v_num=1, train_loss_step=1.75e+4, train_loss_epoch=1.86e+4]"
     ]
    },
    {
     "name": "stdout",
     "output_type": "stream",
     "text": [
      "\r",
      "Epoch 71/500:  14%|█▍        | 71/500 [00:32<03:10,  2.25it/s, v_num=1, train_loss_step=1.75e+4, train_loss_epoch=1.86e+4]"
     ]
    },
    {
     "name": "stdout",
     "output_type": "stream",
     "text": [
      "\r",
      "Epoch 71/500:  14%|█▍        | 71/500 [00:32<03:10,  2.25it/s, v_num=1, train_loss_step=1.88e+4, train_loss_epoch=1.86e+4]"
     ]
    },
    {
     "name": "stdout",
     "output_type": "stream",
     "text": [
      "\r",
      "Epoch 72/500:  14%|█▍        | 71/500 [00:32<03:10,  2.25it/s, v_num=1, train_loss_step=1.88e+4, train_loss_epoch=1.86e+4]"
     ]
    },
    {
     "name": "stdout",
     "output_type": "stream",
     "text": [
      "\r",
      "Epoch 72/500:  14%|█▍        | 72/500 [00:32<03:10,  2.25it/s, v_num=1, train_loss_step=1.88e+4, train_loss_epoch=1.86e+4]"
     ]
    },
    {
     "name": "stdout",
     "output_type": "stream",
     "text": [
      "\r",
      "Epoch 72/500:  14%|█▍        | 72/500 [00:32<03:10,  2.25it/s, v_num=1, train_loss_step=1.71e+4, train_loss_epoch=1.86e+4]"
     ]
    },
    {
     "name": "stdout",
     "output_type": "stream",
     "text": [
      "\r",
      "Epoch 73/500:  14%|█▍        | 72/500 [00:32<03:10,  2.25it/s, v_num=1, train_loss_step=1.71e+4, train_loss_epoch=1.86e+4]"
     ]
    },
    {
     "name": "stdout",
     "output_type": "stream",
     "text": [
      "\r",
      "Epoch 73/500:  15%|█▍        | 73/500 [00:32<03:10,  2.25it/s, v_num=1, train_loss_step=1.71e+4, train_loss_epoch=1.86e+4]"
     ]
    },
    {
     "name": "stdout",
     "output_type": "stream",
     "text": [
      "\r",
      "Epoch 73/500:  15%|█▍        | 73/500 [00:32<03:10,  2.25it/s, v_num=1, train_loss_step=1.79e+4, train_loss_epoch=1.86e+4]"
     ]
    },
    {
     "name": "stdout",
     "output_type": "stream",
     "text": [
      "\r",
      "Epoch 74/500:  15%|█▍        | 73/500 [00:32<03:10,  2.25it/s, v_num=1, train_loss_step=1.79e+4, train_loss_epoch=1.86e+4]"
     ]
    },
    {
     "name": "stdout",
     "output_type": "stream",
     "text": [
      "\r",
      "Epoch 74/500:  15%|█▍        | 74/500 [00:33<03:09,  2.25it/s, v_num=1, train_loss_step=1.79e+4, train_loss_epoch=1.86e+4]"
     ]
    },
    {
     "name": "stdout",
     "output_type": "stream",
     "text": [
      "\r",
      "Epoch 74/500:  15%|█▍        | 74/500 [00:33<03:09,  2.25it/s, v_num=1, train_loss_step=1.91e+4, train_loss_epoch=1.86e+4]"
     ]
    },
    {
     "name": "stdout",
     "output_type": "stream",
     "text": [
      "\r",
      "Epoch 75/500:  15%|█▍        | 74/500 [00:33<03:09,  2.25it/s, v_num=1, train_loss_step=1.91e+4, train_loss_epoch=1.86e+4]"
     ]
    },
    {
     "name": "stdout",
     "output_type": "stream",
     "text": [
      "\r",
      "Epoch 75/500:  15%|█▌        | 75/500 [00:33<03:09,  2.25it/s, v_num=1, train_loss_step=1.91e+4, train_loss_epoch=1.86e+4]"
     ]
    },
    {
     "name": "stdout",
     "output_type": "stream",
     "text": [
      "\r",
      "Epoch 75/500:  15%|█▌        | 75/500 [00:33<03:09,  2.25it/s, v_num=1, train_loss_step=1.93e+4, train_loss_epoch=1.86e+4]"
     ]
    },
    {
     "name": "stdout",
     "output_type": "stream",
     "text": [
      "\r",
      "Epoch 76/500:  15%|█▌        | 75/500 [00:33<03:09,  2.25it/s, v_num=1, train_loss_step=1.93e+4, train_loss_epoch=1.86e+4]"
     ]
    },
    {
     "name": "stdout",
     "output_type": "stream",
     "text": [
      "\r",
      "Epoch 76/500:  15%|█▌        | 76/500 [00:34<03:08,  2.25it/s, v_num=1, train_loss_step=1.93e+4, train_loss_epoch=1.86e+4]"
     ]
    },
    {
     "name": "stdout",
     "output_type": "stream",
     "text": [
      "\r",
      "Epoch 76/500:  15%|█▌        | 76/500 [00:34<03:08,  2.25it/s, v_num=1, train_loss_step=1.9e+4, train_loss_epoch=1.86e+4] "
     ]
    },
    {
     "name": "stdout",
     "output_type": "stream",
     "text": [
      "\r",
      "Epoch 77/500:  15%|█▌        | 76/500 [00:34<03:08,  2.25it/s, v_num=1, train_loss_step=1.9e+4, train_loss_epoch=1.86e+4]"
     ]
    },
    {
     "name": "stdout",
     "output_type": "stream",
     "text": [
      "\r",
      "Epoch 77/500:  15%|█▌        | 77/500 [00:34<03:08,  2.25it/s, v_num=1, train_loss_step=1.9e+4, train_loss_epoch=1.86e+4]"
     ]
    },
    {
     "name": "stdout",
     "output_type": "stream",
     "text": [
      "\r",
      "Epoch 77/500:  15%|█▌        | 77/500 [00:34<03:08,  2.25it/s, v_num=1, train_loss_step=1.79e+4, train_loss_epoch=1.86e+4]"
     ]
    },
    {
     "name": "stdout",
     "output_type": "stream",
     "text": [
      "\r",
      "Epoch 78/500:  15%|█▌        | 77/500 [00:34<03:08,  2.25it/s, v_num=1, train_loss_step=1.79e+4, train_loss_epoch=1.86e+4]"
     ]
    },
    {
     "name": "stdout",
     "output_type": "stream",
     "text": [
      "\r",
      "Epoch 78/500:  16%|█▌        | 78/500 [00:35<03:07,  2.25it/s, v_num=1, train_loss_step=1.79e+4, train_loss_epoch=1.86e+4]"
     ]
    },
    {
     "name": "stdout",
     "output_type": "stream",
     "text": [
      "\r",
      "Epoch 78/500:  16%|█▌        | 78/500 [00:35<03:07,  2.25it/s, v_num=1, train_loss_step=1.74e+4, train_loss_epoch=1.86e+4]"
     ]
    },
    {
     "name": "stdout",
     "output_type": "stream",
     "text": [
      "\r",
      "Epoch 79/500:  16%|█▌        | 78/500 [00:35<03:07,  2.25it/s, v_num=1, train_loss_step=1.74e+4, train_loss_epoch=1.86e+4]"
     ]
    },
    {
     "name": "stdout",
     "output_type": "stream",
     "text": [
      "\r",
      "Epoch 79/500:  16%|█▌        | 79/500 [00:35<03:07,  2.25it/s, v_num=1, train_loss_step=1.74e+4, train_loss_epoch=1.86e+4]"
     ]
    },
    {
     "name": "stdout",
     "output_type": "stream",
     "text": [
      "\r",
      "Epoch 79/500:  16%|█▌        | 79/500 [00:35<03:07,  2.25it/s, v_num=1, train_loss_step=1.96e+4, train_loss_epoch=1.85e+4]"
     ]
    },
    {
     "name": "stdout",
     "output_type": "stream",
     "text": [
      "\r",
      "Epoch 80/500:  16%|█▌        | 79/500 [00:35<03:07,  2.25it/s, v_num=1, train_loss_step=1.96e+4, train_loss_epoch=1.85e+4]"
     ]
    },
    {
     "name": "stdout",
     "output_type": "stream",
     "text": [
      "\r",
      "Epoch 80/500:  16%|█▌        | 80/500 [00:36<03:07,  2.25it/s, v_num=1, train_loss_step=1.96e+4, train_loss_epoch=1.85e+4]"
     ]
    },
    {
     "name": "stdout",
     "output_type": "stream",
     "text": [
      "\r",
      "Epoch 80/500:  16%|█▌        | 80/500 [00:36<03:07,  2.25it/s, v_num=1, train_loss_step=1.87e+4, train_loss_epoch=1.85e+4]"
     ]
    },
    {
     "name": "stdout",
     "output_type": "stream",
     "text": [
      "\r",
      "Epoch 81/500:  16%|█▌        | 80/500 [00:36<03:07,  2.25it/s, v_num=1, train_loss_step=1.87e+4, train_loss_epoch=1.85e+4]"
     ]
    },
    {
     "name": "stdout",
     "output_type": "stream",
     "text": [
      "\r",
      "Epoch 81/500:  16%|█▌        | 81/500 [00:36<03:06,  2.25it/s, v_num=1, train_loss_step=1.87e+4, train_loss_epoch=1.85e+4]"
     ]
    },
    {
     "name": "stdout",
     "output_type": "stream",
     "text": [
      "\r",
      "Epoch 81/500:  16%|█▌        | 81/500 [00:36<03:06,  2.25it/s, v_num=1, train_loss_step=1.86e+4, train_loss_epoch=1.85e+4]"
     ]
    },
    {
     "name": "stdout",
     "output_type": "stream",
     "text": [
      "\r",
      "Epoch 82/500:  16%|█▌        | 81/500 [00:36<03:06,  2.25it/s, v_num=1, train_loss_step=1.86e+4, train_loss_epoch=1.85e+4]"
     ]
    },
    {
     "name": "stdout",
     "output_type": "stream",
     "text": [
      "\r",
      "Epoch 82/500:  16%|█▋        | 82/500 [00:36<03:05,  2.25it/s, v_num=1, train_loss_step=1.86e+4, train_loss_epoch=1.85e+4]"
     ]
    },
    {
     "name": "stdout",
     "output_type": "stream",
     "text": [
      "\r",
      "Epoch 82/500:  16%|█▋        | 82/500 [00:36<03:05,  2.25it/s, v_num=1, train_loss_step=1.88e+4, train_loss_epoch=1.85e+4]"
     ]
    },
    {
     "name": "stdout",
     "output_type": "stream",
     "text": [
      "\r",
      "Epoch 83/500:  16%|█▋        | 82/500 [00:37<03:05,  2.25it/s, v_num=1, train_loss_step=1.88e+4, train_loss_epoch=1.85e+4]"
     ]
    },
    {
     "name": "stdout",
     "output_type": "stream",
     "text": [
      "\r",
      "Epoch 83/500:  17%|█▋        | 83/500 [00:37<03:05,  2.25it/s, v_num=1, train_loss_step=1.88e+4, train_loss_epoch=1.85e+4]"
     ]
    },
    {
     "name": "stdout",
     "output_type": "stream",
     "text": [
      "\r",
      "Epoch 83/500:  17%|█▋        | 83/500 [00:37<03:05,  2.25it/s, v_num=1, train_loss_step=1.88e+4, train_loss_epoch=1.85e+4]"
     ]
    },
    {
     "name": "stdout",
     "output_type": "stream",
     "text": [
      "\r",
      "Epoch 84/500:  17%|█▋        | 83/500 [00:37<03:05,  2.25it/s, v_num=1, train_loss_step=1.88e+4, train_loss_epoch=1.85e+4]"
     ]
    },
    {
     "name": "stdout",
     "output_type": "stream",
     "text": [
      "\r",
      "Epoch 84/500:  17%|█▋        | 84/500 [00:37<03:05,  2.25it/s, v_num=1, train_loss_step=1.88e+4, train_loss_epoch=1.85e+4]"
     ]
    },
    {
     "name": "stdout",
     "output_type": "stream",
     "text": [
      "\r",
      "Epoch 84/500:  17%|█▋        | 84/500 [00:37<03:05,  2.25it/s, v_num=1, train_loss_step=1.89e+4, train_loss_epoch=1.85e+4]"
     ]
    },
    {
     "name": "stdout",
     "output_type": "stream",
     "text": [
      "\r",
      "Epoch 85/500:  17%|█▋        | 84/500 [00:37<03:05,  2.25it/s, v_num=1, train_loss_step=1.89e+4, train_loss_epoch=1.85e+4]"
     ]
    },
    {
     "name": "stdout",
     "output_type": "stream",
     "text": [
      "\r",
      "Epoch 85/500:  17%|█▋        | 85/500 [00:38<03:04,  2.25it/s, v_num=1, train_loss_step=1.89e+4, train_loss_epoch=1.85e+4]"
     ]
    },
    {
     "name": "stdout",
     "output_type": "stream",
     "text": [
      "\r",
      "Epoch 85/500:  17%|█▋        | 85/500 [00:38<03:04,  2.25it/s, v_num=1, train_loss_step=1.87e+4, train_loss_epoch=1.85e+4]"
     ]
    },
    {
     "name": "stdout",
     "output_type": "stream",
     "text": [
      "\r",
      "Epoch 86/500:  17%|█▋        | 85/500 [00:38<03:04,  2.25it/s, v_num=1, train_loss_step=1.87e+4, train_loss_epoch=1.85e+4]"
     ]
    },
    {
     "name": "stdout",
     "output_type": "stream",
     "text": [
      "\r",
      "Epoch 86/500:  17%|█▋        | 86/500 [00:38<03:04,  2.25it/s, v_num=1, train_loss_step=1.87e+4, train_loss_epoch=1.85e+4]"
     ]
    },
    {
     "name": "stdout",
     "output_type": "stream",
     "text": [
      "\r",
      "Epoch 86/500:  17%|█▋        | 86/500 [00:38<03:04,  2.25it/s, v_num=1, train_loss_step=1.94e+4, train_loss_epoch=1.85e+4]"
     ]
    },
    {
     "name": "stdout",
     "output_type": "stream",
     "text": [
      "\r",
      "Epoch 87/500:  17%|█▋        | 86/500 [00:38<03:04,  2.25it/s, v_num=1, train_loss_step=1.94e+4, train_loss_epoch=1.85e+4]"
     ]
    },
    {
     "name": "stdout",
     "output_type": "stream",
     "text": [
      "\r",
      "Epoch 87/500:  17%|█▋        | 87/500 [00:39<03:03,  2.25it/s, v_num=1, train_loss_step=1.94e+4, train_loss_epoch=1.85e+4]"
     ]
    },
    {
     "name": "stdout",
     "output_type": "stream",
     "text": [
      "\r",
      "Epoch 87/500:  17%|█▋        | 87/500 [00:39<03:03,  2.25it/s, v_num=1, train_loss_step=1.84e+4, train_loss_epoch=1.85e+4]"
     ]
    },
    {
     "name": "stdout",
     "output_type": "stream",
     "text": [
      "\r",
      "Epoch 88/500:  17%|█▋        | 87/500 [00:39<03:03,  2.25it/s, v_num=1, train_loss_step=1.84e+4, train_loss_epoch=1.85e+4]"
     ]
    },
    {
     "name": "stdout",
     "output_type": "stream",
     "text": [
      "\r",
      "Epoch 88/500:  18%|█▊        | 88/500 [00:39<03:03,  2.25it/s, v_num=1, train_loss_step=1.84e+4, train_loss_epoch=1.85e+4]"
     ]
    },
    {
     "name": "stdout",
     "output_type": "stream",
     "text": [
      "\r",
      "Epoch 88/500:  18%|█▊        | 88/500 [00:39<03:03,  2.25it/s, v_num=1, train_loss_step=1.79e+4, train_loss_epoch=1.85e+4]"
     ]
    },
    {
     "name": "stdout",
     "output_type": "stream",
     "text": [
      "\r",
      "Epoch 89/500:  18%|█▊        | 88/500 [00:39<03:03,  2.25it/s, v_num=1, train_loss_step=1.79e+4, train_loss_epoch=1.85e+4]"
     ]
    },
    {
     "name": "stdout",
     "output_type": "stream",
     "text": [
      "\r",
      "Epoch 89/500:  18%|█▊        | 89/500 [00:40<03:02,  2.25it/s, v_num=1, train_loss_step=1.79e+4, train_loss_epoch=1.85e+4]"
     ]
    },
    {
     "name": "stdout",
     "output_type": "stream",
     "text": [
      "\r",
      "Epoch 89/500:  18%|█▊        | 89/500 [00:40<03:02,  2.25it/s, v_num=1, train_loss_step=2.02e+4, train_loss_epoch=1.85e+4]"
     ]
    },
    {
     "name": "stdout",
     "output_type": "stream",
     "text": [
      "\r",
      "Epoch 90/500:  18%|█▊        | 89/500 [00:40<03:02,  2.25it/s, v_num=1, train_loss_step=2.02e+4, train_loss_epoch=1.85e+4]"
     ]
    },
    {
     "name": "stdout",
     "output_type": "stream",
     "text": [
      "\r",
      "Epoch 90/500:  18%|█▊        | 90/500 [00:40<03:02,  2.25it/s, v_num=1, train_loss_step=2.02e+4, train_loss_epoch=1.85e+4]"
     ]
    },
    {
     "name": "stdout",
     "output_type": "stream",
     "text": [
      "\r",
      "Epoch 90/500:  18%|█▊        | 90/500 [00:40<03:02,  2.25it/s, v_num=1, train_loss_step=2e+4, train_loss_epoch=1.85e+4]   "
     ]
    },
    {
     "name": "stdout",
     "output_type": "stream",
     "text": [
      "\r",
      "Epoch 91/500:  18%|█▊        | 90/500 [00:40<03:02,  2.25it/s, v_num=1, train_loss_step=2e+4, train_loss_epoch=1.85e+4]"
     ]
    },
    {
     "name": "stdout",
     "output_type": "stream",
     "text": [
      "\r",
      "Epoch 91/500:  18%|█▊        | 91/500 [00:41<03:01,  2.25it/s, v_num=1, train_loss_step=2e+4, train_loss_epoch=1.85e+4]"
     ]
    },
    {
     "name": "stdout",
     "output_type": "stream",
     "text": [
      "\r",
      "Epoch 91/500:  18%|█▊        | 91/500 [00:41<03:01,  2.25it/s, v_num=1, train_loss_step=1.92e+4, train_loss_epoch=1.85e+4]"
     ]
    },
    {
     "name": "stdout",
     "output_type": "stream",
     "text": [
      "\r",
      "Epoch 92/500:  18%|█▊        | 91/500 [00:41<03:01,  2.25it/s, v_num=1, train_loss_step=1.92e+4, train_loss_epoch=1.85e+4]"
     ]
    },
    {
     "name": "stdout",
     "output_type": "stream",
     "text": [
      "\r",
      "Epoch 92/500:  18%|█▊        | 92/500 [00:41<03:01,  2.25it/s, v_num=1, train_loss_step=1.92e+4, train_loss_epoch=1.85e+4]"
     ]
    },
    {
     "name": "stdout",
     "output_type": "stream",
     "text": [
      "\r",
      "Epoch 92/500:  18%|█▊        | 92/500 [00:41<03:01,  2.25it/s, v_num=1, train_loss_step=1.83e+4, train_loss_epoch=1.85e+4]"
     ]
    },
    {
     "name": "stdout",
     "output_type": "stream",
     "text": [
      "\r",
      "Epoch 93/500:  18%|█▊        | 92/500 [00:41<03:01,  2.25it/s, v_num=1, train_loss_step=1.83e+4, train_loss_epoch=1.85e+4]"
     ]
    },
    {
     "name": "stdout",
     "output_type": "stream",
     "text": [
      "\r",
      "Epoch 93/500:  19%|█▊        | 93/500 [00:41<03:01,  2.25it/s, v_num=1, train_loss_step=1.83e+4, train_loss_epoch=1.85e+4]"
     ]
    },
    {
     "name": "stdout",
     "output_type": "stream",
     "text": [
      "\r",
      "Epoch 93/500:  19%|█▊        | 93/500 [00:41<03:01,  2.25it/s, v_num=1, train_loss_step=1.69e+4, train_loss_epoch=1.85e+4]"
     ]
    },
    {
     "name": "stdout",
     "output_type": "stream",
     "text": [
      "\r",
      "Epoch 94/500:  19%|█▊        | 93/500 [00:41<03:01,  2.25it/s, v_num=1, train_loss_step=1.69e+4, train_loss_epoch=1.85e+4]"
     ]
    },
    {
     "name": "stdout",
     "output_type": "stream",
     "text": [
      "\r",
      "Epoch 94/500:  19%|█▉        | 94/500 [00:42<03:00,  2.25it/s, v_num=1, train_loss_step=1.69e+4, train_loss_epoch=1.85e+4]"
     ]
    },
    {
     "name": "stdout",
     "output_type": "stream",
     "text": [
      "\r",
      "Epoch 94/500:  19%|█▉        | 94/500 [00:42<03:00,  2.25it/s, v_num=1, train_loss_step=1.89e+4, train_loss_epoch=1.85e+4]"
     ]
    },
    {
     "name": "stdout",
     "output_type": "stream",
     "text": [
      "\r",
      "Epoch 95/500:  19%|█▉        | 94/500 [00:42<03:00,  2.25it/s, v_num=1, train_loss_step=1.89e+4, train_loss_epoch=1.85e+4]"
     ]
    },
    {
     "name": "stdout",
     "output_type": "stream",
     "text": [
      "\r",
      "Epoch 95/500:  19%|█▉        | 95/500 [00:42<03:00,  2.25it/s, v_num=1, train_loss_step=1.89e+4, train_loss_epoch=1.85e+4]"
     ]
    },
    {
     "name": "stdout",
     "output_type": "stream",
     "text": [
      "\r",
      "Epoch 95/500:  19%|█▉        | 95/500 [00:42<03:00,  2.25it/s, v_num=1, train_loss_step=1.84e+4, train_loss_epoch=1.85e+4]"
     ]
    },
    {
     "name": "stdout",
     "output_type": "stream",
     "text": [
      "\r",
      "Epoch 96/500:  19%|█▉        | 95/500 [00:42<03:00,  2.25it/s, v_num=1, train_loss_step=1.84e+4, train_loss_epoch=1.85e+4]"
     ]
    },
    {
     "name": "stdout",
     "output_type": "stream",
     "text": [
      "\r",
      "Epoch 96/500:  19%|█▉        | 96/500 [00:43<02:59,  2.25it/s, v_num=1, train_loss_step=1.84e+4, train_loss_epoch=1.85e+4]"
     ]
    },
    {
     "name": "stdout",
     "output_type": "stream",
     "text": [
      "\r",
      "Epoch 96/500:  19%|█▉        | 96/500 [00:43<02:59,  2.25it/s, v_num=1, train_loss_step=1.9e+4, train_loss_epoch=1.85e+4] "
     ]
    },
    {
     "name": "stdout",
     "output_type": "stream",
     "text": [
      "\r",
      "Epoch 97/500:  19%|█▉        | 96/500 [00:43<02:59,  2.25it/s, v_num=1, train_loss_step=1.9e+4, train_loss_epoch=1.85e+4]"
     ]
    },
    {
     "name": "stdout",
     "output_type": "stream",
     "text": [
      "\r",
      "Epoch 97/500:  19%|█▉        | 97/500 [00:43<02:59,  2.25it/s, v_num=1, train_loss_step=1.9e+4, train_loss_epoch=1.85e+4]"
     ]
    },
    {
     "name": "stdout",
     "output_type": "stream",
     "text": [
      "\r",
      "Epoch 97/500:  19%|█▉        | 97/500 [00:43<02:59,  2.25it/s, v_num=1, train_loss_step=1.79e+4, train_loss_epoch=1.85e+4]"
     ]
    },
    {
     "name": "stdout",
     "output_type": "stream",
     "text": [
      "\r",
      "Epoch 98/500:  19%|█▉        | 97/500 [00:43<02:59,  2.25it/s, v_num=1, train_loss_step=1.79e+4, train_loss_epoch=1.85e+4]"
     ]
    },
    {
     "name": "stdout",
     "output_type": "stream",
     "text": [
      "\r",
      "Epoch 98/500:  20%|█▉        | 98/500 [00:44<02:58,  2.25it/s, v_num=1, train_loss_step=1.79e+4, train_loss_epoch=1.85e+4]"
     ]
    },
    {
     "name": "stdout",
     "output_type": "stream",
     "text": [
      "\r",
      "Epoch 98/500:  20%|█▉        | 98/500 [00:44<02:58,  2.25it/s, v_num=1, train_loss_step=1.7e+4, train_loss_epoch=1.85e+4] "
     ]
    },
    {
     "name": "stdout",
     "output_type": "stream",
     "text": [
      "\r",
      "Epoch 99/500:  20%|█▉        | 98/500 [00:44<02:58,  2.25it/s, v_num=1, train_loss_step=1.7e+4, train_loss_epoch=1.85e+4]"
     ]
    },
    {
     "name": "stdout",
     "output_type": "stream",
     "text": [
      "\r",
      "Epoch 99/500:  20%|█▉        | 99/500 [00:44<02:58,  2.25it/s, v_num=1, train_loss_step=1.7e+4, train_loss_epoch=1.85e+4]"
     ]
    },
    {
     "name": "stdout",
     "output_type": "stream",
     "text": [
      "\r",
      "Epoch 99/500:  20%|█▉        | 99/500 [00:44<02:58,  2.25it/s, v_num=1, train_loss_step=1.85e+4, train_loss_epoch=1.85e+4]"
     ]
    },
    {
     "name": "stdout",
     "output_type": "stream",
     "text": [
      "\r",
      "Epoch 100/500:  20%|█▉        | 99/500 [00:44<02:58,  2.25it/s, v_num=1, train_loss_step=1.85e+4, train_loss_epoch=1.85e+4]"
     ]
    },
    {
     "name": "stdout",
     "output_type": "stream",
     "text": [
      "\r",
      "Epoch 100/500:  20%|██        | 100/500 [00:45<02:58,  2.25it/s, v_num=1, train_loss_step=1.85e+4, train_loss_epoch=1.85e+4]"
     ]
    },
    {
     "name": "stdout",
     "output_type": "stream",
     "text": [
      "\r",
      "Epoch 100/500:  20%|██        | 100/500 [00:45<02:58,  2.25it/s, v_num=1, train_loss_step=1.84e+4, train_loss_epoch=1.85e+4]"
     ]
    },
    {
     "name": "stdout",
     "output_type": "stream",
     "text": [
      "\r",
      "Epoch 101/500:  20%|██        | 100/500 [00:45<02:58,  2.25it/s, v_num=1, train_loss_step=1.84e+4, train_loss_epoch=1.85e+4]"
     ]
    },
    {
     "name": "stdout",
     "output_type": "stream",
     "text": [
      "\r",
      "Epoch 101/500:  20%|██        | 101/500 [00:45<02:57,  2.25it/s, v_num=1, train_loss_step=1.84e+4, train_loss_epoch=1.85e+4]"
     ]
    },
    {
     "name": "stdout",
     "output_type": "stream",
     "text": [
      "\r",
      "Epoch 101/500:  20%|██        | 101/500 [00:45<02:57,  2.25it/s, v_num=1, train_loss_step=1.84e+4, train_loss_epoch=1.85e+4]"
     ]
    },
    {
     "name": "stdout",
     "output_type": "stream",
     "text": [
      "\r",
      "Epoch 102/500:  20%|██        | 101/500 [00:45<02:57,  2.25it/s, v_num=1, train_loss_step=1.84e+4, train_loss_epoch=1.85e+4]"
     ]
    },
    {
     "name": "stdout",
     "output_type": "stream",
     "text": [
      "\r",
      "Epoch 102/500:  20%|██        | 102/500 [00:45<02:56,  2.25it/s, v_num=1, train_loss_step=1.84e+4, train_loss_epoch=1.85e+4]"
     ]
    },
    {
     "name": "stdout",
     "output_type": "stream",
     "text": [
      "\r",
      "Epoch 102/500:  20%|██        | 102/500 [00:45<02:56,  2.25it/s, v_num=1, train_loss_step=1.91e+4, train_loss_epoch=1.85e+4]"
     ]
    },
    {
     "name": "stdout",
     "output_type": "stream",
     "text": [
      "\r",
      "Epoch 103/500:  20%|██        | 102/500 [00:45<02:56,  2.25it/s, v_num=1, train_loss_step=1.91e+4, train_loss_epoch=1.85e+4]"
     ]
    },
    {
     "name": "stdout",
     "output_type": "stream",
     "text": [
      "\r",
      "Epoch 103/500:  21%|██        | 103/500 [00:46<02:56,  2.25it/s, v_num=1, train_loss_step=1.91e+4, train_loss_epoch=1.85e+4]"
     ]
    },
    {
     "name": "stdout",
     "output_type": "stream",
     "text": [
      "\r",
      "Epoch 103/500:  21%|██        | 103/500 [00:46<02:56,  2.25it/s, v_num=1, train_loss_step=1.72e+4, train_loss_epoch=1.85e+4]"
     ]
    },
    {
     "name": "stdout",
     "output_type": "stream",
     "text": [
      "\r",
      "Epoch 104/500:  21%|██        | 103/500 [00:46<02:56,  2.25it/s, v_num=1, train_loss_step=1.72e+4, train_loss_epoch=1.85e+4]"
     ]
    },
    {
     "name": "stdout",
     "output_type": "stream",
     "text": [
      "\r",
      "Epoch 104/500:  21%|██        | 104/500 [00:46<02:56,  2.25it/s, v_num=1, train_loss_step=1.72e+4, train_loss_epoch=1.85e+4]"
     ]
    },
    {
     "name": "stdout",
     "output_type": "stream",
     "text": [
      "\r",
      "Epoch 104/500:  21%|██        | 104/500 [00:46<02:56,  2.25it/s, v_num=1, train_loss_step=1.86e+4, train_loss_epoch=1.85e+4]"
     ]
    },
    {
     "name": "stdout",
     "output_type": "stream",
     "text": [
      "\r",
      "Epoch 105/500:  21%|██        | 104/500 [00:46<02:56,  2.25it/s, v_num=1, train_loss_step=1.86e+4, train_loss_epoch=1.85e+4]"
     ]
    },
    {
     "name": "stdout",
     "output_type": "stream",
     "text": [
      "\r",
      "Epoch 105/500:  21%|██        | 105/500 [00:47<02:55,  2.25it/s, v_num=1, train_loss_step=1.86e+4, train_loss_epoch=1.85e+4]"
     ]
    },
    {
     "name": "stdout",
     "output_type": "stream",
     "text": [
      "\r",
      "Epoch 105/500:  21%|██        | 105/500 [00:47<02:55,  2.25it/s, v_num=1, train_loss_step=1.79e+4, train_loss_epoch=1.85e+4]"
     ]
    },
    {
     "name": "stdout",
     "output_type": "stream",
     "text": [
      "\r",
      "Epoch 106/500:  21%|██        | 105/500 [00:47<02:55,  2.25it/s, v_num=1, train_loss_step=1.79e+4, train_loss_epoch=1.85e+4]"
     ]
    },
    {
     "name": "stdout",
     "output_type": "stream",
     "text": [
      "\r",
      "Epoch 106/500:  21%|██        | 106/500 [00:47<02:55,  2.25it/s, v_num=1, train_loss_step=1.79e+4, train_loss_epoch=1.85e+4]"
     ]
    },
    {
     "name": "stdout",
     "output_type": "stream",
     "text": [
      "\r",
      "Epoch 106/500:  21%|██        | 106/500 [00:47<02:55,  2.25it/s, v_num=1, train_loss_step=1.93e+4, train_loss_epoch=1.85e+4]"
     ]
    },
    {
     "name": "stdout",
     "output_type": "stream",
     "text": [
      "\r",
      "Epoch 107/500:  21%|██        | 106/500 [00:47<02:55,  2.25it/s, v_num=1, train_loss_step=1.93e+4, train_loss_epoch=1.85e+4]"
     ]
    },
    {
     "name": "stdout",
     "output_type": "stream",
     "text": [
      "\r",
      "Epoch 107/500:  21%|██▏       | 107/500 [00:48<02:54,  2.25it/s, v_num=1, train_loss_step=1.93e+4, train_loss_epoch=1.85e+4]"
     ]
    },
    {
     "name": "stdout",
     "output_type": "stream",
     "text": [
      "\r",
      "Epoch 107/500:  21%|██▏       | 107/500 [00:48<02:54,  2.25it/s, v_num=1, train_loss_step=1.88e+4, train_loss_epoch=1.85e+4]"
     ]
    },
    {
     "name": "stdout",
     "output_type": "stream",
     "text": [
      "\r",
      "Epoch 108/500:  21%|██▏       | 107/500 [00:48<02:54,  2.25it/s, v_num=1, train_loss_step=1.88e+4, train_loss_epoch=1.85e+4]"
     ]
    },
    {
     "name": "stdout",
     "output_type": "stream",
     "text": [
      "\r",
      "Epoch 108/500:  22%|██▏       | 108/500 [00:48<02:54,  2.25it/s, v_num=1, train_loss_step=1.88e+4, train_loss_epoch=1.85e+4]"
     ]
    },
    {
     "name": "stdout",
     "output_type": "stream",
     "text": [
      "\r",
      "Epoch 108/500:  22%|██▏       | 108/500 [00:48<02:54,  2.25it/s, v_num=1, train_loss_step=1.87e+4, train_loss_epoch=1.85e+4]"
     ]
    },
    {
     "name": "stdout",
     "output_type": "stream",
     "text": [
      "\r",
      "Epoch 109/500:  22%|██▏       | 108/500 [00:48<02:54,  2.25it/s, v_num=1, train_loss_step=1.87e+4, train_loss_epoch=1.85e+4]"
     ]
    },
    {
     "name": "stdout",
     "output_type": "stream",
     "text": [
      "\r",
      "Epoch 109/500:  22%|██▏       | 109/500 [00:49<02:53,  2.25it/s, v_num=1, train_loss_step=1.87e+4, train_loss_epoch=1.85e+4]"
     ]
    },
    {
     "name": "stdout",
     "output_type": "stream",
     "text": [
      "\r",
      "Epoch 109/500:  22%|██▏       | 109/500 [00:49<02:53,  2.25it/s, v_num=1, train_loss_step=1.81e+4, train_loss_epoch=1.85e+4]"
     ]
    },
    {
     "name": "stdout",
     "output_type": "stream",
     "text": [
      "\r",
      "Epoch 110/500:  22%|██▏       | 109/500 [00:49<02:53,  2.25it/s, v_num=1, train_loss_step=1.81e+4, train_loss_epoch=1.85e+4]"
     ]
    },
    {
     "name": "stdout",
     "output_type": "stream",
     "text": [
      "\r",
      "Epoch 110/500:  22%|██▏       | 110/500 [00:49<02:53,  2.25it/s, v_num=1, train_loss_step=1.81e+4, train_loss_epoch=1.85e+4]"
     ]
    },
    {
     "name": "stdout",
     "output_type": "stream",
     "text": [
      "\r",
      "Epoch 110/500:  22%|██▏       | 110/500 [00:49<02:53,  2.25it/s, v_num=1, train_loss_step=1.68e+4, train_loss_epoch=1.85e+4]"
     ]
    },
    {
     "name": "stdout",
     "output_type": "stream",
     "text": [
      "\r",
      "Epoch 111/500:  22%|██▏       | 110/500 [00:49<02:53,  2.25it/s, v_num=1, train_loss_step=1.68e+4, train_loss_epoch=1.85e+4]"
     ]
    },
    {
     "name": "stdout",
     "output_type": "stream",
     "text": [
      "\r",
      "Epoch 111/500:  22%|██▏       | 111/500 [00:49<02:53,  2.25it/s, v_num=1, train_loss_step=1.68e+4, train_loss_epoch=1.85e+4]"
     ]
    },
    {
     "name": "stdout",
     "output_type": "stream",
     "text": [
      "\r",
      "Epoch 111/500:  22%|██▏       | 111/500 [00:49<02:53,  2.25it/s, v_num=1, train_loss_step=1.77e+4, train_loss_epoch=1.85e+4]"
     ]
    },
    {
     "name": "stdout",
     "output_type": "stream",
     "text": [
      "\r",
      "Epoch 112/500:  22%|██▏       | 111/500 [00:49<02:53,  2.25it/s, v_num=1, train_loss_step=1.77e+4, train_loss_epoch=1.85e+4]"
     ]
    },
    {
     "name": "stdout",
     "output_type": "stream",
     "text": [
      "\r",
      "Epoch 112/500:  22%|██▏       | 112/500 [00:50<02:52,  2.25it/s, v_num=1, train_loss_step=1.77e+4, train_loss_epoch=1.85e+4]"
     ]
    },
    {
     "name": "stdout",
     "output_type": "stream",
     "text": [
      "\r",
      "Epoch 112/500:  22%|██▏       | 112/500 [00:50<02:52,  2.25it/s, v_num=1, train_loss_step=1.77e+4, train_loss_epoch=1.85e+4]"
     ]
    },
    {
     "name": "stdout",
     "output_type": "stream",
     "text": [
      "\r",
      "Epoch 113/500:  22%|██▏       | 112/500 [00:50<02:52,  2.25it/s, v_num=1, train_loss_step=1.77e+4, train_loss_epoch=1.85e+4]"
     ]
    },
    {
     "name": "stdout",
     "output_type": "stream",
     "text": [
      "\r",
      "Epoch 113/500:  23%|██▎       | 113/500 [00:50<02:52,  2.25it/s, v_num=1, train_loss_step=1.77e+4, train_loss_epoch=1.85e+4]"
     ]
    },
    {
     "name": "stdout",
     "output_type": "stream",
     "text": [
      "\r",
      "Epoch 113/500:  23%|██▎       | 113/500 [00:50<02:52,  2.25it/s, v_num=1, train_loss_step=1.71e+4, train_loss_epoch=1.85e+4]"
     ]
    },
    {
     "name": "stdout",
     "output_type": "stream",
     "text": [
      "\r",
      "Epoch 114/500:  23%|██▎       | 113/500 [00:50<02:52,  2.25it/s, v_num=1, train_loss_step=1.71e+4, train_loss_epoch=1.85e+4]"
     ]
    },
    {
     "name": "stdout",
     "output_type": "stream",
     "text": [
      "\r",
      "Epoch 114/500:  23%|██▎       | 114/500 [00:51<02:51,  2.25it/s, v_num=1, train_loss_step=1.71e+4, train_loss_epoch=1.85e+4]"
     ]
    },
    {
     "name": "stdout",
     "output_type": "stream",
     "text": [
      "\r",
      "Epoch 114/500:  23%|██▎       | 114/500 [00:51<02:51,  2.25it/s, v_num=1, train_loss_step=1.99e+4, train_loss_epoch=1.85e+4]"
     ]
    },
    {
     "name": "stdout",
     "output_type": "stream",
     "text": [
      "\r",
      "Epoch 115/500:  23%|██▎       | 114/500 [00:51<02:51,  2.25it/s, v_num=1, train_loss_step=1.99e+4, train_loss_epoch=1.85e+4]"
     ]
    },
    {
     "name": "stdout",
     "output_type": "stream",
     "text": [
      "\r",
      "Epoch 115/500:  23%|██▎       | 115/500 [00:51<02:51,  2.25it/s, v_num=1, train_loss_step=1.99e+4, train_loss_epoch=1.85e+4]"
     ]
    },
    {
     "name": "stdout",
     "output_type": "stream",
     "text": [
      "\r",
      "Epoch 115/500:  23%|██▎       | 115/500 [00:51<02:51,  2.25it/s, v_num=1, train_loss_step=1.84e+4, train_loss_epoch=1.85e+4]"
     ]
    },
    {
     "name": "stdout",
     "output_type": "stream",
     "text": [
      "\r",
      "Epoch 116/500:  23%|██▎       | 115/500 [00:51<02:51,  2.25it/s, v_num=1, train_loss_step=1.84e+4, train_loss_epoch=1.85e+4]"
     ]
    },
    {
     "name": "stdout",
     "output_type": "stream",
     "text": [
      "\r",
      "Epoch 116/500:  23%|██▎       | 116/500 [00:52<02:50,  2.25it/s, v_num=1, train_loss_step=1.84e+4, train_loss_epoch=1.85e+4]"
     ]
    },
    {
     "name": "stdout",
     "output_type": "stream",
     "text": [
      "\r",
      "Epoch 116/500:  23%|██▎       | 116/500 [00:52<02:50,  2.25it/s, v_num=1, train_loss_step=1.84e+4, train_loss_epoch=1.85e+4]"
     ]
    },
    {
     "name": "stdout",
     "output_type": "stream",
     "text": [
      "\r",
      "Epoch 117/500:  23%|██▎       | 116/500 [00:52<02:50,  2.25it/s, v_num=1, train_loss_step=1.84e+4, train_loss_epoch=1.85e+4]"
     ]
    },
    {
     "name": "stdout",
     "output_type": "stream",
     "text": [
      "\r",
      "Epoch 117/500:  23%|██▎       | 117/500 [00:52<02:50,  2.25it/s, v_num=1, train_loss_step=1.84e+4, train_loss_epoch=1.85e+4]"
     ]
    },
    {
     "name": "stdout",
     "output_type": "stream",
     "text": [
      "\r",
      "Epoch 117/500:  23%|██▎       | 117/500 [00:52<02:50,  2.25it/s, v_num=1, train_loss_step=1.66e+4, train_loss_epoch=1.85e+4]"
     ]
    },
    {
     "name": "stdout",
     "output_type": "stream",
     "text": [
      "\r",
      "Epoch 118/500:  23%|██▎       | 117/500 [00:52<02:50,  2.25it/s, v_num=1, train_loss_step=1.66e+4, train_loss_epoch=1.85e+4]"
     ]
    },
    {
     "name": "stdout",
     "output_type": "stream",
     "text": [
      "\r",
      "Epoch 118/500:  24%|██▎       | 118/500 [00:53<02:50,  2.24it/s, v_num=1, train_loss_step=1.66e+4, train_loss_epoch=1.85e+4]"
     ]
    },
    {
     "name": "stdout",
     "output_type": "stream",
     "text": [
      "\r",
      "Epoch 118/500:  24%|██▎       | 118/500 [00:53<02:50,  2.24it/s, v_num=1, train_loss_step=1.86e+4, train_loss_epoch=1.85e+4]"
     ]
    },
    {
     "name": "stdout",
     "output_type": "stream",
     "text": [
      "\r",
      "Epoch 119/500:  24%|██▎       | 118/500 [00:53<02:50,  2.24it/s, v_num=1, train_loss_step=1.86e+4, train_loss_epoch=1.85e+4]"
     ]
    },
    {
     "name": "stdout",
     "output_type": "stream",
     "text": [
      "\r",
      "Epoch 119/500:  24%|██▍       | 119/500 [00:53<02:49,  2.25it/s, v_num=1, train_loss_step=1.86e+4, train_loss_epoch=1.85e+4]"
     ]
    },
    {
     "name": "stdout",
     "output_type": "stream",
     "text": [
      "\r",
      "Epoch 119/500:  24%|██▍       | 119/500 [00:53<02:49,  2.25it/s, v_num=1, train_loss_step=1.85e+4, train_loss_epoch=1.85e+4]"
     ]
    },
    {
     "name": "stdout",
     "output_type": "stream",
     "text": [
      "\r",
      "Epoch 120/500:  24%|██▍       | 119/500 [00:53<02:49,  2.25it/s, v_num=1, train_loss_step=1.85e+4, train_loss_epoch=1.85e+4]"
     ]
    },
    {
     "name": "stdout",
     "output_type": "stream",
     "text": [
      "\r",
      "Epoch 120/500:  24%|██▍       | 120/500 [00:53<02:49,  2.25it/s, v_num=1, train_loss_step=1.85e+4, train_loss_epoch=1.85e+4]"
     ]
    },
    {
     "name": "stdout",
     "output_type": "stream",
     "text": [
      "\r",
      "Epoch 120/500:  24%|██▍       | 120/500 [00:53<02:49,  2.25it/s, v_num=1, train_loss_step=1.69e+4, train_loss_epoch=1.85e+4]"
     ]
    },
    {
     "name": "stdout",
     "output_type": "stream",
     "text": [
      "\r",
      "Epoch 121/500:  24%|██▍       | 120/500 [00:53<02:49,  2.25it/s, v_num=1, train_loss_step=1.69e+4, train_loss_epoch=1.85e+4]"
     ]
    },
    {
     "name": "stdout",
     "output_type": "stream",
     "text": [
      "\r",
      "Epoch 121/500:  24%|██▍       | 121/500 [00:54<02:48,  2.25it/s, v_num=1, train_loss_step=1.69e+4, train_loss_epoch=1.85e+4]"
     ]
    },
    {
     "name": "stdout",
     "output_type": "stream",
     "text": [
      "\r",
      "Epoch 121/500:  24%|██▍       | 121/500 [00:54<02:48,  2.25it/s, v_num=1, train_loss_step=1.9e+4, train_loss_epoch=1.85e+4] "
     ]
    },
    {
     "name": "stdout",
     "output_type": "stream",
     "text": [
      "\r",
      "Epoch 122/500:  24%|██▍       | 121/500 [00:54<02:48,  2.25it/s, v_num=1, train_loss_step=1.9e+4, train_loss_epoch=1.85e+4]"
     ]
    },
    {
     "name": "stdout",
     "output_type": "stream",
     "text": [
      "\r",
      "Epoch 122/500:  24%|██▍       | 122/500 [00:54<02:48,  2.25it/s, v_num=1, train_loss_step=1.9e+4, train_loss_epoch=1.85e+4]"
     ]
    },
    {
     "name": "stdout",
     "output_type": "stream",
     "text": [
      "\r",
      "Epoch 122/500:  24%|██▍       | 122/500 [00:54<02:48,  2.25it/s, v_num=1, train_loss_step=1.96e+4, train_loss_epoch=1.85e+4]"
     ]
    },
    {
     "name": "stdout",
     "output_type": "stream",
     "text": [
      "\r",
      "Epoch 123/500:  24%|██▍       | 122/500 [00:54<02:48,  2.25it/s, v_num=1, train_loss_step=1.96e+4, train_loss_epoch=1.85e+4]"
     ]
    },
    {
     "name": "stdout",
     "output_type": "stream",
     "text": [
      "\r",
      "Epoch 123/500:  25%|██▍       | 123/500 [00:55<02:47,  2.25it/s, v_num=1, train_loss_step=1.96e+4, train_loss_epoch=1.85e+4]"
     ]
    },
    {
     "name": "stdout",
     "output_type": "stream",
     "text": [
      "\r",
      "Epoch 123/500:  25%|██▍       | 123/500 [00:55<02:47,  2.25it/s, v_num=1, train_loss_step=1.96e+4, train_loss_epoch=1.85e+4]"
     ]
    },
    {
     "name": "stdout",
     "output_type": "stream",
     "text": [
      "\r",
      "Epoch 124/500:  25%|██▍       | 123/500 [00:55<02:47,  2.25it/s, v_num=1, train_loss_step=1.96e+4, train_loss_epoch=1.85e+4]"
     ]
    },
    {
     "name": "stdout",
     "output_type": "stream",
     "text": [
      "\r",
      "Epoch 124/500:  25%|██▍       | 124/500 [00:55<02:47,  2.25it/s, v_num=1, train_loss_step=1.96e+4, train_loss_epoch=1.85e+4]"
     ]
    },
    {
     "name": "stdout",
     "output_type": "stream",
     "text": [
      "\r",
      "Epoch 124/500:  25%|██▍       | 124/500 [00:55<02:47,  2.25it/s, v_num=1, train_loss_step=1.81e+4, train_loss_epoch=1.85e+4]"
     ]
    },
    {
     "name": "stdout",
     "output_type": "stream",
     "text": [
      "\r",
      "Epoch 125/500:  25%|██▍       | 124/500 [00:55<02:47,  2.25it/s, v_num=1, train_loss_step=1.81e+4, train_loss_epoch=1.85e+4]"
     ]
    },
    {
     "name": "stdout",
     "output_type": "stream",
     "text": [
      "\r",
      "Epoch 125/500:  25%|██▌       | 125/500 [00:56<02:46,  2.25it/s, v_num=1, train_loss_step=1.81e+4, train_loss_epoch=1.85e+4]"
     ]
    },
    {
     "name": "stdout",
     "output_type": "stream",
     "text": [
      "\r",
      "Epoch 125/500:  25%|██▌       | 125/500 [00:56<02:46,  2.25it/s, v_num=1, train_loss_step=1.92e+4, train_loss_epoch=1.85e+4]"
     ]
    },
    {
     "name": "stdout",
     "output_type": "stream",
     "text": [
      "\r",
      "Epoch 126/500:  25%|██▌       | 125/500 [00:56<02:46,  2.25it/s, v_num=1, train_loss_step=1.92e+4, train_loss_epoch=1.85e+4]"
     ]
    },
    {
     "name": "stdout",
     "output_type": "stream",
     "text": [
      "\r",
      "Epoch 126/500:  25%|██▌       | 126/500 [00:56<02:46,  2.25it/s, v_num=1, train_loss_step=1.92e+4, train_loss_epoch=1.85e+4]"
     ]
    },
    {
     "name": "stdout",
     "output_type": "stream",
     "text": [
      "\r",
      "Epoch 126/500:  25%|██▌       | 126/500 [00:56<02:46,  2.25it/s, v_num=1, train_loss_step=1.93e+4, train_loss_epoch=1.85e+4]"
     ]
    },
    {
     "name": "stdout",
     "output_type": "stream",
     "text": [
      "\r",
      "Epoch 127/500:  25%|██▌       | 126/500 [00:56<02:46,  2.25it/s, v_num=1, train_loss_step=1.93e+4, train_loss_epoch=1.85e+4]"
     ]
    },
    {
     "name": "stdout",
     "output_type": "stream",
     "text": [
      "\r",
      "Epoch 127/500:  25%|██▌       | 127/500 [00:57<02:46,  2.25it/s, v_num=1, train_loss_step=1.93e+4, train_loss_epoch=1.85e+4]"
     ]
    },
    {
     "name": "stdout",
     "output_type": "stream",
     "text": [
      "\r",
      "Epoch 127/500:  25%|██▌       | 127/500 [00:57<02:46,  2.25it/s, v_num=1, train_loss_step=1.74e+4, train_loss_epoch=1.85e+4]"
     ]
    },
    {
     "name": "stdout",
     "output_type": "stream",
     "text": [
      "\r",
      "Epoch 128/500:  25%|██▌       | 127/500 [00:57<02:46,  2.25it/s, v_num=1, train_loss_step=1.74e+4, train_loss_epoch=1.85e+4]"
     ]
    },
    {
     "name": "stdout",
     "output_type": "stream",
     "text": [
      "\r",
      "Epoch 128/500:  26%|██▌       | 128/500 [00:57<02:45,  2.25it/s, v_num=1, train_loss_step=1.74e+4, train_loss_epoch=1.85e+4]"
     ]
    },
    {
     "name": "stdout",
     "output_type": "stream",
     "text": [
      "\r",
      "Epoch 128/500:  26%|██▌       | 128/500 [00:57<02:45,  2.25it/s, v_num=1, train_loss_step=1.85e+4, train_loss_epoch=1.85e+4]"
     ]
    },
    {
     "name": "stdout",
     "output_type": "stream",
     "text": [
      "\r",
      "Epoch 129/500:  26%|██▌       | 128/500 [00:57<02:45,  2.25it/s, v_num=1, train_loss_step=1.85e+4, train_loss_epoch=1.85e+4]"
     ]
    },
    {
     "name": "stdout",
     "output_type": "stream",
     "text": [
      "\r",
      "Epoch 129/500:  26%|██▌       | 129/500 [00:57<02:45,  2.25it/s, v_num=1, train_loss_step=1.85e+4, train_loss_epoch=1.85e+4]"
     ]
    },
    {
     "name": "stdout",
     "output_type": "stream",
     "text": [
      "\r",
      "Epoch 129/500:  26%|██▌       | 129/500 [00:57<02:45,  2.25it/s, v_num=1, train_loss_step=1.93e+4, train_loss_epoch=1.85e+4]"
     ]
    },
    {
     "name": "stdout",
     "output_type": "stream",
     "text": [
      "\r",
      "Epoch 130/500:  26%|██▌       | 129/500 [00:57<02:45,  2.25it/s, v_num=1, train_loss_step=1.93e+4, train_loss_epoch=1.85e+4]"
     ]
    },
    {
     "name": "stdout",
     "output_type": "stream",
     "text": [
      "\r",
      "Epoch 130/500:  26%|██▌       | 130/500 [00:58<02:44,  2.25it/s, v_num=1, train_loss_step=1.93e+4, train_loss_epoch=1.85e+4]"
     ]
    },
    {
     "name": "stdout",
     "output_type": "stream",
     "text": [
      "\r",
      "Epoch 130/500:  26%|██▌       | 130/500 [00:58<02:44,  2.25it/s, v_num=1, train_loss_step=1.82e+4, train_loss_epoch=1.85e+4]"
     ]
    },
    {
     "name": "stdout",
     "output_type": "stream",
     "text": [
      "\r",
      "Epoch 131/500:  26%|██▌       | 130/500 [00:58<02:44,  2.25it/s, v_num=1, train_loss_step=1.82e+4, train_loss_epoch=1.85e+4]"
     ]
    },
    {
     "name": "stdout",
     "output_type": "stream",
     "text": [
      "\r",
      "Epoch 131/500:  26%|██▌       | 131/500 [00:58<02:44,  2.25it/s, v_num=1, train_loss_step=1.82e+4, train_loss_epoch=1.85e+4]"
     ]
    },
    {
     "name": "stdout",
     "output_type": "stream",
     "text": [
      "\r",
      "Epoch 131/500:  26%|██▌       | 131/500 [00:58<02:44,  2.25it/s, v_num=1, train_loss_step=1.81e+4, train_loss_epoch=1.85e+4]"
     ]
    },
    {
     "name": "stdout",
     "output_type": "stream",
     "text": [
      "\r",
      "Epoch 132/500:  26%|██▌       | 131/500 [00:58<02:44,  2.25it/s, v_num=1, train_loss_step=1.81e+4, train_loss_epoch=1.85e+4]"
     ]
    },
    {
     "name": "stdout",
     "output_type": "stream",
     "text": [
      "\r",
      "Epoch 132/500:  26%|██▋       | 132/500 [00:59<02:43,  2.25it/s, v_num=1, train_loss_step=1.81e+4, train_loss_epoch=1.85e+4]"
     ]
    },
    {
     "name": "stdout",
     "output_type": "stream",
     "text": [
      "\r",
      "Epoch 132/500:  26%|██▋       | 132/500 [00:59<02:43,  2.25it/s, v_num=1, train_loss_step=2.06e+4, train_loss_epoch=1.85e+4]"
     ]
    },
    {
     "name": "stdout",
     "output_type": "stream",
     "text": [
      "\r",
      "Epoch 133/500:  26%|██▋       | 132/500 [00:59<02:43,  2.25it/s, v_num=1, train_loss_step=2.06e+4, train_loss_epoch=1.85e+4]"
     ]
    },
    {
     "name": "stdout",
     "output_type": "stream",
     "text": [
      "\r",
      "Epoch 133/500:  27%|██▋       | 133/500 [00:59<02:43,  2.25it/s, v_num=1, train_loss_step=2.06e+4, train_loss_epoch=1.85e+4]"
     ]
    },
    {
     "name": "stdout",
     "output_type": "stream",
     "text": [
      "\r",
      "Epoch 133/500:  27%|██▋       | 133/500 [00:59<02:43,  2.25it/s, v_num=1, train_loss_step=1.88e+4, train_loss_epoch=1.85e+4]"
     ]
    },
    {
     "name": "stdout",
     "output_type": "stream",
     "text": [
      "\r",
      "Epoch 134/500:  27%|██▋       | 133/500 [00:59<02:43,  2.25it/s, v_num=1, train_loss_step=1.88e+4, train_loss_epoch=1.85e+4]"
     ]
    },
    {
     "name": "stdout",
     "output_type": "stream",
     "text": [
      "\r",
      "Epoch 134/500:  27%|██▋       | 134/500 [01:00<02:42,  2.25it/s, v_num=1, train_loss_step=1.88e+4, train_loss_epoch=1.85e+4]"
     ]
    },
    {
     "name": "stdout",
     "output_type": "stream",
     "text": [
      "\r",
      "Epoch 134/500:  27%|██▋       | 134/500 [01:00<02:42,  2.25it/s, v_num=1, train_loss_step=1.9e+4, train_loss_epoch=1.85e+4] "
     ]
    },
    {
     "name": "stdout",
     "output_type": "stream",
     "text": [
      "\r",
      "Epoch 135/500:  27%|██▋       | 134/500 [01:00<02:42,  2.25it/s, v_num=1, train_loss_step=1.9e+4, train_loss_epoch=1.85e+4]"
     ]
    },
    {
     "name": "stdout",
     "output_type": "stream",
     "text": [
      "\r",
      "Epoch 135/500:  27%|██▋       | 135/500 [01:00<02:42,  2.25it/s, v_num=1, train_loss_step=1.9e+4, train_loss_epoch=1.85e+4]"
     ]
    },
    {
     "name": "stdout",
     "output_type": "stream",
     "text": [
      "\r",
      "Epoch 135/500:  27%|██▋       | 135/500 [01:00<02:42,  2.25it/s, v_num=1, train_loss_step=1.91e+4, train_loss_epoch=1.85e+4]"
     ]
    },
    {
     "name": "stdout",
     "output_type": "stream",
     "text": [
      "\r",
      "Epoch 136/500:  27%|██▋       | 135/500 [01:00<02:42,  2.25it/s, v_num=1, train_loss_step=1.91e+4, train_loss_epoch=1.85e+4]"
     ]
    },
    {
     "name": "stdout",
     "output_type": "stream",
     "text": [
      "\r",
      "Epoch 136/500:  27%|██▋       | 136/500 [01:01<02:41,  2.25it/s, v_num=1, train_loss_step=1.91e+4, train_loss_epoch=1.85e+4]"
     ]
    },
    {
     "name": "stdout",
     "output_type": "stream",
     "text": [
      "\r",
      "Epoch 136/500:  27%|██▋       | 136/500 [01:01<02:41,  2.25it/s, v_num=1, train_loss_step=1.88e+4, train_loss_epoch=1.85e+4]"
     ]
    },
    {
     "name": "stdout",
     "output_type": "stream",
     "text": [
      "\r",
      "Epoch 137/500:  27%|██▋       | 136/500 [01:01<02:41,  2.25it/s, v_num=1, train_loss_step=1.88e+4, train_loss_epoch=1.85e+4]"
     ]
    },
    {
     "name": "stdout",
     "output_type": "stream",
     "text": [
      "\r",
      "Epoch 137/500:  27%|██▋       | 137/500 [01:01<02:41,  2.25it/s, v_num=1, train_loss_step=1.88e+4, train_loss_epoch=1.85e+4]"
     ]
    },
    {
     "name": "stdout",
     "output_type": "stream",
     "text": [
      "\r",
      "Epoch 137/500:  27%|██▋       | 137/500 [01:01<02:41,  2.25it/s, v_num=1, train_loss_step=1.9e+4, train_loss_epoch=1.85e+4] "
     ]
    },
    {
     "name": "stdout",
     "output_type": "stream",
     "text": [
      "\r",
      "Epoch 138/500:  27%|██▋       | 137/500 [01:01<02:41,  2.25it/s, v_num=1, train_loss_step=1.9e+4, train_loss_epoch=1.85e+4]"
     ]
    },
    {
     "name": "stdout",
     "output_type": "stream",
     "text": [
      "\r",
      "Epoch 138/500:  28%|██▊       | 138/500 [01:01<02:40,  2.25it/s, v_num=1, train_loss_step=1.9e+4, train_loss_epoch=1.85e+4]"
     ]
    },
    {
     "name": "stdout",
     "output_type": "stream",
     "text": [
      "\r",
      "Epoch 138/500:  28%|██▊       | 138/500 [01:01<02:40,  2.25it/s, v_num=1, train_loss_step=1.91e+4, train_loss_epoch=1.85e+4]"
     ]
    },
    {
     "name": "stdout",
     "output_type": "stream",
     "text": [
      "\r",
      "Epoch 139/500:  28%|██▊       | 138/500 [01:01<02:40,  2.25it/s, v_num=1, train_loss_step=1.91e+4, train_loss_epoch=1.85e+4]"
     ]
    },
    {
     "name": "stdout",
     "output_type": "stream",
     "text": [
      "\r",
      "Epoch 139/500:  28%|██▊       | 139/500 [01:02<02:40,  2.25it/s, v_num=1, train_loss_step=1.91e+4, train_loss_epoch=1.85e+4]"
     ]
    },
    {
     "name": "stdout",
     "output_type": "stream",
     "text": [
      "\r",
      "Epoch 139/500:  28%|██▊       | 139/500 [01:02<02:40,  2.25it/s, v_num=1, train_loss_step=1.84e+4, train_loss_epoch=1.85e+4]"
     ]
    },
    {
     "name": "stdout",
     "output_type": "stream",
     "text": [
      "\r",
      "Epoch 140/500:  28%|██▊       | 139/500 [01:02<02:40,  2.25it/s, v_num=1, train_loss_step=1.84e+4, train_loss_epoch=1.85e+4]"
     ]
    },
    {
     "name": "stdout",
     "output_type": "stream",
     "text": [
      "\r",
      "Epoch 140/500:  28%|██▊       | 140/500 [01:02<02:40,  2.25it/s, v_num=1, train_loss_step=1.84e+4, train_loss_epoch=1.85e+4]"
     ]
    },
    {
     "name": "stdout",
     "output_type": "stream",
     "text": [
      "\r",
      "Epoch 140/500:  28%|██▊       | 140/500 [01:02<02:40,  2.25it/s, v_num=1, train_loss_step=1.84e+4, train_loss_epoch=1.85e+4]"
     ]
    },
    {
     "name": "stdout",
     "output_type": "stream",
     "text": [
      "\r",
      "Epoch 141/500:  28%|██▊       | 140/500 [01:02<02:40,  2.25it/s, v_num=1, train_loss_step=1.84e+4, train_loss_epoch=1.85e+4]"
     ]
    },
    {
     "name": "stdout",
     "output_type": "stream",
     "text": [
      "\r",
      "Epoch 141/500:  28%|██▊       | 141/500 [01:03<02:39,  2.25it/s, v_num=1, train_loss_step=1.84e+4, train_loss_epoch=1.85e+4]"
     ]
    },
    {
     "name": "stdout",
     "output_type": "stream",
     "text": [
      "\r",
      "Epoch 141/500:  28%|██▊       | 141/500 [01:03<02:39,  2.25it/s, v_num=1, train_loss_step=1.76e+4, train_loss_epoch=1.85e+4]"
     ]
    },
    {
     "name": "stdout",
     "output_type": "stream",
     "text": [
      "\r",
      "Epoch 142/500:  28%|██▊       | 141/500 [01:03<02:39,  2.25it/s, v_num=1, train_loss_step=1.76e+4, train_loss_epoch=1.85e+4]"
     ]
    },
    {
     "name": "stdout",
     "output_type": "stream",
     "text": [
      "\r",
      "Epoch 142/500:  28%|██▊       | 142/500 [01:03<02:39,  2.25it/s, v_num=1, train_loss_step=1.76e+4, train_loss_epoch=1.85e+4]"
     ]
    },
    {
     "name": "stdout",
     "output_type": "stream",
     "text": [
      "\r",
      "Epoch 142/500:  28%|██▊       | 142/500 [01:03<02:39,  2.25it/s, v_num=1, train_loss_step=1.9e+4, train_loss_epoch=1.85e+4] "
     ]
    },
    {
     "name": "stdout",
     "output_type": "stream",
     "text": [
      "\r",
      "Epoch 143/500:  28%|██▊       | 142/500 [01:03<02:39,  2.25it/s, v_num=1, train_loss_step=1.9e+4, train_loss_epoch=1.85e+4]"
     ]
    },
    {
     "name": "stdout",
     "output_type": "stream",
     "text": [
      "\r",
      "Epoch 143/500:  29%|██▊       | 143/500 [01:04<02:38,  2.25it/s, v_num=1, train_loss_step=1.9e+4, train_loss_epoch=1.85e+4]"
     ]
    },
    {
     "name": "stdout",
     "output_type": "stream",
     "text": [
      "\r",
      "Epoch 143/500:  29%|██▊       | 143/500 [01:04<02:38,  2.25it/s, v_num=1, train_loss_step=1.87e+4, train_loss_epoch=1.85e+4]"
     ]
    },
    {
     "name": "stdout",
     "output_type": "stream",
     "text": [
      "\r",
      "Epoch 144/500:  29%|██▊       | 143/500 [01:04<02:38,  2.25it/s, v_num=1, train_loss_step=1.87e+4, train_loss_epoch=1.85e+4]"
     ]
    },
    {
     "name": "stdout",
     "output_type": "stream",
     "text": [
      "\r",
      "Epoch 144/500:  29%|██▉       | 144/500 [01:04<02:38,  2.25it/s, v_num=1, train_loss_step=1.87e+4, train_loss_epoch=1.85e+4]"
     ]
    },
    {
     "name": "stdout",
     "output_type": "stream",
     "text": [
      "\r",
      "Epoch 144/500:  29%|██▉       | 144/500 [01:04<02:38,  2.25it/s, v_num=1, train_loss_step=1.82e+4, train_loss_epoch=1.85e+4]"
     ]
    },
    {
     "name": "stdout",
     "output_type": "stream",
     "text": [
      "\r",
      "Epoch 145/500:  29%|██▉       | 144/500 [01:04<02:38,  2.25it/s, v_num=1, train_loss_step=1.82e+4, train_loss_epoch=1.85e+4]"
     ]
    },
    {
     "name": "stdout",
     "output_type": "stream",
     "text": [
      "\r",
      "Epoch 145/500:  29%|██▉       | 145/500 [01:05<02:37,  2.25it/s, v_num=1, train_loss_step=1.82e+4, train_loss_epoch=1.85e+4]"
     ]
    },
    {
     "name": "stdout",
     "output_type": "stream",
     "text": [
      "\r",
      "Epoch 145/500:  29%|██▉       | 145/500 [01:05<02:37,  2.25it/s, v_num=1, train_loss_step=1.8e+4, train_loss_epoch=1.85e+4] "
     ]
    },
    {
     "name": "stdout",
     "output_type": "stream",
     "text": [
      "\r",
      "Epoch 146/500:  29%|██▉       | 145/500 [01:05<02:37,  2.25it/s, v_num=1, train_loss_step=1.8e+4, train_loss_epoch=1.85e+4]"
     ]
    },
    {
     "name": "stdout",
     "output_type": "stream",
     "text": [
      "\r",
      "Epoch 146/500:  29%|██▉       | 146/500 [01:05<02:37,  2.25it/s, v_num=1, train_loss_step=1.8e+4, train_loss_epoch=1.85e+4]"
     ]
    },
    {
     "name": "stdout",
     "output_type": "stream",
     "text": [
      "\r",
      "Epoch 146/500:  29%|██▉       | 146/500 [01:05<02:37,  2.25it/s, v_num=1, train_loss_step=2.03e+4, train_loss_epoch=1.85e+4]"
     ]
    },
    {
     "name": "stdout",
     "output_type": "stream",
     "text": [
      "\r",
      "Epoch 147/500:  29%|██▉       | 146/500 [01:05<02:37,  2.25it/s, v_num=1, train_loss_step=2.03e+4, train_loss_epoch=1.85e+4]"
     ]
    },
    {
     "name": "stdout",
     "output_type": "stream",
     "text": [
      "\r",
      "Epoch 147/500:  29%|██▉       | 147/500 [01:05<02:36,  2.25it/s, v_num=1, train_loss_step=2.03e+4, train_loss_epoch=1.85e+4]"
     ]
    },
    {
     "name": "stdout",
     "output_type": "stream",
     "text": [
      "\r",
      "Epoch 147/500:  29%|██▉       | 147/500 [01:05<02:36,  2.25it/s, v_num=1, train_loss_step=1.89e+4, train_loss_epoch=1.85e+4]"
     ]
    },
    {
     "name": "stdout",
     "output_type": "stream",
     "text": [
      "\r",
      "Epoch 148/500:  29%|██▉       | 147/500 [01:05<02:36,  2.25it/s, v_num=1, train_loss_step=1.89e+4, train_loss_epoch=1.85e+4]"
     ]
    },
    {
     "name": "stdout",
     "output_type": "stream",
     "text": [
      "\r",
      "Epoch 148/500:  30%|██▉       | 148/500 [01:06<02:36,  2.25it/s, v_num=1, train_loss_step=1.89e+4, train_loss_epoch=1.85e+4]"
     ]
    },
    {
     "name": "stdout",
     "output_type": "stream",
     "text": [
      "\r",
      "Epoch 148/500:  30%|██▉       | 148/500 [01:06<02:36,  2.25it/s, v_num=1, train_loss_step=1.82e+4, train_loss_epoch=1.85e+4]"
     ]
    },
    {
     "name": "stdout",
     "output_type": "stream",
     "text": [
      "\r",
      "Epoch 149/500:  30%|██▉       | 148/500 [01:06<02:36,  2.25it/s, v_num=1, train_loss_step=1.82e+4, train_loss_epoch=1.85e+4]"
     ]
    },
    {
     "name": "stdout",
     "output_type": "stream",
     "text": [
      "\r",
      "Epoch 149/500:  30%|██▉       | 149/500 [01:06<02:36,  2.25it/s, v_num=1, train_loss_step=1.82e+4, train_loss_epoch=1.85e+4]"
     ]
    },
    {
     "name": "stdout",
     "output_type": "stream",
     "text": [
      "\r",
      "Epoch 149/500:  30%|██▉       | 149/500 [01:06<02:36,  2.25it/s, v_num=1, train_loss_step=1.89e+4, train_loss_epoch=1.85e+4]"
     ]
    },
    {
     "name": "stdout",
     "output_type": "stream",
     "text": [
      "\r",
      "Epoch 150/500:  30%|██▉       | 149/500 [01:06<02:36,  2.25it/s, v_num=1, train_loss_step=1.89e+4, train_loss_epoch=1.85e+4]"
     ]
    },
    {
     "name": "stdout",
     "output_type": "stream",
     "text": [
      "\r",
      "Epoch 150/500:  30%|███       | 150/500 [01:07<02:35,  2.25it/s, v_num=1, train_loss_step=1.89e+4, train_loss_epoch=1.85e+4]"
     ]
    },
    {
     "name": "stdout",
     "output_type": "stream",
     "text": [
      "\r",
      "Epoch 150/500:  30%|███       | 150/500 [01:07<02:35,  2.25it/s, v_num=1, train_loss_step=2.02e+4, train_loss_epoch=1.85e+4]"
     ]
    },
    {
     "name": "stdout",
     "output_type": "stream",
     "text": [
      "\r",
      "Epoch 151/500:  30%|███       | 150/500 [01:07<02:35,  2.25it/s, v_num=1, train_loss_step=2.02e+4, train_loss_epoch=1.85e+4]"
     ]
    },
    {
     "name": "stdout",
     "output_type": "stream",
     "text": [
      "\r",
      "Epoch 151/500:  30%|███       | 151/500 [01:07<02:35,  2.25it/s, v_num=1, train_loss_step=2.02e+4, train_loss_epoch=1.85e+4]"
     ]
    },
    {
     "name": "stdout",
     "output_type": "stream",
     "text": [
      "\r",
      "Epoch 151/500:  30%|███       | 151/500 [01:07<02:35,  2.25it/s, v_num=1, train_loss_step=1.84e+4, train_loss_epoch=1.85e+4]"
     ]
    },
    {
     "name": "stdout",
     "output_type": "stream",
     "text": [
      "\r",
      "Epoch 152/500:  30%|███       | 151/500 [01:07<02:35,  2.25it/s, v_num=1, train_loss_step=1.84e+4, train_loss_epoch=1.85e+4]"
     ]
    },
    {
     "name": "stdout",
     "output_type": "stream",
     "text": [
      "\r",
      "Epoch 152/500:  30%|███       | 152/500 [01:08<02:34,  2.25it/s, v_num=1, train_loss_step=1.84e+4, train_loss_epoch=1.85e+4]"
     ]
    },
    {
     "name": "stdout",
     "output_type": "stream",
     "text": [
      "\r",
      "Epoch 152/500:  30%|███       | 152/500 [01:08<02:34,  2.25it/s, v_num=1, train_loss_step=1.83e+4, train_loss_epoch=1.85e+4]"
     ]
    },
    {
     "name": "stdout",
     "output_type": "stream",
     "text": [
      "\r",
      "Epoch 153/500:  30%|███       | 152/500 [01:08<02:34,  2.25it/s, v_num=1, train_loss_step=1.83e+4, train_loss_epoch=1.85e+4]"
     ]
    },
    {
     "name": "stdout",
     "output_type": "stream",
     "text": [
      "\r",
      "Epoch 153/500:  31%|███       | 153/500 [01:08<02:34,  2.25it/s, v_num=1, train_loss_step=1.83e+4, train_loss_epoch=1.85e+4]"
     ]
    },
    {
     "name": "stdout",
     "output_type": "stream",
     "text": [
      "\r",
      "Epoch 153/500:  31%|███       | 153/500 [01:08<02:34,  2.25it/s, v_num=1, train_loss_step=1.84e+4, train_loss_epoch=1.85e+4]"
     ]
    },
    {
     "name": "stdout",
     "output_type": "stream",
     "text": [
      "\r",
      "Epoch 154/500:  31%|███       | 153/500 [01:08<02:34,  2.25it/s, v_num=1, train_loss_step=1.84e+4, train_loss_epoch=1.85e+4]"
     ]
    },
    {
     "name": "stdout",
     "output_type": "stream",
     "text": [
      "\r",
      "Epoch 154/500:  31%|███       | 154/500 [01:09<02:33,  2.26it/s, v_num=1, train_loss_step=1.84e+4, train_loss_epoch=1.85e+4]"
     ]
    },
    {
     "name": "stdout",
     "output_type": "stream",
     "text": [
      "\r",
      "Epoch 154/500:  31%|███       | 154/500 [01:09<02:33,  2.26it/s, v_num=1, train_loss_step=1.97e+4, train_loss_epoch=1.85e+4]"
     ]
    },
    {
     "name": "stdout",
     "output_type": "stream",
     "text": [
      "\r",
      "Epoch 155/500:  31%|███       | 154/500 [01:09<02:33,  2.26it/s, v_num=1, train_loss_step=1.97e+4, train_loss_epoch=1.85e+4]"
     ]
    },
    {
     "name": "stdout",
     "output_type": "stream",
     "text": [
      "\r",
      "Epoch 155/500:  31%|███       | 155/500 [01:09<02:32,  2.27it/s, v_num=1, train_loss_step=1.97e+4, train_loss_epoch=1.85e+4]"
     ]
    },
    {
     "name": "stdout",
     "output_type": "stream",
     "text": [
      "\r",
      "Epoch 155/500:  31%|███       | 155/500 [01:09<02:32,  2.27it/s, v_num=1, train_loss_step=1.8e+4, train_loss_epoch=1.85e+4] "
     ]
    },
    {
     "name": "stdout",
     "output_type": "stream",
     "text": [
      "\r",
      "Epoch 156/500:  31%|███       | 155/500 [01:09<02:32,  2.27it/s, v_num=1, train_loss_step=1.8e+4, train_loss_epoch=1.85e+4]"
     ]
    },
    {
     "name": "stdout",
     "output_type": "stream",
     "text": [
      "\r",
      "Epoch 156/500:  31%|███       | 156/500 [01:09<02:31,  2.27it/s, v_num=1, train_loss_step=1.8e+4, train_loss_epoch=1.85e+4]"
     ]
    },
    {
     "name": "stdout",
     "output_type": "stream",
     "text": [
      "\r",
      "Epoch 156/500:  31%|███       | 156/500 [01:09<02:31,  2.27it/s, v_num=1, train_loss_step=1.77e+4, train_loss_epoch=1.85e+4]"
     ]
    },
    {
     "name": "stdout",
     "output_type": "stream",
     "text": [
      "\r",
      "Epoch 157/500:  31%|███       | 156/500 [01:09<02:31,  2.27it/s, v_num=1, train_loss_step=1.77e+4, train_loss_epoch=1.85e+4]"
     ]
    },
    {
     "name": "stdout",
     "output_type": "stream",
     "text": [
      "\r",
      "Epoch 157/500:  31%|███▏      | 157/500 [01:10<02:30,  2.28it/s, v_num=1, train_loss_step=1.77e+4, train_loss_epoch=1.85e+4]"
     ]
    },
    {
     "name": "stdout",
     "output_type": "stream",
     "text": [
      "\r",
      "Epoch 157/500:  31%|███▏      | 157/500 [01:10<02:30,  2.28it/s, v_num=1, train_loss_step=1.73e+4, train_loss_epoch=1.85e+4]"
     ]
    },
    {
     "name": "stdout",
     "output_type": "stream",
     "text": [
      "\r",
      "Epoch 158/500:  31%|███▏      | 157/500 [01:10<02:30,  2.28it/s, v_num=1, train_loss_step=1.73e+4, train_loss_epoch=1.85e+4]"
     ]
    },
    {
     "name": "stdout",
     "output_type": "stream",
     "text": [
      "\r",
      "Epoch 158/500:  32%|███▏      | 158/500 [01:10<02:30,  2.28it/s, v_num=1, train_loss_step=1.73e+4, train_loss_epoch=1.85e+4]"
     ]
    },
    {
     "name": "stdout",
     "output_type": "stream",
     "text": [
      "\r",
      "Epoch 158/500:  32%|███▏      | 158/500 [01:10<02:30,  2.28it/s, v_num=1, train_loss_step=1.83e+4, train_loss_epoch=1.85e+4]"
     ]
    },
    {
     "name": "stdout",
     "output_type": "stream",
     "text": [
      "\r",
      "Epoch 159/500:  32%|███▏      | 158/500 [01:10<02:30,  2.28it/s, v_num=1, train_loss_step=1.83e+4, train_loss_epoch=1.85e+4]"
     ]
    },
    {
     "name": "stdout",
     "output_type": "stream",
     "text": [
      "\r",
      "Epoch 159/500:  32%|███▏      | 159/500 [01:11<02:29,  2.28it/s, v_num=1, train_loss_step=1.83e+4, train_loss_epoch=1.85e+4]"
     ]
    },
    {
     "name": "stdout",
     "output_type": "stream",
     "text": [
      "\r",
      "Epoch 159/500:  32%|███▏      | 159/500 [01:11<02:29,  2.28it/s, v_num=1, train_loss_step=1.92e+4, train_loss_epoch=1.85e+4]"
     ]
    },
    {
     "name": "stdout",
     "output_type": "stream",
     "text": [
      "\r",
      "Epoch 160/500:  32%|███▏      | 159/500 [01:11<02:29,  2.28it/s, v_num=1, train_loss_step=1.92e+4, train_loss_epoch=1.85e+4]"
     ]
    },
    {
     "name": "stdout",
     "output_type": "stream",
     "text": [
      "\r",
      "Epoch 160/500:  32%|███▏      | 160/500 [01:11<02:29,  2.28it/s, v_num=1, train_loss_step=1.92e+4, train_loss_epoch=1.85e+4]"
     ]
    },
    {
     "name": "stdout",
     "output_type": "stream",
     "text": [
      "\r",
      "Epoch 160/500:  32%|███▏      | 160/500 [01:11<02:29,  2.28it/s, v_num=1, train_loss_step=1.92e+4, train_loss_epoch=1.85e+4]"
     ]
    },
    {
     "name": "stdout",
     "output_type": "stream",
     "text": [
      "\r",
      "Epoch 161/500:  32%|███▏      | 160/500 [01:11<02:29,  2.28it/s, v_num=1, train_loss_step=1.92e+4, train_loss_epoch=1.85e+4]"
     ]
    },
    {
     "name": "stdout",
     "output_type": "stream",
     "text": [
      "\r",
      "Epoch 161/500:  32%|███▏      | 161/500 [01:12<02:28,  2.28it/s, v_num=1, train_loss_step=1.92e+4, train_loss_epoch=1.85e+4]"
     ]
    },
    {
     "name": "stdout",
     "output_type": "stream",
     "text": [
      "\r",
      "Epoch 161/500:  32%|███▏      | 161/500 [01:12<02:28,  2.28it/s, v_num=1, train_loss_step=1.83e+4, train_loss_epoch=1.85e+4]"
     ]
    },
    {
     "name": "stdout",
     "output_type": "stream",
     "text": [
      "\r",
      "Epoch 162/500:  32%|███▏      | 161/500 [01:12<02:28,  2.28it/s, v_num=1, train_loss_step=1.83e+4, train_loss_epoch=1.85e+4]"
     ]
    },
    {
     "name": "stdout",
     "output_type": "stream",
     "text": [
      "\r",
      "Epoch 162/500:  32%|███▏      | 162/500 [01:12<02:28,  2.28it/s, v_num=1, train_loss_step=1.83e+4, train_loss_epoch=1.85e+4]"
     ]
    },
    {
     "name": "stdout",
     "output_type": "stream",
     "text": [
      "\r",
      "Epoch 162/500:  32%|███▏      | 162/500 [01:12<02:28,  2.28it/s, v_num=1, train_loss_step=2.04e+4, train_loss_epoch=1.84e+4]"
     ]
    },
    {
     "name": "stdout",
     "output_type": "stream",
     "text": [
      "\r",
      "Epoch 163/500:  32%|███▏      | 162/500 [01:12<02:28,  2.28it/s, v_num=1, train_loss_step=2.04e+4, train_loss_epoch=1.84e+4]"
     ]
    },
    {
     "name": "stdout",
     "output_type": "stream",
     "text": [
      "\r",
      "Epoch 163/500:  33%|███▎      | 163/500 [01:12<02:27,  2.28it/s, v_num=1, train_loss_step=2.04e+4, train_loss_epoch=1.84e+4]"
     ]
    },
    {
     "name": "stdout",
     "output_type": "stream",
     "text": [
      "\r",
      "Epoch 163/500:  33%|███▎      | 163/500 [01:12<02:27,  2.28it/s, v_num=1, train_loss_step=1.83e+4, train_loss_epoch=1.84e+4]"
     ]
    },
    {
     "name": "stdout",
     "output_type": "stream",
     "text": [
      "\r",
      "Epoch 164/500:  33%|███▎      | 163/500 [01:12<02:27,  2.28it/s, v_num=1, train_loss_step=1.83e+4, train_loss_epoch=1.84e+4]"
     ]
    },
    {
     "name": "stdout",
     "output_type": "stream",
     "text": [
      "\r",
      "Epoch 164/500:  33%|███▎      | 164/500 [01:13<02:27,  2.28it/s, v_num=1, train_loss_step=1.83e+4, train_loss_epoch=1.84e+4]"
     ]
    },
    {
     "name": "stdout",
     "output_type": "stream",
     "text": [
      "\r",
      "Epoch 164/500:  33%|███▎      | 164/500 [01:13<02:27,  2.28it/s, v_num=1, train_loss_step=1.86e+4, train_loss_epoch=1.84e+4]"
     ]
    },
    {
     "name": "stdout",
     "output_type": "stream",
     "text": [
      "\r",
      "Epoch 165/500:  33%|███▎      | 164/500 [01:13<02:27,  2.28it/s, v_num=1, train_loss_step=1.86e+4, train_loss_epoch=1.84e+4]"
     ]
    },
    {
     "name": "stdout",
     "output_type": "stream",
     "text": [
      "\r",
      "Epoch 165/500:  33%|███▎      | 165/500 [01:13<02:26,  2.29it/s, v_num=1, train_loss_step=1.86e+4, train_loss_epoch=1.84e+4]"
     ]
    },
    {
     "name": "stdout",
     "output_type": "stream",
     "text": [
      "\r",
      "Epoch 165/500:  33%|███▎      | 165/500 [01:13<02:26,  2.29it/s, v_num=1, train_loss_step=1.74e+4, train_loss_epoch=1.84e+4]"
     ]
    },
    {
     "name": "stdout",
     "output_type": "stream",
     "text": [
      "\r",
      "Epoch 166/500:  33%|███▎      | 165/500 [01:13<02:26,  2.29it/s, v_num=1, train_loss_step=1.74e+4, train_loss_epoch=1.84e+4]"
     ]
    },
    {
     "name": "stdout",
     "output_type": "stream",
     "text": [
      "\r",
      "Epoch 166/500:  33%|███▎      | 166/500 [01:14<02:26,  2.29it/s, v_num=1, train_loss_step=1.74e+4, train_loss_epoch=1.84e+4]"
     ]
    },
    {
     "name": "stdout",
     "output_type": "stream",
     "text": [
      "\r",
      "Epoch 166/500:  33%|███▎      | 166/500 [01:14<02:26,  2.29it/s, v_num=1, train_loss_step=1.85e+4, train_loss_epoch=1.84e+4]"
     ]
    },
    {
     "name": "stdout",
     "output_type": "stream",
     "text": [
      "\r",
      "Epoch 167/500:  33%|███▎      | 166/500 [01:14<02:26,  2.29it/s, v_num=1, train_loss_step=1.85e+4, train_loss_epoch=1.84e+4]"
     ]
    },
    {
     "name": "stdout",
     "output_type": "stream",
     "text": [
      "\r",
      "Epoch 167/500:  33%|███▎      | 167/500 [01:14<02:25,  2.29it/s, v_num=1, train_loss_step=1.85e+4, train_loss_epoch=1.84e+4]"
     ]
    },
    {
     "name": "stdout",
     "output_type": "stream",
     "text": [
      "\r",
      "Epoch 167/500:  33%|███▎      | 167/500 [01:14<02:25,  2.29it/s, v_num=1, train_loss_step=1.89e+4, train_loss_epoch=1.84e+4]"
     ]
    },
    {
     "name": "stdout",
     "output_type": "stream",
     "text": [
      "\r",
      "Epoch 168/500:  33%|███▎      | 167/500 [01:14<02:25,  2.29it/s, v_num=1, train_loss_step=1.89e+4, train_loss_epoch=1.84e+4]"
     ]
    },
    {
     "name": "stdout",
     "output_type": "stream",
     "text": [
      "\r",
      "Epoch 168/500:  34%|███▎      | 168/500 [01:15<02:25,  2.29it/s, v_num=1, train_loss_step=1.89e+4, train_loss_epoch=1.84e+4]"
     ]
    },
    {
     "name": "stdout",
     "output_type": "stream",
     "text": [
      "\r",
      "Epoch 168/500:  34%|███▎      | 168/500 [01:15<02:25,  2.29it/s, v_num=1, train_loss_step=1.64e+4, train_loss_epoch=1.84e+4]"
     ]
    },
    {
     "name": "stdout",
     "output_type": "stream",
     "text": [
      "\r",
      "Epoch 169/500:  34%|███▎      | 168/500 [01:15<02:25,  2.29it/s, v_num=1, train_loss_step=1.64e+4, train_loss_epoch=1.84e+4]"
     ]
    },
    {
     "name": "stdout",
     "output_type": "stream",
     "text": [
      "\r",
      "Epoch 169/500:  34%|███▍      | 169/500 [01:15<02:24,  2.29it/s, v_num=1, train_loss_step=1.64e+4, train_loss_epoch=1.84e+4]"
     ]
    },
    {
     "name": "stdout",
     "output_type": "stream",
     "text": [
      "\r",
      "Epoch 169/500:  34%|███▍      | 169/500 [01:15<02:24,  2.29it/s, v_num=1, train_loss_step=1.8e+4, train_loss_epoch=1.84e+4] "
     ]
    },
    {
     "name": "stdout",
     "output_type": "stream",
     "text": [
      "\r",
      "Epoch 170/500:  34%|███▍      | 169/500 [01:15<02:24,  2.29it/s, v_num=1, train_loss_step=1.8e+4, train_loss_epoch=1.84e+4]"
     ]
    },
    {
     "name": "stdout",
     "output_type": "stream",
     "text": [
      "\r",
      "Epoch 170/500:  34%|███▍      | 170/500 [01:16<02:24,  2.29it/s, v_num=1, train_loss_step=1.8e+4, train_loss_epoch=1.84e+4]"
     ]
    },
    {
     "name": "stdout",
     "output_type": "stream",
     "text": [
      "\r",
      "Epoch 170/500:  34%|███▍      | 170/500 [01:16<02:24,  2.29it/s, v_num=1, train_loss_step=1.77e+4, train_loss_epoch=1.84e+4]"
     ]
    },
    {
     "name": "stdout",
     "output_type": "stream",
     "text": [
      "\r",
      "Epoch 171/500:  34%|███▍      | 170/500 [01:16<02:24,  2.29it/s, v_num=1, train_loss_step=1.77e+4, train_loss_epoch=1.84e+4]"
     ]
    },
    {
     "name": "stdout",
     "output_type": "stream",
     "text": [
      "\r",
      "Epoch 171/500:  34%|███▍      | 171/500 [01:16<02:24,  2.28it/s, v_num=1, train_loss_step=1.77e+4, train_loss_epoch=1.84e+4]"
     ]
    },
    {
     "name": "stdout",
     "output_type": "stream",
     "text": [
      "\r",
      "Epoch 171/500:  34%|███▍      | 171/500 [01:16<02:24,  2.28it/s, v_num=1, train_loss_step=1.73e+4, train_loss_epoch=1.84e+4]"
     ]
    },
    {
     "name": "stdout",
     "output_type": "stream",
     "text": [
      "\r",
      "Epoch 172/500:  34%|███▍      | 171/500 [01:16<02:24,  2.28it/s, v_num=1, train_loss_step=1.73e+4, train_loss_epoch=1.84e+4]"
     ]
    },
    {
     "name": "stdout",
     "output_type": "stream",
     "text": [
      "\r",
      "Epoch 172/500:  34%|███▍      | 172/500 [01:16<02:23,  2.28it/s, v_num=1, train_loss_step=1.73e+4, train_loss_epoch=1.84e+4]"
     ]
    },
    {
     "name": "stdout",
     "output_type": "stream",
     "text": [
      "\r",
      "Epoch 172/500:  34%|███▍      | 172/500 [01:16<02:23,  2.28it/s, v_num=1, train_loss_step=1.96e+4, train_loss_epoch=1.84e+4]"
     ]
    },
    {
     "name": "stdout",
     "output_type": "stream",
     "text": [
      "\r",
      "Epoch 173/500:  34%|███▍      | 172/500 [01:16<02:23,  2.28it/s, v_num=1, train_loss_step=1.96e+4, train_loss_epoch=1.84e+4]"
     ]
    },
    {
     "name": "stdout",
     "output_type": "stream",
     "text": [
      "\r",
      "Epoch 173/500:  35%|███▍      | 173/500 [01:17<02:23,  2.28it/s, v_num=1, train_loss_step=1.96e+4, train_loss_epoch=1.84e+4]"
     ]
    },
    {
     "name": "stdout",
     "output_type": "stream",
     "text": [
      "\r",
      "Epoch 173/500:  35%|███▍      | 173/500 [01:17<02:23,  2.28it/s, v_num=1, train_loss_step=1.84e+4, train_loss_epoch=1.84e+4]"
     ]
    },
    {
     "name": "stdout",
     "output_type": "stream",
     "text": [
      "\r",
      "Epoch 174/500:  35%|███▍      | 173/500 [01:17<02:23,  2.28it/s, v_num=1, train_loss_step=1.84e+4, train_loss_epoch=1.84e+4]"
     ]
    },
    {
     "name": "stdout",
     "output_type": "stream",
     "text": [
      "\r",
      "Epoch 174/500:  35%|███▍      | 174/500 [01:17<02:22,  2.28it/s, v_num=1, train_loss_step=1.84e+4, train_loss_epoch=1.84e+4]"
     ]
    },
    {
     "name": "stdout",
     "output_type": "stream",
     "text": [
      "\r",
      "Epoch 174/500:  35%|███▍      | 174/500 [01:17<02:22,  2.28it/s, v_num=1, train_loss_step=1.9e+4, train_loss_epoch=1.84e+4] "
     ]
    },
    {
     "name": "stdout",
     "output_type": "stream",
     "text": [
      "\r",
      "Epoch 175/500:  35%|███▍      | 174/500 [01:17<02:22,  2.28it/s, v_num=1, train_loss_step=1.9e+4, train_loss_epoch=1.84e+4]"
     ]
    },
    {
     "name": "stdout",
     "output_type": "stream",
     "text": [
      "\r",
      "Epoch 175/500:  35%|███▌      | 175/500 [01:18<02:22,  2.28it/s, v_num=1, train_loss_step=1.9e+4, train_loss_epoch=1.84e+4]"
     ]
    },
    {
     "name": "stdout",
     "output_type": "stream",
     "text": [
      "\r",
      "Epoch 175/500:  35%|███▌      | 175/500 [01:18<02:22,  2.28it/s, v_num=1, train_loss_step=1.79e+4, train_loss_epoch=1.84e+4]"
     ]
    },
    {
     "name": "stdout",
     "output_type": "stream",
     "text": [
      "\r",
      "Epoch 176/500:  35%|███▌      | 175/500 [01:18<02:22,  2.28it/s, v_num=1, train_loss_step=1.79e+4, train_loss_epoch=1.84e+4]"
     ]
    },
    {
     "name": "stdout",
     "output_type": "stream",
     "text": [
      "\r",
      "Epoch 176/500:  35%|███▌      | 176/500 [01:18<02:21,  2.28it/s, v_num=1, train_loss_step=1.79e+4, train_loss_epoch=1.84e+4]"
     ]
    },
    {
     "name": "stdout",
     "output_type": "stream",
     "text": [
      "\r",
      "Epoch 176/500:  35%|███▌      | 176/500 [01:18<02:21,  2.28it/s, v_num=1, train_loss_step=1.97e+4, train_loss_epoch=1.84e+4]"
     ]
    },
    {
     "name": "stdout",
     "output_type": "stream",
     "text": [
      "\r",
      "Epoch 177/500:  35%|███▌      | 176/500 [01:18<02:21,  2.28it/s, v_num=1, train_loss_step=1.97e+4, train_loss_epoch=1.84e+4]"
     ]
    },
    {
     "name": "stdout",
     "output_type": "stream",
     "text": [
      "\r",
      "Epoch 177/500:  35%|███▌      | 177/500 [01:19<02:21,  2.28it/s, v_num=1, train_loss_step=1.97e+4, train_loss_epoch=1.84e+4]"
     ]
    },
    {
     "name": "stdout",
     "output_type": "stream",
     "text": [
      "\r",
      "Epoch 177/500:  35%|███▌      | 177/500 [01:19<02:21,  2.28it/s, v_num=1, train_loss_step=1.89e+4, train_loss_epoch=1.84e+4]"
     ]
    },
    {
     "name": "stdout",
     "output_type": "stream",
     "text": [
      "\r",
      "Epoch 178/500:  35%|███▌      | 177/500 [01:19<02:21,  2.28it/s, v_num=1, train_loss_step=1.89e+4, train_loss_epoch=1.84e+4]"
     ]
    },
    {
     "name": "stdout",
     "output_type": "stream",
     "text": [
      "\r",
      "Epoch 178/500:  36%|███▌      | 178/500 [01:19<02:21,  2.28it/s, v_num=1, train_loss_step=1.89e+4, train_loss_epoch=1.84e+4]"
     ]
    },
    {
     "name": "stdout",
     "output_type": "stream",
     "text": [
      "\r",
      "Epoch 178/500:  36%|███▌      | 178/500 [01:19<02:21,  2.28it/s, v_num=1, train_loss_step=1.84e+4, train_loss_epoch=1.84e+4]"
     ]
    },
    {
     "name": "stdout",
     "output_type": "stream",
     "text": [
      "\r",
      "Epoch 179/500:  36%|███▌      | 178/500 [01:19<02:21,  2.28it/s, v_num=1, train_loss_step=1.84e+4, train_loss_epoch=1.84e+4]"
     ]
    },
    {
     "name": "stdout",
     "output_type": "stream",
     "text": [
      "\r",
      "Epoch 179/500:  36%|███▌      | 179/500 [01:19<02:20,  2.28it/s, v_num=1, train_loss_step=1.84e+4, train_loss_epoch=1.84e+4]"
     ]
    },
    {
     "name": "stdout",
     "output_type": "stream",
     "text": [
      "\r",
      "Epoch 179/500:  36%|███▌      | 179/500 [01:19<02:20,  2.28it/s, v_num=1, train_loss_step=1.83e+4, train_loss_epoch=1.84e+4]"
     ]
    },
    {
     "name": "stdout",
     "output_type": "stream",
     "text": [
      "\r",
      "Epoch 180/500:  36%|███▌      | 179/500 [01:19<02:20,  2.28it/s, v_num=1, train_loss_step=1.83e+4, train_loss_epoch=1.84e+4]"
     ]
    },
    {
     "name": "stdout",
     "output_type": "stream",
     "text": [
      "\r",
      "Epoch 180/500:  36%|███▌      | 180/500 [01:20<02:20,  2.28it/s, v_num=1, train_loss_step=1.83e+4, train_loss_epoch=1.84e+4]"
     ]
    },
    {
     "name": "stdout",
     "output_type": "stream",
     "text": [
      "\r",
      "Epoch 180/500:  36%|███▌      | 180/500 [01:20<02:20,  2.28it/s, v_num=1, train_loss_step=1.67e+4, train_loss_epoch=1.84e+4]"
     ]
    },
    {
     "name": "stdout",
     "output_type": "stream",
     "text": [
      "\r",
      "Epoch 181/500:  36%|███▌      | 180/500 [01:20<02:20,  2.28it/s, v_num=1, train_loss_step=1.67e+4, train_loss_epoch=1.84e+4]"
     ]
    },
    {
     "name": "stdout",
     "output_type": "stream",
     "text": [
      "\r",
      "Epoch 181/500:  36%|███▌      | 181/500 [01:20<02:19,  2.28it/s, v_num=1, train_loss_step=1.67e+4, train_loss_epoch=1.84e+4]"
     ]
    },
    {
     "name": "stdout",
     "output_type": "stream",
     "text": [
      "\r",
      "Epoch 181/500:  36%|███▌      | 181/500 [01:20<02:19,  2.28it/s, v_num=1, train_loss_step=1.8e+4, train_loss_epoch=1.84e+4] "
     ]
    },
    {
     "name": "stdout",
     "output_type": "stream",
     "text": [
      "\r",
      "Epoch 182/500:  36%|███▌      | 181/500 [01:20<02:19,  2.28it/s, v_num=1, train_loss_step=1.8e+4, train_loss_epoch=1.84e+4]"
     ]
    },
    {
     "name": "stdout",
     "output_type": "stream",
     "text": [
      "\r",
      "Epoch 182/500:  36%|███▋      | 182/500 [01:21<02:19,  2.28it/s, v_num=1, train_loss_step=1.8e+4, train_loss_epoch=1.84e+4]"
     ]
    },
    {
     "name": "stdout",
     "output_type": "stream",
     "text": [
      "\r",
      "Epoch 182/500:  36%|███▋      | 182/500 [01:21<02:19,  2.28it/s, v_num=1, train_loss_step=1.72e+4, train_loss_epoch=1.84e+4]"
     ]
    },
    {
     "name": "stdout",
     "output_type": "stream",
     "text": [
      "\r",
      "Epoch 183/500:  36%|███▋      | 182/500 [01:21<02:19,  2.28it/s, v_num=1, train_loss_step=1.72e+4, train_loss_epoch=1.84e+4]"
     ]
    },
    {
     "name": "stdout",
     "output_type": "stream",
     "text": [
      "\r",
      "Epoch 183/500:  37%|███▋      | 183/500 [01:21<02:18,  2.28it/s, v_num=1, train_loss_step=1.72e+4, train_loss_epoch=1.84e+4]"
     ]
    },
    {
     "name": "stdout",
     "output_type": "stream",
     "text": [
      "\r",
      "Epoch 183/500:  37%|███▋      | 183/500 [01:21<02:18,  2.28it/s, v_num=1, train_loss_step=1.81e+4, train_loss_epoch=1.84e+4]"
     ]
    },
    {
     "name": "stdout",
     "output_type": "stream",
     "text": [
      "\r",
      "Epoch 184/500:  37%|███▋      | 183/500 [01:21<02:18,  2.28it/s, v_num=1, train_loss_step=1.81e+4, train_loss_epoch=1.84e+4]"
     ]
    },
    {
     "name": "stdout",
     "output_type": "stream",
     "text": [
      "\r",
      "Epoch 184/500:  37%|███▋      | 184/500 [01:22<02:18,  2.28it/s, v_num=1, train_loss_step=1.81e+4, train_loss_epoch=1.84e+4]"
     ]
    },
    {
     "name": "stdout",
     "output_type": "stream",
     "text": [
      "\r",
      "Epoch 184/500:  37%|███▋      | 184/500 [01:22<02:18,  2.28it/s, v_num=1, train_loss_step=1.74e+4, train_loss_epoch=1.84e+4]"
     ]
    },
    {
     "name": "stdout",
     "output_type": "stream",
     "text": [
      "\r",
      "Epoch 185/500:  37%|███▋      | 184/500 [01:22<02:18,  2.28it/s, v_num=1, train_loss_step=1.74e+4, train_loss_epoch=1.84e+4]"
     ]
    },
    {
     "name": "stdout",
     "output_type": "stream",
     "text": [
      "\r",
      "Epoch 185/500:  37%|███▋      | 185/500 [01:22<02:17,  2.28it/s, v_num=1, train_loss_step=1.74e+4, train_loss_epoch=1.84e+4]"
     ]
    },
    {
     "name": "stdout",
     "output_type": "stream",
     "text": [
      "\r",
      "Epoch 185/500:  37%|███▋      | 185/500 [01:22<02:17,  2.28it/s, v_num=1, train_loss_step=1.82e+4, train_loss_epoch=1.84e+4]"
     ]
    },
    {
     "name": "stdout",
     "output_type": "stream",
     "text": [
      "\r",
      "Epoch 186/500:  37%|███▋      | 185/500 [01:22<02:17,  2.28it/s, v_num=1, train_loss_step=1.82e+4, train_loss_epoch=1.84e+4]"
     ]
    },
    {
     "name": "stdout",
     "output_type": "stream",
     "text": [
      "\r",
      "Epoch 186/500:  37%|███▋      | 186/500 [01:23<02:17,  2.28it/s, v_num=1, train_loss_step=1.82e+4, train_loss_epoch=1.84e+4]"
     ]
    },
    {
     "name": "stdout",
     "output_type": "stream",
     "text": [
      "\r",
      "Epoch 186/500:  37%|███▋      | 186/500 [01:23<02:17,  2.28it/s, v_num=1, train_loss_step=1.91e+4, train_loss_epoch=1.84e+4]"
     ]
    },
    {
     "name": "stdout",
     "output_type": "stream",
     "text": [
      "\r",
      "Epoch 187/500:  37%|███▋      | 186/500 [01:23<02:17,  2.28it/s, v_num=1, train_loss_step=1.91e+4, train_loss_epoch=1.84e+4]"
     ]
    },
    {
     "name": "stdout",
     "output_type": "stream",
     "text": [
      "\r",
      "Epoch 187/500:  37%|███▋      | 187/500 [01:23<02:17,  2.28it/s, v_num=1, train_loss_step=1.91e+4, train_loss_epoch=1.84e+4]"
     ]
    },
    {
     "name": "stdout",
     "output_type": "stream",
     "text": [
      "\r",
      "Epoch 187/500:  37%|███▋      | 187/500 [01:23<02:17,  2.28it/s, v_num=1, train_loss_step=1.83e+4, train_loss_epoch=1.84e+4]"
     ]
    },
    {
     "name": "stdout",
     "output_type": "stream",
     "text": [
      "\r",
      "Epoch 188/500:  37%|███▋      | 187/500 [01:23<02:17,  2.28it/s, v_num=1, train_loss_step=1.83e+4, train_loss_epoch=1.84e+4]"
     ]
    },
    {
     "name": "stdout",
     "output_type": "stream",
     "text": [
      "\r",
      "Epoch 188/500:  38%|███▊      | 188/500 [01:23<02:16,  2.29it/s, v_num=1, train_loss_step=1.83e+4, train_loss_epoch=1.84e+4]"
     ]
    },
    {
     "name": "stdout",
     "output_type": "stream",
     "text": [
      "\r",
      "Epoch 188/500:  38%|███▊      | 188/500 [01:23<02:16,  2.29it/s, v_num=1, train_loss_step=1.89e+4, train_loss_epoch=1.84e+4]"
     ]
    },
    {
     "name": "stdout",
     "output_type": "stream",
     "text": [
      "\r",
      "Epoch 189/500:  38%|███▊      | 188/500 [01:23<02:16,  2.29it/s, v_num=1, train_loss_step=1.89e+4, train_loss_epoch=1.84e+4]"
     ]
    },
    {
     "name": "stdout",
     "output_type": "stream",
     "text": [
      "\r",
      "Epoch 189/500:  38%|███▊      | 189/500 [01:24<02:16,  2.28it/s, v_num=1, train_loss_step=1.89e+4, train_loss_epoch=1.84e+4]"
     ]
    },
    {
     "name": "stdout",
     "output_type": "stream",
     "text": [
      "\r",
      "Epoch 189/500:  38%|███▊      | 189/500 [01:24<02:16,  2.28it/s, v_num=1, train_loss_step=1.69e+4, train_loss_epoch=1.84e+4]"
     ]
    },
    {
     "name": "stdout",
     "output_type": "stream",
     "text": [
      "\r",
      "Epoch 190/500:  38%|███▊      | 189/500 [01:24<02:16,  2.28it/s, v_num=1, train_loss_step=1.69e+4, train_loss_epoch=1.84e+4]"
     ]
    },
    {
     "name": "stdout",
     "output_type": "stream",
     "text": [
      "\r",
      "Epoch 190/500:  38%|███▊      | 190/500 [01:24<02:15,  2.29it/s, v_num=1, train_loss_step=1.69e+4, train_loss_epoch=1.84e+4]"
     ]
    },
    {
     "name": "stdout",
     "output_type": "stream",
     "text": [
      "\r",
      "Epoch 190/500:  38%|███▊      | 190/500 [01:24<02:15,  2.29it/s, v_num=1, train_loss_step=1.98e+4, train_loss_epoch=1.84e+4]"
     ]
    },
    {
     "name": "stdout",
     "output_type": "stream",
     "text": [
      "\r",
      "Epoch 191/500:  38%|███▊      | 190/500 [01:24<02:15,  2.29it/s, v_num=1, train_loss_step=1.98e+4, train_loss_epoch=1.84e+4]"
     ]
    },
    {
     "name": "stdout",
     "output_type": "stream",
     "text": [
      "\r",
      "Epoch 191/500:  38%|███▊      | 191/500 [01:25<02:15,  2.29it/s, v_num=1, train_loss_step=1.98e+4, train_loss_epoch=1.84e+4]"
     ]
    },
    {
     "name": "stdout",
     "output_type": "stream",
     "text": [
      "\r",
      "Epoch 191/500:  38%|███▊      | 191/500 [01:25<02:15,  2.29it/s, v_num=1, train_loss_step=1.79e+4, train_loss_epoch=1.84e+4]"
     ]
    },
    {
     "name": "stdout",
     "output_type": "stream",
     "text": [
      "\r",
      "Epoch 192/500:  38%|███▊      | 191/500 [01:25<02:15,  2.29it/s, v_num=1, train_loss_step=1.79e+4, train_loss_epoch=1.84e+4]"
     ]
    },
    {
     "name": "stdout",
     "output_type": "stream",
     "text": [
      "\r",
      "Epoch 192/500:  38%|███▊      | 192/500 [01:25<02:14,  2.29it/s, v_num=1, train_loss_step=1.79e+4, train_loss_epoch=1.84e+4]"
     ]
    },
    {
     "name": "stdout",
     "output_type": "stream",
     "text": [
      "\r",
      "Epoch 192/500:  38%|███▊      | 192/500 [01:25<02:14,  2.29it/s, v_num=1, train_loss_step=1.78e+4, train_loss_epoch=1.84e+4]"
     ]
    },
    {
     "name": "stdout",
     "output_type": "stream",
     "text": [
      "\r",
      "Epoch 193/500:  38%|███▊      | 192/500 [01:25<02:14,  2.29it/s, v_num=1, train_loss_step=1.78e+4, train_loss_epoch=1.84e+4]"
     ]
    },
    {
     "name": "stdout",
     "output_type": "stream",
     "text": [
      "\r",
      "Epoch 193/500:  39%|███▊      | 193/500 [01:26<02:14,  2.28it/s, v_num=1, train_loss_step=1.78e+4, train_loss_epoch=1.84e+4]"
     ]
    },
    {
     "name": "stdout",
     "output_type": "stream",
     "text": [
      "\r",
      "Epoch 193/500:  39%|███▊      | 193/500 [01:26<02:14,  2.28it/s, v_num=1, train_loss_step=1.65e+4, train_loss_epoch=1.84e+4]"
     ]
    },
    {
     "name": "stdout",
     "output_type": "stream",
     "text": [
      "\r",
      "Epoch 194/500:  39%|███▊      | 193/500 [01:26<02:14,  2.28it/s, v_num=1, train_loss_step=1.65e+4, train_loss_epoch=1.84e+4]"
     ]
    },
    {
     "name": "stdout",
     "output_type": "stream",
     "text": [
      "\r",
      "Epoch 194/500:  39%|███▉      | 194/500 [01:26<02:14,  2.28it/s, v_num=1, train_loss_step=1.65e+4, train_loss_epoch=1.84e+4]"
     ]
    },
    {
     "name": "stdout",
     "output_type": "stream",
     "text": [
      "\r",
      "Epoch 194/500:  39%|███▉      | 194/500 [01:26<02:14,  2.28it/s, v_num=1, train_loss_step=1.83e+4, train_loss_epoch=1.84e+4]"
     ]
    },
    {
     "name": "stdout",
     "output_type": "stream",
     "text": [
      "\r",
      "Epoch 195/500:  39%|███▉      | 194/500 [01:26<02:14,  2.28it/s, v_num=1, train_loss_step=1.83e+4, train_loss_epoch=1.84e+4]"
     ]
    },
    {
     "name": "stdout",
     "output_type": "stream",
     "text": [
      "\r",
      "Epoch 195/500:  39%|███▉      | 195/500 [01:26<02:13,  2.28it/s, v_num=1, train_loss_step=1.83e+4, train_loss_epoch=1.84e+4]"
     ]
    },
    {
     "name": "stdout",
     "output_type": "stream",
     "text": [
      "\r",
      "Epoch 195/500:  39%|███▉      | 195/500 [01:26<02:13,  2.28it/s, v_num=1, train_loss_step=1.95e+4, train_loss_epoch=1.84e+4]"
     ]
    },
    {
     "name": "stdout",
     "output_type": "stream",
     "text": [
      "\r",
      "Epoch 196/500:  39%|███▉      | 195/500 [01:26<02:13,  2.28it/s, v_num=1, train_loss_step=1.95e+4, train_loss_epoch=1.84e+4]"
     ]
    },
    {
     "name": "stdout",
     "output_type": "stream",
     "text": [
      "\r",
      "Epoch 196/500:  39%|███▉      | 196/500 [01:27<02:13,  2.28it/s, v_num=1, train_loss_step=1.95e+4, train_loss_epoch=1.84e+4]"
     ]
    },
    {
     "name": "stdout",
     "output_type": "stream",
     "text": [
      "\r",
      "Epoch 196/500:  39%|███▉      | 196/500 [01:27<02:13,  2.28it/s, v_num=1, train_loss_step=1.97e+4, train_loss_epoch=1.84e+4]"
     ]
    },
    {
     "name": "stdout",
     "output_type": "stream",
     "text": [
      "\r",
      "Epoch 197/500:  39%|███▉      | 196/500 [01:27<02:13,  2.28it/s, v_num=1, train_loss_step=1.97e+4, train_loss_epoch=1.84e+4]"
     ]
    },
    {
     "name": "stdout",
     "output_type": "stream",
     "text": [
      "\r",
      "Epoch 197/500:  39%|███▉      | 197/500 [01:27<02:12,  2.28it/s, v_num=1, train_loss_step=1.97e+4, train_loss_epoch=1.84e+4]"
     ]
    },
    {
     "name": "stdout",
     "output_type": "stream",
     "text": [
      "\r",
      "Epoch 197/500:  39%|███▉      | 197/500 [01:27<02:12,  2.28it/s, v_num=1, train_loss_step=1.87e+4, train_loss_epoch=1.84e+4]"
     ]
    },
    {
     "name": "stdout",
     "output_type": "stream",
     "text": [
      "\r",
      "Epoch 198/500:  39%|███▉      | 197/500 [01:27<02:12,  2.28it/s, v_num=1, train_loss_step=1.87e+4, train_loss_epoch=1.84e+4]"
     ]
    },
    {
     "name": "stdout",
     "output_type": "stream",
     "text": [
      "\r",
      "Epoch 198/500:  40%|███▉      | 198/500 [01:28<02:12,  2.28it/s, v_num=1, train_loss_step=1.87e+4, train_loss_epoch=1.84e+4]"
     ]
    },
    {
     "name": "stdout",
     "output_type": "stream",
     "text": [
      "\r",
      "Epoch 198/500:  40%|███▉      | 198/500 [01:28<02:12,  2.28it/s, v_num=1, train_loss_step=1.96e+4, train_loss_epoch=1.84e+4]"
     ]
    },
    {
     "name": "stdout",
     "output_type": "stream",
     "text": [
      "\r",
      "Epoch 199/500:  40%|███▉      | 198/500 [01:28<02:12,  2.28it/s, v_num=1, train_loss_step=1.96e+4, train_loss_epoch=1.84e+4]"
     ]
    },
    {
     "name": "stdout",
     "output_type": "stream",
     "text": [
      "\r",
      "Epoch 199/500:  40%|███▉      | 199/500 [01:28<02:11,  2.28it/s, v_num=1, train_loss_step=1.96e+4, train_loss_epoch=1.84e+4]"
     ]
    },
    {
     "name": "stdout",
     "output_type": "stream",
     "text": [
      "\r",
      "Epoch 199/500:  40%|███▉      | 199/500 [01:28<02:11,  2.28it/s, v_num=1, train_loss_step=1.85e+4, train_loss_epoch=1.84e+4]"
     ]
    },
    {
     "name": "stdout",
     "output_type": "stream",
     "text": [
      "\r",
      "Epoch 200/500:  40%|███▉      | 199/500 [01:28<02:11,  2.28it/s, v_num=1, train_loss_step=1.85e+4, train_loss_epoch=1.84e+4]"
     ]
    },
    {
     "name": "stdout",
     "output_type": "stream",
     "text": [
      "\r",
      "Epoch 200/500:  40%|████      | 200/500 [01:29<02:11,  2.28it/s, v_num=1, train_loss_step=1.85e+4, train_loss_epoch=1.84e+4]"
     ]
    },
    {
     "name": "stdout",
     "output_type": "stream",
     "text": [
      "\r",
      "Epoch 200/500:  40%|████      | 200/500 [01:29<02:11,  2.28it/s, v_num=1, train_loss_step=1.82e+4, train_loss_epoch=1.84e+4]"
     ]
    },
    {
     "name": "stdout",
     "output_type": "stream",
     "text": [
      "\r",
      "Epoch 201/500:  40%|████      | 200/500 [01:29<02:11,  2.28it/s, v_num=1, train_loss_step=1.82e+4, train_loss_epoch=1.84e+4]"
     ]
    },
    {
     "name": "stdout",
     "output_type": "stream",
     "text": [
      "\r",
      "Epoch 201/500:  40%|████      | 201/500 [01:29<02:11,  2.28it/s, v_num=1, train_loss_step=1.82e+4, train_loss_epoch=1.84e+4]"
     ]
    },
    {
     "name": "stdout",
     "output_type": "stream",
     "text": [
      "\r",
      "Epoch 201/500:  40%|████      | 201/500 [01:29<02:11,  2.28it/s, v_num=1, train_loss_step=1.87e+4, train_loss_epoch=1.84e+4]"
     ]
    },
    {
     "name": "stdout",
     "output_type": "stream",
     "text": [
      "\r",
      "Epoch 202/500:  40%|████      | 201/500 [01:29<02:11,  2.28it/s, v_num=1, train_loss_step=1.87e+4, train_loss_epoch=1.84e+4]"
     ]
    },
    {
     "name": "stdout",
     "output_type": "stream",
     "text": [
      "\r",
      "Epoch 202/500:  40%|████      | 202/500 [01:30<02:10,  2.28it/s, v_num=1, train_loss_step=1.87e+4, train_loss_epoch=1.84e+4]"
     ]
    },
    {
     "name": "stdout",
     "output_type": "stream",
     "text": [
      "\r",
      "Epoch 202/500:  40%|████      | 202/500 [01:30<02:10,  2.28it/s, v_num=1, train_loss_step=2.08e+4, train_loss_epoch=1.84e+4]"
     ]
    },
    {
     "name": "stdout",
     "output_type": "stream",
     "text": [
      "\r",
      "Epoch 203/500:  40%|████      | 202/500 [01:30<02:10,  2.28it/s, v_num=1, train_loss_step=2.08e+4, train_loss_epoch=1.84e+4]"
     ]
    },
    {
     "name": "stdout",
     "output_type": "stream",
     "text": [
      "\r",
      "Epoch 203/500:  41%|████      | 203/500 [01:30<02:10,  2.28it/s, v_num=1, train_loss_step=2.08e+4, train_loss_epoch=1.84e+4]"
     ]
    },
    {
     "name": "stdout",
     "output_type": "stream",
     "text": [
      "\r",
      "Epoch 203/500:  41%|████      | 203/500 [01:30<02:10,  2.28it/s, v_num=1, train_loss_step=1.91e+4, train_loss_epoch=1.84e+4]"
     ]
    },
    {
     "name": "stdout",
     "output_type": "stream",
     "text": [
      "\r",
      "Epoch 204/500:  41%|████      | 203/500 [01:30<02:10,  2.28it/s, v_num=1, train_loss_step=1.91e+4, train_loss_epoch=1.84e+4]"
     ]
    },
    {
     "name": "stdout",
     "output_type": "stream",
     "text": [
      "\r",
      "Epoch 204/500:  41%|████      | 204/500 [01:30<02:09,  2.28it/s, v_num=1, train_loss_step=1.91e+4, train_loss_epoch=1.84e+4]"
     ]
    },
    {
     "name": "stdout",
     "output_type": "stream",
     "text": [
      "\r",
      "Epoch 204/500:  41%|████      | 204/500 [01:30<02:09,  2.28it/s, v_num=1, train_loss_step=1.82e+4, train_loss_epoch=1.84e+4]"
     ]
    },
    {
     "name": "stdout",
     "output_type": "stream",
     "text": [
      "\r",
      "Epoch 205/500:  41%|████      | 204/500 [01:30<02:09,  2.28it/s, v_num=1, train_loss_step=1.82e+4, train_loss_epoch=1.84e+4]"
     ]
    },
    {
     "name": "stdout",
     "output_type": "stream",
     "text": [
      "\r",
      "Epoch 205/500:  41%|████      | 205/500 [01:31<02:09,  2.28it/s, v_num=1, train_loss_step=1.82e+4, train_loss_epoch=1.84e+4]"
     ]
    },
    {
     "name": "stdout",
     "output_type": "stream",
     "text": [
      "\r",
      "Epoch 205/500:  41%|████      | 205/500 [01:31<02:09,  2.28it/s, v_num=1, train_loss_step=1.84e+4, train_loss_epoch=1.84e+4]"
     ]
    },
    {
     "name": "stdout",
     "output_type": "stream",
     "text": [
      "\r",
      "Epoch 206/500:  41%|████      | 205/500 [01:31<02:09,  2.28it/s, v_num=1, train_loss_step=1.84e+4, train_loss_epoch=1.84e+4]"
     ]
    },
    {
     "name": "stdout",
     "output_type": "stream",
     "text": [
      "\r",
      "Epoch 206/500:  41%|████      | 206/500 [01:31<02:08,  2.28it/s, v_num=1, train_loss_step=1.84e+4, train_loss_epoch=1.84e+4]"
     ]
    },
    {
     "name": "stdout",
     "output_type": "stream",
     "text": [
      "\r",
      "Epoch 206/500:  41%|████      | 206/500 [01:31<02:08,  2.28it/s, v_num=1, train_loss_step=1.79e+4, train_loss_epoch=1.84e+4]"
     ]
    },
    {
     "name": "stdout",
     "output_type": "stream",
     "text": [
      "\r",
      "Epoch 207/500:  41%|████      | 206/500 [01:31<02:08,  2.28it/s, v_num=1, train_loss_step=1.79e+4, train_loss_epoch=1.84e+4]"
     ]
    },
    {
     "name": "stdout",
     "output_type": "stream",
     "text": [
      "\r",
      "Epoch 207/500:  41%|████▏     | 207/500 [01:32<02:08,  2.29it/s, v_num=1, train_loss_step=1.79e+4, train_loss_epoch=1.84e+4]"
     ]
    },
    {
     "name": "stdout",
     "output_type": "stream",
     "text": [
      "\r",
      "Epoch 207/500:  41%|████▏     | 207/500 [01:32<02:08,  2.29it/s, v_num=1, train_loss_step=1.96e+4, train_loss_epoch=1.84e+4]"
     ]
    },
    {
     "name": "stdout",
     "output_type": "stream",
     "text": [
      "\r",
      "Epoch 208/500:  41%|████▏     | 207/500 [01:32<02:08,  2.29it/s, v_num=1, train_loss_step=1.96e+4, train_loss_epoch=1.84e+4]"
     ]
    },
    {
     "name": "stdout",
     "output_type": "stream",
     "text": [
      "\r",
      "Epoch 208/500:  42%|████▏     | 208/500 [01:32<02:07,  2.29it/s, v_num=1, train_loss_step=1.96e+4, train_loss_epoch=1.84e+4]"
     ]
    },
    {
     "name": "stdout",
     "output_type": "stream",
     "text": [
      "\r",
      "Epoch 208/500:  42%|████▏     | 208/500 [01:32<02:07,  2.29it/s, v_num=1, train_loss_step=1.92e+4, train_loss_epoch=1.84e+4]"
     ]
    },
    {
     "name": "stdout",
     "output_type": "stream",
     "text": [
      "\r",
      "Epoch 209/500:  42%|████▏     | 208/500 [01:32<02:07,  2.29it/s, v_num=1, train_loss_step=1.92e+4, train_loss_epoch=1.84e+4]"
     ]
    },
    {
     "name": "stdout",
     "output_type": "stream",
     "text": [
      "\r",
      "Epoch 209/500:  42%|████▏     | 209/500 [01:33<02:07,  2.29it/s, v_num=1, train_loss_step=1.92e+4, train_loss_epoch=1.84e+4]"
     ]
    },
    {
     "name": "stdout",
     "output_type": "stream",
     "text": [
      "\r",
      "Epoch 209/500:  42%|████▏     | 209/500 [01:33<02:07,  2.29it/s, v_num=1, train_loss_step=1.73e+4, train_loss_epoch=1.84e+4]"
     ]
    },
    {
     "name": "stdout",
     "output_type": "stream",
     "text": [
      "\r",
      "Epoch 210/500:  42%|████▏     | 209/500 [01:33<02:07,  2.29it/s, v_num=1, train_loss_step=1.73e+4, train_loss_epoch=1.84e+4]"
     ]
    },
    {
     "name": "stdout",
     "output_type": "stream",
     "text": [
      "\r",
      "Epoch 210/500:  42%|████▏     | 210/500 [01:33<02:06,  2.28it/s, v_num=1, train_loss_step=1.73e+4, train_loss_epoch=1.84e+4]"
     ]
    },
    {
     "name": "stdout",
     "output_type": "stream",
     "text": [
      "\r",
      "Epoch 210/500:  42%|████▏     | 210/500 [01:33<02:06,  2.28it/s, v_num=1, train_loss_step=1.72e+4, train_loss_epoch=1.84e+4]"
     ]
    },
    {
     "name": "stdout",
     "output_type": "stream",
     "text": [
      "\r",
      "Epoch 211/500:  42%|████▏     | 210/500 [01:33<02:06,  2.28it/s, v_num=1, train_loss_step=1.72e+4, train_loss_epoch=1.84e+4]"
     ]
    },
    {
     "name": "stdout",
     "output_type": "stream",
     "text": [
      "\r",
      "Epoch 211/500:  42%|████▏     | 211/500 [01:33<02:06,  2.28it/s, v_num=1, train_loss_step=1.72e+4, train_loss_epoch=1.84e+4]"
     ]
    },
    {
     "name": "stdout",
     "output_type": "stream",
     "text": [
      "\r",
      "Epoch 211/500:  42%|████▏     | 211/500 [01:33<02:06,  2.28it/s, v_num=1, train_loss_step=2.02e+4, train_loss_epoch=1.84e+4]"
     ]
    },
    {
     "name": "stdout",
     "output_type": "stream",
     "text": [
      "\r",
      "Epoch 212/500:  42%|████▏     | 211/500 [01:33<02:06,  2.28it/s, v_num=1, train_loss_step=2.02e+4, train_loss_epoch=1.84e+4]"
     ]
    },
    {
     "name": "stdout",
     "output_type": "stream",
     "text": [
      "\r",
      "Epoch 212/500:  42%|████▏     | 212/500 [01:34<02:05,  2.29it/s, v_num=1, train_loss_step=2.02e+4, train_loss_epoch=1.84e+4]"
     ]
    },
    {
     "name": "stdout",
     "output_type": "stream",
     "text": [
      "\r",
      "Epoch 212/500:  42%|████▏     | 212/500 [01:34<02:05,  2.29it/s, v_num=1, train_loss_step=1.78e+4, train_loss_epoch=1.84e+4]"
     ]
    },
    {
     "name": "stdout",
     "output_type": "stream",
     "text": [
      "\r",
      "Epoch 213/500:  42%|████▏     | 212/500 [01:34<02:05,  2.29it/s, v_num=1, train_loss_step=1.78e+4, train_loss_epoch=1.84e+4]"
     ]
    },
    {
     "name": "stdout",
     "output_type": "stream",
     "text": [
      "\r",
      "Epoch 213/500:  43%|████▎     | 213/500 [01:34<02:05,  2.29it/s, v_num=1, train_loss_step=1.78e+4, train_loss_epoch=1.84e+4]"
     ]
    },
    {
     "name": "stdout",
     "output_type": "stream",
     "text": [
      "\r",
      "Epoch 213/500:  43%|████▎     | 213/500 [01:34<02:05,  2.29it/s, v_num=1, train_loss_step=1.65e+4, train_loss_epoch=1.84e+4]"
     ]
    },
    {
     "name": "stdout",
     "output_type": "stream",
     "text": [
      "\r",
      "Epoch 214/500:  43%|████▎     | 213/500 [01:34<02:05,  2.29it/s, v_num=1, train_loss_step=1.65e+4, train_loss_epoch=1.84e+4]"
     ]
    },
    {
     "name": "stdout",
     "output_type": "stream",
     "text": [
      "\r",
      "Epoch 214/500:  43%|████▎     | 214/500 [01:35<02:05,  2.29it/s, v_num=1, train_loss_step=1.65e+4, train_loss_epoch=1.84e+4]"
     ]
    },
    {
     "name": "stdout",
     "output_type": "stream",
     "text": [
      "\r",
      "Epoch 214/500:  43%|████▎     | 214/500 [01:35<02:05,  2.29it/s, v_num=1, train_loss_step=1.78e+4, train_loss_epoch=1.84e+4]"
     ]
    },
    {
     "name": "stdout",
     "output_type": "stream",
     "text": [
      "\r",
      "Epoch 215/500:  43%|████▎     | 214/500 [01:35<02:05,  2.29it/s, v_num=1, train_loss_step=1.78e+4, train_loss_epoch=1.84e+4]"
     ]
    },
    {
     "name": "stdout",
     "output_type": "stream",
     "text": [
      "\r",
      "Epoch 215/500:  43%|████▎     | 215/500 [01:35<02:04,  2.29it/s, v_num=1, train_loss_step=1.78e+4, train_loss_epoch=1.84e+4]"
     ]
    },
    {
     "name": "stdout",
     "output_type": "stream",
     "text": [
      "\r",
      "Epoch 215/500:  43%|████▎     | 215/500 [01:35<02:04,  2.29it/s, v_num=1, train_loss_step=1.72e+4, train_loss_epoch=1.84e+4]"
     ]
    },
    {
     "name": "stdout",
     "output_type": "stream",
     "text": [
      "\r",
      "Epoch 216/500:  43%|████▎     | 215/500 [01:35<02:04,  2.29it/s, v_num=1, train_loss_step=1.72e+4, train_loss_epoch=1.84e+4]"
     ]
    },
    {
     "name": "stdout",
     "output_type": "stream",
     "text": [
      "\r",
      "Epoch 216/500:  43%|████▎     | 216/500 [01:36<02:04,  2.29it/s, v_num=1, train_loss_step=1.72e+4, train_loss_epoch=1.84e+4]"
     ]
    },
    {
     "name": "stdout",
     "output_type": "stream",
     "text": [
      "\r",
      "Epoch 216/500:  43%|████▎     | 216/500 [01:36<02:04,  2.29it/s, v_num=1, train_loss_step=1.87e+4, train_loss_epoch=1.84e+4]"
     ]
    },
    {
     "name": "stdout",
     "output_type": "stream",
     "text": [
      "\r",
      "Epoch 217/500:  43%|████▎     | 216/500 [01:36<02:04,  2.29it/s, v_num=1, train_loss_step=1.87e+4, train_loss_epoch=1.84e+4]"
     ]
    },
    {
     "name": "stdout",
     "output_type": "stream",
     "text": [
      "\r",
      "Epoch 217/500:  43%|████▎     | 217/500 [01:36<02:03,  2.29it/s, v_num=1, train_loss_step=1.87e+4, train_loss_epoch=1.84e+4]"
     ]
    },
    {
     "name": "stdout",
     "output_type": "stream",
     "text": [
      "\r",
      "Epoch 217/500:  43%|████▎     | 217/500 [01:36<02:03,  2.29it/s, v_num=1, train_loss_step=1.88e+4, train_loss_epoch=1.84e+4]"
     ]
    },
    {
     "name": "stdout",
     "output_type": "stream",
     "text": [
      "\r",
      "Epoch 218/500:  43%|████▎     | 217/500 [01:36<02:03,  2.29it/s, v_num=1, train_loss_step=1.88e+4, train_loss_epoch=1.84e+4]"
     ]
    },
    {
     "name": "stdout",
     "output_type": "stream",
     "text": [
      "\r",
      "Epoch 218/500:  44%|████▎     | 218/500 [01:37<02:03,  2.28it/s, v_num=1, train_loss_step=1.88e+4, train_loss_epoch=1.84e+4]"
     ]
    },
    {
     "name": "stdout",
     "output_type": "stream",
     "text": [
      "\r",
      "Epoch 218/500:  44%|████▎     | 218/500 [01:37<02:03,  2.28it/s, v_num=1, train_loss_step=1.94e+4, train_loss_epoch=1.84e+4]"
     ]
    },
    {
     "name": "stdout",
     "output_type": "stream",
     "text": [
      "\r",
      "Epoch 219/500:  44%|████▎     | 218/500 [01:37<02:03,  2.28it/s, v_num=1, train_loss_step=1.94e+4, train_loss_epoch=1.84e+4]"
     ]
    },
    {
     "name": "stdout",
     "output_type": "stream",
     "text": [
      "\r",
      "Epoch 219/500:  44%|████▍     | 219/500 [01:37<02:02,  2.29it/s, v_num=1, train_loss_step=1.94e+4, train_loss_epoch=1.84e+4]"
     ]
    },
    {
     "name": "stdout",
     "output_type": "stream",
     "text": [
      "\r",
      "Epoch 219/500:  44%|████▍     | 219/500 [01:37<02:02,  2.29it/s, v_num=1, train_loss_step=1.87e+4, train_loss_epoch=1.84e+4]"
     ]
    },
    {
     "name": "stdout",
     "output_type": "stream",
     "text": [
      "\r",
      "Epoch 220/500:  44%|████▍     | 219/500 [01:37<02:02,  2.29it/s, v_num=1, train_loss_step=1.87e+4, train_loss_epoch=1.84e+4]"
     ]
    },
    {
     "name": "stdout",
     "output_type": "stream",
     "text": [
      "\r",
      "Epoch 220/500:  44%|████▍     | 220/500 [01:37<02:02,  2.28it/s, v_num=1, train_loss_step=1.87e+4, train_loss_epoch=1.84e+4]"
     ]
    },
    {
     "name": "stdout",
     "output_type": "stream",
     "text": [
      "\r",
      "Epoch 220/500:  44%|████▍     | 220/500 [01:37<02:02,  2.28it/s, v_num=1, train_loss_step=1.9e+4, train_loss_epoch=1.84e+4] "
     ]
    },
    {
     "name": "stdout",
     "output_type": "stream",
     "text": [
      "\r",
      "Epoch 221/500:  44%|████▍     | 220/500 [01:37<02:02,  2.28it/s, v_num=1, train_loss_step=1.9e+4, train_loss_epoch=1.84e+4]"
     ]
    },
    {
     "name": "stdout",
     "output_type": "stream",
     "text": [
      "\r",
      "Epoch 221/500:  44%|████▍     | 221/500 [01:38<02:02,  2.28it/s, v_num=1, train_loss_step=1.9e+4, train_loss_epoch=1.84e+4]"
     ]
    },
    {
     "name": "stdout",
     "output_type": "stream",
     "text": [
      "\r",
      "Epoch 221/500:  44%|████▍     | 221/500 [01:38<02:02,  2.28it/s, v_num=1, train_loss_step=1.86e+4, train_loss_epoch=1.84e+4]"
     ]
    },
    {
     "name": "stdout",
     "output_type": "stream",
     "text": [
      "\r",
      "Epoch 222/500:  44%|████▍     | 221/500 [01:38<02:02,  2.28it/s, v_num=1, train_loss_step=1.86e+4, train_loss_epoch=1.84e+4]"
     ]
    },
    {
     "name": "stdout",
     "output_type": "stream",
     "text": [
      "\r",
      "Epoch 222/500:  44%|████▍     | 222/500 [01:38<02:01,  2.28it/s, v_num=1, train_loss_step=1.86e+4, train_loss_epoch=1.84e+4]"
     ]
    },
    {
     "name": "stdout",
     "output_type": "stream",
     "text": [
      "\r",
      "Epoch 222/500:  44%|████▍     | 222/500 [01:38<02:01,  2.28it/s, v_num=1, train_loss_step=1.83e+4, train_loss_epoch=1.84e+4]"
     ]
    },
    {
     "name": "stdout",
     "output_type": "stream",
     "text": [
      "\r",
      "Epoch 223/500:  44%|████▍     | 222/500 [01:38<02:01,  2.28it/s, v_num=1, train_loss_step=1.83e+4, train_loss_epoch=1.84e+4]"
     ]
    },
    {
     "name": "stdout",
     "output_type": "stream",
     "text": [
      "\r",
      "Epoch 223/500:  45%|████▍     | 223/500 [01:39<02:01,  2.28it/s, v_num=1, train_loss_step=1.83e+4, train_loss_epoch=1.84e+4]"
     ]
    },
    {
     "name": "stdout",
     "output_type": "stream",
     "text": [
      "\r",
      "Epoch 223/500:  45%|████▍     | 223/500 [01:39<02:01,  2.28it/s, v_num=1, train_loss_step=1.83e+4, train_loss_epoch=1.84e+4]"
     ]
    },
    {
     "name": "stdout",
     "output_type": "stream",
     "text": [
      "\r",
      "Epoch 224/500:  45%|████▍     | 223/500 [01:39<02:01,  2.28it/s, v_num=1, train_loss_step=1.83e+4, train_loss_epoch=1.84e+4]"
     ]
    },
    {
     "name": "stdout",
     "output_type": "stream",
     "text": [
      "\r",
      "Epoch 224/500:  45%|████▍     | 224/500 [01:39<02:00,  2.28it/s, v_num=1, train_loss_step=1.83e+4, train_loss_epoch=1.84e+4]"
     ]
    },
    {
     "name": "stdout",
     "output_type": "stream",
     "text": [
      "\r",
      "Epoch 224/500:  45%|████▍     | 224/500 [01:39<02:00,  2.28it/s, v_num=1, train_loss_step=1.75e+4, train_loss_epoch=1.84e+4]"
     ]
    },
    {
     "name": "stdout",
     "output_type": "stream",
     "text": [
      "\r",
      "Epoch 225/500:  45%|████▍     | 224/500 [01:39<02:00,  2.28it/s, v_num=1, train_loss_step=1.75e+4, train_loss_epoch=1.84e+4]"
     ]
    },
    {
     "name": "stdout",
     "output_type": "stream",
     "text": [
      "\r",
      "Epoch 225/500:  45%|████▌     | 225/500 [01:40<02:00,  2.28it/s, v_num=1, train_loss_step=1.75e+4, train_loss_epoch=1.84e+4]"
     ]
    },
    {
     "name": "stdout",
     "output_type": "stream",
     "text": [
      "\r",
      "Epoch 225/500:  45%|████▌     | 225/500 [01:40<02:00,  2.28it/s, v_num=1, train_loss_step=1.67e+4, train_loss_epoch=1.84e+4]"
     ]
    },
    {
     "name": "stdout",
     "output_type": "stream",
     "text": [
      "\r",
      "Epoch 226/500:  45%|████▌     | 225/500 [01:40<02:00,  2.28it/s, v_num=1, train_loss_step=1.67e+4, train_loss_epoch=1.84e+4]"
     ]
    },
    {
     "name": "stdout",
     "output_type": "stream",
     "text": [
      "\r",
      "Epoch 226/500:  45%|████▌     | 226/500 [01:40<02:00,  2.28it/s, v_num=1, train_loss_step=1.67e+4, train_loss_epoch=1.84e+4]"
     ]
    },
    {
     "name": "stdout",
     "output_type": "stream",
     "text": [
      "\r",
      "Epoch 226/500:  45%|████▌     | 226/500 [01:40<02:00,  2.28it/s, v_num=1, train_loss_step=1.85e+4, train_loss_epoch=1.84e+4]"
     ]
    },
    {
     "name": "stdout",
     "output_type": "stream",
     "text": [
      "\r",
      "Epoch 227/500:  45%|████▌     | 226/500 [01:40<02:00,  2.28it/s, v_num=1, train_loss_step=1.85e+4, train_loss_epoch=1.84e+4]"
     ]
    },
    {
     "name": "stdout",
     "output_type": "stream",
     "text": [
      "\r",
      "Epoch 227/500:  45%|████▌     | 227/500 [01:40<01:59,  2.28it/s, v_num=1, train_loss_step=1.85e+4, train_loss_epoch=1.84e+4]"
     ]
    },
    {
     "name": "stdout",
     "output_type": "stream",
     "text": [
      "\r",
      "Epoch 227/500:  45%|████▌     | 227/500 [01:40<01:59,  2.28it/s, v_num=1, train_loss_step=1.86e+4, train_loss_epoch=1.84e+4]"
     ]
    },
    {
     "name": "stdout",
     "output_type": "stream",
     "text": [
      "\r",
      "Epoch 228/500:  45%|████▌     | 227/500 [01:40<01:59,  2.28it/s, v_num=1, train_loss_step=1.86e+4, train_loss_epoch=1.84e+4]"
     ]
    },
    {
     "name": "stdout",
     "output_type": "stream",
     "text": [
      "\r",
      "Epoch 228/500:  46%|████▌     | 228/500 [01:41<01:59,  2.28it/s, v_num=1, train_loss_step=1.86e+4, train_loss_epoch=1.84e+4]"
     ]
    },
    {
     "name": "stdout",
     "output_type": "stream",
     "text": [
      "\r",
      "Epoch 228/500:  46%|████▌     | 228/500 [01:41<01:59,  2.28it/s, v_num=1, train_loss_step=1.91e+4, train_loss_epoch=1.84e+4]"
     ]
    },
    {
     "name": "stdout",
     "output_type": "stream",
     "text": [
      "\r",
      "Epoch 229/500:  46%|████▌     | 228/500 [01:41<01:59,  2.28it/s, v_num=1, train_loss_step=1.91e+4, train_loss_epoch=1.84e+4]"
     ]
    },
    {
     "name": "stdout",
     "output_type": "stream",
     "text": [
      "\r",
      "Epoch 229/500:  46%|████▌     | 229/500 [01:41<01:58,  2.28it/s, v_num=1, train_loss_step=1.91e+4, train_loss_epoch=1.84e+4]"
     ]
    },
    {
     "name": "stdout",
     "output_type": "stream",
     "text": [
      "\r",
      "Epoch 229/500:  46%|████▌     | 229/500 [01:41<01:58,  2.28it/s, v_num=1, train_loss_step=1.83e+4, train_loss_epoch=1.84e+4]"
     ]
    },
    {
     "name": "stdout",
     "output_type": "stream",
     "text": [
      "\r",
      "Epoch 230/500:  46%|████▌     | 229/500 [01:41<01:58,  2.28it/s, v_num=1, train_loss_step=1.83e+4, train_loss_epoch=1.84e+4]"
     ]
    },
    {
     "name": "stdout",
     "output_type": "stream",
     "text": [
      "\r",
      "Epoch 230/500:  46%|████▌     | 230/500 [01:42<01:58,  2.28it/s, v_num=1, train_loss_step=1.83e+4, train_loss_epoch=1.84e+4]"
     ]
    },
    {
     "name": "stdout",
     "output_type": "stream",
     "text": [
      "\r",
      "Epoch 230/500:  46%|████▌     | 230/500 [01:42<01:58,  2.28it/s, v_num=1, train_loss_step=1.92e+4, train_loss_epoch=1.84e+4]"
     ]
    },
    {
     "name": "stdout",
     "output_type": "stream",
     "text": [
      "\r",
      "Epoch 231/500:  46%|████▌     | 230/500 [01:42<01:58,  2.28it/s, v_num=1, train_loss_step=1.92e+4, train_loss_epoch=1.84e+4]"
     ]
    },
    {
     "name": "stdout",
     "output_type": "stream",
     "text": [
      "\r",
      "Epoch 231/500:  46%|████▌     | 231/500 [01:42<01:57,  2.28it/s, v_num=1, train_loss_step=1.92e+4, train_loss_epoch=1.84e+4]"
     ]
    },
    {
     "name": "stdout",
     "output_type": "stream",
     "text": [
      "\r",
      "Epoch 231/500:  46%|████▌     | 231/500 [01:42<01:57,  2.28it/s, v_num=1, train_loss_step=1.73e+4, train_loss_epoch=1.84e+4]"
     ]
    },
    {
     "name": "stdout",
     "output_type": "stream",
     "text": [
      "\r",
      "Epoch 232/500:  46%|████▌     | 231/500 [01:42<01:57,  2.28it/s, v_num=1, train_loss_step=1.73e+4, train_loss_epoch=1.84e+4]"
     ]
    },
    {
     "name": "stdout",
     "output_type": "stream",
     "text": [
      "\r",
      "Epoch 232/500:  46%|████▋     | 232/500 [01:43<01:57,  2.28it/s, v_num=1, train_loss_step=1.73e+4, train_loss_epoch=1.84e+4]"
     ]
    },
    {
     "name": "stdout",
     "output_type": "stream",
     "text": [
      "\r",
      "Epoch 232/500:  46%|████▋     | 232/500 [01:43<01:57,  2.28it/s, v_num=1, train_loss_step=1.76e+4, train_loss_epoch=1.84e+4]"
     ]
    },
    {
     "name": "stdout",
     "output_type": "stream",
     "text": [
      "\r",
      "Epoch 233/500:  46%|████▋     | 232/500 [01:43<01:57,  2.28it/s, v_num=1, train_loss_step=1.76e+4, train_loss_epoch=1.84e+4]"
     ]
    },
    {
     "name": "stdout",
     "output_type": "stream",
     "text": [
      "\r",
      "Epoch 233/500:  47%|████▋     | 233/500 [01:43<01:56,  2.28it/s, v_num=1, train_loss_step=1.76e+4, train_loss_epoch=1.84e+4]"
     ]
    },
    {
     "name": "stdout",
     "output_type": "stream",
     "text": [
      "\r",
      "Epoch 233/500:  47%|████▋     | 233/500 [01:43<01:56,  2.28it/s, v_num=1, train_loss_step=1.77e+4, train_loss_epoch=1.84e+4]"
     ]
    },
    {
     "name": "stdout",
     "output_type": "stream",
     "text": [
      "\r",
      "Epoch 234/500:  47%|████▋     | 233/500 [01:43<01:56,  2.28it/s, v_num=1, train_loss_step=1.77e+4, train_loss_epoch=1.84e+4]"
     ]
    },
    {
     "name": "stdout",
     "output_type": "stream",
     "text": [
      "\r",
      "Epoch 234/500:  47%|████▋     | 234/500 [01:44<01:56,  2.28it/s, v_num=1, train_loss_step=1.77e+4, train_loss_epoch=1.84e+4]"
     ]
    },
    {
     "name": "stdout",
     "output_type": "stream",
     "text": [
      "\r",
      "Epoch 234/500:  47%|████▋     | 234/500 [01:44<01:56,  2.28it/s, v_num=1, train_loss_step=1.8e+4, train_loss_epoch=1.84e+4] "
     ]
    },
    {
     "name": "stdout",
     "output_type": "stream",
     "text": [
      "\r",
      "Epoch 235/500:  47%|████▋     | 234/500 [01:44<01:56,  2.28it/s, v_num=1, train_loss_step=1.8e+4, train_loss_epoch=1.84e+4]"
     ]
    },
    {
     "name": "stdout",
     "output_type": "stream",
     "text": [
      "\r",
      "Epoch 235/500:  47%|████▋     | 235/500 [01:44<01:56,  2.28it/s, v_num=1, train_loss_step=1.8e+4, train_loss_epoch=1.84e+4]"
     ]
    },
    {
     "name": "stdout",
     "output_type": "stream",
     "text": [
      "\r",
      "Epoch 235/500:  47%|████▋     | 235/500 [01:44<01:56,  2.28it/s, v_num=1, train_loss_step=1.95e+4, train_loss_epoch=1.84e+4]"
     ]
    },
    {
     "name": "stdout",
     "output_type": "stream",
     "text": [
      "\r",
      "Epoch 236/500:  47%|████▋     | 235/500 [01:44<01:56,  2.28it/s, v_num=1, train_loss_step=1.95e+4, train_loss_epoch=1.84e+4]"
     ]
    },
    {
     "name": "stdout",
     "output_type": "stream",
     "text": [
      "\r",
      "Epoch 236/500:  47%|████▋     | 236/500 [01:44<01:55,  2.29it/s, v_num=1, train_loss_step=1.95e+4, train_loss_epoch=1.84e+4]"
     ]
    },
    {
     "name": "stdout",
     "output_type": "stream",
     "text": [
      "\r",
      "Epoch 236/500:  47%|████▋     | 236/500 [01:44<01:55,  2.29it/s, v_num=1, train_loss_step=1.73e+4, train_loss_epoch=1.84e+4]"
     ]
    },
    {
     "name": "stdout",
     "output_type": "stream",
     "text": [
      "\r",
      "Epoch 237/500:  47%|████▋     | 236/500 [01:44<01:55,  2.29it/s, v_num=1, train_loss_step=1.73e+4, train_loss_epoch=1.84e+4]"
     ]
    },
    {
     "name": "stdout",
     "output_type": "stream",
     "text": [
      "\r",
      "Epoch 237/500:  47%|████▋     | 237/500 [01:45<01:55,  2.28it/s, v_num=1, train_loss_step=1.73e+4, train_loss_epoch=1.84e+4]"
     ]
    },
    {
     "name": "stdout",
     "output_type": "stream",
     "text": [
      "\r",
      "Epoch 237/500:  47%|████▋     | 237/500 [01:45<01:55,  2.28it/s, v_num=1, train_loss_step=2.08e+4, train_loss_epoch=1.84e+4]"
     ]
    },
    {
     "name": "stdout",
     "output_type": "stream",
     "text": [
      "\r",
      "Epoch 238/500:  47%|████▋     | 237/500 [01:45<01:55,  2.28it/s, v_num=1, train_loss_step=2.08e+4, train_loss_epoch=1.84e+4]"
     ]
    },
    {
     "name": "stdout",
     "output_type": "stream",
     "text": [
      "\r",
      "Epoch 238/500:  48%|████▊     | 238/500 [01:45<01:54,  2.28it/s, v_num=1, train_loss_step=2.08e+4, train_loss_epoch=1.84e+4]"
     ]
    },
    {
     "name": "stdout",
     "output_type": "stream",
     "text": [
      "\r",
      "Epoch 238/500:  48%|████▊     | 238/500 [01:45<01:54,  2.28it/s, v_num=1, train_loss_step=1.73e+4, train_loss_epoch=1.84e+4]"
     ]
    },
    {
     "name": "stdout",
     "output_type": "stream",
     "text": [
      "\r",
      "Epoch 239/500:  48%|████▊     | 238/500 [01:45<01:54,  2.28it/s, v_num=1, train_loss_step=1.73e+4, train_loss_epoch=1.84e+4]"
     ]
    },
    {
     "name": "stdout",
     "output_type": "stream",
     "text": [
      "\r",
      "Epoch 239/500:  48%|████▊     | 239/500 [01:46<01:54,  2.28it/s, v_num=1, train_loss_step=1.73e+4, train_loss_epoch=1.84e+4]"
     ]
    },
    {
     "name": "stdout",
     "output_type": "stream",
     "text": [
      "\r",
      "Epoch 239/500:  48%|████▊     | 239/500 [01:46<01:54,  2.28it/s, v_num=1, train_loss_step=1.75e+4, train_loss_epoch=1.84e+4]"
     ]
    },
    {
     "name": "stdout",
     "output_type": "stream",
     "text": [
      "\r",
      "Epoch 240/500:  48%|████▊     | 239/500 [01:46<01:54,  2.28it/s, v_num=1, train_loss_step=1.75e+4, train_loss_epoch=1.84e+4]"
     ]
    },
    {
     "name": "stdout",
     "output_type": "stream",
     "text": [
      "\r",
      "Epoch 240/500:  48%|████▊     | 240/500 [01:46<01:53,  2.28it/s, v_num=1, train_loss_step=1.75e+4, train_loss_epoch=1.84e+4]"
     ]
    },
    {
     "name": "stdout",
     "output_type": "stream",
     "text": [
      "\r",
      "Epoch 240/500:  48%|████▊     | 240/500 [01:46<01:53,  2.28it/s, v_num=1, train_loss_step=1.79e+4, train_loss_epoch=1.84e+4]"
     ]
    },
    {
     "name": "stdout",
     "output_type": "stream",
     "text": [
      "\r",
      "Epoch 241/500:  48%|████▊     | 240/500 [01:46<01:53,  2.28it/s, v_num=1, train_loss_step=1.79e+4, train_loss_epoch=1.84e+4]"
     ]
    },
    {
     "name": "stdout",
     "output_type": "stream",
     "text": [
      "\r",
      "Epoch 241/500:  48%|████▊     | 241/500 [01:47<01:53,  2.28it/s, v_num=1, train_loss_step=1.79e+4, train_loss_epoch=1.84e+4]"
     ]
    },
    {
     "name": "stdout",
     "output_type": "stream",
     "text": [
      "\r",
      "Epoch 241/500:  48%|████▊     | 241/500 [01:47<01:53,  2.28it/s, v_num=1, train_loss_step=1.82e+4, train_loss_epoch=1.84e+4]"
     ]
    },
    {
     "name": "stdout",
     "output_type": "stream",
     "text": [
      "\r",
      "Epoch 242/500:  48%|████▊     | 241/500 [01:47<01:53,  2.28it/s, v_num=1, train_loss_step=1.82e+4, train_loss_epoch=1.84e+4]"
     ]
    },
    {
     "name": "stdout",
     "output_type": "stream",
     "text": [
      "\r",
      "Epoch 242/500:  48%|████▊     | 242/500 [01:47<01:52,  2.28it/s, v_num=1, train_loss_step=1.82e+4, train_loss_epoch=1.84e+4]"
     ]
    },
    {
     "name": "stdout",
     "output_type": "stream",
     "text": [
      "\r",
      "Epoch 242/500:  48%|████▊     | 242/500 [01:47<01:52,  2.28it/s, v_num=1, train_loss_step=1.77e+4, train_loss_epoch=1.84e+4]"
     ]
    },
    {
     "name": "stdout",
     "output_type": "stream",
     "text": [
      "\r",
      "Epoch 243/500:  48%|████▊     | 242/500 [01:47<01:52,  2.28it/s, v_num=1, train_loss_step=1.77e+4, train_loss_epoch=1.84e+4]"
     ]
    },
    {
     "name": "stdout",
     "output_type": "stream",
     "text": [
      "\r",
      "Epoch 243/500:  49%|████▊     | 243/500 [01:47<01:52,  2.28it/s, v_num=1, train_loss_step=1.77e+4, train_loss_epoch=1.84e+4]"
     ]
    },
    {
     "name": "stdout",
     "output_type": "stream",
     "text": [
      "\r",
      "Epoch 243/500:  49%|████▊     | 243/500 [01:47<01:52,  2.28it/s, v_num=1, train_loss_step=1.83e+4, train_loss_epoch=1.84e+4]"
     ]
    },
    {
     "name": "stdout",
     "output_type": "stream",
     "text": [
      "\r",
      "Epoch 244/500:  49%|████▊     | 243/500 [01:47<01:52,  2.28it/s, v_num=1, train_loss_step=1.83e+4, train_loss_epoch=1.84e+4]"
     ]
    },
    {
     "name": "stdout",
     "output_type": "stream",
     "text": [
      "\r",
      "Epoch 244/500:  49%|████▉     | 244/500 [01:48<01:52,  2.29it/s, v_num=1, train_loss_step=1.83e+4, train_loss_epoch=1.84e+4]"
     ]
    },
    {
     "name": "stdout",
     "output_type": "stream",
     "text": [
      "\r",
      "Epoch 244/500:  49%|████▉     | 244/500 [01:48<01:52,  2.29it/s, v_num=1, train_loss_step=1.89e+4, train_loss_epoch=1.84e+4]"
     ]
    },
    {
     "name": "stdout",
     "output_type": "stream",
     "text": [
      "\r",
      "Epoch 245/500:  49%|████▉     | 244/500 [01:48<01:52,  2.29it/s, v_num=1, train_loss_step=1.89e+4, train_loss_epoch=1.84e+4]"
     ]
    },
    {
     "name": "stdout",
     "output_type": "stream",
     "text": [
      "\r",
      "Epoch 245/500:  49%|████▉     | 245/500 [01:48<01:51,  2.28it/s, v_num=1, train_loss_step=1.89e+4, train_loss_epoch=1.84e+4]"
     ]
    },
    {
     "name": "stdout",
     "output_type": "stream",
     "text": [
      "\r",
      "Epoch 245/500:  49%|████▉     | 245/500 [01:48<01:51,  2.28it/s, v_num=1, train_loss_step=1.79e+4, train_loss_epoch=1.84e+4]"
     ]
    },
    {
     "name": "stdout",
     "output_type": "stream",
     "text": [
      "\r",
      "Epoch 246/500:  49%|████▉     | 245/500 [01:48<01:51,  2.28it/s, v_num=1, train_loss_step=1.79e+4, train_loss_epoch=1.84e+4]"
     ]
    },
    {
     "name": "stdout",
     "output_type": "stream",
     "text": [
      "\r",
      "Epoch 246/500:  49%|████▉     | 246/500 [01:49<01:51,  2.28it/s, v_num=1, train_loss_step=1.79e+4, train_loss_epoch=1.84e+4]"
     ]
    },
    {
     "name": "stdout",
     "output_type": "stream",
     "text": [
      "\r",
      "Epoch 246/500:  49%|████▉     | 246/500 [01:49<01:51,  2.28it/s, v_num=1, train_loss_step=1.77e+4, train_loss_epoch=1.84e+4]"
     ]
    },
    {
     "name": "stdout",
     "output_type": "stream",
     "text": [
      "\r",
      "Epoch 247/500:  49%|████▉     | 246/500 [01:49<01:51,  2.28it/s, v_num=1, train_loss_step=1.77e+4, train_loss_epoch=1.84e+4]"
     ]
    },
    {
     "name": "stdout",
     "output_type": "stream",
     "text": [
      "\r",
      "Epoch 247/500:  49%|████▉     | 247/500 [01:49<01:50,  2.28it/s, v_num=1, train_loss_step=1.77e+4, train_loss_epoch=1.84e+4]"
     ]
    },
    {
     "name": "stdout",
     "output_type": "stream",
     "text": [
      "\r",
      "Epoch 247/500:  49%|████▉     | 247/500 [01:49<01:50,  2.28it/s, v_num=1, train_loss_step=1.92e+4, train_loss_epoch=1.84e+4]"
     ]
    },
    {
     "name": "stdout",
     "output_type": "stream",
     "text": [
      "\r",
      "Epoch 248/500:  49%|████▉     | 247/500 [01:49<01:50,  2.28it/s, v_num=1, train_loss_step=1.92e+4, train_loss_epoch=1.84e+4]"
     ]
    },
    {
     "name": "stdout",
     "output_type": "stream",
     "text": [
      "\r",
      "Epoch 248/500:  50%|████▉     | 248/500 [01:50<01:50,  2.28it/s, v_num=1, train_loss_step=1.92e+4, train_loss_epoch=1.84e+4]"
     ]
    },
    {
     "name": "stdout",
     "output_type": "stream",
     "text": [
      "\r",
      "Epoch 248/500:  50%|████▉     | 248/500 [01:50<01:50,  2.28it/s, v_num=1, train_loss_step=1.76e+4, train_loss_epoch=1.84e+4]"
     ]
    },
    {
     "name": "stdout",
     "output_type": "stream",
     "text": [
      "\r",
      "Epoch 248/500:  50%|████▉     | 248/500 [01:50<01:51,  2.25it/s, v_num=1, train_loss_step=1.76e+4, train_loss_epoch=1.84e+4]"
     ]
    },
    {
     "name": "stdout",
     "output_type": "stream",
     "text": [
      "\n",
      "Monitored metric reconstruction_loss_validation did not improve in the last 50 records. Best score: 18672.771. Signaling Trainer to stop.\n"
     ]
    }
   ],
   "source": [
    "model = scvi.external.POISSONVI(adata)\n",
    "model.train()"
   ]
  },
  {
   "cell_type": "markdown",
   "metadata": {},
   "source": [
    "Since training a model can take a while, we recommend saving the trained model after training, just in case."
   ]
  },
  {
   "cell_type": "code",
   "execution_count": 17,
   "metadata": {
    "execution": {
     "iopub.execute_input": "2024-02-12T17:37:31.921976Z",
     "iopub.status.busy": "2024-02-12T17:37:31.921804Z",
     "iopub.status.idle": "2024-02-12T17:37:31.924022Z",
     "shell.execute_reply": "2024-02-12T17:37:31.923726Z"
    },
    "tags": []
   },
   "outputs": [],
   "source": [
    "model_dir = os.path.join(save_dir.name, \"poissonvi_pbmc\")"
   ]
  },
  {
   "cell_type": "code",
   "execution_count": 18,
   "metadata": {
    "execution": {
     "iopub.execute_input": "2024-02-12T17:37:31.925550Z",
     "iopub.status.busy": "2024-02-12T17:37:31.925335Z",
     "iopub.status.idle": "2024-02-12T17:37:32.031232Z",
     "shell.execute_reply": "2024-02-12T17:37:32.030758Z"
    },
    "tags": []
   },
   "outputs": [],
   "source": [
    "model.save(model_dir, overwrite=True)"
   ]
  },
  {
   "cell_type": "markdown",
   "metadata": {},
   "source": [
    "We can then load the model later, which require providing an AnnData object that is structured similarly to the one used for training (or, in most cases, the same one):"
   ]
  },
  {
   "cell_type": "code",
   "execution_count": 19,
   "metadata": {
    "execution": {
     "iopub.execute_input": "2024-02-12T17:37:32.032991Z",
     "iopub.status.busy": "2024-02-12T17:37:32.032861Z",
     "iopub.status.idle": "2024-02-12T17:37:32.424767Z",
     "shell.execute_reply": "2024-02-12T17:37:32.424294Z"
    },
    "tags": []
   },
   "outputs": [
    {
     "name": "stdout",
     "output_type": "stream",
     "text": [
      "\u001b[34mINFO    \u001b[0m File \u001b[35m/tmp/tmp_udwzwzp/poissonvi_pbmc/\u001b[0m\u001b[95mmodel.pt\u001b[0m already downloaded                                          \n"
     ]
    }
   ],
   "source": [
    "model = scvi.external.POISSONVI.load(model_dir, adata=adata)"
   ]
  },
  {
   "cell_type": "markdown",
   "metadata": {},
   "source": [
    "## Visualizing and analyzing the latent space\n",
    "\n",
    "We can now use the trained model to visualize, cluster, and analyze the data. We first extract the latent representation from the model, and save it back into our AnnData object:"
   ]
  },
  {
   "cell_type": "code",
   "execution_count": 20,
   "metadata": {
    "execution": {
     "iopub.execute_input": "2024-02-12T17:37:32.426595Z",
     "iopub.status.busy": "2024-02-12T17:37:32.426468Z",
     "iopub.status.idle": "2024-02-12T17:37:32.675567Z",
     "shell.execute_reply": "2024-02-12T17:37:32.675248Z"
    },
    "tags": []
   },
   "outputs": [
    {
     "data": {
      "text/plain": [
       "(4585, 13)"
      ]
     },
     "execution_count": 20,
     "metadata": {},
     "output_type": "execute_result"
    }
   ],
   "source": [
    "POISSONVI_LATENT_KEY = \"X_poissonvi\"\n",
    "\n",
    "latent = model.get_latent_representation()\n",
    "adata.obsm[POISSONVI_LATENT_KEY] = latent\n",
    "latent.shape"
   ]
  },
  {
   "cell_type": "markdown",
   "metadata": {},
   "source": [
    "We can now use Scanpy to cluster and visualize our latent space:"
   ]
  },
  {
   "cell_type": "code",
   "execution_count": 21,
   "metadata": {
    "execution": {
     "iopub.execute_input": "2024-02-12T17:37:32.677167Z",
     "iopub.status.busy": "2024-02-12T17:37:32.677015Z",
     "iopub.status.idle": "2024-02-12T17:37:45.338868Z",
     "shell.execute_reply": "2024-02-12T17:37:45.338307Z"
    },
    "tags": []
   },
   "outputs": [],
   "source": [
    "POISSONVI_CLUSTERS_KEY = \"clusters_poissonvi\"\n",
    "\n",
    "# compute the k-nearest-neighbor graph that is used in both clustering and umap algorithms\n",
    "sc.pp.neighbors(adata, use_rep=POISSONVI_LATENT_KEY)\n",
    "# compute the umap\n",
    "sc.tl.umap(adata, min_dist=0.2)\n",
    "# cluster the space (we use a lower resolution to get fewer clusters than the default)\n",
    "sc.tl.leiden(adata, key_added=POISSONVI_CLUSTERS_KEY, resolution=0.2)"
   ]
  },
  {
   "cell_type": "code",
   "execution_count": 22,
   "metadata": {
    "execution": {
     "iopub.execute_input": "2024-02-12T17:37:45.340467Z",
     "iopub.status.busy": "2024-02-12T17:37:45.340335Z",
     "iopub.status.idle": "2024-02-12T17:37:45.498509Z",
     "shell.execute_reply": "2024-02-12T17:37:45.498074Z"
    },
    "tags": []
   },
   "outputs": [
    {
     "name": "stderr",
     "output_type": "stream",
     "text": [
      "/env/lib/python3.11/site-packages/scanpy/plotting/_tools/scatterplots.py:1234: FutureWarning: The default value of 'ignore' for the `na_action` parameter in pandas.Categorical.map is deprecated and will be changed to 'None' in a future version. Please set na_action to the desired value to avoid seeing this warning\n",
      "  color_vector = pd.Categorical(values.map(color_map))\n",
      "/env/lib/python3.11/site-packages/scanpy/plotting/_tools/scatterplots.py:394: UserWarning: No data for colormapping provided via 'c'. Parameters 'cmap' will be ignored\n",
      "  cax = scatter(\n"
     ]
    },
    {
     "data": {
      "image/png": "[encoded data removed]",
      "text/plain": [
       "<Figure size 320x320 with 1 Axes>"
      ]
     },
     "metadata": {
      "image/png": {
       "height": 277,
       "width": 306
      }
     },
     "output_type": "display_data"
    }
   ],
   "source": [
    "sc.pl.umap(adata, color=POISSONVI_CLUSTERS_KEY)"
   ]
  },
  {
   "cell_type": "markdown",
   "metadata": {},
   "source": [
    "## Differential accessibility\n",
    "\n",
    "Finally, we can use PoissonVI to identify regions that are differentially accessible. There are many different ways to run this analysis, but the simplest is comparing one cluster against all others, or comparing two clusters to each other. In this case we'll be looking for marker-regions, so we'll mostly want a one-sided test (the significant regions will only be the ones preferentially accessible in our target cluster).\n",
    "\n",
    "```{important}\n",
    "If the data includes multiple batches, we encourage setting `batch_correction=True` so the model will sample from multiple batches when computing the differential signal. \n",
    "```"
   ]
  },
  {
   "cell_type": "code",
   "execution_count": 23,
   "metadata": {
    "execution": {
     "iopub.execute_input": "2024-02-12T17:37:45.499957Z",
     "iopub.status.busy": "2024-02-12T17:37:45.499833Z",
     "iopub.status.idle": "2024-02-12T17:37:50.985744Z",
     "shell.execute_reply": "2024-02-12T17:37:50.985417Z"
    },
    "tags": []
   },
   "outputs": [
    {
     "name": "stdout",
     "output_type": "stream",
     "text": [
      "\r",
      "DE...:   0%|          | 0/1 [00:00<?, ?it/s]"
     ]
    },
    {
     "name": "stdout",
     "output_type": "stream",
     "text": [
      "\r",
      "DE...: 100%|██████████| 1/1 [00:05<00:00,  5.48s/it]"
     ]
    },
    {
     "name": "stdout",
     "output_type": "stream",
     "text": [
      "\r",
      "DE...: 100%|██████████| 1/1 [00:05<00:00,  5.48s/it]"
     ]
    },
    {
     "name": "stdout",
     "output_type": "stream",
     "text": [
      "\n"
     ]
    }
   ],
   "source": [
    "da_peaks = model.differential_accessibility(\n",
    "    adata, groupby=POISSONVI_CLUSTERS_KEY, group1=\"3\", two_sided=False\n",
    ")"
   ]
  },
  {
   "cell_type": "markdown",
   "metadata": {},
   "source": [
    "We will filter the results for peaks that are accessible in the cluster by filtering for peaks that are at least present in 5% of the cells in the cluster (`emp_prob1 > 0.05`)."
   ]
  },
  {
   "cell_type": "code",
   "execution_count": 24,
   "metadata": {
    "execution": {
     "iopub.execute_input": "2024-02-12T17:37:50.987245Z",
     "iopub.status.busy": "2024-02-12T17:37:50.987116Z",
     "iopub.status.idle": "2024-02-12T17:37:50.992294Z",
     "shell.execute_reply": "2024-02-12T17:37:50.991872Z"
    },
    "tags": []
   },
   "outputs": [],
   "source": [
    "da_peaks_filt = da_peaks[(da_peaks.emp_prob1 >= 0.05)]"
   ]
  },
  {
   "cell_type": "code",
   "execution_count": 25,
   "metadata": {
    "execution": {
     "iopub.execute_input": "2024-02-12T17:37:50.993790Z",
     "iopub.status.busy": "2024-02-12T17:37:50.993612Z",
     "iopub.status.idle": "2024-02-12T17:37:51.005703Z",
     "shell.execute_reply": "2024-02-12T17:37:51.005340Z"
    },
    "tags": []
   },
   "outputs": [
    {
     "data": {
      "text/html": [
       "<div>\n",
       "<style scoped>\n",
       "    .dataframe tbody tr th:only-of-type {\n",
       "        vertical-align: middle;\n",
       "    }\n",
       "\n",
       "    .dataframe tbody tr th {\n",
       "        vertical-align: top;\n",
       "    }\n",
       "\n",
       "    .dataframe thead th {\n",
       "        text-align: right;\n",
       "    }\n",
       "</style>\n",
       "<table border=\"1\" class=\"dataframe\">\n",
       "  <thead>\n",
       "    <tr style=\"text-align: right;\">\n",
       "      <th></th>\n",
       "      <th>proba_de</th>\n",
       "      <th>proba_not_de</th>\n",
       "      <th>bayes_factor</th>\n",
       "      <th>scale1</th>\n",
       "      <th>scale2</th>\n",
       "      <th>pseudocounts</th>\n",
       "      <th>delta</th>\n",
       "      <th>lfc_mean</th>\n",
       "      <th>lfc_median</th>\n",
       "      <th>lfc_std</th>\n",
       "      <th>lfc_min</th>\n",
       "      <th>lfc_max</th>\n",
       "      <th>emp_prob1</th>\n",
       "      <th>emp_prob2</th>\n",
       "      <th>emp_effect</th>\n",
       "      <th>is_de_fdr_0.05</th>\n",
       "      <th>comparison</th>\n",
       "      <th>group1</th>\n",
       "      <th>group2</th>\n",
       "    </tr>\n",
       "  </thead>\n",
       "  <tbody>\n",
       "    <tr>\n",
       "      <th>chr11:115373408-115375985</th>\n",
       "      <td>0.9970</td>\n",
       "      <td>0.0030</td>\n",
       "      <td>5.806135</td>\n",
       "      <td>0.000079</td>\n",
       "      <td>0.000018</td>\n",
       "      <td>0.0</td>\n",
       "      <td>0.05</td>\n",
       "      <td>2.518515</td>\n",
       "      <td>2.437192</td>\n",
       "      <td>1.208494</td>\n",
       "      <td>-0.611462</td>\n",
       "      <td>6.126089</td>\n",
       "      <td>0.550095</td>\n",
       "      <td>0.121302</td>\n",
       "      <td>0.428793</td>\n",
       "      <td>True</td>\n",
       "      <td>3 vs Rest</td>\n",
       "      <td>3</td>\n",
       "      <td>Rest</td>\n",
       "    </tr>\n",
       "    <tr>\n",
       "      <th>chr16:23493881-23495402</th>\n",
       "      <td>0.9956</td>\n",
       "      <td>0.0044</td>\n",
       "      <td>5.421739</td>\n",
       "      <td>0.000068</td>\n",
       "      <td>0.000003</td>\n",
       "      <td>0.0</td>\n",
       "      <td>0.05</td>\n",
       "      <td>5.564806</td>\n",
       "      <td>6.104351</td>\n",
       "      <td>1.920917</td>\n",
       "      <td>-1.356367</td>\n",
       "      <td>9.319690</td>\n",
       "      <td>0.468809</td>\n",
       "      <td>0.018245</td>\n",
       "      <td>0.450564</td>\n",
       "      <td>True</td>\n",
       "      <td>3 vs Rest</td>\n",
       "      <td>3</td>\n",
       "      <td>Rest</td>\n",
       "    </tr>\n",
       "    <tr>\n",
       "      <th>chr22:27052873-27055430</th>\n",
       "      <td>0.9948</td>\n",
       "      <td>0.0052</td>\n",
       "      <td>5.253881</td>\n",
       "      <td>0.000044</td>\n",
       "      <td>0.000017</td>\n",
       "      <td>0.0</td>\n",
       "      <td>0.05</td>\n",
       "      <td>1.413068</td>\n",
       "      <td>1.406695</td>\n",
       "      <td>0.578154</td>\n",
       "      <td>-0.346727</td>\n",
       "      <td>2.762671</td>\n",
       "      <td>0.347826</td>\n",
       "      <td>0.151381</td>\n",
       "      <td>0.196445</td>\n",
       "      <td>True</td>\n",
       "      <td>3 vs Rest</td>\n",
       "      <td>3</td>\n",
       "      <td>Rest</td>\n",
       "    </tr>\n",
       "    <tr>\n",
       "      <th>chr10:81076360-81078474</th>\n",
       "      <td>0.9948</td>\n",
       "      <td>0.0052</td>\n",
       "      <td>5.253881</td>\n",
       "      <td>0.000042</td>\n",
       "      <td>0.000017</td>\n",
       "      <td>0.0</td>\n",
       "      <td>0.05</td>\n",
       "      <td>1.494146</td>\n",
       "      <td>1.241558</td>\n",
       "      <td>0.841479</td>\n",
       "      <td>-0.785093</td>\n",
       "      <td>3.902652</td>\n",
       "      <td>0.328922</td>\n",
       "      <td>0.133876</td>\n",
       "      <td>0.195047</td>\n",
       "      <td>True</td>\n",
       "      <td>3 vs Rest</td>\n",
       "      <td>3</td>\n",
       "      <td>Rest</td>\n",
       "    </tr>\n",
       "    <tr>\n",
       "      <th>chr3:169994725-169996073</th>\n",
       "      <td>0.9944</td>\n",
       "      <td>0.0056</td>\n",
       "      <td>5.179371</td>\n",
       "      <td>0.000034</td>\n",
       "      <td>0.000004</td>\n",
       "      <td>0.0</td>\n",
       "      <td>0.05</td>\n",
       "      <td>3.686594</td>\n",
       "      <td>3.933604</td>\n",
       "      <td>1.379379</td>\n",
       "      <td>-1.700559</td>\n",
       "      <td>6.616471</td>\n",
       "      <td>0.272212</td>\n",
       "      <td>0.027367</td>\n",
       "      <td>0.244845</td>\n",
       "      <td>True</td>\n",
       "      <td>3 vs Rest</td>\n",
       "      <td>3</td>\n",
       "      <td>Rest</td>\n",
       "    </tr>\n",
       "    <tr>\n",
       "      <th>chr17:37928618-37930728</th>\n",
       "      <td>0.9938</td>\n",
       "      <td>0.0062</td>\n",
       "      <td>5.076985</td>\n",
       "      <td>0.000019</td>\n",
       "      <td>0.000005</td>\n",
       "      <td>0.0</td>\n",
       "      <td>0.05</td>\n",
       "      <td>2.728828</td>\n",
       "      <td>2.315487</td>\n",
       "      <td>1.618020</td>\n",
       "      <td>-1.045378</td>\n",
       "      <td>6.670283</td>\n",
       "      <td>0.151229</td>\n",
       "      <td>0.041913</td>\n",
       "      <td>0.109316</td>\n",
       "      <td>True</td>\n",
       "      <td>3 vs Rest</td>\n",
       "      <td>3</td>\n",
       "      <td>Rest</td>\n",
       "    </tr>\n",
       "    <tr>\n",
       "      <th>chr12:22562036-22563652</th>\n",
       "      <td>0.9926</td>\n",
       "      <td>0.0074</td>\n",
       "      <td>4.898846</td>\n",
       "      <td>0.000057</td>\n",
       "      <td>0.000005</td>\n",
       "      <td>0.0</td>\n",
       "      <td>0.05</td>\n",
       "      <td>5.017355</td>\n",
       "      <td>5.710606</td>\n",
       "      <td>2.123703</td>\n",
       "      <td>-1.687163</td>\n",
       "      <td>8.243825</td>\n",
       "      <td>0.415879</td>\n",
       "      <td>0.039694</td>\n",
       "      <td>0.376185</td>\n",
       "      <td>True</td>\n",
       "      <td>3 vs Rest</td>\n",
       "      <td>3</td>\n",
       "      <td>Rest</td>\n",
       "    </tr>\n",
       "    <tr>\n",
       "      <th>chr16:81751220-81753358</th>\n",
       "      <td>0.9924</td>\n",
       "      <td>0.0076</td>\n",
       "      <td>4.871977</td>\n",
       "      <td>0.000024</td>\n",
       "      <td>0.000008</td>\n",
       "      <td>0.0</td>\n",
       "      <td>0.05</td>\n",
       "      <td>1.749549</td>\n",
       "      <td>1.810368</td>\n",
       "      <td>0.736658</td>\n",
       "      <td>-0.281440</td>\n",
       "      <td>3.999022</td>\n",
       "      <td>0.219282</td>\n",
       "      <td>0.061884</td>\n",
       "      <td>0.157398</td>\n",
       "      <td>True</td>\n",
       "      <td>3 vs Rest</td>\n",
       "      <td>3</td>\n",
       "      <td>Rest</td>\n",
       "    </tr>\n",
       "    <tr>\n",
       "      <th>chr10:22934917-22936564</th>\n",
       "      <td>0.9924</td>\n",
       "      <td>0.0076</td>\n",
       "      <td>4.871977</td>\n",
       "      <td>0.000025</td>\n",
       "      <td>0.000006</td>\n",
       "      <td>0.0</td>\n",
       "      <td>0.05</td>\n",
       "      <td>3.250408</td>\n",
       "      <td>3.250577</td>\n",
       "      <td>2.023829</td>\n",
       "      <td>-0.644413</td>\n",
       "      <td>6.487287</td>\n",
       "      <td>0.232514</td>\n",
       "      <td>0.047830</td>\n",
       "      <td>0.184684</td>\n",
       "      <td>True</td>\n",
       "      <td>3 vs Rest</td>\n",
       "      <td>3</td>\n",
       "      <td>Rest</td>\n",
       "    </tr>\n",
       "    <tr>\n",
       "      <th>chr19:6530376-6534948</th>\n",
       "      <td>0.9916</td>\n",
       "      <td>0.0084</td>\n",
       "      <td>4.771087</td>\n",
       "      <td>0.000063</td>\n",
       "      <td>0.000031</td>\n",
       "      <td>0.0</td>\n",
       "      <td>0.05</td>\n",
       "      <td>1.082075</td>\n",
       "      <td>1.120963</td>\n",
       "      <td>0.427321</td>\n",
       "      <td>-0.434524</td>\n",
       "      <td>2.111772</td>\n",
       "      <td>0.468809</td>\n",
       "      <td>0.261095</td>\n",
       "      <td>0.207714</td>\n",
       "      <td>True</td>\n",
       "      <td>3 vs Rest</td>\n",
       "      <td>3</td>\n",
       "      <td>Rest</td>\n",
       "    </tr>\n",
       "  </tbody>\n",
       "</table>\n",
       "</div>"
      ],
      "text/plain": [
       "                           proba_de  proba_not_de  bayes_factor    scale1  \\\n",
       "chr11:115373408-115375985    0.9970        0.0030      5.806135  0.000079   \n",
       "chr16:23493881-23495402      0.9956        0.0044      5.421739  0.000068   \n",
       "chr22:27052873-27055430      0.9948        0.0052      5.253881  0.000044   \n",
       "chr10:81076360-81078474      0.9948        0.0052      5.253881  0.000042   \n",
       "chr3:169994725-169996073     0.9944        0.0056      5.179371  0.000034   \n",
       "chr17:37928618-37930728      0.9938        0.0062      5.076985  0.000019   \n",
       "chr12:22562036-22563652      0.9926        0.0074      4.898846  0.000057   \n",
       "chr16:81751220-81753358      0.9924        0.0076      4.871977  0.000024   \n",
       "chr10:22934917-22936564      0.9924        0.0076      4.871977  0.000025   \n",
       "chr19:6530376-6534948        0.9916        0.0084      4.771087  0.000063   \n",
       "\n",
       "                             scale2  pseudocounts  delta  lfc_mean  \\\n",
       "chr11:115373408-115375985  0.000018           0.0   0.05  2.518515   \n",
       "chr16:23493881-23495402    0.000003           0.0   0.05  5.564806   \n",
       "chr22:27052873-27055430    0.000017           0.0   0.05  1.413068   \n",
       "chr10:81076360-81078474    0.000017           0.0   0.05  1.494146   \n",
       "chr3:169994725-169996073   0.000004           0.0   0.05  3.686594   \n",
       "chr17:37928618-37930728    0.000005           0.0   0.05  2.728828   \n",
       "chr12:22562036-22563652    0.000005           0.0   0.05  5.017355   \n",
       "chr16:81751220-81753358    0.000008           0.0   0.05  1.749549   \n",
       "chr10:22934917-22936564    0.000006           0.0   0.05  3.250408   \n",
       "chr19:6530376-6534948      0.000031           0.0   0.05  1.082075   \n",
       "\n",
       "                           lfc_median   lfc_std   lfc_min   lfc_max  \\\n",
       "chr11:115373408-115375985    2.437192  1.208494 -0.611462  6.126089   \n",
       "chr16:23493881-23495402      6.104351  1.920917 -1.356367  9.319690   \n",
       "chr22:27052873-27055430      1.406695  0.578154 -0.346727  2.762671   \n",
       "chr10:81076360-81078474      1.241558  0.841479 -0.785093  3.902652   \n",
       "chr3:169994725-169996073     3.933604  1.379379 -1.700559  6.616471   \n",
       "chr17:37928618-37930728      2.315487  1.618020 -1.045378  6.670283   \n",
       "chr12:22562036-22563652      5.710606  2.123703 -1.687163  8.243825   \n",
       "chr16:81751220-81753358      1.810368  0.736658 -0.281440  3.999022   \n",
       "chr10:22934917-22936564      3.250577  2.023829 -0.644413  6.487287   \n",
       "chr19:6530376-6534948        1.120963  0.427321 -0.434524  2.111772   \n",
       "\n",
       "                           emp_prob1  emp_prob2  emp_effect  is_de_fdr_0.05  \\\n",
       "chr11:115373408-115375985   0.550095   0.121302    0.428793            True   \n",
       "chr16:23493881-23495402     0.468809   0.018245    0.450564            True   \n",
       "chr22:27052873-27055430     0.347826   0.151381    0.196445            True   \n",
       "chr10:81076360-81078474     0.328922   0.133876    0.195047            True   \n",
       "chr3:169994725-169996073    0.272212   0.027367    0.244845            True   \n",
       "chr17:37928618-37930728     0.151229   0.041913    0.109316            True   \n",
       "chr12:22562036-22563652     0.415879   0.039694    0.376185            True   \n",
       "chr16:81751220-81753358     0.219282   0.061884    0.157398            True   \n",
       "chr10:22934917-22936564     0.232514   0.047830    0.184684            True   \n",
       "chr19:6530376-6534948       0.468809   0.261095    0.207714            True   \n",
       "\n",
       "                          comparison group1 group2  \n",
       "chr11:115373408-115375985  3 vs Rest      3   Rest  \n",
       "chr16:23493881-23495402    3 vs Rest      3   Rest  \n",
       "chr22:27052873-27055430    3 vs Rest      3   Rest  \n",
       "chr10:81076360-81078474    3 vs Rest      3   Rest  \n",
       "chr3:169994725-169996073   3 vs Rest      3   Rest  \n",
       "chr17:37928618-37930728    3 vs Rest      3   Rest  \n",
       "chr12:22562036-22563652    3 vs Rest      3   Rest  \n",
       "chr16:81751220-81753358    3 vs Rest      3   Rest  \n",
       "chr10:22934917-22936564    3 vs Rest      3   Rest  \n",
       "chr19:6530376-6534948      3 vs Rest      3   Rest  "
      ]
     },
     "execution_count": 25,
     "metadata": {},
     "output_type": "execute_result"
    }
   ],
   "source": [
    "da_peaks_filt.head(10)"
   ]
  },
  {
   "cell_type": "markdown",
   "metadata": {},
   "source": [
    "We can visualize the marker peaks of cluster 3:"
   ]
  },
  {
   "cell_type": "code",
   "execution_count": 26,
   "metadata": {
    "execution": {
     "iopub.execute_input": "2024-02-12T17:37:51.007175Z",
     "iopub.status.busy": "2024-02-12T17:37:51.007057Z",
     "iopub.status.idle": "2024-02-12T17:37:51.405369Z",
     "shell.execute_reply": "2024-02-12T17:37:51.404985Z"
    },
    "tags": []
   },
   "outputs": [
    {
     "data": {
      "image/png": "[encoded data removed]",
      "text/plain": [
       "<Figure size 1545.6x320 with 8 Axes>"
      ]
     },
     "metadata": {
      "image/png": {
       "height": 289,
       "width": 1268
      }
     },
     "output_type": "display_data"
    }
   ],
   "source": [
    "sc.pl.umap(adata, color=da_peaks_filt.index[:4], layer=\"fragments\", vmax=\"p99.0\")"
   ]
  }
 ],
 "metadata": {
  "kernelspec": {
   "display_name": "scvi-tools-dev",
   "language": "python",
   "name": "python3"
  },
  "language_info": {
   "codemirror_mode": {
    "name": "ipython",
    "version": 3
   },
   "file_extension": ".py",
   "mimetype": "text/x-python",
   "name": "python",
   "nbconvert_exporter": "python",
   "pygments_lexer": "ipython3",
   "version": "3.11.7"
  }
 },
 "nbformat": 4,
 "nbformat_minor": 4
}
