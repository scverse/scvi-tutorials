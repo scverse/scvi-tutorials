{
 "cells": [
  {
   "cell_type": "markdown",
   "metadata": {
    "id": "DkJ5AI1zMf8I"
   },
   "source": [
    "# PeakVI: Analyzing scATACseq data\n",
    "\n",
    "PeakVI is used for analyzing scATACseq data. This tutorial walks through how to read, set-up and train the model, accessing and visualizing the latent space, and differential accessibility. We use the 5kPBMC sample dataset from 10X but these steps can be easily adjusted for other datasets."
   ]
  },
  {
   "cell_type": "markdown",
   "metadata": {
    "id": "kZiN2swWUKe2"
   },
   "source": [
    "```{note}\n",
    "Running the following cell will install tutorial dependencies on Google Colab only. It will have no effect on environments other than Google Colab."
   ]
  },
  {
   "cell_type": "code",
   "execution_count": 1,
   "metadata": {
    "colab": {
     "base_uri": "https://localhost:8080/"
    },
    "execution": {
     "iopub.execute_input": "2025-05-28T10:33:24.200128Z",
     "iopub.status.busy": "2025-05-28T10:33:24.199957Z",
     "iopub.status.idle": "2025-05-28T10:33:25.602717Z",
     "shell.execute_reply": "2025-05-28T10:33:25.602325Z"
    },
    "id": "jiE2wyVqUKe2",
    "outputId": "6eff89ff-cb7e-4ca3-a4cb-540385c1b1f0"
   },
   "outputs": [
    {
     "name": "stdout",
     "output_type": "stream",
     "text": [
      "\u001b[33mWARNING: Running pip as the 'root' user can result in broken permissions and conflicting behaviour with the system package manager, possibly rendering your system unusable. It is recommended to use a virtual environment instead: https://pip.pypa.io/warnings/venv. Use the --root-user-action option if you know what you are doing and want to suppress this warning.\u001b[0m\u001b[33m\r\n",
      "\u001b[0m\r\n",
      "\u001b[1m[\u001b[0m\u001b[34;49mnotice\u001b[0m\u001b[1;39;49m]\u001b[0m\u001b[39;49m A new release of pip is available: \u001b[0m\u001b[31;49m25.0.1\u001b[0m\u001b[39;49m -> \u001b[0m\u001b[32;49m25.1.1\u001b[0m\r\n",
      "\u001b[1m[\u001b[0m\u001b[34;49mnotice\u001b[0m\u001b[1;39;49m]\u001b[0m\u001b[39;49m To update, run: \u001b[0m\u001b[32;49mpip install --upgrade pip\u001b[0m\r\n"
     ]
    },
    {
     "name": "stderr",
     "output_type": "stream",
     "text": [
      "/usr/local/lib/python3.12/site-packages/scvi_colab/_core.py:42: UserWarning: pkg_resources is deprecated as an API. See https://setuptools.pypa.io/en/latest/pkg_resources.html. The pkg_resources package is slated for removal as early as 2025-11-30. Refrain from using this package or pin to Setuptools<81.\n",
      "  from pkg_resources import ContextualVersionConflict\n",
      "/usr/local/lib/python3.12/site-packages/scvi_colab/_core.py:47: UserWarning: \n",
      "                Not currently in Google Colab environment.\n",
      "\n",
      "                Please run with `run_outside_colab=True` to override.\n",
      "\n",
      "                Returning with no further action.\n",
      "                \n",
      "  warn(\n"
     ]
    }
   ],
   "source": [
    "!pip install --quiet scvi-colab\n",
    "from scvi_colab import install\n",
    "\n",
    "install()"
   ]
  },
  {
   "cell_type": "code",
   "execution_count": 2,
   "metadata": {
    "execution": {
     "iopub.execute_input": "2025-05-28T10:33:25.604324Z",
     "iopub.status.busy": "2025-05-28T10:33:25.604156Z",
     "iopub.status.idle": "2025-05-28T10:33:39.341762Z",
     "shell.execute_reply": "2025-05-28T10:33:39.341254Z"
    },
    "id": "tcbBdgYoMf8O"
   },
   "outputs": [
    {
     "name": "stderr",
     "output_type": "stream",
     "text": [
      "/usr/local/lib/python3.12/site-packages/leidenalg/VertexPartition.py:413: SyntaxWarning: invalid escape sequence '\\m'\n",
      "  .. math:: Q = \\\\frac{1}{m} \\\\sum_{ij} \\\\left(A_{ij} - \\\\frac{k_i^\\mathrm{out} k_j^\\mathrm{in}}{m} \\\\right)\\\\delta(\\\\sigma_i, \\\\sigma_j),\n",
      "/usr/local/lib/python3.12/site-packages/leidenalg/VertexPartition.py:788: SyntaxWarning: invalid escape sequence '\\m'\n",
      "  .. math:: Q = \\\\sum_{ij} \\\\left(A_{ij} - \\\\gamma \\\\frac{k_i^\\mathrm{out} k_j^\\mathrm{in}}{m} \\\\right)\\\\delta(\\\\sigma_i, \\\\sigma_j),\n",
      "/usr/local/lib/python3.12/site-packages/leidenalg/Optimiser.py:27: SyntaxWarning: invalid escape sequence '\\g'\n",
      "  implementation therefore does not guarantee subpartition :math:`\\gamma`-density.\n",
      "/usr/local/lib/python3.12/site-packages/leidenalg/Optimiser.py:346: SyntaxWarning: invalid escape sequence '\\s'\n",
      "  .. math:: Q = \\sum_k \\\\lambda_k Q_k.\n"
     ]
    },
    {
     "name": "stderr",
     "output_type": "stream",
     "text": [
      "/usr/local/lib/python3.12/site-packages/pyro/ops/stats.py:527: SyntaxWarning: invalid escape sequence '\\g'\n",
      "  we have :math:`ES^{*}(P,Q) \\ge ES^{*}(Q,Q)` with equality holding if and only if :math:`P=Q`, i.e.\n"
     ]
    }
   ],
   "source": [
    "import os\n",
    "import tempfile\n",
    "\n",
    "import matplotlib.pyplot as plt\n",
    "import numpy as np\n",
    "import scanpy as sc\n",
    "import scvi\n",
    "import torch"
   ]
  },
  {
   "cell_type": "code",
   "execution_count": 3,
   "metadata": {
    "colab": {
     "base_uri": "https://localhost:8080/"
    },
    "execution": {
     "iopub.execute_input": "2025-05-28T10:33:39.343966Z",
     "iopub.status.busy": "2025-05-28T10:33:39.343390Z",
     "iopub.status.idle": "2025-05-28T10:33:39.347959Z",
     "shell.execute_reply": "2025-05-28T10:33:39.347587Z"
    },
    "id": "0YUDVfTCUKe3",
    "outputId": "c11cab7c-1154-43da-cfa2-d49487c645cc"
   },
   "outputs": [
    {
     "name": "stderr",
     "output_type": "stream",
     "text": [
      "Seed set to 0\n"
     ]
    },
    {
     "name": "stdout",
     "output_type": "stream",
     "text": [
      "Last run with scvi-tools version: 1.3.2\n"
     ]
    }
   ],
   "source": [
    "scvi.settings.seed = 0\n",
    "print(\"Last run with scvi-tools version:\", scvi.__version__)"
   ]
  },
  {
   "cell_type": "markdown",
   "metadata": {
    "id": "dFjICq7gUKe3"
   },
   "source": [
    "```{note}\n",
    "You can modify `save_dir` below to change where the data files for this tutorial are saved.\n",
    "```"
   ]
  },
  {
   "cell_type": "code",
   "execution_count": 4,
   "metadata": {
    "execution": {
     "iopub.execute_input": "2025-05-28T10:33:39.349190Z",
     "iopub.status.busy": "2025-05-28T10:33:39.349045Z",
     "iopub.status.idle": "2025-05-28T10:33:39.366185Z",
     "shell.execute_reply": "2025-05-28T10:33:39.365706Z"
    },
    "id": "4_R0pTDwUKe3"
   },
   "outputs": [],
   "source": [
    "sc.set_figure_params(figsize=(4, 4), frameon=False)\n",
    "torch.set_float32_matmul_precision(\"high\")\n",
    "save_dir = tempfile.TemporaryDirectory()\n",
    "\n",
    "%config InlineBackend.print_figure_kwargs={\"facecolor\" : \"w\"}\n",
    "%config InlineBackend.figure_format=\"retina\""
   ]
  },
  {
   "cell_type": "markdown",
   "metadata": {
    "id": "PUCNIebrUKe3"
   },
   "source": [
    "## Download and preprocess data"
   ]
  },
  {
   "cell_type": "markdown",
   "metadata": {
    "id": "_L5z3CGGVJ4t"
   },
   "source": [
    "In this tutorial, we use an already preprocessed dataset of 5k PBMCs from 10X Genomics. To see the exact preprocessing that was done, or to preprocess your own scATAC-seq dataset for use with scvi-tools models, see our [preprocessing tutorial](https://docs.scvi-tools.org/en/stable/tutorials/notebooks/use_cases/preprocessing.html#scatac-seq)."
   ]
  },
  {
   "cell_type": "code",
   "execution_count": 5,
   "metadata": {
    "colab": {
     "base_uri": "https://localhost:8080/",
     "height": 103,
     "referenced_widgets": [
      "051946e95cb8403c9b00c7f2b74afa2f",
      "7bb844219c45426a88e97ddf2572a20d",
      "e9f82ccbd02a43639d9f12a438ac5b0d",
      "25850a0e83eb4a6ebf563eea15b8c820",
      "6c86498586c24c82b2448de57a062ab8",
      "02bf875352794c5381fdee91e33623c3",
      "853ce191a54e475ebdb981bda260e5ae",
      "cff73360a56b43749c03563db5b9bcbc",
      "cade9ab84d8e432a9b953544480ab879",
      "f8d66f0b05844d889c4ce1a8390f055b",
      "8aa61dd52fec454693c100da154f9b8d"
     ]
    },
    "execution": {
     "iopub.execute_input": "2025-05-28T10:33:39.367821Z",
     "iopub.status.busy": "2025-05-28T10:33:39.367653Z",
     "iopub.status.idle": "2025-05-28T10:34:38.948792Z",
     "shell.execute_reply": "2025-05-28T10:34:38.948339Z"
    },
    "id": "sfBWuUrjV_P0",
    "outputId": "966db0d8-ab1c-4f51-90fb-502911e6ccf0"
   },
   "outputs": [
    {
     "data": {
      "application/vnd.jupyter.widget-view+json": {
       "model_id": "b678019e2f9a4a2d9678cf09545a6697",
       "version_major": 2,
       "version_minor": 0
      },
      "text/plain": [
       "  0%|          | 0.00/365M [00:00<?, ?B/s]"
      ]
     },
     "metadata": {},
     "output_type": "display_data"
    },
    {
     "data": {
      "text/plain": [
       "AnnData object with n_obs × n_vars = 4585 × 33142\n",
       "    obs: 'batch_id'\n",
       "    var: 'chr', 'start', 'end', 'n_cells'"
      ]
     },
     "execution_count": 5,
     "metadata": {},
     "output_type": "execute_result"
    }
   ],
   "source": [
    "# download preprocessed dataset\n",
    "adata_path = os.path.join(save_dir.name, \"lung_atlas_preprocessed.h5ad\")\n",
    "\n",
    "adata = sc.read(\n",
    "    adata_path,\n",
    "    backup_url=\"https://figshare.com/ndownloader/files/52859288\",\n",
    ")\n",
    "adata"
   ]
  },
  {
   "cell_type": "markdown",
   "metadata": {
    "id": "ZCKvcOuaMf8R"
   },
   "source": [
    "## Set up, train, save, and load the model\n",
    "\n",
    "We can now set up the AnnData object with PeakVI, which will ensure everything the model needs is in place for training.\n",
    "\n",
    "This is also the stage where we can condition the model on additional covariates, which encourages the model to remove the impact of those covariates from the learned latent space. Our sample data is a single batch, so we won't demonstrate this directly, but it can be done simply by setting the `batch_key` argument to the annotation to be used as a batch covariate (must be a valid key in `adata.obs`) ."
   ]
  },
  {
   "cell_type": "code",
   "execution_count": 6,
   "metadata": {
    "execution": {
     "iopub.execute_input": "2025-05-28T10:34:38.950504Z",
     "iopub.status.busy": "2025-05-28T10:34:38.950354Z",
     "iopub.status.idle": "2025-05-28T10:34:38.954974Z",
     "shell.execute_reply": "2025-05-28T10:34:38.954613Z"
    },
    "id": "LsphppROMf8R"
   },
   "outputs": [],
   "source": [
    "scvi.model.PEAKVI.setup_anndata(adata)"
   ]
  },
  {
   "cell_type": "markdown",
   "metadata": {
    "id": "onvBxehyMf8R"
   },
   "source": [
    "We can now create a PeakVI model object and train it!"
   ]
  },
  {
   "cell_type": "markdown",
   "metadata": {
    "id": "Pb8b_wcCUKe4"
   },
   "source": [
    "```{important}\n",
    "The default `max_epochs` is set to `500`, but in practice PeakVI stops early once the model converges (we quantify convergence with the model's validation reconstruction loss). This is especially the case for larger datasets, which require fewer training epochs to converge since each epoch lets the model view more data.\n",
    "\n",
    "This means that the estimated training runtime is usually an overestimate of the actual runtime. For the data used in this tutorial, it typically converges with around half of `max_epochs`!\n",
    "```"
   ]
  },
  {
   "cell_type": "code",
   "execution_count": 7,
   "metadata": {
    "colab": {
     "base_uri": "https://localhost:8080/",
     "height": 265,
     "referenced_widgets": [
      "d99bb9b6dfd84425abb1a4d7ad9febca",
      "a9aa8984434345389f008a5bf245186f",
      "400bcff22d4a4e7a90b66edf8c51bd7c",
      "8cc2c26c6e764c4aa73494735a01a626",
      "48b3568f911e4338ac8d67b0b15b8f8b",
      "5b7e4ed86ec44547801f303f6a0587df",
      "538eb72f0b0041729b2ac8d402e01e51",
      "a3084bc33eaa498d84497a3838e76e74",
      "c34f1d12d0f54cac86722780ad9616e6",
      "b0491d350ae74415bf059e5a4820c76d",
      "f9b2be5deffc4522b46fc0570a877d52"
     ]
    },
    "execution": {
     "iopub.execute_input": "2025-05-28T10:34:38.956157Z",
     "iopub.status.busy": "2025-05-28T10:34:38.956005Z",
     "iopub.status.idle": "2025-05-28T10:37:01.188139Z",
     "shell.execute_reply": "2025-05-28T10:37:01.187604Z"
    },
    "id": "cclCyKFOMf8R",
    "outputId": "7338a01c-7aa0-40f4-df54-ac82b0b6078e"
   },
   "outputs": [
    {
     "name": "stderr",
     "output_type": "stream",
     "text": [
      "/tmp/ipykernel_163/3832327670.py:2: DeprecationWarning: `save_best` is deprecated in v1.2 and will be removed in v1.3. Please use `enable_checkpointing` instead. See https://github.com/scverse/scvi-tools/issues/2568 for more details.\n",
      "  model.train()\n",
      "GPU available: True (cuda), used: True\n"
     ]
    },
    {
     "name": "stderr",
     "output_type": "stream",
     "text": [
      "TPU available: False, using: 0 TPU cores\n"
     ]
    },
    {
     "name": "stderr",
     "output_type": "stream",
     "text": [
      "HPU available: False, using: 0 HPUs\n"
     ]
    },
    {
     "name": "stderr",
     "output_type": "stream",
     "text": [
      "LOCAL_RANK: 0 - CUDA_VISIBLE_DEVICES: [0]\n"
     ]
    },
    {
     "name": "stderr",
     "output_type": "stream",
     "text": [
      "/usr/local/lib/python3.12/site-packages/lightning/pytorch/trainer/connectors/data_connector.py:425: The 'train_dataloader' does not have many workers which may be a bottleneck. Consider increasing the value of the `num_workers` argument` to `num_workers=63` in the `DataLoader` to improve performance.\n",
      "/usr/local/lib/python3.12/site-packages/lightning/pytorch/trainer/connectors/data_connector.py:425: The 'val_dataloader' does not have many workers which may be a bottleneck. Consider increasing the value of the `num_workers` argument` to `num_workers=63` in the `DataLoader` to improve performance.\n"
     ]
    },
    {
     "data": {
      "application/vnd.jupyter.widget-view+json": {
       "model_id": "a1129ffda3e5438f8a699d8157087bca",
       "version_major": 2,
       "version_minor": 0
      },
      "text/plain": [
       "Training:   0%|          | 0/500 [00:00<?, ?it/s]"
      ]
     },
     "metadata": {},
     "output_type": "display_data"
    },
    {
     "name": "stdout",
     "output_type": "stream",
     "text": [
      "Monitored metric reconstruction_loss_validation did not improve in the last 50 records. Best score: 13005.790. Signaling Trainer to stop.\n"
     ]
    }
   ],
   "source": [
    "model = scvi.model.PEAKVI(adata)\n",
    "model.train()"
   ]
  },
  {
   "cell_type": "markdown",
   "metadata": {
    "id": "dab9yhHcMf8R"
   },
   "source": [
    "Since training a model can take a while, we recommend saving the trained model after training, just in case."
   ]
  },
  {
   "cell_type": "code",
   "execution_count": 8,
   "metadata": {
    "execution": {
     "iopub.execute_input": "2025-05-28T10:37:01.189775Z",
     "iopub.status.busy": "2025-05-28T10:37:01.189593Z",
     "iopub.status.idle": "2025-05-28T10:37:01.282625Z",
     "shell.execute_reply": "2025-05-28T10:37:01.282084Z"
    },
    "id": "v5w3u7ZgMf8S"
   },
   "outputs": [],
   "source": [
    "model_dir = os.path.join(save_dir.name, \"peakvi_pbmc\")\n",
    "model.save(model_dir, overwrite=True)"
   ]
  },
  {
   "cell_type": "markdown",
   "metadata": {
    "id": "mvEQcMynMf8S"
   },
   "source": [
    "We can then load the model later, which require providing an AnnData object that is structured similarly to the one used for training (or, in most cases, the same one):"
   ]
  },
  {
   "cell_type": "code",
   "execution_count": 9,
   "metadata": {
    "colab": {
     "base_uri": "https://localhost:8080/"
    },
    "execution": {
     "iopub.execute_input": "2025-05-28T10:37:01.284715Z",
     "iopub.status.busy": "2025-05-28T10:37:01.284543Z",
     "iopub.status.idle": "2025-05-28T10:37:01.402624Z",
     "shell.execute_reply": "2025-05-28T10:37:01.402126Z"
    },
    "id": "_q34gv_hMf8S",
    "outputId": "b1ec2672-63f9-481a-b74f-99daf67e398f"
   },
   "outputs": [
    {
     "name": "stdout",
     "output_type": "stream",
     "text": [
      "\u001b[34mINFO    \u001b[0m File \u001b[35m/tmp/tmpc1ydr4c2/peakvi_pbmc/\u001b[0m\u001b[95mmodel.pt\u001b[0m already downloaded                                             \n"
     ]
    }
   ],
   "source": [
    "model = scvi.model.PEAKVI.load(model_dir, adata=adata)"
   ]
  },
  {
   "cell_type": "markdown",
   "metadata": {
    "id": "3FRmN1bbMf8S"
   },
   "source": [
    "## Visualizing and analyzing the latent space\n",
    "\n",
    "We can now use the trained model to visualize, cluster, and analyze the data. We first extract the latent representation from the model, and save it back into our AnnData object:"
   ]
  },
  {
   "cell_type": "code",
   "execution_count": 10,
   "metadata": {
    "colab": {
     "base_uri": "https://localhost:8080/"
    },
    "execution": {
     "iopub.execute_input": "2025-05-28T10:37:01.404618Z",
     "iopub.status.busy": "2025-05-28T10:37:01.404470Z",
     "iopub.status.idle": "2025-05-28T10:37:01.651726Z",
     "shell.execute_reply": "2025-05-28T10:37:01.651260Z"
    },
    "id": "shzoLMjQMf8S",
    "outputId": "5d0d014f-8ac1-4f6d-8d84-8e00742eba26"
   },
   "outputs": [
    {
     "data": {
      "text/plain": [
       "(4585, 13)"
      ]
     },
     "execution_count": 10,
     "metadata": {},
     "output_type": "execute_result"
    }
   ],
   "source": [
    "PEAKVI_LATENT_KEY = \"X_peakvi\"\n",
    "\n",
    "latent = model.get_latent_representation()\n",
    "adata.obsm[PEAKVI_LATENT_KEY] = latent\n",
    "latent.shape"
   ]
  },
  {
   "cell_type": "markdown",
   "metadata": {
    "id": "-nIg0xy1Mf8T"
   },
   "source": [
    "We can now use Scanpy to cluster and visualize our latent space:"
   ]
  },
  {
   "cell_type": "code",
   "execution_count": 11,
   "metadata": {
    "colab": {
     "base_uri": "https://localhost:8080/"
    },
    "execution": {
     "iopub.execute_input": "2025-05-28T10:37:01.653247Z",
     "iopub.status.busy": "2025-05-28T10:37:01.653105Z",
     "iopub.status.idle": "2025-05-28T10:37:13.823608Z",
     "shell.execute_reply": "2025-05-28T10:37:13.823116Z"
    },
    "id": "CAzMk_4qMf8T",
    "outputId": "b4c9d26e-74f3-4192-d492-8cba1a15ab98"
   },
   "outputs": [
    {
     "name": "stderr",
     "output_type": "stream",
     "text": [
      "/tmp/ipykernel_163/192297472.py:8: FutureWarning: In the future, the default backend for leiden will be igraph instead of leidenalg.\n",
      "\n",
      " To achieve the future defaults please pass: flavor=\"igraph\" and n_iterations=2.  directed must also be False to work with igraph's implementation.\n",
      "  sc.tl.leiden(adata, key_added=PEAKVI_CLUSTERS_KEY, resolution=0.2)\n"
     ]
    }
   ],
   "source": [
    "PEAKVI_CLUSTERS_KEY = \"clusters_peakvi\"\n",
    "\n",
    "# compute the k-nearest-neighbor graph that is used in both clustering and umap algorithms\n",
    "sc.pp.neighbors(adata, use_rep=PEAKVI_LATENT_KEY)\n",
    "# compute the umap\n",
    "sc.tl.umap(adata, min_dist=0.2)\n",
    "# cluster the space (we use a lower resolution to get fewer clusters than the default)\n",
    "sc.tl.leiden(adata, key_added=PEAKVI_CLUSTERS_KEY, resolution=0.2)"
   ]
  },
  {
   "cell_type": "code",
   "execution_count": 12,
   "metadata": {
    "colab": {
     "base_uri": "https://localhost:8080/",
     "height": 294
    },
    "execution": {
     "iopub.execute_input": "2025-05-28T10:37:13.825057Z",
     "iopub.status.busy": "2025-05-28T10:37:13.824950Z",
     "iopub.status.idle": "2025-05-28T10:37:13.923703Z",
     "shell.execute_reply": "2025-05-28T10:37:13.923281Z"
    },
    "id": "gPm9j0aaMf8T",
    "outputId": "48b96bd3-1171-4d98-f1b6-fa7cd380ad21"
   },
   "outputs": [
    {
     "data": {
      "image/png": "[encoded data removed]",
      "text/plain": [
       "<Figure size 320x320 with 1 Axes>"
      ]
     },
     "metadata": {
      "image/png": {
       "height": 277,
       "width": 306
      }
     },
     "output_type": "display_data"
    }
   ],
   "source": [
    "sc.pl.umap(adata, color=PEAKVI_CLUSTERS_KEY)"
   ]
  },
  {
   "cell_type": "markdown",
   "metadata": {
    "id": "wGioRKwFMf8T"
   },
   "source": [
    "## Differential accessibility\n",
    "\n",
    "Finally, we can use PeakVI to identify regions that are differentially accessible. There are many different ways to run this analysis, but the simplest is comparing one cluster against all others, or comparing two clusters to each other. In the first case we'll be looking for marker-regions, so we'll mostly want a one-sided test (the significant regions will only be the ones preferentially accessible in our target cluster). In the second case we'll use a two-sided test to find regions that are differentially accessible, regardless of direction.\n",
    "\n",
    "We demonstrate both of these next, and do this in two different ways: (1) more convenient but less flexible: using an existing factor to group the cells, and then comparing groups. (2) more flexible: using cell indices directly.\n",
    "\n",
    "```{important}\n",
    "If the data includes multiple batches, we encourage setting `batch_correction=True` so the model will sample from multiple batches when computing the differential signal. We do this below despite the data only having a single batch, as a demonstration.\n",
    "```"
   ]
  },
  {
   "cell_type": "code",
   "execution_count": 13,
   "metadata": {
    "colab": {
     "base_uri": "https://localhost:8080/",
     "height": 414,
     "referenced_widgets": [
      "b20ea028a4e14aa8ad6b98fce7b545a3",
      "f4ac16112acb4d5e9a5fb5aa9628c73b",
      "5506f45015bd41bb9913d8cd7f205057",
      "3a2be7fae61240f29b93e99fe21311c9",
      "47b9af1ce95a4ec0b4bead85a11ef58b",
      "d550e425e9f449799f18a2443f473d2a",
      "4e7d42e30b924806ba53eb151f74a3f6",
      "8d43c534b8414eac9e77dc81c7f145e8",
      "dab48d384a07487fa635192278d5f072",
      "551977e9d9b0403099c7fc19e254c95f",
      "5db709077a0d4413b00c2fcf92dfbb4d"
     ]
    },
    "execution": {
     "iopub.execute_input": "2025-05-28T10:37:13.925144Z",
     "iopub.status.busy": "2025-05-28T10:37:13.925004Z",
     "iopub.status.idle": "2025-05-28T10:37:36.922631Z",
     "shell.execute_reply": "2025-05-28T10:37:36.922195Z"
    },
    "id": "YptioB5PMf8T",
    "outputId": "ab1e114a-eabb-4740-b15e-f439446659bc"
   },
   "outputs": [
    {
     "data": {
      "application/vnd.jupyter.widget-view+json": {
       "model_id": "af6b335e757949068d4de627c275ab94",
       "version_major": 2,
       "version_minor": 0
      },
      "text/plain": [
       "DE...:   0%|          | 0/1 [00:00<?, ?it/s]"
      ]
     },
     "metadata": {},
     "output_type": "display_data"
    },
    {
     "data": {
      "application/vnd.jupyter.widget-view+json": {
       "model_id": "8ba10d43ef7e4a7e8dda45fd8b72cc57",
       "version_major": 2,
       "version_minor": 0
      },
      "text/plain": [
       "DE...:   0%|          | 0/1 [00:00<?, ?it/s]"
      ]
     },
     "metadata": {},
     "output_type": "display_data"
    },
    {
     "data": {
      "application/vnd.jupyter.widget-view+json": {
       "model_id": "48e59681e7d149c7afc4cfc76ff75e70",
       "version_major": 2,
       "version_minor": 0
      },
      "text/plain": [
       "DE...:   0%|          | 0/1 [00:00<?, ?it/s]"
      ]
     },
     "metadata": {},
     "output_type": "display_data"
    },
    {
     "data": {
      "application/vnd.jupyter.widget-view+json": {
       "model_id": "b5b0064f17c943c49f12b707ad742f1f",
       "version_major": 2,
       "version_minor": 0
      },
      "text/plain": [
       "DE...:   0%|          | 0/1 [00:00<?, ?it/s]"
      ]
     },
     "metadata": {},
     "output_type": "display_data"
    },
    {
     "data": {
      "text/html": [
       "<div>\n",
       "<style scoped>\n",
       "    .dataframe tbody tr th:only-of-type {\n",
       "        vertical-align: middle;\n",
       "    }\n",
       "\n",
       "    .dataframe tbody tr th {\n",
       "        vertical-align: top;\n",
       "    }\n",
       "\n",
       "    .dataframe thead th {\n",
       "        text-align: right;\n",
       "    }\n",
       "</style>\n",
       "<table border=\"1\" class=\"dataframe\">\n",
       "  <thead>\n",
       "    <tr style=\"text-align: right;\">\n",
       "      <th></th>\n",
       "      <th>prob_da</th>\n",
       "      <th>is_da_fdr</th>\n",
       "      <th>bayes_factor</th>\n",
       "      <th>effect_size</th>\n",
       "      <th>emp_effect</th>\n",
       "      <th>est_prob1</th>\n",
       "      <th>est_prob2</th>\n",
       "      <th>emp_prob1</th>\n",
       "      <th>emp_prob2</th>\n",
       "    </tr>\n",
       "  </thead>\n",
       "  <tbody>\n",
       "    <tr>\n",
       "      <th>chr4:2852856-2854873</th>\n",
       "      <td>1.0000</td>\n",
       "      <td>True</td>\n",
       "      <td>18.420681</td>\n",
       "      <td>-0.571788</td>\n",
       "      <td>-0.270808</td>\n",
       "      <td>0.647310</td>\n",
       "      <td>0.075522</td>\n",
       "      <td>0.306306</td>\n",
       "      <td>0.035499</td>\n",
       "    </tr>\n",
       "    <tr>\n",
       "      <th>chr5:150503270-150506342</th>\n",
       "      <td>0.9998</td>\n",
       "      <td>True</td>\n",
       "      <td>8.516943</td>\n",
       "      <td>-0.684722</td>\n",
       "      <td>-0.391794</td>\n",
       "      <td>0.939921</td>\n",
       "      <td>0.255199</td>\n",
       "      <td>0.527027</td>\n",
       "      <td>0.135233</td>\n",
       "    </tr>\n",
       "    <tr>\n",
       "      <th>chr22:42320195-42323477</th>\n",
       "      <td>0.9998</td>\n",
       "      <td>True</td>\n",
       "      <td>8.516943</td>\n",
       "      <td>-0.667704</td>\n",
       "      <td>-0.375457</td>\n",
       "      <td>0.939773</td>\n",
       "      <td>0.272069</td>\n",
       "      <td>0.522523</td>\n",
       "      <td>0.147066</td>\n",
       "    </tr>\n",
       "    <tr>\n",
       "      <th>chr11:45951188-45953584</th>\n",
       "      <td>0.9998</td>\n",
       "      <td>True</td>\n",
       "      <td>8.516943</td>\n",
       "      <td>-0.722014</td>\n",
       "      <td>-0.396407</td>\n",
       "      <td>0.913219</td>\n",
       "      <td>0.191205</td>\n",
       "      <td>0.493243</td>\n",
       "      <td>0.096837</td>\n",
       "    </tr>\n",
       "    <tr>\n",
       "      <th>chr2:25432714-25433707</th>\n",
       "      <td>0.9998</td>\n",
       "      <td>True</td>\n",
       "      <td>8.516943</td>\n",
       "      <td>-0.890856</td>\n",
       "      <td>-0.460159</td>\n",
       "      <td>0.950219</td>\n",
       "      <td>0.059363</td>\n",
       "      <td>0.493243</td>\n",
       "      <td>0.033084</td>\n",
       "    </tr>\n",
       "  </tbody>\n",
       "</table>\n",
       "</div>"
      ],
      "text/plain": [
       "                          prob_da  is_da_fdr  bayes_factor  effect_size  \\\n",
       "chr4:2852856-2854873       1.0000       True     18.420681    -0.571788   \n",
       "chr5:150503270-150506342   0.9998       True      8.516943    -0.684722   \n",
       "chr22:42320195-42323477    0.9998       True      8.516943    -0.667704   \n",
       "chr11:45951188-45953584    0.9998       True      8.516943    -0.722014   \n",
       "chr2:25432714-25433707     0.9998       True      8.516943    -0.890856   \n",
       "\n",
       "                          emp_effect  est_prob1  est_prob2  emp_prob1  \\\n",
       "chr4:2852856-2854873       -0.270808   0.647310   0.075522   0.306306   \n",
       "chr5:150503270-150506342   -0.391794   0.939921   0.255199   0.527027   \n",
       "chr22:42320195-42323477    -0.375457   0.939773   0.272069   0.522523   \n",
       "chr11:45951188-45953584    -0.396407   0.913219   0.191205   0.493243   \n",
       "chr2:25432714-25433707     -0.460159   0.950219   0.059363   0.493243   \n",
       "\n",
       "                          emp_prob2  \n",
       "chr4:2852856-2854873       0.035499  \n",
       "chr5:150503270-150506342   0.135233  \n",
       "chr22:42320195-42323477    0.147066  \n",
       "chr11:45951188-45953584    0.096837  \n",
       "chr2:25432714-25433707     0.033084  "
      ]
     },
     "execution_count": 13,
     "metadata": {},
     "output_type": "execute_result"
    }
   ],
   "source": [
    "# (1.1) using a known factor to compare two clusters\n",
    "da_res11 = model.differential_accessibility(\n",
    "    groupby=PEAKVI_CLUSTERS_KEY, group1=\"3\", group2=\"0\", test_mode=\"two\"\n",
    ")\n",
    "\n",
    "# (1.2) using a known factor to compare a cluster against all other clusters\n",
    "## if we only provide group1, group2 is all other cells by default\n",
    "da_res12 = model.differential_accessibility(groupby=PEAKVI_CLUSTERS_KEY, group1=\"3\")\n",
    "\n",
    "# (2.1) using indices to compare two clusters\n",
    "## we can use boolean masks or integer indices for the `idx1` and `idx2` arguments\n",
    "da_res21 = model.differential_accessibility(\n",
    "    idx1=adata.obs[PEAKVI_CLUSTERS_KEY] == \"3\",\n",
    "    idx2=adata.obs[PEAKVI_CLUSTERS_KEY] == \"0\",\n",
    "    test_mode=\"two\",\n",
    ")\n",
    "# (2.2) using indices to compare a cluster against all other clusters\n",
    "## if we don't provide idx2, it uses all other cells as the contrast\n",
    "da_res22 = model.differential_accessibility(\n",
    "    idx1=np.where(adata.obs[PEAKVI_CLUSTERS_KEY] == \"3\"),\n",
    ")\n",
    "\n",
    "da_res22.head()"
   ]
  },
  {
   "cell_type": "markdown",
   "metadata": {
    "id": "zWseudKHMf8U"
   },
   "source": [
    "Note that `da_res11` and `da_res21` are equivalent, as are `da_res12` and `da_res22`.\n",
    "The return value is a pandas DataFrame with the differential results and basic properties of the comparison:\n",
    "\n",
    "`prob_da` in our case is the probability of cells from cluster 0 being more than 0.05 (the default minimal effect) more accessible than cells from the rest of the data.\n",
    "\n",
    "`is_da_fdr` is a conservative classification (True/False) of whether a region is differential accessible. This is one way to threshold the results.\n",
    "\n",
    "`bayes_factor` is a statistical significance score. It doesn't have a commonly acceptable threshold (e.g 0.05 for p-values), bu we demonstrate below that it's well calibrated to the effect size.\n",
    "\n",
    "`effect_size` is the effect size, calculated as `est_prob2 - est_prob1`.\n",
    "\n",
    "`emp_effect` is the empirical effect size, calculated as `emp_prob2 - emp_prob1`.\n",
    "\n",
    "`est_prob{1,2}` are the estimated probabilities of accessibility in group1 and group2.\n",
    "\n",
    "`emp_prob{1,2}` are the empirical probabilities of detection (how many cells in group X was the region detected in).\n",
    "\n",
    "We can make sure the probability of DA is well calibrated, and look at the regions that are identified as differentially accessible:"
   ]
  },
  {
   "cell_type": "code",
   "execution_count": 14,
   "metadata": {
    "execution": {
     "iopub.execute_input": "2025-05-28T10:37:36.924023Z",
     "iopub.status.busy": "2025-05-28T10:37:36.923916Z",
     "iopub.status.idle": "2025-05-28T10:37:36.999809Z",
     "shell.execute_reply": "2025-05-28T10:37:36.999367Z"
    },
    "id": "uMenbDZ8Mf8U"
   },
   "outputs": [
    {
     "data": {
      "image/png": "[encoded data removed]",
      "text/plain": [
       "<Figure size 320x320 with 1 Axes>"
      ]
     },
     "metadata": {
      "image/png": {
       "height": 300,
       "width": 317
      }
     },
     "output_type": "display_data"
    },
    {
     "data": {
      "text/html": [
       "<div>\n",
       "<style scoped>\n",
       "    .dataframe tbody tr th:only-of-type {\n",
       "        vertical-align: middle;\n",
       "    }\n",
       "\n",
       "    .dataframe tbody tr th {\n",
       "        vertical-align: top;\n",
       "    }\n",
       "\n",
       "    .dataframe thead th {\n",
       "        text-align: right;\n",
       "    }\n",
       "</style>\n",
       "<table border=\"1\" class=\"dataframe\">\n",
       "  <thead>\n",
       "    <tr style=\"text-align: right;\">\n",
       "      <th></th>\n",
       "      <th>prob_da</th>\n",
       "      <th>is_da_fdr</th>\n",
       "      <th>bayes_factor</th>\n",
       "      <th>effect_size</th>\n",
       "      <th>emp_effect</th>\n",
       "      <th>est_prob1</th>\n",
       "      <th>est_prob2</th>\n",
       "      <th>emp_prob1</th>\n",
       "      <th>emp_prob2</th>\n",
       "    </tr>\n",
       "  </thead>\n",
       "  <tbody>\n",
       "    <tr>\n",
       "      <th>chr4:2852856-2854873</th>\n",
       "      <td>1.0000</td>\n",
       "      <td>True</td>\n",
       "      <td>18.420681</td>\n",
       "      <td>-0.571788</td>\n",
       "      <td>-0.270808</td>\n",
       "      <td>0.647310</td>\n",
       "      <td>0.075522</td>\n",
       "      <td>0.306306</td>\n",
       "      <td>0.035499</td>\n",
       "    </tr>\n",
       "    <tr>\n",
       "      <th>chr22:22522044-22523273</th>\n",
       "      <td>0.9998</td>\n",
       "      <td>True</td>\n",
       "      <td>8.516943</td>\n",
       "      <td>-0.776410</td>\n",
       "      <td>-0.405125</td>\n",
       "      <td>0.887602</td>\n",
       "      <td>0.111192</td>\n",
       "      <td>0.459459</td>\n",
       "      <td>0.054335</td>\n",
       "    </tr>\n",
       "    <tr>\n",
       "      <th>chr2:25432714-25433707</th>\n",
       "      <td>0.9998</td>\n",
       "      <td>True</td>\n",
       "      <td>8.516943</td>\n",
       "      <td>-0.890856</td>\n",
       "      <td>-0.460159</td>\n",
       "      <td>0.950219</td>\n",
       "      <td>0.059363</td>\n",
       "      <td>0.493243</td>\n",
       "      <td>0.033084</td>\n",
       "    </tr>\n",
       "    <tr>\n",
       "      <th>chr6:33560083-33561500</th>\n",
       "      <td>0.9998</td>\n",
       "      <td>True</td>\n",
       "      <td>8.516943</td>\n",
       "      <td>-0.827354</td>\n",
       "      <td>-0.451047</td>\n",
       "      <td>0.949222</td>\n",
       "      <td>0.121868</td>\n",
       "      <td>0.515766</td>\n",
       "      <td>0.064719</td>\n",
       "    </tr>\n",
       "    <tr>\n",
       "      <th>chr11:45951188-45953584</th>\n",
       "      <td>0.9998</td>\n",
       "      <td>True</td>\n",
       "      <td>8.516943</td>\n",
       "      <td>-0.722014</td>\n",
       "      <td>-0.396407</td>\n",
       "      <td>0.913219</td>\n",
       "      <td>0.191205</td>\n",
       "      <td>0.493243</td>\n",
       "      <td>0.096837</td>\n",
       "    </tr>\n",
       "    <tr>\n",
       "      <th>chr14:74867750-74870009</th>\n",
       "      <td>0.9998</td>\n",
       "      <td>True</td>\n",
       "      <td>8.516943</td>\n",
       "      <td>-0.752976</td>\n",
       "      <td>-0.386747</td>\n",
       "      <td>0.943485</td>\n",
       "      <td>0.190508</td>\n",
       "      <td>0.493243</td>\n",
       "      <td>0.106496</td>\n",
       "    </tr>\n",
       "    <tr>\n",
       "      <th>chr5:150503270-150506342</th>\n",
       "      <td>0.9998</td>\n",
       "      <td>True</td>\n",
       "      <td>8.516943</td>\n",
       "      <td>-0.684722</td>\n",
       "      <td>-0.391794</td>\n",
       "      <td>0.939921</td>\n",
       "      <td>0.255199</td>\n",
       "      <td>0.527027</td>\n",
       "      <td>0.135233</td>\n",
       "    </tr>\n",
       "    <tr>\n",
       "      <th>chr22:42320195-42323477</th>\n",
       "      <td>0.9998</td>\n",
       "      <td>True</td>\n",
       "      <td>8.516943</td>\n",
       "      <td>-0.667704</td>\n",
       "      <td>-0.375457</td>\n",
       "      <td>0.939773</td>\n",
       "      <td>0.272069</td>\n",
       "      <td>0.522523</td>\n",
       "      <td>0.147066</td>\n",
       "    </tr>\n",
       "    <tr>\n",
       "      <th>chr12:92566079-92567078</th>\n",
       "      <td>0.9996</td>\n",
       "      <td>True</td>\n",
       "      <td>7.823621</td>\n",
       "      <td>-0.844157</td>\n",
       "      <td>-0.432502</td>\n",
       "      <td>0.877974</td>\n",
       "      <td>0.033817</td>\n",
       "      <td>0.448198</td>\n",
       "      <td>0.015697</td>\n",
       "    </tr>\n",
       "    <tr>\n",
       "      <th>chr14:64701787-64703599</th>\n",
       "      <td>0.9996</td>\n",
       "      <td>True</td>\n",
       "      <td>7.823621</td>\n",
       "      <td>-0.920926</td>\n",
       "      <td>-0.551225</td>\n",
       "      <td>0.958358</td>\n",
       "      <td>0.037433</td>\n",
       "      <td>0.569820</td>\n",
       "      <td>0.018595</td>\n",
       "    </tr>\n",
       "  </tbody>\n",
       "</table>\n",
       "</div>"
      ],
      "text/plain": [
       "                          prob_da  is_da_fdr  bayes_factor  effect_size  \\\n",
       "chr4:2852856-2854873       1.0000       True     18.420681    -0.571788   \n",
       "chr22:22522044-22523273    0.9998       True      8.516943    -0.776410   \n",
       "chr2:25432714-25433707     0.9998       True      8.516943    -0.890856   \n",
       "chr6:33560083-33561500     0.9998       True      8.516943    -0.827354   \n",
       "chr11:45951188-45953584    0.9998       True      8.516943    -0.722014   \n",
       "chr14:74867750-74870009    0.9998       True      8.516943    -0.752976   \n",
       "chr5:150503270-150506342   0.9998       True      8.516943    -0.684722   \n",
       "chr22:42320195-42323477    0.9998       True      8.516943    -0.667704   \n",
       "chr12:92566079-92567078    0.9996       True      7.823621    -0.844157   \n",
       "chr14:64701787-64703599    0.9996       True      7.823621    -0.920926   \n",
       "\n",
       "                          emp_effect  est_prob1  est_prob2  emp_prob1  \\\n",
       "chr4:2852856-2854873       -0.270808   0.647310   0.075522   0.306306   \n",
       "chr22:22522044-22523273    -0.405125   0.887602   0.111192   0.459459   \n",
       "chr2:25432714-25433707     -0.460159   0.950219   0.059363   0.493243   \n",
       "chr6:33560083-33561500     -0.451047   0.949222   0.121868   0.515766   \n",
       "chr11:45951188-45953584    -0.396407   0.913219   0.191205   0.493243   \n",
       "chr14:74867750-74870009    -0.386747   0.943485   0.190508   0.493243   \n",
       "chr5:150503270-150506342   -0.391794   0.939921   0.255199   0.527027   \n",
       "chr22:42320195-42323477    -0.375457   0.939773   0.272069   0.522523   \n",
       "chr12:92566079-92567078    -0.432502   0.877974   0.033817   0.448198   \n",
       "chr14:64701787-64703599    -0.551225   0.958358   0.037433   0.569820   \n",
       "\n",
       "                          emp_prob2  \n",
       "chr4:2852856-2854873       0.035499  \n",
       "chr22:22522044-22523273    0.054335  \n",
       "chr2:25432714-25433707     0.033084  \n",
       "chr6:33560083-33561500     0.064719  \n",
       "chr11:45951188-45953584    0.096837  \n",
       "chr14:74867750-74870009    0.106496  \n",
       "chr5:150503270-150506342   0.135233  \n",
       "chr22:42320195-42323477    0.147066  \n",
       "chr12:92566079-92567078    0.015697  \n",
       "chr14:64701787-64703599    0.018595  "
      ]
     },
     "execution_count": 14,
     "metadata": {},
     "output_type": "execute_result"
    }
   ],
   "source": [
    "plt.scatter(da_res22.effect_size, da_res22.prob_da, s=1)\n",
    "plt.xlabel(\"effect size\")\n",
    "plt.ylabel(\"probability of DA\")\n",
    "plt.show()\n",
    "\n",
    "da_res22.loc[da_res22.is_da_fdr].sort_values(\"prob_da\", ascending=False).head(10)"
   ]
  },
  {
   "cell_type": "markdown",
   "metadata": {
    "id": "a8_I_8PLMf8U"
   },
   "source": [
    "We can now examine these regions to understand what is happening in the data, using various different annotation and enrichment methods. For instance, `chr11:60222766-60223569`, one of the regions preferentially accessible in cluster 0, is the promoter region of [`MS4A1`](https://www.genecards.org/cgi-bin/carddisp.pl?gene=MS4A1), also known as `CD20`, a known B-cell surface marker, indicating that cluster 0 are probably B-cells."
   ]
  },
  {
   "cell_type": "code",
   "execution_count": null,
   "metadata": {},
   "outputs": [],
   "source": []
  }
 ],
 "metadata": {
  "accelerator": "GPU",
  "colab": {
   "provenance": []
  },
  "kernelspec": {
   "display_name": "Python 3 (ipykernel)",
   "language": "python",
   "name": "python3"
  },
  "language_info": {
   "codemirror_mode": {
    "name": "ipython",
    "version": 3
   },
   "file_extension": ".py",
   "mimetype": "text/x-python",
   "name": "python",
   "nbconvert_exporter": "python",
   "pygments_lexer": "ipython3",
   "version": "3.12.10"
  },
  "widgets": {
   "application/vnd.jupyter.widget-state+json": {
    "state": {
     "0aca84c72800403b97076c051be1517f": {
      "model_module": "@jupyter-widgets/controls",
      "model_module_version": "2.0.0",
      "model_name": "HTMLStyleModel",
      "state": {
       "_model_module": "@jupyter-widgets/controls",
       "_model_module_version": "2.0.0",
       "_model_name": "HTMLStyleModel",
       "_view_count": null,
       "_view_module": "@jupyter-widgets/base",
       "_view_module_version": "2.0.0",
       "_view_name": "StyleView",
       "background": null,
       "description_width": "",
       "font_size": null,
       "text_color": null
      }
     },
     "179a46fc37c54ca894072daf74655d70": {
      "model_module": "@jupyter-widgets/controls",
      "model_module_version": "2.0.0",
      "model_name": "HTMLModel",
      "state": {
       "_dom_classes": [],
       "_model_module": "@jupyter-widgets/controls",
       "_model_module_version": "2.0.0",
       "_model_name": "HTMLModel",
       "_view_count": null,
       "_view_module": "@jupyter-widgets/controls",
       "_view_module_version": "2.0.0",
       "_view_name": "HTMLView",
       "description": "",
       "description_allow_html": false,
       "layout": "IPY_MODEL_a0cf1decc3744c629b6b330cd75fb357",
       "placeholder": "​",
       "style": "IPY_MODEL_4e90c51d8fc444258613d4a0b58bef79",
       "tabbable": null,
       "tooltip": null,
       "value": " 365M/365M [00:58&lt;00:00, 6.30MB/s]"
      }
     },
     "229b205027df4a08913cbb0c6dcadd0b": {
      "model_module": "@jupyter-widgets/controls",
      "model_module_version": "2.0.0",
      "model_name": "HTMLStyleModel",
      "state": {
       "_model_module": "@jupyter-widgets/controls",
       "_model_module_version": "2.0.0",
       "_model_name": "HTMLStyleModel",
       "_view_count": null,
       "_view_module": "@jupyter-widgets/base",
       "_view_module_version": "2.0.0",
       "_view_name": "StyleView",
       "background": null,
       "description_width": "",
       "font_size": null,
       "text_color": null
      }
     },
     "23b522966147408d9bf623ec01eca871": {
      "model_module": "@jupyter-widgets/controls",
      "model_module_version": "2.0.0",
      "model_name": "ProgressStyleModel",
      "state": {
       "_model_module": "@jupyter-widgets/controls",
       "_model_module_version": "2.0.0",
       "_model_name": "ProgressStyleModel",
       "_view_count": null,
       "_view_module": "@jupyter-widgets/base",
       "_view_module_version": "2.0.0",
       "_view_name": "StyleView",
       "bar_color": null,
       "description_width": ""
      }
     },
     "286858e79a43404b8e1d3e07521c9cfe": {
      "model_module": "@jupyter-widgets/base",
      "model_module_version": "2.0.0",
      "model_name": "LayoutModel",
      "state": {
       "_model_module": "@jupyter-widgets/base",
       "_model_module_version": "2.0.0",
       "_model_name": "LayoutModel",
       "_view_count": null,
       "_view_module": "@jupyter-widgets/base",
       "_view_module_version": "2.0.0",
       "_view_name": "LayoutView",
       "align_content": null,
       "align_items": null,
       "align_self": null,
       "border_bottom": null,
       "border_left": null,
       "border_right": null,
       "border_top": null,
       "bottom": null,
       "display": null,
       "flex": null,
       "flex_flow": null,
       "grid_area": null,
       "grid_auto_columns": null,
       "grid_auto_flow": null,
       "grid_auto_rows": null,
       "grid_column": null,
       "grid_gap": null,
       "grid_row": null,
       "grid_template_areas": null,
       "grid_template_columns": null,
       "grid_template_rows": null,
       "height": null,
       "justify_content": null,
       "justify_items": null,
       "left": null,
       "margin": null,
       "max_height": null,
       "max_width": null,
       "min_height": null,
       "min_width": null,
       "object_fit": null,
       "object_position": null,
       "order": null,
       "overflow": null,
       "padding": null,
       "right": null,
       "top": null,
       "visibility": null,
       "width": null
      }
     },
     "29362b121b2b493492e0cfe86c2c75e2": {
      "model_module": "@jupyter-widgets/controls",
      "model_module_version": "2.0.0",
      "model_name": "HTMLModel",
      "state": {
       "_dom_classes": [],
       "_model_module": "@jupyter-widgets/controls",
       "_model_module_version": "2.0.0",
       "_model_name": "HTMLModel",
       "_view_count": null,
       "_view_module": "@jupyter-widgets/controls",
       "_view_module_version": "2.0.0",
       "_view_name": "HTMLView",
       "description": "",
       "description_allow_html": false,
       "layout": "IPY_MODEL_d7927414a8444914bb312f8ca411bb7f",
       "placeholder": "​",
       "style": "IPY_MODEL_0aca84c72800403b97076c051be1517f",
       "tabbable": null,
       "tooltip": null,
       "value": " 1/1 [00:05&lt;00:00,  5.74s/it]"
      }
     },
     "2a0263713625472c9db881cf5f785546": {
      "model_module": "@jupyter-widgets/controls",
      "model_module_version": "2.0.0",
      "model_name": "HTMLModel",
      "state": {
       "_dom_classes": [],
       "_model_module": "@jupyter-widgets/controls",
       "_model_module_version": "2.0.0",
       "_model_name": "HTMLModel",
       "_view_count": null,
       "_view_module": "@jupyter-widgets/controls",
       "_view_module_version": "2.0.0",
       "_view_name": "HTMLView",
       "description": "",
       "description_allow_html": false,
       "layout": "IPY_MODEL_80d4ef2165d94ccaa0cdd7c4efa1e758",
       "placeholder": "​",
       "style": "IPY_MODEL_db6778ad651f4d55b00196fcd6305091",
       "tabbable": null,
       "tooltip": null,
       "value": "DE...: 100%"
      }
     },
     "2b05407a475149afbfa42fcd3e93b5b2": {
      "model_module": "@jupyter-widgets/controls",
      "model_module_version": "2.0.0",
      "model_name": "FloatProgressModel",
      "state": {
       "_dom_classes": [],
       "_model_module": "@jupyter-widgets/controls",
       "_model_module_version": "2.0.0",
       "_model_name": "FloatProgressModel",
       "_view_count": null,
       "_view_module": "@jupyter-widgets/controls",
       "_view_module_version": "2.0.0",
       "_view_name": "ProgressView",
       "bar_style": "success",
       "description": "",
       "description_allow_html": false,
       "layout": "IPY_MODEL_31e062b3c8774424b459248378c9c501",
       "max": 1.0,
       "min": 0.0,
       "orientation": "horizontal",
       "style": "IPY_MODEL_9786367bfb854095a5b3d71b0f93c0aa",
       "tabbable": null,
       "tooltip": null,
       "value": 1.0
      }
     },
     "2c62229a598c4693a8f505ae0d230cd0": {
      "model_module": "@jupyter-widgets/controls",
      "model_module_version": "2.0.0",
      "model_name": "HTMLModel",
      "state": {
       "_dom_classes": [],
       "_model_module": "@jupyter-widgets/controls",
       "_model_module_version": "2.0.0",
       "_model_name": "HTMLModel",
       "_view_count": null,
       "_view_module": "@jupyter-widgets/controls",
       "_view_module_version": "2.0.0",
       "_view_name": "HTMLView",
       "description": "",
       "description_allow_html": false,
       "layout": "IPY_MODEL_f9a64a50ea834856abae063d028f3369",
       "placeholder": "​",
       "style": "IPY_MODEL_a124710f0fa941098e67ffe96aee88b6",
       "tabbable": null,
       "tooltip": null,
       "value": " 283/500 [02:21&lt;01:43,  2.10it/s, v_num=1, train_loss_step=1.18e+7, train_loss_epoch=2.01e+8]"
      }
     },
     "2d1d816e1dca46779729cff8839ee509": {
      "model_module": "@jupyter-widgets/controls",
      "model_module_version": "2.0.0",
      "model_name": "HTMLModel",
      "state": {
       "_dom_classes": [],
       "_model_module": "@jupyter-widgets/controls",
       "_model_module_version": "2.0.0",
       "_model_name": "HTMLModel",
       "_view_count": null,
       "_view_module": "@jupyter-widgets/controls",
       "_view_module_version": "2.0.0",
       "_view_name": "HTMLView",
       "description": "",
       "description_allow_html": false,
       "layout": "IPY_MODEL_eaea730a8efd46078619b80931e9ecc1",
       "placeholder": "​",
       "style": "IPY_MODEL_b785001821d749f6b7bcc293a06d9800",
       "tabbable": null,
       "tooltip": null,
       "value": "DE...: 100%"
      }
     },
     "31e062b3c8774424b459248378c9c501": {
      "model_module": "@jupyter-widgets/base",
      "model_module_version": "2.0.0",
      "model_name": "LayoutModel",
      "state": {
       "_model_module": "@jupyter-widgets/base",
       "_model_module_version": "2.0.0",
       "_model_name": "LayoutModel",
       "_view_count": null,
       "_view_module": "@jupyter-widgets/base",
       "_view_module_version": "2.0.0",
       "_view_name": "LayoutView",
       "align_content": null,
       "align_items": null,
       "align_self": null,
       "border_bottom": null,
       "border_left": null,
       "border_right": null,
       "border_top": null,
       "bottom": null,
       "display": null,
       "flex": null,
       "flex_flow": null,
       "grid_area": null,
       "grid_auto_columns": null,
       "grid_auto_flow": null,
       "grid_auto_rows": null,
       "grid_column": null,
       "grid_gap": null,
       "grid_row": null,
       "grid_template_areas": null,
       "grid_template_columns": null,
       "grid_template_rows": null,
       "height": null,
       "justify_content": null,
       "justify_items": null,
       "left": null,
       "margin": null,
       "max_height": null,
       "max_width": null,
       "min_height": null,
       "min_width": null,
       "object_fit": null,
       "object_position": null,
       "order": null,
       "overflow": null,
       "padding": null,
       "right": null,
       "top": null,
       "visibility": null,
       "width": null
      }
     },
     "332a32ed336d454ebc7c700313259d68": {
      "model_module": "@jupyter-widgets/base",
      "model_module_version": "2.0.0",
      "model_name": "LayoutModel",
      "state": {
       "_model_module": "@jupyter-widgets/base",
       "_model_module_version": "2.0.0",
       "_model_name": "LayoutModel",
       "_view_count": null,
       "_view_module": "@jupyter-widgets/base",
       "_view_module_version": "2.0.0",
       "_view_name": "LayoutView",
       "align_content": null,
       "align_items": null,
       "align_self": null,
       "border_bottom": null,
       "border_left": null,
       "border_right": null,
       "border_top": null,
       "bottom": null,
       "display": null,
       "flex": null,
       "flex_flow": null,
       "grid_area": null,
       "grid_auto_columns": null,
       "grid_auto_flow": null,
       "grid_auto_rows": null,
       "grid_column": null,
       "grid_gap": null,
       "grid_row": null,
       "grid_template_areas": null,
       "grid_template_columns": null,
       "grid_template_rows": null,
       "height": null,
       "justify_content": null,
       "justify_items": null,
       "left": null,
       "margin": null,
       "max_height": null,
       "max_width": null,
       "min_height": null,
       "min_width": null,
       "object_fit": null,
       "object_position": null,
       "order": null,
       "overflow": null,
       "padding": null,
       "right": null,
       "top": null,
       "visibility": null,
       "width": null
      }
     },
     "356410e395c444d9941cb81f5de22906": {
      "model_module": "@jupyter-widgets/base",
      "model_module_version": "2.0.0",
      "model_name": "LayoutModel",
      "state": {
       "_model_module": "@jupyter-widgets/base",
       "_model_module_version": "2.0.0",
       "_model_name": "LayoutModel",
       "_view_count": null,
       "_view_module": "@jupyter-widgets/base",
       "_view_module_version": "2.0.0",
       "_view_name": "LayoutView",
       "align_content": null,
       "align_items": null,
       "align_self": null,
       "border_bottom": null,
       "border_left": null,
       "border_right": null,
       "border_top": null,
       "bottom": null,
       "display": null,
       "flex": null,
       "flex_flow": null,
       "grid_area": null,
       "grid_auto_columns": null,
       "grid_auto_flow": null,
       "grid_auto_rows": null,
       "grid_column": null,
       "grid_gap": null,
       "grid_row": null,
       "grid_template_areas": null,
       "grid_template_columns": null,
       "grid_template_rows": null,
       "height": null,
       "justify_content": null,
       "justify_items": null,
       "left": null,
       "margin": null,
       "max_height": null,
       "max_width": null,
       "min_height": null,
       "min_width": null,
       "object_fit": null,
       "object_position": null,
       "order": null,
       "overflow": null,
       "padding": null,
       "right": null,
       "top": null,
       "visibility": null,
       "width": null
      }
     },
     "362377fb277e4a838e1c388882053552": {
      "model_module": "@jupyter-widgets/controls",
      "model_module_version": "2.0.0",
      "model_name": "HTMLStyleModel",
      "state": {
       "_model_module": "@jupyter-widgets/controls",
       "_model_module_version": "2.0.0",
       "_model_name": "HTMLStyleModel",
       "_view_count": null,
       "_view_module": "@jupyter-widgets/base",
       "_view_module_version": "2.0.0",
       "_view_name": "StyleView",
       "background": null,
       "description_width": "",
       "font_size": null,
       "text_color": null
      }
     },
     "3a638003d7084d4e8c000ddf99674071": {
      "model_module": "@jupyter-widgets/controls",
      "model_module_version": "2.0.0",
      "model_name": "HTMLStyleModel",
      "state": {
       "_model_module": "@jupyter-widgets/controls",
       "_model_module_version": "2.0.0",
       "_model_name": "HTMLStyleModel",
       "_view_count": null,
       "_view_module": "@jupyter-widgets/base",
       "_view_module_version": "2.0.0",
       "_view_name": "StyleView",
       "background": null,
       "description_width": "",
       "font_size": null,
       "text_color": null
      }
     },
     "3ca193d6717647a1bb89c7c894035330": {
      "model_module": "@jupyter-widgets/controls",
      "model_module_version": "2.0.0",
      "model_name": "HTMLStyleModel",
      "state": {
       "_model_module": "@jupyter-widgets/controls",
       "_model_module_version": "2.0.0",
       "_model_name": "HTMLStyleModel",
       "_view_count": null,
       "_view_module": "@jupyter-widgets/base",
       "_view_module_version": "2.0.0",
       "_view_name": "StyleView",
       "background": null,
       "description_width": "",
       "font_size": null,
       "text_color": null
      }
     },
     "41fbbcf298a04ced93ecf466e10a2fba": {
      "model_module": "@jupyter-widgets/controls",
      "model_module_version": "2.0.0",
      "model_name": "FloatProgressModel",
      "state": {
       "_dom_classes": [],
       "_model_module": "@jupyter-widgets/controls",
       "_model_module_version": "2.0.0",
       "_model_name": "FloatProgressModel",
       "_view_count": null,
       "_view_module": "@jupyter-widgets/controls",
       "_view_module_version": "2.0.0",
       "_view_name": "ProgressView",
       "bar_style": "danger",
       "description": "",
       "description_allow_html": false,
       "layout": "IPY_MODEL_9adaf43999bd47c18aa5db3b38ac778c",
       "max": 500.0,
       "min": 0.0,
       "orientation": "horizontal",
       "style": "IPY_MODEL_4b467a1a3bac45db8d1645bbe0f63dc5",
       "tabbable": null,
       "tooltip": null,
       "value": 283.0
      }
     },
     "47592c1ddd1d4567ae52f3fddb1588ef": {
      "model_module": "@jupyter-widgets/controls",
      "model_module_version": "2.0.0",
      "model_name": "HTMLModel",
      "state": {
       "_dom_classes": [],
       "_model_module": "@jupyter-widgets/controls",
       "_model_module_version": "2.0.0",
       "_model_name": "HTMLModel",
       "_view_count": null,
       "_view_module": "@jupyter-widgets/controls",
       "_view_module_version": "2.0.0",
       "_view_name": "HTMLView",
       "description": "",
       "description_allow_html": false,
       "layout": "IPY_MODEL_fc9657fbb15442b58fb8790fa51b05e8",
       "placeholder": "​",
       "style": "IPY_MODEL_3ca193d6717647a1bb89c7c894035330",
       "tabbable": null,
       "tooltip": null,
       "value": " 1/1 [00:05&lt;00:00,  5.90s/it]"
      }
     },
     "48e59681e7d149c7afc4cfc76ff75e70": {
      "model_module": "@jupyter-widgets/controls",
      "model_module_version": "2.0.0",
      "model_name": "HBoxModel",
      "state": {
       "_dom_classes": [],
       "_model_module": "@jupyter-widgets/controls",
       "_model_module_version": "2.0.0",
       "_model_name": "HBoxModel",
       "_view_count": null,
       "_view_module": "@jupyter-widgets/controls",
       "_view_module_version": "2.0.0",
       "_view_name": "HBoxView",
       "box_style": "",
       "children": [
        "IPY_MODEL_2d1d816e1dca46779729cff8839ee509",
        "IPY_MODEL_c728ba3436e64a67aee332fd0e5cf855",
        "IPY_MODEL_e9ef1bab64a0447e982339201c0e218c"
       ],
       "layout": "IPY_MODEL_8ed8a4f4c8564a8ebdb203c12bbb4f54",
       "tabbable": null,
       "tooltip": null
      }
     },
     "4b467a1a3bac45db8d1645bbe0f63dc5": {
      "model_module": "@jupyter-widgets/controls",
      "model_module_version": "2.0.0",
      "model_name": "ProgressStyleModel",
      "state": {
       "_model_module": "@jupyter-widgets/controls",
       "_model_module_version": "2.0.0",
       "_model_name": "ProgressStyleModel",
       "_view_count": null,
       "_view_module": "@jupyter-widgets/base",
       "_view_module_version": "2.0.0",
       "_view_name": "StyleView",
       "bar_color": null,
       "description_width": ""
      }
     },
     "4e90c51d8fc444258613d4a0b58bef79": {
      "model_module": "@jupyter-widgets/controls",
      "model_module_version": "2.0.0",
      "model_name": "HTMLStyleModel",
      "state": {
       "_model_module": "@jupyter-widgets/controls",
       "_model_module_version": "2.0.0",
       "_model_name": "HTMLStyleModel",
       "_view_count": null,
       "_view_module": "@jupyter-widgets/base",
       "_view_module_version": "2.0.0",
       "_view_name": "StyleView",
       "background": null,
       "description_width": "",
       "font_size": null,
       "text_color": null
      }
     },
     "516e2b34f0164c039c99d6ea60075121": {
      "model_module": "@jupyter-widgets/base",
      "model_module_version": "2.0.0",
      "model_name": "LayoutModel",
      "state": {
       "_model_module": "@jupyter-widgets/base",
       "_model_module_version": "2.0.0",
       "_model_name": "LayoutModel",
       "_view_count": null,
       "_view_module": "@jupyter-widgets/base",
       "_view_module_version": "2.0.0",
       "_view_name": "LayoutView",
       "align_content": null,
       "align_items": null,
       "align_self": null,
       "border_bottom": null,
       "border_left": null,
       "border_right": null,
       "border_top": null,
       "bottom": null,
       "display": null,
       "flex": null,
       "flex_flow": null,
       "grid_area": null,
       "grid_auto_columns": null,
       "grid_auto_flow": null,
       "grid_auto_rows": null,
       "grid_column": null,
       "grid_gap": null,
       "grid_row": null,
       "grid_template_areas": null,
       "grid_template_columns": null,
       "grid_template_rows": null,
       "height": null,
       "justify_content": null,
       "justify_items": null,
       "left": null,
       "margin": null,
       "max_height": null,
       "max_width": null,
       "min_height": null,
       "min_width": null,
       "object_fit": null,
       "object_position": null,
       "order": null,
       "overflow": null,
       "padding": null,
       "right": null,
       "top": null,
       "visibility": null,
       "width": null
      }
     },
     "58cc2a64f52a4672afd90508b5d01a9e": {
      "model_module": "@jupyter-widgets/base",
      "model_module_version": "2.0.0",
      "model_name": "LayoutModel",
      "state": {
       "_model_module": "@jupyter-widgets/base",
       "_model_module_version": "2.0.0",
       "_model_name": "LayoutModel",
       "_view_count": null,
       "_view_module": "@jupyter-widgets/base",
       "_view_module_version": "2.0.0",
       "_view_name": "LayoutView",
       "align_content": null,
       "align_items": null,
       "align_self": null,
       "border_bottom": null,
       "border_left": null,
       "border_right": null,
       "border_top": null,
       "bottom": null,
       "display": null,
       "flex": null,
       "flex_flow": null,
       "grid_area": null,
       "grid_auto_columns": null,
       "grid_auto_flow": null,
       "grid_auto_rows": null,
       "grid_column": null,
       "grid_gap": null,
       "grid_row": null,
       "grid_template_areas": null,
       "grid_template_columns": null,
       "grid_template_rows": null,
       "height": null,
       "justify_content": null,
       "justify_items": null,
       "left": null,
       "margin": null,
       "max_height": null,
       "max_width": null,
       "min_height": null,
       "min_width": null,
       "object_fit": null,
       "object_position": null,
       "order": null,
       "overflow": null,
       "padding": null,
       "right": null,
       "top": null,
       "visibility": null,
       "width": null
      }
     },
     "5937c13108dd44db88d0b01e53524cfd": {
      "model_module": "@jupyter-widgets/controls",
      "model_module_version": "2.0.0",
      "model_name": "ProgressStyleModel",
      "state": {
       "_model_module": "@jupyter-widgets/controls",
       "_model_module_version": "2.0.0",
       "_model_name": "ProgressStyleModel",
       "_view_count": null,
       "_view_module": "@jupyter-widgets/base",
       "_view_module_version": "2.0.0",
       "_view_name": "StyleView",
       "bar_color": null,
       "description_width": ""
      }
     },
     "5ca6ca52bd4c4f37948d2d24b4c4b0c2": {
      "model_module": "@jupyter-widgets/base",
      "model_module_version": "2.0.0",
      "model_name": "LayoutModel",
      "state": {
       "_model_module": "@jupyter-widgets/base",
       "_model_module_version": "2.0.0",
       "_model_name": "LayoutModel",
       "_view_count": null,
       "_view_module": "@jupyter-widgets/base",
       "_view_module_version": "2.0.0",
       "_view_name": "LayoutView",
       "align_content": null,
       "align_items": null,
       "align_self": null,
       "border_bottom": null,
       "border_left": null,
       "border_right": null,
       "border_top": null,
       "bottom": null,
       "display": null,
       "flex": null,
       "flex_flow": null,
       "grid_area": null,
       "grid_auto_columns": null,
       "grid_auto_flow": null,
       "grid_auto_rows": null,
       "grid_column": null,
       "grid_gap": null,
       "grid_row": null,
       "grid_template_areas": null,
       "grid_template_columns": null,
       "grid_template_rows": null,
       "height": null,
       "justify_content": null,
       "justify_items": null,
       "left": null,
       "margin": null,
       "max_height": null,
       "max_width": null,
       "min_height": null,
       "min_width": null,
       "object_fit": null,
       "object_position": null,
       "order": null,
       "overflow": null,
       "padding": null,
       "right": null,
       "top": null,
       "visibility": null,
       "width": null
      }
     },
     "6057a524ed4547189d0f896a9f8b41cc": {
      "model_module": "@jupyter-widgets/base",
      "model_module_version": "2.0.0",
      "model_name": "LayoutModel",
      "state": {
       "_model_module": "@jupyter-widgets/base",
       "_model_module_version": "2.0.0",
       "_model_name": "LayoutModel",
       "_view_count": null,
       "_view_module": "@jupyter-widgets/base",
       "_view_module_version": "2.0.0",
       "_view_name": "LayoutView",
       "align_content": null,
       "align_items": null,
       "align_self": null,
       "border_bottom": null,
       "border_left": null,
       "border_right": null,
       "border_top": null,
       "bottom": null,
       "display": null,
       "flex": null,
       "flex_flow": null,
       "grid_area": null,
       "grid_auto_columns": null,
       "grid_auto_flow": null,
       "grid_auto_rows": null,
       "grid_column": null,
       "grid_gap": null,
       "grid_row": null,
       "grid_template_areas": null,
       "grid_template_columns": null,
       "grid_template_rows": null,
       "height": null,
       "justify_content": null,
       "justify_items": null,
       "left": null,
       "margin": null,
       "max_height": null,
       "max_width": null,
       "min_height": null,
       "min_width": null,
       "object_fit": null,
       "object_position": null,
       "order": null,
       "overflow": null,
       "padding": null,
       "right": null,
       "top": null,
       "visibility": null,
       "width": null
      }
     },
     "62b155171d3140569ef7fe0229e2c95f": {
      "model_module": "@jupyter-widgets/base",
      "model_module_version": "2.0.0",
      "model_name": "LayoutModel",
      "state": {
       "_model_module": "@jupyter-widgets/base",
       "_model_module_version": "2.0.0",
       "_model_name": "LayoutModel",
       "_view_count": null,
       "_view_module": "@jupyter-widgets/base",
       "_view_module_version": "2.0.0",
       "_view_name": "LayoutView",
       "align_content": null,
       "align_items": null,
       "align_self": null,
       "border_bottom": null,
       "border_left": null,
       "border_right": null,
       "border_top": null,
       "bottom": null,
       "display": null,
       "flex": null,
       "flex_flow": null,
       "grid_area": null,
       "grid_auto_columns": null,
       "grid_auto_flow": null,
       "grid_auto_rows": null,
       "grid_column": null,
       "grid_gap": null,
       "grid_row": null,
       "grid_template_areas": null,
       "grid_template_columns": null,
       "grid_template_rows": null,
       "height": null,
       "justify_content": null,
       "justify_items": null,
       "left": null,
       "margin": null,
       "max_height": null,
       "max_width": null,
       "min_height": null,
       "min_width": null,
       "object_fit": null,
       "object_position": null,
       "order": null,
       "overflow": null,
       "padding": null,
       "right": null,
       "top": null,
       "visibility": null,
       "width": null
      }
     },
     "72f628ff8a3144c5bb4055384529f9df": {
      "model_module": "@jupyter-widgets/base",
      "model_module_version": "2.0.0",
      "model_name": "LayoutModel",
      "state": {
       "_model_module": "@jupyter-widgets/base",
       "_model_module_version": "2.0.0",
       "_model_name": "LayoutModel",
       "_view_count": null,
       "_view_module": "@jupyter-widgets/base",
       "_view_module_version": "2.0.0",
       "_view_name": "LayoutView",
       "align_content": null,
       "align_items": null,
       "align_self": null,
       "border_bottom": null,
       "border_left": null,
       "border_right": null,
       "border_top": null,
       "bottom": null,
       "display": null,
       "flex": null,
       "flex_flow": null,
       "grid_area": null,
       "grid_auto_columns": null,
       "grid_auto_flow": null,
       "grid_auto_rows": null,
       "grid_column": null,
       "grid_gap": null,
       "grid_row": null,
       "grid_template_areas": null,
       "grid_template_columns": null,
       "grid_template_rows": null,
       "height": null,
       "justify_content": null,
       "justify_items": null,
       "left": null,
       "margin": null,
       "max_height": null,
       "max_width": null,
       "min_height": null,
       "min_width": null,
       "object_fit": null,
       "object_position": null,
       "order": null,
       "overflow": null,
       "padding": null,
       "right": null,
       "top": null,
       "visibility": null,
       "width": null
      }
     },
     "741ec2896a214070a44cf1088792fc49": {
      "model_module": "@jupyter-widgets/base",
      "model_module_version": "2.0.0",
      "model_name": "LayoutModel",
      "state": {
       "_model_module": "@jupyter-widgets/base",
       "_model_module_version": "2.0.0",
       "_model_name": "LayoutModel",
       "_view_count": null,
       "_view_module": "@jupyter-widgets/base",
       "_view_module_version": "2.0.0",
       "_view_name": "LayoutView",
       "align_content": null,
       "align_items": null,
       "align_self": null,
       "border_bottom": null,
       "border_left": null,
       "border_right": null,
       "border_top": null,
       "bottom": null,
       "display": null,
       "flex": null,
       "flex_flow": null,
       "grid_area": null,
       "grid_auto_columns": null,
       "grid_auto_flow": null,
       "grid_auto_rows": null,
       "grid_column": null,
       "grid_gap": null,
       "grid_row": null,
       "grid_template_areas": null,
       "grid_template_columns": null,
       "grid_template_rows": null,
       "height": null,
       "justify_content": null,
       "justify_items": null,
       "left": null,
       "margin": null,
       "max_height": null,
       "max_width": null,
       "min_height": null,
       "min_width": null,
       "object_fit": null,
       "object_position": null,
       "order": null,
       "overflow": null,
       "padding": null,
       "right": null,
       "top": null,
       "visibility": null,
       "width": null
      }
     },
     "76674f0e482241c3b8c4b146cbafe800": {
      "model_module": "@jupyter-widgets/controls",
      "model_module_version": "2.0.0",
      "model_name": "HTMLModel",
      "state": {
       "_dom_classes": [],
       "_model_module": "@jupyter-widgets/controls",
       "_model_module_version": "2.0.0",
       "_model_name": "HTMLModel",
       "_view_count": null,
       "_view_module": "@jupyter-widgets/controls",
       "_view_module_version": "2.0.0",
       "_view_name": "HTMLView",
       "description": "",
       "description_allow_html": false,
       "layout": "IPY_MODEL_958c4550259d478887bb4d89253edd8c",
       "placeholder": "​",
       "style": "IPY_MODEL_e14e7e36e28d493f912679412d726a27",
       "tabbable": null,
       "tooltip": null,
       "value": " 1/1 [00:05&lt;00:00,  5.75s/it]"
      }
     },
     "7c33dcba22084c4282b4a06da667e95f": {
      "model_module": "@jupyter-widgets/controls",
      "model_module_version": "2.0.0",
      "model_name": "FloatProgressModel",
      "state": {
       "_dom_classes": [],
       "_model_module": "@jupyter-widgets/controls",
       "_model_module_version": "2.0.0",
       "_model_name": "FloatProgressModel",
       "_view_count": null,
       "_view_module": "@jupyter-widgets/controls",
       "_view_module_version": "2.0.0",
       "_view_name": "ProgressView",
       "bar_style": "success",
       "description": "",
       "description_allow_html": false,
       "layout": "IPY_MODEL_356410e395c444d9941cb81f5de22906",
       "max": 1.0,
       "min": 0.0,
       "orientation": "horizontal",
       "style": "IPY_MODEL_f3fef88296ea45d9aa88e1709c6a514d",
       "tabbable": null,
       "tooltip": null,
       "value": 1.0
      }
     },
     "80d4ef2165d94ccaa0cdd7c4efa1e758": {
      "model_module": "@jupyter-widgets/base",
      "model_module_version": "2.0.0",
      "model_name": "LayoutModel",
      "state": {
       "_model_module": "@jupyter-widgets/base",
       "_model_module_version": "2.0.0",
       "_model_name": "LayoutModel",
       "_view_count": null,
       "_view_module": "@jupyter-widgets/base",
       "_view_module_version": "2.0.0",
       "_view_name": "LayoutView",
       "align_content": null,
       "align_items": null,
       "align_self": null,
       "border_bottom": null,
       "border_left": null,
       "border_right": null,
       "border_top": null,
       "bottom": null,
       "display": null,
       "flex": null,
       "flex_flow": null,
       "grid_area": null,
       "grid_auto_columns": null,
       "grid_auto_flow": null,
       "grid_auto_rows": null,
       "grid_column": null,
       "grid_gap": null,
       "grid_row": null,
       "grid_template_areas": null,
       "grid_template_columns": null,
       "grid_template_rows": null,
       "height": null,
       "justify_content": null,
       "justify_items": null,
       "left": null,
       "margin": null,
       "max_height": null,
       "max_width": null,
       "min_height": null,
       "min_width": null,
       "object_fit": null,
       "object_position": null,
       "order": null,
       "overflow": null,
       "padding": null,
       "right": null,
       "top": null,
       "visibility": null,
       "width": null
      }
     },
     "85d2508c852f4d2b8bf7295b65944015": {
      "model_module": "@jupyter-widgets/controls",
      "model_module_version": "2.0.0",
      "model_name": "HTMLStyleModel",
      "state": {
       "_model_module": "@jupyter-widgets/controls",
       "_model_module_version": "2.0.0",
       "_model_name": "HTMLStyleModel",
       "_view_count": null,
       "_view_module": "@jupyter-widgets/base",
       "_view_module_version": "2.0.0",
       "_view_name": "StyleView",
       "background": null,
       "description_width": "",
       "font_size": null,
       "text_color": null
      }
     },
     "8ba10d43ef7e4a7e8dda45fd8b72cc57": {
      "model_module": "@jupyter-widgets/controls",
      "model_module_version": "2.0.0",
      "model_name": "HBoxModel",
      "state": {
       "_dom_classes": [],
       "_model_module": "@jupyter-widgets/controls",
       "_model_module_version": "2.0.0",
       "_model_name": "HBoxModel",
       "_view_count": null,
       "_view_module": "@jupyter-widgets/controls",
       "_view_module_version": "2.0.0",
       "_view_name": "HBoxView",
       "box_style": "",
       "children": [
        "IPY_MODEL_2a0263713625472c9db881cf5f785546",
        "IPY_MODEL_7c33dcba22084c4282b4a06da667e95f",
        "IPY_MODEL_76674f0e482241c3b8c4b146cbafe800"
       ],
       "layout": "IPY_MODEL_58cc2a64f52a4672afd90508b5d01a9e",
       "tabbable": null,
       "tooltip": null
      }
     },
     "8ed8a4f4c8564a8ebdb203c12bbb4f54": {
      "model_module": "@jupyter-widgets/base",
      "model_module_version": "2.0.0",
      "model_name": "LayoutModel",
      "state": {
       "_model_module": "@jupyter-widgets/base",
       "_model_module_version": "2.0.0",
       "_model_name": "LayoutModel",
       "_view_count": null,
       "_view_module": "@jupyter-widgets/base",
       "_view_module_version": "2.0.0",
       "_view_name": "LayoutView",
       "align_content": null,
       "align_items": null,
       "align_self": null,
       "border_bottom": null,
       "border_left": null,
       "border_right": null,
       "border_top": null,
       "bottom": null,
       "display": null,
       "flex": null,
       "flex_flow": null,
       "grid_area": null,
       "grid_auto_columns": null,
       "grid_auto_flow": null,
       "grid_auto_rows": null,
       "grid_column": null,
       "grid_gap": null,
       "grid_row": null,
       "grid_template_areas": null,
       "grid_template_columns": null,
       "grid_template_rows": null,
       "height": null,
       "justify_content": null,
       "justify_items": null,
       "left": null,
       "margin": null,
       "max_height": null,
       "max_width": null,
       "min_height": null,
       "min_width": null,
       "object_fit": null,
       "object_position": null,
       "order": null,
       "overflow": null,
       "padding": null,
       "right": null,
       "top": null,
       "visibility": null,
       "width": null
      }
     },
     "8fdd3027c41c4fd5bdfffe09f9da93f0": {
      "model_module": "@jupyter-widgets/controls",
      "model_module_version": "2.0.0",
      "model_name": "FloatProgressModel",
      "state": {
       "_dom_classes": [],
       "_model_module": "@jupyter-widgets/controls",
       "_model_module_version": "2.0.0",
       "_model_name": "FloatProgressModel",
       "_view_count": null,
       "_view_module": "@jupyter-widgets/controls",
       "_view_module_version": "2.0.0",
       "_view_name": "ProgressView",
       "bar_style": "success",
       "description": "",
       "description_allow_html": false,
       "layout": "IPY_MODEL_286858e79a43404b8e1d3e07521c9cfe",
       "max": 1.0,
       "min": 0.0,
       "orientation": "horizontal",
       "style": "IPY_MODEL_e9a16dcb9b474a8db071b83968192ecc",
       "tabbable": null,
       "tooltip": null,
       "value": 1.0
      }
     },
     "958c4550259d478887bb4d89253edd8c": {
      "model_module": "@jupyter-widgets/base",
      "model_module_version": "2.0.0",
      "model_name": "LayoutModel",
      "state": {
       "_model_module": "@jupyter-widgets/base",
       "_model_module_version": "2.0.0",
       "_model_name": "LayoutModel",
       "_view_count": null,
       "_view_module": "@jupyter-widgets/base",
       "_view_module_version": "2.0.0",
       "_view_name": "LayoutView",
       "align_content": null,
       "align_items": null,
       "align_self": null,
       "border_bottom": null,
       "border_left": null,
       "border_right": null,
       "border_top": null,
       "bottom": null,
       "display": null,
       "flex": null,
       "flex_flow": null,
       "grid_area": null,
       "grid_auto_columns": null,
       "grid_auto_flow": null,
       "grid_auto_rows": null,
       "grid_column": null,
       "grid_gap": null,
       "grid_row": null,
       "grid_template_areas": null,
       "grid_template_columns": null,
       "grid_template_rows": null,
       "height": null,
       "justify_content": null,
       "justify_items": null,
       "left": null,
       "margin": null,
       "max_height": null,
       "max_width": null,
       "min_height": null,
       "min_width": null,
       "object_fit": null,
       "object_position": null,
       "order": null,
       "overflow": null,
       "padding": null,
       "right": null,
       "top": null,
       "visibility": null,
       "width": null
      }
     },
     "962140d2d4ae4db49be04fc2a458670f": {
      "model_module": "@jupyter-widgets/controls",
      "model_module_version": "2.0.0",
      "model_name": "HTMLModel",
      "state": {
       "_dom_classes": [],
       "_model_module": "@jupyter-widgets/controls",
       "_model_module_version": "2.0.0",
       "_model_name": "HTMLModel",
       "_view_count": null,
       "_view_module": "@jupyter-widgets/controls",
       "_view_module_version": "2.0.0",
       "_view_name": "HTMLView",
       "description": "",
       "description_allow_html": false,
       "layout": "IPY_MODEL_6057a524ed4547189d0f896a9f8b41cc",
       "placeholder": "​",
       "style": "IPY_MODEL_f10ad0688e3c4331a36e3b6f7ee0fff2",
       "tabbable": null,
       "tooltip": null,
       "value": "Epoch 283/500:  57%"
      }
     },
     "9786367bfb854095a5b3d71b0f93c0aa": {
      "model_module": "@jupyter-widgets/controls",
      "model_module_version": "2.0.0",
      "model_name": "ProgressStyleModel",
      "state": {
       "_model_module": "@jupyter-widgets/controls",
       "_model_module_version": "2.0.0",
       "_model_name": "ProgressStyleModel",
       "_view_count": null,
       "_view_module": "@jupyter-widgets/base",
       "_view_module_version": "2.0.0",
       "_view_name": "StyleView",
       "bar_color": null,
       "description_width": ""
      }
     },
     "9adaf43999bd47c18aa5db3b38ac778c": {
      "model_module": "@jupyter-widgets/base",
      "model_module_version": "2.0.0",
      "model_name": "LayoutModel",
      "state": {
       "_model_module": "@jupyter-widgets/base",
       "_model_module_version": "2.0.0",
       "_model_name": "LayoutModel",
       "_view_count": null,
       "_view_module": "@jupyter-widgets/base",
       "_view_module_version": "2.0.0",
       "_view_name": "LayoutView",
       "align_content": null,
       "align_items": null,
       "align_self": null,
       "border_bottom": null,
       "border_left": null,
       "border_right": null,
       "border_top": null,
       "bottom": null,
       "display": null,
       "flex": null,
       "flex_flow": null,
       "grid_area": null,
       "grid_auto_columns": null,
       "grid_auto_flow": null,
       "grid_auto_rows": null,
       "grid_column": null,
       "grid_gap": null,
       "grid_row": null,
       "grid_template_areas": null,
       "grid_template_columns": null,
       "grid_template_rows": null,
       "height": null,
       "justify_content": null,
       "justify_items": null,
       "left": null,
       "margin": null,
       "max_height": null,
       "max_width": null,
       "min_height": null,
       "min_width": null,
       "object_fit": null,
       "object_position": null,
       "order": null,
       "overflow": null,
       "padding": null,
       "right": null,
       "top": null,
       "visibility": null,
       "width": null
      }
     },
     "a0cf1decc3744c629b6b330cd75fb357": {
      "model_module": "@jupyter-widgets/base",
      "model_module_version": "2.0.0",
      "model_name": "LayoutModel",
      "state": {
       "_model_module": "@jupyter-widgets/base",
       "_model_module_version": "2.0.0",
       "_model_name": "LayoutModel",
       "_view_count": null,
       "_view_module": "@jupyter-widgets/base",
       "_view_module_version": "2.0.0",
       "_view_name": "LayoutView",
       "align_content": null,
       "align_items": null,
       "align_self": null,
       "border_bottom": null,
       "border_left": null,
       "border_right": null,
       "border_top": null,
       "bottom": null,
       "display": null,
       "flex": null,
       "flex_flow": null,
       "grid_area": null,
       "grid_auto_columns": null,
       "grid_auto_flow": null,
       "grid_auto_rows": null,
       "grid_column": null,
       "grid_gap": null,
       "grid_row": null,
       "grid_template_areas": null,
       "grid_template_columns": null,
       "grid_template_rows": null,
       "height": null,
       "justify_content": null,
       "justify_items": null,
       "left": null,
       "margin": null,
       "max_height": null,
       "max_width": null,
       "min_height": null,
       "min_width": null,
       "object_fit": null,
       "object_position": null,
       "order": null,
       "overflow": null,
       "padding": null,
       "right": null,
       "top": null,
       "visibility": null,
       "width": null
      }
     },
     "a1129ffda3e5438f8a699d8157087bca": {
      "model_module": "@jupyter-widgets/controls",
      "model_module_version": "2.0.0",
      "model_name": "HBoxModel",
      "state": {
       "_dom_classes": [],
       "_model_module": "@jupyter-widgets/controls",
       "_model_module_version": "2.0.0",
       "_model_name": "HBoxModel",
       "_view_count": null,
       "_view_module": "@jupyter-widgets/controls",
       "_view_module_version": "2.0.0",
       "_view_name": "HBoxView",
       "box_style": "",
       "children": [
        "IPY_MODEL_962140d2d4ae4db49be04fc2a458670f",
        "IPY_MODEL_41fbbcf298a04ced93ecf466e10a2fba",
        "IPY_MODEL_2c62229a598c4693a8f505ae0d230cd0"
       ],
       "layout": "IPY_MODEL_516e2b34f0164c039c99d6ea60075121",
       "tabbable": null,
       "tooltip": null
      }
     },
     "a124710f0fa941098e67ffe96aee88b6": {
      "model_module": "@jupyter-widgets/controls",
      "model_module_version": "2.0.0",
      "model_name": "HTMLStyleModel",
      "state": {
       "_model_module": "@jupyter-widgets/controls",
       "_model_module_version": "2.0.0",
       "_model_name": "HTMLStyleModel",
       "_view_count": null,
       "_view_module": "@jupyter-widgets/base",
       "_view_module_version": "2.0.0",
       "_view_name": "StyleView",
       "background": null,
       "description_width": "",
       "font_size": null,
       "text_color": null
      }
     },
     "a24785337ea9414b8cd9e44bbbf7b0ef": {
      "model_module": "@jupyter-widgets/base",
      "model_module_version": "2.0.0",
      "model_name": "LayoutModel",
      "state": {
       "_model_module": "@jupyter-widgets/base",
       "_model_module_version": "2.0.0",
       "_model_name": "LayoutModel",
       "_view_count": null,
       "_view_module": "@jupyter-widgets/base",
       "_view_module_version": "2.0.0",
       "_view_name": "LayoutView",
       "align_content": null,
       "align_items": null,
       "align_self": null,
       "border_bottom": null,
       "border_left": null,
       "border_right": null,
       "border_top": null,
       "bottom": null,
       "display": null,
       "flex": null,
       "flex_flow": null,
       "grid_area": null,
       "grid_auto_columns": null,
       "grid_auto_flow": null,
       "grid_auto_rows": null,
       "grid_column": null,
       "grid_gap": null,
       "grid_row": null,
       "grid_template_areas": null,
       "grid_template_columns": null,
       "grid_template_rows": null,
       "height": null,
       "justify_content": null,
       "justify_items": null,
       "left": null,
       "margin": null,
       "max_height": null,
       "max_width": null,
       "min_height": null,
       "min_width": null,
       "object_fit": null,
       "object_position": null,
       "order": null,
       "overflow": null,
       "padding": null,
       "right": null,
       "top": null,
       "visibility": null,
       "width": null
      }
     },
     "af6b335e757949068d4de627c275ab94": {
      "model_module": "@jupyter-widgets/controls",
      "model_module_version": "2.0.0",
      "model_name": "HBoxModel",
      "state": {
       "_dom_classes": [],
       "_model_module": "@jupyter-widgets/controls",
       "_model_module_version": "2.0.0",
       "_model_name": "HBoxModel",
       "_view_count": null,
       "_view_module": "@jupyter-widgets/controls",
       "_view_module_version": "2.0.0",
       "_view_name": "HBoxView",
       "box_style": "",
       "children": [
        "IPY_MODEL_b4d3f402f7e34b27970f9f8f487b5e6a",
        "IPY_MODEL_8fdd3027c41c4fd5bdfffe09f9da93f0",
        "IPY_MODEL_29362b121b2b493492e0cfe86c2c75e2"
       ],
       "layout": "IPY_MODEL_72f628ff8a3144c5bb4055384529f9df",
       "tabbable": null,
       "tooltip": null
      }
     },
     "b3fab75f8995475fa77b1fda96aa0fea": {
      "model_module": "@jupyter-widgets/controls",
      "model_module_version": "2.0.0",
      "model_name": "HTMLModel",
      "state": {
       "_dom_classes": [],
       "_model_module": "@jupyter-widgets/controls",
       "_model_module_version": "2.0.0",
       "_model_name": "HTMLModel",
       "_view_count": null,
       "_view_module": "@jupyter-widgets/controls",
       "_view_module_version": "2.0.0",
       "_view_name": "HTMLView",
       "description": "",
       "description_allow_html": false,
       "layout": "IPY_MODEL_d2573ec5f61f4866bb03cf3b728f4146",
       "placeholder": "​",
       "style": "IPY_MODEL_3a638003d7084d4e8c000ddf99674071",
       "tabbable": null,
       "tooltip": null,
       "value": "DE...: 100%"
      }
     },
     "b4d3f402f7e34b27970f9f8f487b5e6a": {
      "model_module": "@jupyter-widgets/controls",
      "model_module_version": "2.0.0",
      "model_name": "HTMLModel",
      "state": {
       "_dom_classes": [],
       "_model_module": "@jupyter-widgets/controls",
       "_model_module_version": "2.0.0",
       "_model_name": "HTMLModel",
       "_view_count": null,
       "_view_module": "@jupyter-widgets/controls",
       "_view_module_version": "2.0.0",
       "_view_name": "HTMLView",
       "description": "",
       "description_allow_html": false,
       "layout": "IPY_MODEL_5ca6ca52bd4c4f37948d2d24b4c4b0c2",
       "placeholder": "​",
       "style": "IPY_MODEL_85d2508c852f4d2b8bf7295b65944015",
       "tabbable": null,
       "tooltip": null,
       "value": "DE...: 100%"
      }
     },
     "b5b0064f17c943c49f12b707ad742f1f": {
      "model_module": "@jupyter-widgets/controls",
      "model_module_version": "2.0.0",
      "model_name": "HBoxModel",
      "state": {
       "_dom_classes": [],
       "_model_module": "@jupyter-widgets/controls",
       "_model_module_version": "2.0.0",
       "_model_name": "HBoxModel",
       "_view_count": null,
       "_view_module": "@jupyter-widgets/controls",
       "_view_module_version": "2.0.0",
       "_view_name": "HBoxView",
       "box_style": "",
       "children": [
        "IPY_MODEL_b3fab75f8995475fa77b1fda96aa0fea",
        "IPY_MODEL_2b05407a475149afbfa42fcd3e93b5b2",
        "IPY_MODEL_47592c1ddd1d4567ae52f3fddb1588ef"
       ],
       "layout": "IPY_MODEL_db2804e100c04485bad4189e960db13e",
       "tabbable": null,
       "tooltip": null
      }
     },
     "b678019e2f9a4a2d9678cf09545a6697": {
      "model_module": "@jupyter-widgets/controls",
      "model_module_version": "2.0.0",
      "model_name": "HBoxModel",
      "state": {
       "_dom_classes": [],
       "_model_module": "@jupyter-widgets/controls",
       "_model_module_version": "2.0.0",
       "_model_name": "HBoxModel",
       "_view_count": null,
       "_view_module": "@jupyter-widgets/controls",
       "_view_module_version": "2.0.0",
       "_view_name": "HBoxView",
       "box_style": "",
       "children": [
        "IPY_MODEL_b8541e55e77d491faca2875706222c69",
        "IPY_MODEL_f3c31824d029457a96f38e4b01b06596",
        "IPY_MODEL_179a46fc37c54ca894072daf74655d70"
       ],
       "layout": "IPY_MODEL_a24785337ea9414b8cd9e44bbbf7b0ef",
       "tabbable": null,
       "tooltip": null
      }
     },
     "b785001821d749f6b7bcc293a06d9800": {
      "model_module": "@jupyter-widgets/controls",
      "model_module_version": "2.0.0",
      "model_name": "HTMLStyleModel",
      "state": {
       "_model_module": "@jupyter-widgets/controls",
       "_model_module_version": "2.0.0",
       "_model_name": "HTMLStyleModel",
       "_view_count": null,
       "_view_module": "@jupyter-widgets/base",
       "_view_module_version": "2.0.0",
       "_view_name": "StyleView",
       "background": null,
       "description_width": "",
       "font_size": null,
       "text_color": null
      }
     },
     "b8541e55e77d491faca2875706222c69": {
      "model_module": "@jupyter-widgets/controls",
      "model_module_version": "2.0.0",
      "model_name": "HTMLModel",
      "state": {
       "_dom_classes": [],
       "_model_module": "@jupyter-widgets/controls",
       "_model_module_version": "2.0.0",
       "_model_name": "HTMLModel",
       "_view_count": null,
       "_view_module": "@jupyter-widgets/controls",
       "_view_module_version": "2.0.0",
       "_view_name": "HTMLView",
       "description": "",
       "description_allow_html": false,
       "layout": "IPY_MODEL_332a32ed336d454ebc7c700313259d68",
       "placeholder": "​",
       "style": "IPY_MODEL_362377fb277e4a838e1c388882053552",
       "tabbable": null,
       "tooltip": null,
       "value": "100%"
      }
     },
     "c728ba3436e64a67aee332fd0e5cf855": {
      "model_module": "@jupyter-widgets/controls",
      "model_module_version": "2.0.0",
      "model_name": "FloatProgressModel",
      "state": {
       "_dom_classes": [],
       "_model_module": "@jupyter-widgets/controls",
       "_model_module_version": "2.0.0",
       "_model_name": "FloatProgressModel",
       "_view_count": null,
       "_view_module": "@jupyter-widgets/controls",
       "_view_module_version": "2.0.0",
       "_view_name": "ProgressView",
       "bar_style": "success",
       "description": "",
       "description_allow_html": false,
       "layout": "IPY_MODEL_62b155171d3140569ef7fe0229e2c95f",
       "max": 1.0,
       "min": 0.0,
       "orientation": "horizontal",
       "style": "IPY_MODEL_5937c13108dd44db88d0b01e53524cfd",
       "tabbable": null,
       "tooltip": null,
       "value": 1.0
      }
     },
     "ceb14bea89a14498b7debca2fef5852d": {
      "model_module": "@jupyter-widgets/base",
      "model_module_version": "2.0.0",
      "model_name": "LayoutModel",
      "state": {
       "_model_module": "@jupyter-widgets/base",
       "_model_module_version": "2.0.0",
       "_model_name": "LayoutModel",
       "_view_count": null,
       "_view_module": "@jupyter-widgets/base",
       "_view_module_version": "2.0.0",
       "_view_name": "LayoutView",
       "align_content": null,
       "align_items": null,
       "align_self": null,
       "border_bottom": null,
       "border_left": null,
       "border_right": null,
       "border_top": null,
       "bottom": null,
       "display": null,
       "flex": null,
       "flex_flow": null,
       "grid_area": null,
       "grid_auto_columns": null,
       "grid_auto_flow": null,
       "grid_auto_rows": null,
       "grid_column": null,
       "grid_gap": null,
       "grid_row": null,
       "grid_template_areas": null,
       "grid_template_columns": null,
       "grid_template_rows": null,
       "height": null,
       "justify_content": null,
       "justify_items": null,
       "left": null,
       "margin": null,
       "max_height": null,
       "max_width": null,
       "min_height": null,
       "min_width": null,
       "object_fit": null,
       "object_position": null,
       "order": null,
       "overflow": null,
       "padding": null,
       "right": null,
       "top": null,
       "visibility": null,
       "width": null
      }
     },
     "d2573ec5f61f4866bb03cf3b728f4146": {
      "model_module": "@jupyter-widgets/base",
      "model_module_version": "2.0.0",
      "model_name": "LayoutModel",
      "state": {
       "_model_module": "@jupyter-widgets/base",
       "_model_module_version": "2.0.0",
       "_model_name": "LayoutModel",
       "_view_count": null,
       "_view_module": "@jupyter-widgets/base",
       "_view_module_version": "2.0.0",
       "_view_name": "LayoutView",
       "align_content": null,
       "align_items": null,
       "align_self": null,
       "border_bottom": null,
       "border_left": null,
       "border_right": null,
       "border_top": null,
       "bottom": null,
       "display": null,
       "flex": null,
       "flex_flow": null,
       "grid_area": null,
       "grid_auto_columns": null,
       "grid_auto_flow": null,
       "grid_auto_rows": null,
       "grid_column": null,
       "grid_gap": null,
       "grid_row": null,
       "grid_template_areas": null,
       "grid_template_columns": null,
       "grid_template_rows": null,
       "height": null,
       "justify_content": null,
       "justify_items": null,
       "left": null,
       "margin": null,
       "max_height": null,
       "max_width": null,
       "min_height": null,
       "min_width": null,
       "object_fit": null,
       "object_position": null,
       "order": null,
       "overflow": null,
       "padding": null,
       "right": null,
       "top": null,
       "visibility": null,
       "width": null
      }
     },
     "d7927414a8444914bb312f8ca411bb7f": {
      "model_module": "@jupyter-widgets/base",
      "model_module_version": "2.0.0",
      "model_name": "LayoutModel",
      "state": {
       "_model_module": "@jupyter-widgets/base",
       "_model_module_version": "2.0.0",
       "_model_name": "LayoutModel",
       "_view_count": null,
       "_view_module": "@jupyter-widgets/base",
       "_view_module_version": "2.0.0",
       "_view_name": "LayoutView",
       "align_content": null,
       "align_items": null,
       "align_self": null,
       "border_bottom": null,
       "border_left": null,
       "border_right": null,
       "border_top": null,
       "bottom": null,
       "display": null,
       "flex": null,
       "flex_flow": null,
       "grid_area": null,
       "grid_auto_columns": null,
       "grid_auto_flow": null,
       "grid_auto_rows": null,
       "grid_column": null,
       "grid_gap": null,
       "grid_row": null,
       "grid_template_areas": null,
       "grid_template_columns": null,
       "grid_template_rows": null,
       "height": null,
       "justify_content": null,
       "justify_items": null,
       "left": null,
       "margin": null,
       "max_height": null,
       "max_width": null,
       "min_height": null,
       "min_width": null,
       "object_fit": null,
       "object_position": null,
       "order": null,
       "overflow": null,
       "padding": null,
       "right": null,
       "top": null,
       "visibility": null,
       "width": null
      }
     },
     "db2804e100c04485bad4189e960db13e": {
      "model_module": "@jupyter-widgets/base",
      "model_module_version": "2.0.0",
      "model_name": "LayoutModel",
      "state": {
       "_model_module": "@jupyter-widgets/base",
       "_model_module_version": "2.0.0",
       "_model_name": "LayoutModel",
       "_view_count": null,
       "_view_module": "@jupyter-widgets/base",
       "_view_module_version": "2.0.0",
       "_view_name": "LayoutView",
       "align_content": null,
       "align_items": null,
       "align_self": null,
       "border_bottom": null,
       "border_left": null,
       "border_right": null,
       "border_top": null,
       "bottom": null,
       "display": null,
       "flex": null,
       "flex_flow": null,
       "grid_area": null,
       "grid_auto_columns": null,
       "grid_auto_flow": null,
       "grid_auto_rows": null,
       "grid_column": null,
       "grid_gap": null,
       "grid_row": null,
       "grid_template_areas": null,
       "grid_template_columns": null,
       "grid_template_rows": null,
       "height": null,
       "justify_content": null,
       "justify_items": null,
       "left": null,
       "margin": null,
       "max_height": null,
       "max_width": null,
       "min_height": null,
       "min_width": null,
       "object_fit": null,
       "object_position": null,
       "order": null,
       "overflow": null,
       "padding": null,
       "right": null,
       "top": null,
       "visibility": null,
       "width": null
      }
     },
     "db6778ad651f4d55b00196fcd6305091": {
      "model_module": "@jupyter-widgets/controls",
      "model_module_version": "2.0.0",
      "model_name": "HTMLStyleModel",
      "state": {
       "_model_module": "@jupyter-widgets/controls",
       "_model_module_version": "2.0.0",
       "_model_name": "HTMLStyleModel",
       "_view_count": null,
       "_view_module": "@jupyter-widgets/base",
       "_view_module_version": "2.0.0",
       "_view_name": "StyleView",
       "background": null,
       "description_width": "",
       "font_size": null,
       "text_color": null
      }
     },
     "e14e7e36e28d493f912679412d726a27": {
      "model_module": "@jupyter-widgets/controls",
      "model_module_version": "2.0.0",
      "model_name": "HTMLStyleModel",
      "state": {
       "_model_module": "@jupyter-widgets/controls",
       "_model_module_version": "2.0.0",
       "_model_name": "HTMLStyleModel",
       "_view_count": null,
       "_view_module": "@jupyter-widgets/base",
       "_view_module_version": "2.0.0",
       "_view_name": "StyleView",
       "background": null,
       "description_width": "",
       "font_size": null,
       "text_color": null
      }
     },
     "e9a16dcb9b474a8db071b83968192ecc": {
      "model_module": "@jupyter-widgets/controls",
      "model_module_version": "2.0.0",
      "model_name": "ProgressStyleModel",
      "state": {
       "_model_module": "@jupyter-widgets/controls",
       "_model_module_version": "2.0.0",
       "_model_name": "ProgressStyleModel",
       "_view_count": null,
       "_view_module": "@jupyter-widgets/base",
       "_view_module_version": "2.0.0",
       "_view_name": "StyleView",
       "bar_color": null,
       "description_width": ""
      }
     },
     "e9ef1bab64a0447e982339201c0e218c": {
      "model_module": "@jupyter-widgets/controls",
      "model_module_version": "2.0.0",
      "model_name": "HTMLModel",
      "state": {
       "_dom_classes": [],
       "_model_module": "@jupyter-widgets/controls",
       "_model_module_version": "2.0.0",
       "_model_name": "HTMLModel",
       "_view_count": null,
       "_view_module": "@jupyter-widgets/controls",
       "_view_module_version": "2.0.0",
       "_view_name": "HTMLView",
       "description": "",
       "description_allow_html": false,
       "layout": "IPY_MODEL_ceb14bea89a14498b7debca2fef5852d",
       "placeholder": "​",
       "style": "IPY_MODEL_229b205027df4a08913cbb0c6dcadd0b",
       "tabbable": null,
       "tooltip": null,
       "value": " 1/1 [00:05&lt;00:00,  5.59s/it]"
      }
     },
     "eaea730a8efd46078619b80931e9ecc1": {
      "model_module": "@jupyter-widgets/base",
      "model_module_version": "2.0.0",
      "model_name": "LayoutModel",
      "state": {
       "_model_module": "@jupyter-widgets/base",
       "_model_module_version": "2.0.0",
       "_model_name": "LayoutModel",
       "_view_count": null,
       "_view_module": "@jupyter-widgets/base",
       "_view_module_version": "2.0.0",
       "_view_name": "LayoutView",
       "align_content": null,
       "align_items": null,
       "align_self": null,
       "border_bottom": null,
       "border_left": null,
       "border_right": null,
       "border_top": null,
       "bottom": null,
       "display": null,
       "flex": null,
       "flex_flow": null,
       "grid_area": null,
       "grid_auto_columns": null,
       "grid_auto_flow": null,
       "grid_auto_rows": null,
       "grid_column": null,
       "grid_gap": null,
       "grid_row": null,
       "grid_template_areas": null,
       "grid_template_columns": null,
       "grid_template_rows": null,
       "height": null,
       "justify_content": null,
       "justify_items": null,
       "left": null,
       "margin": null,
       "max_height": null,
       "max_width": null,
       "min_height": null,
       "min_width": null,
       "object_fit": null,
       "object_position": null,
       "order": null,
       "overflow": null,
       "padding": null,
       "right": null,
       "top": null,
       "visibility": null,
       "width": null
      }
     },
     "f10ad0688e3c4331a36e3b6f7ee0fff2": {
      "model_module": "@jupyter-widgets/controls",
      "model_module_version": "2.0.0",
      "model_name": "HTMLStyleModel",
      "state": {
       "_model_module": "@jupyter-widgets/controls",
       "_model_module_version": "2.0.0",
       "_model_name": "HTMLStyleModel",
       "_view_count": null,
       "_view_module": "@jupyter-widgets/base",
       "_view_module_version": "2.0.0",
       "_view_name": "StyleView",
       "background": null,
       "description_width": "",
       "font_size": null,
       "text_color": null
      }
     },
     "f3c31824d029457a96f38e4b01b06596": {
      "model_module": "@jupyter-widgets/controls",
      "model_module_version": "2.0.0",
      "model_name": "FloatProgressModel",
      "state": {
       "_dom_classes": [],
       "_model_module": "@jupyter-widgets/controls",
       "_model_module_version": "2.0.0",
       "_model_name": "FloatProgressModel",
       "_view_count": null,
       "_view_module": "@jupyter-widgets/controls",
       "_view_module_version": "2.0.0",
       "_view_name": "ProgressView",
       "bar_style": "success",
       "description": "",
       "description_allow_html": false,
       "layout": "IPY_MODEL_741ec2896a214070a44cf1088792fc49",
       "max": 383078110.0,
       "min": 0.0,
       "orientation": "horizontal",
       "style": "IPY_MODEL_23b522966147408d9bf623ec01eca871",
       "tabbable": null,
       "tooltip": null,
       "value": 383078110.0
      }
     },
     "f3fef88296ea45d9aa88e1709c6a514d": {
      "model_module": "@jupyter-widgets/controls",
      "model_module_version": "2.0.0",
      "model_name": "ProgressStyleModel",
      "state": {
       "_model_module": "@jupyter-widgets/controls",
       "_model_module_version": "2.0.0",
       "_model_name": "ProgressStyleModel",
       "_view_count": null,
       "_view_module": "@jupyter-widgets/base",
       "_view_module_version": "2.0.0",
       "_view_name": "StyleView",
       "bar_color": null,
       "description_width": ""
      }
     },
     "f9a64a50ea834856abae063d028f3369": {
      "model_module": "@jupyter-widgets/base",
      "model_module_version": "2.0.0",
      "model_name": "LayoutModel",
      "state": {
       "_model_module": "@jupyter-widgets/base",
       "_model_module_version": "2.0.0",
       "_model_name": "LayoutModel",
       "_view_count": null,
       "_view_module": "@jupyter-widgets/base",
       "_view_module_version": "2.0.0",
       "_view_name": "LayoutView",
       "align_content": null,
       "align_items": null,
       "align_self": null,
       "border_bottom": null,
       "border_left": null,
       "border_right": null,
       "border_top": null,
       "bottom": null,
       "display": null,
       "flex": null,
       "flex_flow": null,
       "grid_area": null,
       "grid_auto_columns": null,
       "grid_auto_flow": null,
       "grid_auto_rows": null,
       "grid_column": null,
       "grid_gap": null,
       "grid_row": null,
       "grid_template_areas": null,
       "grid_template_columns": null,
       "grid_template_rows": null,
       "height": null,
       "justify_content": null,
       "justify_items": null,
       "left": null,
       "margin": null,
       "max_height": null,
       "max_width": null,
       "min_height": null,
       "min_width": null,
       "object_fit": null,
       "object_position": null,
       "order": null,
       "overflow": null,
       "padding": null,
       "right": null,
       "top": null,
       "visibility": null,
       "width": null
      }
     },
     "fc9657fbb15442b58fb8790fa51b05e8": {
      "model_module": "@jupyter-widgets/base",
      "model_module_version": "2.0.0",
      "model_name": "LayoutModel",
      "state": {
       "_model_module": "@jupyter-widgets/base",
       "_model_module_version": "2.0.0",
       "_model_name": "LayoutModel",
       "_view_count": null,
       "_view_module": "@jupyter-widgets/base",
       "_view_module_version": "2.0.0",
       "_view_name": "LayoutView",
       "align_content": null,
       "align_items": null,
       "align_self": null,
       "border_bottom": null,
       "border_left": null,
       "border_right": null,
       "border_top": null,
       "bottom": null,
       "display": null,
       "flex": null,
       "flex_flow": null,
       "grid_area": null,
       "grid_auto_columns": null,
       "grid_auto_flow": null,
       "grid_auto_rows": null,
       "grid_column": null,
       "grid_gap": null,
       "grid_row": null,
       "grid_template_areas": null,
       "grid_template_columns": null,
       "grid_template_rows": null,
       "height": null,
       "justify_content": null,
       "justify_items": null,
       "left": null,
       "margin": null,
       "max_height": null,
       "max_width": null,
       "min_height": null,
       "min_width": null,
       "object_fit": null,
       "object_position": null,
       "order": null,
       "overflow": null,
       "padding": null,
       "right": null,
       "top": null,
       "visibility": null,
       "width": null
      }
     }
    },
    "version_major": 2,
    "version_minor": 0
   }
  }
 },
 "nbformat": 4,
 "nbformat_minor": 4
}
