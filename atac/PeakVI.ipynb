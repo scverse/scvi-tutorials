{
    "cells": [
        {
            "cell_type": "markdown",
            "metadata": {
                "id": "DkJ5AI1zMf8I"
            },
            "source": [
                "# PeakVI: Analyzing scATACseq data\n",
                "\n",
                "PeakVI is used for analyzing scATACseq data. This tutorial walks through how to read, set-up and train the model, accessing and visualizing the latent space, and differential accessibility. We use the 5kPBMC sample dataset from 10X but these steps can be easily adjusted for other datasets."
            ]
        },
        {
            "cell_type": "code",
            "execution_count": null,
            "metadata": {},
            "outputs": [],
            "source": [
                "!pip install --quiet scvi-colab\n",
                "from scvi_colab import install\n",
                "\n",
                "install()"
            ]
        },
        {
            "cell_type": "code",
            "execution_count": 1,
            "metadata": {
                "colab": {
                    "base_uri": "https://localhost:8080/"
                },
                "id": "tcbBdgYoMf8O",
                "outputId": "c7fc0a25-9760-42d6-8768-e17b560cbdee"
            },
            "outputs": [
                {
                    "name": "stdout",
                    "output_type": "stream",
                    "text": [
                        "\u001b[?25l\r\u001b[K     |████▌                           | 10 kB 26.9 MB/s eta 0:00:01\r\u001b[K     |█████████                       | 20 kB 31.4 MB/s eta 0:00:01\r\u001b[K     |█████████████▌                  | 30 kB 34.1 MB/s eta 0:00:01\r\u001b[K     |██████████████████              | 40 kB 21.7 MB/s eta 0:00:01\r\u001b[K     |██████████████████████▌         | 51 kB 11.0 MB/s eta 0:00:01\r\u001b[K     |███████████████████████████     | 61 kB 12.7 MB/s eta 0:00:01\r\u001b[K     |███████████████████████████████▋| 71 kB 14.0 MB/s eta 0:00:01\r\u001b[K     |████████████████████████████████| 72 kB 1.2 MB/s \n",
                        "\u001b[31mERROR: pip's dependency resolver does not currently take into account all the packages that are installed. This behaviour is the source of the following dependency conflicts.\n",
                        "nbclient 0.5.11 requires jupyter-client>=6.1.5, but you have jupyter-client 5.3.5 which is incompatible.\u001b[0m\n",
                        "\u001b[?25h  Installing build dependencies ... \u001b[?25l\u001b[?25hdone\n",
                        "  Getting requirements to build wheel ... \u001b[?25l\u001b[?25hdone\n",
                        "    Preparing wheel metadata ... \u001b[?25l\u001b[?25hdone\n",
                        "\u001b[K     |████████████████████████████████| 713 kB 14.8 MB/s \n",
                        "\u001b[K     |████████████████████████████████| 217 kB 71.0 MB/s \n",
                        "\u001b[K     |████████████████████████████████| 91 kB 11.8 MB/s \n",
                        "\u001b[K     |████████████████████████████████| 397 kB 76.8 MB/s \n",
                        "\u001b[K     |████████████████████████████████| 527 kB 72.1 MB/s \n",
                        "\u001b[K     |████████████████████████████████| 2.0 MB 66.4 MB/s \n",
                        "\u001b[K     |████████████████████████████████| 8.8 MB 33.1 MB/s \n",
                        "\u001b[K     |████████████████████████████████| 1.1 MB 57.5 MB/s \n",
                        "\u001b[K     |████████████████████████████████| 1.4 MB 56.4 MB/s \n",
                        "\u001b[K     |████████████████████████████████| 41 kB 144 kB/s \n",
                        "\u001b[K     |████████████████████████████████| 134 kB 67.6 MB/s \n",
                        "\u001b[K     |████████████████████████████████| 48 kB 6.9 MB/s \n",
                        "\u001b[K     |████████████████████████████████| 952 kB 63.9 MB/s \n",
                        "\u001b[K     |████████████████████████████████| 596 kB 74.5 MB/s \n",
                        "\u001b[K     |████████████████████████████████| 829 kB 72.7 MB/s \n",
                        "\u001b[K     |████████████████████████████████| 134 kB 69.9 MB/s \n",
                        "\u001b[K     |████████████████████████████████| 1.1 MB 65.7 MB/s \n",
                        "\u001b[K     |████████████████████████████████| 51 kB 9.5 MB/s \n",
                        "\u001b[K     |████████████████████████████████| 86 kB 7.8 MB/s \n",
                        "\u001b[K     |████████████████████████████████| 97 kB 9.3 MB/s \n",
                        "\u001b[K     |████████████████████████████████| 94 kB 2.7 MB/s \n",
                        "\u001b[K     |████████████████████████████████| 144 kB 74.4 MB/s \n",
                        "\u001b[K     |████████████████████████████████| 271 kB 76.2 MB/s \n",
                        "\u001b[K     |████████████████████████████████| 3.1 MB 59.9 MB/s \n",
                        "\u001b[K     |████████████████████████████████| 63 kB 2.8 MB/s \n",
                        "\u001b[?25h  Building wheel for scvi-tools (PEP 517) ... \u001b[?25l\u001b[?25hdone\n",
                        "  Building wheel for docrep (setup.py) ... \u001b[?25l\u001b[?25hdone\n",
                        "  Building wheel for loompy (setup.py) ... \u001b[?25l\u001b[?25hdone\n",
                        "  Building wheel for future (setup.py) ... \u001b[?25l\u001b[?25hdone\n",
                        "  Building wheel for umap-learn (setup.py) ... \u001b[?25l\u001b[?25hdone\n",
                        "  Building wheel for pynndescent (setup.py) ... \u001b[?25l\u001b[?25hdone\n",
                        "  Building wheel for numpy-groupies (setup.py) ... \u001b[?25l\u001b[?25hdone\n",
                        "  Building wheel for sinfo (setup.py) ... \u001b[?25l\u001b[?25hdone\n",
                        "\u001b[31mERROR: pip's dependency resolver does not currently take into account all the packages that are installed. This behaviour is the source of the following dependency conflicts.\n",
                        "tensorflow 2.8.0 requires tf-estimator-nightly==2.8.0.dev2021122109, which is not installed.\n",
                        "datascience 0.10.6 requires folium==0.2.1, but you have folium 0.8.3 which is incompatible.\u001b[0m\n"
                    ]
                }
            ],
            "source": [
                "import anndata\n",
                "import matplotlib.pyplot as plt\n",
                "import numpy as np\n",
                "import pandas as pd\n",
                "import scanpy as sc\n",
                "import scipy\n",
                "import scvi"
            ]
        },
        {
            "cell_type": "markdown",
            "metadata": {
                "id": "10dGI6abNGND"
            },
            "source": [
                "First we need to download the sample data. This block will do this for a google colab session, but if you're running it in a different platform you might need to adjust it, or download and unpack the data manually."
            ]
        },
        {
            "cell_type": "code",
            "execution_count": 2,
            "metadata": {
                "colab": {
                    "base_uri": "https://localhost:8080/"
                },
                "id": "t9QU_OE6NV_P",
                "outputId": "e4a40852-30f9-4a52-fc23-679ca6916ec4"
            },
            "outputs": [
                {
                    "name": "stdout",
                    "output_type": "stream",
                    "text": [
                        "--2022-02-28 04:36:25--  https://cf.10xgenomics.com/samples/cell-atac/1.2.0/atac_pbmc_5k_nextgem/atac_pbmc_5k_nextgem_filtered_peak_bc_matrix.tar.gz\n",
                        "Resolving cf.10xgenomics.com (cf.10xgenomics.com)... 104.18.0.173, 104.18.1.173, 2606:4700::6812:1ad, ...\n",
                        "Connecting to cf.10xgenomics.com (cf.10xgenomics.com)|104.18.0.173|:443... connected.\n",
                        "HTTP request sent, awaiting response... 200 OK\n",
                        "Length: 114015463 (109M) [application/x-tar]\n",
                        "Saving to: ‘atac_pbmc_5k_nextgem_filtered_peak_bc_matrix.tar.gz’\n",
                        "\n",
                        "atac_pbmc_5k_nextge 100%[===================>] 108.73M  26.4MB/s    in 5.1s    \n",
                        "\n",
                        "2022-02-28 04:36:31 (21.2 MB/s) - ‘atac_pbmc_5k_nextgem_filtered_peak_bc_matrix.tar.gz’ saved [114015463/114015463]\n",
                        "\n",
                        "filtered_peak_bc_matrix/\n",
                        "filtered_peak_bc_matrix/matrix.mtx\n",
                        "filtered_peak_bc_matrix/peaks.bed\n",
                        "filtered_peak_bc_matrix/barcodes.tsv\n"
                    ]
                }
            ],
            "source": [
                "!wget https://cf.10xgenomics.com/samples/cell-atac/1.2.0/atac_pbmc_5k_nextgem/atac_pbmc_5k_nextgem_filtered_peak_bc_matrix.tar.gz\n",
                "!tar -xvf atac_pbmc_5k_nextgem_filtered_peak_bc_matrix.tar.gz\n"
            ]
        },
        {
            "cell_type": "code",
            "execution_count": 3,
            "metadata": {
                "colab": {
                    "base_uri": "https://localhost:8080/"
                },
                "id": "M49KGvsRMf8P",
                "outputId": "9217f1f1-59c1-4cef-cb67-cb22421c9355"
            },
            "outputs": [
                {
                    "name": "stderr",
                    "output_type": "stream",
                    "text": [
                        "Global seed set to 0\n",
                        "/usr/local/lib/python3.7/dist-packages/numba/np/ufunc/parallel.py:363: NumbaWarning: \u001b[1mThe TBB threading layer requires TBB version 2019.5 or later i.e., TBB_INTERFACE_VERSION >= 11005. Found TBB_INTERFACE_VERSION = 9107. The TBB threading layer is disabled.\u001b[0m\n",
                        "  warnings.warn(problem)\n",
                        "Global seed set to 420\n"
                    ]
                }
            ],
            "source": [
                "scvi.settings.seed = 420\n",
                "\n",
                "sc.set_figure_params(figsize=(4, 4), frameon=False)\n",
                "\n",
                "%config InlineBackend.print_figure_kwargs={'facecolor' : \"w\"}\n",
                "%config InlineBackend.figure_format='retina'"
            ]
        },
        {
            "cell_type": "markdown",
            "metadata": {
                "id": "iBswUSRRMf8P"
            },
            "source": [
                "## loading data\n",
                "\n",
                "PeakVI expects as input an AnnData object with a cell-by-region matrix. There are various pipelines that handle preprocessing of scATACseq to obtain this matrix from the sequencing data. If the data was generated by 10X genomics, this matrix is among the standard outputs of CellRanger. Other pipelines, like [SnapATAC](https://github.com/r3fang/SnapATAC/) and [ArchR](https://www.archrproject.com/bookdown/add-peak-matrix.html), also generate similar matrices.\n",
                "\n",
                "In the case of 10X data, PeakVI has a special reader function `scvi.data.read_10x_atac` that reads the files and creates an AnnData object, demonstrated below. For conveniece, we also demonstrate how to initialize an AnnData object from scratch.\n",
                "\n",
                "Throughout this tutorial, we use [sample scATACseq data from 10X of 5K PBMCs](https://support.10xgenomics.com/single-cell-atac/datasets/1.2.0/atac_pbmc_5k_nextgem)."
            ]
        },
        {
            "cell_type": "code",
            "execution_count": 4,
            "metadata": {
                "colab": {
                    "base_uri": "https://localhost:8080/"
                },
                "id": "R6OB27CwMf8P",
                "outputId": "92131773-0829-40eb-d44b-512c37ab2bf9"
            },
            "outputs": [
                {
                    "name": "stderr",
                    "output_type": "stream",
                    "text": [
                        "/usr/local/lib/python3.7/dist-packages/anndata/_core/anndata.py:120: ImplicitModificationWarning: Transforming to str index.\n",
                        "  warnings.warn(\"Transforming to str index.\", ImplicitModificationWarning)\n"
                    ]
                }
            ],
            "source": [
                "# read the count matrix into a sparse matrix, and the cell and region annotations as pandas DataFrames\n",
                "counts = scipy.io.mmread(\"filtered_peak_bc_matrix/matrix.mtx\").T\n",
                "regions = pd.read_csv(\n",
                "    \"filtered_peak_bc_matrix/peaks.bed\",\n",
                "    sep=\"\\t\",\n",
                "    header=None,\n",
                "    names=[\"chr\", \"start\", \"end\"],\n",
                ")\n",
                "cells = pd.read_csv(\n",
                "    \"filtered_peak_bc_matrix/barcodes.tsv\", header=None, names=[\"barcodes\"]\n",
                ")\n",
                "\n",
                "# then initialize a new AnnData object\n",
                "adata = anndata.AnnData(X=counts, obs=cells, var=regions)\n",
                "\n",
                "# or use this methods to read 10x data directly\n",
                "adata = scvi.data.read_10x_atac(\"filtered_peak_bc_matrix\")"
            ]
        },
        {
            "cell_type": "markdown",
            "metadata": {
                "id": "nAh2wnlhMf8Q"
            },
            "source": [
                "we can use scanpy functions to handle, filter, and manipulate the data. In our case, we might want to filter out peaks that are rarely detected, to make the model train faster:"
            ]
        },
        {
            "cell_type": "code",
            "execution_count": 5,
            "metadata": {
                "colab": {
                    "base_uri": "https://localhost:8080/"
                },
                "id": "4r0XVM1qMf8Q",
                "outputId": "74ec76c8-efa8-472a-b6f6-1aa4a6a05c11"
            },
            "outputs": [
                {
                    "name": "stdout",
                    "output_type": "stream",
                    "text": [
                        "(4585, 115554)\n",
                        "(4585, 33142)\n"
                    ]
                }
            ],
            "source": [
                "print(adata.shape)\n",
                "# compute the threshold: 5% of the cells\n",
                "min_cells = int(adata.shape[0] * 0.05)\n",
                "# in-place filtering of regions\n",
                "sc.pp.filter_genes(adata, min_cells=min_cells)\n",
                "print(adata.shape)"
            ]
        },
        {
            "cell_type": "markdown",
            "metadata": {
                "id": "ZCKvcOuaMf8R"
            },
            "source": [
                "## set up, training, saving, and loading\n",
                "\n",
                "We can now set up the AnnData object, which will ensure everything the model needs is in place for training.\n",
                "\n",
                "This is also the stage where we can condition the model on additional covariates, which encourages the model to remove the impact of those covariates from the learned latent space. Our sample data is a single batch, so we won't demonstrate this directly, but it can be done simply by setting the `batch_key` argument to the annotation to be used as a batch covariate (must be a valid key in `adata.obs`) ."
            ]
        },
        {
            "cell_type": "code",
            "execution_count": 6,
            "metadata": {
                "id": "LsphppROMf8R"
            },
            "outputs": [],
            "source": [
                "scvi.model.PEAKVI.setup_anndata(adata)"
            ]
        },
        {
            "cell_type": "markdown",
            "metadata": {
                "id": "onvBxehyMf8R"
            },
            "source": [
                "We can now create a PeakVI model object and train it!\n",
                "\n",
                "**Importantly**: the default max epochs is set to 500, but in practice PeakVI stops early once the model converges, which rarely requires that many, especially for large datasets (which require fewer epochs to converge, since each epoch includes letting the model view more data).\n",
                "*So the estimated runtime is usually a substantial overestimate of the actual runtime.*\n",
                "In the case of the data we use for this tutorial, it used less than half of the max epochs!"
            ]
        },
        {
            "cell_type": "code",
            "execution_count": 7,
            "metadata": {
                "colab": {
                    "base_uri": "https://localhost:8080/"
                },
                "id": "cclCyKFOMf8R",
                "outputId": "c6ae6f35-d3bb-4efb-e246-fb4ac0130bc4"
            },
            "outputs": [
                {
                    "name": "stderr",
                    "output_type": "stream",
                    "text": [
                        "GPU available: True, used: True\n",
                        "TPU available: False, using: 0 TPU cores\n",
                        "IPU available: False, using: 0 IPUs\n",
                        "LOCAL_RANK: 0 - CUDA_VISIBLE_DEVICES: [0]\n"
                    ]
                },
                {
                    "name": "stdout",
                    "output_type": "stream",
                    "text": [
                        "Epoch 299/500:  60%|█████▉    | 299/500 [05:12<03:29,  1.04s/it, loss=1.93e+08, v_num=1]\n",
                        "Monitored metric reconstruction_loss_validation did not improve in the last 50 records. Best score: 12754.396. Signaling Trainer to stop.\n"
                    ]
                }
            ],
            "source": [
                "pvi = scvi.model.PEAKVI(adata)\n",
                "pvi.train()"
            ]
        },
        {
            "cell_type": "markdown",
            "metadata": {
                "id": "dab9yhHcMf8R"
            },
            "source": [
                "since training a model can take a while, we recommend saving the trained model after training, just in case."
            ]
        },
        {
            "cell_type": "code",
            "execution_count": 8,
            "metadata": {
                "id": "v5w3u7ZgMf8S"
            },
            "outputs": [],
            "source": [
                "pvi.save(\"trained_model\", overwrite=True)"
            ]
        },
        {
            "cell_type": "markdown",
            "metadata": {
                "id": "mvEQcMynMf8S"
            },
            "source": [
                "We can then load the model later, which require providing an AnnData object that is structured similarly to the one used for training (or, in most cases, the same one):"
            ]
        },
        {
            "cell_type": "code",
            "execution_count": 10,
            "metadata": {
                "id": "_q34gv_hMf8S"
            },
            "outputs": [],
            "source": [
                "pvi = scvi.model.PEAKVI.load(\"trained_model\", adata=adata)"
            ]
        },
        {
            "cell_type": "markdown",
            "metadata": {
                "id": "3FRmN1bbMf8S"
            },
            "source": [
                "## visualizing and analyzing the latent space\n",
                "\n",
                "We can now use the trained model to visualize, cluster, and analyze the data. We first extract the latent representation from the model, and save it back into our AnnData object:"
            ]
        },
        {
            "cell_type": "code",
            "execution_count": 11,
            "metadata": {
                "colab": {
                    "base_uri": "https://localhost:8080/"
                },
                "id": "shzoLMjQMf8S",
                "outputId": "acce7cb6-4c20-43a1-8b18-967805f30fa6"
            },
            "outputs": [
                {
                    "name": "stdout",
                    "output_type": "stream",
                    "text": [
                        "(4585, 13)\n"
                    ]
                }
            ],
            "source": [
                "latent = pvi.get_latent_representation()\n",
                "adata.obsm[\"X_PeakVI\"] = latent\n",
                "\n",
                "print(latent.shape)"
            ]
        },
        {
            "cell_type": "markdown",
            "metadata": {
                "id": "-nIg0xy1Mf8T"
            },
            "source": [
                "We can now use scanpy functions to cluster and visualize our latent space:"
            ]
        },
        {
            "cell_type": "code",
            "execution_count": 13,
            "metadata": {
                "id": "CAzMk_4qMf8T"
            },
            "outputs": [],
            "source": [
                "# compute the k-nearest-neighbor graph that is used in both clustering and umap algorithms\n",
                "sc.pp.neighbors(adata, use_rep=\"X_PeakVI\")\n",
                "# compute the umap\n",
                "sc.tl.umap(adata, min_dist=0.2)\n",
                "# cluster the space (we use a lower resolution to get fewer clusters than the default)\n",
                "sc.tl.leiden(adata, key_added=\"cluster_pvi\", resolution=0.2)"
            ]
        },
        {
            "cell_type": "code",
            "execution_count": 14,
            "metadata": {
                "colab": {
                    "base_uri": "https://localhost:8080/",
                    "height": 367
                },
                "id": "gPm9j0aaMf8T",
                "outputId": "edee858e-9f14-4ca6-a039-888b9de13c2c"
            },
            "outputs": [
                {
                    "name": "stderr",
                    "output_type": "stream",
                    "text": [
                        "/usr/local/lib/python3.7/dist-packages/anndata/_core/anndata.py:1228: FutureWarning: The `inplace` parameter in pandas.Categorical.reorder_categories is deprecated and will be removed in a future version. Reordering categories will always return a new Categorical object.\n",
                        "  c.reorder_categories(natsorted(c.categories), inplace=True)\n",
                        "... storing 'chr' as categorical\n"
                    ]
                },
                {
                    "data": {
                        "image/png": "[encoded data removed]",
                        "text/plain": [
                            "<Figure size 320x320 with 1 Axes>"
                        ]
                    },
                    "metadata": {
                        "image/png": {
                            "height": 277,
                            "width": 306
                        }
                    },
                    "output_type": "display_data"
                }
            ],
            "source": [
                "sc.pl.umap(adata, color=\"cluster_pvi\")"
            ]
        },
        {
            "attachments": {},
            "cell_type": "markdown",
            "metadata": {
                "id": "wGioRKwFMf8T"
            },
            "source": [
                "## differential accessibility\n",
                "\n",
                "Finally, we can use PeakVI to identify regions that are differentially accessible. There are many different ways to run this analysis, but the simplest is comparing one cluster against all others, or comparing two clusters to each other. In the first case we'll be looking for marker-regions, so we'll mostly want a one-sided test (the significant regions will only be the ones preferentially accessible in our target cluster). In the second case we'll use a two-sided test to find regions that are differentially accessible, regardless of direction.\n",
                "\n",
                "We demonstrate both of these next, and do this in two different ways: (1) more convenient but less flexible: using an existing factor to group the cells, and then comparing groups. (2) more flexible: using cell indices directly.\n",
                "\n",
                "```{important}\n",
                "If the data includes multiple batches, we encourage setting `batch_correction=True` so the model will sample from multiple batches when computing the differential signal. We do this below despite the data only having a single batch, as a demonstration.\n",
                "```"
            ]
        },
        {
            "cell_type": "code",
            "execution_count": 15,
            "metadata": {
                "colab": {
                    "base_uri": "https://localhost:8080/",
                    "height": 277
                },
                "id": "YptioB5PMf8T",
                "outputId": "3d0d93f1-1254-4cff-ab03-ac117b3944b2"
            },
            "outputs": [
                {
                    "name": "stdout",
                    "output_type": "stream",
                    "text": [
                        "DE...: 100%|██████████| 1/1 [00:13<00:00, 13.24s/it]\n",
                        "DE...: 100%|██████████| 1/1 [00:10<00:00, 10.79s/it]\n",
                        "DE...: 100%|██████████| 1/1 [00:10<00:00, 10.90s/it]\n",
                        "DE...: 100%|██████████| 1/1 [00:10<00:00, 10.87s/it]\n"
                    ]
                },
                {
                    "data": {
                        "text/html": [
                            "\n",
                            "  <div id=\"df-a528edbd-2644-43ad-aeaa-7700e44e80c4\">\n",
                            "    <div class=\"colab-df-container\">\n",
                            "      <div>\n",
                            "<style scoped>\n",
                            "    .dataframe tbody tr th:only-of-type {\n",
                            "        vertical-align: middle;\n",
                            "    }\n",
                            "\n",
                            "    .dataframe tbody tr th {\n",
                            "        vertical-align: top;\n",
                            "    }\n",
                            "\n",
                            "    .dataframe thead th {\n",
                            "        text-align: right;\n",
                            "    }\n",
                            "</style>\n",
                            "<table border=\"1\" class=\"dataframe\">\n",
                            "  <thead>\n",
                            "    <tr style=\"text-align: right;\">\n",
                            "      <th></th>\n",
                            "      <th>prob_da</th>\n",
                            "      <th>is_da_fdr</th>\n",
                            "      <th>bayes_factor</th>\n",
                            "      <th>effect_size</th>\n",
                            "      <th>emp_effect</th>\n",
                            "      <th>est_prob1</th>\n",
                            "      <th>est_prob2</th>\n",
                            "      <th>emp_prob1</th>\n",
                            "      <th>emp_prob2</th>\n",
                            "    </tr>\n",
                            "  </thead>\n",
                            "  <tbody>\n",
                            "    <tr>\n",
                            "      <th>chr11:45951188-45953584</th>\n",
                            "      <td>1.0</td>\n",
                            "      <td>True</td>\n",
                            "      <td>18.420681</td>\n",
                            "      <td>-0.727015</td>\n",
                            "      <td>-0.400252</td>\n",
                            "      <td>0.905678</td>\n",
                            "      <td>0.178663</td>\n",
                            "      <td>0.496629</td>\n",
                            "      <td>0.096377</td>\n",
                            "    </tr>\n",
                            "    <tr>\n",
                            "      <th>chr4:115519248-115520882</th>\n",
                            "      <td>1.0</td>\n",
                            "      <td>True</td>\n",
                            "      <td>18.420681</td>\n",
                            "      <td>-0.722754</td>\n",
                            "      <td>-0.389592</td>\n",
                            "      <td>0.756693</td>\n",
                            "      <td>0.033939</td>\n",
                            "      <td>0.406742</td>\n",
                            "      <td>0.017150</td>\n",
                            "    </tr>\n",
                            "    <tr>\n",
                            "      <th>chr3:13151900-13153013</th>\n",
                            "      <td>1.0</td>\n",
                            "      <td>True</td>\n",
                            "      <td>18.420681</td>\n",
                            "      <td>-0.873769</td>\n",
                            "      <td>-0.480087</td>\n",
                            "      <td>0.924364</td>\n",
                            "      <td>0.050595</td>\n",
                            "      <td>0.507865</td>\n",
                            "      <td>0.027778</td>\n",
                            "    </tr>\n",
                            "    <tr>\n",
                            "      <th>chr2:47951226-47952150</th>\n",
                            "      <td>1.0</td>\n",
                            "      <td>True</td>\n",
                            "      <td>18.420681</td>\n",
                            "      <td>-0.837306</td>\n",
                            "      <td>-0.439850</td>\n",
                            "      <td>0.862172</td>\n",
                            "      <td>0.024866</td>\n",
                            "      <td>0.451685</td>\n",
                            "      <td>0.011836</td>\n",
                            "    </tr>\n",
                            "    <tr>\n",
                            "      <th>chr11:60222766-60223569</th>\n",
                            "      <td>1.0</td>\n",
                            "      <td>True</td>\n",
                            "      <td>18.420681</td>\n",
                            "      <td>-0.884811</td>\n",
                            "      <td>-0.512484</td>\n",
                            "      <td>0.905579</td>\n",
                            "      <td>0.020768</td>\n",
                            "      <td>0.523596</td>\n",
                            "      <td>0.011111</td>\n",
                            "    </tr>\n",
                            "  </tbody>\n",
                            "</table>\n",
                            "</div>\n",
                            "      <button class=\"colab-df-convert\" onclick=\"convertToInteractive('df-a528edbd-2644-43ad-aeaa-7700e44e80c4')\"\n",
                            "              title=\"Convert this dataframe to an interactive table.\"\n",
                            "              style=\"display:none;\">\n",
                            "        \n",
                            "  <svg xmlns=\"http://www.w3.org/2000/svg\" height=\"24px\"viewBox=\"0 0 24 24\"\n",
                            "       width=\"24px\">\n",
                            "    <path d=\"M0 0h24v24H0V0z\" fill=\"none\"/>\n",
                            "    <path d=\"M18.56 5.44l.94 2.06.94-2.06 2.06-.94-2.06-.94-.94-2.06-.94 2.06-2.06.94zm-11 1L8.5 8.5l.94-2.06 2.06-.94-2.06-.94L8.5 2.5l-.94 2.06-2.06.94zm10 10l.94 2.06.94-2.06 2.06-.94-2.06-.94-.94-2.06-.94 2.06-2.06.94z\"/><path d=\"M17.41 7.96l-1.37-1.37c-.4-.4-.92-.59-1.43-.59-.52 0-1.04.2-1.43.59L10.3 9.45l-7.72 7.72c-.78.78-.78 2.05 0 2.83L4 21.41c.39.39.9.59 1.41.59.51 0 1.02-.2 1.41-.59l7.78-7.78 2.81-2.81c.8-.78.8-2.07 0-2.86zM5.41 20L4 18.59l7.72-7.72 1.47 1.35L5.41 20z\"/>\n",
                            "  </svg>\n",
                            "      </button>\n",
                            "      \n",
                            "  <style>\n",
                            "    .colab-df-container {\n",
                            "      display:flex;\n",
                            "      flex-wrap:wrap;\n",
                            "      gap: 12px;\n",
                            "    }\n",
                            "\n",
                            "    .colab-df-convert {\n",
                            "      background-color: #E8F0FE;\n",
                            "      border: none;\n",
                            "      border-radius: 50%;\n",
                            "      cursor: pointer;\n",
                            "      display: none;\n",
                            "      fill: #1967D2;\n",
                            "      height: 32px;\n",
                            "      padding: 0 0 0 0;\n",
                            "      width: 32px;\n",
                            "    }\n",
                            "\n",
                            "    .colab-df-convert:hover {\n",
                            "      background-color: #E2EBFA;\n",
                            "      box-shadow: 0px 1px 2px rgba(60, 64, 67, 0.3), 0px 1px 3px 1px rgba(60, 64, 67, 0.15);\n",
                            "      fill: #174EA6;\n",
                            "    }\n",
                            "\n",
                            "    [theme=dark] .colab-df-convert {\n",
                            "      background-color: #3B4455;\n",
                            "      fill: #D2E3FC;\n",
                            "    }\n",
                            "\n",
                            "    [theme=dark] .colab-df-convert:hover {\n",
                            "      background-color: #434B5C;\n",
                            "      box-shadow: 0px 1px 3px 1px rgba(0, 0, 0, 0.15);\n",
                            "      filter: drop-shadow(0px 1px 2px rgba(0, 0, 0, 0.3));\n",
                            "      fill: #FFFFFF;\n",
                            "    }\n",
                            "  </style>\n",
                            "\n",
                            "      <script>\n",
                            "        const buttonEl =\n",
                            "          document.querySelector('#df-a528edbd-2644-43ad-aeaa-7700e44e80c4 button.colab-df-convert');\n",
                            "        buttonEl.style.display =\n",
                            "          google.colab.kernel.accessAllowed ? 'block' : 'none';\n",
                            "\n",
                            "        async function convertToInteractive(key) {\n",
                            "          const element = document.querySelector('#df-a528edbd-2644-43ad-aeaa-7700e44e80c4');\n",
                            "          const dataTable =\n",
                            "            await google.colab.kernel.invokeFunction('convertToInteractive',\n",
                            "                                                     [key], {});\n",
                            "          if (!dataTable) return;\n",
                            "\n",
                            "          const docLinkHtml = 'Like what you see? Visit the ' +\n",
                            "            '<a target=\"_blank\" href=https://colab.research.google.com/notebooks/data_table.ipynb>data table notebook</a>'\n",
                            "            + ' to learn more about interactive tables.';\n",
                            "          element.innerHTML = '';\n",
                            "          dataTable['output_type'] = 'display_data';\n",
                            "          await google.colab.output.renderOutput(dataTable, element);\n",
                            "          const docLink = document.createElement('div');\n",
                            "          docLink.innerHTML = docLinkHtml;\n",
                            "          element.appendChild(docLink);\n",
                            "        }\n",
                            "      </script>\n",
                            "    </div>\n",
                            "  </div>\n",
                            "  "
                        ],
                        "text/plain": [
                            "                          prob_da  is_da_fdr  ...  emp_prob1  emp_prob2\n",
                            "chr11:45951188-45953584       1.0       True  ...   0.496629   0.096377\n",
                            "chr4:115519248-115520882      1.0       True  ...   0.406742   0.017150\n",
                            "chr3:13151900-13153013        1.0       True  ...   0.507865   0.027778\n",
                            "chr2:47951226-47952150        1.0       True  ...   0.451685   0.011836\n",
                            "chr11:60222766-60223569       1.0       True  ...   0.523596   0.011111\n",
                            "\n",
                            "[5 rows x 9 columns]"
                        ]
                    },
                    "execution_count": 15,
                    "metadata": {},
                    "output_type": "execute_result"
                }
            ],
            "source": [
                "# (1.1) using a known factor to compare two clusters\n",
                "## two-sided is True by default, but included here for emphasis\n",
                "da_res11 = pvi.differential_accessibility(\n",
                "    groupby=\"cluster_pvi\", group1=\"3\", group2=\"0\", two_sided=True\n",
                ")\n",
                "\n",
                "# (1.2) using a known factor to compare a cluster against all other clusters\n",
                "## if we only provide group1, group2 is all other cells by default\n",
                "da_res12 = pvi.differential_accessibility(\n",
                "    groupby=\"cluster_pvi\", group1=\"3\", two_sided=False\n",
                ")\n",
                "\n",
                "# (2.1) using indices to compare two clusters\n",
                "## we can use boolean masks or integer indices for the `idx1` and `idx2` arguments\n",
                "da_res21 = pvi.differential_accessibility(\n",
                "    idx1=adata.obs.cluster_pvi == \"3\",\n",
                "    idx2=adata.obs.cluster_pvi == \"0\",\n",
                "    two_sided=True,\n",
                ")\n",
                "# (2.2) using indices to compare a cluster against all other clusters\n",
                "## if we don't provide idx2, it uses all other cells as the contrast\n",
                "da_res22 = pvi.differential_accessibility(\n",
                "    idx1=np.where(adata.obs.cluster_pvi == \"3\"),\n",
                "    two_sided=False,\n",
                ")\n",
                "\n",
                "da_res22.head()"
            ]
        },
        {
            "cell_type": "markdown",
            "metadata": {
                "id": "zWseudKHMf8U"
            },
            "source": [
                "Note that `da_res11` and `da_res21` are equivalent, as are `da_res12` and `da_res22`.\n",
                "The return value is a pandas DataFrame with the differential results and basic properties of the comparison:\n",
                "\n",
                "`prob_da` in our case is the probability of cells from cluster 0 being more than 0.05 (the default minimal effect) more accessible than cells from the rest of the data.\n",
                "\n",
                "`is_da_fdr` is a conservative classification (True/False) of whether a region is differential accessible. This is one way to threshold the results.\n",
                "\n",
                "`bayes_factor` is a statistical significance score. It doesn't have a commonly acceptable threshold (e.g 0.05 for p-values), bu we demonstrate below that it's well calibrated to the effect size.\n",
                "\n",
                "`effect_size` is the effect size, calculated as `est_prob1 - est_prob2`.\n",
                "\n",
                "`emp_effect` is the empirical effect size, calculated as `emp_prob1 - emp_prob2`.\n",
                "\n",
                "`est_prob{1,2}` are the estimated probabilities of accessibility in group1 and group2.\n",
                "\n",
                "`emp_prob{1,2}` are the empirical probabilities of detection (how many cells in group X was the region detected in).\n",
                "\n",
                "We can make sure the probability of DA is well calibrated, and look at the regions that are identified as differentially accessible:"
            ]
        },
        {
            "cell_type": "code",
            "execution_count": 16,
            "metadata": {
                "colab": {
                    "base_uri": "https://localhost:8080/",
                    "height": 663
                },
                "id": "uMenbDZ8Mf8U",
                "outputId": "253a12f9-03e5-4661-9762-08960ad7333b"
            },
            "outputs": [
                {
                    "data": {
                        "image/png": "[encoded data removed]",
                        "text/plain": [
                            "<Figure size 320x320 with 1 Axes>"
                        ]
                    },
                    "metadata": {
                        "image/png": {
                            "height": 300,
                            "width": 317
                        },
                        "needs_background": "light"
                    },
                    "output_type": "display_data"
                },
                {
                    "data": {
                        "text/html": [
                            "\n",
                            "  <div id=\"df-3bae9951-50d4-47bf-99b5-53e51aebc072\">\n",
                            "    <div class=\"colab-df-container\">\n",
                            "      <div>\n",
                            "<style scoped>\n",
                            "    .dataframe tbody tr th:only-of-type {\n",
                            "        vertical-align: middle;\n",
                            "    }\n",
                            "\n",
                            "    .dataframe tbody tr th {\n",
                            "        vertical-align: top;\n",
                            "    }\n",
                            "\n",
                            "    .dataframe thead th {\n",
                            "        text-align: right;\n",
                            "    }\n",
                            "</style>\n",
                            "<table border=\"1\" class=\"dataframe\">\n",
                            "  <thead>\n",
                            "    <tr style=\"text-align: right;\">\n",
                            "      <th></th>\n",
                            "      <th>prob_da</th>\n",
                            "      <th>is_da_fdr</th>\n",
                            "      <th>bayes_factor</th>\n",
                            "      <th>effect_size</th>\n",
                            "      <th>emp_effect</th>\n",
                            "      <th>est_prob1</th>\n",
                            "      <th>est_prob2</th>\n",
                            "      <th>emp_prob1</th>\n",
                            "      <th>emp_prob2</th>\n",
                            "    </tr>\n",
                            "  </thead>\n",
                            "  <tbody>\n",
                            "    <tr>\n",
                            "      <th>chr11:45951188-45953584</th>\n",
                            "      <td>1.0000</td>\n",
                            "      <td>True</td>\n",
                            "      <td>18.420681</td>\n",
                            "      <td>-0.727015</td>\n",
                            "      <td>-0.400252</td>\n",
                            "      <td>0.905678</td>\n",
                            "      <td>0.178663</td>\n",
                            "      <td>0.496629</td>\n",
                            "      <td>0.096377</td>\n",
                            "    </tr>\n",
                            "    <tr>\n",
                            "      <th>chr2:47951226-47952150</th>\n",
                            "      <td>1.0000</td>\n",
                            "      <td>True</td>\n",
                            "      <td>18.420681</td>\n",
                            "      <td>-0.837306</td>\n",
                            "      <td>-0.439850</td>\n",
                            "      <td>0.862172</td>\n",
                            "      <td>0.024866</td>\n",
                            "      <td>0.451685</td>\n",
                            "      <td>0.011836</td>\n",
                            "    </tr>\n",
                            "    <tr>\n",
                            "      <th>chr11:60222766-60223569</th>\n",
                            "      <td>1.0000</td>\n",
                            "      <td>True</td>\n",
                            "      <td>18.420681</td>\n",
                            "      <td>-0.884811</td>\n",
                            "      <td>-0.512484</td>\n",
                            "      <td>0.905579</td>\n",
                            "      <td>0.020768</td>\n",
                            "      <td>0.523596</td>\n",
                            "      <td>0.011111</td>\n",
                            "    </tr>\n",
                            "    <tr>\n",
                            "      <th>chr4:115519248-115520882</th>\n",
                            "      <td>1.0000</td>\n",
                            "      <td>True</td>\n",
                            "      <td>18.420681</td>\n",
                            "      <td>-0.722754</td>\n",
                            "      <td>-0.389592</td>\n",
                            "      <td>0.756693</td>\n",
                            "      <td>0.033939</td>\n",
                            "      <td>0.406742</td>\n",
                            "      <td>0.017150</td>\n",
                            "    </tr>\n",
                            "    <tr>\n",
                            "      <th>chr3:13151900-13153013</th>\n",
                            "      <td>1.0000</td>\n",
                            "      <td>True</td>\n",
                            "      <td>18.420681</td>\n",
                            "      <td>-0.873769</td>\n",
                            "      <td>-0.480087</td>\n",
                            "      <td>0.924364</td>\n",
                            "      <td>0.050595</td>\n",
                            "      <td>0.507865</td>\n",
                            "      <td>0.027778</td>\n",
                            "    </tr>\n",
                            "    <tr>\n",
                            "      <th>chr10:126289468-126291985</th>\n",
                            "      <td>0.9998</td>\n",
                            "      <td>True</td>\n",
                            "      <td>8.516943</td>\n",
                            "      <td>-0.892011</td>\n",
                            "      <td>-0.477137</td>\n",
                            "      <td>0.932383</td>\n",
                            "      <td>0.040372</td>\n",
                            "      <td>0.498876</td>\n",
                            "      <td>0.021739</td>\n",
                            "    </tr>\n",
                            "    <tr>\n",
                            "      <th>chr22:22776937-22777587</th>\n",
                            "      <td>0.9998</td>\n",
                            "      <td>True</td>\n",
                            "      <td>8.516943</td>\n",
                            "      <td>-0.686266</td>\n",
                            "      <td>-0.349940</td>\n",
                            "      <td>0.727352</td>\n",
                            "      <td>0.041086</td>\n",
                            "      <td>0.368539</td>\n",
                            "      <td>0.018599</td>\n",
                            "    </tr>\n",
                            "    <tr>\n",
                            "      <th>chr9:37408865-37409992</th>\n",
                            "      <td>0.9998</td>\n",
                            "      <td>True</td>\n",
                            "      <td>8.516943</td>\n",
                            "      <td>-0.854023</td>\n",
                            "      <td>-0.500657</td>\n",
                            "      <td>0.941401</td>\n",
                            "      <td>0.087378</td>\n",
                            "      <td>0.546067</td>\n",
                            "      <td>0.045411</td>\n",
                            "    </tr>\n",
                            "    <tr>\n",
                            "      <th>chr22:22522044-22523273</th>\n",
                            "      <td>0.9998</td>\n",
                            "      <td>True</td>\n",
                            "      <td>8.516943</td>\n",
                            "      <td>-0.762959</td>\n",
                            "      <td>-0.404079</td>\n",
                            "      <td>0.868831</td>\n",
                            "      <td>0.105872</td>\n",
                            "      <td>0.458427</td>\n",
                            "      <td>0.054348</td>\n",
                            "    </tr>\n",
                            "    <tr>\n",
                            "      <th>chr15:59704741-59706175</th>\n",
                            "      <td>0.9998</td>\n",
                            "      <td>True</td>\n",
                            "      <td>8.516943</td>\n",
                            "      <td>-0.808251</td>\n",
                            "      <td>-0.401216</td>\n",
                            "      <td>0.850416</td>\n",
                            "      <td>0.042165</td>\n",
                            "      <td>0.422472</td>\n",
                            "      <td>0.021256</td>\n",
                            "    </tr>\n",
                            "  </tbody>\n",
                            "</table>\n",
                            "</div>\n",
                            "      <button class=\"colab-df-convert\" onclick=\"convertToInteractive('df-3bae9951-50d4-47bf-99b5-53e51aebc072')\"\n",
                            "              title=\"Convert this dataframe to an interactive table.\"\n",
                            "              style=\"display:none;\">\n",
                            "        \n",
                            "  <svg xmlns=\"http://www.w3.org/2000/svg\" height=\"24px\"viewBox=\"0 0 24 24\"\n",
                            "       width=\"24px\">\n",
                            "    <path d=\"M0 0h24v24H0V0z\" fill=\"none\"/>\n",
                            "    <path d=\"M18.56 5.44l.94 2.06.94-2.06 2.06-.94-2.06-.94-.94-2.06-.94 2.06-2.06.94zm-11 1L8.5 8.5l.94-2.06 2.06-.94-2.06-.94L8.5 2.5l-.94 2.06-2.06.94zm10 10l.94 2.06.94-2.06 2.06-.94-2.06-.94-.94-2.06-.94 2.06-2.06.94z\"/><path d=\"M17.41 7.96l-1.37-1.37c-.4-.4-.92-.59-1.43-.59-.52 0-1.04.2-1.43.59L10.3 9.45l-7.72 7.72c-.78.78-.78 2.05 0 2.83L4 21.41c.39.39.9.59 1.41.59.51 0 1.02-.2 1.41-.59l7.78-7.78 2.81-2.81c.8-.78.8-2.07 0-2.86zM5.41 20L4 18.59l7.72-7.72 1.47 1.35L5.41 20z\"/>\n",
                            "  </svg>\n",
                            "      </button>\n",
                            "      \n",
                            "  <style>\n",
                            "    .colab-df-container {\n",
                            "      display:flex;\n",
                            "      flex-wrap:wrap;\n",
                            "      gap: 12px;\n",
                            "    }\n",
                            "\n",
                            "    .colab-df-convert {\n",
                            "      background-color: #E8F0FE;\n",
                            "      border: none;\n",
                            "      border-radius: 50%;\n",
                            "      cursor: pointer;\n",
                            "      display: none;\n",
                            "      fill: #1967D2;\n",
                            "      height: 32px;\n",
                            "      padding: 0 0 0 0;\n",
                            "      width: 32px;\n",
                            "    }\n",
                            "\n",
                            "    .colab-df-convert:hover {\n",
                            "      background-color: #E2EBFA;\n",
                            "      box-shadow: 0px 1px 2px rgba(60, 64, 67, 0.3), 0px 1px 3px 1px rgba(60, 64, 67, 0.15);\n",
                            "      fill: #174EA6;\n",
                            "    }\n",
                            "\n",
                            "    [theme=dark] .colab-df-convert {\n",
                            "      background-color: #3B4455;\n",
                            "      fill: #D2E3FC;\n",
                            "    }\n",
                            "\n",
                            "    [theme=dark] .colab-df-convert:hover {\n",
                            "      background-color: #434B5C;\n",
                            "      box-shadow: 0px 1px 3px 1px rgba(0, 0, 0, 0.15);\n",
                            "      filter: drop-shadow(0px 1px 2px rgba(0, 0, 0, 0.3));\n",
                            "      fill: #FFFFFF;\n",
                            "    }\n",
                            "  </style>\n",
                            "\n",
                            "      <script>\n",
                            "        const buttonEl =\n",
                            "          document.querySelector('#df-3bae9951-50d4-47bf-99b5-53e51aebc072 button.colab-df-convert');\n",
                            "        buttonEl.style.display =\n",
                            "          google.colab.kernel.accessAllowed ? 'block' : 'none';\n",
                            "\n",
                            "        async function convertToInteractive(key) {\n",
                            "          const element = document.querySelector('#df-3bae9951-50d4-47bf-99b5-53e51aebc072');\n",
                            "          const dataTable =\n",
                            "            await google.colab.kernel.invokeFunction('convertToInteractive',\n",
                            "                                                     [key], {});\n",
                            "          if (!dataTable) return;\n",
                            "\n",
                            "          const docLinkHtml = 'Like what you see? Visit the ' +\n",
                            "            '<a target=\"_blank\" href=https://colab.research.google.com/notebooks/data_table.ipynb>data table notebook</a>'\n",
                            "            + ' to learn more about interactive tables.';\n",
                            "          element.innerHTML = '';\n",
                            "          dataTable['output_type'] = 'display_data';\n",
                            "          await google.colab.output.renderOutput(dataTable, element);\n",
                            "          const docLink = document.createElement('div');\n",
                            "          docLink.innerHTML = docLinkHtml;\n",
                            "          element.appendChild(docLink);\n",
                            "        }\n",
                            "      </script>\n",
                            "    </div>\n",
                            "  </div>\n",
                            "  "
                        ],
                        "text/plain": [
                            "                           prob_da  is_da_fdr  ...  emp_prob1  emp_prob2\n",
                            "chr11:45951188-45953584     1.0000       True  ...   0.496629   0.096377\n",
                            "chr2:47951226-47952150      1.0000       True  ...   0.451685   0.011836\n",
                            "chr11:60222766-60223569     1.0000       True  ...   0.523596   0.011111\n",
                            "chr4:115519248-115520882    1.0000       True  ...   0.406742   0.017150\n",
                            "chr3:13151900-13153013      1.0000       True  ...   0.507865   0.027778\n",
                            "chr10:126289468-126291985   0.9998       True  ...   0.498876   0.021739\n",
                            "chr22:22776937-22777587     0.9998       True  ...   0.368539   0.018599\n",
                            "chr9:37408865-37409992      0.9998       True  ...   0.546067   0.045411\n",
                            "chr22:22522044-22523273     0.9998       True  ...   0.458427   0.054348\n",
                            "chr15:59704741-59706175     0.9998       True  ...   0.422472   0.021256\n",
                            "\n",
                            "[10 rows x 9 columns]"
                        ]
                    },
                    "execution_count": 16,
                    "metadata": {},
                    "output_type": "execute_result"
                }
            ],
            "source": [
                "plt.scatter(da_res22.effect_size, da_res22.prob_da, s=1)\n",
                "plt.xlabel(\"effect size\")\n",
                "plt.ylabel(\"probability of DA\")\n",
                "plt.show()\n",
                "\n",
                "da_res22.loc[da_res22.is_da_fdr].sort_values(\"prob_da\", ascending=False).head(10)"
            ]
        },
        {
            "cell_type": "markdown",
            "metadata": {
                "id": "a8_I_8PLMf8U"
            },
            "source": [
                "We can now examine these regions to understand what is happening in the data, using various different annotation and enrichment methods. For instance, `chr11:60222766-60223569`, one of the regions preferentially accessible in cluster 0, is the promoter region of [`MS4A1`](https://www.genecards.org/cgi-bin/carddisp.pl?gene=MS4A1), also known as `CD20`, a known B-cell surface marker, indicating that cluster 0 are probably B-cells."
            ]
        }
    ],
    "metadata": {
        "accelerator": "GPU",
        "colab": {
            "name": "PeakVI_tutorial.ipynb",
            "provenance": [],
            "toc_visible": true
        },
        "kernelspec": {
            "display_name": "Python 3",
            "language": "python",
            "name": "python3"
        },
        "language_info": {
            "codemirror_mode": {
                "name": "ipython",
                "version": 3
            },
            "file_extension": ".py",
            "mimetype": "text/x-python",
            "name": "python",
            "nbconvert_exporter": "python",
            "pygments_lexer": "ipython3",
            "version": "3.10.9"
        }
    },
    "nbformat": 4,
    "nbformat_minor": 0
}