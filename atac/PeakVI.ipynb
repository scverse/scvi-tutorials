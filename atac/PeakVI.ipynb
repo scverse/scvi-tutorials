{
 "cells": [
  {
   "cell_type": "markdown",
   "metadata": {
    "id": "DkJ5AI1zMf8I"
   },
   "source": [
    "# PeakVI: Analyzing scATACseq data\n",
    "\n",
    "PeakVI is used for analyzing scATACseq data. This tutorial walks through how to read, set-up and train the model, accessing and visualizing the latent space, and differential accessibility. We use the 5kPBMC sample dataset from 10X but these steps can be easily adjusted for other datasets."
   ]
  },
  {
   "cell_type": "markdown",
   "metadata": {},
   "source": [
    "```{note}\n",
    "Running the following cell will install tutorial dependencies on Google Colab only. It will have no effect on environments other than Google Colab."
   ]
  },
  {
   "cell_type": "code",
   "execution_count": 1,
   "metadata": {
    "execution": {
     "iopub.execute_input": "2024-02-12T17:35:24.662517Z",
     "iopub.status.busy": "2024-02-12T17:35:24.662362Z",
     "iopub.status.idle": "2024-02-12T17:35:27.073228Z",
     "shell.execute_reply": "2024-02-12T17:35:27.072789Z"
    }
   },
   "outputs": [
    {
     "name": "stdout",
     "output_type": "stream",
     "text": [
      "\u001b[33mWARNING: Running pip as the 'root' user can result in broken permissions and conflicting behaviour with the system package manager. It is recommended to use a virtual environment instead: https://pip.pypa.io/warnings/venv\u001b[0m\u001b[33m\r\n",
      "\u001b[0m"
     ]
    },
    {
     "name": "stderr",
     "output_type": "stream",
     "text": [
      "/env/lib/python3.11/site-packages/scvi_colab/_core.py:41: UserWarning: \n",
      "                Not currently in Google Colab environment.\n",
      "\n",
      "                Please run with `run_outside_colab=True` to override.\n",
      "\n",
      "                Returning with no further action.\n",
      "                \n",
      "  warn(\n"
     ]
    }
   ],
   "source": [
    "!pip install --quiet scvi-colab\n",
    "from scvi_colab import install\n",
    "\n",
    "install()"
   ]
  },
  {
   "cell_type": "code",
   "execution_count": 2,
   "metadata": {
    "colab": {
     "base_uri": "https://localhost:8080/"
    },
    "execution": {
     "iopub.execute_input": "2024-02-12T17:35:27.074961Z",
     "iopub.status.busy": "2024-02-12T17:35:27.074804Z",
     "iopub.status.idle": "2024-02-12T17:35:30.142764Z",
     "shell.execute_reply": "2024-02-12T17:35:30.142238Z"
    },
    "id": "tcbBdgYoMf8O",
    "outputId": "c7fc0a25-9760-42d6-8768-e17b560cbdee"
   },
   "outputs": [],
   "source": [
    "import os\n",
    "import tempfile\n",
    "from pathlib import Path\n",
    "\n",
    "import matplotlib.pyplot as plt\n",
    "import numpy as np\n",
    "import pooch\n",
    "import scanpy as sc\n",
    "import scvi\n",
    "import torch"
   ]
  },
  {
   "cell_type": "code",
   "execution_count": 3,
   "metadata": {
    "execution": {
     "iopub.execute_input": "2024-02-12T17:35:30.144800Z",
     "iopub.status.busy": "2024-02-12T17:35:30.144501Z",
     "iopub.status.idle": "2024-02-12T17:35:30.148112Z",
     "shell.execute_reply": "2024-02-12T17:35:30.147691Z"
    }
   },
   "outputs": [
    {
     "name": "stderr",
     "output_type": "stream",
     "text": [
      "Seed set to 0\n"
     ]
    },
    {
     "name": "stdout",
     "output_type": "stream",
     "text": [
      "Last run with scvi-tools version: 1.1.0\n"
     ]
    }
   ],
   "source": [
    "scvi.settings.seed = 0\n",
    "print(\"Last run with scvi-tools version:\", scvi.__version__)"
   ]
  },
  {
   "cell_type": "markdown",
   "metadata": {},
   "source": [
    "```{note}\n",
    "You can modify `save_dir` below to change where the data files for this tutorial are saved.\n",
    "```"
   ]
  },
  {
   "cell_type": "code",
   "execution_count": 4,
   "metadata": {
    "execution": {
     "iopub.execute_input": "2024-02-12T17:35:30.149592Z",
     "iopub.status.busy": "2024-02-12T17:35:30.149484Z",
     "iopub.status.idle": "2024-02-12T17:35:30.157325Z",
     "shell.execute_reply": "2024-02-12T17:35:30.156948Z"
    }
   },
   "outputs": [],
   "source": [
    "sc.set_figure_params(figsize=(4, 4), frameon=False)\n",
    "torch.set_float32_matmul_precision(\"high\")\n",
    "save_dir = tempfile.TemporaryDirectory()\n",
    "\n",
    "%config InlineBackend.print_figure_kwargs={\"facecolor\" : \"w\"}\n",
    "%config InlineBackend.figure_format=\"retina\""
   ]
  },
  {
   "cell_type": "markdown",
   "metadata": {},
   "source": [
    "## Download and preprocess data"
   ]
  },
  {
   "cell_type": "markdown",
   "metadata": {
    "id": "10dGI6abNGND"
   },
   "source": [
    "First we need to download the sample data - we will use the `pooch` package to do this."
   ]
  },
  {
   "cell_type": "code",
   "execution_count": 5,
   "metadata": {
    "execution": {
     "iopub.execute_input": "2024-02-12T17:35:30.158918Z",
     "iopub.status.busy": "2024-02-12T17:35:30.158690Z",
     "iopub.status.idle": "2024-02-12T17:35:30.161123Z",
     "shell.execute_reply": "2024-02-12T17:35:30.160864Z"
    }
   },
   "outputs": [],
   "source": [
    "def download_data(save_path: str, fname: str = \"atac_pbmc_5k\") -> str:\n",
    "    \"\"\"Download the data files.\"\"\"\n",
    "    data_paths = pooch.retrieve(\n",
    "        url=\"https://cf.10xgenomics.com/samples/cell-atac/1.2.0/atac_pbmc_5k_nextgem/atac_pbmc_5k_nextgem_filtered_peak_bc_matrix.tar.gz\",\n",
    "        known_hash=\"78e536a1508108fa5bd3b411a7484809c011f3403800369b20db05bdbfeb2284\",\n",
    "        fname=fname,\n",
    "        path=save_path,\n",
    "        processor=pooch.Untar(),\n",
    "        progressbar=True,\n",
    "    )\n",
    "    return str(Path(data_paths[0]).parent)"
   ]
  },
  {
   "cell_type": "code",
   "execution_count": 6,
   "metadata": {
    "execution": {
     "iopub.execute_input": "2024-02-12T17:35:30.162523Z",
     "iopub.status.busy": "2024-02-12T17:35:30.162415Z",
     "iopub.status.idle": "2024-02-12T17:35:37.927249Z",
     "shell.execute_reply": "2024-02-12T17:35:37.926737Z"
    }
   },
   "outputs": [
    {
     "name": "stderr",
     "output_type": "stream",
     "text": [
      "Downloading data from 'https://cf.10xgenomics.com/samples/cell-atac/1.2.0/atac_pbmc_5k_nextgem/atac_pbmc_5k_nextgem_filtered_peak_bc_matrix.tar.gz' to file '/tmp/tmpgce9lagt/atac_pbmc_5k'.\n"
     ]
    },
    {
     "name": "stderr",
     "output_type": "stream",
     "text": [
      "\r",
      "  0%|                                               | 0.00/114M [00:00<?, ?B/s]"
     ]
    },
    {
     "name": "stderr",
     "output_type": "stream",
     "text": [
      "\r",
      "  2%|▋                                     | 2.21M/114M [00:00<00:05, 22.0MB/s]"
     ]
    },
    {
     "name": "stderr",
     "output_type": "stream",
     "text": [
      "\r",
      "  7%|██▌                                   | 7.76M/114M [00:00<00:02, 41.7MB/s]"
     ]
    },
    {
     "name": "stderr",
     "output_type": "stream",
     "text": [
      "\r",
      " 10%|███▉                                  | 11.9M/114M [00:00<00:05, 17.6MB/s]"
     ]
    },
    {
     "name": "stderr",
     "output_type": "stream",
     "text": [
      "\r",
      " 13%|████▉                                 | 14.7M/114M [00:00<00:06, 16.2MB/s]"
     ]
    },
    {
     "name": "stderr",
     "output_type": "stream",
     "text": [
      "\r",
      " 19%|███████▏                              | 21.5M/114M [00:01<00:04, 18.9MB/s]"
     ]
    },
    {
     "name": "stderr",
     "output_type": "stream",
     "text": [
      "\r",
      " 21%|███████▉                              | 23.7M/114M [00:01<00:05, 15.8MB/s]"
     ]
    },
    {
     "name": "stderr",
     "output_type": "stream",
     "text": [
      "\r",
      " 24%|█████████▏                            | 27.7M/114M [00:01<00:04, 18.0MB/s]"
     ]
    },
    {
     "name": "stderr",
     "output_type": "stream",
     "text": [
      "\r",
      " 26%|█████████▉                            | 29.8M/114M [00:01<00:05, 16.3MB/s]"
     ]
    },
    {
     "name": "stderr",
     "output_type": "stream",
     "text": [
      "\r",
      " 28%|██████████▊                           | 32.3M/114M [00:01<00:04, 17.5MB/s]"
     ]
    },
    {
     "name": "stderr",
     "output_type": "stream",
     "text": [
      "\r",
      " 31%|███████████▋                          | 35.1M/114M [00:02<00:04, 16.0MB/s]"
     ]
    },
    {
     "name": "stderr",
     "output_type": "stream",
     "text": [
      "\r",
      " 37%|██████████████                        | 42.1M/114M [00:02<00:04, 16.8MB/s]"
     ]
    },
    {
     "name": "stderr",
     "output_type": "stream",
     "text": [
      "\r",
      " 42%|████████████████                      | 48.1M/114M [00:02<00:02, 22.9MB/s]"
     ]
    },
    {
     "name": "stderr",
     "output_type": "stream",
     "text": [
      "\r",
      " 46%|█████████████████▍                    | 52.4M/114M [00:02<00:02, 23.6MB/s]"
     ]
    },
    {
     "name": "stderr",
     "output_type": "stream",
     "text": [
      "\r",
      " 52%|███████████████████▊                  | 59.3M/114M [00:02<00:01, 28.9MB/s]"
     ]
    },
    {
     "name": "stderr",
     "output_type": "stream",
     "text": [
      "\r",
      " 55%|████████████████████▊                 | 62.6M/114M [00:03<00:02, 24.9MB/s]"
     ]
    },
    {
     "name": "stderr",
     "output_type": "stream",
     "text": [
      "\r",
      " 59%|██████████████████████▎               | 67.1M/114M [00:03<00:01, 28.7MB/s]"
     ]
    },
    {
     "name": "stderr",
     "output_type": "stream",
     "text": [
      "\r",
      " 62%|███████████████████████▍              | 70.4M/114M [00:03<00:02, 18.5MB/s]"
     ]
    },
    {
     "name": "stderr",
     "output_type": "stream",
     "text": [
      "\r",
      " 64%|████████████████████████▍             | 73.3M/114M [00:03<00:02, 20.0MB/s]"
     ]
    },
    {
     "name": "stderr",
     "output_type": "stream",
     "text": [
      "\r",
      " 67%|█████████████████████████▌            | 76.8M/114M [00:03<00:02, 17.2MB/s]"
     ]
    },
    {
     "name": "stderr",
     "output_type": "stream",
     "text": [
      "\r",
      " 71%|███████████████████████████           | 81.3M/114M [00:04<00:01, 21.5MB/s]"
     ]
    },
    {
     "name": "stderr",
     "output_type": "stream",
     "text": [
      "\r",
      " 74%|████████████████████████████          | 84.1M/114M [00:04<00:02, 14.8MB/s]"
     ]
    },
    {
     "name": "stderr",
     "output_type": "stream",
     "text": [
      "\r",
      " 77%|█████████████████████████████▎        | 87.9M/114M [00:04<00:01, 15.4MB/s]"
     ]
    },
    {
     "name": "stderr",
     "output_type": "stream",
     "text": [
      "\r",
      " 79%|██████████████████████████████▏       | 90.5M/114M [00:04<00:01, 14.3MB/s]"
     ]
    },
    {
     "name": "stderr",
     "output_type": "stream",
     "text": [
      "\r",
      " 83%|███████████████████████████████▋      | 94.9M/114M [00:04<00:01, 19.0MB/s]"
     ]
    },
    {
     "name": "stderr",
     "output_type": "stream",
     "text": [
      "\r",
      " 86%|████████████████████████████████▍     | 97.5M/114M [00:05<00:00, 17.7MB/s]"
     ]
    },
    {
     "name": "stderr",
     "output_type": "stream",
     "text": [
      "\r",
      " 88%|██████████████████████████████████▍    | 101M/114M [00:05<00:00, 14.1MB/s]"
     ]
    },
    {
     "name": "stderr",
     "output_type": "stream",
     "text": [
      "\r",
      " 96%|█████████████████████████████████████▌ | 110M/114M [00:05<00:00, 25.8MB/s]"
     ]
    },
    {
     "name": "stderr",
     "output_type": "stream",
     "text": [
      "\r",
      "  0%|                                               | 0.00/114M [00:00<?, ?B/s]"
     ]
    },
    {
     "name": "stderr",
     "output_type": "stream",
     "text": [
      "\r",
      "100%|████████████████████████████████████████| 114M/114M [00:00<00:00, 251GB/s]"
     ]
    },
    {
     "name": "stderr",
     "output_type": "stream",
     "text": [
      "\n"
     ]
    },
    {
     "name": "stderr",
     "output_type": "stream",
     "text": [
      "Untarring contents of '/tmp/tmpgce9lagt/atac_pbmc_5k' to '/tmp/tmpgce9lagt/atac_pbmc_5k.untar'\n"
     ]
    }
   ],
   "source": [
    "data_path = download_data(save_dir.name)"
   ]
  },
  {
   "cell_type": "markdown",
   "metadata": {
    "id": "iBswUSRRMf8P"
   },
   "source": [
    "PeakVI expects as input an AnnData object with a cell-by-region matrix. There are various pipelines that handle preprocessing of scATACseq to obtain this matrix from the sequencing data. If the data was generated by 10X genomics, this matrix is among the standard outputs of CellRanger. Other pipelines, like [SnapATAC](https://github.com/r3fang/SnapATAC/) and [ArchR](https://www.archrproject.com/bookdown/add-peak-matrix.html), also generate similar matrices.\n",
    "\n",
    "In the case of 10X data, PeakVI has a special reader function `scvi.data.read_10x_atac` that reads the files and creates an AnnData object, demonstrated below. For conveniece, we also demonstrate how to initialize an AnnData object from scratch.\n",
    "\n",
    "Throughout this tutorial, we use [sample scATACseq data from 10X of 5K PBMCs](https://support.10xgenomics.com/single-cell-atac/datasets/1.2.0/atac_pbmc_5k_nextgem)."
   ]
  },
  {
   "cell_type": "code",
   "execution_count": 7,
   "metadata": {
    "colab": {
     "base_uri": "https://localhost:8080/"
    },
    "execution": {
     "iopub.execute_input": "2024-02-12T17:35:37.929075Z",
     "iopub.status.busy": "2024-02-12T17:35:37.928940Z",
     "iopub.status.idle": "2024-02-12T17:35:38.699203Z",
     "shell.execute_reply": "2024-02-12T17:35:38.698840Z"
    },
    "id": "R6OB27CwMf8P",
    "outputId": "92131773-0829-40eb-d44b-512c37ab2bf9"
   },
   "outputs": [
    {
     "data": {
      "text/plain": [
       "AnnData object with n_obs × n_vars = 4585 × 115554\n",
       "    obs: 'batch_id'\n",
       "    var: 'chr', 'start', 'end'"
      ]
     },
     "execution_count": 7,
     "metadata": {},
     "output_type": "execute_result"
    }
   ],
   "source": [
    "adata = scvi.data.read_10x_atac(data_path)\n",
    "adata"
   ]
  },
  {
   "cell_type": "markdown",
   "metadata": {
    "id": "nAh2wnlhMf8Q"
   },
   "source": [
    "We can use Scanpy to handle, filter, and manipulate the data. In our case, we might want to filter out peaks that are rarely detected, to make the model train faster:"
   ]
  },
  {
   "cell_type": "code",
   "execution_count": 8,
   "metadata": {
    "colab": {
     "base_uri": "https://localhost:8080/"
    },
    "execution": {
     "iopub.execute_input": "2024-02-12T17:35:38.700766Z",
     "iopub.status.busy": "2024-02-12T17:35:38.700647Z",
     "iopub.status.idle": "2024-02-12T17:35:39.172501Z",
     "shell.execute_reply": "2024-02-12T17:35:39.172058Z"
    },
    "id": "4r0XVM1qMf8Q",
    "outputId": "74ec76c8-efa8-472a-b6f6-1aa4a6a05c11"
   },
   "outputs": [
    {
     "name": "stdout",
     "output_type": "stream",
     "text": [
      "# regions before filtering: 115554\n"
     ]
    },
    {
     "name": "stdout",
     "output_type": "stream",
     "text": [
      "# regions after filtering: 33142\n"
     ]
    }
   ],
   "source": [
    "print(\"# regions before filtering:\", adata.shape[-1])\n",
    "\n",
    "# compute the threshold: 5% of the cells\n",
    "min_cells = int(adata.shape[0] * 0.05)\n",
    "# in-place filtering of regions\n",
    "sc.pp.filter_genes(adata, min_cells=min_cells)\n",
    "\n",
    "print(\"# regions after filtering:\", adata.shape[-1])"
   ]
  },
  {
   "cell_type": "markdown",
   "metadata": {
    "id": "ZCKvcOuaMf8R"
   },
   "source": [
    "## Set up, train, save, and load the model\n",
    "\n",
    "We can now set up the AnnData object with PeakVI, which will ensure everything the model needs is in place for training.\n",
    "\n",
    "This is also the stage where we can condition the model on additional covariates, which encourages the model to remove the impact of those covariates from the learned latent space. Our sample data is a single batch, so we won't demonstrate this directly, but it can be done simply by setting the `batch_key` argument to the annotation to be used as a batch covariate (must be a valid key in `adata.obs`) ."
   ]
  },
  {
   "cell_type": "code",
   "execution_count": 9,
   "metadata": {
    "execution": {
     "iopub.execute_input": "2024-02-12T17:35:39.174013Z",
     "iopub.status.busy": "2024-02-12T17:35:39.173902Z",
     "iopub.status.idle": "2024-02-12T17:35:39.309048Z",
     "shell.execute_reply": "2024-02-12T17:35:39.308621Z"
    },
    "id": "LsphppROMf8R"
   },
   "outputs": [
    {
     "name": "stderr",
     "output_type": "stream",
     "text": [
      "<frozen abc>:119: FutureWarning: SparseDataset is deprecated and will be removed in late 2024. It has been replaced by the public classes CSRDataset and CSCDataset.\n",
      "\n",
      "For instance checks, use `isinstance(X, (anndata.experimental.CSRDataset, anndata.experimental.CSCDataset))` instead.\n",
      "\n",
      "For creation, use `anndata.experimental.sparse_dataset(X)` instead.\n",
      "\n"
     ]
    }
   ],
   "source": [
    "scvi.model.PEAKVI.setup_anndata(adata)"
   ]
  },
  {
   "cell_type": "markdown",
   "metadata": {
    "id": "onvBxehyMf8R"
   },
   "source": [
    "We can now create a PeakVI model object and train it!"
   ]
  },
  {
   "cell_type": "markdown",
   "metadata": {},
   "source": [
    "```{important}\n",
    "The default `max_epochs` is set to `500`, but in practice PeakVI stops early once the model converges (we quantify convergence with the model's validation reconstruction loss). This is especially the case for larger datasets, which require fewer training epochs to converge since each epoch lets the model view more data. \n",
    "\n",
    "This means that the estimated training runtime is usually an overestimate of the actual runtime. For the data used in this tutorial, it typically converges with around half of `max_epochs`!\n",
    "```"
   ]
  },
  {
   "cell_type": "code",
   "execution_count": 10,
   "metadata": {
    "colab": {
     "base_uri": "https://localhost:8080/"
    },
    "execution": {
     "iopub.execute_input": "2024-02-12T17:35:39.310579Z",
     "iopub.status.busy": "2024-02-12T17:35:39.310459Z",
     "iopub.status.idle": "2024-02-12T17:37:37.826269Z",
     "shell.execute_reply": "2024-02-12T17:37:37.825854Z"
    },
    "id": "cclCyKFOMf8R",
    "outputId": "c6ae6f35-d3bb-4efb-e246-fb4ac0130bc4"
   },
   "outputs": [
    {
     "name": "stderr",
     "output_type": "stream",
     "text": [
      "GPU available: True (cuda), used: True\n"
     ]
    },
    {
     "name": "stderr",
     "output_type": "stream",
     "text": [
      "TPU available: False, using: 0 TPU cores\n"
     ]
    },
    {
     "name": "stderr",
     "output_type": "stream",
     "text": [
      "IPU available: False, using: 0 IPUs\n"
     ]
    },
    {
     "name": "stderr",
     "output_type": "stream",
     "text": [
      "HPU available: False, using: 0 HPUs\n"
     ]
    },
    {
     "name": "stderr",
     "output_type": "stream",
     "text": [
      "LOCAL_RANK: 0 - CUDA_VISIBLE_DEVICES: [0]\n"
     ]
    },
    {
     "name": "stderr",
     "output_type": "stream",
     "text": [
      "/env/lib/python3.11/site-packages/lightning/pytorch/trainer/connectors/data_connector.py:441: The 'train_dataloader' does not have many workers which may be a bottleneck. Consider increasing the value of the `num_workers` argument` to `num_workers=19` in the `DataLoader` to improve performance.\n",
      "/env/lib/python3.11/site-packages/lightning/pytorch/trainer/connectors/data_connector.py:441: The 'val_dataloader' does not have many workers which may be a bottleneck. Consider increasing the value of the `num_workers` argument` to `num_workers=19` in the `DataLoader` to improve performance.\n"
     ]
    },
    {
     "name": "stdout",
     "output_type": "stream",
     "text": [
      "\r",
      "Training:   0%|          | 0/500 [00:00<?, ?it/s]"
     ]
    },
    {
     "name": "stdout",
     "output_type": "stream",
     "text": [
      "\r",
      "Epoch 1/500:   0%|          | 0/500 [00:00<?, ?it/s]"
     ]
    },
    {
     "name": "stdout",
     "output_type": "stream",
     "text": [
      "\r",
      "Epoch 1/500:   0%|          | 1/500 [00:00<08:05,  1.03it/s]"
     ]
    },
    {
     "name": "stdout",
     "output_type": "stream",
     "text": [
      "\r",
      "Epoch 1/500:   0%|          | 1/500 [00:00<08:05,  1.03it/s, v_num=1, train_loss_step=1.53e+7, train_loss_epoch=2.74e+8]"
     ]
    },
    {
     "name": "stdout",
     "output_type": "stream",
     "text": [
      "\r",
      "Epoch 2/500:   0%|          | 1/500 [00:00<08:05,  1.03it/s, v_num=1, train_loss_step=1.53e+7, train_loss_epoch=2.74e+8]"
     ]
    },
    {
     "name": "stdout",
     "output_type": "stream",
     "text": [
      "\r",
      "Epoch 2/500:   0%|          | 2/500 [00:01<05:25,  1.53it/s, v_num=1, train_loss_step=1.53e+7, train_loss_epoch=2.74e+8]"
     ]
    },
    {
     "name": "stdout",
     "output_type": "stream",
     "text": [
      "\r",
      "Epoch 2/500:   0%|          | 2/500 [00:01<05:25,  1.53it/s, v_num=1, train_loss_step=1.45e+7, train_loss_epoch=2.6e+8] "
     ]
    },
    {
     "name": "stdout",
     "output_type": "stream",
     "text": [
      "\r",
      "Epoch 3/500:   0%|          | 2/500 [00:01<05:25,  1.53it/s, v_num=1, train_loss_step=1.45e+7, train_loss_epoch=2.6e+8]"
     ]
    },
    {
     "name": "stdout",
     "output_type": "stream",
     "text": [
      "\r",
      "Epoch 3/500:   1%|          | 3/500 [00:01<04:33,  1.82it/s, v_num=1, train_loss_step=1.45e+7, train_loss_epoch=2.6e+8]"
     ]
    },
    {
     "name": "stdout",
     "output_type": "stream",
     "text": [
      "\r",
      "Epoch 3/500:   1%|          | 3/500 [00:01<04:33,  1.82it/s, v_num=1, train_loss_step=1.44e+7, train_loss_epoch=2.49e+8]"
     ]
    },
    {
     "name": "stdout",
     "output_type": "stream",
     "text": [
      "\r",
      "Epoch 4/500:   1%|          | 3/500 [00:01<04:33,  1.82it/s, v_num=1, train_loss_step=1.44e+7, train_loss_epoch=2.49e+8]"
     ]
    },
    {
     "name": "stdout",
     "output_type": "stream",
     "text": [
      "\r",
      "Epoch 4/500:   1%|          | 4/500 [00:02<04:08,  1.99it/s, v_num=1, train_loss_step=1.44e+7, train_loss_epoch=2.49e+8]"
     ]
    },
    {
     "name": "stdout",
     "output_type": "stream",
     "text": [
      "\r",
      "Epoch 4/500:   1%|          | 4/500 [00:02<04:08,  1.99it/s, v_num=1, train_loss_step=1.35e+7, train_loss_epoch=2.41e+8]"
     ]
    },
    {
     "name": "stdout",
     "output_type": "stream",
     "text": [
      "\r",
      "Epoch 5/500:   1%|          | 4/500 [00:02<04:08,  1.99it/s, v_num=1, train_loss_step=1.35e+7, train_loss_epoch=2.41e+8]"
     ]
    },
    {
     "name": "stdout",
     "output_type": "stream",
     "text": [
      "\r",
      "Epoch 5/500:   1%|          | 5/500 [00:02<03:54,  2.11it/s, v_num=1, train_loss_step=1.35e+7, train_loss_epoch=2.41e+8]"
     ]
    },
    {
     "name": "stdout",
     "output_type": "stream",
     "text": [
      "\r",
      "Epoch 5/500:   1%|          | 5/500 [00:02<03:54,  2.11it/s, v_num=1, train_loss_step=1.35e+7, train_loss_epoch=2.36e+8]"
     ]
    },
    {
     "name": "stdout",
     "output_type": "stream",
     "text": [
      "\r",
      "Epoch 6/500:   1%|          | 5/500 [00:02<03:54,  2.11it/s, v_num=1, train_loss_step=1.35e+7, train_loss_epoch=2.36e+8]"
     ]
    },
    {
     "name": "stdout",
     "output_type": "stream",
     "text": [
      "\r",
      "Epoch 6/500:   1%|          | 6/500 [00:03<03:46,  2.18it/s, v_num=1, train_loss_step=1.35e+7, train_loss_epoch=2.36e+8]"
     ]
    },
    {
     "name": "stdout",
     "output_type": "stream",
     "text": [
      "\r",
      "Epoch 6/500:   1%|          | 6/500 [00:03<03:46,  2.18it/s, v_num=1, train_loss_step=1.32e+7, train_loss_epoch=2.33e+8]"
     ]
    },
    {
     "name": "stdout",
     "output_type": "stream",
     "text": [
      "\r",
      "Epoch 7/500:   1%|          | 6/500 [00:03<03:46,  2.18it/s, v_num=1, train_loss_step=1.32e+7, train_loss_epoch=2.33e+8]"
     ]
    },
    {
     "name": "stdout",
     "output_type": "stream",
     "text": [
      "\r",
      "Epoch 7/500:   1%|▏         | 7/500 [00:03<03:40,  2.23it/s, v_num=1, train_loss_step=1.32e+7, train_loss_epoch=2.33e+8]"
     ]
    },
    {
     "name": "stdout",
     "output_type": "stream",
     "text": [
      "\r",
      "Epoch 7/500:   1%|▏         | 7/500 [00:03<03:40,  2.23it/s, v_num=1, train_loss_step=1.4e+7, train_loss_epoch=2.3e+8]  "
     ]
    },
    {
     "name": "stdout",
     "output_type": "stream",
     "text": [
      "\r",
      "Epoch 8/500:   1%|▏         | 7/500 [00:03<03:40,  2.23it/s, v_num=1, train_loss_step=1.4e+7, train_loss_epoch=2.3e+8]"
     ]
    },
    {
     "name": "stdout",
     "output_type": "stream",
     "text": [
      "\r",
      "Epoch 8/500:   2%|▏         | 8/500 [00:03<03:37,  2.27it/s, v_num=1, train_loss_step=1.4e+7, train_loss_epoch=2.3e+8]"
     ]
    },
    {
     "name": "stdout",
     "output_type": "stream",
     "text": [
      "\r",
      "Epoch 8/500:   2%|▏         | 8/500 [00:03<03:37,  2.27it/s, v_num=1, train_loss_step=1.32e+7, train_loss_epoch=2.29e+8]"
     ]
    },
    {
     "name": "stdout",
     "output_type": "stream",
     "text": [
      "\r",
      "Epoch 9/500:   2%|▏         | 8/500 [00:03<03:37,  2.27it/s, v_num=1, train_loss_step=1.32e+7, train_loss_epoch=2.29e+8]"
     ]
    },
    {
     "name": "stdout",
     "output_type": "stream",
     "text": [
      "\r",
      "Epoch 9/500:   2%|▏         | 9/500 [00:04<03:34,  2.29it/s, v_num=1, train_loss_step=1.32e+7, train_loss_epoch=2.29e+8]"
     ]
    },
    {
     "name": "stdout",
     "output_type": "stream",
     "text": [
      "\r",
      "Epoch 9/500:   2%|▏         | 9/500 [00:04<03:34,  2.29it/s, v_num=1, train_loss_step=1.41e+7, train_loss_epoch=2.28e+8]"
     ]
    },
    {
     "name": "stdout",
     "output_type": "stream",
     "text": [
      "\r",
      "Epoch 10/500:   2%|▏         | 9/500 [00:04<03:34,  2.29it/s, v_num=1, train_loss_step=1.41e+7, train_loss_epoch=2.28e+8]"
     ]
    },
    {
     "name": "stdout",
     "output_type": "stream",
     "text": [
      "\r",
      "Epoch 10/500:   2%|▏         | 10/500 [00:04<03:32,  2.30it/s, v_num=1, train_loss_step=1.41e+7, train_loss_epoch=2.28e+8]"
     ]
    },
    {
     "name": "stdout",
     "output_type": "stream",
     "text": [
      "\r",
      "Epoch 10/500:   2%|▏         | 10/500 [00:04<03:32,  2.30it/s, v_num=1, train_loss_step=1.36e+7, train_loss_epoch=2.27e+8]"
     ]
    },
    {
     "name": "stdout",
     "output_type": "stream",
     "text": [
      "\r",
      "Epoch 11/500:   2%|▏         | 10/500 [00:04<03:32,  2.30it/s, v_num=1, train_loss_step=1.36e+7, train_loss_epoch=2.27e+8]"
     ]
    },
    {
     "name": "stdout",
     "output_type": "stream",
     "text": [
      "\r",
      "Epoch 11/500:   2%|▏         | 11/500 [00:05<03:31,  2.31it/s, v_num=1, train_loss_step=1.36e+7, train_loss_epoch=2.27e+8]"
     ]
    },
    {
     "name": "stdout",
     "output_type": "stream",
     "text": [
      "\r",
      "Epoch 11/500:   2%|▏         | 11/500 [00:05<03:31,  2.31it/s, v_num=1, train_loss_step=1.36e+7, train_loss_epoch=2.25e+8]"
     ]
    },
    {
     "name": "stdout",
     "output_type": "stream",
     "text": [
      "\r",
      "Epoch 12/500:   2%|▏         | 11/500 [00:05<03:31,  2.31it/s, v_num=1, train_loss_step=1.36e+7, train_loss_epoch=2.25e+8]"
     ]
    },
    {
     "name": "stdout",
     "output_type": "stream",
     "text": [
      "\r",
      "Epoch 12/500:   2%|▏         | 12/500 [00:05<03:30,  2.32it/s, v_num=1, train_loss_step=1.36e+7, train_loss_epoch=2.25e+8]"
     ]
    },
    {
     "name": "stdout",
     "output_type": "stream",
     "text": [
      "\r",
      "Epoch 12/500:   2%|▏         | 12/500 [00:05<03:30,  2.32it/s, v_num=1, train_loss_step=1.24e+7, train_loss_epoch=2.23e+8]"
     ]
    },
    {
     "name": "stdout",
     "output_type": "stream",
     "text": [
      "\r",
      "Epoch 13/500:   2%|▏         | 12/500 [00:05<03:30,  2.32it/s, v_num=1, train_loss_step=1.24e+7, train_loss_epoch=2.23e+8]"
     ]
    },
    {
     "name": "stdout",
     "output_type": "stream",
     "text": [
      "\r",
      "Epoch 13/500:   3%|▎         | 13/500 [00:06<03:29,  2.33it/s, v_num=1, train_loss_step=1.24e+7, train_loss_epoch=2.23e+8]"
     ]
    },
    {
     "name": "stdout",
     "output_type": "stream",
     "text": [
      "\r",
      "Epoch 13/500:   3%|▎         | 13/500 [00:06<03:29,  2.33it/s, v_num=1, train_loss_step=1.34e+7, train_loss_epoch=2.21e+8]"
     ]
    },
    {
     "name": "stdout",
     "output_type": "stream",
     "text": [
      "\r",
      "Epoch 14/500:   3%|▎         | 13/500 [00:06<03:29,  2.33it/s, v_num=1, train_loss_step=1.34e+7, train_loss_epoch=2.21e+8]"
     ]
    },
    {
     "name": "stdout",
     "output_type": "stream",
     "text": [
      "\r",
      "Epoch 14/500:   3%|▎         | 14/500 [00:06<03:28,  2.33it/s, v_num=1, train_loss_step=1.34e+7, train_loss_epoch=2.21e+8]"
     ]
    },
    {
     "name": "stdout",
     "output_type": "stream",
     "text": [
      "\r",
      "Epoch 14/500:   3%|▎         | 14/500 [00:06<03:28,  2.33it/s, v_num=1, train_loss_step=1.27e+7, train_loss_epoch=2.19e+8]"
     ]
    },
    {
     "name": "stdout",
     "output_type": "stream",
     "text": [
      "\r",
      "Epoch 15/500:   3%|▎         | 14/500 [00:06<03:28,  2.33it/s, v_num=1, train_loss_step=1.27e+7, train_loss_epoch=2.19e+8]"
     ]
    },
    {
     "name": "stdout",
     "output_type": "stream",
     "text": [
      "\r",
      "Epoch 15/500:   3%|▎         | 15/500 [00:06<03:27,  2.33it/s, v_num=1, train_loss_step=1.27e+7, train_loss_epoch=2.19e+8]"
     ]
    },
    {
     "name": "stdout",
     "output_type": "stream",
     "text": [
      "\r",
      "Epoch 15/500:   3%|▎         | 15/500 [00:06<03:27,  2.33it/s, v_num=1, train_loss_step=1.3e+7, train_loss_epoch=2.18e+8] "
     ]
    },
    {
     "name": "stdout",
     "output_type": "stream",
     "text": [
      "\r",
      "Epoch 16/500:   3%|▎         | 15/500 [00:06<03:27,  2.33it/s, v_num=1, train_loss_step=1.3e+7, train_loss_epoch=2.18e+8]"
     ]
    },
    {
     "name": "stdout",
     "output_type": "stream",
     "text": [
      "\r",
      "Epoch 16/500:   3%|▎         | 16/500 [00:07<03:27,  2.33it/s, v_num=1, train_loss_step=1.3e+7, train_loss_epoch=2.18e+8]"
     ]
    },
    {
     "name": "stdout",
     "output_type": "stream",
     "text": [
      "\r",
      "Epoch 16/500:   3%|▎         | 16/500 [00:07<03:27,  2.33it/s, v_num=1, train_loss_step=1.26e+7, train_loss_epoch=2.17e+8]"
     ]
    },
    {
     "name": "stdout",
     "output_type": "stream",
     "text": [
      "\r",
      "Epoch 17/500:   3%|▎         | 16/500 [00:07<03:27,  2.33it/s, v_num=1, train_loss_step=1.26e+7, train_loss_epoch=2.17e+8]"
     ]
    },
    {
     "name": "stdout",
     "output_type": "stream",
     "text": [
      "\r",
      "Epoch 17/500:   3%|▎         | 17/500 [00:07<03:27,  2.33it/s, v_num=1, train_loss_step=1.26e+7, train_loss_epoch=2.17e+8]"
     ]
    },
    {
     "name": "stdout",
     "output_type": "stream",
     "text": [
      "\r",
      "Epoch 17/500:   3%|▎         | 17/500 [00:07<03:27,  2.33it/s, v_num=1, train_loss_step=1.25e+7, train_loss_epoch=2.17e+8]"
     ]
    },
    {
     "name": "stdout",
     "output_type": "stream",
     "text": [
      "\r",
      "Epoch 18/500:   3%|▎         | 17/500 [00:07<03:27,  2.33it/s, v_num=1, train_loss_step=1.25e+7, train_loss_epoch=2.17e+8]"
     ]
    },
    {
     "name": "stdout",
     "output_type": "stream",
     "text": [
      "\r",
      "Epoch 18/500:   4%|▎         | 18/500 [00:08<03:26,  2.33it/s, v_num=1, train_loss_step=1.25e+7, train_loss_epoch=2.17e+8]"
     ]
    },
    {
     "name": "stdout",
     "output_type": "stream",
     "text": [
      "\r",
      "Epoch 18/500:   4%|▎         | 18/500 [00:08<03:26,  2.33it/s, v_num=1, train_loss_step=1.3e+7, train_loss_epoch=2.16e+8] "
     ]
    },
    {
     "name": "stdout",
     "output_type": "stream",
     "text": [
      "\r",
      "Epoch 19/500:   4%|▎         | 18/500 [00:08<03:26,  2.33it/s, v_num=1, train_loss_step=1.3e+7, train_loss_epoch=2.16e+8]"
     ]
    },
    {
     "name": "stdout",
     "output_type": "stream",
     "text": [
      "\r",
      "Epoch 19/500:   4%|▍         | 19/500 [00:08<03:25,  2.34it/s, v_num=1, train_loss_step=1.3e+7, train_loss_epoch=2.16e+8]"
     ]
    },
    {
     "name": "stdout",
     "output_type": "stream",
     "text": [
      "\r",
      "Epoch 19/500:   4%|▍         | 19/500 [00:08<03:25,  2.34it/s, v_num=1, train_loss_step=1.24e+7, train_loss_epoch=2.16e+8]"
     ]
    },
    {
     "name": "stdout",
     "output_type": "stream",
     "text": [
      "\r",
      "Epoch 20/500:   4%|▍         | 19/500 [00:08<03:25,  2.34it/s, v_num=1, train_loss_step=1.24e+7, train_loss_epoch=2.16e+8]"
     ]
    },
    {
     "name": "stdout",
     "output_type": "stream",
     "text": [
      "\r",
      "Epoch 20/500:   4%|▍         | 20/500 [00:09<03:25,  2.34it/s, v_num=1, train_loss_step=1.24e+7, train_loss_epoch=2.16e+8]"
     ]
    },
    {
     "name": "stdout",
     "output_type": "stream",
     "text": [
      "\r",
      "Epoch 20/500:   4%|▍         | 20/500 [00:09<03:25,  2.34it/s, v_num=1, train_loss_step=1.25e+7, train_loss_epoch=2.16e+8]"
     ]
    },
    {
     "name": "stdout",
     "output_type": "stream",
     "text": [
      "\r",
      "Epoch 21/500:   4%|▍         | 20/500 [00:09<03:25,  2.34it/s, v_num=1, train_loss_step=1.25e+7, train_loss_epoch=2.16e+8]"
     ]
    },
    {
     "name": "stdout",
     "output_type": "stream",
     "text": [
      "\r",
      "Epoch 21/500:   4%|▍         | 21/500 [00:09<03:24,  2.34it/s, v_num=1, train_loss_step=1.25e+7, train_loss_epoch=2.16e+8]"
     ]
    },
    {
     "name": "stdout",
     "output_type": "stream",
     "text": [
      "\r",
      "Epoch 21/500:   4%|▍         | 21/500 [00:09<03:24,  2.34it/s, v_num=1, train_loss_step=1.35e+7, train_loss_epoch=2.15e+8]"
     ]
    },
    {
     "name": "stdout",
     "output_type": "stream",
     "text": [
      "\r",
      "Epoch 22/500:   4%|▍         | 21/500 [00:09<03:24,  2.34it/s, v_num=1, train_loss_step=1.35e+7, train_loss_epoch=2.15e+8]"
     ]
    },
    {
     "name": "stdout",
     "output_type": "stream",
     "text": [
      "\r",
      "Epoch 22/500:   4%|▍         | 22/500 [00:09<03:24,  2.34it/s, v_num=1, train_loss_step=1.35e+7, train_loss_epoch=2.15e+8]"
     ]
    },
    {
     "name": "stdout",
     "output_type": "stream",
     "text": [
      "\r",
      "Epoch 22/500:   4%|▍         | 22/500 [00:09<03:24,  2.34it/s, v_num=1, train_loss_step=1.26e+7, train_loss_epoch=2.15e+8]"
     ]
    },
    {
     "name": "stdout",
     "output_type": "stream",
     "text": [
      "\r",
      "Epoch 23/500:   4%|▍         | 22/500 [00:09<03:24,  2.34it/s, v_num=1, train_loss_step=1.26e+7, train_loss_epoch=2.15e+8]"
     ]
    },
    {
     "name": "stdout",
     "output_type": "stream",
     "text": [
      "\r",
      "Epoch 23/500:   5%|▍         | 23/500 [00:10<03:23,  2.34it/s, v_num=1, train_loss_step=1.26e+7, train_loss_epoch=2.15e+8]"
     ]
    },
    {
     "name": "stdout",
     "output_type": "stream",
     "text": [
      "\r",
      "Epoch 23/500:   5%|▍         | 23/500 [00:10<03:23,  2.34it/s, v_num=1, train_loss_step=1.24e+7, train_loss_epoch=2.15e+8]"
     ]
    },
    {
     "name": "stdout",
     "output_type": "stream",
     "text": [
      "\r",
      "Epoch 24/500:   5%|▍         | 23/500 [00:10<03:23,  2.34it/s, v_num=1, train_loss_step=1.24e+7, train_loss_epoch=2.15e+8]"
     ]
    },
    {
     "name": "stdout",
     "output_type": "stream",
     "text": [
      "\r",
      "Epoch 24/500:   5%|▍         | 24/500 [00:10<03:23,  2.34it/s, v_num=1, train_loss_step=1.24e+7, train_loss_epoch=2.15e+8]"
     ]
    },
    {
     "name": "stdout",
     "output_type": "stream",
     "text": [
      "\r",
      "Epoch 24/500:   5%|▍         | 24/500 [00:10<03:23,  2.34it/s, v_num=1, train_loss_step=1.29e+7, train_loss_epoch=2.14e+8]"
     ]
    },
    {
     "name": "stdout",
     "output_type": "stream",
     "text": [
      "\r",
      "Epoch 25/500:   5%|▍         | 24/500 [00:10<03:23,  2.34it/s, v_num=1, train_loss_step=1.29e+7, train_loss_epoch=2.14e+8]"
     ]
    },
    {
     "name": "stdout",
     "output_type": "stream",
     "text": [
      "\r",
      "Epoch 25/500:   5%|▌         | 25/500 [00:11<03:23,  2.34it/s, v_num=1, train_loss_step=1.29e+7, train_loss_epoch=2.14e+8]"
     ]
    },
    {
     "name": "stdout",
     "output_type": "stream",
     "text": [
      "\r",
      "Epoch 25/500:   5%|▌         | 25/500 [00:11<03:23,  2.34it/s, v_num=1, train_loss_step=1.26e+7, train_loss_epoch=2.14e+8]"
     ]
    },
    {
     "name": "stdout",
     "output_type": "stream",
     "text": [
      "\r",
      "Epoch 26/500:   5%|▌         | 25/500 [00:11<03:23,  2.34it/s, v_num=1, train_loss_step=1.26e+7, train_loss_epoch=2.14e+8]"
     ]
    },
    {
     "name": "stdout",
     "output_type": "stream",
     "text": [
      "\r",
      "Epoch 26/500:   5%|▌         | 26/500 [00:11<03:22,  2.34it/s, v_num=1, train_loss_step=1.26e+7, train_loss_epoch=2.14e+8]"
     ]
    },
    {
     "name": "stdout",
     "output_type": "stream",
     "text": [
      "\r",
      "Epoch 26/500:   5%|▌         | 26/500 [00:11<03:22,  2.34it/s, v_num=1, train_loss_step=1.31e+7, train_loss_epoch=2.14e+8]"
     ]
    },
    {
     "name": "stdout",
     "output_type": "stream",
     "text": [
      "\r",
      "Epoch 27/500:   5%|▌         | 26/500 [00:11<03:22,  2.34it/s, v_num=1, train_loss_step=1.31e+7, train_loss_epoch=2.14e+8]"
     ]
    },
    {
     "name": "stdout",
     "output_type": "stream",
     "text": [
      "\r",
      "Epoch 27/500:   5%|▌         | 27/500 [00:12<03:22,  2.34it/s, v_num=1, train_loss_step=1.31e+7, train_loss_epoch=2.14e+8]"
     ]
    },
    {
     "name": "stdout",
     "output_type": "stream",
     "text": [
      "\r",
      "Epoch 27/500:   5%|▌         | 27/500 [00:12<03:22,  2.34it/s, v_num=1, train_loss_step=1.28e+7, train_loss_epoch=2.13e+8]"
     ]
    },
    {
     "name": "stdout",
     "output_type": "stream",
     "text": [
      "\r",
      "Epoch 28/500:   5%|▌         | 27/500 [00:12<03:22,  2.34it/s, v_num=1, train_loss_step=1.28e+7, train_loss_epoch=2.13e+8]"
     ]
    },
    {
     "name": "stdout",
     "output_type": "stream",
     "text": [
      "\r",
      "Epoch 28/500:   6%|▌         | 28/500 [00:12<03:21,  2.34it/s, v_num=1, train_loss_step=1.28e+7, train_loss_epoch=2.13e+8]"
     ]
    },
    {
     "name": "stdout",
     "output_type": "stream",
     "text": [
      "\r",
      "Epoch 28/500:   6%|▌         | 28/500 [00:12<03:21,  2.34it/s, v_num=1, train_loss_step=1.27e+7, train_loss_epoch=2.13e+8]"
     ]
    },
    {
     "name": "stdout",
     "output_type": "stream",
     "text": [
      "\r",
      "Epoch 29/500:   6%|▌         | 28/500 [00:12<03:21,  2.34it/s, v_num=1, train_loss_step=1.27e+7, train_loss_epoch=2.13e+8]"
     ]
    },
    {
     "name": "stdout",
     "output_type": "stream",
     "text": [
      "\r",
      "Epoch 29/500:   6%|▌         | 29/500 [00:12<03:21,  2.34it/s, v_num=1, train_loss_step=1.27e+7, train_loss_epoch=2.13e+8]"
     ]
    },
    {
     "name": "stdout",
     "output_type": "stream",
     "text": [
      "\r",
      "Epoch 29/500:   6%|▌         | 29/500 [00:12<03:21,  2.34it/s, v_num=1, train_loss_step=1.27e+7, train_loss_epoch=2.13e+8]"
     ]
    },
    {
     "name": "stdout",
     "output_type": "stream",
     "text": [
      "\r",
      "Epoch 30/500:   6%|▌         | 29/500 [00:12<03:21,  2.34it/s, v_num=1, train_loss_step=1.27e+7, train_loss_epoch=2.13e+8]"
     ]
    },
    {
     "name": "stdout",
     "output_type": "stream",
     "text": [
      "\r",
      "Epoch 30/500:   6%|▌         | 30/500 [00:13<03:20,  2.34it/s, v_num=1, train_loss_step=1.27e+7, train_loss_epoch=2.13e+8]"
     ]
    },
    {
     "name": "stdout",
     "output_type": "stream",
     "text": [
      "\r",
      "Epoch 30/500:   6%|▌         | 30/500 [00:13<03:20,  2.34it/s, v_num=1, train_loss_step=1.28e+7, train_loss_epoch=2.12e+8]"
     ]
    },
    {
     "name": "stdout",
     "output_type": "stream",
     "text": [
      "\r",
      "Epoch 31/500:   6%|▌         | 30/500 [00:13<03:20,  2.34it/s, v_num=1, train_loss_step=1.28e+7, train_loss_epoch=2.12e+8]"
     ]
    },
    {
     "name": "stdout",
     "output_type": "stream",
     "text": [
      "\r",
      "Epoch 31/500:   6%|▌         | 31/500 [00:13<03:20,  2.34it/s, v_num=1, train_loss_step=1.28e+7, train_loss_epoch=2.12e+8]"
     ]
    },
    {
     "name": "stdout",
     "output_type": "stream",
     "text": [
      "\r",
      "Epoch 31/500:   6%|▌         | 31/500 [00:13<03:20,  2.34it/s, v_num=1, train_loss_step=1.25e+7, train_loss_epoch=2.12e+8]"
     ]
    },
    {
     "name": "stdout",
     "output_type": "stream",
     "text": [
      "\r",
      "Epoch 32/500:   6%|▌         | 31/500 [00:13<03:20,  2.34it/s, v_num=1, train_loss_step=1.25e+7, train_loss_epoch=2.12e+8]"
     ]
    },
    {
     "name": "stdout",
     "output_type": "stream",
     "text": [
      "\r",
      "Epoch 32/500:   6%|▋         | 32/500 [00:14<03:20,  2.34it/s, v_num=1, train_loss_step=1.25e+7, train_loss_epoch=2.12e+8]"
     ]
    },
    {
     "name": "stdout",
     "output_type": "stream",
     "text": [
      "\r",
      "Epoch 32/500:   6%|▋         | 32/500 [00:14<03:20,  2.34it/s, v_num=1, train_loss_step=1.16e+7, train_loss_epoch=2.12e+8]"
     ]
    },
    {
     "name": "stdout",
     "output_type": "stream",
     "text": [
      "\r",
      "Epoch 33/500:   6%|▋         | 32/500 [00:14<03:20,  2.34it/s, v_num=1, train_loss_step=1.16e+7, train_loss_epoch=2.12e+8]"
     ]
    },
    {
     "name": "stdout",
     "output_type": "stream",
     "text": [
      "\r",
      "Epoch 33/500:   7%|▋         | 33/500 [00:14<03:19,  2.34it/s, v_num=1, train_loss_step=1.16e+7, train_loss_epoch=2.12e+8]"
     ]
    },
    {
     "name": "stdout",
     "output_type": "stream",
     "text": [
      "\r",
      "Epoch 33/500:   7%|▋         | 33/500 [00:14<03:19,  2.34it/s, v_num=1, train_loss_step=1.22e+7, train_loss_epoch=2.12e+8]"
     ]
    },
    {
     "name": "stdout",
     "output_type": "stream",
     "text": [
      "\r",
      "Epoch 34/500:   7%|▋         | 33/500 [00:14<03:19,  2.34it/s, v_num=1, train_loss_step=1.22e+7, train_loss_epoch=2.12e+8]"
     ]
    },
    {
     "name": "stdout",
     "output_type": "stream",
     "text": [
      "\r",
      "Epoch 34/500:   7%|▋         | 34/500 [00:15<03:19,  2.34it/s, v_num=1, train_loss_step=1.22e+7, train_loss_epoch=2.12e+8]"
     ]
    },
    {
     "name": "stdout",
     "output_type": "stream",
     "text": [
      "\r",
      "Epoch 34/500:   7%|▋         | 34/500 [00:15<03:19,  2.34it/s, v_num=1, train_loss_step=1.24e+7, train_loss_epoch=2.11e+8]"
     ]
    },
    {
     "name": "stdout",
     "output_type": "stream",
     "text": [
      "\r",
      "Epoch 35/500:   7%|▋         | 34/500 [00:15<03:19,  2.34it/s, v_num=1, train_loss_step=1.24e+7, train_loss_epoch=2.11e+8]"
     ]
    },
    {
     "name": "stdout",
     "output_type": "stream",
     "text": [
      "\r",
      "Epoch 35/500:   7%|▋         | 35/500 [00:15<03:18,  2.34it/s, v_num=1, train_loss_step=1.24e+7, train_loss_epoch=2.11e+8]"
     ]
    },
    {
     "name": "stdout",
     "output_type": "stream",
     "text": [
      "\r",
      "Epoch 35/500:   7%|▋         | 35/500 [00:15<03:18,  2.34it/s, v_num=1, train_loss_step=1.19e+7, train_loss_epoch=2.11e+8]"
     ]
    },
    {
     "name": "stdout",
     "output_type": "stream",
     "text": [
      "\r",
      "Epoch 36/500:   7%|▋         | 35/500 [00:15<03:18,  2.34it/s, v_num=1, train_loss_step=1.19e+7, train_loss_epoch=2.11e+8]"
     ]
    },
    {
     "name": "stdout",
     "output_type": "stream",
     "text": [
      "\r",
      "Epoch 36/500:   7%|▋         | 36/500 [00:15<03:18,  2.34it/s, v_num=1, train_loss_step=1.19e+7, train_loss_epoch=2.11e+8]"
     ]
    },
    {
     "name": "stdout",
     "output_type": "stream",
     "text": [
      "\r",
      "Epoch 36/500:   7%|▋         | 36/500 [00:15<03:18,  2.34it/s, v_num=1, train_loss_step=1.29e+7, train_loss_epoch=2.11e+8]"
     ]
    },
    {
     "name": "stdout",
     "output_type": "stream",
     "text": [
      "\r",
      "Epoch 37/500:   7%|▋         | 36/500 [00:15<03:18,  2.34it/s, v_num=1, train_loss_step=1.29e+7, train_loss_epoch=2.11e+8]"
     ]
    },
    {
     "name": "stdout",
     "output_type": "stream",
     "text": [
      "\r",
      "Epoch 37/500:   7%|▋         | 37/500 [00:16<03:17,  2.34it/s, v_num=1, train_loss_step=1.29e+7, train_loss_epoch=2.11e+8]"
     ]
    },
    {
     "name": "stdout",
     "output_type": "stream",
     "text": [
      "\r",
      "Epoch 37/500:   7%|▋         | 37/500 [00:16<03:17,  2.34it/s, v_num=1, train_loss_step=1.27e+7, train_loss_epoch=2.11e+8]"
     ]
    },
    {
     "name": "stdout",
     "output_type": "stream",
     "text": [
      "\r",
      "Epoch 38/500:   7%|▋         | 37/500 [00:16<03:17,  2.34it/s, v_num=1, train_loss_step=1.27e+7, train_loss_epoch=2.11e+8]"
     ]
    },
    {
     "name": "stdout",
     "output_type": "stream",
     "text": [
      "\r",
      "Epoch 38/500:   8%|▊         | 38/500 [00:16<03:17,  2.34it/s, v_num=1, train_loss_step=1.27e+7, train_loss_epoch=2.11e+8]"
     ]
    },
    {
     "name": "stdout",
     "output_type": "stream",
     "text": [
      "\r",
      "Epoch 38/500:   8%|▊         | 38/500 [00:16<03:17,  2.34it/s, v_num=1, train_loss_step=1.28e+7, train_loss_epoch=2.11e+8]"
     ]
    },
    {
     "name": "stdout",
     "output_type": "stream",
     "text": [
      "\r",
      "Epoch 39/500:   8%|▊         | 38/500 [00:16<03:17,  2.34it/s, v_num=1, train_loss_step=1.28e+7, train_loss_epoch=2.11e+8]"
     ]
    },
    {
     "name": "stdout",
     "output_type": "stream",
     "text": [
      "\r",
      "Epoch 39/500:   8%|▊         | 39/500 [00:17<03:17,  2.34it/s, v_num=1, train_loss_step=1.28e+7, train_loss_epoch=2.11e+8]"
     ]
    },
    {
     "name": "stdout",
     "output_type": "stream",
     "text": [
      "\r",
      "Epoch 39/500:   8%|▊         | 39/500 [00:17<03:17,  2.34it/s, v_num=1, train_loss_step=1.25e+7, train_loss_epoch=2.11e+8]"
     ]
    },
    {
     "name": "stdout",
     "output_type": "stream",
     "text": [
      "\r",
      "Epoch 40/500:   8%|▊         | 39/500 [00:17<03:17,  2.34it/s, v_num=1, train_loss_step=1.25e+7, train_loss_epoch=2.11e+8]"
     ]
    },
    {
     "name": "stdout",
     "output_type": "stream",
     "text": [
      "\r",
      "Epoch 40/500:   8%|▊         | 40/500 [00:17<03:16,  2.34it/s, v_num=1, train_loss_step=1.25e+7, train_loss_epoch=2.11e+8]"
     ]
    },
    {
     "name": "stdout",
     "output_type": "stream",
     "text": [
      "\r",
      "Epoch 40/500:   8%|▊         | 40/500 [00:17<03:16,  2.34it/s, v_num=1, train_loss_step=1.27e+7, train_loss_epoch=2.1e+8] "
     ]
    },
    {
     "name": "stdout",
     "output_type": "stream",
     "text": [
      "\r",
      "Epoch 41/500:   8%|▊         | 40/500 [00:17<03:16,  2.34it/s, v_num=1, train_loss_step=1.27e+7, train_loss_epoch=2.1e+8]"
     ]
    },
    {
     "name": "stdout",
     "output_type": "stream",
     "text": [
      "\r",
      "Epoch 41/500:   8%|▊         | 41/500 [00:18<03:16,  2.34it/s, v_num=1, train_loss_step=1.27e+7, train_loss_epoch=2.1e+8]"
     ]
    },
    {
     "name": "stdout",
     "output_type": "stream",
     "text": [
      "\r",
      "Epoch 41/500:   8%|▊         | 41/500 [00:18<03:16,  2.34it/s, v_num=1, train_loss_step=1.27e+7, train_loss_epoch=2.1e+8]"
     ]
    },
    {
     "name": "stdout",
     "output_type": "stream",
     "text": [
      "\r",
      "Epoch 42/500:   8%|▊         | 41/500 [00:18<03:16,  2.34it/s, v_num=1, train_loss_step=1.27e+7, train_loss_epoch=2.1e+8]"
     ]
    },
    {
     "name": "stdout",
     "output_type": "stream",
     "text": [
      "\r",
      "Epoch 42/500:   8%|▊         | 42/500 [00:18<03:15,  2.34it/s, v_num=1, train_loss_step=1.27e+7, train_loss_epoch=2.1e+8]"
     ]
    },
    {
     "name": "stdout",
     "output_type": "stream",
     "text": [
      "\r",
      "Epoch 42/500:   8%|▊         | 42/500 [00:18<03:15,  2.34it/s, v_num=1, train_loss_step=1.25e+7, train_loss_epoch=2.1e+8]"
     ]
    },
    {
     "name": "stdout",
     "output_type": "stream",
     "text": [
      "\r",
      "Epoch 43/500:   8%|▊         | 42/500 [00:18<03:15,  2.34it/s, v_num=1, train_loss_step=1.25e+7, train_loss_epoch=2.1e+8]"
     ]
    },
    {
     "name": "stdout",
     "output_type": "stream",
     "text": [
      "\r",
      "Epoch 43/500:   9%|▊         | 43/500 [00:18<03:15,  2.34it/s, v_num=1, train_loss_step=1.25e+7, train_loss_epoch=2.1e+8]"
     ]
    },
    {
     "name": "stdout",
     "output_type": "stream",
     "text": [
      "\r",
      "Epoch 43/500:   9%|▊         | 43/500 [00:18<03:15,  2.34it/s, v_num=1, train_loss_step=1.23e+7, train_loss_epoch=2.1e+8]"
     ]
    },
    {
     "name": "stdout",
     "output_type": "stream",
     "text": [
      "\r",
      "Epoch 44/500:   9%|▊         | 43/500 [00:18<03:15,  2.34it/s, v_num=1, train_loss_step=1.23e+7, train_loss_epoch=2.1e+8]"
     ]
    },
    {
     "name": "stdout",
     "output_type": "stream",
     "text": [
      "\r",
      "Epoch 44/500:   9%|▉         | 44/500 [00:19<03:15,  2.34it/s, v_num=1, train_loss_step=1.23e+7, train_loss_epoch=2.1e+8]"
     ]
    },
    {
     "name": "stdout",
     "output_type": "stream",
     "text": [
      "\r",
      "Epoch 44/500:   9%|▉         | 44/500 [00:19<03:15,  2.34it/s, v_num=1, train_loss_step=1.33e+7, train_loss_epoch=2.1e+8]"
     ]
    },
    {
     "name": "stdout",
     "output_type": "stream",
     "text": [
      "\r",
      "Epoch 45/500:   9%|▉         | 44/500 [00:19<03:15,  2.34it/s, v_num=1, train_loss_step=1.33e+7, train_loss_epoch=2.1e+8]"
     ]
    },
    {
     "name": "stdout",
     "output_type": "stream",
     "text": [
      "\r",
      "Epoch 45/500:   9%|▉         | 45/500 [00:19<03:14,  2.34it/s, v_num=1, train_loss_step=1.33e+7, train_loss_epoch=2.1e+8]"
     ]
    },
    {
     "name": "stdout",
     "output_type": "stream",
     "text": [
      "\r",
      "Epoch 45/500:   9%|▉         | 45/500 [00:19<03:14,  2.34it/s, v_num=1, train_loss_step=1.21e+7, train_loss_epoch=2.1e+8]"
     ]
    },
    {
     "name": "stdout",
     "output_type": "stream",
     "text": [
      "\r",
      "Epoch 46/500:   9%|▉         | 45/500 [00:19<03:14,  2.34it/s, v_num=1, train_loss_step=1.21e+7, train_loss_epoch=2.1e+8]"
     ]
    },
    {
     "name": "stdout",
     "output_type": "stream",
     "text": [
      "\r",
      "Epoch 46/500:   9%|▉         | 46/500 [00:20<03:14,  2.34it/s, v_num=1, train_loss_step=1.21e+7, train_loss_epoch=2.1e+8]"
     ]
    },
    {
     "name": "stdout",
     "output_type": "stream",
     "text": [
      "\r",
      "Epoch 46/500:   9%|▉         | 46/500 [00:20<03:14,  2.34it/s, v_num=1, train_loss_step=1.13e+7, train_loss_epoch=2.1e+8]"
     ]
    },
    {
     "name": "stdout",
     "output_type": "stream",
     "text": [
      "\r",
      "Epoch 47/500:   9%|▉         | 46/500 [00:20<03:14,  2.34it/s, v_num=1, train_loss_step=1.13e+7, train_loss_epoch=2.1e+8]"
     ]
    },
    {
     "name": "stdout",
     "output_type": "stream",
     "text": [
      "\r",
      "Epoch 47/500:   9%|▉         | 47/500 [00:20<03:13,  2.34it/s, v_num=1, train_loss_step=1.13e+7, train_loss_epoch=2.1e+8]"
     ]
    },
    {
     "name": "stdout",
     "output_type": "stream",
     "text": [
      "\r",
      "Epoch 47/500:   9%|▉         | 47/500 [00:20<03:13,  2.34it/s, v_num=1, train_loss_step=1.32e+7, train_loss_epoch=2.09e+8]"
     ]
    },
    {
     "name": "stdout",
     "output_type": "stream",
     "text": [
      "\r",
      "Epoch 48/500:   9%|▉         | 47/500 [00:20<03:13,  2.34it/s, v_num=1, train_loss_step=1.32e+7, train_loss_epoch=2.09e+8]"
     ]
    },
    {
     "name": "stdout",
     "output_type": "stream",
     "text": [
      "\r",
      "Epoch 48/500:  10%|▉         | 48/500 [00:21<03:13,  2.34it/s, v_num=1, train_loss_step=1.32e+7, train_loss_epoch=2.09e+8]"
     ]
    },
    {
     "name": "stdout",
     "output_type": "stream",
     "text": [
      "\r",
      "Epoch 48/500:  10%|▉         | 48/500 [00:21<03:13,  2.34it/s, v_num=1, train_loss_step=1.26e+7, train_loss_epoch=2.09e+8]"
     ]
    },
    {
     "name": "stdout",
     "output_type": "stream",
     "text": [
      "\r",
      "Epoch 49/500:  10%|▉         | 48/500 [00:21<03:13,  2.34it/s, v_num=1, train_loss_step=1.26e+7, train_loss_epoch=2.09e+8]"
     ]
    },
    {
     "name": "stdout",
     "output_type": "stream",
     "text": [
      "\r",
      "Epoch 49/500:  10%|▉         | 49/500 [00:21<03:12,  2.34it/s, v_num=1, train_loss_step=1.26e+7, train_loss_epoch=2.09e+8]"
     ]
    },
    {
     "name": "stdout",
     "output_type": "stream",
     "text": [
      "\r",
      "Epoch 49/500:  10%|▉         | 49/500 [00:21<03:12,  2.34it/s, v_num=1, train_loss_step=1.23e+7, train_loss_epoch=2.09e+8]"
     ]
    },
    {
     "name": "stdout",
     "output_type": "stream",
     "text": [
      "\r",
      "Epoch 50/500:  10%|▉         | 49/500 [00:21<03:12,  2.34it/s, v_num=1, train_loss_step=1.23e+7, train_loss_epoch=2.09e+8]"
     ]
    },
    {
     "name": "stdout",
     "output_type": "stream",
     "text": [
      "\r",
      "Epoch 50/500:  10%|█         | 50/500 [00:21<03:12,  2.34it/s, v_num=1, train_loss_step=1.23e+7, train_loss_epoch=2.09e+8]"
     ]
    },
    {
     "name": "stdout",
     "output_type": "stream",
     "text": [
      "\r",
      "Epoch 50/500:  10%|█         | 50/500 [00:21<03:12,  2.34it/s, v_num=1, train_loss_step=1.23e+7, train_loss_epoch=2.09e+8]"
     ]
    },
    {
     "name": "stdout",
     "output_type": "stream",
     "text": [
      "\r",
      "Epoch 51/500:  10%|█         | 50/500 [00:21<03:12,  2.34it/s, v_num=1, train_loss_step=1.23e+7, train_loss_epoch=2.09e+8]"
     ]
    },
    {
     "name": "stdout",
     "output_type": "stream",
     "text": [
      "\r",
      "Epoch 51/500:  10%|█         | 51/500 [00:22<03:11,  2.34it/s, v_num=1, train_loss_step=1.23e+7, train_loss_epoch=2.09e+8]"
     ]
    },
    {
     "name": "stdout",
     "output_type": "stream",
     "text": [
      "\r",
      "Epoch 51/500:  10%|█         | 51/500 [00:22<03:11,  2.34it/s, v_num=1, train_loss_step=1.28e+7, train_loss_epoch=2.09e+8]"
     ]
    },
    {
     "name": "stdout",
     "output_type": "stream",
     "text": [
      "\r",
      "Epoch 52/500:  10%|█         | 51/500 [00:22<03:11,  2.34it/s, v_num=1, train_loss_step=1.28e+7, train_loss_epoch=2.09e+8]"
     ]
    },
    {
     "name": "stdout",
     "output_type": "stream",
     "text": [
      "\r",
      "Epoch 52/500:  10%|█         | 52/500 [00:22<03:11,  2.34it/s, v_num=1, train_loss_step=1.28e+7, train_loss_epoch=2.09e+8]"
     ]
    },
    {
     "name": "stdout",
     "output_type": "stream",
     "text": [
      "\r",
      "Epoch 52/500:  10%|█         | 52/500 [00:22<03:11,  2.34it/s, v_num=1, train_loss_step=1.3e+7, train_loss_epoch=2.09e+8] "
     ]
    },
    {
     "name": "stdout",
     "output_type": "stream",
     "text": [
      "\r",
      "Epoch 53/500:  10%|█         | 52/500 [00:22<03:11,  2.34it/s, v_num=1, train_loss_step=1.3e+7, train_loss_epoch=2.09e+8]"
     ]
    },
    {
     "name": "stdout",
     "output_type": "stream",
     "text": [
      "\r",
      "Epoch 53/500:  11%|█         | 53/500 [00:23<03:11,  2.34it/s, v_num=1, train_loss_step=1.3e+7, train_loss_epoch=2.09e+8]"
     ]
    },
    {
     "name": "stdout",
     "output_type": "stream",
     "text": [
      "\r",
      "Epoch 53/500:  11%|█         | 53/500 [00:23<03:11,  2.34it/s, v_num=1, train_loss_step=1.31e+7, train_loss_epoch=2.09e+8]"
     ]
    },
    {
     "name": "stdout",
     "output_type": "stream",
     "text": [
      "\r",
      "Epoch 54/500:  11%|█         | 53/500 [00:23<03:11,  2.34it/s, v_num=1, train_loss_step=1.31e+7, train_loss_epoch=2.09e+8]"
     ]
    },
    {
     "name": "stdout",
     "output_type": "stream",
     "text": [
      "\r",
      "Epoch 54/500:  11%|█         | 54/500 [00:23<03:10,  2.34it/s, v_num=1, train_loss_step=1.31e+7, train_loss_epoch=2.09e+8]"
     ]
    },
    {
     "name": "stdout",
     "output_type": "stream",
     "text": [
      "\r",
      "Epoch 54/500:  11%|█         | 54/500 [00:23<03:10,  2.34it/s, v_num=1, train_loss_step=1.29e+7, train_loss_epoch=2.09e+8]"
     ]
    },
    {
     "name": "stdout",
     "output_type": "stream",
     "text": [
      "\r",
      "Epoch 55/500:  11%|█         | 54/500 [00:23<03:10,  2.34it/s, v_num=1, train_loss_step=1.29e+7, train_loss_epoch=2.09e+8]"
     ]
    },
    {
     "name": "stdout",
     "output_type": "stream",
     "text": [
      "\r",
      "Epoch 55/500:  11%|█         | 55/500 [00:24<03:10,  2.34it/s, v_num=1, train_loss_step=1.29e+7, train_loss_epoch=2.09e+8]"
     ]
    },
    {
     "name": "stdout",
     "output_type": "stream",
     "text": [
      "\r",
      "Epoch 55/500:  11%|█         | 55/500 [00:24<03:10,  2.34it/s, v_num=1, train_loss_step=1.28e+7, train_loss_epoch=2.09e+8]"
     ]
    },
    {
     "name": "stdout",
     "output_type": "stream",
     "text": [
      "\r",
      "Epoch 56/500:  11%|█         | 55/500 [00:24<03:10,  2.34it/s, v_num=1, train_loss_step=1.28e+7, train_loss_epoch=2.09e+8]"
     ]
    },
    {
     "name": "stdout",
     "output_type": "stream",
     "text": [
      "\r",
      "Epoch 56/500:  11%|█         | 56/500 [00:24<03:09,  2.34it/s, v_num=1, train_loss_step=1.28e+7, train_loss_epoch=2.09e+8]"
     ]
    },
    {
     "name": "stdout",
     "output_type": "stream",
     "text": [
      "\r",
      "Epoch 56/500:  11%|█         | 56/500 [00:24<03:09,  2.34it/s, v_num=1, train_loss_step=1.3e+7, train_loss_epoch=2.09e+8] "
     ]
    },
    {
     "name": "stdout",
     "output_type": "stream",
     "text": [
      "\r",
      "Epoch 57/500:  11%|█         | 56/500 [00:24<03:09,  2.34it/s, v_num=1, train_loss_step=1.3e+7, train_loss_epoch=2.09e+8]"
     ]
    },
    {
     "name": "stdout",
     "output_type": "stream",
     "text": [
      "\r",
      "Epoch 57/500:  11%|█▏        | 57/500 [00:24<03:09,  2.34it/s, v_num=1, train_loss_step=1.3e+7, train_loss_epoch=2.09e+8]"
     ]
    },
    {
     "name": "stdout",
     "output_type": "stream",
     "text": [
      "\r",
      "Epoch 57/500:  11%|█▏        | 57/500 [00:24<03:09,  2.34it/s, v_num=1, train_loss_step=1.22e+7, train_loss_epoch=2.09e+8]"
     ]
    },
    {
     "name": "stdout",
     "output_type": "stream",
     "text": [
      "\r",
      "Epoch 58/500:  11%|█▏        | 57/500 [00:24<03:09,  2.34it/s, v_num=1, train_loss_step=1.22e+7, train_loss_epoch=2.09e+8]"
     ]
    },
    {
     "name": "stdout",
     "output_type": "stream",
     "text": [
      "\r",
      "Epoch 58/500:  12%|█▏        | 58/500 [00:25<03:08,  2.34it/s, v_num=1, train_loss_step=1.22e+7, train_loss_epoch=2.09e+8]"
     ]
    },
    {
     "name": "stdout",
     "output_type": "stream",
     "text": [
      "\r",
      "Epoch 58/500:  12%|█▏        | 58/500 [00:25<03:08,  2.34it/s, v_num=1, train_loss_step=1.22e+7, train_loss_epoch=2.09e+8]"
     ]
    },
    {
     "name": "stdout",
     "output_type": "stream",
     "text": [
      "\r",
      "Epoch 59/500:  12%|█▏        | 58/500 [00:25<03:08,  2.34it/s, v_num=1, train_loss_step=1.22e+7, train_loss_epoch=2.09e+8]"
     ]
    },
    {
     "name": "stdout",
     "output_type": "stream",
     "text": [
      "\r",
      "Epoch 59/500:  12%|█▏        | 59/500 [00:25<03:08,  2.34it/s, v_num=1, train_loss_step=1.22e+7, train_loss_epoch=2.09e+8]"
     ]
    },
    {
     "name": "stdout",
     "output_type": "stream",
     "text": [
      "\r",
      "Epoch 59/500:  12%|█▏        | 59/500 [00:25<03:08,  2.34it/s, v_num=1, train_loss_step=1.27e+7, train_loss_epoch=2.08e+8]"
     ]
    },
    {
     "name": "stdout",
     "output_type": "stream",
     "text": [
      "\r",
      "Epoch 60/500:  12%|█▏        | 59/500 [00:25<03:08,  2.34it/s, v_num=1, train_loss_step=1.27e+7, train_loss_epoch=2.08e+8]"
     ]
    },
    {
     "name": "stdout",
     "output_type": "stream",
     "text": [
      "\r",
      "Epoch 60/500:  12%|█▏        | 60/500 [00:26<03:08,  2.34it/s, v_num=1, train_loss_step=1.27e+7, train_loss_epoch=2.08e+8]"
     ]
    },
    {
     "name": "stdout",
     "output_type": "stream",
     "text": [
      "\r",
      "Epoch 60/500:  12%|█▏        | 60/500 [00:26<03:08,  2.34it/s, v_num=1, train_loss_step=1.23e+7, train_loss_epoch=2.08e+8]"
     ]
    },
    {
     "name": "stdout",
     "output_type": "stream",
     "text": [
      "\r",
      "Epoch 61/500:  12%|█▏        | 60/500 [00:26<03:08,  2.34it/s, v_num=1, train_loss_step=1.23e+7, train_loss_epoch=2.08e+8]"
     ]
    },
    {
     "name": "stdout",
     "output_type": "stream",
     "text": [
      "\r",
      "Epoch 61/500:  12%|█▏        | 61/500 [00:26<03:07,  2.34it/s, v_num=1, train_loss_step=1.23e+7, train_loss_epoch=2.08e+8]"
     ]
    },
    {
     "name": "stdout",
     "output_type": "stream",
     "text": [
      "\r",
      "Epoch 61/500:  12%|█▏        | 61/500 [00:26<03:07,  2.34it/s, v_num=1, train_loss_step=1.23e+7, train_loss_epoch=2.08e+8]"
     ]
    },
    {
     "name": "stdout",
     "output_type": "stream",
     "text": [
      "\r",
      "Epoch 62/500:  12%|█▏        | 61/500 [00:26<03:07,  2.34it/s, v_num=1, train_loss_step=1.23e+7, train_loss_epoch=2.08e+8]"
     ]
    },
    {
     "name": "stdout",
     "output_type": "stream",
     "text": [
      "\r",
      "Epoch 62/500:  12%|█▏        | 62/500 [00:27<03:07,  2.34it/s, v_num=1, train_loss_step=1.23e+7, train_loss_epoch=2.08e+8]"
     ]
    },
    {
     "name": "stdout",
     "output_type": "stream",
     "text": [
      "\r",
      "Epoch 62/500:  12%|█▏        | 62/500 [00:27<03:07,  2.34it/s, v_num=1, train_loss_step=1.24e+7, train_loss_epoch=2.08e+8]"
     ]
    },
    {
     "name": "stdout",
     "output_type": "stream",
     "text": [
      "\r",
      "Epoch 63/500:  12%|█▏        | 62/500 [00:27<03:07,  2.34it/s, v_num=1, train_loss_step=1.24e+7, train_loss_epoch=2.08e+8]"
     ]
    },
    {
     "name": "stdout",
     "output_type": "stream",
     "text": [
      "\r",
      "Epoch 63/500:  13%|█▎        | 63/500 [00:27<03:06,  2.34it/s, v_num=1, train_loss_step=1.24e+7, train_loss_epoch=2.08e+8]"
     ]
    },
    {
     "name": "stdout",
     "output_type": "stream",
     "text": [
      "\r",
      "Epoch 63/500:  13%|█▎        | 63/500 [00:27<03:06,  2.34it/s, v_num=1, train_loss_step=1.18e+7, train_loss_epoch=2.08e+8]"
     ]
    },
    {
     "name": "stdout",
     "output_type": "stream",
     "text": [
      "\r",
      "Epoch 64/500:  13%|█▎        | 63/500 [00:27<03:06,  2.34it/s, v_num=1, train_loss_step=1.18e+7, train_loss_epoch=2.08e+8]"
     ]
    },
    {
     "name": "stdout",
     "output_type": "stream",
     "text": [
      "\r",
      "Epoch 64/500:  13%|█▎        | 64/500 [00:27<03:06,  2.34it/s, v_num=1, train_loss_step=1.18e+7, train_loss_epoch=2.08e+8]"
     ]
    },
    {
     "name": "stdout",
     "output_type": "stream",
     "text": [
      "\r",
      "Epoch 64/500:  13%|█▎        | 64/500 [00:27<03:06,  2.34it/s, v_num=1, train_loss_step=1.24e+7, train_loss_epoch=2.08e+8]"
     ]
    },
    {
     "name": "stdout",
     "output_type": "stream",
     "text": [
      "\r",
      "Epoch 65/500:  13%|█▎        | 64/500 [00:27<03:06,  2.34it/s, v_num=1, train_loss_step=1.24e+7, train_loss_epoch=2.08e+8]"
     ]
    },
    {
     "name": "stdout",
     "output_type": "stream",
     "text": [
      "\r",
      "Epoch 65/500:  13%|█▎        | 65/500 [00:28<03:05,  2.34it/s, v_num=1, train_loss_step=1.24e+7, train_loss_epoch=2.08e+8]"
     ]
    },
    {
     "name": "stdout",
     "output_type": "stream",
     "text": [
      "\r",
      "Epoch 65/500:  13%|█▎        | 65/500 [00:28<03:05,  2.34it/s, v_num=1, train_loss_step=1.27e+7, train_loss_epoch=2.08e+8]"
     ]
    },
    {
     "name": "stdout",
     "output_type": "stream",
     "text": [
      "\r",
      "Epoch 66/500:  13%|█▎        | 65/500 [00:28<03:05,  2.34it/s, v_num=1, train_loss_step=1.27e+7, train_loss_epoch=2.08e+8]"
     ]
    },
    {
     "name": "stdout",
     "output_type": "stream",
     "text": [
      "\r",
      "Epoch 66/500:  13%|█▎        | 66/500 [00:28<03:05,  2.34it/s, v_num=1, train_loss_step=1.27e+7, train_loss_epoch=2.08e+8]"
     ]
    },
    {
     "name": "stdout",
     "output_type": "stream",
     "text": [
      "\r",
      "Epoch 66/500:  13%|█▎        | 66/500 [00:28<03:05,  2.34it/s, v_num=1, train_loss_step=1.23e+7, train_loss_epoch=2.08e+8]"
     ]
    },
    {
     "name": "stdout",
     "output_type": "stream",
     "text": [
      "\r",
      "Epoch 67/500:  13%|█▎        | 66/500 [00:28<03:05,  2.34it/s, v_num=1, train_loss_step=1.23e+7, train_loss_epoch=2.08e+8]"
     ]
    },
    {
     "name": "stdout",
     "output_type": "stream",
     "text": [
      "\r",
      "Epoch 67/500:  13%|█▎        | 67/500 [00:29<03:05,  2.34it/s, v_num=1, train_loss_step=1.23e+7, train_loss_epoch=2.08e+8]"
     ]
    },
    {
     "name": "stdout",
     "output_type": "stream",
     "text": [
      "\r",
      "Epoch 67/500:  13%|█▎        | 67/500 [00:29<03:05,  2.34it/s, v_num=1, train_loss_step=1.06e+7, train_loss_epoch=2.08e+8]"
     ]
    },
    {
     "name": "stdout",
     "output_type": "stream",
     "text": [
      "\r",
      "Epoch 68/500:  13%|█▎        | 67/500 [00:29<03:05,  2.34it/s, v_num=1, train_loss_step=1.06e+7, train_loss_epoch=2.08e+8]"
     ]
    },
    {
     "name": "stdout",
     "output_type": "stream",
     "text": [
      "\r",
      "Epoch 68/500:  14%|█▎        | 68/500 [00:29<03:04,  2.34it/s, v_num=1, train_loss_step=1.06e+7, train_loss_epoch=2.08e+8]"
     ]
    },
    {
     "name": "stdout",
     "output_type": "stream",
     "text": [
      "\r",
      "Epoch 68/500:  14%|█▎        | 68/500 [00:29<03:04,  2.34it/s, v_num=1, train_loss_step=1.25e+7, train_loss_epoch=2.08e+8]"
     ]
    },
    {
     "name": "stdout",
     "output_type": "stream",
     "text": [
      "\r",
      "Epoch 69/500:  14%|█▎        | 68/500 [00:29<03:04,  2.34it/s, v_num=1, train_loss_step=1.25e+7, train_loss_epoch=2.08e+8]"
     ]
    },
    {
     "name": "stdout",
     "output_type": "stream",
     "text": [
      "\r",
      "Epoch 69/500:  14%|█▍        | 69/500 [00:30<03:04,  2.34it/s, v_num=1, train_loss_step=1.25e+7, train_loss_epoch=2.08e+8]"
     ]
    },
    {
     "name": "stdout",
     "output_type": "stream",
     "text": [
      "\r",
      "Epoch 69/500:  14%|█▍        | 69/500 [00:30<03:04,  2.34it/s, v_num=1, train_loss_step=1.21e+7, train_loss_epoch=2.08e+8]"
     ]
    },
    {
     "name": "stdout",
     "output_type": "stream",
     "text": [
      "\r",
      "Epoch 70/500:  14%|█▍        | 69/500 [00:30<03:04,  2.34it/s, v_num=1, train_loss_step=1.21e+7, train_loss_epoch=2.08e+8]"
     ]
    },
    {
     "name": "stdout",
     "output_type": "stream",
     "text": [
      "\r",
      "Epoch 70/500:  14%|█▍        | 70/500 [00:30<03:04,  2.34it/s, v_num=1, train_loss_step=1.21e+7, train_loss_epoch=2.08e+8]"
     ]
    },
    {
     "name": "stdout",
     "output_type": "stream",
     "text": [
      "\r",
      "Epoch 70/500:  14%|█▍        | 70/500 [00:30<03:04,  2.34it/s, v_num=1, train_loss_step=1.26e+7, train_loss_epoch=2.08e+8]"
     ]
    },
    {
     "name": "stdout",
     "output_type": "stream",
     "text": [
      "\r",
      "Epoch 71/500:  14%|█▍        | 70/500 [00:30<03:04,  2.34it/s, v_num=1, train_loss_step=1.26e+7, train_loss_epoch=2.08e+8]"
     ]
    },
    {
     "name": "stdout",
     "output_type": "stream",
     "text": [
      "\r",
      "Epoch 71/500:  14%|█▍        | 71/500 [00:30<03:03,  2.34it/s, v_num=1, train_loss_step=1.26e+7, train_loss_epoch=2.08e+8]"
     ]
    },
    {
     "name": "stdout",
     "output_type": "stream",
     "text": [
      "\r",
      "Epoch 71/500:  14%|█▍        | 71/500 [00:30<03:03,  2.34it/s, v_num=1, train_loss_step=1.29e+7, train_loss_epoch=2.08e+8]"
     ]
    },
    {
     "name": "stdout",
     "output_type": "stream",
     "text": [
      "\r",
      "Epoch 72/500:  14%|█▍        | 71/500 [00:30<03:03,  2.34it/s, v_num=1, train_loss_step=1.29e+7, train_loss_epoch=2.08e+8]"
     ]
    },
    {
     "name": "stdout",
     "output_type": "stream",
     "text": [
      "\r",
      "Epoch 72/500:  14%|█▍        | 72/500 [00:31<03:03,  2.34it/s, v_num=1, train_loss_step=1.29e+7, train_loss_epoch=2.08e+8]"
     ]
    },
    {
     "name": "stdout",
     "output_type": "stream",
     "text": [
      "\r",
      "Epoch 72/500:  14%|█▍        | 72/500 [00:31<03:03,  2.34it/s, v_num=1, train_loss_step=1.27e+7, train_loss_epoch=2.08e+8]"
     ]
    },
    {
     "name": "stdout",
     "output_type": "stream",
     "text": [
      "\r",
      "Epoch 73/500:  14%|█▍        | 72/500 [00:31<03:03,  2.34it/s, v_num=1, train_loss_step=1.27e+7, train_loss_epoch=2.08e+8]"
     ]
    },
    {
     "name": "stdout",
     "output_type": "stream",
     "text": [
      "\r",
      "Epoch 73/500:  15%|█▍        | 73/500 [00:31<03:02,  2.34it/s, v_num=1, train_loss_step=1.27e+7, train_loss_epoch=2.08e+8]"
     ]
    },
    {
     "name": "stdout",
     "output_type": "stream",
     "text": [
      "\r",
      "Epoch 73/500:  15%|█▍        | 73/500 [00:31<03:02,  2.34it/s, v_num=1, train_loss_step=1.3e+7, train_loss_epoch=2.08e+8] "
     ]
    },
    {
     "name": "stdout",
     "output_type": "stream",
     "text": [
      "\r",
      "Epoch 74/500:  15%|█▍        | 73/500 [00:31<03:02,  2.34it/s, v_num=1, train_loss_step=1.3e+7, train_loss_epoch=2.08e+8]"
     ]
    },
    {
     "name": "stdout",
     "output_type": "stream",
     "text": [
      "\r",
      "Epoch 74/500:  15%|█▍        | 74/500 [00:32<03:02,  2.34it/s, v_num=1, train_loss_step=1.3e+7, train_loss_epoch=2.08e+8]"
     ]
    },
    {
     "name": "stdout",
     "output_type": "stream",
     "text": [
      "\r",
      "Epoch 74/500:  15%|█▍        | 74/500 [00:32<03:02,  2.34it/s, v_num=1, train_loss_step=1.24e+7, train_loss_epoch=2.08e+8]"
     ]
    },
    {
     "name": "stdout",
     "output_type": "stream",
     "text": [
      "\r",
      "Epoch 75/500:  15%|█▍        | 74/500 [00:32<03:02,  2.34it/s, v_num=1, train_loss_step=1.24e+7, train_loss_epoch=2.08e+8]"
     ]
    },
    {
     "name": "stdout",
     "output_type": "stream",
     "text": [
      "\r",
      "Epoch 75/500:  15%|█▌        | 75/500 [00:32<03:01,  2.34it/s, v_num=1, train_loss_step=1.24e+7, train_loss_epoch=2.08e+8]"
     ]
    },
    {
     "name": "stdout",
     "output_type": "stream",
     "text": [
      "\r",
      "Epoch 75/500:  15%|█▌        | 75/500 [00:32<03:01,  2.34it/s, v_num=1, train_loss_step=1.3e+7, train_loss_epoch=2.07e+8] "
     ]
    },
    {
     "name": "stdout",
     "output_type": "stream",
     "text": [
      "\r",
      "Epoch 76/500:  15%|█▌        | 75/500 [00:32<03:01,  2.34it/s, v_num=1, train_loss_step=1.3e+7, train_loss_epoch=2.07e+8]"
     ]
    },
    {
     "name": "stdout",
     "output_type": "stream",
     "text": [
      "\r",
      "Epoch 76/500:  15%|█▌        | 76/500 [00:33<03:01,  2.34it/s, v_num=1, train_loss_step=1.3e+7, train_loss_epoch=2.07e+8]"
     ]
    },
    {
     "name": "stdout",
     "output_type": "stream",
     "text": [
      "\r",
      "Epoch 76/500:  15%|█▌        | 76/500 [00:33<03:01,  2.34it/s, v_num=1, train_loss_step=1.23e+7, train_loss_epoch=2.08e+8]"
     ]
    },
    {
     "name": "stdout",
     "output_type": "stream",
     "text": [
      "\r",
      "Epoch 77/500:  15%|█▌        | 76/500 [00:33<03:01,  2.34it/s, v_num=1, train_loss_step=1.23e+7, train_loss_epoch=2.08e+8]"
     ]
    },
    {
     "name": "stdout",
     "output_type": "stream",
     "text": [
      "\r",
      "Epoch 77/500:  15%|█▌        | 77/500 [00:33<03:00,  2.34it/s, v_num=1, train_loss_step=1.23e+7, train_loss_epoch=2.08e+8]"
     ]
    },
    {
     "name": "stdout",
     "output_type": "stream",
     "text": [
      "\r",
      "Epoch 77/500:  15%|█▌        | 77/500 [00:33<03:00,  2.34it/s, v_num=1, train_loss_step=1.34e+7, train_loss_epoch=2.07e+8]"
     ]
    },
    {
     "name": "stdout",
     "output_type": "stream",
     "text": [
      "\r",
      "Epoch 78/500:  15%|█▌        | 77/500 [00:33<03:00,  2.34it/s, v_num=1, train_loss_step=1.34e+7, train_loss_epoch=2.07e+8]"
     ]
    },
    {
     "name": "stdout",
     "output_type": "stream",
     "text": [
      "\r",
      "Epoch 78/500:  16%|█▌        | 78/500 [00:33<03:00,  2.34it/s, v_num=1, train_loss_step=1.34e+7, train_loss_epoch=2.07e+8]"
     ]
    },
    {
     "name": "stdout",
     "output_type": "stream",
     "text": [
      "\r",
      "Epoch 78/500:  16%|█▌        | 78/500 [00:33<03:00,  2.34it/s, v_num=1, train_loss_step=1.17e+7, train_loss_epoch=2.07e+8]"
     ]
    },
    {
     "name": "stdout",
     "output_type": "stream",
     "text": [
      "\r",
      "Epoch 79/500:  16%|█▌        | 78/500 [00:33<03:00,  2.34it/s, v_num=1, train_loss_step=1.17e+7, train_loss_epoch=2.07e+8]"
     ]
    },
    {
     "name": "stdout",
     "output_type": "stream",
     "text": [
      "\r",
      "Epoch 79/500:  16%|█▌        | 79/500 [00:34<02:59,  2.34it/s, v_num=1, train_loss_step=1.17e+7, train_loss_epoch=2.07e+8]"
     ]
    },
    {
     "name": "stdout",
     "output_type": "stream",
     "text": [
      "\r",
      "Epoch 79/500:  16%|█▌        | 79/500 [00:34<02:59,  2.34it/s, v_num=1, train_loss_step=1.24e+7, train_loss_epoch=2.07e+8]"
     ]
    },
    {
     "name": "stdout",
     "output_type": "stream",
     "text": [
      "\r",
      "Epoch 80/500:  16%|█▌        | 79/500 [00:34<02:59,  2.34it/s, v_num=1, train_loss_step=1.24e+7, train_loss_epoch=2.07e+8]"
     ]
    },
    {
     "name": "stdout",
     "output_type": "stream",
     "text": [
      "\r",
      "Epoch 80/500:  16%|█▌        | 80/500 [00:34<02:59,  2.34it/s, v_num=1, train_loss_step=1.24e+7, train_loss_epoch=2.07e+8]"
     ]
    },
    {
     "name": "stdout",
     "output_type": "stream",
     "text": [
      "\r",
      "Epoch 80/500:  16%|█▌        | 80/500 [00:34<02:59,  2.34it/s, v_num=1, train_loss_step=1.22e+7, train_loss_epoch=2.07e+8]"
     ]
    },
    {
     "name": "stdout",
     "output_type": "stream",
     "text": [
      "\r",
      "Epoch 81/500:  16%|█▌        | 80/500 [00:34<02:59,  2.34it/s, v_num=1, train_loss_step=1.22e+7, train_loss_epoch=2.07e+8]"
     ]
    },
    {
     "name": "stdout",
     "output_type": "stream",
     "text": [
      "\r",
      "Epoch 81/500:  16%|█▌        | 81/500 [00:35<02:59,  2.34it/s, v_num=1, train_loss_step=1.22e+7, train_loss_epoch=2.07e+8]"
     ]
    },
    {
     "name": "stdout",
     "output_type": "stream",
     "text": [
      "\r",
      "Epoch 81/500:  16%|█▌        | 81/500 [00:35<02:59,  2.34it/s, v_num=1, train_loss_step=1.28e+7, train_loss_epoch=2.07e+8]"
     ]
    },
    {
     "name": "stdout",
     "output_type": "stream",
     "text": [
      "\r",
      "Epoch 82/500:  16%|█▌        | 81/500 [00:35<02:59,  2.34it/s, v_num=1, train_loss_step=1.28e+7, train_loss_epoch=2.07e+8]"
     ]
    },
    {
     "name": "stdout",
     "output_type": "stream",
     "text": [
      "\r",
      "Epoch 82/500:  16%|█▋        | 82/500 [00:35<02:58,  2.34it/s, v_num=1, train_loss_step=1.28e+7, train_loss_epoch=2.07e+8]"
     ]
    },
    {
     "name": "stdout",
     "output_type": "stream",
     "text": [
      "\r",
      "Epoch 82/500:  16%|█▋        | 82/500 [00:35<02:58,  2.34it/s, v_num=1, train_loss_step=1.26e+7, train_loss_epoch=2.07e+8]"
     ]
    },
    {
     "name": "stdout",
     "output_type": "stream",
     "text": [
      "\r",
      "Epoch 83/500:  16%|█▋        | 82/500 [00:35<02:58,  2.34it/s, v_num=1, train_loss_step=1.26e+7, train_loss_epoch=2.07e+8]"
     ]
    },
    {
     "name": "stdout",
     "output_type": "stream",
     "text": [
      "\r",
      "Epoch 83/500:  17%|█▋        | 83/500 [00:36<02:58,  2.34it/s, v_num=1, train_loss_step=1.26e+7, train_loss_epoch=2.07e+8]"
     ]
    },
    {
     "name": "stdout",
     "output_type": "stream",
     "text": [
      "\r",
      "Epoch 83/500:  17%|█▋        | 83/500 [00:36<02:58,  2.34it/s, v_num=1, train_loss_step=1.2e+7, train_loss_epoch=2.07e+8] "
     ]
    },
    {
     "name": "stdout",
     "output_type": "stream",
     "text": [
      "\r",
      "Epoch 84/500:  17%|█▋        | 83/500 [00:36<02:58,  2.34it/s, v_num=1, train_loss_step=1.2e+7, train_loss_epoch=2.07e+8]"
     ]
    },
    {
     "name": "stdout",
     "output_type": "stream",
     "text": [
      "\r",
      "Epoch 84/500:  17%|█▋        | 84/500 [00:36<02:57,  2.34it/s, v_num=1, train_loss_step=1.2e+7, train_loss_epoch=2.07e+8]"
     ]
    },
    {
     "name": "stdout",
     "output_type": "stream",
     "text": [
      "\r",
      "Epoch 84/500:  17%|█▋        | 84/500 [00:36<02:57,  2.34it/s, v_num=1, train_loss_step=1.21e+7, train_loss_epoch=2.07e+8]"
     ]
    },
    {
     "name": "stdout",
     "output_type": "stream",
     "text": [
      "\r",
      "Epoch 85/500:  17%|█▋        | 84/500 [00:36<02:57,  2.34it/s, v_num=1, train_loss_step=1.21e+7, train_loss_epoch=2.07e+8]"
     ]
    },
    {
     "name": "stdout",
     "output_type": "stream",
     "text": [
      "\r",
      "Epoch 85/500:  17%|█▋        | 85/500 [00:36<02:57,  2.34it/s, v_num=1, train_loss_step=1.21e+7, train_loss_epoch=2.07e+8]"
     ]
    },
    {
     "name": "stdout",
     "output_type": "stream",
     "text": [
      "\r",
      "Epoch 85/500:  17%|█▋        | 85/500 [00:36<02:57,  2.34it/s, v_num=1, train_loss_step=1.17e+7, train_loss_epoch=2.07e+8]"
     ]
    },
    {
     "name": "stdout",
     "output_type": "stream",
     "text": [
      "\r",
      "Epoch 86/500:  17%|█▋        | 85/500 [00:36<02:57,  2.34it/s, v_num=1, train_loss_step=1.17e+7, train_loss_epoch=2.07e+8]"
     ]
    },
    {
     "name": "stdout",
     "output_type": "stream",
     "text": [
      "\r",
      "Epoch 86/500:  17%|█▋        | 86/500 [00:37<02:56,  2.34it/s, v_num=1, train_loss_step=1.17e+7, train_loss_epoch=2.07e+8]"
     ]
    },
    {
     "name": "stdout",
     "output_type": "stream",
     "text": [
      "\r",
      "Epoch 86/500:  17%|█▋        | 86/500 [00:37<02:56,  2.34it/s, v_num=1, train_loss_step=1.22e+7, train_loss_epoch=2.07e+8]"
     ]
    },
    {
     "name": "stdout",
     "output_type": "stream",
     "text": [
      "\r",
      "Epoch 87/500:  17%|█▋        | 86/500 [00:37<02:56,  2.34it/s, v_num=1, train_loss_step=1.22e+7, train_loss_epoch=2.07e+8]"
     ]
    },
    {
     "name": "stdout",
     "output_type": "stream",
     "text": [
      "\r",
      "Epoch 87/500:  17%|█▋        | 87/500 [00:37<02:56,  2.34it/s, v_num=1, train_loss_step=1.22e+7, train_loss_epoch=2.07e+8]"
     ]
    },
    {
     "name": "stdout",
     "output_type": "stream",
     "text": [
      "\r",
      "Epoch 87/500:  17%|█▋        | 87/500 [00:37<02:56,  2.34it/s, v_num=1, train_loss_step=1.15e+7, train_loss_epoch=2.07e+8]"
     ]
    },
    {
     "name": "stdout",
     "output_type": "stream",
     "text": [
      "\r",
      "Epoch 88/500:  17%|█▋        | 87/500 [00:37<02:56,  2.34it/s, v_num=1, train_loss_step=1.15e+7, train_loss_epoch=2.07e+8]"
     ]
    },
    {
     "name": "stdout",
     "output_type": "stream",
     "text": [
      "\r",
      "Epoch 88/500:  18%|█▊        | 88/500 [00:38<02:55,  2.34it/s, v_num=1, train_loss_step=1.15e+7, train_loss_epoch=2.07e+8]"
     ]
    },
    {
     "name": "stdout",
     "output_type": "stream",
     "text": [
      "\r",
      "Epoch 88/500:  18%|█▊        | 88/500 [00:38<02:55,  2.34it/s, v_num=1, train_loss_step=1.21e+7, train_loss_epoch=2.07e+8]"
     ]
    },
    {
     "name": "stdout",
     "output_type": "stream",
     "text": [
      "\r",
      "Epoch 89/500:  18%|█▊        | 88/500 [00:38<02:55,  2.34it/s, v_num=1, train_loss_step=1.21e+7, train_loss_epoch=2.07e+8]"
     ]
    },
    {
     "name": "stdout",
     "output_type": "stream",
     "text": [
      "\r",
      "Epoch 89/500:  18%|█▊        | 89/500 [00:38<02:55,  2.34it/s, v_num=1, train_loss_step=1.21e+7, train_loss_epoch=2.07e+8]"
     ]
    },
    {
     "name": "stdout",
     "output_type": "stream",
     "text": [
      "\r",
      "Epoch 89/500:  18%|█▊        | 89/500 [00:38<02:55,  2.34it/s, v_num=1, train_loss_step=1.21e+7, train_loss_epoch=2.07e+8]"
     ]
    },
    {
     "name": "stdout",
     "output_type": "stream",
     "text": [
      "\r",
      "Epoch 90/500:  18%|█▊        | 89/500 [00:38<02:55,  2.34it/s, v_num=1, train_loss_step=1.21e+7, train_loss_epoch=2.07e+8]"
     ]
    },
    {
     "name": "stdout",
     "output_type": "stream",
     "text": [
      "\r",
      "Epoch 90/500:  18%|█▊        | 90/500 [00:39<02:55,  2.34it/s, v_num=1, train_loss_step=1.21e+7, train_loss_epoch=2.07e+8]"
     ]
    },
    {
     "name": "stdout",
     "output_type": "stream",
     "text": [
      "\r",
      "Epoch 90/500:  18%|█▊        | 90/500 [00:39<02:55,  2.34it/s, v_num=1, train_loss_step=1.19e+7, train_loss_epoch=2.07e+8]"
     ]
    },
    {
     "name": "stdout",
     "output_type": "stream",
     "text": [
      "\r",
      "Epoch 91/500:  18%|█▊        | 90/500 [00:39<02:55,  2.34it/s, v_num=1, train_loss_step=1.19e+7, train_loss_epoch=2.07e+8]"
     ]
    },
    {
     "name": "stdout",
     "output_type": "stream",
     "text": [
      "\r",
      "Epoch 91/500:  18%|█▊        | 91/500 [00:39<02:54,  2.34it/s, v_num=1, train_loss_step=1.19e+7, train_loss_epoch=2.07e+8]"
     ]
    },
    {
     "name": "stdout",
     "output_type": "stream",
     "text": [
      "\r",
      "Epoch 91/500:  18%|█▊        | 91/500 [00:39<02:54,  2.34it/s, v_num=1, train_loss_step=1.21e+7, train_loss_epoch=2.07e+8]"
     ]
    },
    {
     "name": "stdout",
     "output_type": "stream",
     "text": [
      "\r",
      "Epoch 92/500:  18%|█▊        | 91/500 [00:39<02:54,  2.34it/s, v_num=1, train_loss_step=1.21e+7, train_loss_epoch=2.07e+8]"
     ]
    },
    {
     "name": "stdout",
     "output_type": "stream",
     "text": [
      "\r",
      "Epoch 92/500:  18%|█▊        | 92/500 [00:39<02:54,  2.34it/s, v_num=1, train_loss_step=1.21e+7, train_loss_epoch=2.07e+8]"
     ]
    },
    {
     "name": "stdout",
     "output_type": "stream",
     "text": [
      "\r",
      "Epoch 92/500:  18%|█▊        | 92/500 [00:39<02:54,  2.34it/s, v_num=1, train_loss_step=1.23e+7, train_loss_epoch=2.07e+8]"
     ]
    },
    {
     "name": "stdout",
     "output_type": "stream",
     "text": [
      "\r",
      "Epoch 93/500:  18%|█▊        | 92/500 [00:39<02:54,  2.34it/s, v_num=1, train_loss_step=1.23e+7, train_loss_epoch=2.07e+8]"
     ]
    },
    {
     "name": "stdout",
     "output_type": "stream",
     "text": [
      "\r",
      "Epoch 93/500:  19%|█▊        | 93/500 [00:40<02:53,  2.34it/s, v_num=1, train_loss_step=1.23e+7, train_loss_epoch=2.07e+8]"
     ]
    },
    {
     "name": "stdout",
     "output_type": "stream",
     "text": [
      "\r",
      "Epoch 93/500:  19%|█▊        | 93/500 [00:40<02:53,  2.34it/s, v_num=1, train_loss_step=1.19e+7, train_loss_epoch=2.07e+8]"
     ]
    },
    {
     "name": "stdout",
     "output_type": "stream",
     "text": [
      "\r",
      "Epoch 94/500:  19%|█▊        | 93/500 [00:40<02:53,  2.34it/s, v_num=1, train_loss_step=1.19e+7, train_loss_epoch=2.07e+8]"
     ]
    },
    {
     "name": "stdout",
     "output_type": "stream",
     "text": [
      "\r",
      "Epoch 94/500:  19%|█▉        | 94/500 [00:40<02:53,  2.34it/s, v_num=1, train_loss_step=1.19e+7, train_loss_epoch=2.07e+8]"
     ]
    },
    {
     "name": "stdout",
     "output_type": "stream",
     "text": [
      "\r",
      "Epoch 94/500:  19%|█▉        | 94/500 [00:40<02:53,  2.34it/s, v_num=1, train_loss_step=1.18e+7, train_loss_epoch=2.07e+8]"
     ]
    },
    {
     "name": "stdout",
     "output_type": "stream",
     "text": [
      "\r",
      "Epoch 95/500:  19%|█▉        | 94/500 [00:40<02:53,  2.34it/s, v_num=1, train_loss_step=1.18e+7, train_loss_epoch=2.07e+8]"
     ]
    },
    {
     "name": "stdout",
     "output_type": "stream",
     "text": [
      "\r",
      "Epoch 95/500:  19%|█▉        | 95/500 [00:41<02:52,  2.34it/s, v_num=1, train_loss_step=1.18e+7, train_loss_epoch=2.07e+8]"
     ]
    },
    {
     "name": "stdout",
     "output_type": "stream",
     "text": [
      "\r",
      "Epoch 95/500:  19%|█▉        | 95/500 [00:41<02:52,  2.34it/s, v_num=1, train_loss_step=1.21e+7, train_loss_epoch=2.07e+8]"
     ]
    },
    {
     "name": "stdout",
     "output_type": "stream",
     "text": [
      "\r",
      "Epoch 96/500:  19%|█▉        | 95/500 [00:41<02:52,  2.34it/s, v_num=1, train_loss_step=1.21e+7, train_loss_epoch=2.07e+8]"
     ]
    },
    {
     "name": "stdout",
     "output_type": "stream",
     "text": [
      "\r",
      "Epoch 96/500:  19%|█▉        | 96/500 [00:41<02:52,  2.34it/s, v_num=1, train_loss_step=1.21e+7, train_loss_epoch=2.07e+8]"
     ]
    },
    {
     "name": "stdout",
     "output_type": "stream",
     "text": [
      "\r",
      "Epoch 96/500:  19%|█▉        | 96/500 [00:41<02:52,  2.34it/s, v_num=1, train_loss_step=1.27e+7, train_loss_epoch=2.07e+8]"
     ]
    },
    {
     "name": "stdout",
     "output_type": "stream",
     "text": [
      "\r",
      "Epoch 97/500:  19%|█▉        | 96/500 [00:41<02:52,  2.34it/s, v_num=1, train_loss_step=1.27e+7, train_loss_epoch=2.07e+8]"
     ]
    },
    {
     "name": "stdout",
     "output_type": "stream",
     "text": [
      "\r",
      "Epoch 97/500:  19%|█▉        | 97/500 [00:42<02:51,  2.34it/s, v_num=1, train_loss_step=1.27e+7, train_loss_epoch=2.07e+8]"
     ]
    },
    {
     "name": "stdout",
     "output_type": "stream",
     "text": [
      "\r",
      "Epoch 97/500:  19%|█▉        | 97/500 [00:42<02:51,  2.34it/s, v_num=1, train_loss_step=1.25e+7, train_loss_epoch=2.07e+8]"
     ]
    },
    {
     "name": "stdout",
     "output_type": "stream",
     "text": [
      "\r",
      "Epoch 98/500:  19%|█▉        | 97/500 [00:42<02:51,  2.34it/s, v_num=1, train_loss_step=1.25e+7, train_loss_epoch=2.07e+8]"
     ]
    },
    {
     "name": "stdout",
     "output_type": "stream",
     "text": [
      "\r",
      "Epoch 98/500:  20%|█▉        | 98/500 [00:42<02:51,  2.34it/s, v_num=1, train_loss_step=1.25e+7, train_loss_epoch=2.07e+8]"
     ]
    },
    {
     "name": "stdout",
     "output_type": "stream",
     "text": [
      "\r",
      "Epoch 98/500:  20%|█▉        | 98/500 [00:42<02:51,  2.34it/s, v_num=1, train_loss_step=1.12e+7, train_loss_epoch=2.07e+8]"
     ]
    },
    {
     "name": "stdout",
     "output_type": "stream",
     "text": [
      "\r",
      "Epoch 99/500:  20%|█▉        | 98/500 [00:42<02:51,  2.34it/s, v_num=1, train_loss_step=1.12e+7, train_loss_epoch=2.07e+8]"
     ]
    },
    {
     "name": "stdout",
     "output_type": "stream",
     "text": [
      "\r",
      "Epoch 99/500:  20%|█▉        | 99/500 [00:42<02:51,  2.34it/s, v_num=1, train_loss_step=1.12e+7, train_loss_epoch=2.07e+8]"
     ]
    },
    {
     "name": "stdout",
     "output_type": "stream",
     "text": [
      "\r",
      "Epoch 99/500:  20%|█▉        | 99/500 [00:42<02:51,  2.34it/s, v_num=1, train_loss_step=1.23e+7, train_loss_epoch=2.06e+8]"
     ]
    },
    {
     "name": "stdout",
     "output_type": "stream",
     "text": [
      "\r",
      "Epoch 100/500:  20%|█▉        | 99/500 [00:42<02:51,  2.34it/s, v_num=1, train_loss_step=1.23e+7, train_loss_epoch=2.06e+8]"
     ]
    },
    {
     "name": "stdout",
     "output_type": "stream",
     "text": [
      "\r",
      "Epoch 100/500:  20%|██        | 100/500 [00:43<02:50,  2.34it/s, v_num=1, train_loss_step=1.23e+7, train_loss_epoch=2.06e+8]"
     ]
    },
    {
     "name": "stdout",
     "output_type": "stream",
     "text": [
      "\r",
      "Epoch 100/500:  20%|██        | 100/500 [00:43<02:50,  2.34it/s, v_num=1, train_loss_step=1.24e+7, train_loss_epoch=2.06e+8]"
     ]
    },
    {
     "name": "stdout",
     "output_type": "stream",
     "text": [
      "\r",
      "Epoch 101/500:  20%|██        | 100/500 [00:43<02:50,  2.34it/s, v_num=1, train_loss_step=1.24e+7, train_loss_epoch=2.06e+8]"
     ]
    },
    {
     "name": "stdout",
     "output_type": "stream",
     "text": [
      "\r",
      "Epoch 101/500:  20%|██        | 101/500 [00:43<02:50,  2.34it/s, v_num=1, train_loss_step=1.24e+7, train_loss_epoch=2.06e+8]"
     ]
    },
    {
     "name": "stdout",
     "output_type": "stream",
     "text": [
      "\r",
      "Epoch 101/500:  20%|██        | 101/500 [00:43<02:50,  2.34it/s, v_num=1, train_loss_step=1.23e+7, train_loss_epoch=2.06e+8]"
     ]
    },
    {
     "name": "stdout",
     "output_type": "stream",
     "text": [
      "\r",
      "Epoch 102/500:  20%|██        | 101/500 [00:43<02:50,  2.34it/s, v_num=1, train_loss_step=1.23e+7, train_loss_epoch=2.06e+8]"
     ]
    },
    {
     "name": "stdout",
     "output_type": "stream",
     "text": [
      "\r",
      "Epoch 102/500:  20%|██        | 102/500 [00:44<02:49,  2.34it/s, v_num=1, train_loss_step=1.23e+7, train_loss_epoch=2.06e+8]"
     ]
    },
    {
     "name": "stdout",
     "output_type": "stream",
     "text": [
      "\r",
      "Epoch 102/500:  20%|██        | 102/500 [00:44<02:49,  2.34it/s, v_num=1, train_loss_step=1.23e+7, train_loss_epoch=2.06e+8]"
     ]
    },
    {
     "name": "stdout",
     "output_type": "stream",
     "text": [
      "\r",
      "Epoch 103/500:  20%|██        | 102/500 [00:44<02:49,  2.34it/s, v_num=1, train_loss_step=1.23e+7, train_loss_epoch=2.06e+8]"
     ]
    },
    {
     "name": "stdout",
     "output_type": "stream",
     "text": [
      "\r",
      "Epoch 103/500:  21%|██        | 103/500 [00:44<02:49,  2.35it/s, v_num=1, train_loss_step=1.23e+7, train_loss_epoch=2.06e+8]"
     ]
    },
    {
     "name": "stdout",
     "output_type": "stream",
     "text": [
      "\r",
      "Epoch 103/500:  21%|██        | 103/500 [00:44<02:49,  2.35it/s, v_num=1, train_loss_step=1.16e+7, train_loss_epoch=2.06e+8]"
     ]
    },
    {
     "name": "stdout",
     "output_type": "stream",
     "text": [
      "\r",
      "Epoch 104/500:  21%|██        | 103/500 [00:44<02:49,  2.35it/s, v_num=1, train_loss_step=1.16e+7, train_loss_epoch=2.06e+8]"
     ]
    },
    {
     "name": "stdout",
     "output_type": "stream",
     "text": [
      "\r",
      "Epoch 104/500:  21%|██        | 104/500 [00:44<02:48,  2.35it/s, v_num=1, train_loss_step=1.16e+7, train_loss_epoch=2.06e+8]"
     ]
    },
    {
     "name": "stdout",
     "output_type": "stream",
     "text": [
      "\r",
      "Epoch 104/500:  21%|██        | 104/500 [00:44<02:48,  2.35it/s, v_num=1, train_loss_step=1.22e+7, train_loss_epoch=2.06e+8]"
     ]
    },
    {
     "name": "stdout",
     "output_type": "stream",
     "text": [
      "\r",
      "Epoch 105/500:  21%|██        | 104/500 [00:44<02:48,  2.35it/s, v_num=1, train_loss_step=1.22e+7, train_loss_epoch=2.06e+8]"
     ]
    },
    {
     "name": "stdout",
     "output_type": "stream",
     "text": [
      "\r",
      "Epoch 105/500:  21%|██        | 105/500 [00:45<02:48,  2.35it/s, v_num=1, train_loss_step=1.22e+7, train_loss_epoch=2.06e+8]"
     ]
    },
    {
     "name": "stdout",
     "output_type": "stream",
     "text": [
      "\r",
      "Epoch 105/500:  21%|██        | 105/500 [00:45<02:48,  2.35it/s, v_num=1, train_loss_step=1.27e+7, train_loss_epoch=2.06e+8]"
     ]
    },
    {
     "name": "stdout",
     "output_type": "stream",
     "text": [
      "\r",
      "Epoch 106/500:  21%|██        | 105/500 [00:45<02:48,  2.35it/s, v_num=1, train_loss_step=1.27e+7, train_loss_epoch=2.06e+8]"
     ]
    },
    {
     "name": "stdout",
     "output_type": "stream",
     "text": [
      "\r",
      "Epoch 106/500:  21%|██        | 106/500 [00:45<02:48,  2.35it/s, v_num=1, train_loss_step=1.27e+7, train_loss_epoch=2.06e+8]"
     ]
    },
    {
     "name": "stdout",
     "output_type": "stream",
     "text": [
      "\r",
      "Epoch 106/500:  21%|██        | 106/500 [00:45<02:48,  2.35it/s, v_num=1, train_loss_step=1.16e+7, train_loss_epoch=2.06e+8]"
     ]
    },
    {
     "name": "stdout",
     "output_type": "stream",
     "text": [
      "\r",
      "Epoch 107/500:  21%|██        | 106/500 [00:45<02:48,  2.35it/s, v_num=1, train_loss_step=1.16e+7, train_loss_epoch=2.06e+8]"
     ]
    },
    {
     "name": "stdout",
     "output_type": "stream",
     "text": [
      "\r",
      "Epoch 107/500:  21%|██▏       | 107/500 [00:46<02:47,  2.35it/s, v_num=1, train_loss_step=1.16e+7, train_loss_epoch=2.06e+8]"
     ]
    },
    {
     "name": "stdout",
     "output_type": "stream",
     "text": [
      "\r",
      "Epoch 107/500:  21%|██▏       | 107/500 [00:46<02:47,  2.35it/s, v_num=1, train_loss_step=1.16e+7, train_loss_epoch=2.06e+8]"
     ]
    },
    {
     "name": "stdout",
     "output_type": "stream",
     "text": [
      "\r",
      "Epoch 108/500:  21%|██▏       | 107/500 [00:46<02:47,  2.35it/s, v_num=1, train_loss_step=1.16e+7, train_loss_epoch=2.06e+8]"
     ]
    },
    {
     "name": "stdout",
     "output_type": "stream",
     "text": [
      "\r",
      "Epoch 108/500:  22%|██▏       | 108/500 [00:46<02:47,  2.34it/s, v_num=1, train_loss_step=1.16e+7, train_loss_epoch=2.06e+8]"
     ]
    },
    {
     "name": "stdout",
     "output_type": "stream",
     "text": [
      "\r",
      "Epoch 108/500:  22%|██▏       | 108/500 [00:46<02:47,  2.34it/s, v_num=1, train_loss_step=1.1e+7, train_loss_epoch=2.06e+8] "
     ]
    },
    {
     "name": "stdout",
     "output_type": "stream",
     "text": [
      "\r",
      "Epoch 109/500:  22%|██▏       | 108/500 [00:46<02:47,  2.34it/s, v_num=1, train_loss_step=1.1e+7, train_loss_epoch=2.06e+8]"
     ]
    },
    {
     "name": "stdout",
     "output_type": "stream",
     "text": [
      "\r",
      "Epoch 109/500:  22%|██▏       | 109/500 [00:47<02:46,  2.35it/s, v_num=1, train_loss_step=1.1e+7, train_loss_epoch=2.06e+8]"
     ]
    },
    {
     "name": "stdout",
     "output_type": "stream",
     "text": [
      "\r",
      "Epoch 109/500:  22%|██▏       | 109/500 [00:47<02:46,  2.35it/s, v_num=1, train_loss_step=1.2e+7, train_loss_epoch=2.06e+8]"
     ]
    },
    {
     "name": "stdout",
     "output_type": "stream",
     "text": [
      "\r",
      "Epoch 110/500:  22%|██▏       | 109/500 [00:47<02:46,  2.35it/s, v_num=1, train_loss_step=1.2e+7, train_loss_epoch=2.06e+8]"
     ]
    },
    {
     "name": "stdout",
     "output_type": "stream",
     "text": [
      "\r",
      "Epoch 110/500:  22%|██▏       | 110/500 [00:47<02:46,  2.35it/s, v_num=1, train_loss_step=1.2e+7, train_loss_epoch=2.06e+8]"
     ]
    },
    {
     "name": "stdout",
     "output_type": "stream",
     "text": [
      "\r",
      "Epoch 110/500:  22%|██▏       | 110/500 [00:47<02:46,  2.35it/s, v_num=1, train_loss_step=1.24e+7, train_loss_epoch=2.06e+8]"
     ]
    },
    {
     "name": "stdout",
     "output_type": "stream",
     "text": [
      "\r",
      "Epoch 111/500:  22%|██▏       | 110/500 [00:47<02:46,  2.35it/s, v_num=1, train_loss_step=1.24e+7, train_loss_epoch=2.06e+8]"
     ]
    },
    {
     "name": "stdout",
     "output_type": "stream",
     "text": [
      "\r",
      "Epoch 111/500:  22%|██▏       | 111/500 [00:47<02:45,  2.35it/s, v_num=1, train_loss_step=1.24e+7, train_loss_epoch=2.06e+8]"
     ]
    },
    {
     "name": "stdout",
     "output_type": "stream",
     "text": [
      "\r",
      "Epoch 111/500:  22%|██▏       | 111/500 [00:47<02:45,  2.35it/s, v_num=1, train_loss_step=1.2e+7, train_loss_epoch=2.06e+8] "
     ]
    },
    {
     "name": "stdout",
     "output_type": "stream",
     "text": [
      "\r",
      "Epoch 112/500:  22%|██▏       | 111/500 [00:47<02:45,  2.35it/s, v_num=1, train_loss_step=1.2e+7, train_loss_epoch=2.06e+8]"
     ]
    },
    {
     "name": "stdout",
     "output_type": "stream",
     "text": [
      "\r",
      "Epoch 112/500:  22%|██▏       | 112/500 [00:48<02:45,  2.35it/s, v_num=1, train_loss_step=1.2e+7, train_loss_epoch=2.06e+8]"
     ]
    },
    {
     "name": "stdout",
     "output_type": "stream",
     "text": [
      "\r",
      "Epoch 112/500:  22%|██▏       | 112/500 [00:48<02:45,  2.35it/s, v_num=1, train_loss_step=1.21e+7, train_loss_epoch=2.06e+8]"
     ]
    },
    {
     "name": "stdout",
     "output_type": "stream",
     "text": [
      "\r",
      "Epoch 113/500:  22%|██▏       | 112/500 [00:48<02:45,  2.35it/s, v_num=1, train_loss_step=1.21e+7, train_loss_epoch=2.06e+8]"
     ]
    },
    {
     "name": "stdout",
     "output_type": "stream",
     "text": [
      "\r",
      "Epoch 113/500:  23%|██▎       | 113/500 [00:48<02:44,  2.35it/s, v_num=1, train_loss_step=1.21e+7, train_loss_epoch=2.06e+8]"
     ]
    },
    {
     "name": "stdout",
     "output_type": "stream",
     "text": [
      "\r",
      "Epoch 113/500:  23%|██▎       | 113/500 [00:48<02:44,  2.35it/s, v_num=1, train_loss_step=1.25e+7, train_loss_epoch=2.06e+8]"
     ]
    },
    {
     "name": "stdout",
     "output_type": "stream",
     "text": [
      "\r",
      "Epoch 114/500:  23%|██▎       | 113/500 [00:48<02:44,  2.35it/s, v_num=1, train_loss_step=1.25e+7, train_loss_epoch=2.06e+8]"
     ]
    },
    {
     "name": "stdout",
     "output_type": "stream",
     "text": [
      "\r",
      "Epoch 114/500:  23%|██▎       | 114/500 [00:49<02:44,  2.35it/s, v_num=1, train_loss_step=1.25e+7, train_loss_epoch=2.06e+8]"
     ]
    },
    {
     "name": "stdout",
     "output_type": "stream",
     "text": [
      "\r",
      "Epoch 114/500:  23%|██▎       | 114/500 [00:49<02:44,  2.35it/s, v_num=1, train_loss_step=1.27e+7, train_loss_epoch=2.06e+8]"
     ]
    },
    {
     "name": "stdout",
     "output_type": "stream",
     "text": [
      "\r",
      "Epoch 115/500:  23%|██▎       | 114/500 [00:49<02:44,  2.35it/s, v_num=1, train_loss_step=1.27e+7, train_loss_epoch=2.06e+8]"
     ]
    },
    {
     "name": "stdout",
     "output_type": "stream",
     "text": [
      "\r",
      "Epoch 115/500:  23%|██▎       | 115/500 [00:49<02:44,  2.35it/s, v_num=1, train_loss_step=1.27e+7, train_loss_epoch=2.06e+8]"
     ]
    },
    {
     "name": "stdout",
     "output_type": "stream",
     "text": [
      "\r",
      "Epoch 115/500:  23%|██▎       | 115/500 [00:49<02:44,  2.35it/s, v_num=1, train_loss_step=1.21e+7, train_loss_epoch=2.06e+8]"
     ]
    },
    {
     "name": "stdout",
     "output_type": "stream",
     "text": [
      "\r",
      "Epoch 116/500:  23%|██▎       | 115/500 [00:49<02:44,  2.35it/s, v_num=1, train_loss_step=1.21e+7, train_loss_epoch=2.06e+8]"
     ]
    },
    {
     "name": "stdout",
     "output_type": "stream",
     "text": [
      "\r",
      "Epoch 116/500:  23%|██▎       | 116/500 [00:50<02:43,  2.35it/s, v_num=1, train_loss_step=1.21e+7, train_loss_epoch=2.06e+8]"
     ]
    },
    {
     "name": "stdout",
     "output_type": "stream",
     "text": [
      "\r",
      "Epoch 116/500:  23%|██▎       | 116/500 [00:50<02:43,  2.35it/s, v_num=1, train_loss_step=1.28e+7, train_loss_epoch=2.06e+8]"
     ]
    },
    {
     "name": "stdout",
     "output_type": "stream",
     "text": [
      "\r",
      "Epoch 117/500:  23%|██▎       | 116/500 [00:50<02:43,  2.35it/s, v_num=1, train_loss_step=1.28e+7, train_loss_epoch=2.06e+8]"
     ]
    },
    {
     "name": "stdout",
     "output_type": "stream",
     "text": [
      "\r",
      "Epoch 117/500:  23%|██▎       | 117/500 [00:50<02:43,  2.35it/s, v_num=1, train_loss_step=1.28e+7, train_loss_epoch=2.06e+8]"
     ]
    },
    {
     "name": "stdout",
     "output_type": "stream",
     "text": [
      "\r",
      "Epoch 117/500:  23%|██▎       | 117/500 [00:50<02:43,  2.35it/s, v_num=1, train_loss_step=1.17e+7, train_loss_epoch=2.06e+8]"
     ]
    },
    {
     "name": "stdout",
     "output_type": "stream",
     "text": [
      "\r",
      "Epoch 118/500:  23%|██▎       | 117/500 [00:50<02:43,  2.35it/s, v_num=1, train_loss_step=1.17e+7, train_loss_epoch=2.06e+8]"
     ]
    },
    {
     "name": "stdout",
     "output_type": "stream",
     "text": [
      "\r",
      "Epoch 118/500:  24%|██▎       | 118/500 [00:50<02:42,  2.34it/s, v_num=1, train_loss_step=1.17e+7, train_loss_epoch=2.06e+8]"
     ]
    },
    {
     "name": "stdout",
     "output_type": "stream",
     "text": [
      "\r",
      "Epoch 118/500:  24%|██▎       | 118/500 [00:50<02:42,  2.34it/s, v_num=1, train_loss_step=1.16e+7, train_loss_epoch=2.06e+8]"
     ]
    },
    {
     "name": "stdout",
     "output_type": "stream",
     "text": [
      "\r",
      "Epoch 119/500:  24%|██▎       | 118/500 [00:50<02:42,  2.34it/s, v_num=1, train_loss_step=1.16e+7, train_loss_epoch=2.06e+8]"
     ]
    },
    {
     "name": "stdout",
     "output_type": "stream",
     "text": [
      "\r",
      "Epoch 119/500:  24%|██▍       | 119/500 [00:51<02:42,  2.35it/s, v_num=1, train_loss_step=1.16e+7, train_loss_epoch=2.06e+8]"
     ]
    },
    {
     "name": "stdout",
     "output_type": "stream",
     "text": [
      "\r",
      "Epoch 119/500:  24%|██▍       | 119/500 [00:51<02:42,  2.35it/s, v_num=1, train_loss_step=1.26e+7, train_loss_epoch=2.06e+8]"
     ]
    },
    {
     "name": "stdout",
     "output_type": "stream",
     "text": [
      "\r",
      "Epoch 120/500:  24%|██▍       | 119/500 [00:51<02:42,  2.35it/s, v_num=1, train_loss_step=1.26e+7, train_loss_epoch=2.06e+8]"
     ]
    },
    {
     "name": "stdout",
     "output_type": "stream",
     "text": [
      "\r",
      "Epoch 120/500:  24%|██▍       | 120/500 [00:51<02:42,  2.35it/s, v_num=1, train_loss_step=1.26e+7, train_loss_epoch=2.06e+8]"
     ]
    },
    {
     "name": "stdout",
     "output_type": "stream",
     "text": [
      "\r",
      "Epoch 120/500:  24%|██▍       | 120/500 [00:51<02:42,  2.35it/s, v_num=1, train_loss_step=1.18e+7, train_loss_epoch=2.06e+8]"
     ]
    },
    {
     "name": "stdout",
     "output_type": "stream",
     "text": [
      "\r",
      "Epoch 121/500:  24%|██▍       | 120/500 [00:51<02:42,  2.35it/s, v_num=1, train_loss_step=1.18e+7, train_loss_epoch=2.06e+8]"
     ]
    },
    {
     "name": "stdout",
     "output_type": "stream",
     "text": [
      "\r",
      "Epoch 121/500:  24%|██▍       | 121/500 [00:52<02:41,  2.34it/s, v_num=1, train_loss_step=1.18e+7, train_loss_epoch=2.06e+8]"
     ]
    },
    {
     "name": "stdout",
     "output_type": "stream",
     "text": [
      "\r",
      "Epoch 121/500:  24%|██▍       | 121/500 [00:52<02:41,  2.34it/s, v_num=1, train_loss_step=1.35e+7, train_loss_epoch=2.06e+8]"
     ]
    },
    {
     "name": "stdout",
     "output_type": "stream",
     "text": [
      "\r",
      "Epoch 122/500:  24%|██▍       | 121/500 [00:52<02:41,  2.34it/s, v_num=1, train_loss_step=1.35e+7, train_loss_epoch=2.06e+8]"
     ]
    },
    {
     "name": "stdout",
     "output_type": "stream",
     "text": [
      "\r",
      "Epoch 122/500:  24%|██▍       | 122/500 [00:52<02:41,  2.34it/s, v_num=1, train_loss_step=1.35e+7, train_loss_epoch=2.06e+8]"
     ]
    },
    {
     "name": "stdout",
     "output_type": "stream",
     "text": [
      "\r",
      "Epoch 122/500:  24%|██▍       | 122/500 [00:52<02:41,  2.34it/s, v_num=1, train_loss_step=1.16e+7, train_loss_epoch=2.06e+8]"
     ]
    },
    {
     "name": "stdout",
     "output_type": "stream",
     "text": [
      "\r",
      "Epoch 123/500:  24%|██▍       | 122/500 [00:52<02:41,  2.34it/s, v_num=1, train_loss_step=1.16e+7, train_loss_epoch=2.06e+8]"
     ]
    },
    {
     "name": "stdout",
     "output_type": "stream",
     "text": [
      "\r",
      "Epoch 123/500:  25%|██▍       | 123/500 [00:53<02:40,  2.35it/s, v_num=1, train_loss_step=1.16e+7, train_loss_epoch=2.06e+8]"
     ]
    },
    {
     "name": "stdout",
     "output_type": "stream",
     "text": [
      "\r",
      "Epoch 123/500:  25%|██▍       | 123/500 [00:53<02:40,  2.35it/s, v_num=1, train_loss_step=1.3e+7, train_loss_epoch=2.06e+8] "
     ]
    },
    {
     "name": "stdout",
     "output_type": "stream",
     "text": [
      "\r",
      "Epoch 124/500:  25%|██▍       | 123/500 [00:53<02:40,  2.35it/s, v_num=1, train_loss_step=1.3e+7, train_loss_epoch=2.06e+8]"
     ]
    },
    {
     "name": "stdout",
     "output_type": "stream",
     "text": [
      "\r",
      "Epoch 124/500:  25%|██▍       | 124/500 [00:53<02:40,  2.35it/s, v_num=1, train_loss_step=1.3e+7, train_loss_epoch=2.06e+8]"
     ]
    },
    {
     "name": "stdout",
     "output_type": "stream",
     "text": [
      "\r",
      "Epoch 124/500:  25%|██▍       | 124/500 [00:53<02:40,  2.35it/s, v_num=1, train_loss_step=1.21e+7, train_loss_epoch=2.06e+8]"
     ]
    },
    {
     "name": "stdout",
     "output_type": "stream",
     "text": [
      "\r",
      "Epoch 125/500:  25%|██▍       | 124/500 [00:53<02:40,  2.35it/s, v_num=1, train_loss_step=1.21e+7, train_loss_epoch=2.06e+8]"
     ]
    },
    {
     "name": "stdout",
     "output_type": "stream",
     "text": [
      "\r",
      "Epoch 125/500:  25%|██▌       | 125/500 [00:53<02:40,  2.34it/s, v_num=1, train_loss_step=1.21e+7, train_loss_epoch=2.06e+8]"
     ]
    },
    {
     "name": "stdout",
     "output_type": "stream",
     "text": [
      "\r",
      "Epoch 125/500:  25%|██▌       | 125/500 [00:53<02:40,  2.34it/s, v_num=1, train_loss_step=1.24e+7, train_loss_epoch=2.06e+8]"
     ]
    },
    {
     "name": "stdout",
     "output_type": "stream",
     "text": [
      "\r",
      "Epoch 126/500:  25%|██▌       | 125/500 [00:53<02:40,  2.34it/s, v_num=1, train_loss_step=1.24e+7, train_loss_epoch=2.06e+8]"
     ]
    },
    {
     "name": "stdout",
     "output_type": "stream",
     "text": [
      "\r",
      "Epoch 126/500:  25%|██▌       | 126/500 [00:54<02:39,  2.34it/s, v_num=1, train_loss_step=1.24e+7, train_loss_epoch=2.06e+8]"
     ]
    },
    {
     "name": "stdout",
     "output_type": "stream",
     "text": [
      "\r",
      "Epoch 126/500:  25%|██▌       | 126/500 [00:54<02:39,  2.34it/s, v_num=1, train_loss_step=1.18e+7, train_loss_epoch=2.06e+8]"
     ]
    },
    {
     "name": "stdout",
     "output_type": "stream",
     "text": [
      "\r",
      "Epoch 127/500:  25%|██▌       | 126/500 [00:54<02:39,  2.34it/s, v_num=1, train_loss_step=1.18e+7, train_loss_epoch=2.06e+8]"
     ]
    },
    {
     "name": "stdout",
     "output_type": "stream",
     "text": [
      "\r",
      "Epoch 127/500:  25%|██▌       | 127/500 [00:54<02:39,  2.34it/s, v_num=1, train_loss_step=1.18e+7, train_loss_epoch=2.06e+8]"
     ]
    },
    {
     "name": "stdout",
     "output_type": "stream",
     "text": [
      "\r",
      "Epoch 127/500:  25%|██▌       | 127/500 [00:54<02:39,  2.34it/s, v_num=1, train_loss_step=1.22e+7, train_loss_epoch=2.06e+8]"
     ]
    },
    {
     "name": "stdout",
     "output_type": "stream",
     "text": [
      "\r",
      "Epoch 128/500:  25%|██▌       | 127/500 [00:54<02:39,  2.34it/s, v_num=1, train_loss_step=1.22e+7, train_loss_epoch=2.06e+8]"
     ]
    },
    {
     "name": "stdout",
     "output_type": "stream",
     "text": [
      "\r",
      "Epoch 128/500:  26%|██▌       | 128/500 [00:55<02:38,  2.34it/s, v_num=1, train_loss_step=1.22e+7, train_loss_epoch=2.06e+8]"
     ]
    },
    {
     "name": "stdout",
     "output_type": "stream",
     "text": [
      "\r",
      "Epoch 128/500:  26%|██▌       | 128/500 [00:55<02:38,  2.34it/s, v_num=1, train_loss_step=1.23e+7, train_loss_epoch=2.05e+8]"
     ]
    },
    {
     "name": "stdout",
     "output_type": "stream",
     "text": [
      "\r",
      "Epoch 129/500:  26%|██▌       | 128/500 [00:55<02:38,  2.34it/s, v_num=1, train_loss_step=1.23e+7, train_loss_epoch=2.05e+8]"
     ]
    },
    {
     "name": "stdout",
     "output_type": "stream",
     "text": [
      "\r",
      "Epoch 129/500:  26%|██▌       | 129/500 [00:55<02:38,  2.34it/s, v_num=1, train_loss_step=1.23e+7, train_loss_epoch=2.05e+8]"
     ]
    },
    {
     "name": "stdout",
     "output_type": "stream",
     "text": [
      "\r",
      "Epoch 129/500:  26%|██▌       | 129/500 [00:55<02:38,  2.34it/s, v_num=1, train_loss_step=1.16e+7, train_loss_epoch=2.06e+8]"
     ]
    },
    {
     "name": "stdout",
     "output_type": "stream",
     "text": [
      "\r",
      "Epoch 130/500:  26%|██▌       | 129/500 [00:55<02:38,  2.34it/s, v_num=1, train_loss_step=1.16e+7, train_loss_epoch=2.06e+8]"
     ]
    },
    {
     "name": "stdout",
     "output_type": "stream",
     "text": [
      "\r",
      "Epoch 130/500:  26%|██▌       | 130/500 [00:56<02:38,  2.34it/s, v_num=1, train_loss_step=1.16e+7, train_loss_epoch=2.06e+8]"
     ]
    },
    {
     "name": "stdout",
     "output_type": "stream",
     "text": [
      "\r",
      "Epoch 130/500:  26%|██▌       | 130/500 [00:56<02:38,  2.34it/s, v_num=1, train_loss_step=1.21e+7, train_loss_epoch=2.05e+8]"
     ]
    },
    {
     "name": "stdout",
     "output_type": "stream",
     "text": [
      "\r",
      "Epoch 131/500:  26%|██▌       | 130/500 [00:56<02:38,  2.34it/s, v_num=1, train_loss_step=1.21e+7, train_loss_epoch=2.05e+8]"
     ]
    },
    {
     "name": "stdout",
     "output_type": "stream",
     "text": [
      "\r",
      "Epoch 131/500:  26%|██▌       | 131/500 [00:56<02:37,  2.34it/s, v_num=1, train_loss_step=1.21e+7, train_loss_epoch=2.05e+8]"
     ]
    },
    {
     "name": "stdout",
     "output_type": "stream",
     "text": [
      "\r",
      "Epoch 131/500:  26%|██▌       | 131/500 [00:56<02:37,  2.34it/s, v_num=1, train_loss_step=1.17e+7, train_loss_epoch=2.05e+8]"
     ]
    },
    {
     "name": "stdout",
     "output_type": "stream",
     "text": [
      "\r",
      "Epoch 132/500:  26%|██▌       | 131/500 [00:56<02:37,  2.34it/s, v_num=1, train_loss_step=1.17e+7, train_loss_epoch=2.05e+8]"
     ]
    },
    {
     "name": "stdout",
     "output_type": "stream",
     "text": [
      "\r",
      "Epoch 132/500:  26%|██▋       | 132/500 [00:56<02:37,  2.34it/s, v_num=1, train_loss_step=1.17e+7, train_loss_epoch=2.05e+8]"
     ]
    },
    {
     "name": "stdout",
     "output_type": "stream",
     "text": [
      "\r",
      "Epoch 132/500:  26%|██▋       | 132/500 [00:56<02:37,  2.34it/s, v_num=1, train_loss_step=1.24e+7, train_loss_epoch=2.05e+8]"
     ]
    },
    {
     "name": "stdout",
     "output_type": "stream",
     "text": [
      "\r",
      "Epoch 133/500:  26%|██▋       | 132/500 [00:56<02:37,  2.34it/s, v_num=1, train_loss_step=1.24e+7, train_loss_epoch=2.05e+8]"
     ]
    },
    {
     "name": "stdout",
     "output_type": "stream",
     "text": [
      "\r",
      "Epoch 133/500:  27%|██▋       | 133/500 [00:57<02:36,  2.34it/s, v_num=1, train_loss_step=1.24e+7, train_loss_epoch=2.05e+8]"
     ]
    },
    {
     "name": "stdout",
     "output_type": "stream",
     "text": [
      "\r",
      "Epoch 133/500:  27%|██▋       | 133/500 [00:57<02:36,  2.34it/s, v_num=1, train_loss_step=1.21e+7, train_loss_epoch=2.05e+8]"
     ]
    },
    {
     "name": "stdout",
     "output_type": "stream",
     "text": [
      "\r",
      "Epoch 134/500:  27%|██▋       | 133/500 [00:57<02:36,  2.34it/s, v_num=1, train_loss_step=1.21e+7, train_loss_epoch=2.05e+8]"
     ]
    },
    {
     "name": "stdout",
     "output_type": "stream",
     "text": [
      "\r",
      "Epoch 134/500:  27%|██▋       | 134/500 [00:57<02:36,  2.34it/s, v_num=1, train_loss_step=1.21e+7, train_loss_epoch=2.05e+8]"
     ]
    },
    {
     "name": "stdout",
     "output_type": "stream",
     "text": [
      "\r",
      "Epoch 134/500:  27%|██▋       | 134/500 [00:57<02:36,  2.34it/s, v_num=1, train_loss_step=1.24e+7, train_loss_epoch=2.05e+8]"
     ]
    },
    {
     "name": "stdout",
     "output_type": "stream",
     "text": [
      "\r",
      "Epoch 135/500:  27%|██▋       | 134/500 [00:57<02:36,  2.34it/s, v_num=1, train_loss_step=1.24e+7, train_loss_epoch=2.05e+8]"
     ]
    },
    {
     "name": "stdout",
     "output_type": "stream",
     "text": [
      "\r",
      "Epoch 135/500:  27%|██▋       | 135/500 [00:58<02:35,  2.34it/s, v_num=1, train_loss_step=1.24e+7, train_loss_epoch=2.05e+8]"
     ]
    },
    {
     "name": "stdout",
     "output_type": "stream",
     "text": [
      "\r",
      "Epoch 135/500:  27%|██▋       | 135/500 [00:58<02:35,  2.34it/s, v_num=1, train_loss_step=1.2e+7, train_loss_epoch=2.05e+8] "
     ]
    },
    {
     "name": "stdout",
     "output_type": "stream",
     "text": [
      "\r",
      "Epoch 136/500:  27%|██▋       | 135/500 [00:58<02:35,  2.34it/s, v_num=1, train_loss_step=1.2e+7, train_loss_epoch=2.05e+8]"
     ]
    },
    {
     "name": "stdout",
     "output_type": "stream",
     "text": [
      "\r",
      "Epoch 136/500:  27%|██▋       | 136/500 [00:58<02:35,  2.34it/s, v_num=1, train_loss_step=1.2e+7, train_loss_epoch=2.05e+8]"
     ]
    },
    {
     "name": "stdout",
     "output_type": "stream",
     "text": [
      "\r",
      "Epoch 136/500:  27%|██▋       | 136/500 [00:58<02:35,  2.34it/s, v_num=1, train_loss_step=1.14e+7, train_loss_epoch=2.05e+8]"
     ]
    },
    {
     "name": "stdout",
     "output_type": "stream",
     "text": [
      "\r",
      "Epoch 137/500:  27%|██▋       | 136/500 [00:58<02:35,  2.34it/s, v_num=1, train_loss_step=1.14e+7, train_loss_epoch=2.05e+8]"
     ]
    },
    {
     "name": "stdout",
     "output_type": "stream",
     "text": [
      "\r",
      "Epoch 137/500:  27%|██▋       | 137/500 [00:59<02:35,  2.34it/s, v_num=1, train_loss_step=1.14e+7, train_loss_epoch=2.05e+8]"
     ]
    },
    {
     "name": "stdout",
     "output_type": "stream",
     "text": [
      "\r",
      "Epoch 137/500:  27%|██▋       | 137/500 [00:59<02:35,  2.34it/s, v_num=1, train_loss_step=1.21e+7, train_loss_epoch=2.05e+8]"
     ]
    },
    {
     "name": "stdout",
     "output_type": "stream",
     "text": [
      "\r",
      "Epoch 138/500:  27%|██▋       | 137/500 [00:59<02:35,  2.34it/s, v_num=1, train_loss_step=1.21e+7, train_loss_epoch=2.05e+8]"
     ]
    },
    {
     "name": "stdout",
     "output_type": "stream",
     "text": [
      "\r",
      "Epoch 138/500:  28%|██▊       | 138/500 [00:59<02:34,  2.34it/s, v_num=1, train_loss_step=1.21e+7, train_loss_epoch=2.05e+8]"
     ]
    },
    {
     "name": "stdout",
     "output_type": "stream",
     "text": [
      "\r",
      "Epoch 138/500:  28%|██▊       | 138/500 [00:59<02:34,  2.34it/s, v_num=1, train_loss_step=1.25e+7, train_loss_epoch=2.05e+8]"
     ]
    },
    {
     "name": "stdout",
     "output_type": "stream",
     "text": [
      "\r",
      "Epoch 139/500:  28%|██▊       | 138/500 [00:59<02:34,  2.34it/s, v_num=1, train_loss_step=1.25e+7, train_loss_epoch=2.05e+8]"
     ]
    },
    {
     "name": "stdout",
     "output_type": "stream",
     "text": [
      "\r",
      "Epoch 139/500:  28%|██▊       | 139/500 [00:59<02:33,  2.34it/s, v_num=1, train_loss_step=1.25e+7, train_loss_epoch=2.05e+8]"
     ]
    },
    {
     "name": "stdout",
     "output_type": "stream",
     "text": [
      "\r",
      "Epoch 139/500:  28%|██▊       | 139/500 [00:59<02:33,  2.34it/s, v_num=1, train_loss_step=1.18e+7, train_loss_epoch=2.05e+8]"
     ]
    },
    {
     "name": "stdout",
     "output_type": "stream",
     "text": [
      "\r",
      "Epoch 140/500:  28%|██▊       | 139/500 [00:59<02:33,  2.34it/s, v_num=1, train_loss_step=1.18e+7, train_loss_epoch=2.05e+8]"
     ]
    },
    {
     "name": "stdout",
     "output_type": "stream",
     "text": [
      "\r",
      "Epoch 140/500:  28%|██▊       | 140/500 [01:00<02:33,  2.34it/s, v_num=1, train_loss_step=1.18e+7, train_loss_epoch=2.05e+8]"
     ]
    },
    {
     "name": "stdout",
     "output_type": "stream",
     "text": [
      "\r",
      "Epoch 140/500:  28%|██▊       | 140/500 [01:00<02:33,  2.34it/s, v_num=1, train_loss_step=1.23e+7, train_loss_epoch=2.05e+8]"
     ]
    },
    {
     "name": "stdout",
     "output_type": "stream",
     "text": [
      "\r",
      "Epoch 141/500:  28%|██▊       | 140/500 [01:00<02:33,  2.34it/s, v_num=1, train_loss_step=1.23e+7, train_loss_epoch=2.05e+8]"
     ]
    },
    {
     "name": "stdout",
     "output_type": "stream",
     "text": [
      "\r",
      "Epoch 141/500:  28%|██▊       | 141/500 [01:00<02:33,  2.34it/s, v_num=1, train_loss_step=1.23e+7, train_loss_epoch=2.05e+8]"
     ]
    },
    {
     "name": "stdout",
     "output_type": "stream",
     "text": [
      "\r",
      "Epoch 141/500:  28%|██▊       | 141/500 [01:00<02:33,  2.34it/s, v_num=1, train_loss_step=1.21e+7, train_loss_epoch=2.05e+8]"
     ]
    },
    {
     "name": "stdout",
     "output_type": "stream",
     "text": [
      "\r",
      "Epoch 142/500:  28%|██▊       | 141/500 [01:00<02:33,  2.34it/s, v_num=1, train_loss_step=1.21e+7, train_loss_epoch=2.05e+8]"
     ]
    },
    {
     "name": "stdout",
     "output_type": "stream",
     "text": [
      "\r",
      "Epoch 142/500:  28%|██▊       | 142/500 [01:01<02:32,  2.34it/s, v_num=1, train_loss_step=1.21e+7, train_loss_epoch=2.05e+8]"
     ]
    },
    {
     "name": "stdout",
     "output_type": "stream",
     "text": [
      "\r",
      "Epoch 142/500:  28%|██▊       | 142/500 [01:01<02:32,  2.34it/s, v_num=1, train_loss_step=1.16e+7, train_loss_epoch=2.05e+8]"
     ]
    },
    {
     "name": "stdout",
     "output_type": "stream",
     "text": [
      "\r",
      "Epoch 143/500:  28%|██▊       | 142/500 [01:01<02:32,  2.34it/s, v_num=1, train_loss_step=1.16e+7, train_loss_epoch=2.05e+8]"
     ]
    },
    {
     "name": "stdout",
     "output_type": "stream",
     "text": [
      "\r",
      "Epoch 143/500:  29%|██▊       | 143/500 [01:01<02:32,  2.35it/s, v_num=1, train_loss_step=1.16e+7, train_loss_epoch=2.05e+8]"
     ]
    },
    {
     "name": "stdout",
     "output_type": "stream",
     "text": [
      "\r",
      "Epoch 143/500:  29%|██▊       | 143/500 [01:01<02:32,  2.35it/s, v_num=1, train_loss_step=1.23e+7, train_loss_epoch=2.05e+8]"
     ]
    },
    {
     "name": "stdout",
     "output_type": "stream",
     "text": [
      "\r",
      "Epoch 144/500:  29%|██▊       | 143/500 [01:01<02:32,  2.35it/s, v_num=1, train_loss_step=1.23e+7, train_loss_epoch=2.05e+8]"
     ]
    },
    {
     "name": "stdout",
     "output_type": "stream",
     "text": [
      "\r",
      "Epoch 144/500:  29%|██▉       | 144/500 [01:02<02:31,  2.35it/s, v_num=1, train_loss_step=1.23e+7, train_loss_epoch=2.05e+8]"
     ]
    },
    {
     "name": "stdout",
     "output_type": "stream",
     "text": [
      "\r",
      "Epoch 144/500:  29%|██▉       | 144/500 [01:02<02:31,  2.35it/s, v_num=1, train_loss_step=1.24e+7, train_loss_epoch=2.05e+8]"
     ]
    },
    {
     "name": "stdout",
     "output_type": "stream",
     "text": [
      "\r",
      "Epoch 145/500:  29%|██▉       | 144/500 [01:02<02:31,  2.35it/s, v_num=1, train_loss_step=1.24e+7, train_loss_epoch=2.05e+8]"
     ]
    },
    {
     "name": "stdout",
     "output_type": "stream",
     "text": [
      "\r",
      "Epoch 145/500:  29%|██▉       | 145/500 [01:02<02:31,  2.35it/s, v_num=1, train_loss_step=1.24e+7, train_loss_epoch=2.05e+8]"
     ]
    },
    {
     "name": "stdout",
     "output_type": "stream",
     "text": [
      "\r",
      "Epoch 145/500:  29%|██▉       | 145/500 [01:02<02:31,  2.35it/s, v_num=1, train_loss_step=1.18e+7, train_loss_epoch=2.05e+8]"
     ]
    },
    {
     "name": "stdout",
     "output_type": "stream",
     "text": [
      "\r",
      "Epoch 146/500:  29%|██▉       | 145/500 [01:02<02:31,  2.35it/s, v_num=1, train_loss_step=1.18e+7, train_loss_epoch=2.05e+8]"
     ]
    },
    {
     "name": "stdout",
     "output_type": "stream",
     "text": [
      "\r",
      "Epoch 146/500:  29%|██▉       | 146/500 [01:02<02:30,  2.35it/s, v_num=1, train_loss_step=1.18e+7, train_loss_epoch=2.05e+8]"
     ]
    },
    {
     "name": "stdout",
     "output_type": "stream",
     "text": [
      "\r",
      "Epoch 146/500:  29%|██▉       | 146/500 [01:02<02:30,  2.35it/s, v_num=1, train_loss_step=1.26e+7, train_loss_epoch=2.05e+8]"
     ]
    },
    {
     "name": "stdout",
     "output_type": "stream",
     "text": [
      "\r",
      "Epoch 147/500:  29%|██▉       | 146/500 [01:02<02:30,  2.35it/s, v_num=1, train_loss_step=1.26e+7, train_loss_epoch=2.05e+8]"
     ]
    },
    {
     "name": "stdout",
     "output_type": "stream",
     "text": [
      "\r",
      "Epoch 147/500:  29%|██▉       | 147/500 [01:03<02:30,  2.35it/s, v_num=1, train_loss_step=1.26e+7, train_loss_epoch=2.05e+8]"
     ]
    },
    {
     "name": "stdout",
     "output_type": "stream",
     "text": [
      "\r",
      "Epoch 147/500:  29%|██▉       | 147/500 [01:03<02:30,  2.35it/s, v_num=1, train_loss_step=1.17e+7, train_loss_epoch=2.05e+8]"
     ]
    },
    {
     "name": "stdout",
     "output_type": "stream",
     "text": [
      "\r",
      "Epoch 148/500:  29%|██▉       | 147/500 [01:03<02:30,  2.35it/s, v_num=1, train_loss_step=1.17e+7, train_loss_epoch=2.05e+8]"
     ]
    },
    {
     "name": "stdout",
     "output_type": "stream",
     "text": [
      "\r",
      "Epoch 148/500:  30%|██▉       | 148/500 [01:03<02:29,  2.35it/s, v_num=1, train_loss_step=1.17e+7, train_loss_epoch=2.05e+8]"
     ]
    },
    {
     "name": "stdout",
     "output_type": "stream",
     "text": [
      "\r",
      "Epoch 148/500:  30%|██▉       | 148/500 [01:03<02:29,  2.35it/s, v_num=1, train_loss_step=1.25e+7, train_loss_epoch=2.05e+8]"
     ]
    },
    {
     "name": "stdout",
     "output_type": "stream",
     "text": [
      "\r",
      "Epoch 149/500:  30%|██▉       | 148/500 [01:03<02:29,  2.35it/s, v_num=1, train_loss_step=1.25e+7, train_loss_epoch=2.05e+8]"
     ]
    },
    {
     "name": "stdout",
     "output_type": "stream",
     "text": [
      "\r",
      "Epoch 149/500:  30%|██▉       | 149/500 [01:04<02:29,  2.34it/s, v_num=1, train_loss_step=1.25e+7, train_loss_epoch=2.05e+8]"
     ]
    },
    {
     "name": "stdout",
     "output_type": "stream",
     "text": [
      "\r",
      "Epoch 149/500:  30%|██▉       | 149/500 [01:04<02:29,  2.34it/s, v_num=1, train_loss_step=1.2e+7, train_loss_epoch=2.05e+8] "
     ]
    },
    {
     "name": "stdout",
     "output_type": "stream",
     "text": [
      "\r",
      "Epoch 150/500:  30%|██▉       | 149/500 [01:04<02:29,  2.34it/s, v_num=1, train_loss_step=1.2e+7, train_loss_epoch=2.05e+8]"
     ]
    },
    {
     "name": "stdout",
     "output_type": "stream",
     "text": [
      "\r",
      "Epoch 150/500:  30%|███       | 150/500 [01:04<02:29,  2.34it/s, v_num=1, train_loss_step=1.2e+7, train_loss_epoch=2.05e+8]"
     ]
    },
    {
     "name": "stdout",
     "output_type": "stream",
     "text": [
      "\r",
      "Epoch 150/500:  30%|███       | 150/500 [01:04<02:29,  2.34it/s, v_num=1, train_loss_step=1.19e+7, train_loss_epoch=2.05e+8]"
     ]
    },
    {
     "name": "stdout",
     "output_type": "stream",
     "text": [
      "\r",
      "Epoch 151/500:  30%|███       | 150/500 [01:04<02:29,  2.34it/s, v_num=1, train_loss_step=1.19e+7, train_loss_epoch=2.05e+8]"
     ]
    },
    {
     "name": "stdout",
     "output_type": "stream",
     "text": [
      "\r",
      "Epoch 151/500:  30%|███       | 151/500 [01:05<02:28,  2.34it/s, v_num=1, train_loss_step=1.19e+7, train_loss_epoch=2.05e+8]"
     ]
    },
    {
     "name": "stdout",
     "output_type": "stream",
     "text": [
      "\r",
      "Epoch 151/500:  30%|███       | 151/500 [01:05<02:28,  2.34it/s, v_num=1, train_loss_step=1.25e+7, train_loss_epoch=2.05e+8]"
     ]
    },
    {
     "name": "stdout",
     "output_type": "stream",
     "text": [
      "\r",
      "Epoch 152/500:  30%|███       | 151/500 [01:05<02:28,  2.34it/s, v_num=1, train_loss_step=1.25e+7, train_loss_epoch=2.05e+8]"
     ]
    },
    {
     "name": "stdout",
     "output_type": "stream",
     "text": [
      "\r",
      "Epoch 152/500:  30%|███       | 152/500 [01:05<02:28,  2.34it/s, v_num=1, train_loss_step=1.25e+7, train_loss_epoch=2.05e+8]"
     ]
    },
    {
     "name": "stdout",
     "output_type": "stream",
     "text": [
      "\r",
      "Epoch 152/500:  30%|███       | 152/500 [01:05<02:28,  2.34it/s, v_num=1, train_loss_step=1.19e+7, train_loss_epoch=2.05e+8]"
     ]
    },
    {
     "name": "stdout",
     "output_type": "stream",
     "text": [
      "\r",
      "Epoch 153/500:  30%|███       | 152/500 [01:05<02:28,  2.34it/s, v_num=1, train_loss_step=1.19e+7, train_loss_epoch=2.05e+8]"
     ]
    },
    {
     "name": "stdout",
     "output_type": "stream",
     "text": [
      "\r",
      "Epoch 153/500:  31%|███       | 153/500 [01:05<02:27,  2.35it/s, v_num=1, train_loss_step=1.19e+7, train_loss_epoch=2.05e+8]"
     ]
    },
    {
     "name": "stdout",
     "output_type": "stream",
     "text": [
      "\r",
      "Epoch 153/500:  31%|███       | 153/500 [01:05<02:27,  2.35it/s, v_num=1, train_loss_step=1.26e+7, train_loss_epoch=2.05e+8]"
     ]
    },
    {
     "name": "stdout",
     "output_type": "stream",
     "text": [
      "\r",
      "Epoch 154/500:  31%|███       | 153/500 [01:05<02:27,  2.35it/s, v_num=1, train_loss_step=1.26e+7, train_loss_epoch=2.05e+8]"
     ]
    },
    {
     "name": "stdout",
     "output_type": "stream",
     "text": [
      "\r",
      "Epoch 154/500:  31%|███       | 154/500 [01:06<02:27,  2.34it/s, v_num=1, train_loss_step=1.26e+7, train_loss_epoch=2.05e+8]"
     ]
    },
    {
     "name": "stdout",
     "output_type": "stream",
     "text": [
      "\r",
      "Epoch 154/500:  31%|███       | 154/500 [01:06<02:27,  2.34it/s, v_num=1, train_loss_step=1.16e+7, train_loss_epoch=2.05e+8]"
     ]
    },
    {
     "name": "stdout",
     "output_type": "stream",
     "text": [
      "\r",
      "Epoch 155/500:  31%|███       | 154/500 [01:06<02:27,  2.34it/s, v_num=1, train_loss_step=1.16e+7, train_loss_epoch=2.05e+8]"
     ]
    },
    {
     "name": "stdout",
     "output_type": "stream",
     "text": [
      "\r",
      "Epoch 155/500:  31%|███       | 155/500 [01:06<02:27,  2.35it/s, v_num=1, train_loss_step=1.16e+7, train_loss_epoch=2.05e+8]"
     ]
    },
    {
     "name": "stdout",
     "output_type": "stream",
     "text": [
      "\r",
      "Epoch 155/500:  31%|███       | 155/500 [01:06<02:27,  2.35it/s, v_num=1, train_loss_step=1.21e+7, train_loss_epoch=2.05e+8]"
     ]
    },
    {
     "name": "stdout",
     "output_type": "stream",
     "text": [
      "\r",
      "Epoch 156/500:  31%|███       | 155/500 [01:06<02:27,  2.35it/s, v_num=1, train_loss_step=1.21e+7, train_loss_epoch=2.05e+8]"
     ]
    },
    {
     "name": "stdout",
     "output_type": "stream",
     "text": [
      "\r",
      "Epoch 156/500:  31%|███       | 156/500 [01:07<02:26,  2.35it/s, v_num=1, train_loss_step=1.21e+7, train_loss_epoch=2.05e+8]"
     ]
    },
    {
     "name": "stdout",
     "output_type": "stream",
     "text": [
      "\r",
      "Epoch 156/500:  31%|███       | 156/500 [01:07<02:26,  2.35it/s, v_num=1, train_loss_step=1.16e+7, train_loss_epoch=2.05e+8]"
     ]
    },
    {
     "name": "stdout",
     "output_type": "stream",
     "text": [
      "\r",
      "Epoch 157/500:  31%|███       | 156/500 [01:07<02:26,  2.35it/s, v_num=1, train_loss_step=1.16e+7, train_loss_epoch=2.05e+8]"
     ]
    },
    {
     "name": "stdout",
     "output_type": "stream",
     "text": [
      "\r",
      "Epoch 157/500:  31%|███▏      | 157/500 [01:07<02:26,  2.35it/s, v_num=1, train_loss_step=1.16e+7, train_loss_epoch=2.05e+8]"
     ]
    },
    {
     "name": "stdout",
     "output_type": "stream",
     "text": [
      "\r",
      "Epoch 157/500:  31%|███▏      | 157/500 [01:07<02:26,  2.35it/s, v_num=1, train_loss_step=1.18e+7, train_loss_epoch=2.05e+8]"
     ]
    },
    {
     "name": "stdout",
     "output_type": "stream",
     "text": [
      "\r",
      "Epoch 158/500:  31%|███▏      | 157/500 [01:07<02:26,  2.35it/s, v_num=1, train_loss_step=1.18e+7, train_loss_epoch=2.05e+8]"
     ]
    },
    {
     "name": "stdout",
     "output_type": "stream",
     "text": [
      "\r",
      "Epoch 158/500:  32%|███▏      | 158/500 [01:08<02:25,  2.35it/s, v_num=1, train_loss_step=1.18e+7, train_loss_epoch=2.05e+8]"
     ]
    },
    {
     "name": "stdout",
     "output_type": "stream",
     "text": [
      "\r",
      "Epoch 158/500:  32%|███▏      | 158/500 [01:08<02:25,  2.35it/s, v_num=1, train_loss_step=1.26e+7, train_loss_epoch=2.04e+8]"
     ]
    },
    {
     "name": "stdout",
     "output_type": "stream",
     "text": [
      "\r",
      "Epoch 159/500:  32%|███▏      | 158/500 [01:08<02:25,  2.35it/s, v_num=1, train_loss_step=1.26e+7, train_loss_epoch=2.04e+8]"
     ]
    },
    {
     "name": "stdout",
     "output_type": "stream",
     "text": [
      "\r",
      "Epoch 159/500:  32%|███▏      | 159/500 [01:08<02:25,  2.35it/s, v_num=1, train_loss_step=1.26e+7, train_loss_epoch=2.04e+8]"
     ]
    },
    {
     "name": "stdout",
     "output_type": "stream",
     "text": [
      "\r",
      "Epoch 159/500:  32%|███▏      | 159/500 [01:08<02:25,  2.35it/s, v_num=1, train_loss_step=1.21e+7, train_loss_epoch=2.04e+8]"
     ]
    },
    {
     "name": "stdout",
     "output_type": "stream",
     "text": [
      "\r",
      "Epoch 160/500:  32%|███▏      | 159/500 [01:08<02:25,  2.35it/s, v_num=1, train_loss_step=1.21e+7, train_loss_epoch=2.04e+8]"
     ]
    },
    {
     "name": "stdout",
     "output_type": "stream",
     "text": [
      "\r",
      "Epoch 160/500:  32%|███▏      | 160/500 [01:08<02:24,  2.35it/s, v_num=1, train_loss_step=1.21e+7, train_loss_epoch=2.04e+8]"
     ]
    },
    {
     "name": "stdout",
     "output_type": "stream",
     "text": [
      "\r",
      "Epoch 160/500:  32%|███▏      | 160/500 [01:08<02:24,  2.35it/s, v_num=1, train_loss_step=1.28e+7, train_loss_epoch=2.04e+8]"
     ]
    },
    {
     "name": "stdout",
     "output_type": "stream",
     "text": [
      "\r",
      "Epoch 161/500:  32%|███▏      | 160/500 [01:08<02:24,  2.35it/s, v_num=1, train_loss_step=1.28e+7, train_loss_epoch=2.04e+8]"
     ]
    },
    {
     "name": "stdout",
     "output_type": "stream",
     "text": [
      "\r",
      "Epoch 161/500:  32%|███▏      | 161/500 [01:09<02:24,  2.35it/s, v_num=1, train_loss_step=1.28e+7, train_loss_epoch=2.04e+8]"
     ]
    },
    {
     "name": "stdout",
     "output_type": "stream",
     "text": [
      "\r",
      "Epoch 161/500:  32%|███▏      | 161/500 [01:09<02:24,  2.35it/s, v_num=1, train_loss_step=1.14e+7, train_loss_epoch=2.04e+8]"
     ]
    },
    {
     "name": "stdout",
     "output_type": "stream",
     "text": [
      "\r",
      "Epoch 162/500:  32%|███▏      | 161/500 [01:09<02:24,  2.35it/s, v_num=1, train_loss_step=1.14e+7, train_loss_epoch=2.04e+8]"
     ]
    },
    {
     "name": "stdout",
     "output_type": "stream",
     "text": [
      "\r",
      "Epoch 162/500:  32%|███▏      | 162/500 [01:09<02:24,  2.35it/s, v_num=1, train_loss_step=1.14e+7, train_loss_epoch=2.04e+8]"
     ]
    },
    {
     "name": "stdout",
     "output_type": "stream",
     "text": [
      "\r",
      "Epoch 162/500:  32%|███▏      | 162/500 [01:09<02:24,  2.35it/s, v_num=1, train_loss_step=1.23e+7, train_loss_epoch=2.04e+8]"
     ]
    },
    {
     "name": "stdout",
     "output_type": "stream",
     "text": [
      "\r",
      "Epoch 163/500:  32%|███▏      | 162/500 [01:09<02:24,  2.35it/s, v_num=1, train_loss_step=1.23e+7, train_loss_epoch=2.04e+8]"
     ]
    },
    {
     "name": "stdout",
     "output_type": "stream",
     "text": [
      "\r",
      "Epoch 163/500:  33%|███▎      | 163/500 [01:10<02:23,  2.35it/s, v_num=1, train_loss_step=1.23e+7, train_loss_epoch=2.04e+8]"
     ]
    },
    {
     "name": "stdout",
     "output_type": "stream",
     "text": [
      "\r",
      "Epoch 163/500:  33%|███▎      | 163/500 [01:10<02:23,  2.35it/s, v_num=1, train_loss_step=1.19e+7, train_loss_epoch=2.04e+8]"
     ]
    },
    {
     "name": "stdout",
     "output_type": "stream",
     "text": [
      "\r",
      "Epoch 164/500:  33%|███▎      | 163/500 [01:10<02:23,  2.35it/s, v_num=1, train_loss_step=1.19e+7, train_loss_epoch=2.04e+8]"
     ]
    },
    {
     "name": "stdout",
     "output_type": "stream",
     "text": [
      "\r",
      "Epoch 164/500:  33%|███▎      | 164/500 [01:10<02:23,  2.35it/s, v_num=1, train_loss_step=1.19e+7, train_loss_epoch=2.04e+8]"
     ]
    },
    {
     "name": "stdout",
     "output_type": "stream",
     "text": [
      "\r",
      "Epoch 164/500:  33%|███▎      | 164/500 [01:10<02:23,  2.35it/s, v_num=1, train_loss_step=1.19e+7, train_loss_epoch=2.04e+8]"
     ]
    },
    {
     "name": "stdout",
     "output_type": "stream",
     "text": [
      "\r",
      "Epoch 165/500:  33%|███▎      | 164/500 [01:10<02:23,  2.35it/s, v_num=1, train_loss_step=1.19e+7, train_loss_epoch=2.04e+8]"
     ]
    },
    {
     "name": "stdout",
     "output_type": "stream",
     "text": [
      "\r",
      "Epoch 165/500:  33%|███▎      | 165/500 [01:11<02:22,  2.35it/s, v_num=1, train_loss_step=1.19e+7, train_loss_epoch=2.04e+8]"
     ]
    },
    {
     "name": "stdout",
     "output_type": "stream",
     "text": [
      "\r",
      "Epoch 165/500:  33%|███▎      | 165/500 [01:11<02:22,  2.35it/s, v_num=1, train_loss_step=1.2e+7, train_loss_epoch=2.04e+8] "
     ]
    },
    {
     "name": "stdout",
     "output_type": "stream",
     "text": [
      "\r",
      "Epoch 166/500:  33%|███▎      | 165/500 [01:11<02:22,  2.35it/s, v_num=1, train_loss_step=1.2e+7, train_loss_epoch=2.04e+8]"
     ]
    },
    {
     "name": "stdout",
     "output_type": "stream",
     "text": [
      "\r",
      "Epoch 166/500:  33%|███▎      | 166/500 [01:11<02:22,  2.35it/s, v_num=1, train_loss_step=1.2e+7, train_loss_epoch=2.04e+8]"
     ]
    },
    {
     "name": "stdout",
     "output_type": "stream",
     "text": [
      "\r",
      "Epoch 166/500:  33%|███▎      | 166/500 [01:11<02:22,  2.35it/s, v_num=1, train_loss_step=1.3e+7, train_loss_epoch=2.04e+8]"
     ]
    },
    {
     "name": "stdout",
     "output_type": "stream",
     "text": [
      "\r",
      "Epoch 167/500:  33%|███▎      | 166/500 [01:11<02:22,  2.35it/s, v_num=1, train_loss_step=1.3e+7, train_loss_epoch=2.04e+8]"
     ]
    },
    {
     "name": "stdout",
     "output_type": "stream",
     "text": [
      "\r",
      "Epoch 167/500:  33%|███▎      | 167/500 [01:11<02:21,  2.35it/s, v_num=1, train_loss_step=1.3e+7, train_loss_epoch=2.04e+8]"
     ]
    },
    {
     "name": "stdout",
     "output_type": "stream",
     "text": [
      "\r",
      "Epoch 167/500:  33%|███▎      | 167/500 [01:11<02:21,  2.35it/s, v_num=1, train_loss_step=1.23e+7, train_loss_epoch=2.04e+8]"
     ]
    },
    {
     "name": "stdout",
     "output_type": "stream",
     "text": [
      "\r",
      "Epoch 168/500:  33%|███▎      | 167/500 [01:11<02:21,  2.35it/s, v_num=1, train_loss_step=1.23e+7, train_loss_epoch=2.04e+8]"
     ]
    },
    {
     "name": "stdout",
     "output_type": "stream",
     "text": [
      "\r",
      "Epoch 168/500:  34%|███▎      | 168/500 [01:12<02:21,  2.35it/s, v_num=1, train_loss_step=1.23e+7, train_loss_epoch=2.04e+8]"
     ]
    },
    {
     "name": "stdout",
     "output_type": "stream",
     "text": [
      "\r",
      "Epoch 168/500:  34%|███▎      | 168/500 [01:12<02:21,  2.35it/s, v_num=1, train_loss_step=1.22e+7, train_loss_epoch=2.04e+8]"
     ]
    },
    {
     "name": "stdout",
     "output_type": "stream",
     "text": [
      "\r",
      "Epoch 169/500:  34%|███▎      | 168/500 [01:12<02:21,  2.35it/s, v_num=1, train_loss_step=1.22e+7, train_loss_epoch=2.04e+8]"
     ]
    },
    {
     "name": "stdout",
     "output_type": "stream",
     "text": [
      "\r",
      "Epoch 169/500:  34%|███▍      | 169/500 [01:12<02:21,  2.35it/s, v_num=1, train_loss_step=1.22e+7, train_loss_epoch=2.04e+8]"
     ]
    },
    {
     "name": "stdout",
     "output_type": "stream",
     "text": [
      "\r",
      "Epoch 169/500:  34%|███▍      | 169/500 [01:12<02:21,  2.35it/s, v_num=1, train_loss_step=1.18e+7, train_loss_epoch=2.04e+8]"
     ]
    },
    {
     "name": "stdout",
     "output_type": "stream",
     "text": [
      "\r",
      "Epoch 170/500:  34%|███▍      | 169/500 [01:12<02:21,  2.35it/s, v_num=1, train_loss_step=1.18e+7, train_loss_epoch=2.04e+8]"
     ]
    },
    {
     "name": "stdout",
     "output_type": "stream",
     "text": [
      "\r",
      "Epoch 170/500:  34%|███▍      | 170/500 [01:13<02:20,  2.35it/s, v_num=1, train_loss_step=1.18e+7, train_loss_epoch=2.04e+8]"
     ]
    },
    {
     "name": "stdout",
     "output_type": "stream",
     "text": [
      "\r",
      "Epoch 170/500:  34%|███▍      | 170/500 [01:13<02:20,  2.35it/s, v_num=1, train_loss_step=1.31e+7, train_loss_epoch=2.04e+8]"
     ]
    },
    {
     "name": "stdout",
     "output_type": "stream",
     "text": [
      "\r",
      "Epoch 171/500:  34%|███▍      | 170/500 [01:13<02:20,  2.35it/s, v_num=1, train_loss_step=1.31e+7, train_loss_epoch=2.04e+8]"
     ]
    },
    {
     "name": "stdout",
     "output_type": "stream",
     "text": [
      "\r",
      "Epoch 171/500:  34%|███▍      | 171/500 [01:13<02:20,  2.35it/s, v_num=1, train_loss_step=1.31e+7, train_loss_epoch=2.04e+8]"
     ]
    },
    {
     "name": "stdout",
     "output_type": "stream",
     "text": [
      "\r",
      "Epoch 171/500:  34%|███▍      | 171/500 [01:13<02:20,  2.35it/s, v_num=1, train_loss_step=1.15e+7, train_loss_epoch=2.04e+8]"
     ]
    },
    {
     "name": "stdout",
     "output_type": "stream",
     "text": [
      "\r",
      "Epoch 172/500:  34%|███▍      | 171/500 [01:13<02:20,  2.35it/s, v_num=1, train_loss_step=1.15e+7, train_loss_epoch=2.04e+8]"
     ]
    },
    {
     "name": "stdout",
     "output_type": "stream",
     "text": [
      "\r",
      "Epoch 172/500:  34%|███▍      | 172/500 [01:13<02:19,  2.35it/s, v_num=1, train_loss_step=1.15e+7, train_loss_epoch=2.04e+8]"
     ]
    },
    {
     "name": "stdout",
     "output_type": "stream",
     "text": [
      "\r",
      "Epoch 172/500:  34%|███▍      | 172/500 [01:13<02:19,  2.35it/s, v_num=1, train_loss_step=1.18e+7, train_loss_epoch=2.04e+8]"
     ]
    },
    {
     "name": "stdout",
     "output_type": "stream",
     "text": [
      "\r",
      "Epoch 173/500:  34%|███▍      | 172/500 [01:13<02:19,  2.35it/s, v_num=1, train_loss_step=1.18e+7, train_loss_epoch=2.04e+8]"
     ]
    },
    {
     "name": "stdout",
     "output_type": "stream",
     "text": [
      "\r",
      "Epoch 173/500:  35%|███▍      | 173/500 [01:14<02:19,  2.35it/s, v_num=1, train_loss_step=1.18e+7, train_loss_epoch=2.04e+8]"
     ]
    },
    {
     "name": "stdout",
     "output_type": "stream",
     "text": [
      "\r",
      "Epoch 173/500:  35%|███▍      | 173/500 [01:14<02:19,  2.35it/s, v_num=1, train_loss_step=1.08e+7, train_loss_epoch=2.04e+8]"
     ]
    },
    {
     "name": "stdout",
     "output_type": "stream",
     "text": [
      "\r",
      "Epoch 174/500:  35%|███▍      | 173/500 [01:14<02:19,  2.35it/s, v_num=1, train_loss_step=1.08e+7, train_loss_epoch=2.04e+8]"
     ]
    },
    {
     "name": "stdout",
     "output_type": "stream",
     "text": [
      "\r",
      "Epoch 174/500:  35%|███▍      | 174/500 [01:14<02:18,  2.35it/s, v_num=1, train_loss_step=1.08e+7, train_loss_epoch=2.04e+8]"
     ]
    },
    {
     "name": "stdout",
     "output_type": "stream",
     "text": [
      "\r",
      "Epoch 174/500:  35%|███▍      | 174/500 [01:14<02:18,  2.35it/s, v_num=1, train_loss_step=1.24e+7, train_loss_epoch=2.04e+8]"
     ]
    },
    {
     "name": "stdout",
     "output_type": "stream",
     "text": [
      "\r",
      "Epoch 175/500:  35%|███▍      | 174/500 [01:14<02:18,  2.35it/s, v_num=1, train_loss_step=1.24e+7, train_loss_epoch=2.04e+8]"
     ]
    },
    {
     "name": "stdout",
     "output_type": "stream",
     "text": [
      "\r",
      "Epoch 175/500:  35%|███▌      | 175/500 [01:15<02:18,  2.35it/s, v_num=1, train_loss_step=1.24e+7, train_loss_epoch=2.04e+8]"
     ]
    },
    {
     "name": "stdout",
     "output_type": "stream",
     "text": [
      "\r",
      "Epoch 175/500:  35%|███▌      | 175/500 [01:15<02:18,  2.35it/s, v_num=1, train_loss_step=1.27e+7, train_loss_epoch=2.04e+8]"
     ]
    },
    {
     "name": "stdout",
     "output_type": "stream",
     "text": [
      "\r",
      "Epoch 176/500:  35%|███▌      | 175/500 [01:15<02:18,  2.35it/s, v_num=1, train_loss_step=1.27e+7, train_loss_epoch=2.04e+8]"
     ]
    },
    {
     "name": "stdout",
     "output_type": "stream",
     "text": [
      "\r",
      "Epoch 176/500:  35%|███▌      | 176/500 [01:15<02:18,  2.35it/s, v_num=1, train_loss_step=1.27e+7, train_loss_epoch=2.04e+8]"
     ]
    },
    {
     "name": "stdout",
     "output_type": "stream",
     "text": [
      "\r",
      "Epoch 176/500:  35%|███▌      | 176/500 [01:15<02:18,  2.35it/s, v_num=1, train_loss_step=1.25e+7, train_loss_epoch=2.04e+8]"
     ]
    },
    {
     "name": "stdout",
     "output_type": "stream",
     "text": [
      "\r",
      "Epoch 177/500:  35%|███▌      | 176/500 [01:15<02:18,  2.35it/s, v_num=1, train_loss_step=1.25e+7, train_loss_epoch=2.04e+8]"
     ]
    },
    {
     "name": "stdout",
     "output_type": "stream",
     "text": [
      "\r",
      "Epoch 177/500:  35%|███▌      | 177/500 [01:16<02:17,  2.35it/s, v_num=1, train_loss_step=1.25e+7, train_loss_epoch=2.04e+8]"
     ]
    },
    {
     "name": "stdout",
     "output_type": "stream",
     "text": [
      "\r",
      "Epoch 177/500:  35%|███▌      | 177/500 [01:16<02:17,  2.35it/s, v_num=1, train_loss_step=1.17e+7, train_loss_epoch=2.04e+8]"
     ]
    },
    {
     "name": "stdout",
     "output_type": "stream",
     "text": [
      "\r",
      "Epoch 178/500:  35%|███▌      | 177/500 [01:16<02:17,  2.35it/s, v_num=1, train_loss_step=1.17e+7, train_loss_epoch=2.04e+8]"
     ]
    },
    {
     "name": "stdout",
     "output_type": "stream",
     "text": [
      "\r",
      "Epoch 178/500:  36%|███▌      | 178/500 [01:16<02:17,  2.35it/s, v_num=1, train_loss_step=1.17e+7, train_loss_epoch=2.04e+8]"
     ]
    },
    {
     "name": "stdout",
     "output_type": "stream",
     "text": [
      "\r",
      "Epoch 178/500:  36%|███▌      | 178/500 [01:16<02:17,  2.35it/s, v_num=1, train_loss_step=1.15e+7, train_loss_epoch=2.04e+8]"
     ]
    },
    {
     "name": "stdout",
     "output_type": "stream",
     "text": [
      "\r",
      "Epoch 179/500:  36%|███▌      | 178/500 [01:16<02:17,  2.35it/s, v_num=1, train_loss_step=1.15e+7, train_loss_epoch=2.04e+8]"
     ]
    },
    {
     "name": "stdout",
     "output_type": "stream",
     "text": [
      "\r",
      "Epoch 179/500:  36%|███▌      | 179/500 [01:16<02:16,  2.35it/s, v_num=1, train_loss_step=1.15e+7, train_loss_epoch=2.04e+8]"
     ]
    },
    {
     "name": "stdout",
     "output_type": "stream",
     "text": [
      "\r",
      "Epoch 179/500:  36%|███▌      | 179/500 [01:16<02:16,  2.35it/s, v_num=1, train_loss_step=1.25e+7, train_loss_epoch=2.04e+8]"
     ]
    },
    {
     "name": "stdout",
     "output_type": "stream",
     "text": [
      "\r",
      "Epoch 180/500:  36%|███▌      | 179/500 [01:16<02:16,  2.35it/s, v_num=1, train_loss_step=1.25e+7, train_loss_epoch=2.04e+8]"
     ]
    },
    {
     "name": "stdout",
     "output_type": "stream",
     "text": [
      "\r",
      "Epoch 180/500:  36%|███▌      | 180/500 [01:17<02:16,  2.35it/s, v_num=1, train_loss_step=1.25e+7, train_loss_epoch=2.04e+8]"
     ]
    },
    {
     "name": "stdout",
     "output_type": "stream",
     "text": [
      "\r",
      "Epoch 180/500:  36%|███▌      | 180/500 [01:17<02:16,  2.35it/s, v_num=1, train_loss_step=1.23e+7, train_loss_epoch=2.04e+8]"
     ]
    },
    {
     "name": "stdout",
     "output_type": "stream",
     "text": [
      "\r",
      "Epoch 181/500:  36%|███▌      | 180/500 [01:17<02:16,  2.35it/s, v_num=1, train_loss_step=1.23e+7, train_loss_epoch=2.04e+8]"
     ]
    },
    {
     "name": "stdout",
     "output_type": "stream",
     "text": [
      "\r",
      "Epoch 181/500:  36%|███▌      | 181/500 [01:17<02:16,  2.34it/s, v_num=1, train_loss_step=1.23e+7, train_loss_epoch=2.04e+8]"
     ]
    },
    {
     "name": "stdout",
     "output_type": "stream",
     "text": [
      "\r",
      "Epoch 181/500:  36%|███▌      | 181/500 [01:17<02:16,  2.34it/s, v_num=1, train_loss_step=1.2e+7, train_loss_epoch=2.04e+8] "
     ]
    },
    {
     "name": "stdout",
     "output_type": "stream",
     "text": [
      "\r",
      "Epoch 182/500:  36%|███▌      | 181/500 [01:17<02:16,  2.34it/s, v_num=1, train_loss_step=1.2e+7, train_loss_epoch=2.04e+8]"
     ]
    },
    {
     "name": "stdout",
     "output_type": "stream",
     "text": [
      "\r",
      "Epoch 182/500:  36%|███▋      | 182/500 [01:18<02:15,  2.34it/s, v_num=1, train_loss_step=1.2e+7, train_loss_epoch=2.04e+8]"
     ]
    },
    {
     "name": "stdout",
     "output_type": "stream",
     "text": [
      "\r",
      "Epoch 182/500:  36%|███▋      | 182/500 [01:18<02:15,  2.34it/s, v_num=1, train_loss_step=1.14e+7, train_loss_epoch=2.04e+8]"
     ]
    },
    {
     "name": "stdout",
     "output_type": "stream",
     "text": [
      "\r",
      "Epoch 183/500:  36%|███▋      | 182/500 [01:18<02:15,  2.34it/s, v_num=1, train_loss_step=1.14e+7, train_loss_epoch=2.04e+8]"
     ]
    },
    {
     "name": "stdout",
     "output_type": "stream",
     "text": [
      "\r",
      "Epoch 183/500:  37%|███▋      | 183/500 [01:18<02:15,  2.35it/s, v_num=1, train_loss_step=1.14e+7, train_loss_epoch=2.04e+8]"
     ]
    },
    {
     "name": "stdout",
     "output_type": "stream",
     "text": [
      "\r",
      "Epoch 183/500:  37%|███▋      | 183/500 [01:18<02:15,  2.35it/s, v_num=1, train_loss_step=1.22e+7, train_loss_epoch=2.04e+8]"
     ]
    },
    {
     "name": "stdout",
     "output_type": "stream",
     "text": [
      "\r",
      "Epoch 184/500:  37%|███▋      | 183/500 [01:18<02:15,  2.35it/s, v_num=1, train_loss_step=1.22e+7, train_loss_epoch=2.04e+8]"
     ]
    },
    {
     "name": "stdout",
     "output_type": "stream",
     "text": [
      "\r",
      "Epoch 184/500:  37%|███▋      | 184/500 [01:19<02:14,  2.35it/s, v_num=1, train_loss_step=1.22e+7, train_loss_epoch=2.04e+8]"
     ]
    },
    {
     "name": "stdout",
     "output_type": "stream",
     "text": [
      "\r",
      "Epoch 184/500:  37%|███▋      | 184/500 [01:19<02:14,  2.35it/s, v_num=1, train_loss_step=1.23e+7, train_loss_epoch=2.04e+8]"
     ]
    },
    {
     "name": "stdout",
     "output_type": "stream",
     "text": [
      "\r",
      "Epoch 185/500:  37%|███▋      | 184/500 [01:19<02:14,  2.35it/s, v_num=1, train_loss_step=1.23e+7, train_loss_epoch=2.04e+8]"
     ]
    },
    {
     "name": "stdout",
     "output_type": "stream",
     "text": [
      "\r",
      "Epoch 185/500:  37%|███▋      | 185/500 [01:19<02:14,  2.34it/s, v_num=1, train_loss_step=1.23e+7, train_loss_epoch=2.04e+8]"
     ]
    },
    {
     "name": "stdout",
     "output_type": "stream",
     "text": [
      "\r",
      "Epoch 185/500:  37%|███▋      | 185/500 [01:19<02:14,  2.34it/s, v_num=1, train_loss_step=1.2e+7, train_loss_epoch=2.04e+8] "
     ]
    },
    {
     "name": "stdout",
     "output_type": "stream",
     "text": [
      "\r",
      "Epoch 186/500:  37%|███▋      | 185/500 [01:19<02:14,  2.34it/s, v_num=1, train_loss_step=1.2e+7, train_loss_epoch=2.04e+8]"
     ]
    },
    {
     "name": "stdout",
     "output_type": "stream",
     "text": [
      "\r",
      "Epoch 186/500:  37%|███▋      | 186/500 [01:19<02:13,  2.34it/s, v_num=1, train_loss_step=1.2e+7, train_loss_epoch=2.04e+8]"
     ]
    },
    {
     "name": "stdout",
     "output_type": "stream",
     "text": [
      "\r",
      "Epoch 186/500:  37%|███▋      | 186/500 [01:19<02:13,  2.34it/s, v_num=1, train_loss_step=1.19e+7, train_loss_epoch=2.04e+8]"
     ]
    },
    {
     "name": "stdout",
     "output_type": "stream",
     "text": [
      "\r",
      "Epoch 187/500:  37%|███▋      | 186/500 [01:19<02:13,  2.34it/s, v_num=1, train_loss_step=1.19e+7, train_loss_epoch=2.04e+8]"
     ]
    },
    {
     "name": "stdout",
     "output_type": "stream",
     "text": [
      "\r",
      "Epoch 187/500:  37%|███▋      | 187/500 [01:20<02:13,  2.34it/s, v_num=1, train_loss_step=1.19e+7, train_loss_epoch=2.04e+8]"
     ]
    },
    {
     "name": "stdout",
     "output_type": "stream",
     "text": [
      "\r",
      "Epoch 187/500:  37%|███▋      | 187/500 [01:20<02:13,  2.34it/s, v_num=1, train_loss_step=1.2e+7, train_loss_epoch=2.04e+8] "
     ]
    },
    {
     "name": "stdout",
     "output_type": "stream",
     "text": [
      "\r",
      "Epoch 188/500:  37%|███▋      | 187/500 [01:20<02:13,  2.34it/s, v_num=1, train_loss_step=1.2e+7, train_loss_epoch=2.04e+8]"
     ]
    },
    {
     "name": "stdout",
     "output_type": "stream",
     "text": [
      "\r",
      "Epoch 188/500:  38%|███▊      | 188/500 [01:20<02:13,  2.35it/s, v_num=1, train_loss_step=1.2e+7, train_loss_epoch=2.04e+8]"
     ]
    },
    {
     "name": "stdout",
     "output_type": "stream",
     "text": [
      "\r",
      "Epoch 188/500:  38%|███▊      | 188/500 [01:20<02:13,  2.35it/s, v_num=1, train_loss_step=1.17e+7, train_loss_epoch=2.04e+8]"
     ]
    },
    {
     "name": "stdout",
     "output_type": "stream",
     "text": [
      "\r",
      "Epoch 189/500:  38%|███▊      | 188/500 [01:20<02:13,  2.35it/s, v_num=1, train_loss_step=1.17e+7, train_loss_epoch=2.04e+8]"
     ]
    },
    {
     "name": "stdout",
     "output_type": "stream",
     "text": [
      "\r",
      "Epoch 189/500:  38%|███▊      | 189/500 [01:21<02:12,  2.35it/s, v_num=1, train_loss_step=1.17e+7, train_loss_epoch=2.04e+8]"
     ]
    },
    {
     "name": "stdout",
     "output_type": "stream",
     "text": [
      "\r",
      "Epoch 189/500:  38%|███▊      | 189/500 [01:21<02:12,  2.35it/s, v_num=1, train_loss_step=1.19e+7, train_loss_epoch=2.03e+8]"
     ]
    },
    {
     "name": "stdout",
     "output_type": "stream",
     "text": [
      "\r",
      "Epoch 190/500:  38%|███▊      | 189/500 [01:21<02:12,  2.35it/s, v_num=1, train_loss_step=1.19e+7, train_loss_epoch=2.03e+8]"
     ]
    },
    {
     "name": "stdout",
     "output_type": "stream",
     "text": [
      "\r",
      "Epoch 190/500:  38%|███▊      | 190/500 [01:21<02:12,  2.35it/s, v_num=1, train_loss_step=1.19e+7, train_loss_epoch=2.03e+8]"
     ]
    },
    {
     "name": "stdout",
     "output_type": "stream",
     "text": [
      "\r",
      "Epoch 190/500:  38%|███▊      | 190/500 [01:21<02:12,  2.35it/s, v_num=1, train_loss_step=1.23e+7, train_loss_epoch=2.03e+8]"
     ]
    },
    {
     "name": "stdout",
     "output_type": "stream",
     "text": [
      "\r",
      "Epoch 191/500:  38%|███▊      | 190/500 [01:21<02:12,  2.35it/s, v_num=1, train_loss_step=1.23e+7, train_loss_epoch=2.03e+8]"
     ]
    },
    {
     "name": "stdout",
     "output_type": "stream",
     "text": [
      "\r",
      "Epoch 191/500:  38%|███▊      | 191/500 [01:22<02:11,  2.35it/s, v_num=1, train_loss_step=1.23e+7, train_loss_epoch=2.03e+8]"
     ]
    },
    {
     "name": "stdout",
     "output_type": "stream",
     "text": [
      "\r",
      "Epoch 191/500:  38%|███▊      | 191/500 [01:22<02:11,  2.35it/s, v_num=1, train_loss_step=1.2e+7, train_loss_epoch=2.03e+8] "
     ]
    },
    {
     "name": "stdout",
     "output_type": "stream",
     "text": [
      "\r",
      "Epoch 192/500:  38%|███▊      | 191/500 [01:22<02:11,  2.35it/s, v_num=1, train_loss_step=1.2e+7, train_loss_epoch=2.03e+8]"
     ]
    },
    {
     "name": "stdout",
     "output_type": "stream",
     "text": [
      "\r",
      "Epoch 192/500:  38%|███▊      | 192/500 [01:22<02:11,  2.35it/s, v_num=1, train_loss_step=1.2e+7, train_loss_epoch=2.03e+8]"
     ]
    },
    {
     "name": "stdout",
     "output_type": "stream",
     "text": [
      "\r",
      "Epoch 192/500:  38%|███▊      | 192/500 [01:22<02:11,  2.35it/s, v_num=1, train_loss_step=1.14e+7, train_loss_epoch=2.03e+8]"
     ]
    },
    {
     "name": "stdout",
     "output_type": "stream",
     "text": [
      "\r",
      "Epoch 193/500:  38%|███▊      | 192/500 [01:22<02:11,  2.35it/s, v_num=1, train_loss_step=1.14e+7, train_loss_epoch=2.03e+8]"
     ]
    },
    {
     "name": "stdout",
     "output_type": "stream",
     "text": [
      "\r",
      "Epoch 193/500:  39%|███▊      | 193/500 [01:22<02:10,  2.35it/s, v_num=1, train_loss_step=1.14e+7, train_loss_epoch=2.03e+8]"
     ]
    },
    {
     "name": "stdout",
     "output_type": "stream",
     "text": [
      "\r",
      "Epoch 193/500:  39%|███▊      | 193/500 [01:22<02:10,  2.35it/s, v_num=1, train_loss_step=1.21e+7, train_loss_epoch=2.03e+8]"
     ]
    },
    {
     "name": "stdout",
     "output_type": "stream",
     "text": [
      "\r",
      "Epoch 194/500:  39%|███▊      | 193/500 [01:22<02:10,  2.35it/s, v_num=1, train_loss_step=1.21e+7, train_loss_epoch=2.03e+8]"
     ]
    },
    {
     "name": "stdout",
     "output_type": "stream",
     "text": [
      "\r",
      "Epoch 194/500:  39%|███▉      | 194/500 [01:23<02:10,  2.35it/s, v_num=1, train_loss_step=1.21e+7, train_loss_epoch=2.03e+8]"
     ]
    },
    {
     "name": "stdout",
     "output_type": "stream",
     "text": [
      "\r",
      "Epoch 194/500:  39%|███▉      | 194/500 [01:23<02:10,  2.35it/s, v_num=1, train_loss_step=1.18e+7, train_loss_epoch=2.03e+8]"
     ]
    },
    {
     "name": "stdout",
     "output_type": "stream",
     "text": [
      "\r",
      "Epoch 195/500:  39%|███▉      | 194/500 [01:23<02:10,  2.35it/s, v_num=1, train_loss_step=1.18e+7, train_loss_epoch=2.03e+8]"
     ]
    },
    {
     "name": "stdout",
     "output_type": "stream",
     "text": [
      "\r",
      "Epoch 195/500:  39%|███▉      | 195/500 [01:23<02:10,  2.34it/s, v_num=1, train_loss_step=1.18e+7, train_loss_epoch=2.03e+8]"
     ]
    },
    {
     "name": "stdout",
     "output_type": "stream",
     "text": [
      "\r",
      "Epoch 195/500:  39%|███▉      | 195/500 [01:23<02:10,  2.34it/s, v_num=1, train_loss_step=1.26e+7, train_loss_epoch=2.03e+8]"
     ]
    },
    {
     "name": "stdout",
     "output_type": "stream",
     "text": [
      "\r",
      "Epoch 196/500:  39%|███▉      | 195/500 [01:23<02:10,  2.34it/s, v_num=1, train_loss_step=1.26e+7, train_loss_epoch=2.03e+8]"
     ]
    },
    {
     "name": "stdout",
     "output_type": "stream",
     "text": [
      "\r",
      "Epoch 196/500:  39%|███▉      | 196/500 [01:24<02:09,  2.34it/s, v_num=1, train_loss_step=1.26e+7, train_loss_epoch=2.03e+8]"
     ]
    },
    {
     "name": "stdout",
     "output_type": "stream",
     "text": [
      "\r",
      "Epoch 196/500:  39%|███▉      | 196/500 [01:24<02:09,  2.34it/s, v_num=1, train_loss_step=1.15e+7, train_loss_epoch=2.03e+8]"
     ]
    },
    {
     "name": "stdout",
     "output_type": "stream",
     "text": [
      "\r",
      "Epoch 197/500:  39%|███▉      | 196/500 [01:24<02:09,  2.34it/s, v_num=1, train_loss_step=1.15e+7, train_loss_epoch=2.03e+8]"
     ]
    },
    {
     "name": "stdout",
     "output_type": "stream",
     "text": [
      "\r",
      "Epoch 197/500:  39%|███▉      | 197/500 [01:24<02:09,  2.34it/s, v_num=1, train_loss_step=1.15e+7, train_loss_epoch=2.03e+8]"
     ]
    },
    {
     "name": "stdout",
     "output_type": "stream",
     "text": [
      "\r",
      "Epoch 197/500:  39%|███▉      | 197/500 [01:24<02:09,  2.34it/s, v_num=1, train_loss_step=1.11e+7, train_loss_epoch=2.03e+8]"
     ]
    },
    {
     "name": "stdout",
     "output_type": "stream",
     "text": [
      "\r",
      "Epoch 198/500:  39%|███▉      | 197/500 [01:24<02:09,  2.34it/s, v_num=1, train_loss_step=1.11e+7, train_loss_epoch=2.03e+8]"
     ]
    },
    {
     "name": "stdout",
     "output_type": "stream",
     "text": [
      "\r",
      "Epoch 198/500:  40%|███▉      | 198/500 [01:25<02:08,  2.34it/s, v_num=1, train_loss_step=1.11e+7, train_loss_epoch=2.03e+8]"
     ]
    },
    {
     "name": "stdout",
     "output_type": "stream",
     "text": [
      "\r",
      "Epoch 198/500:  40%|███▉      | 198/500 [01:25<02:08,  2.34it/s, v_num=1, train_loss_step=1.25e+7, train_loss_epoch=2.03e+8]"
     ]
    },
    {
     "name": "stdout",
     "output_type": "stream",
     "text": [
      "\r",
      "Epoch 199/500:  40%|███▉      | 198/500 [01:25<02:08,  2.34it/s, v_num=1, train_loss_step=1.25e+7, train_loss_epoch=2.03e+8]"
     ]
    },
    {
     "name": "stdout",
     "output_type": "stream",
     "text": [
      "\r",
      "Epoch 199/500:  40%|███▉      | 199/500 [01:25<02:08,  2.34it/s, v_num=1, train_loss_step=1.25e+7, train_loss_epoch=2.03e+8]"
     ]
    },
    {
     "name": "stdout",
     "output_type": "stream",
     "text": [
      "\r",
      "Epoch 199/500:  40%|███▉      | 199/500 [01:25<02:08,  2.34it/s, v_num=1, train_loss_step=1.22e+7, train_loss_epoch=2.03e+8]"
     ]
    },
    {
     "name": "stdout",
     "output_type": "stream",
     "text": [
      "\r",
      "Epoch 200/500:  40%|███▉      | 199/500 [01:25<02:08,  2.34it/s, v_num=1, train_loss_step=1.22e+7, train_loss_epoch=2.03e+8]"
     ]
    },
    {
     "name": "stdout",
     "output_type": "stream",
     "text": [
      "\r",
      "Epoch 200/500:  40%|████      | 200/500 [01:25<02:08,  2.34it/s, v_num=1, train_loss_step=1.22e+7, train_loss_epoch=2.03e+8]"
     ]
    },
    {
     "name": "stdout",
     "output_type": "stream",
     "text": [
      "\r",
      "Epoch 200/500:  40%|████      | 200/500 [01:25<02:08,  2.34it/s, v_num=1, train_loss_step=1.24e+7, train_loss_epoch=2.03e+8]"
     ]
    },
    {
     "name": "stdout",
     "output_type": "stream",
     "text": [
      "\r",
      "Epoch 201/500:  40%|████      | 200/500 [01:25<02:08,  2.34it/s, v_num=1, train_loss_step=1.24e+7, train_loss_epoch=2.03e+8]"
     ]
    },
    {
     "name": "stdout",
     "output_type": "stream",
     "text": [
      "\r",
      "Epoch 201/500:  40%|████      | 201/500 [01:26<02:07,  2.34it/s, v_num=1, train_loss_step=1.24e+7, train_loss_epoch=2.03e+8]"
     ]
    },
    {
     "name": "stdout",
     "output_type": "stream",
     "text": [
      "\r",
      "Epoch 201/500:  40%|████      | 201/500 [01:26<02:07,  2.34it/s, v_num=1, train_loss_step=1.16e+7, train_loss_epoch=2.03e+8]"
     ]
    },
    {
     "name": "stdout",
     "output_type": "stream",
     "text": [
      "\r",
      "Epoch 202/500:  40%|████      | 201/500 [01:26<02:07,  2.34it/s, v_num=1, train_loss_step=1.16e+7, train_loss_epoch=2.03e+8]"
     ]
    },
    {
     "name": "stdout",
     "output_type": "stream",
     "text": [
      "\r",
      "Epoch 202/500:  40%|████      | 202/500 [01:26<02:07,  2.34it/s, v_num=1, train_loss_step=1.16e+7, train_loss_epoch=2.03e+8]"
     ]
    },
    {
     "name": "stdout",
     "output_type": "stream",
     "text": [
      "\r",
      "Epoch 202/500:  40%|████      | 202/500 [01:26<02:07,  2.34it/s, v_num=1, train_loss_step=1.18e+7, train_loss_epoch=2.03e+8]"
     ]
    },
    {
     "name": "stdout",
     "output_type": "stream",
     "text": [
      "\r",
      "Epoch 203/500:  40%|████      | 202/500 [01:26<02:07,  2.34it/s, v_num=1, train_loss_step=1.18e+7, train_loss_epoch=2.03e+8]"
     ]
    },
    {
     "name": "stdout",
     "output_type": "stream",
     "text": [
      "\r",
      "Epoch 203/500:  41%|████      | 203/500 [01:27<02:06,  2.35it/s, v_num=1, train_loss_step=1.18e+7, train_loss_epoch=2.03e+8]"
     ]
    },
    {
     "name": "stdout",
     "output_type": "stream",
     "text": [
      "\r",
      "Epoch 203/500:  41%|████      | 203/500 [01:27<02:06,  2.35it/s, v_num=1, train_loss_step=1.24e+7, train_loss_epoch=2.03e+8]"
     ]
    },
    {
     "name": "stdout",
     "output_type": "stream",
     "text": [
      "\r",
      "Epoch 204/500:  41%|████      | 203/500 [01:27<02:06,  2.35it/s, v_num=1, train_loss_step=1.24e+7, train_loss_epoch=2.03e+8]"
     ]
    },
    {
     "name": "stdout",
     "output_type": "stream",
     "text": [
      "\r",
      "Epoch 204/500:  41%|████      | 204/500 [01:27<02:06,  2.35it/s, v_num=1, train_loss_step=1.24e+7, train_loss_epoch=2.03e+8]"
     ]
    },
    {
     "name": "stdout",
     "output_type": "stream",
     "text": [
      "\r",
      "Epoch 204/500:  41%|████      | 204/500 [01:27<02:06,  2.35it/s, v_num=1, train_loss_step=1.21e+7, train_loss_epoch=2.03e+8]"
     ]
    },
    {
     "name": "stdout",
     "output_type": "stream",
     "text": [
      "\r",
      "Epoch 205/500:  41%|████      | 204/500 [01:27<02:06,  2.35it/s, v_num=1, train_loss_step=1.21e+7, train_loss_epoch=2.03e+8]"
     ]
    },
    {
     "name": "stdout",
     "output_type": "stream",
     "text": [
      "\r",
      "Epoch 205/500:  41%|████      | 205/500 [01:28<02:05,  2.35it/s, v_num=1, train_loss_step=1.21e+7, train_loss_epoch=2.03e+8]"
     ]
    },
    {
     "name": "stdout",
     "output_type": "stream",
     "text": [
      "\r",
      "Epoch 205/500:  41%|████      | 205/500 [01:28<02:05,  2.35it/s, v_num=1, train_loss_step=1.26e+7, train_loss_epoch=2.03e+8]"
     ]
    },
    {
     "name": "stdout",
     "output_type": "stream",
     "text": [
      "\r",
      "Epoch 206/500:  41%|████      | 205/500 [01:28<02:05,  2.35it/s, v_num=1, train_loss_step=1.26e+7, train_loss_epoch=2.03e+8]"
     ]
    },
    {
     "name": "stdout",
     "output_type": "stream",
     "text": [
      "\r",
      "Epoch 206/500:  41%|████      | 206/500 [01:28<02:05,  2.35it/s, v_num=1, train_loss_step=1.26e+7, train_loss_epoch=2.03e+8]"
     ]
    },
    {
     "name": "stdout",
     "output_type": "stream",
     "text": [
      "\r",
      "Epoch 206/500:  41%|████      | 206/500 [01:28<02:05,  2.35it/s, v_num=1, train_loss_step=1.22e+7, train_loss_epoch=2.03e+8]"
     ]
    },
    {
     "name": "stdout",
     "output_type": "stream",
     "text": [
      "\r",
      "Epoch 207/500:  41%|████      | 206/500 [01:28<02:05,  2.35it/s, v_num=1, train_loss_step=1.22e+7, train_loss_epoch=2.03e+8]"
     ]
    },
    {
     "name": "stdout",
     "output_type": "stream",
     "text": [
      "\r",
      "Epoch 207/500:  41%|████▏     | 207/500 [01:28<02:04,  2.35it/s, v_num=1, train_loss_step=1.22e+7, train_loss_epoch=2.03e+8]"
     ]
    },
    {
     "name": "stdout",
     "output_type": "stream",
     "text": [
      "\r",
      "Epoch 207/500:  41%|████▏     | 207/500 [01:28<02:04,  2.35it/s, v_num=1, train_loss_step=1.22e+7, train_loss_epoch=2.03e+8]"
     ]
    },
    {
     "name": "stdout",
     "output_type": "stream",
     "text": [
      "\r",
      "Epoch 208/500:  41%|████▏     | 207/500 [01:28<02:04,  2.35it/s, v_num=1, train_loss_step=1.22e+7, train_loss_epoch=2.03e+8]"
     ]
    },
    {
     "name": "stdout",
     "output_type": "stream",
     "text": [
      "\r",
      "Epoch 208/500:  42%|████▏     | 208/500 [01:29<02:04,  2.35it/s, v_num=1, train_loss_step=1.22e+7, train_loss_epoch=2.03e+8]"
     ]
    },
    {
     "name": "stdout",
     "output_type": "stream",
     "text": [
      "\r",
      "Epoch 208/500:  42%|████▏     | 208/500 [01:29<02:04,  2.35it/s, v_num=1, train_loss_step=1.18e+7, train_loss_epoch=2.03e+8]"
     ]
    },
    {
     "name": "stdout",
     "output_type": "stream",
     "text": [
      "\r",
      "Epoch 209/500:  42%|████▏     | 208/500 [01:29<02:04,  2.35it/s, v_num=1, train_loss_step=1.18e+7, train_loss_epoch=2.03e+8]"
     ]
    },
    {
     "name": "stdout",
     "output_type": "stream",
     "text": [
      "\r",
      "Epoch 209/500:  42%|████▏     | 209/500 [01:29<02:04,  2.35it/s, v_num=1, train_loss_step=1.18e+7, train_loss_epoch=2.03e+8]"
     ]
    },
    {
     "name": "stdout",
     "output_type": "stream",
     "text": [
      "\r",
      "Epoch 209/500:  42%|████▏     | 209/500 [01:29<02:04,  2.35it/s, v_num=1, train_loss_step=1.24e+7, train_loss_epoch=2.03e+8]"
     ]
    },
    {
     "name": "stdout",
     "output_type": "stream",
     "text": [
      "\r",
      "Epoch 210/500:  42%|████▏     | 209/500 [01:29<02:04,  2.35it/s, v_num=1, train_loss_step=1.24e+7, train_loss_epoch=2.03e+8]"
     ]
    },
    {
     "name": "stdout",
     "output_type": "stream",
     "text": [
      "\r",
      "Epoch 210/500:  42%|████▏     | 210/500 [01:30<02:03,  2.35it/s, v_num=1, train_loss_step=1.24e+7, train_loss_epoch=2.03e+8]"
     ]
    },
    {
     "name": "stdout",
     "output_type": "stream",
     "text": [
      "\r",
      "Epoch 210/500:  42%|████▏     | 210/500 [01:30<02:03,  2.35it/s, v_num=1, train_loss_step=1.17e+7, train_loss_epoch=2.03e+8]"
     ]
    },
    {
     "name": "stdout",
     "output_type": "stream",
     "text": [
      "\r",
      "Epoch 211/500:  42%|████▏     | 210/500 [01:30<02:03,  2.35it/s, v_num=1, train_loss_step=1.17e+7, train_loss_epoch=2.03e+8]"
     ]
    },
    {
     "name": "stdout",
     "output_type": "stream",
     "text": [
      "\r",
      "Epoch 211/500:  42%|████▏     | 211/500 [01:30<02:03,  2.35it/s, v_num=1, train_loss_step=1.17e+7, train_loss_epoch=2.03e+8]"
     ]
    },
    {
     "name": "stdout",
     "output_type": "stream",
     "text": [
      "\r",
      "Epoch 211/500:  42%|████▏     | 211/500 [01:30<02:03,  2.35it/s, v_num=1, train_loss_step=1.17e+7, train_loss_epoch=2.03e+8]"
     ]
    },
    {
     "name": "stdout",
     "output_type": "stream",
     "text": [
      "\r",
      "Epoch 212/500:  42%|████▏     | 211/500 [01:30<02:03,  2.35it/s, v_num=1, train_loss_step=1.17e+7, train_loss_epoch=2.03e+8]"
     ]
    },
    {
     "name": "stdout",
     "output_type": "stream",
     "text": [
      "\r",
      "Epoch 212/500:  42%|████▏     | 212/500 [01:31<02:02,  2.35it/s, v_num=1, train_loss_step=1.17e+7, train_loss_epoch=2.03e+8]"
     ]
    },
    {
     "name": "stdout",
     "output_type": "stream",
     "text": [
      "\r",
      "Epoch 212/500:  42%|████▏     | 212/500 [01:31<02:02,  2.35it/s, v_num=1, train_loss_step=1.28e+7, train_loss_epoch=2.03e+8]"
     ]
    },
    {
     "name": "stdout",
     "output_type": "stream",
     "text": [
      "\r",
      "Epoch 213/500:  42%|████▏     | 212/500 [01:31<02:02,  2.35it/s, v_num=1, train_loss_step=1.28e+7, train_loss_epoch=2.03e+8]"
     ]
    },
    {
     "name": "stdout",
     "output_type": "stream",
     "text": [
      "\r",
      "Epoch 213/500:  43%|████▎     | 213/500 [01:31<02:02,  2.35it/s, v_num=1, train_loss_step=1.28e+7, train_loss_epoch=2.03e+8]"
     ]
    },
    {
     "name": "stdout",
     "output_type": "stream",
     "text": [
      "\r",
      "Epoch 213/500:  43%|████▎     | 213/500 [01:31<02:02,  2.35it/s, v_num=1, train_loss_step=1.29e+7, train_loss_epoch=2.03e+8]"
     ]
    },
    {
     "name": "stdout",
     "output_type": "stream",
     "text": [
      "\r",
      "Epoch 214/500:  43%|████▎     | 213/500 [01:31<02:02,  2.35it/s, v_num=1, train_loss_step=1.29e+7, train_loss_epoch=2.03e+8]"
     ]
    },
    {
     "name": "stdout",
     "output_type": "stream",
     "text": [
      "\r",
      "Epoch 214/500:  43%|████▎     | 214/500 [01:31<02:01,  2.35it/s, v_num=1, train_loss_step=1.29e+7, train_loss_epoch=2.03e+8]"
     ]
    },
    {
     "name": "stdout",
     "output_type": "stream",
     "text": [
      "\r",
      "Epoch 214/500:  43%|████▎     | 214/500 [01:31<02:01,  2.35it/s, v_num=1, train_loss_step=1.2e+7, train_loss_epoch=2.03e+8] "
     ]
    },
    {
     "name": "stdout",
     "output_type": "stream",
     "text": [
      "\r",
      "Epoch 215/500:  43%|████▎     | 214/500 [01:31<02:01,  2.35it/s, v_num=1, train_loss_step=1.2e+7, train_loss_epoch=2.03e+8]"
     ]
    },
    {
     "name": "stdout",
     "output_type": "stream",
     "text": [
      "\r",
      "Epoch 215/500:  43%|████▎     | 215/500 [01:32<02:01,  2.35it/s, v_num=1, train_loss_step=1.2e+7, train_loss_epoch=2.03e+8]"
     ]
    },
    {
     "name": "stdout",
     "output_type": "stream",
     "text": [
      "\r",
      "Epoch 215/500:  43%|████▎     | 215/500 [01:32<02:01,  2.35it/s, v_num=1, train_loss_step=1.15e+7, train_loss_epoch=2.03e+8]"
     ]
    },
    {
     "name": "stdout",
     "output_type": "stream",
     "text": [
      "\r",
      "Epoch 216/500:  43%|████▎     | 215/500 [01:32<02:01,  2.35it/s, v_num=1, train_loss_step=1.15e+7, train_loss_epoch=2.03e+8]"
     ]
    },
    {
     "name": "stdout",
     "output_type": "stream",
     "text": [
      "\r",
      "Epoch 216/500:  43%|████▎     | 216/500 [01:32<02:01,  2.35it/s, v_num=1, train_loss_step=1.15e+7, train_loss_epoch=2.03e+8]"
     ]
    },
    {
     "name": "stdout",
     "output_type": "stream",
     "text": [
      "\r",
      "Epoch 216/500:  43%|████▎     | 216/500 [01:32<02:01,  2.35it/s, v_num=1, train_loss_step=1.17e+7, train_loss_epoch=2.03e+8]"
     ]
    },
    {
     "name": "stdout",
     "output_type": "stream",
     "text": [
      "\r",
      "Epoch 217/500:  43%|████▎     | 216/500 [01:32<02:01,  2.35it/s, v_num=1, train_loss_step=1.17e+7, train_loss_epoch=2.03e+8]"
     ]
    },
    {
     "name": "stdout",
     "output_type": "stream",
     "text": [
      "\r",
      "Epoch 217/500:  43%|████▎     | 217/500 [01:33<02:00,  2.35it/s, v_num=1, train_loss_step=1.17e+7, train_loss_epoch=2.03e+8]"
     ]
    },
    {
     "name": "stdout",
     "output_type": "stream",
     "text": [
      "\r",
      "Epoch 217/500:  43%|████▎     | 217/500 [01:33<02:00,  2.35it/s, v_num=1, train_loss_step=1.17e+7, train_loss_epoch=2.03e+8]"
     ]
    },
    {
     "name": "stdout",
     "output_type": "stream",
     "text": [
      "\r",
      "Epoch 218/500:  43%|████▎     | 217/500 [01:33<02:00,  2.35it/s, v_num=1, train_loss_step=1.17e+7, train_loss_epoch=2.03e+8]"
     ]
    },
    {
     "name": "stdout",
     "output_type": "stream",
     "text": [
      "\r",
      "Epoch 218/500:  44%|████▎     | 218/500 [01:33<02:00,  2.35it/s, v_num=1, train_loss_step=1.17e+7, train_loss_epoch=2.03e+8]"
     ]
    },
    {
     "name": "stdout",
     "output_type": "stream",
     "text": [
      "\r",
      "Epoch 218/500:  44%|████▎     | 218/500 [01:33<02:00,  2.35it/s, v_num=1, train_loss_step=1.22e+7, train_loss_epoch=2.03e+8]"
     ]
    },
    {
     "name": "stdout",
     "output_type": "stream",
     "text": [
      "\r",
      "Epoch 219/500:  44%|████▎     | 218/500 [01:33<02:00,  2.35it/s, v_num=1, train_loss_step=1.22e+7, train_loss_epoch=2.03e+8]"
     ]
    },
    {
     "name": "stdout",
     "output_type": "stream",
     "text": [
      "\r",
      "Epoch 219/500:  44%|████▍     | 219/500 [01:34<01:59,  2.35it/s, v_num=1, train_loss_step=1.22e+7, train_loss_epoch=2.03e+8]"
     ]
    },
    {
     "name": "stdout",
     "output_type": "stream",
     "text": [
      "\r",
      "Epoch 219/500:  44%|████▍     | 219/500 [01:34<01:59,  2.35it/s, v_num=1, train_loss_step=1.16e+7, train_loss_epoch=2.03e+8]"
     ]
    },
    {
     "name": "stdout",
     "output_type": "stream",
     "text": [
      "\r",
      "Epoch 220/500:  44%|████▍     | 219/500 [01:34<01:59,  2.35it/s, v_num=1, train_loss_step=1.16e+7, train_loss_epoch=2.03e+8]"
     ]
    },
    {
     "name": "stdout",
     "output_type": "stream",
     "text": [
      "\r",
      "Epoch 220/500:  44%|████▍     | 220/500 [01:34<01:59,  2.35it/s, v_num=1, train_loss_step=1.16e+7, train_loss_epoch=2.03e+8]"
     ]
    },
    {
     "name": "stdout",
     "output_type": "stream",
     "text": [
      "\r",
      "Epoch 220/500:  44%|████▍     | 220/500 [01:34<01:59,  2.35it/s, v_num=1, train_loss_step=1.18e+7, train_loss_epoch=2.03e+8]"
     ]
    },
    {
     "name": "stdout",
     "output_type": "stream",
     "text": [
      "\r",
      "Epoch 221/500:  44%|████▍     | 220/500 [01:34<01:59,  2.35it/s, v_num=1, train_loss_step=1.18e+7, train_loss_epoch=2.03e+8]"
     ]
    },
    {
     "name": "stdout",
     "output_type": "stream",
     "text": [
      "\r",
      "Epoch 221/500:  44%|████▍     | 221/500 [01:34<01:58,  2.35it/s, v_num=1, train_loss_step=1.18e+7, train_loss_epoch=2.03e+8]"
     ]
    },
    {
     "name": "stdout",
     "output_type": "stream",
     "text": [
      "\r",
      "Epoch 221/500:  44%|████▍     | 221/500 [01:34<01:58,  2.35it/s, v_num=1, train_loss_step=1.18e+7, train_loss_epoch=2.02e+8]"
     ]
    },
    {
     "name": "stdout",
     "output_type": "stream",
     "text": [
      "\r",
      "Epoch 222/500:  44%|████▍     | 221/500 [01:34<01:58,  2.35it/s, v_num=1, train_loss_step=1.18e+7, train_loss_epoch=2.02e+8]"
     ]
    },
    {
     "name": "stdout",
     "output_type": "stream",
     "text": [
      "\r",
      "Epoch 222/500:  44%|████▍     | 222/500 [01:35<01:58,  2.34it/s, v_num=1, train_loss_step=1.18e+7, train_loss_epoch=2.02e+8]"
     ]
    },
    {
     "name": "stdout",
     "output_type": "stream",
     "text": [
      "\r",
      "Epoch 222/500:  44%|████▍     | 222/500 [01:35<01:58,  2.34it/s, v_num=1, train_loss_step=1.2e+7, train_loss_epoch=2.02e+8] "
     ]
    },
    {
     "name": "stdout",
     "output_type": "stream",
     "text": [
      "\r",
      "Epoch 223/500:  44%|████▍     | 222/500 [01:35<01:58,  2.34it/s, v_num=1, train_loss_step=1.2e+7, train_loss_epoch=2.02e+8]"
     ]
    },
    {
     "name": "stdout",
     "output_type": "stream",
     "text": [
      "\r",
      "Epoch 223/500:  45%|████▍     | 223/500 [01:35<01:58,  2.34it/s, v_num=1, train_loss_step=1.2e+7, train_loss_epoch=2.02e+8]"
     ]
    },
    {
     "name": "stdout",
     "output_type": "stream",
     "text": [
      "\r",
      "Epoch 223/500:  45%|████▍     | 223/500 [01:35<01:58,  2.34it/s, v_num=1, train_loss_step=1.26e+7, train_loss_epoch=2.02e+8]"
     ]
    },
    {
     "name": "stdout",
     "output_type": "stream",
     "text": [
      "\r",
      "Epoch 224/500:  45%|████▍     | 223/500 [01:35<01:58,  2.34it/s, v_num=1, train_loss_step=1.26e+7, train_loss_epoch=2.02e+8]"
     ]
    },
    {
     "name": "stdout",
     "output_type": "stream",
     "text": [
      "\r",
      "Epoch 224/500:  45%|████▍     | 224/500 [01:36<01:57,  2.34it/s, v_num=1, train_loss_step=1.26e+7, train_loss_epoch=2.02e+8]"
     ]
    },
    {
     "name": "stdout",
     "output_type": "stream",
     "text": [
      "\r",
      "Epoch 224/500:  45%|████▍     | 224/500 [01:36<01:57,  2.34it/s, v_num=1, train_loss_step=1.15e+7, train_loss_epoch=2.02e+8]"
     ]
    },
    {
     "name": "stdout",
     "output_type": "stream",
     "text": [
      "\r",
      "Epoch 225/500:  45%|████▍     | 224/500 [01:36<01:57,  2.34it/s, v_num=1, train_loss_step=1.15e+7, train_loss_epoch=2.02e+8]"
     ]
    },
    {
     "name": "stdout",
     "output_type": "stream",
     "text": [
      "\r",
      "Epoch 225/500:  45%|████▌     | 225/500 [01:36<01:57,  2.34it/s, v_num=1, train_loss_step=1.15e+7, train_loss_epoch=2.02e+8]"
     ]
    },
    {
     "name": "stdout",
     "output_type": "stream",
     "text": [
      "\r",
      "Epoch 225/500:  45%|████▌     | 225/500 [01:36<01:57,  2.34it/s, v_num=1, train_loss_step=1.12e+7, train_loss_epoch=2.02e+8]"
     ]
    },
    {
     "name": "stdout",
     "output_type": "stream",
     "text": [
      "\r",
      "Epoch 226/500:  45%|████▌     | 225/500 [01:36<01:57,  2.34it/s, v_num=1, train_loss_step=1.12e+7, train_loss_epoch=2.02e+8]"
     ]
    },
    {
     "name": "stdout",
     "output_type": "stream",
     "text": [
      "\r",
      "Epoch 226/500:  45%|████▌     | 226/500 [01:37<01:57,  2.34it/s, v_num=1, train_loss_step=1.12e+7, train_loss_epoch=2.02e+8]"
     ]
    },
    {
     "name": "stdout",
     "output_type": "stream",
     "text": [
      "\r",
      "Epoch 226/500:  45%|████▌     | 226/500 [01:37<01:57,  2.34it/s, v_num=1, train_loss_step=1.2e+7, train_loss_epoch=2.02e+8] "
     ]
    },
    {
     "name": "stdout",
     "output_type": "stream",
     "text": [
      "\r",
      "Epoch 227/500:  45%|████▌     | 226/500 [01:37<01:57,  2.34it/s, v_num=1, train_loss_step=1.2e+7, train_loss_epoch=2.02e+8]"
     ]
    },
    {
     "name": "stdout",
     "output_type": "stream",
     "text": [
      "\r",
      "Epoch 227/500:  45%|████▌     | 227/500 [01:37<01:56,  2.34it/s, v_num=1, train_loss_step=1.2e+7, train_loss_epoch=2.02e+8]"
     ]
    },
    {
     "name": "stdout",
     "output_type": "stream",
     "text": [
      "\r",
      "Epoch 227/500:  45%|████▌     | 227/500 [01:37<01:56,  2.34it/s, v_num=1, train_loss_step=1.18e+7, train_loss_epoch=2.02e+8]"
     ]
    },
    {
     "name": "stdout",
     "output_type": "stream",
     "text": [
      "\r",
      "Epoch 228/500:  45%|████▌     | 227/500 [01:37<01:56,  2.34it/s, v_num=1, train_loss_step=1.18e+7, train_loss_epoch=2.02e+8]"
     ]
    },
    {
     "name": "stdout",
     "output_type": "stream",
     "text": [
      "\r",
      "Epoch 228/500:  46%|████▌     | 228/500 [01:37<01:56,  2.34it/s, v_num=1, train_loss_step=1.18e+7, train_loss_epoch=2.02e+8]"
     ]
    },
    {
     "name": "stdout",
     "output_type": "stream",
     "text": [
      "\r",
      "Epoch 228/500:  46%|████▌     | 228/500 [01:37<01:56,  2.34it/s, v_num=1, train_loss_step=1.26e+7, train_loss_epoch=2.02e+8]"
     ]
    },
    {
     "name": "stdout",
     "output_type": "stream",
     "text": [
      "\r",
      "Epoch 229/500:  46%|████▌     | 228/500 [01:37<01:56,  2.34it/s, v_num=1, train_loss_step=1.26e+7, train_loss_epoch=2.02e+8]"
     ]
    },
    {
     "name": "stdout",
     "output_type": "stream",
     "text": [
      "\r",
      "Epoch 229/500:  46%|████▌     | 229/500 [01:38<01:55,  2.34it/s, v_num=1, train_loss_step=1.26e+7, train_loss_epoch=2.02e+8]"
     ]
    },
    {
     "name": "stdout",
     "output_type": "stream",
     "text": [
      "\r",
      "Epoch 229/500:  46%|████▌     | 229/500 [01:38<01:55,  2.34it/s, v_num=1, train_loss_step=1.3e+7, train_loss_epoch=2.02e+8] "
     ]
    },
    {
     "name": "stdout",
     "output_type": "stream",
     "text": [
      "\r",
      "Epoch 230/500:  46%|████▌     | 229/500 [01:38<01:55,  2.34it/s, v_num=1, train_loss_step=1.3e+7, train_loss_epoch=2.02e+8]"
     ]
    },
    {
     "name": "stdout",
     "output_type": "stream",
     "text": [
      "\r",
      "Epoch 230/500:  46%|████▌     | 230/500 [01:38<01:55,  2.34it/s, v_num=1, train_loss_step=1.3e+7, train_loss_epoch=2.02e+8]"
     ]
    },
    {
     "name": "stdout",
     "output_type": "stream",
     "text": [
      "\r",
      "Epoch 230/500:  46%|████▌     | 230/500 [01:38<01:55,  2.34it/s, v_num=1, train_loss_step=1.23e+7, train_loss_epoch=2.02e+8]"
     ]
    },
    {
     "name": "stdout",
     "output_type": "stream",
     "text": [
      "\r",
      "Epoch 231/500:  46%|████▌     | 230/500 [01:38<01:55,  2.34it/s, v_num=1, train_loss_step=1.23e+7, train_loss_epoch=2.02e+8]"
     ]
    },
    {
     "name": "stdout",
     "output_type": "stream",
     "text": [
      "\r",
      "Epoch 231/500:  46%|████▌     | 231/500 [01:39<01:54,  2.34it/s, v_num=1, train_loss_step=1.23e+7, train_loss_epoch=2.02e+8]"
     ]
    },
    {
     "name": "stdout",
     "output_type": "stream",
     "text": [
      "\r",
      "Epoch 231/500:  46%|████▌     | 231/500 [01:39<01:54,  2.34it/s, v_num=1, train_loss_step=1.22e+7, train_loss_epoch=2.02e+8]"
     ]
    },
    {
     "name": "stdout",
     "output_type": "stream",
     "text": [
      "\r",
      "Epoch 232/500:  46%|████▌     | 231/500 [01:39<01:54,  2.34it/s, v_num=1, train_loss_step=1.22e+7, train_loss_epoch=2.02e+8]"
     ]
    },
    {
     "name": "stdout",
     "output_type": "stream",
     "text": [
      "\r",
      "Epoch 232/500:  46%|████▋     | 232/500 [01:39<01:54,  2.35it/s, v_num=1, train_loss_step=1.22e+7, train_loss_epoch=2.02e+8]"
     ]
    },
    {
     "name": "stdout",
     "output_type": "stream",
     "text": [
      "\r",
      "Epoch 232/500:  46%|████▋     | 232/500 [01:39<01:54,  2.35it/s, v_num=1, train_loss_step=1.21e+7, train_loss_epoch=2.02e+8]"
     ]
    },
    {
     "name": "stdout",
     "output_type": "stream",
     "text": [
      "\r",
      "Epoch 233/500:  46%|████▋     | 232/500 [01:39<01:54,  2.35it/s, v_num=1, train_loss_step=1.21e+7, train_loss_epoch=2.02e+8]"
     ]
    },
    {
     "name": "stdout",
     "output_type": "stream",
     "text": [
      "\r",
      "Epoch 233/500:  47%|████▋     | 233/500 [01:39<01:53,  2.35it/s, v_num=1, train_loss_step=1.21e+7, train_loss_epoch=2.02e+8]"
     ]
    },
    {
     "name": "stdout",
     "output_type": "stream",
     "text": [
      "\r",
      "Epoch 233/500:  47%|████▋     | 233/500 [01:39<01:53,  2.35it/s, v_num=1, train_loss_step=1.25e+7, train_loss_epoch=2.02e+8]"
     ]
    },
    {
     "name": "stdout",
     "output_type": "stream",
     "text": [
      "\r",
      "Epoch 234/500:  47%|████▋     | 233/500 [01:40<01:53,  2.35it/s, v_num=1, train_loss_step=1.25e+7, train_loss_epoch=2.02e+8]"
     ]
    },
    {
     "name": "stdout",
     "output_type": "stream",
     "text": [
      "\r",
      "Epoch 234/500:  47%|████▋     | 234/500 [01:40<01:53,  2.35it/s, v_num=1, train_loss_step=1.25e+7, train_loss_epoch=2.02e+8]"
     ]
    },
    {
     "name": "stdout",
     "output_type": "stream",
     "text": [
      "\r",
      "Epoch 234/500:  47%|████▋     | 234/500 [01:40<01:53,  2.35it/s, v_num=1, train_loss_step=1.21e+7, train_loss_epoch=2.02e+8]"
     ]
    },
    {
     "name": "stdout",
     "output_type": "stream",
     "text": [
      "\r",
      "Epoch 235/500:  47%|████▋     | 234/500 [01:40<01:53,  2.35it/s, v_num=1, train_loss_step=1.21e+7, train_loss_epoch=2.02e+8]"
     ]
    },
    {
     "name": "stdout",
     "output_type": "stream",
     "text": [
      "\r",
      "Epoch 235/500:  47%|████▋     | 235/500 [01:40<01:52,  2.35it/s, v_num=1, train_loss_step=1.21e+7, train_loss_epoch=2.02e+8]"
     ]
    },
    {
     "name": "stdout",
     "output_type": "stream",
     "text": [
      "\r",
      "Epoch 235/500:  47%|████▋     | 235/500 [01:40<01:52,  2.35it/s, v_num=1, train_loss_step=1.22e+7, train_loss_epoch=2.02e+8]"
     ]
    },
    {
     "name": "stdout",
     "output_type": "stream",
     "text": [
      "\r",
      "Epoch 236/500:  47%|████▋     | 235/500 [01:40<01:52,  2.35it/s, v_num=1, train_loss_step=1.22e+7, train_loss_epoch=2.02e+8]"
     ]
    },
    {
     "name": "stdout",
     "output_type": "stream",
     "text": [
      "\r",
      "Epoch 236/500:  47%|████▋     | 236/500 [01:41<01:52,  2.35it/s, v_num=1, train_loss_step=1.22e+7, train_loss_epoch=2.02e+8]"
     ]
    },
    {
     "name": "stdout",
     "output_type": "stream",
     "text": [
      "\r",
      "Epoch 236/500:  47%|████▋     | 236/500 [01:41<01:52,  2.35it/s, v_num=1, train_loss_step=1.2e+7, train_loss_epoch=2.02e+8] "
     ]
    },
    {
     "name": "stdout",
     "output_type": "stream",
     "text": [
      "\r",
      "Epoch 237/500:  47%|████▋     | 236/500 [01:41<01:52,  2.35it/s, v_num=1, train_loss_step=1.2e+7, train_loss_epoch=2.02e+8]"
     ]
    },
    {
     "name": "stdout",
     "output_type": "stream",
     "text": [
      "\r",
      "Epoch 237/500:  47%|████▋     | 237/500 [01:41<01:52,  2.35it/s, v_num=1, train_loss_step=1.2e+7, train_loss_epoch=2.02e+8]"
     ]
    },
    {
     "name": "stdout",
     "output_type": "stream",
     "text": [
      "\r",
      "Epoch 237/500:  47%|████▋     | 237/500 [01:41<01:52,  2.35it/s, v_num=1, train_loss_step=1.21e+7, train_loss_epoch=2.02e+8]"
     ]
    },
    {
     "name": "stdout",
     "output_type": "stream",
     "text": [
      "\r",
      "Epoch 238/500:  47%|████▋     | 237/500 [01:41<01:52,  2.35it/s, v_num=1, train_loss_step=1.21e+7, train_loss_epoch=2.02e+8]"
     ]
    },
    {
     "name": "stdout",
     "output_type": "stream",
     "text": [
      "\r",
      "Epoch 238/500:  48%|████▊     | 238/500 [01:42<01:51,  2.35it/s, v_num=1, train_loss_step=1.21e+7, train_loss_epoch=2.02e+8]"
     ]
    },
    {
     "name": "stdout",
     "output_type": "stream",
     "text": [
      "\r",
      "Epoch 238/500:  48%|████▊     | 238/500 [01:42<01:51,  2.35it/s, v_num=1, train_loss_step=1.11e+7, train_loss_epoch=2.02e+8]"
     ]
    },
    {
     "name": "stdout",
     "output_type": "stream",
     "text": [
      "\r",
      "Epoch 239/500:  48%|████▊     | 238/500 [01:42<01:51,  2.35it/s, v_num=1, train_loss_step=1.11e+7, train_loss_epoch=2.02e+8]"
     ]
    },
    {
     "name": "stdout",
     "output_type": "stream",
     "text": [
      "\r",
      "Epoch 239/500:  48%|████▊     | 239/500 [01:42<01:51,  2.35it/s, v_num=1, train_loss_step=1.11e+7, train_loss_epoch=2.02e+8]"
     ]
    },
    {
     "name": "stdout",
     "output_type": "stream",
     "text": [
      "\r",
      "Epoch 239/500:  48%|████▊     | 239/500 [01:42<01:51,  2.35it/s, v_num=1, train_loss_step=1.24e+7, train_loss_epoch=2.02e+8]"
     ]
    },
    {
     "name": "stdout",
     "output_type": "stream",
     "text": [
      "\r",
      "Epoch 240/500:  48%|████▊     | 239/500 [01:42<01:51,  2.35it/s, v_num=1, train_loss_step=1.24e+7, train_loss_epoch=2.02e+8]"
     ]
    },
    {
     "name": "stdout",
     "output_type": "stream",
     "text": [
      "\r",
      "Epoch 240/500:  48%|████▊     | 240/500 [01:42<01:50,  2.34it/s, v_num=1, train_loss_step=1.24e+7, train_loss_epoch=2.02e+8]"
     ]
    },
    {
     "name": "stdout",
     "output_type": "stream",
     "text": [
      "\r",
      "Epoch 240/500:  48%|████▊     | 240/500 [01:42<01:50,  2.34it/s, v_num=1, train_loss_step=1.17e+7, train_loss_epoch=2.02e+8]"
     ]
    },
    {
     "name": "stdout",
     "output_type": "stream",
     "text": [
      "\r",
      "Epoch 241/500:  48%|████▊     | 240/500 [01:42<01:50,  2.34it/s, v_num=1, train_loss_step=1.17e+7, train_loss_epoch=2.02e+8]"
     ]
    },
    {
     "name": "stdout",
     "output_type": "stream",
     "text": [
      "\r",
      "Epoch 241/500:  48%|████▊     | 241/500 [01:43<01:50,  2.35it/s, v_num=1, train_loss_step=1.17e+7, train_loss_epoch=2.02e+8]"
     ]
    },
    {
     "name": "stdout",
     "output_type": "stream",
     "text": [
      "\r",
      "Epoch 241/500:  48%|████▊     | 241/500 [01:43<01:50,  2.35it/s, v_num=1, train_loss_step=1.2e+7, train_loss_epoch=2.02e+8] "
     ]
    },
    {
     "name": "stdout",
     "output_type": "stream",
     "text": [
      "\r",
      "Epoch 242/500:  48%|████▊     | 241/500 [01:43<01:50,  2.35it/s, v_num=1, train_loss_step=1.2e+7, train_loss_epoch=2.02e+8]"
     ]
    },
    {
     "name": "stdout",
     "output_type": "stream",
     "text": [
      "\r",
      "Epoch 242/500:  48%|████▊     | 242/500 [01:43<01:50,  2.35it/s, v_num=1, train_loss_step=1.2e+7, train_loss_epoch=2.02e+8]"
     ]
    },
    {
     "name": "stdout",
     "output_type": "stream",
     "text": [
      "\r",
      "Epoch 242/500:  48%|████▊     | 242/500 [01:43<01:50,  2.35it/s, v_num=1, train_loss_step=1.2e+7, train_loss_epoch=2.02e+8]"
     ]
    },
    {
     "name": "stdout",
     "output_type": "stream",
     "text": [
      "\r",
      "Epoch 243/500:  48%|████▊     | 242/500 [01:43<01:50,  2.35it/s, v_num=1, train_loss_step=1.2e+7, train_loss_epoch=2.02e+8]"
     ]
    },
    {
     "name": "stdout",
     "output_type": "stream",
     "text": [
      "\r",
      "Epoch 243/500:  49%|████▊     | 243/500 [01:44<01:49,  2.35it/s, v_num=1, train_loss_step=1.2e+7, train_loss_epoch=2.02e+8]"
     ]
    },
    {
     "name": "stdout",
     "output_type": "stream",
     "text": [
      "\r",
      "Epoch 243/500:  49%|████▊     | 243/500 [01:44<01:49,  2.35it/s, v_num=1, train_loss_step=1.19e+7, train_loss_epoch=2.02e+8]"
     ]
    },
    {
     "name": "stdout",
     "output_type": "stream",
     "text": [
      "\r",
      "Epoch 244/500:  49%|████▊     | 243/500 [01:44<01:49,  2.35it/s, v_num=1, train_loss_step=1.19e+7, train_loss_epoch=2.02e+8]"
     ]
    },
    {
     "name": "stdout",
     "output_type": "stream",
     "text": [
      "\r",
      "Epoch 244/500:  49%|████▉     | 244/500 [01:44<01:49,  2.35it/s, v_num=1, train_loss_step=1.19e+7, train_loss_epoch=2.02e+8]"
     ]
    },
    {
     "name": "stdout",
     "output_type": "stream",
     "text": [
      "\r",
      "Epoch 244/500:  49%|████▉     | 244/500 [01:44<01:49,  2.35it/s, v_num=1, train_loss_step=1.08e+7, train_loss_epoch=2.02e+8]"
     ]
    },
    {
     "name": "stdout",
     "output_type": "stream",
     "text": [
      "\r",
      "Epoch 245/500:  49%|████▉     | 244/500 [01:44<01:49,  2.35it/s, v_num=1, train_loss_step=1.08e+7, train_loss_epoch=2.02e+8]"
     ]
    },
    {
     "name": "stdout",
     "output_type": "stream",
     "text": [
      "\r",
      "Epoch 245/500:  49%|████▉     | 245/500 [01:45<01:48,  2.34it/s, v_num=1, train_loss_step=1.08e+7, train_loss_epoch=2.02e+8]"
     ]
    },
    {
     "name": "stdout",
     "output_type": "stream",
     "text": [
      "\r",
      "Epoch 245/500:  49%|████▉     | 245/500 [01:45<01:48,  2.34it/s, v_num=1, train_loss_step=1.16e+7, train_loss_epoch=2.02e+8]"
     ]
    },
    {
     "name": "stdout",
     "output_type": "stream",
     "text": [
      "\r",
      "Epoch 246/500:  49%|████▉     | 245/500 [01:45<01:48,  2.34it/s, v_num=1, train_loss_step=1.16e+7, train_loss_epoch=2.02e+8]"
     ]
    },
    {
     "name": "stdout",
     "output_type": "stream",
     "text": [
      "\r",
      "Epoch 246/500:  49%|████▉     | 246/500 [01:45<01:48,  2.34it/s, v_num=1, train_loss_step=1.16e+7, train_loss_epoch=2.02e+8]"
     ]
    },
    {
     "name": "stdout",
     "output_type": "stream",
     "text": [
      "\r",
      "Epoch 246/500:  49%|████▉     | 246/500 [01:45<01:48,  2.34it/s, v_num=1, train_loss_step=1.3e+7, train_loss_epoch=2.02e+8] "
     ]
    },
    {
     "name": "stdout",
     "output_type": "stream",
     "text": [
      "\r",
      "Epoch 247/500:  49%|████▉     | 246/500 [01:45<01:48,  2.34it/s, v_num=1, train_loss_step=1.3e+7, train_loss_epoch=2.02e+8]"
     ]
    },
    {
     "name": "stdout",
     "output_type": "stream",
     "text": [
      "\r",
      "Epoch 247/500:  49%|████▉     | 247/500 [01:45<01:47,  2.35it/s, v_num=1, train_loss_step=1.3e+7, train_loss_epoch=2.02e+8]"
     ]
    },
    {
     "name": "stdout",
     "output_type": "stream",
     "text": [
      "\r",
      "Epoch 247/500:  49%|████▉     | 247/500 [01:45<01:47,  2.35it/s, v_num=1, train_loss_step=1.13e+7, train_loss_epoch=2.02e+8]"
     ]
    },
    {
     "name": "stdout",
     "output_type": "stream",
     "text": [
      "\r",
      "Epoch 248/500:  49%|████▉     | 247/500 [01:45<01:47,  2.35it/s, v_num=1, train_loss_step=1.13e+7, train_loss_epoch=2.02e+8]"
     ]
    },
    {
     "name": "stdout",
     "output_type": "stream",
     "text": [
      "\r",
      "Epoch 248/500:  50%|████▉     | 248/500 [01:46<01:47,  2.35it/s, v_num=1, train_loss_step=1.13e+7, train_loss_epoch=2.02e+8]"
     ]
    },
    {
     "name": "stdout",
     "output_type": "stream",
     "text": [
      "\r",
      "Epoch 248/500:  50%|████▉     | 248/500 [01:46<01:47,  2.35it/s, v_num=1, train_loss_step=1.2e+7, train_loss_epoch=2.02e+8] "
     ]
    },
    {
     "name": "stdout",
     "output_type": "stream",
     "text": [
      "\r",
      "Epoch 249/500:  50%|████▉     | 248/500 [01:46<01:47,  2.35it/s, v_num=1, train_loss_step=1.2e+7, train_loss_epoch=2.02e+8]"
     ]
    },
    {
     "name": "stdout",
     "output_type": "stream",
     "text": [
      "\r",
      "Epoch 249/500:  50%|████▉     | 249/500 [01:46<01:47,  2.35it/s, v_num=1, train_loss_step=1.2e+7, train_loss_epoch=2.02e+8]"
     ]
    },
    {
     "name": "stdout",
     "output_type": "stream",
     "text": [
      "\r",
      "Epoch 249/500:  50%|████▉     | 249/500 [01:46<01:47,  2.35it/s, v_num=1, train_loss_step=1.22e+7, train_loss_epoch=2.02e+8]"
     ]
    },
    {
     "name": "stdout",
     "output_type": "stream",
     "text": [
      "\r",
      "Epoch 250/500:  50%|████▉     | 249/500 [01:46<01:47,  2.35it/s, v_num=1, train_loss_step=1.22e+7, train_loss_epoch=2.02e+8]"
     ]
    },
    {
     "name": "stdout",
     "output_type": "stream",
     "text": [
      "\r",
      "Epoch 250/500:  50%|█████     | 250/500 [01:47<01:46,  2.35it/s, v_num=1, train_loss_step=1.22e+7, train_loss_epoch=2.02e+8]"
     ]
    },
    {
     "name": "stdout",
     "output_type": "stream",
     "text": [
      "\r",
      "Epoch 250/500:  50%|█████     | 250/500 [01:47<01:46,  2.35it/s, v_num=1, train_loss_step=1.23e+7, train_loss_epoch=2.02e+8]"
     ]
    },
    {
     "name": "stdout",
     "output_type": "stream",
     "text": [
      "\r",
      "Epoch 251/500:  50%|█████     | 250/500 [01:47<01:46,  2.35it/s, v_num=1, train_loss_step=1.23e+7, train_loss_epoch=2.02e+8]"
     ]
    },
    {
     "name": "stdout",
     "output_type": "stream",
     "text": [
      "\r",
      "Epoch 251/500:  50%|█████     | 251/500 [01:47<01:46,  2.35it/s, v_num=1, train_loss_step=1.23e+7, train_loss_epoch=2.02e+8]"
     ]
    },
    {
     "name": "stdout",
     "output_type": "stream",
     "text": [
      "\r",
      "Epoch 251/500:  50%|█████     | 251/500 [01:47<01:46,  2.35it/s, v_num=1, train_loss_step=1.2e+7, train_loss_epoch=2.02e+8] "
     ]
    },
    {
     "name": "stdout",
     "output_type": "stream",
     "text": [
      "\r",
      "Epoch 252/500:  50%|█████     | 251/500 [01:47<01:46,  2.35it/s, v_num=1, train_loss_step=1.2e+7, train_loss_epoch=2.02e+8]"
     ]
    },
    {
     "name": "stdout",
     "output_type": "stream",
     "text": [
      "\r",
      "Epoch 252/500:  50%|█████     | 252/500 [01:48<01:45,  2.35it/s, v_num=1, train_loss_step=1.2e+7, train_loss_epoch=2.02e+8]"
     ]
    },
    {
     "name": "stdout",
     "output_type": "stream",
     "text": [
      "\r",
      "Epoch 252/500:  50%|█████     | 252/500 [01:48<01:45,  2.35it/s, v_num=1, train_loss_step=1.16e+7, train_loss_epoch=2.02e+8]"
     ]
    },
    {
     "name": "stdout",
     "output_type": "stream",
     "text": [
      "\r",
      "Epoch 253/500:  50%|█████     | 252/500 [01:48<01:45,  2.35it/s, v_num=1, train_loss_step=1.16e+7, train_loss_epoch=2.02e+8]"
     ]
    },
    {
     "name": "stdout",
     "output_type": "stream",
     "text": [
      "\r",
      "Epoch 253/500:  51%|█████     | 253/500 [01:48<01:45,  2.35it/s, v_num=1, train_loss_step=1.16e+7, train_loss_epoch=2.02e+8]"
     ]
    },
    {
     "name": "stdout",
     "output_type": "stream",
     "text": [
      "\r",
      "Epoch 253/500:  51%|█████     | 253/500 [01:48<01:45,  2.35it/s, v_num=1, train_loss_step=1.2e+7, train_loss_epoch=2.01e+8] "
     ]
    },
    {
     "name": "stdout",
     "output_type": "stream",
     "text": [
      "\r",
      "Epoch 254/500:  51%|█████     | 253/500 [01:48<01:45,  2.35it/s, v_num=1, train_loss_step=1.2e+7, train_loss_epoch=2.01e+8]"
     ]
    },
    {
     "name": "stdout",
     "output_type": "stream",
     "text": [
      "\r",
      "Epoch 254/500:  51%|█████     | 254/500 [01:48<01:44,  2.35it/s, v_num=1, train_loss_step=1.2e+7, train_loss_epoch=2.01e+8]"
     ]
    },
    {
     "name": "stdout",
     "output_type": "stream",
     "text": [
      "\r",
      "Epoch 254/500:  51%|█████     | 254/500 [01:48<01:44,  2.35it/s, v_num=1, train_loss_step=1.18e+7, train_loss_epoch=2.01e+8]"
     ]
    },
    {
     "name": "stdout",
     "output_type": "stream",
     "text": [
      "\r",
      "Epoch 255/500:  51%|█████     | 254/500 [01:48<01:44,  2.35it/s, v_num=1, train_loss_step=1.18e+7, train_loss_epoch=2.01e+8]"
     ]
    },
    {
     "name": "stdout",
     "output_type": "stream",
     "text": [
      "\r",
      "Epoch 255/500:  51%|█████     | 255/500 [01:49<01:44,  2.35it/s, v_num=1, train_loss_step=1.18e+7, train_loss_epoch=2.01e+8]"
     ]
    },
    {
     "name": "stdout",
     "output_type": "stream",
     "text": [
      "\r",
      "Epoch 255/500:  51%|█████     | 255/500 [01:49<01:44,  2.35it/s, v_num=1, train_loss_step=1.19e+7, train_loss_epoch=2.01e+8]"
     ]
    },
    {
     "name": "stdout",
     "output_type": "stream",
     "text": [
      "\r",
      "Epoch 256/500:  51%|█████     | 255/500 [01:49<01:44,  2.35it/s, v_num=1, train_loss_step=1.19e+7, train_loss_epoch=2.01e+8]"
     ]
    },
    {
     "name": "stdout",
     "output_type": "stream",
     "text": [
      "\r",
      "Epoch 256/500:  51%|█████     | 256/500 [01:49<01:43,  2.35it/s, v_num=1, train_loss_step=1.19e+7, train_loss_epoch=2.01e+8]"
     ]
    },
    {
     "name": "stdout",
     "output_type": "stream",
     "text": [
      "\r",
      "Epoch 256/500:  51%|█████     | 256/500 [01:49<01:43,  2.35it/s, v_num=1, train_loss_step=1.15e+7, train_loss_epoch=2.01e+8]"
     ]
    },
    {
     "name": "stdout",
     "output_type": "stream",
     "text": [
      "\r",
      "Epoch 257/500:  51%|█████     | 256/500 [01:49<01:43,  2.35it/s, v_num=1, train_loss_step=1.15e+7, train_loss_epoch=2.01e+8]"
     ]
    },
    {
     "name": "stdout",
     "output_type": "stream",
     "text": [
      "\r",
      "Epoch 257/500:  51%|█████▏    | 257/500 [01:50<01:43,  2.35it/s, v_num=1, train_loss_step=1.15e+7, train_loss_epoch=2.01e+8]"
     ]
    },
    {
     "name": "stdout",
     "output_type": "stream",
     "text": [
      "\r",
      "Epoch 257/500:  51%|█████▏    | 257/500 [01:50<01:43,  2.35it/s, v_num=1, train_loss_step=1.11e+7, train_loss_epoch=2.01e+8]"
     ]
    },
    {
     "name": "stdout",
     "output_type": "stream",
     "text": [
      "\r",
      "Epoch 258/500:  51%|█████▏    | 257/500 [01:50<01:43,  2.35it/s, v_num=1, train_loss_step=1.11e+7, train_loss_epoch=2.01e+8]"
     ]
    },
    {
     "name": "stdout",
     "output_type": "stream",
     "text": [
      "\r",
      "Epoch 258/500:  52%|█████▏    | 258/500 [01:50<01:43,  2.35it/s, v_num=1, train_loss_step=1.11e+7, train_loss_epoch=2.01e+8]"
     ]
    },
    {
     "name": "stdout",
     "output_type": "stream",
     "text": [
      "\r",
      "Epoch 258/500:  52%|█████▏    | 258/500 [01:50<01:43,  2.35it/s, v_num=1, train_loss_step=1.26e+7, train_loss_epoch=2.01e+8]"
     ]
    },
    {
     "name": "stdout",
     "output_type": "stream",
     "text": [
      "\r",
      "Epoch 259/500:  52%|█████▏    | 258/500 [01:50<01:43,  2.35it/s, v_num=1, train_loss_step=1.26e+7, train_loss_epoch=2.01e+8]"
     ]
    },
    {
     "name": "stdout",
     "output_type": "stream",
     "text": [
      "\r",
      "Epoch 259/500:  52%|█████▏    | 259/500 [01:51<01:42,  2.35it/s, v_num=1, train_loss_step=1.26e+7, train_loss_epoch=2.01e+8]"
     ]
    },
    {
     "name": "stdout",
     "output_type": "stream",
     "text": [
      "\r",
      "Epoch 259/500:  52%|█████▏    | 259/500 [01:51<01:42,  2.35it/s, v_num=1, train_loss_step=1.24e+7, train_loss_epoch=2.01e+8]"
     ]
    },
    {
     "name": "stdout",
     "output_type": "stream",
     "text": [
      "\r",
      "Epoch 260/500:  52%|█████▏    | 259/500 [01:51<01:42,  2.35it/s, v_num=1, train_loss_step=1.24e+7, train_loss_epoch=2.01e+8]"
     ]
    },
    {
     "name": "stdout",
     "output_type": "stream",
     "text": [
      "\r",
      "Epoch 260/500:  52%|█████▏    | 260/500 [01:51<01:42,  2.35it/s, v_num=1, train_loss_step=1.24e+7, train_loss_epoch=2.01e+8]"
     ]
    },
    {
     "name": "stdout",
     "output_type": "stream",
     "text": [
      "\r",
      "Epoch 260/500:  52%|█████▏    | 260/500 [01:51<01:42,  2.35it/s, v_num=1, train_loss_step=1.22e+7, train_loss_epoch=2.01e+8]"
     ]
    },
    {
     "name": "stdout",
     "output_type": "stream",
     "text": [
      "\r",
      "Epoch 261/500:  52%|█████▏    | 260/500 [01:51<01:42,  2.35it/s, v_num=1, train_loss_step=1.22e+7, train_loss_epoch=2.01e+8]"
     ]
    },
    {
     "name": "stdout",
     "output_type": "stream",
     "text": [
      "\r",
      "Epoch 261/500:  52%|█████▏    | 261/500 [01:51<01:41,  2.35it/s, v_num=1, train_loss_step=1.22e+7, train_loss_epoch=2.01e+8]"
     ]
    },
    {
     "name": "stdout",
     "output_type": "stream",
     "text": [
      "\r",
      "Epoch 261/500:  52%|█████▏    | 261/500 [01:51<01:41,  2.35it/s, v_num=1, train_loss_step=1.18e+7, train_loss_epoch=2.01e+8]"
     ]
    },
    {
     "name": "stdout",
     "output_type": "stream",
     "text": [
      "\r",
      "Epoch 262/500:  52%|█████▏    | 261/500 [01:51<01:41,  2.35it/s, v_num=1, train_loss_step=1.18e+7, train_loss_epoch=2.01e+8]"
     ]
    },
    {
     "name": "stdout",
     "output_type": "stream",
     "text": [
      "\r",
      "Epoch 262/500:  52%|█████▏    | 262/500 [01:52<01:41,  2.35it/s, v_num=1, train_loss_step=1.18e+7, train_loss_epoch=2.01e+8]"
     ]
    },
    {
     "name": "stdout",
     "output_type": "stream",
     "text": [
      "\r",
      "Epoch 262/500:  52%|█████▏    | 262/500 [01:52<01:41,  2.35it/s, v_num=1, train_loss_step=1.17e+7, train_loss_epoch=2.01e+8]"
     ]
    },
    {
     "name": "stdout",
     "output_type": "stream",
     "text": [
      "\r",
      "Epoch 263/500:  52%|█████▏    | 262/500 [01:52<01:41,  2.35it/s, v_num=1, train_loss_step=1.17e+7, train_loss_epoch=2.01e+8]"
     ]
    },
    {
     "name": "stdout",
     "output_type": "stream",
     "text": [
      "\r",
      "Epoch 263/500:  53%|█████▎    | 263/500 [01:52<01:41,  2.35it/s, v_num=1, train_loss_step=1.17e+7, train_loss_epoch=2.01e+8]"
     ]
    },
    {
     "name": "stdout",
     "output_type": "stream",
     "text": [
      "\r",
      "Epoch 263/500:  53%|█████▎    | 263/500 [01:52<01:41,  2.35it/s, v_num=1, train_loss_step=1.23e+7, train_loss_epoch=2.01e+8]"
     ]
    },
    {
     "name": "stdout",
     "output_type": "stream",
     "text": [
      "\r",
      "Epoch 264/500:  53%|█████▎    | 263/500 [01:52<01:41,  2.35it/s, v_num=1, train_loss_step=1.23e+7, train_loss_epoch=2.01e+8]"
     ]
    },
    {
     "name": "stdout",
     "output_type": "stream",
     "text": [
      "\r",
      "Epoch 264/500:  53%|█████▎    | 264/500 [01:53<01:40,  2.35it/s, v_num=1, train_loss_step=1.23e+7, train_loss_epoch=2.01e+8]"
     ]
    },
    {
     "name": "stdout",
     "output_type": "stream",
     "text": [
      "\r",
      "Epoch 264/500:  53%|█████▎    | 264/500 [01:53<01:40,  2.35it/s, v_num=1, train_loss_step=1.21e+7, train_loss_epoch=2.01e+8]"
     ]
    },
    {
     "name": "stdout",
     "output_type": "stream",
     "text": [
      "\r",
      "Epoch 265/500:  53%|█████▎    | 264/500 [01:53<01:40,  2.35it/s, v_num=1, train_loss_step=1.21e+7, train_loss_epoch=2.01e+8]"
     ]
    },
    {
     "name": "stdout",
     "output_type": "stream",
     "text": [
      "\r",
      "Epoch 265/500:  53%|█████▎    | 265/500 [01:53<01:40,  2.35it/s, v_num=1, train_loss_step=1.21e+7, train_loss_epoch=2.01e+8]"
     ]
    },
    {
     "name": "stdout",
     "output_type": "stream",
     "text": [
      "\r",
      "Epoch 265/500:  53%|█████▎    | 265/500 [01:53<01:40,  2.35it/s, v_num=1, train_loss_step=1.19e+7, train_loss_epoch=2.01e+8]"
     ]
    },
    {
     "name": "stdout",
     "output_type": "stream",
     "text": [
      "\r",
      "Epoch 266/500:  53%|█████▎    | 265/500 [01:53<01:40,  2.35it/s, v_num=1, train_loss_step=1.19e+7, train_loss_epoch=2.01e+8]"
     ]
    },
    {
     "name": "stdout",
     "output_type": "stream",
     "text": [
      "\r",
      "Epoch 266/500:  53%|█████▎    | 266/500 [01:54<01:39,  2.35it/s, v_num=1, train_loss_step=1.19e+7, train_loss_epoch=2.01e+8]"
     ]
    },
    {
     "name": "stdout",
     "output_type": "stream",
     "text": [
      "\r",
      "Epoch 266/500:  53%|█████▎    | 266/500 [01:54<01:39,  2.35it/s, v_num=1, train_loss_step=1.14e+7, train_loss_epoch=2.01e+8]"
     ]
    },
    {
     "name": "stdout",
     "output_type": "stream",
     "text": [
      "\r",
      "Epoch 267/500:  53%|█████▎    | 266/500 [01:54<01:39,  2.35it/s, v_num=1, train_loss_step=1.14e+7, train_loss_epoch=2.01e+8]"
     ]
    },
    {
     "name": "stdout",
     "output_type": "stream",
     "text": [
      "\r",
      "Epoch 267/500:  53%|█████▎    | 267/500 [01:54<01:39,  2.35it/s, v_num=1, train_loss_step=1.14e+7, train_loss_epoch=2.01e+8]"
     ]
    },
    {
     "name": "stdout",
     "output_type": "stream",
     "text": [
      "\r",
      "Epoch 267/500:  53%|█████▎    | 267/500 [01:54<01:39,  2.35it/s, v_num=1, train_loss_step=1.11e+7, train_loss_epoch=2.01e+8]"
     ]
    },
    {
     "name": "stdout",
     "output_type": "stream",
     "text": [
      "\r",
      "Epoch 268/500:  53%|█████▎    | 267/500 [01:54<01:39,  2.35it/s, v_num=1, train_loss_step=1.11e+7, train_loss_epoch=2.01e+8]"
     ]
    },
    {
     "name": "stdout",
     "output_type": "stream",
     "text": [
      "\r",
      "Epoch 268/500:  54%|█████▎    | 268/500 [01:54<01:38,  2.35it/s, v_num=1, train_loss_step=1.11e+7, train_loss_epoch=2.01e+8]"
     ]
    },
    {
     "name": "stdout",
     "output_type": "stream",
     "text": [
      "\r",
      "Epoch 268/500:  54%|█████▎    | 268/500 [01:54<01:38,  2.35it/s, v_num=1, train_loss_step=1.19e+7, train_loss_epoch=2.01e+8]"
     ]
    },
    {
     "name": "stdout",
     "output_type": "stream",
     "text": [
      "\r",
      "Epoch 269/500:  54%|█████▎    | 268/500 [01:54<01:38,  2.35it/s, v_num=1, train_loss_step=1.19e+7, train_loss_epoch=2.01e+8]"
     ]
    },
    {
     "name": "stdout",
     "output_type": "stream",
     "text": [
      "\r",
      "Epoch 269/500:  54%|█████▍    | 269/500 [01:55<01:38,  2.35it/s, v_num=1, train_loss_step=1.19e+7, train_loss_epoch=2.01e+8]"
     ]
    },
    {
     "name": "stdout",
     "output_type": "stream",
     "text": [
      "\r",
      "Epoch 269/500:  54%|█████▍    | 269/500 [01:55<01:38,  2.35it/s, v_num=1, train_loss_step=1.16e+7, train_loss_epoch=2.01e+8]"
     ]
    },
    {
     "name": "stdout",
     "output_type": "stream",
     "text": [
      "\r",
      "Epoch 270/500:  54%|█████▍    | 269/500 [01:55<01:38,  2.35it/s, v_num=1, train_loss_step=1.16e+7, train_loss_epoch=2.01e+8]"
     ]
    },
    {
     "name": "stdout",
     "output_type": "stream",
     "text": [
      "\r",
      "Epoch 270/500:  54%|█████▍    | 270/500 [01:55<01:37,  2.35it/s, v_num=1, train_loss_step=1.16e+7, train_loss_epoch=2.01e+8]"
     ]
    },
    {
     "name": "stdout",
     "output_type": "stream",
     "text": [
      "\r",
      "Epoch 270/500:  54%|█████▍    | 270/500 [01:55<01:37,  2.35it/s, v_num=1, train_loss_step=1.13e+7, train_loss_epoch=2.01e+8]"
     ]
    },
    {
     "name": "stdout",
     "output_type": "stream",
     "text": [
      "\r",
      "Epoch 271/500:  54%|█████▍    | 270/500 [01:55<01:37,  2.35it/s, v_num=1, train_loss_step=1.13e+7, train_loss_epoch=2.01e+8]"
     ]
    },
    {
     "name": "stdout",
     "output_type": "stream",
     "text": [
      "\r",
      "Epoch 271/500:  54%|█████▍    | 271/500 [01:56<01:37,  2.35it/s, v_num=1, train_loss_step=1.13e+7, train_loss_epoch=2.01e+8]"
     ]
    },
    {
     "name": "stdout",
     "output_type": "stream",
     "text": [
      "\r",
      "Epoch 271/500:  54%|█████▍    | 271/500 [01:56<01:37,  2.35it/s, v_num=1, train_loss_step=1.21e+7, train_loss_epoch=2.01e+8]"
     ]
    },
    {
     "name": "stdout",
     "output_type": "stream",
     "text": [
      "\r",
      "Epoch 272/500:  54%|█████▍    | 271/500 [01:56<01:37,  2.35it/s, v_num=1, train_loss_step=1.21e+7, train_loss_epoch=2.01e+8]"
     ]
    },
    {
     "name": "stdout",
     "output_type": "stream",
     "text": [
      "\r",
      "Epoch 272/500:  54%|█████▍    | 272/500 [01:56<01:37,  2.35it/s, v_num=1, train_loss_step=1.21e+7, train_loss_epoch=2.01e+8]"
     ]
    },
    {
     "name": "stdout",
     "output_type": "stream",
     "text": [
      "\r",
      "Epoch 272/500:  54%|█████▍    | 272/500 [01:56<01:37,  2.35it/s, v_num=1, train_loss_step=1.16e+7, train_loss_epoch=2.01e+8]"
     ]
    },
    {
     "name": "stdout",
     "output_type": "stream",
     "text": [
      "\r",
      "Epoch 273/500:  54%|█████▍    | 272/500 [01:56<01:37,  2.35it/s, v_num=1, train_loss_step=1.16e+7, train_loss_epoch=2.01e+8]"
     ]
    },
    {
     "name": "stdout",
     "output_type": "stream",
     "text": [
      "\r",
      "Epoch 273/500:  55%|█████▍    | 273/500 [01:57<01:36,  2.35it/s, v_num=1, train_loss_step=1.16e+7, train_loss_epoch=2.01e+8]"
     ]
    },
    {
     "name": "stdout",
     "output_type": "stream",
     "text": [
      "\r",
      "Epoch 273/500:  55%|█████▍    | 273/500 [01:57<01:36,  2.35it/s, v_num=1, train_loss_step=1.19e+7, train_loss_epoch=2.01e+8]"
     ]
    },
    {
     "name": "stdout",
     "output_type": "stream",
     "text": [
      "\r",
      "Epoch 274/500:  55%|█████▍    | 273/500 [01:57<01:36,  2.35it/s, v_num=1, train_loss_step=1.19e+7, train_loss_epoch=2.01e+8]"
     ]
    },
    {
     "name": "stdout",
     "output_type": "stream",
     "text": [
      "\r",
      "Epoch 274/500:  55%|█████▍    | 274/500 [01:57<01:36,  2.35it/s, v_num=1, train_loss_step=1.19e+7, train_loss_epoch=2.01e+8]"
     ]
    },
    {
     "name": "stdout",
     "output_type": "stream",
     "text": [
      "\r",
      "Epoch 274/500:  55%|█████▍    | 274/500 [01:57<01:36,  2.35it/s, v_num=1, train_loss_step=1.14e+7, train_loss_epoch=2.01e+8]"
     ]
    },
    {
     "name": "stdout",
     "output_type": "stream",
     "text": [
      "\r",
      "Epoch 274/500:  55%|█████▍    | 274/500 [01:57<01:36,  2.33it/s, v_num=1, train_loss_step=1.14e+7, train_loss_epoch=2.01e+8]"
     ]
    },
    {
     "name": "stdout",
     "output_type": "stream",
     "text": [
      "\n",
      "Monitored metric reconstruction_loss_validation did not improve in the last 50 records. Best score: 13018.062. Signaling Trainer to stop.\n"
     ]
    }
   ],
   "source": [
    "model = scvi.model.PEAKVI(adata)\n",
    "model.train()"
   ]
  },
  {
   "cell_type": "markdown",
   "metadata": {
    "id": "dab9yhHcMf8R"
   },
   "source": [
    "Since training a model can take a while, we recommend saving the trained model after training, just in case."
   ]
  },
  {
   "cell_type": "code",
   "execution_count": 11,
   "metadata": {
    "execution": {
     "iopub.execute_input": "2024-02-12T17:37:37.827774Z",
     "iopub.status.busy": "2024-02-12T17:37:37.827600Z",
     "iopub.status.idle": "2024-02-12T17:37:37.900427Z",
     "shell.execute_reply": "2024-02-12T17:37:37.899981Z"
    },
    "id": "v5w3u7ZgMf8S"
   },
   "outputs": [],
   "source": [
    "model_dir = os.path.join(save_dir.name, \"peakvi_pbmc\")\n",
    "model.save(model_dir, overwrite=True)"
   ]
  },
  {
   "cell_type": "markdown",
   "metadata": {
    "id": "mvEQcMynMf8S"
   },
   "source": [
    "We can then load the model later, which require providing an AnnData object that is structured similarly to the one used for training (or, in most cases, the same one):"
   ]
  },
  {
   "cell_type": "code",
   "execution_count": 12,
   "metadata": {
    "execution": {
     "iopub.execute_input": "2024-02-12T17:37:37.901965Z",
     "iopub.status.busy": "2024-02-12T17:37:37.901848Z",
     "iopub.status.idle": "2024-02-12T17:37:38.024273Z",
     "shell.execute_reply": "2024-02-12T17:37:38.023913Z"
    },
    "id": "_q34gv_hMf8S"
   },
   "outputs": [
    {
     "name": "stdout",
     "output_type": "stream",
     "text": [
      "\u001b[34mINFO    \u001b[0m File \u001b[35m/tmp/tmpgce9lagt/peakvi_pbmc/\u001b[0m\u001b[95mmodel.pt\u001b[0m already downloaded                                             \n"
     ]
    }
   ],
   "source": [
    "model = scvi.model.PEAKVI.load(model_dir, adata=adata)"
   ]
  },
  {
   "cell_type": "markdown",
   "metadata": {
    "id": "3FRmN1bbMf8S"
   },
   "source": [
    "## Visualizing and analyzing the latent space\n",
    "\n",
    "We can now use the trained model to visualize, cluster, and analyze the data. We first extract the latent representation from the model, and save it back into our AnnData object:"
   ]
  },
  {
   "cell_type": "code",
   "execution_count": 13,
   "metadata": {
    "colab": {
     "base_uri": "https://localhost:8080/"
    },
    "execution": {
     "iopub.execute_input": "2024-02-12T17:37:38.026064Z",
     "iopub.status.busy": "2024-02-12T17:37:38.025916Z",
     "iopub.status.idle": "2024-02-12T17:37:38.252459Z",
     "shell.execute_reply": "2024-02-12T17:37:38.252014Z"
    },
    "id": "shzoLMjQMf8S",
    "outputId": "acce7cb6-4c20-43a1-8b18-967805f30fa6"
   },
   "outputs": [
    {
     "data": {
      "text/plain": [
       "(4585, 13)"
      ]
     },
     "execution_count": 13,
     "metadata": {},
     "output_type": "execute_result"
    }
   ],
   "source": [
    "PEAKVI_LATENT_KEY = \"X_peakvi\"\n",
    "\n",
    "latent = model.get_latent_representation()\n",
    "adata.obsm[PEAKVI_LATENT_KEY] = latent\n",
    "latent.shape"
   ]
  },
  {
   "cell_type": "markdown",
   "metadata": {
    "id": "-nIg0xy1Mf8T"
   },
   "source": [
    "We can now use Scanpy to cluster and visualize our latent space:"
   ]
  },
  {
   "cell_type": "code",
   "execution_count": 14,
   "metadata": {
    "execution": {
     "iopub.execute_input": "2024-02-12T17:37:38.254061Z",
     "iopub.status.busy": "2024-02-12T17:37:38.253919Z",
     "iopub.status.idle": "2024-02-12T17:37:49.948686Z",
     "shell.execute_reply": "2024-02-12T17:37:49.948151Z"
    },
    "id": "CAzMk_4qMf8T"
   },
   "outputs": [],
   "source": [
    "PEAKVI_CLUSTERS_KEY = \"clusters_peakvi\"\n",
    "\n",
    "# compute the k-nearest-neighbor graph that is used in both clustering and umap algorithms\n",
    "sc.pp.neighbors(adata, use_rep=PEAKVI_LATENT_KEY)\n",
    "# compute the umap\n",
    "sc.tl.umap(adata, min_dist=0.2)\n",
    "# cluster the space (we use a lower resolution to get fewer clusters than the default)\n",
    "sc.tl.leiden(adata, key_added=PEAKVI_CLUSTERS_KEY, resolution=0.2)"
   ]
  },
  {
   "cell_type": "code",
   "execution_count": 15,
   "metadata": {
    "colab": {
     "base_uri": "https://localhost:8080/",
     "height": 367
    },
    "execution": {
     "iopub.execute_input": "2024-02-12T17:37:49.950362Z",
     "iopub.status.busy": "2024-02-12T17:37:49.950248Z",
     "iopub.status.idle": "2024-02-12T17:37:50.063288Z",
     "shell.execute_reply": "2024-02-12T17:37:50.063010Z"
    },
    "id": "gPm9j0aaMf8T",
    "outputId": "edee858e-9f14-4ca6-a039-888b9de13c2c"
   },
   "outputs": [
    {
     "name": "stderr",
     "output_type": "stream",
     "text": [
      "/env/lib/python3.11/site-packages/scanpy/plotting/_tools/scatterplots.py:1234: FutureWarning: The default value of 'ignore' for the `na_action` parameter in pandas.Categorical.map is deprecated and will be changed to 'None' in a future version. Please set na_action to the desired value to avoid seeing this warning\n",
      "  color_vector = pd.Categorical(values.map(color_map))\n",
      "/env/lib/python3.11/site-packages/scanpy/plotting/_tools/scatterplots.py:394: UserWarning: No data for colormapping provided via 'c'. Parameters 'cmap' will be ignored\n",
      "  cax = scatter(\n"
     ]
    },
    {
     "data": {
      "image/png": "[encoded data removed]",
      "text/plain": [
       "<Figure size 320x320 with 1 Axes>"
      ]
     },
     "metadata": {
      "image/png": {
       "height": 277,
       "width": 306
      }
     },
     "output_type": "display_data"
    }
   ],
   "source": [
    "sc.pl.umap(adata, color=PEAKVI_CLUSTERS_KEY)"
   ]
  },
  {
   "attachments": {},
   "cell_type": "markdown",
   "metadata": {
    "id": "wGioRKwFMf8T"
   },
   "source": [
    "## Differential accessibility\n",
    "\n",
    "Finally, we can use PeakVI to identify regions that are differentially accessible. There are many different ways to run this analysis, but the simplest is comparing one cluster against all others, or comparing two clusters to each other. In the first case we'll be looking for marker-regions, so we'll mostly want a one-sided test (the significant regions will only be the ones preferentially accessible in our target cluster). In the second case we'll use a two-sided test to find regions that are differentially accessible, regardless of direction.\n",
    "\n",
    "We demonstrate both of these next, and do this in two different ways: (1) more convenient but less flexible: using an existing factor to group the cells, and then comparing groups. (2) more flexible: using cell indices directly.\n",
    "\n",
    "```{important}\n",
    "If the data includes multiple batches, we encourage setting `batch_correction=True` so the model will sample from multiple batches when computing the differential signal. We do this below despite the data only having a single batch, as a demonstration.\n",
    "```"
   ]
  },
  {
   "cell_type": "code",
   "execution_count": 16,
   "metadata": {
    "colab": {
     "base_uri": "https://localhost:8080/",
     "height": 277
    },
    "execution": {
     "iopub.execute_input": "2024-02-12T17:37:50.064894Z",
     "iopub.status.busy": "2024-02-12T17:37:50.064758Z",
     "iopub.status.idle": "2024-02-12T17:38:03.765387Z",
     "shell.execute_reply": "2024-02-12T17:38:03.764969Z"
    },
    "id": "YptioB5PMf8T",
    "outputId": "3d0d93f1-1254-4cff-ab03-ac117b3944b2"
   },
   "outputs": [
    {
     "name": "stdout",
     "output_type": "stream",
     "text": [
      "\r",
      "DE...:   0%|          | 0/1 [00:00<?, ?it/s]"
     ]
    },
    {
     "name": "stdout",
     "output_type": "stream",
     "text": [
      "\r",
      "DE...: 100%|██████████| 1/1 [00:03<00:00,  3.49s/it]"
     ]
    },
    {
     "name": "stdout",
     "output_type": "stream",
     "text": [
      "\r",
      "DE...: 100%|██████████| 1/1 [00:03<00:00,  3.49s/it]"
     ]
    },
    {
     "name": "stdout",
     "output_type": "stream",
     "text": [
      "\n"
     ]
    },
    {
     "name": "stdout",
     "output_type": "stream",
     "text": [
      "\r",
      "DE...:   0%|          | 0/1 [00:00<?, ?it/s]"
     ]
    },
    {
     "name": "stdout",
     "output_type": "stream",
     "text": [
      "\r",
      "DE...: 100%|██████████| 1/1 [00:03<00:00,  3.49s/it]"
     ]
    },
    {
     "name": "stdout",
     "output_type": "stream",
     "text": [
      "\r",
      "DE...: 100%|██████████| 1/1 [00:03<00:00,  3.49s/it]"
     ]
    },
    {
     "name": "stdout",
     "output_type": "stream",
     "text": [
      "\n"
     ]
    },
    {
     "name": "stdout",
     "output_type": "stream",
     "text": [
      "\r",
      "DE...:   0%|          | 0/1 [00:00<?, ?it/s]"
     ]
    },
    {
     "name": "stdout",
     "output_type": "stream",
     "text": [
      "\r",
      "DE...: 100%|██████████| 1/1 [00:03<00:00,  3.33s/it]"
     ]
    },
    {
     "name": "stdout",
     "output_type": "stream",
     "text": [
      "\r",
      "DE...: 100%|██████████| 1/1 [00:03<00:00,  3.33s/it]"
     ]
    },
    {
     "name": "stdout",
     "output_type": "stream",
     "text": [
      "\n"
     ]
    },
    {
     "name": "stdout",
     "output_type": "stream",
     "text": [
      "\r",
      "DE...:   0%|          | 0/1 [00:00<?, ?it/s]"
     ]
    },
    {
     "name": "stdout",
     "output_type": "stream",
     "text": [
      "\r",
      "DE...: 100%|██████████| 1/1 [00:03<00:00,  3.37s/it]"
     ]
    },
    {
     "name": "stdout",
     "output_type": "stream",
     "text": [
      "\r",
      "DE...: 100%|██████████| 1/1 [00:03<00:00,  3.37s/it]"
     ]
    },
    {
     "name": "stdout",
     "output_type": "stream",
     "text": [
      "\n"
     ]
    },
    {
     "data": {
      "text/html": [
       "<div>\n",
       "<style scoped>\n",
       "    .dataframe tbody tr th:only-of-type {\n",
       "        vertical-align: middle;\n",
       "    }\n",
       "\n",
       "    .dataframe tbody tr th {\n",
       "        vertical-align: top;\n",
       "    }\n",
       "\n",
       "    .dataframe thead th {\n",
       "        text-align: right;\n",
       "    }\n",
       "</style>\n",
       "<table border=\"1\" class=\"dataframe\">\n",
       "  <thead>\n",
       "    <tr style=\"text-align: right;\">\n",
       "      <th></th>\n",
       "      <th>prob_da</th>\n",
       "      <th>is_da_fdr</th>\n",
       "      <th>bayes_factor</th>\n",
       "      <th>effect_size</th>\n",
       "      <th>emp_effect</th>\n",
       "      <th>est_prob1</th>\n",
       "      <th>est_prob2</th>\n",
       "      <th>emp_prob1</th>\n",
       "      <th>emp_prob2</th>\n",
       "    </tr>\n",
       "  </thead>\n",
       "  <tbody>\n",
       "    <tr>\n",
       "      <th>chr2:232535623-232538141</th>\n",
       "      <td>1.0</td>\n",
       "      <td>True</td>\n",
       "      <td>18.420681</td>\n",
       "      <td>-0.882698</td>\n",
       "      <td>-0.561986</td>\n",
       "      <td>0.930892</td>\n",
       "      <td>0.048194</td>\n",
       "      <td>0.590308</td>\n",
       "      <td>0.028322</td>\n",
       "    </tr>\n",
       "    <tr>\n",
       "      <th>chr11:60222766-60223569</th>\n",
       "      <td>1.0</td>\n",
       "      <td>True</td>\n",
       "      <td>18.420681</td>\n",
       "      <td>-0.909804</td>\n",
       "      <td>-0.516749</td>\n",
       "      <td>0.928111</td>\n",
       "      <td>0.018306</td>\n",
       "      <td>0.526432</td>\n",
       "      <td>0.009683</td>\n",
       "    </tr>\n",
       "    <tr>\n",
       "      <th>chr22:22776937-22777587</th>\n",
       "      <td>1.0</td>\n",
       "      <td>True</td>\n",
       "      <td>18.420681</td>\n",
       "      <td>-0.686685</td>\n",
       "      <td>-0.349928</td>\n",
       "      <td>0.722180</td>\n",
       "      <td>0.035496</td>\n",
       "      <td>0.367841</td>\n",
       "      <td>0.017913</td>\n",
       "    </tr>\n",
       "    <tr>\n",
       "      <th>chr3:13151900-13153013</th>\n",
       "      <td>1.0</td>\n",
       "      <td>True</td>\n",
       "      <td>18.420681</td>\n",
       "      <td>-0.859640</td>\n",
       "      <td>-0.479738</td>\n",
       "      <td>0.904662</td>\n",
       "      <td>0.045022</td>\n",
       "      <td>0.506608</td>\n",
       "      <td>0.026870</td>\n",
       "    </tr>\n",
       "    <tr>\n",
       "      <th>chr3:122294823-122297353</th>\n",
       "      <td>1.0</td>\n",
       "      <td>True</td>\n",
       "      <td>18.420681</td>\n",
       "      <td>-0.739251</td>\n",
       "      <td>-0.416631</td>\n",
       "      <td>0.872822</td>\n",
       "      <td>0.133571</td>\n",
       "      <td>0.491189</td>\n",
       "      <td>0.074558</td>\n",
       "    </tr>\n",
       "  </tbody>\n",
       "</table>\n",
       "</div>"
      ],
      "text/plain": [
       "                          prob_da  is_da_fdr  bayes_factor  effect_size  \\\n",
       "chr2:232535623-232538141      1.0       True     18.420681    -0.882698   \n",
       "chr11:60222766-60223569       1.0       True     18.420681    -0.909804   \n",
       "chr22:22776937-22777587       1.0       True     18.420681    -0.686685   \n",
       "chr3:13151900-13153013        1.0       True     18.420681    -0.859640   \n",
       "chr3:122294823-122297353      1.0       True     18.420681    -0.739251   \n",
       "\n",
       "                          emp_effect  est_prob1  est_prob2  emp_prob1  \\\n",
       "chr2:232535623-232538141   -0.561986   0.930892   0.048194   0.590308   \n",
       "chr11:60222766-60223569    -0.516749   0.928111   0.018306   0.526432   \n",
       "chr22:22776937-22777587    -0.349928   0.722180   0.035496   0.367841   \n",
       "chr3:13151900-13153013     -0.479738   0.904662   0.045022   0.506608   \n",
       "chr3:122294823-122297353   -0.416631   0.872822   0.133571   0.491189   \n",
       "\n",
       "                          emp_prob2  \n",
       "chr2:232535623-232538141   0.028322  \n",
       "chr11:60222766-60223569    0.009683  \n",
       "chr22:22776937-22777587    0.017913  \n",
       "chr3:13151900-13153013     0.026870  \n",
       "chr3:122294823-122297353   0.074558  "
      ]
     },
     "execution_count": 16,
     "metadata": {},
     "output_type": "execute_result"
    }
   ],
   "source": [
    "# (1.1) using a known factor to compare two clusters\n",
    "## two-sided is True by default, but included here for emphasis\n",
    "da_res11 = model.differential_accessibility(\n",
    "    groupby=PEAKVI_CLUSTERS_KEY, group1=\"3\", group2=\"0\", two_sided=True\n",
    ")\n",
    "\n",
    "# (1.2) using a known factor to compare a cluster against all other clusters\n",
    "## if we only provide group1, group2 is all other cells by default\n",
    "da_res12 = model.differential_accessibility(\n",
    "    groupby=PEAKVI_CLUSTERS_KEY, group1=\"3\", two_sided=False\n",
    ")\n",
    "\n",
    "# (2.1) using indices to compare two clusters\n",
    "## we can use boolean masks or integer indices for the `idx1` and `idx2` arguments\n",
    "da_res21 = model.differential_accessibility(\n",
    "    idx1=adata.obs[PEAKVI_CLUSTERS_KEY] == \"3\",\n",
    "    idx2=adata.obs[PEAKVI_CLUSTERS_KEY] == \"0\",\n",
    "    two_sided=True,\n",
    ")\n",
    "# (2.2) using indices to compare a cluster against all other clusters\n",
    "## if we don't provide idx2, it uses all other cells as the contrast\n",
    "da_res22 = model.differential_accessibility(\n",
    "    idx1=np.where(adata.obs[PEAKVI_CLUSTERS_KEY] == \"3\"),\n",
    "    two_sided=False,\n",
    ")\n",
    "\n",
    "da_res22.head()"
   ]
  },
  {
   "cell_type": "markdown",
   "metadata": {
    "id": "zWseudKHMf8U"
   },
   "source": [
    "Note that `da_res11` and `da_res21` are equivalent, as are `da_res12` and `da_res22`.\n",
    "The return value is a pandas DataFrame with the differential results and basic properties of the comparison:\n",
    "\n",
    "`prob_da` in our case is the probability of cells from cluster 0 being more than 0.05 (the default minimal effect) more accessible than cells from the rest of the data.\n",
    "\n",
    "`is_da_fdr` is a conservative classification (True/False) of whether a region is differential accessible. This is one way to threshold the results.\n",
    "\n",
    "`bayes_factor` is a statistical significance score. It doesn't have a commonly acceptable threshold (e.g 0.05 for p-values), bu we demonstrate below that it's well calibrated to the effect size.\n",
    "\n",
    "`effect_size` is the effect size, calculated as `est_prob1 - est_prob2`.\n",
    "\n",
    "`emp_effect` is the empirical effect size, calculated as `emp_prob1 - emp_prob2`.\n",
    "\n",
    "`est_prob{1,2}` are the estimated probabilities of accessibility in group1 and group2.\n",
    "\n",
    "`emp_prob{1,2}` are the empirical probabilities of detection (how many cells in group X was the region detected in).\n",
    "\n",
    "We can make sure the probability of DA is well calibrated, and look at the regions that are identified as differentially accessible:"
   ]
  },
  {
   "cell_type": "code",
   "execution_count": 17,
   "metadata": {
    "colab": {
     "base_uri": "https://localhost:8080/",
     "height": 663
    },
    "execution": {
     "iopub.execute_input": "2024-02-12T17:38:03.766891Z",
     "iopub.status.busy": "2024-02-12T17:38:03.766754Z",
     "iopub.status.idle": "2024-02-12T17:38:03.859160Z",
     "shell.execute_reply": "2024-02-12T17:38:03.858817Z"
    },
    "id": "uMenbDZ8Mf8U",
    "outputId": "253a12f9-03e5-4661-9762-08960ad7333b"
   },
   "outputs": [
    {
     "data": {
      "image/png": "[encoded data removed]",
      "text/plain": [
       "<Figure size 320x320 with 1 Axes>"
      ]
     },
     "metadata": {
      "image/png": {
       "height": 300,
       "width": 317
      }
     },
     "output_type": "display_data"
    },
    {
     "data": {
      "text/html": [
       "<div>\n",
       "<style scoped>\n",
       "    .dataframe tbody tr th:only-of-type {\n",
       "        vertical-align: middle;\n",
       "    }\n",
       "\n",
       "    .dataframe tbody tr th {\n",
       "        vertical-align: top;\n",
       "    }\n",
       "\n",
       "    .dataframe thead th {\n",
       "        text-align: right;\n",
       "    }\n",
       "</style>\n",
       "<table border=\"1\" class=\"dataframe\">\n",
       "  <thead>\n",
       "    <tr style=\"text-align: right;\">\n",
       "      <th></th>\n",
       "      <th>prob_da</th>\n",
       "      <th>is_da_fdr</th>\n",
       "      <th>bayes_factor</th>\n",
       "      <th>effect_size</th>\n",
       "      <th>emp_effect</th>\n",
       "      <th>est_prob1</th>\n",
       "      <th>est_prob2</th>\n",
       "      <th>emp_prob1</th>\n",
       "      <th>emp_prob2</th>\n",
       "    </tr>\n",
       "  </thead>\n",
       "  <tbody>\n",
       "    <tr>\n",
       "      <th>chr2:232535623-232538141</th>\n",
       "      <td>1.0</td>\n",
       "      <td>True</td>\n",
       "      <td>18.420681</td>\n",
       "      <td>-0.882698</td>\n",
       "      <td>-0.561986</td>\n",
       "      <td>0.930892</td>\n",
       "      <td>0.048194</td>\n",
       "      <td>0.590308</td>\n",
       "      <td>0.028322</td>\n",
       "    </tr>\n",
       "    <tr>\n",
       "      <th>chr16:67550946-67553518</th>\n",
       "      <td>1.0</td>\n",
       "      <td>True</td>\n",
       "      <td>18.420681</td>\n",
       "      <td>-0.746944</td>\n",
       "      <td>-0.377424</td>\n",
       "      <td>0.796463</td>\n",
       "      <td>0.049519</td>\n",
       "      <td>0.403084</td>\n",
       "      <td>0.025660</td>\n",
       "    </tr>\n",
       "    <tr>\n",
       "      <th>chr11:60222766-60223569</th>\n",
       "      <td>1.0</td>\n",
       "      <td>True</td>\n",
       "      <td>18.420681</td>\n",
       "      <td>-0.909804</td>\n",
       "      <td>-0.516749</td>\n",
       "      <td>0.928111</td>\n",
       "      <td>0.018306</td>\n",
       "      <td>0.526432</td>\n",
       "      <td>0.009683</td>\n",
       "    </tr>\n",
       "    <tr>\n",
       "      <th>chr5:55883388-55885472</th>\n",
       "      <td>1.0</td>\n",
       "      <td>True</td>\n",
       "      <td>18.420681</td>\n",
       "      <td>-0.755661</td>\n",
       "      <td>-0.427810</td>\n",
       "      <td>0.952137</td>\n",
       "      <td>0.196477</td>\n",
       "      <td>0.539648</td>\n",
       "      <td>0.111837</td>\n",
       "    </tr>\n",
       "    <tr>\n",
       "      <th>chr3:186733593-186735658</th>\n",
       "      <td>1.0</td>\n",
       "      <td>True</td>\n",
       "      <td>18.420681</td>\n",
       "      <td>-0.630135</td>\n",
       "      <td>-0.329764</td>\n",
       "      <td>0.692410</td>\n",
       "      <td>0.062275</td>\n",
       "      <td>0.361233</td>\n",
       "      <td>0.031469</td>\n",
       "    </tr>\n",
       "    <tr>\n",
       "      <th>chr8:28195531-28197587</th>\n",
       "      <td>1.0</td>\n",
       "      <td>True</td>\n",
       "      <td>18.420681</td>\n",
       "      <td>-0.846311</td>\n",
       "      <td>-0.540684</td>\n",
       "      <td>0.937371</td>\n",
       "      <td>0.091060</td>\n",
       "      <td>0.590308</td>\n",
       "      <td>0.049625</td>\n",
       "    </tr>\n",
       "    <tr>\n",
       "      <th>chr15:89199014-89200987</th>\n",
       "      <td>1.0</td>\n",
       "      <td>True</td>\n",
       "      <td>18.420681</td>\n",
       "      <td>-0.477286</td>\n",
       "      <td>-0.235269</td>\n",
       "      <td>0.534093</td>\n",
       "      <td>0.056807</td>\n",
       "      <td>0.264317</td>\n",
       "      <td>0.029049</td>\n",
       "    </tr>\n",
       "    <tr>\n",
       "      <th>chr4:2852856-2854873</th>\n",
       "      <td>1.0</td>\n",
       "      <td>True</td>\n",
       "      <td>18.420681</td>\n",
       "      <td>-0.532579</td>\n",
       "      <td>-0.268864</td>\n",
       "      <td>0.605137</td>\n",
       "      <td>0.072558</td>\n",
       "      <td>0.303965</td>\n",
       "      <td>0.035100</td>\n",
       "    </tr>\n",
       "    <tr>\n",
       "      <th>chr7:1062511-1064563</th>\n",
       "      <td>1.0</td>\n",
       "      <td>True</td>\n",
       "      <td>18.420681</td>\n",
       "      <td>-0.790935</td>\n",
       "      <td>-0.470831</td>\n",
       "      <td>0.824037</td>\n",
       "      <td>0.033101</td>\n",
       "      <td>0.488987</td>\n",
       "      <td>0.018155</td>\n",
       "    </tr>\n",
       "    <tr>\n",
       "      <th>chr19:17886105-17887874</th>\n",
       "      <td>1.0</td>\n",
       "      <td>True</td>\n",
       "      <td>18.420681</td>\n",
       "      <td>-0.640419</td>\n",
       "      <td>-0.321826</td>\n",
       "      <td>0.684176</td>\n",
       "      <td>0.043758</td>\n",
       "      <td>0.343612</td>\n",
       "      <td>0.021786</td>\n",
       "    </tr>\n",
       "  </tbody>\n",
       "</table>\n",
       "</div>"
      ],
      "text/plain": [
       "                          prob_da  is_da_fdr  bayes_factor  effect_size  \\\n",
       "chr2:232535623-232538141      1.0       True     18.420681    -0.882698   \n",
       "chr16:67550946-67553518       1.0       True     18.420681    -0.746944   \n",
       "chr11:60222766-60223569       1.0       True     18.420681    -0.909804   \n",
       "chr5:55883388-55885472        1.0       True     18.420681    -0.755661   \n",
       "chr3:186733593-186735658      1.0       True     18.420681    -0.630135   \n",
       "chr8:28195531-28197587        1.0       True     18.420681    -0.846311   \n",
       "chr15:89199014-89200987       1.0       True     18.420681    -0.477286   \n",
       "chr4:2852856-2854873          1.0       True     18.420681    -0.532579   \n",
       "chr7:1062511-1064563          1.0       True     18.420681    -0.790935   \n",
       "chr19:17886105-17887874       1.0       True     18.420681    -0.640419   \n",
       "\n",
       "                          emp_effect  est_prob1  est_prob2  emp_prob1  \\\n",
       "chr2:232535623-232538141   -0.561986   0.930892   0.048194   0.590308   \n",
       "chr16:67550946-67553518    -0.377424   0.796463   0.049519   0.403084   \n",
       "chr11:60222766-60223569    -0.516749   0.928111   0.018306   0.526432   \n",
       "chr5:55883388-55885472     -0.427810   0.952137   0.196477   0.539648   \n",
       "chr3:186733593-186735658   -0.329764   0.692410   0.062275   0.361233   \n",
       "chr8:28195531-28197587     -0.540684   0.937371   0.091060   0.590308   \n",
       "chr15:89199014-89200987    -0.235269   0.534093   0.056807   0.264317   \n",
       "chr4:2852856-2854873       -0.268864   0.605137   0.072558   0.303965   \n",
       "chr7:1062511-1064563       -0.470831   0.824037   0.033101   0.488987   \n",
       "chr19:17886105-17887874    -0.321826   0.684176   0.043758   0.343612   \n",
       "\n",
       "                          emp_prob2  \n",
       "chr2:232535623-232538141   0.028322  \n",
       "chr16:67550946-67553518    0.025660  \n",
       "chr11:60222766-60223569    0.009683  \n",
       "chr5:55883388-55885472     0.111837  \n",
       "chr3:186733593-186735658   0.031469  \n",
       "chr8:28195531-28197587     0.049625  \n",
       "chr15:89199014-89200987    0.029049  \n",
       "chr4:2852856-2854873       0.035100  \n",
       "chr7:1062511-1064563       0.018155  \n",
       "chr19:17886105-17887874    0.021786  "
      ]
     },
     "execution_count": 17,
     "metadata": {},
     "output_type": "execute_result"
    }
   ],
   "source": [
    "plt.scatter(da_res22.effect_size, da_res22.prob_da, s=1)\n",
    "plt.xlabel(\"effect size\")\n",
    "plt.ylabel(\"probability of DA\")\n",
    "plt.show()\n",
    "\n",
    "da_res22.loc[da_res22.is_da_fdr].sort_values(\"prob_da\", ascending=False).head(10)"
   ]
  },
  {
   "cell_type": "markdown",
   "metadata": {
    "id": "a8_I_8PLMf8U"
   },
   "source": [
    "We can now examine these regions to understand what is happening in the data, using various different annotation and enrichment methods. For instance, `chr11:60222766-60223569`, one of the regions preferentially accessible in cluster 0, is the promoter region of [`MS4A1`](https://www.genecards.org/cgi-bin/carddisp.pl?gene=MS4A1), also known as `CD20`, a known B-cell surface marker, indicating that cluster 0 are probably B-cells."
   ]
  }
 ],
 "metadata": {
  "accelerator": "GPU",
  "colab": {
   "name": "PeakVI_tutorial.ipynb",
   "provenance": [],
   "toc_visible": true
  },
  "kernelspec": {
   "display_name": "Python 3",
   "language": "python",
   "name": "python3"
  },
  "language_info": {
   "codemirror_mode": {
    "name": "ipython",
    "version": 3
   },
   "file_extension": ".py",
   "mimetype": "text/x-python",
   "name": "python",
   "nbconvert_exporter": "python",
   "pygments_lexer": "ipython3",
   "version": "3.11.7"
  }
 },
 "nbformat": 4,
 "nbformat_minor": 0
}
