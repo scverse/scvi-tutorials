{
 "cells": [
  {
   "attachments": {},
   "cell_type": "markdown",
   "id": "e5abf651",
   "metadata": {},
   "source": [
    "# Using scvi-hub to download pretrained scvi-tools models\n",
    "\n",
    "In this tutorial, we will learn about Hugging Face and the scvi-hub, and how you can use it to download pretrained scvi-tools\n",
    "models."
   ]
  },
  {
   "cell_type": "markdown",
   "id": "c78df63c",
   "metadata": {},
   "source": [
    "```{note}\n",
    "Running the following cell will install tutorial dependencies on Google Colab only. It will have no effect on environments other than Google Colab.\n",
    "```"
   ]
  },
  {
   "cell_type": "code",
   "execution_count": 1,
   "id": "26d9e3c8",
   "metadata": {},
   "outputs": [
    {
     "name": "stderr",
     "output_type": "stream",
     "text": [
      "/home/martinkim/bin/miniforge3/envs/scvi-11/lib/python3.11/site-packages/scvi_colab/_core.py:41: UserWarning: \n",
      "                Not currently in Google Colab environment.\n",
      "\n",
      "                Please run with `run_outside_colab=True` to override.\n",
      "\n",
      "                Returning with no further action.\n",
      "                \n",
      "  warn(\n"
     ]
    }
   ],
   "source": [
    "!pip install --quiet scvi-colab\n",
    "from scvi_colab import install\n",
    "\n",
    "install()"
   ]
  },
  {
   "cell_type": "code",
   "execution_count": 2,
   "id": "fc44fff9",
   "metadata": {},
   "outputs": [],
   "source": [
    "import tempfile\n",
    "\n",
    "import scanpy as sc\n",
    "import scvi\n",
    "import torch"
   ]
  },
  {
   "cell_type": "code",
   "execution_count": 3,
   "id": "ce72c6b4",
   "metadata": {},
   "outputs": [
    {
     "name": "stderr",
     "output_type": "stream",
     "text": [
      "Seed set to 0\n"
     ]
    },
    {
     "name": "stdout",
     "output_type": "stream",
     "text": [
      "Last run with scvi-tools version: 1.1.0rc2\n"
     ]
    }
   ],
   "source": [
    "scvi.settings.seed = 0\n",
    "print(\"Last run with scvi-tools version:\", scvi.__version__)"
   ]
  },
  {
   "cell_type": "markdown",
   "id": "2e161542",
   "metadata": {},
   "source": [
    "```{note}\n",
    "You can modify `save_dir` below to change where the data files for this tutorial are saved.\n",
    "```"
   ]
  },
  {
   "cell_type": "code",
   "execution_count": 4,
   "id": "74de5028",
   "metadata": {},
   "outputs": [],
   "source": [
    "sc.set_figure_params(figsize=(4, 4), frameon=False)\n",
    "torch.set_float32_matmul_precision(\"high\")\n",
    "save_dir = tempfile.TemporaryDirectory()\n",
    "\n",
    "%config InlineBackend.print_figure_kwargs={\"facecolor\" : \"w\"}\n",
    "%config InlineBackend.figure_format=\"retina\""
   ]
  },
  {
   "attachments": {},
   "cell_type": "markdown",
   "id": "14f43c53",
   "metadata": {},
   "source": [
    "## Overview\n",
    "\n",
    "**TL;DR**: Hugging Face is a Cloud-based platform that's ideal for storage and sharing of pre-trained ML models. We provide an interface to it in scvi-tools and store pre-trained scvi-tools models on the Hugging Face Model Hub. Read on for more details or jump [here](#Download-models) for practical examples."
   ]
  },
  {
   "attachments": {},
   "cell_type": "markdown",
   "id": "ae68f034",
   "metadata": {},
   "source": [
    "### What is Hugging Face 🤗?\n",
    "\n",
    "[Hugging Face](https://en.wikipedia.org/wiki/Hugging_Face) (HF for short) is a suite of tools for building ML-based applications.\n",
    "\n",
    "The Hugging Face Hub is a platform for sharing and using pretrained models, as well as other entities such as datasets and demo apps (called Spaces). The [Model Hub](https://huggingface.co/models) — the HF Hub for pretained models — includes models trained on a variety of tasks including but not limited to NLP, computer vision, audio, and many other domains. You can find more information about the HF Hub [here](https://huggingface.co/docs/hub/index) and about the HF Model Hub [here](https://huggingface.co/docs/hub/models-the-hub).\n",
    "\n",
    "Here are a few interesting characteristics of the HF Model Hub that make it ideal for model-sharing:\n",
    "\n",
    "- **Git-based**. The hub is built on top of Github. This means that you can use all the features of Github to manage your models. For example, you can use Github's pull requests to review changes before committing them. This also means that you can use Github's version control to track changes to your models.\n",
    "- **Community Tab**. Models feature a Community Tab that allows users to ask questions and report issues. This is a great way to get feedback on your models and to help others who are using your models.\n",
    "- **Model Cards**. All models have a uniform UI that makes it easy to find information about the model, without being overly prescriptive. This is realized in the form of a README.md file that serves as the Model Card. The Model Card is a great way to document your model and to provide information about how to use it. You can find more information about the Model Card [here](https://huggingface.co/docs/hub/model-cards).\n",
    "- **Discoverability**. You can tag models with a variety of tags to make it easier for users to find your model. For example, you can tag your model with the task it was trained on, the language it uses, the framework it was trained with, and more, including custom tags. These can then be used by users when searching for your model. You can also use the search bar to search for models by name."
   ]
  },
  {
   "attachments": {},
   "cell_type": "markdown",
   "id": "2ac1d2ee",
   "metadata": {},
   "source": [
    "<img src=\"https://raw.githubusercontent.com/scverse/scvi-tutorials/main/figures/hf_hub_tag_search.png?raw=true\" alt=\"HF Model Hub search by tags and name\" />"
   ]
  },
  {
   "attachments": {},
   "cell_type": "markdown",
   "id": "fa652f82",
   "metadata": {},
   "source": [
    "### What is scvi-hub?\n",
    "\n",
    "scvi-hub, accessible via `import scvi.hub`, allows programmatic access to Hugging Face for uploading (pushing) and downloading (pulling) pretrained model. Under the hood, scvi-hub uses the [huggingface_hub](https://huggingface.co/docs/huggingface_hub/index) Python API to interact with the HF Model Hub.\n",
    "\n",
    "A few ways in which scvi-hub is useful:\n",
    "\n",
    "- Enables HF upload/download operations directly from scvi-tools, so you don't have to learn how to use the `huggingface_hub` API\n",
    "- Lazily loads data and models into memory by deferring loading — and in some cases large data downloads — unless and until you need them\n",
    "- Provides helpers for creating Model Cards and Hub Models given only the directory where your pretrained model is stored. This way we'll pull out all the interesting info from the model/data objects and populate the Model Card with it so you don't have to.\n",
    "- Provides a common template for the Model Card that you're encouraged — but not required — to use. This makes most scvi-tools models look consistent on the HF Model Hub. However this is a convenience and not a requirement. You can always create your own Model Card. *scvi-tools does not take any dependency on the contents of the Model Card (including the tags). More on this later.*\n",
    "\n",
    "The second thing the term scvi-hub designates is the collection of pretrained scvi-tools models that are hosted on the HF Model Hub. Currently you can see all such models by clicking [here](https://huggingface.co/models?filter=scvi-tools). Soon, scvi-tools will be a first-class citizen library on the HF Model Hub, which means that you will be able to find all scvi-tools models by clicking on ths scvi-tools library button as shown below."
   ]
  },
  {
   "attachments": {},
   "cell_type": "markdown",
   "id": "dab75f5d",
   "metadata": {},
   "source": [
    "<img src=\"https://raw.githubusercontent.com/scverse/scvi-tutorials/main/figures/scvi_tools_hf_library.png?raw=true\" alt=\"scvi-tools as a library on HF Model Hub\" />"
   ]
  },
  {
   "attachments": {},
   "cell_type": "markdown",
   "id": "8dbde9e5",
   "metadata": {},
   "source": [
    "### Anatomy of a pretrained scvi-tools model on the HF model hub\n",
    "\n",
    "Here is an example of a scvi-tools model pretrained on synthetic data. Below we highlight its different components."
   ]
  },
  {
   "attachments": {},
   "cell_type": "markdown",
   "id": "96cda097",
   "metadata": {},
   "source": [
    "<img src=\"https://raw.githubusercontent.com/scverse/scvi-tutorials/main/figures/demo_hub_model_anatomy.png?raw=true\" alt=\"anatomy of an scvi-tools model on HF Model Hub\" />"
   ]
  },
  {
   "attachments": {},
   "cell_type": "markdown",
   "id": "251a7897",
   "metadata": {},
   "source": [
    "Most of our model tags and Model Card sections are self-explanatory. Nonetheless, below we provide a brief description for each of them.\n",
    "\n",
    "Tags:\n",
    "\n",
    "- ***License***\n",
    "- ***Library name***. \"scvi-tools\" for all scvi-tools models.\n",
    "- ***Model class name***. The name of the scvi-tools model class that was used to train the model. For example, \"SCVI\" for a `scvi.model.SCVI` model.\n",
    "- ***scvi-tools version***. The version of scvi-tools that was used to train the model.\n",
    "- ***anndata version***. The version of anndata that was used when training the model.\n",
    "- ***Modalities***. The modalities that were used to train the model. For example, \"modality:rna\" for a model trained on RNA-seq data only.\n",
    "- ***Tissues***. The tissues present in the data that was used to train the model. For example, \"tissue:skin\".\n",
    "- ***Annotated***. Whether the data contains curated annotations (cell types).\n",
    "\n",
    "Model Card sections:\n",
    "\n",
    "- ***Description***. A brief description of the model.\n",
    "- ***Model init params***. The parameters that were used to initialize the model, i.e, passed into the model's `__init__` method.\n",
    "- ***Model setup_anndata args***. The parameters that were used to call this model's `setup_anndata` method.\n",
    "- ***Model summary stats***. A table containing summary statistics for the anndata object registered for this model.\n",
    "- ***Model data registry***. A table containing the data registry for the anndata object registered for this model.\n",
    "- ***Model parent module***. The name of the scvi-tools module that contains the model class. For example \"scvi.model\" for a `scvi.model.SCVI` model.\n",
    "- ***Data is minified***. Whether the data is minified or not.\n",
    "- ***Training data***. An optional url to where the training data is stored if it is too large to host on the Hugging Face Model hub. More on this in a future section.\n",
    "- ***Training code***. An optional url to a script describing how the model was trained.\n",
    "- ***References***"
   ]
  },
  {
   "attachments": {},
   "cell_type": "markdown",
   "id": "ac80797a",
   "metadata": {},
   "source": [
    "### \\_scvi_required_metadata.json\n",
    "\n",
    "If you have been exploring the demo model, you  might have noticed a file under \"Files and versions\" named \\_scvi_required_metadata.json. As its name implies, this file contains metadata that is required for scvi-tools to be able to accomplish certain tasks such as loading your model. As we will see in the scvi-hub upload tutorial, we provide utilities to auto-generate this file, much like we do for the Model Card.\n",
    "\n",
    "You might notice that certain attributes in this file coincide with Model Card content/metadata. However, we chose to store these in a separate file (despite the minor duplication), so as to avoid building dependency on the Model Card. This way, you are free to have the Model Card content that you desire your users to see, all the while still being able to use scvi-tools to interact with your model.\n",
    "\n",
    "Two things are important to keep in mind with respect to the required metadata file:\n",
    "\n",
    "- For the most part you don't need to worry about this file. However, you should still know what is in it so that if you modify certain things, you update the metadata file accordingly. For instance, the metadata file currently includes the `training_data_url`. So if you change where the training data is stored, you should update this field or else scvi-tools will fail to load the model/data.\n",
    "- Other than cases such as the above, please do not tamper with this file nor remove it."
   ]
  },
  {
   "attachments": {},
   "cell_type": "markdown",
   "id": "4384da4c",
   "metadata": {},
   "source": [
    "### Glossary\n",
    "\n",
    "A vocabulary reference that you might find useful:\n",
    "\n",
    "- **Hugging Face/HF**: a suite of tools for building ML-based applications.\n",
    "- **HF Hub**: a platform for sharing/using ML-related products by the community, including pretrained models, datasets, and demo apps (called HF Spaces)\n",
    "- **HF Model Hub**: the HF Hub for pretained models\n",
    "- **HF Hub Model**: a pretrained model hosted on the HF Model Hub\n",
    "- **Repository**: a collection of files that are tracked by Git. You hear this in Github parlance, but it's also used with HF, because as we saw earlier each HF Model is essentially a Git repository. So sometimes, you'll hear people refer to a HF Hub Model as a repository or a Model repository.\n",
    "- **scvi-tools**: Y'all know and love it already 😊\n",
    "- **scvi-hub**:\n",
    "  - a submodule of scvi-tools (`scvi.hub`) that handles interaction with HF\n",
    "  - this term also refers to the collection of pretrained scvi-tools models hosted on the HF Model Hub"
   ]
  },
  {
   "attachments": {},
   "cell_type": "markdown",
   "id": "2a55df28",
   "metadata": {},
   "source": [
    "### Code overview\n",
    "\n",
    "Below we provide a brief overview of the main classes and functions that you will be interacting with. You can of course read more in our scvi-tools API docs.\n",
    "\n",
    "- `scvi.hub.HubModel`. This class represents a pretrained scvi-tools model on the HF Model Hub. For example the demo-model we saw earlier would be abstracted as a HubModel. You will mainly use this class to:\n",
    "  - Push a new model to the HF Model Hub.\n",
    "  - Pull an existing model from the HF Model Hub.\n",
    "  - Load the pretrained model into memory. This is done by invoking the `HubModel.model` property which will automatically load the model into memory if it is not already loaded. This will also load the data; see below for what that does.\n",
    "  - Load the data that was used to train the model into memory. This is done by invoking the `HubModel.adata` property which will automatically load the data into memory if it is not already loaded. This will also download the data from the given `training_data_url` if needed. We will learn more about large data handling in the scvi-hub upload tutorial.\n",
    "- `scvi.hub.HubModelCardHelper`. As its name indicates, this class helps in generating a Model Card that works for most scvi-tools models. You can do so by calling its `from_dir` class method which will automatically populate the Model Card with relevant information from the model and data objects, located at the given directory. You can also give it some more metadata that cannot be auto-inferred (such as license). The corresponding HF [Model Card](https://huggingface.co/docs/huggingface_hub/package_reference/cards#huggingface_hub.ModelCard) object is accessible via the `model_card` property.\n",
    "- `scvi.hub.HubMetadata`. This class encapsulates the metadata that is present in the \\_scvi_required_metadata.json file. Like `HubModelCardHelper`, it has a `from_dir` class method that can be used to auto-generate it using the model and data objects located at a given directory."
   ]
  },
  {
   "attachments": {},
   "cell_type": "markdown",
   "id": "ac5fdf39",
   "metadata": {},
   "source": [
    "## Download models\n",
    "\n",
    "Before we move on to downloading models, let's first add the Python imports we need."
   ]
  },
  {
   "cell_type": "code",
   "execution_count": 5,
   "id": "512390c6",
   "metadata": {},
   "outputs": [],
   "source": [
    "from scvi.hub import HubModel"
   ]
  },
  {
   "attachments": {},
   "cell_type": "markdown",
   "id": "6bf06051",
   "metadata": {},
   "source": [
    "Now, let's use scvi-tools to download a model. We'll use the demo-model we saw previously."
   ]
  },
  {
   "cell_type": "code",
   "execution_count": 6,
   "id": "89938623",
   "metadata": {},
   "outputs": [
    {
     "data": {
      "application/vnd.jupyter.widget-view+json": {
       "model_id": "1ea49f2e748948ed951d11724087c5bc",
       "version_major": 2,
       "version_minor": 0
      },
      "text/plain": [
       "Fetching 3 files:   0%|          | 0/3 [00:00<?, ?it/s]"
      ]
     },
     "metadata": {},
     "output_type": "display_data"
    },
    {
     "data": {
      "application/vnd.jupyter.widget-view+json": {
       "model_id": "373dd1ad49a6458b9ea00ee1d0b4ec02",
       "version_major": 2,
       "version_minor": 0
      },
      "text/plain": [
       "adata.h5ad:   0%|          | 0.00/1.01M [00:00<?, ?B/s]"
      ]
     },
     "metadata": {},
     "output_type": "display_data"
    },
    {
     "data": {
      "application/vnd.jupyter.widget-view+json": {
       "model_id": "e27f8cc038e84d2d81611fb2c7caecbf",
       "version_major": 2,
       "version_minor": 0
      },
      "text/plain": [
       "model.pt:   0%|          | 0.00/304k [00:00<?, ?B/s]"
      ]
     },
     "metadata": {},
     "output_type": "display_data"
    },
    {
     "data": {
      "application/vnd.jupyter.widget-view+json": {
       "model_id": "a3a76ba3278c4834aa30e929ca987ac8",
       "version_major": 2,
       "version_minor": 0
      },
      "text/plain": [
       "_scvi_required_metadata.json:   0%|          | 0.00/172 [00:00<?, ?B/s]"
      ]
     },
     "metadata": {},
     "output_type": "display_data"
    }
   ],
   "source": [
    "hmo = HubModel.pull_from_huggingface_hub(\n",
    "    repo_name=\"scvi-tools/test-scvi\",\n",
    "    cache_dir=save_dir.name,\n",
    "    revision=\"main\",\n",
    ")"
   ]
  },
  {
   "attachments": {},
   "cell_type": "markdown",
   "id": "ba4e9ae8",
   "metadata": {},
   "source": [
    "Notice the local directory property `hmo.local_dir`. This where Hugging Face caches the data it downloads. Hugging Face uses a heuristic to determine the location (more [here](https://huggingface.co/docs/huggingface_hub/how-to-cache)). As we did above, you can override it by calling:\n",
    "\n",
    "`hmo = HubModel.pull_from_huggingface_hub(repo_name=\"scvi-tools/demo-model\", cache_dir=\"/path/to/cache/dir\")`\n",
    "\n",
    "Next we can see the metadata and the model card. We also see that the model and data are not yet loaded into memory. We can load them by calling `hmo.model`, and `hmo.adata` respectively."
   ]
  },
  {
   "cell_type": "code",
   "execution_count": 7,
   "id": "a42a1eef",
   "metadata": {},
   "outputs": [
    {
     "name": "stdout",
     "output_type": "stream",
     "text": [
      "\u001b[34mINFO    \u001b[0m Loading model\u001b[33m...\u001b[0m                                                                                          \n",
      "\u001b[34mINFO    \u001b[0m File                                                                                                      \n",
      "         \u001b[35m/tmp/tmprdl64_l0/models--scvi-tools--test-scvi/snapshots/e6d2074cc12961f99af4e72b7ae5d0e63e2cb99d/\u001b[0m\u001b[95mmodel.pt\u001b[0m\n",
      "         already downloaded                                                                                        \n"
     ]
    },
    {
     "name": "stderr",
     "output_type": "stream",
     "text": [
      "/home/martinkim/bin/miniforge3/envs/scvi-11/lib/python3.11/site-packages/anndata/__init__.py:51: FutureWarning: `anndata.read` is deprecated, use `anndata.read_h5ad` instead. `ad.read` will be removed in mid 2024.\n",
      "  warnings.warn(\n",
      "<frozen abc>:119: FutureWarning: SparseDataset is deprecated and will be removed in late 2024. It has been replaced by the public classes CSRDataset and CSCDataset.\n",
      "\n",
      "For instance checks, use `isinstance(X, (anndata.experimental.CSRDataset, anndata.experimental.CSCDataset))` instead.\n",
      "\n",
      "For creation, use `anndata.experimental.sparse_dataset(X)` instead.\n",
      "\n"
     ]
    },
    {
     "data": {
      "text/html": [
       "<pre style=\"white-space:pre;overflow-x:auto;line-height:normal;font-family:Menlo,'DejaVu Sans Mono',consolas,'Courier New',monospace\">SCVI Model with the following params: \n",
       "n_hidden: <span style=\"color: #008080; text-decoration-color: #008080; font-weight: bold\">128</span>, n_latent: <span style=\"color: #008080; text-decoration-color: #008080; font-weight: bold\">10</span>, n_layers: <span style=\"color: #008080; text-decoration-color: #008080; font-weight: bold\">1</span>, dropout_rate: <span style=\"color: #008080; text-decoration-color: #008080; font-weight: bold\">0.1</span>, dispersion: gene, gene_likelihood: zinb, \n",
       "latent_distribution: normal\n",
       "Training status: Trained\n",
       "Model's adata is minified?: <span style=\"color: #ff0000; text-decoration-color: #ff0000; font-style: italic\">False</span>\n",
       "</pre>\n"
      ],
      "text/plain": [
       "SCVI Model with the following params: \n",
       "n_hidden: \u001b[1;36m128\u001b[0m, n_latent: \u001b[1;36m10\u001b[0m, n_layers: \u001b[1;36m1\u001b[0m, dropout_rate: \u001b[1;36m0.1\u001b[0m, dispersion: gene, gene_likelihood: zinb, \n",
       "latent_distribution: normal\n",
       "Training status: Trained\n",
       "Model's adata is minified?: \u001b[3;91mFalse\u001b[0m\n"
      ]
     },
     "metadata": {},
     "output_type": "display_data"
    },
    {
     "data": {
      "text/plain": []
     },
     "execution_count": 7,
     "metadata": {},
     "output_type": "execute_result"
    }
   ],
   "source": [
    "hmo.model"
   ]
  },
  {
   "cell_type": "code",
   "execution_count": 8,
   "id": "b8b7e11a",
   "metadata": {},
   "outputs": [
    {
     "name": "stdout",
     "output_type": "stream",
     "text": [
      "\u001b[34mINFO    \u001b[0m Reading adata\u001b[33m...\u001b[0m                                                                                          \n"
     ]
    },
    {
     "data": {
      "text/plain": [
       "AnnData object with n_obs × n_vars = 400 × 100\n",
       "    obs: 'batch', 'labels', '_scvi_batch', '_scvi_labels'\n",
       "    uns: '_scvi_manager_uuid', '_scvi_uuid', 'protein_names'\n",
       "    obsm: 'accessibility', 'protein_expression'"
      ]
     },
     "execution_count": 8,
     "metadata": {},
     "output_type": "execute_result"
    }
   ],
   "source": [
    "hmo.adata"
   ]
  },
  {
   "attachments": {},
   "cell_type": "markdown",
   "id": "f1d0bcb5",
   "metadata": {},
   "source": [
    "```{note}\n",
    "It is always possible to use another dataset than the data associated with the model. You may do so by calling `HubModel.load_model` and providing the `adata` parameter. This workflow follows the same rules as in regular scvi-tools -- your data is validated against the data the model was trained on.\n",
    "```"
   ]
  },
  {
   "attachments": {},
   "cell_type": "markdown",
   "id": "aef14732",
   "metadata": {},
   "source": [
    "## Large training data\n",
    "\n",
    "Depending on the size of the dataset used to train the model, there can be different scenarios, described below.\n",
    "\n",
    "1. The model and its full training data are stored in the HF Hub Model.\\\n",
    "   👉 In this case:\\\n",
    "   `hmo.model` and `hmo.load_model()` will load the model using the full training data.\\\n",
    "   `hmo.adata` and `hmo.read_adata()` will load the full training data.\\\n",
    "   `hmo.large_training_adata` and `hmo.read_large_training_adata()` will no-op (and return None) since there is no link to the full training data.\n",
    "1. The model and a minification of the training data are stored in the HF Hub Model. Optionally, there may be a link to the full (i.e., non-minified) training data in the Hub Model metadata.\\\n",
    "   👉 In this case:\\\n",
    "   `hmo.model` and `hmo.load_model()` will load the model using the minified data.\\\n",
    "   `hmo.adata` and `hmo.read_adata()` will load the minified data.\\\n",
    "   `hmo.large_training_adata` and `hmo.read_large_training_adata()` will download and load into memory the full training data if there is a link to it, else it will no-op (and return None).\n",
    "1. Only the model is stored in the HF Hub Model. There should be a link to the full training data in the Hub Model metadata.\\\n",
    "   👉 In this case:\\\n",
    "   `hmo.model` and `hmo.load_model()` will download the full training data and load the model using the latter.\\\n",
    "   `hmo.adata` and `hmo.read_adata()` will no-op (and return None).\\\n",
    "   `hmo.large_training_adata` and `hmo.read_large_training_adata()` will download and load into memory the full training data."
   ]
  },
  {
   "attachments": {},
   "cell_type": "markdown",
   "id": "a5e0366f",
   "metadata": {},
   "source": [
    "## Versioning\n",
    "\n",
    "HF uses Git to seamlessly handle versioning. So if you want to download a specific version of a model, you can do so by specifying the commit hash. You can pass this into the pull function via the revision argument."
   ]
  },
  {
   "attachments": {},
   "cell_type": "markdown",
   "id": "548330ea",
   "metadata": {},
   "source": [
    "```{important}\n",
    "Though the \"revision\" argument is not required to allow flexibility, we highly recommend that you always provide it. This is because files might get updated on the HF Hub Model (e.g., by other collaborators or model maintainers), and if you don't specify a revision, you might end up with a different version of the model than you intended.\n",
    "```"
   ]
  },
  {
   "attachments": {},
   "cell_type": "markdown",
   "id": "898ea41d",
   "metadata": {},
   "source": [
    "## Next steps\n",
    "\n",
    "So what's next? Well you can now use the model to do whatever you want, as if you had trained a model yourself using the scvi-tools API. For example, you can use the model to generate latent representations of your data, or to perform differential expression analysis. Additionally, for certain models, you can fine-tune them on your own data.\n",
    "\n",
    "Please browse the scvi-tools tutorials for explicit examples using scvi-hub in workflows."
   ]
  }
 ],
 "metadata": {
  "kernelspec": {
   "display_name": "scvi-hub",
   "language": "python",
   "name": "python3"
  },
  "language_info": {
   "codemirror_mode": {
    "name": "ipython",
    "version": 3
   },
   "file_extension": ".py",
   "mimetype": "text/x-python",
   "name": "python",
   "nbconvert_exporter": "python",
   "pygments_lexer": "ipython3",
   "version": "3.11.7"
  },
  "vscode": {
   "interpreter": {
    "hash": "c7ad0fb529154325adae80858adf69263139128ad86800d0218f40cb1980a4c2"
   }
  }
 },
 "nbformat": 4,
 "nbformat_minor": 5
}
