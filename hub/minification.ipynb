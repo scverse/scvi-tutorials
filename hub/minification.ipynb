{
 "cells": [
  {
   "attachments": {},
   "cell_type": "markdown",
   "id": "e5abf651",
   "metadata": {},
   "source": [
    "# Minification\n",
    "\n",
    "Minification refers to the process of reducing the amount of content in your dataset in a smart way. This can be useful for various sorts of reasons and there can be different ways you might want to do this (we call these minification types). Currently, the only type of minification we support is one where we replace the count data with the parameters of the latent posterior distribution, estimated by a trained model. We will focus this tutorial on this type of minification.\n",
    "\n",
    "There are multiple motivations for minifying the data in this way:\n",
    "\n",
    "- The data is more compact, so it takes up less space on disk and in memory.\n",
    "- Data transfer (share, upload, download) is more smooth owing to the smaller data size.\n",
    "- By using the latent posterior parameters, we can skip the encoder network and save on computation time.\n",
    "\n",
    "The reason why this is that most post-training routines for scvi-tools models do not in fact require the full counts. Once your model is trained, you essentially only need the model weights and the pre-computed embeddings to carry out analyses. There are certain exceptions to this, but those routines will alert you if you try to call them with a minified dataset.\n",
    "\n",
    "<img src=\"https://raw.githubusercontent.com/scverse/scvi-tutorials/main/figures/minification.svg?raw=true\" alt=\"Minification overview\" />\n",
    "\n",
    "Moreover, you can actually use the latent posterior and the decoder network to estimate the original counts! This is of course not the exact same thing as using your actual full counts, but we can show that it is a good approximation using posterior predictive metrics (paper link tbd).\n",
    "\n",
    "Let's now see how to minify a dataset and use the corresponding model."
   ]
  },
  {
   "cell_type": "markdown",
   "id": "e8e5ae1c",
   "metadata": {},
   "source": [
    "Uncomment the following lines in Google Colab in order to install `scvi-tools`:"
   ]
  },
  {
   "cell_type": "code",
   "execution_count": 1,
   "id": "26d9e3c8",
   "metadata": {},
   "outputs": [],
   "source": [
    "# !pip install --quiet scvi-colab\n",
    "# from scvi_colab import install\n",
    "\n",
    "# install()"
   ]
  },
  {
   "cell_type": "code",
   "execution_count": 2,
   "id": "53758a1c",
   "metadata": {},
   "outputs": [],
   "source": [
    "import os\n",
    "import tempfile\n",
    "\n",
    "import scanpy as sc\n",
    "import scvi\n",
    "import torch"
   ]
  },
  {
   "cell_type": "code",
   "execution_count": 3,
   "id": "e862c7c3",
   "metadata": {},
   "outputs": [
    {
     "name": "stdout",
     "output_type": "stream",
     "text": [
      "Last run with scvi-tools version: 1.0.3\n"
     ]
    }
   ],
   "source": [
    "scvi.settings.seed = 0\n",
    "print(\"Last run with scvi-tools version:\", scvi.__version__)"
   ]
  },
  {
   "cell_type": "markdown",
   "id": "4620a142",
   "metadata": {},
   "source": [
    "You can modify `save_dir` below to change where the data files for this tutorial are saved."
   ]
  },
  {
   "cell_type": "code",
   "execution_count": 4,
   "id": "f72dddb4",
   "metadata": {},
   "outputs": [],
   "source": [
    "sc.set_figure_params(figsize=(4, 4), frameon=False)\n",
    "torch.set_float32_matmul_precision(\"high\")\n",
    "save_dir = tempfile.TemporaryDirectory()\n",
    "\n",
    "%config InlineBackend.print_figure_kwargs={\"facecolor\" : \"w\"}\n",
    "%config InlineBackend.figure_format=\"retina\""
   ]
  },
  {
   "attachments": {},
   "cell_type": "markdown",
   "id": "48c07965",
   "metadata": {},
   "source": [
    "## Get the data and model\n",
    "\n",
    "Here we use the data and pre-trained model obtained from running [this](https://docs.scvi-tools.org/en/stable/tutorials/notebooks/api_overview.html) scvi-tools tutorial.\n",
    "\n",
    "The dataset used is a subset of the heart cell atlas dataset:\\\n",
    "Litviňuková, M., Talavera-López, C., Maatz, H., Reichart, D., Worth, C. L., Lindberg, E. L., … & Teichmann, S. A. (2020). Cells of the adult human heart. Nature, 588(7838), 466-472.\n",
    "\n",
    "Let's train the model as usual. Also save the model and data on disk as we'll need them later."
   ]
  },
  {
   "cell_type": "code",
   "execution_count": 5,
   "id": "22869494",
   "metadata": {},
   "outputs": [
    {
     "name": "stdout",
     "output_type": "stream",
     "text": [
      "\u001b[34mINFO    \u001b[0m Downloading file at \u001b[35m/tmp/tmpkgqgzthm/\u001b[0m\u001b[95mhca_subsampled_20k.h5ad\u001b[0m                                              \n",
      "Downloading...: 100%|██████████| 65714/65714.0 [00:00<00:00, 106621.30it/s]\n"
     ]
    }
   ],
   "source": [
    "adata = scvi.data.heart_cell_atlas_subsampled(save_path=save_dir.name)"
   ]
  },
  {
   "cell_type": "code",
   "execution_count": 6,
   "id": "05c34f47",
   "metadata": {},
   "outputs": [],
   "source": [
    "sc.pp.filter_genes(adata, min_counts=3)\n",
    "adata.layers[\"counts\"] = adata.X.copy()\n",
    "sc.pp.normalize_total(adata, target_sum=1e4)\n",
    "sc.pp.log1p(adata)\n",
    "adata.raw = adata\n",
    "sc.pp.highly_variable_genes(\n",
    "    adata,\n",
    "    n_top_genes=1200,\n",
    "    subset=True,\n",
    "    layer=\"counts\",\n",
    "    flavor=\"seurat_v3\",\n",
    "    batch_key=\"cell_source\",\n",
    ")"
   ]
  },
  {
   "cell_type": "code",
   "execution_count": 7,
   "id": "bcd5e56d",
   "metadata": {},
   "outputs": [],
   "source": [
    "scvi.model.SCVI.setup_anndata(\n",
    "    adata,\n",
    "    layer=\"counts\",\n",
    "    categorical_covariate_keys=[\"cell_source\", \"donor\"],\n",
    "    continuous_covariate_keys=[\"percent_mito\", \"percent_ribo\"],\n",
    ")\n",
    "model = scvi.model.SCVI(adata)"
   ]
  },
  {
   "cell_type": "code",
   "execution_count": 8,
   "id": "84345f0d",
   "metadata": {},
   "outputs": [
    {
     "name": "stderr",
     "output_type": "stream",
     "text": [
      "GPU available: True (cuda), used: True\n",
      "TPU available: False, using: 0 TPU cores\n",
      "IPU available: False, using: 0 IPUs\n",
      "HPU available: False, using: 0 HPUs\n"
     ]
    },
    {
     "name": "stdout",
     "output_type": "stream",
     "text": [
      "Epoch 20/20: 100%|██████████| 20/20 [00:14<00:00,  1.49it/s, v_num=1, train_loss_step=317, train_loss_epoch=282]"
     ]
    },
    {
     "name": "stderr",
     "output_type": "stream",
     "text": [
      "`Trainer.fit` stopped: `max_epochs=20` reached.\n"
     ]
    },
    {
     "name": "stdout",
     "output_type": "stream",
     "text": [
      "Epoch 20/20: 100%|██████████| 20/20 [00:14<00:00,  1.43it/s, v_num=1, train_loss_step=317, train_loss_epoch=282]\n"
     ]
    }
   ],
   "source": [
    "model.train(max_epochs=20)"
   ]
  },
  {
   "cell_type": "code",
   "execution_count": 9,
   "id": "a45cec7d",
   "metadata": {},
   "outputs": [],
   "source": [
    "model_path = os.path.join(save_dir.name, \"scvi_hca\")\n",
    "model.save(model_path, save_anndata=True, overwrite=True)"
   ]
  },
  {
   "cell_type": "code",
   "execution_count": 10,
   "id": "0ba49f7b",
   "metadata": {},
   "outputs": [
    {
     "name": "stdout",
     "output_type": "stream",
     "text": [
      "\u001b[34mINFO    \u001b[0m File \u001b[35m/tmp/tmpkgqgzthm/scvi_hca/\u001b[0m\u001b[95mmodel.pt\u001b[0m already downloaded                                                \n"
     ]
    },
    {
     "data": {
      "text/html": [
       "<pre style=\"white-space:pre;overflow-x:auto;line-height:normal;font-family:Menlo,'DejaVu Sans Mono',consolas,'Courier New',monospace\">SCVI Model with the following params: \n",
       "n_hidden: <span style=\"color: #008080; text-decoration-color: #008080; font-weight: bold\">128</span>, n_latent: <span style=\"color: #008080; text-decoration-color: #008080; font-weight: bold\">10</span>, n_layers: <span style=\"color: #008080; text-decoration-color: #008080; font-weight: bold\">1</span>, dropout_rate: <span style=\"color: #008080; text-decoration-color: #008080; font-weight: bold\">0.1</span>, dispersion: gene, gene_likelihood: zinb, \n",
       "latent_distribution: normal\n",
       "Training status: Trained\n",
       "Model's adata is minified?: <span style=\"color: #ff0000; text-decoration-color: #ff0000; font-style: italic\">False</span>\n",
       "</pre>\n"
      ],
      "text/plain": [
       "SCVI Model with the following params: \n",
       "n_hidden: \u001b[1;36m128\u001b[0m, n_latent: \u001b[1;36m10\u001b[0m, n_layers: \u001b[1;36m1\u001b[0m, dropout_rate: \u001b[1;36m0.1\u001b[0m, dispersion: gene, gene_likelihood: zinb, \n",
       "latent_distribution: normal\n",
       "Training status: Trained\n",
       "Model's adata is minified?: \u001b[3;91mFalse\u001b[0m\n"
      ]
     },
     "metadata": {},
     "output_type": "display_data"
    },
    {
     "data": {
      "text/plain": []
     },
     "execution_count": 10,
     "metadata": {},
     "output_type": "execute_result"
    }
   ],
   "source": [
    "model = scvi.model.SCVI.load(model_path)\n",
    "model"
   ]
  },
  {
   "attachments": {},
   "cell_type": "markdown",
   "id": "435542fe",
   "metadata": {},
   "source": [
    "Note that, as expected, \"Model's adata is minified\" is False."
   ]
  },
  {
   "cell_type": "code",
   "execution_count": 11,
   "id": "8fe7cd11",
   "metadata": {},
   "outputs": [
    {
     "data": {
      "text/plain": [
       "AnnData object with n_obs × n_vars = 18641 × 1200\n",
       "    obs: 'NRP', 'age_group', 'cell_source', 'cell_type', 'donor', 'gender', 'n_counts', 'n_genes', 'percent_mito', 'percent_ribo', 'region', 'sample', 'scrublet_score', 'source', 'type', 'version', 'cell_states', 'Used', '_scvi_batch', '_scvi_labels'\n",
       "    var: 'gene_ids-Harvard-Nuclei', 'feature_types-Harvard-Nuclei', 'gene_ids-Sanger-Nuclei', 'feature_types-Sanger-Nuclei', 'gene_ids-Sanger-Cells', 'feature_types-Sanger-Cells', 'gene_ids-Sanger-CD45', 'feature_types-Sanger-CD45', 'n_counts', 'highly_variable', 'highly_variable_rank', 'means', 'variances', 'variances_norm', 'highly_variable_nbatches'\n",
       "    uns: '_scvi_manager_uuid', '_scvi_uuid', 'cell_type_colors', 'hvg', 'log1p'\n",
       "    obsm: '_scvi_extra_categorical_covs', '_scvi_extra_continuous_covs'\n",
       "    layers: 'counts'"
      ]
     },
     "execution_count": 11,
     "metadata": {},
     "output_type": "execute_result"
    }
   ],
   "source": [
    "model.adata"
   ]
  },
  {
   "attachments": {},
   "cell_type": "markdown",
   "id": "150f41f6",
   "metadata": {},
   "source": [
    "Notice that in addition to `adata.X`, we also have a layer (`counts`) and a `raw` attribute."
   ]
  },
  {
   "cell_type": "code",
   "execution_count": 12,
   "id": "4184fcfc",
   "metadata": {},
   "outputs": [
    {
     "data": {
      "text/plain": [
       "<anndata._core.raw.Raw at 0x7f1171ec4ad0>"
      ]
     },
     "execution_count": 12,
     "metadata": {},
     "output_type": "execute_result"
    }
   ],
   "source": [
    "model.adata.raw"
   ]
  },
  {
   "attachments": {},
   "cell_type": "markdown",
   "id": "832acb1e",
   "metadata": {},
   "source": [
    "Let's also save a reference to `model.adata`. We'll see later that this remains unchanged because **minification is not an inplace procedure**."
   ]
  },
  {
   "cell_type": "code",
   "execution_count": 13,
   "id": "776e0e84",
   "metadata": {},
   "outputs": [
    {
     "data": {
      "text/plain": [
       "True"
      ]
     },
     "execution_count": 13,
     "metadata": {},
     "output_type": "execute_result"
    }
   ],
   "source": [
    "bdata = model.adata\n",
    "bdata is model.adata  # this should be True because we didn't copy the anndata object"
   ]
  },
  {
   "attachments": {},
   "cell_type": "markdown",
   "id": "d919fa66",
   "metadata": {},
   "source": [
    "## Minify"
   ]
  },
  {
   "attachments": {},
   "cell_type": "markdown",
   "id": "c86693f5",
   "metadata": {},
   "source": [
    "To minify the data, all we need to do is:\n",
    "\n",
    "1. get the latent representation and store it in the adata\n",
    "1. call `model.minify_adata()`"
   ]
  },
  {
   "cell_type": "code",
   "execution_count": 14,
   "id": "cd6c5291",
   "metadata": {},
   "outputs": [
    {
     "name": "stdout",
     "output_type": "stream",
     "text": [
      "\u001b[34mINFO    \u001b[0m Input AnnData not setup with scvi-tools. attempting to transfer AnnData setup                             \n",
      "\u001b[34mINFO    \u001b[0m Generating sequential column names                                                                        \n",
      "\u001b[34mINFO    \u001b[0m Generating sequential column names                                                                        \n"
     ]
    }
   ],
   "source": [
    "qzm, qzv = model.get_latent_representation(give_mean=False, return_dist=True)\n",
    "model.adata.obsm[\"X_latent_qzm\"] = qzm\n",
    "model.adata.obsm[\"X_latent_qzv\"] = qzv\n",
    "\n",
    "model.minify_adata()"
   ]
  },
  {
   "cell_type": "code",
   "execution_count": 15,
   "id": "3bc62561",
   "metadata": {},
   "outputs": [
    {
     "data": {
      "text/html": [
       "<pre style=\"white-space:pre;overflow-x:auto;line-height:normal;font-family:Menlo,'DejaVu Sans Mono',consolas,'Courier New',monospace\">SCVI Model with the following params: \n",
       "n_hidden: <span style=\"color: #008080; text-decoration-color: #008080; font-weight: bold\">128</span>, n_latent: <span style=\"color: #008080; text-decoration-color: #008080; font-weight: bold\">10</span>, n_layers: <span style=\"color: #008080; text-decoration-color: #008080; font-weight: bold\">1</span>, dropout_rate: <span style=\"color: #008080; text-decoration-color: #008080; font-weight: bold\">0.1</span>, dispersion: gene, gene_likelihood: zinb, \n",
       "latent_distribution: normal\n",
       "Training status: Trained\n",
       "Model's adata is minified?: <span style=\"color: #00ff00; text-decoration-color: #00ff00; font-style: italic\">True</span>\n",
       "</pre>\n"
      ],
      "text/plain": [
       "SCVI Model with the following params: \n",
       "n_hidden: \u001b[1;36m128\u001b[0m, n_latent: \u001b[1;36m10\u001b[0m, n_layers: \u001b[1;36m1\u001b[0m, dropout_rate: \u001b[1;36m0.1\u001b[0m, dispersion: gene, gene_likelihood: zinb, \n",
       "latent_distribution: normal\n",
       "Training status: Trained\n",
       "Model's adata is minified?: \u001b[3;92mTrue\u001b[0m\n"
      ]
     },
     "metadata": {},
     "output_type": "display_data"
    },
    {
     "data": {
      "text/plain": []
     },
     "execution_count": 15,
     "metadata": {},
     "output_type": "execute_result"
    }
   ],
   "source": [
    "model"
   ]
  },
  {
   "attachments": {},
   "cell_type": "markdown",
   "id": "71ca6950",
   "metadata": {},
   "source": [
    "As expected, \"Model's adata is minified\" is now True. Also, we can check the model's `minified_data_type`:"
   ]
  },
  {
   "cell_type": "code",
   "execution_count": 16,
   "id": "1b320565",
   "metadata": {},
   "outputs": [
    {
     "data": {
      "text/plain": [
       "'latent_posterior_parameters'"
      ]
     },
     "execution_count": 16,
     "metadata": {},
     "output_type": "execute_result"
    }
   ],
   "source": [
    "model.minified_data_type"
   ]
  },
  {
   "attachments": {},
   "cell_type": "markdown",
   "id": "ece17baa",
   "metadata": {},
   "source": [
    "Let's check out the data now:"
   ]
  },
  {
   "cell_type": "code",
   "execution_count": 17,
   "id": "79a6b64b",
   "metadata": {},
   "outputs": [
    {
     "data": {
      "text/plain": [
       "AnnData object with n_obs × n_vars = 18641 × 1200\n",
       "    obs: 'NRP', 'age_group', 'cell_source', 'cell_type', 'donor', 'gender', 'n_counts', 'n_genes', 'percent_mito', 'percent_ribo', 'region', 'sample', 'scrublet_score', 'source', 'type', 'version', 'cell_states', 'Used', '_scvi_batch', '_scvi_labels', '_scvi_observed_lib_size'\n",
       "    var: 'gene_ids-Harvard-Nuclei', 'feature_types-Harvard-Nuclei', 'gene_ids-Sanger-Nuclei', 'feature_types-Sanger-Nuclei', 'gene_ids-Sanger-Cells', 'feature_types-Sanger-Cells', 'gene_ids-Sanger-CD45', 'feature_types-Sanger-CD45', 'n_counts', 'highly_variable', 'highly_variable_rank', 'means', 'variances', 'variances_norm', 'highly_variable_nbatches'\n",
       "    uns: '_scvi_manager_uuid', 'cell_type_colors', 'hvg', 'log1p', '_scvi_adata_minify_type', '_scvi_uuid'\n",
       "    obsm: '_scvi_extra_categorical_covs', '_scvi_extra_continuous_covs', 'X_latent_qzm', 'X_latent_qzv', '_scvi_latent_qzm', '_scvi_latent_qzv'\n",
       "    layers: 'counts'"
      ]
     },
     "execution_count": 17,
     "metadata": {},
     "output_type": "execute_result"
    }
   ],
   "source": [
    "model.adata"
   ]
  },
  {
   "attachments": {},
   "cell_type": "markdown",
   "id": "eb2fb724",
   "metadata": {},
   "source": [
    "First, let's check that the original adata was not modified (minification is not inplace):"
   ]
  },
  {
   "cell_type": "code",
   "execution_count": 18,
   "id": "aeaa029e",
   "metadata": {},
   "outputs": [
    {
     "data": {
      "text/plain": [
       "False"
      ]
     },
     "execution_count": 18,
     "metadata": {},
     "output_type": "execute_result"
    }
   ],
   "source": [
    "model.adata is bdata"
   ]
  },
  {
   "attachments": {},
   "cell_type": "markdown",
   "id": "dd1bec6a",
   "metadata": {},
   "source": [
    "Next, we see that we still have the same number of obs and vars: 18641 × 1200. This seems strange! Didn't we say we minized the data? We did. The way we did that is we \"emptied\" the contents of `adata.X`, `adata.layers[\"counts\"]`, and `adata.raw`. Instead, we cached the much smaller latent posterior parameters in `adata.obsm[\"_scvi_latent_qzm\"]` and `adata.obsm[\"_scvi_latent_qzv\"]`. Let's double check that:"
   ]
  },
  {
   "cell_type": "code",
   "execution_count": 19,
   "id": "cc5b771d",
   "metadata": {},
   "outputs": [
    {
     "data": {
      "text/plain": [
       "<18641x1200 sparse matrix of type '<class 'numpy.float64'>'\n",
       "\twith 0 stored elements in Compressed Sparse Row format>"
      ]
     },
     "execution_count": 19,
     "metadata": {},
     "output_type": "execute_result"
    }
   ],
   "source": [
    "model.adata.X"
   ]
  },
  {
   "cell_type": "code",
   "execution_count": 20,
   "id": "adafa4ac",
   "metadata": {},
   "outputs": [
    {
     "data": {
      "text/plain": [
       "<18641x1200 sparse matrix of type '<class 'numpy.float64'>'\n",
       "\twith 0 stored elements in Compressed Sparse Row format>"
      ]
     },
     "execution_count": 20,
     "metadata": {},
     "output_type": "execute_result"
    }
   ],
   "source": [
    "model.adata.layers[\"counts\"]"
   ]
  },
  {
   "cell_type": "code",
   "execution_count": 21,
   "id": "b808c34c",
   "metadata": {},
   "outputs": [
    {
     "data": {
      "text/plain": [
       "True"
      ]
     },
     "execution_count": 21,
     "metadata": {},
     "output_type": "execute_result"
    }
   ],
   "source": [
    "model.adata.raw is None"
   ]
  },
  {
   "cell_type": "code",
   "execution_count": 22,
   "id": "8ed8d48f",
   "metadata": {},
   "outputs": [
    {
     "data": {
      "text/plain": [
       "AnnData object with n_obs × n_vars = 18641 × 1200\n",
       "    obs: 'NRP', 'age_group', 'cell_source', 'cell_type', 'donor', 'gender', 'n_counts', 'n_genes', 'percent_mito', 'percent_ribo', 'region', 'sample', 'scrublet_score', 'source', 'type', 'version', 'cell_states', 'Used', '_scvi_batch', '_scvi_labels'\n",
       "    var: 'gene_ids-Harvard-Nuclei', 'feature_types-Harvard-Nuclei', 'gene_ids-Sanger-Nuclei', 'feature_types-Sanger-Nuclei', 'gene_ids-Sanger-Cells', 'feature_types-Sanger-Cells', 'gene_ids-Sanger-CD45', 'feature_types-Sanger-CD45', 'n_counts', 'highly_variable', 'highly_variable_rank', 'means', 'variances', 'variances_norm', 'highly_variable_nbatches'\n",
       "    uns: '_scvi_manager_uuid', '_scvi_uuid', 'cell_type_colors', 'hvg', 'log1p'\n",
       "    obsm: '_scvi_extra_categorical_covs', '_scvi_extra_continuous_covs', 'X_latent_qzm', 'X_latent_qzv'\n",
       "    layers: 'counts'"
      ]
     },
     "execution_count": 22,
     "metadata": {},
     "output_type": "execute_result"
    }
   ],
   "source": [
    "bdata"
   ]
  },
  {
   "attachments": {},
   "cell_type": "markdown",
   "id": "ee9b7b0b",
   "metadata": {},
   "source": [
    "Everything else is the same, all the other metadata is there.\n",
    "\n",
    "But is the data really smaller now? Let's check:"
   ]
  },
  {
   "cell_type": "code",
   "execution_count": 23,
   "id": "d63b70ae",
   "metadata": {},
   "outputs": [],
   "source": [
    "minified_model_path = os.path.join(save_dir.name, \"scvi_hca_minified\")\n",
    "model.save(minified_model_path, save_anndata=True, overwrite=True)"
   ]
  },
  {
   "cell_type": "code",
   "execution_count": 24,
   "id": "79f2f24a",
   "metadata": {},
   "outputs": [
    {
     "name": "stdout",
     "output_type": "stream",
     "text": [
      "AnnData size before minification: 212 MB\n",
      "AnnData size after minification: 8 MB\n"
     ]
    }
   ],
   "source": [
    "before = os.path.getsize(os.path.join(model_path, \"adata.h5ad\")) // (1024 * 1024)\n",
    "after = os.path.getsize(os.path.join(minified_model_path, \"adata.h5ad\")) // (\n",
    "    1024 * 1024\n",
    ")\n",
    "\n",
    "print(f\"AnnData size before minification: {before} MB\")\n",
    "print(f\"AnnData size after minification: {after} MB\")"
   ]
  },
  {
   "attachments": {},
   "cell_type": "markdown",
   "id": "b73102c2",
   "metadata": {},
   "source": [
    "We also see a a new uns key called `_scvi_adata_minify_type`. This specifies the type of minification. It's the same as `model.minified_data_type`. In fact this is a quick way to tell if your data is minified. We also expose a utility function to check that quickly."
   ]
  },
  {
   "cell_type": "code",
   "execution_count": 25,
   "id": "2bfe604b",
   "metadata": {},
   "outputs": [
    {
     "data": {
      "text/plain": [
       "'latent_posterior_parameters'"
      ]
     },
     "execution_count": 25,
     "metadata": {},
     "output_type": "execute_result"
    }
   ],
   "source": [
    "model.adata.uns[\"_scvi_adata_minify_type\"]"
   ]
  },
  {
   "cell_type": "code",
   "execution_count": 26,
   "id": "42ade97a",
   "metadata": {},
   "outputs": [
    {
     "data": {
      "text/plain": [
       "True"
      ]
     },
     "execution_count": 26,
     "metadata": {},
     "output_type": "execute_result"
    }
   ],
   "source": [
    "scvi.data._utils._is_minified(model.adata)"
   ]
  },
  {
   "attachments": {},
   "cell_type": "markdown",
   "id": "670290ce",
   "metadata": {},
   "source": [
    "Last but not least, you might have noticed that there is a new obs columns called `_scvi_observed_lib_size`. We add the pre-computed per-cell library sizes to this column and use it during inference, because the minified data is deprived of the full counts.\n",
    "\n",
    "Another claim we made earlier is that analysis functions are faster if you use the minified data. Let's time how much they take. Here we'll look at the `get_likelihood_parameters` method."
   ]
  },
  {
   "cell_type": "code",
   "execution_count": 27,
   "id": "ce41ef00",
   "metadata": {},
   "outputs": [
    {
     "name": "stdout",
     "output_type": "stream",
     "text": [
      "\u001b[34mINFO    \u001b[0m File \u001b[35m/tmp/tmpkgqgzthm/scvi_hca/\u001b[0m\u001b[95mmodel.pt\u001b[0m already downloaded                                                \n",
      "Running `get_likelihood_parameters` without minified data...\n",
      "2.81 s ± 58.9 ms per loop (mean ± std. dev. of 7 runs, 1 loop each)\n"
     ]
    }
   ],
   "source": [
    "model_orig = scvi.model.SCVI.load(model_path)\n",
    "\n",
    "print(\"Running `get_likelihood_parameters` without minified data...\")\n",
    "%timeit model_orig.get_likelihood_parameters(n_samples=3, give_mean=True)"
   ]
  },
  {
   "cell_type": "code",
   "execution_count": 28,
   "id": "78ea1dac",
   "metadata": {},
   "outputs": [
    {
     "name": "stdout",
     "output_type": "stream",
     "text": [
      "Running `get_likelihood_parameters` with minified data...\n",
      "2.79 s ± 29.3 ms per loop (mean ± std. dev. of 7 runs, 1 loop each)\n"
     ]
    }
   ],
   "source": [
    "print(\"Running `get_likelihood_parameters` with minified data...\")\n",
    "%timeit model.get_likelihood_parameters(n_samples=3, give_mean=True)"
   ]
  },
  {
   "attachments": {},
   "cell_type": "markdown",
   "id": "964f9740",
   "metadata": {},
   "source": [
    "Time savings are not very sharp in the case of this dataset, but there are some marginal savings regardless."
   ]
  },
  {
   "attachments": {},
   "cell_type": "markdown",
   "id": "22c37d5a",
   "metadata": {},
   "source": [
    "## Save and load\n",
    "\n",
    "Just like a regular model, you can save the model and its minified data, and load them back in:"
   ]
  },
  {
   "cell_type": "code",
   "execution_count": 29,
   "id": "4a899e25",
   "metadata": {},
   "outputs": [
    {
     "name": "stdout",
     "output_type": "stream",
     "text": [
      "\u001b[34mINFO    \u001b[0m File \u001b[35m/tmp/tmpkgqgzthm/scvi_hca_minified/\u001b[0m\u001b[95mmodel.pt\u001b[0m already downloaded                                       \n"
     ]
    },
    {
     "data": {
      "text/html": [
       "<pre style=\"white-space:pre;overflow-x:auto;line-height:normal;font-family:Menlo,'DejaVu Sans Mono',consolas,'Courier New',monospace\">SCVI Model with the following params: \n",
       "n_hidden: <span style=\"color: #008080; text-decoration-color: #008080; font-weight: bold\">128</span>, n_latent: <span style=\"color: #008080; text-decoration-color: #008080; font-weight: bold\">10</span>, n_layers: <span style=\"color: #008080; text-decoration-color: #008080; font-weight: bold\">1</span>, dropout_rate: <span style=\"color: #008080; text-decoration-color: #008080; font-weight: bold\">0.1</span>, dispersion: gene, gene_likelihood: zinb, \n",
       "latent_distribution: normal\n",
       "Training status: Trained\n",
       "Model's adata is minified?: <span style=\"color: #00ff00; text-decoration-color: #00ff00; font-style: italic\">True</span>\n",
       "</pre>\n"
      ],
      "text/plain": [
       "SCVI Model with the following params: \n",
       "n_hidden: \u001b[1;36m128\u001b[0m, n_latent: \u001b[1;36m10\u001b[0m, n_layers: \u001b[1;36m1\u001b[0m, dropout_rate: \u001b[1;36m0.1\u001b[0m, dispersion: gene, gene_likelihood: zinb, \n",
       "latent_distribution: normal\n",
       "Training status: Trained\n",
       "Model's adata is minified?: \u001b[3;92mTrue\u001b[0m\n"
      ]
     },
     "metadata": {},
     "output_type": "display_data"
    },
    {
     "data": {
      "text/plain": []
     },
     "execution_count": 29,
     "metadata": {},
     "output_type": "execute_result"
    }
   ],
   "source": [
    "model.save(minified_model_path, overwrite=True, save_anndata=True)\n",
    "\n",
    "# load saved model with saved (minified) adata\n",
    "loaded_model = scvi.model.SCVI.load(minified_model_path)\n",
    "loaded_model"
   ]
  },
  {
   "attachments": {},
   "cell_type": "markdown",
   "id": "57daa543",
   "metadata": {},
   "source": [
    "Next, let's load the model with a non-minified data."
   ]
  },
  {
   "cell_type": "code",
   "execution_count": 30,
   "id": "c71e218c",
   "metadata": {},
   "outputs": [
    {
     "name": "stdout",
     "output_type": "stream",
     "text": [
      "\u001b[34mINFO    \u001b[0m File \u001b[35m/tmp/tmpkgqgzthm/scvi_hca/\u001b[0m\u001b[95mmodel.pt\u001b[0m already downloaded                                                \n"
     ]
    },
    {
     "data": {
      "text/html": [
       "<pre style=\"white-space:pre;overflow-x:auto;line-height:normal;font-family:Menlo,'DejaVu Sans Mono',consolas,'Courier New',monospace\">SCVI Model with the following params: \n",
       "n_hidden: <span style=\"color: #008080; text-decoration-color: #008080; font-weight: bold\">128</span>, n_latent: <span style=\"color: #008080; text-decoration-color: #008080; font-weight: bold\">10</span>, n_layers: <span style=\"color: #008080; text-decoration-color: #008080; font-weight: bold\">1</span>, dropout_rate: <span style=\"color: #008080; text-decoration-color: #008080; font-weight: bold\">0.1</span>, dispersion: gene, gene_likelihood: zinb, \n",
       "latent_distribution: normal\n",
       "Training status: Trained\n",
       "Model's adata is minified?: <span style=\"color: #ff0000; text-decoration-color: #ff0000; font-style: italic\">False</span>\n",
       "</pre>\n"
      ],
      "text/plain": [
       "SCVI Model with the following params: \n",
       "n_hidden: \u001b[1;36m128\u001b[0m, n_latent: \u001b[1;36m10\u001b[0m, n_layers: \u001b[1;36m1\u001b[0m, dropout_rate: \u001b[1;36m0.1\u001b[0m, dispersion: gene, gene_likelihood: zinb, \n",
       "latent_distribution: normal\n",
       "Training status: Trained\n",
       "Model's adata is minified?: \u001b[3;91mFalse\u001b[0m\n"
      ]
     },
     "metadata": {},
     "output_type": "display_data"
    },
    {
     "data": {
      "text/plain": []
     },
     "execution_count": 30,
     "metadata": {},
     "output_type": "execute_result"
    }
   ],
   "source": [
    "loaded_model = scvi.model.SCVI.load(model_path, adata=bdata)\n",
    "loaded_model"
   ]
  },
  {
   "attachments": {},
   "cell_type": "markdown",
   "id": "a3db15e6",
   "metadata": {},
   "source": [
    "So if you want to \"undo\" the minification procedure, so to speak, you can always load your model with the non-minified data (if you still have it), or any other non-minified data for that matter, as long as it's compatible with the model of course.\n",
    "\n",
    "Last but not least, let's see what happens if we try to load a model whose adata was not minified, with a dataset that is minified:"
   ]
  },
  {
   "cell_type": "code",
   "execution_count": 31,
   "id": "723726bc",
   "metadata": {},
   "outputs": [
    {
     "data": {
      "text/plain": [
       "True"
      ]
     },
     "execution_count": 31,
     "metadata": {},
     "output_type": "execute_result"
    }
   ],
   "source": [
    "scvi.data._utils._is_minified(model.adata)"
   ]
  },
  {
   "cell_type": "code",
   "execution_count": 32,
   "id": "c88064b6",
   "metadata": {},
   "outputs": [
    {
     "name": "stdout",
     "output_type": "stream",
     "text": [
      "\u001b[34mINFO    \u001b[0m File \u001b[35m/tmp/tmpkgqgzthm/scvi_hca/\u001b[0m\u001b[95mmodel.pt\u001b[0m already downloaded                                                \n",
      "KeyError: 'state_registry'\n"
     ]
    }
   ],
   "source": [
    "try:\n",
    "    scvi.model.SCVI.load(model_path, adata=model.adata)\n",
    "except KeyError as e:\n",
    "    print(\"KeyError: \" + str(e))"
   ]
  },
  {
   "attachments": {},
   "cell_type": "markdown",
   "id": "85d01faf",
   "metadata": {},
   "source": [
    "As we see, this is not allowed. This is because when you try to load a model with another dataset, we try to validate that dataset against the model's registry. In this case, the data is not compatible with the model registry because it has attributes pertaining to minification, which this model is not aware of."
   ]
  },
  {
   "attachments": {},
   "cell_type": "markdown",
   "id": "114aba4b",
   "metadata": {},
   "source": [
    "## Support\n",
    "\n",
    "Minification is not supported for all models yet. A model supports this functionality if and only if it inherits from the `BaseMinifiedModeModelClass` class. A model that does not support this:\n",
    "\n",
    "- does not have a `minify_adata()` method\n",
    "- cannot be loaded with a minified data. If you try to do this you will see this error:\n",
    "  \"The MyModel model currently does not support minified data.\"\n",
    "\n",
    "To support minification for your own model, inherit your model class from the `BaseMinifiedModeModelClass` and your module class from the `BaseMinifiedModeModuleClass`."
   ]
  },
  {
   "cell_type": "markdown",
   "id": "110e553f",
   "metadata": {},
   "source": [
    "## Clean up\n",
    "\n",
    "Uncomment the following line to remove all data files created in this tutorial:"
   ]
  },
  {
   "cell_type": "code",
   "execution_count": null,
   "id": "1061eb32",
   "metadata": {},
   "outputs": [],
   "source": [
    "# save_dir.cleanup()"
   ]
  }
 ],
 "metadata": {
  "kernelspec": {
   "display_name": "scvi-hub",
   "language": "python",
   "name": "python3"
  },
  "language_info": {
   "codemirror_mode": {
    "name": "ipython",
    "version": 3
   },
   "file_extension": ".py",
   "mimetype": "text/x-python",
   "name": "python",
   "nbconvert_exporter": "python",
   "pygments_lexer": "ipython3",
   "version": "3.11.4"
  },
  "vscode": {
   "interpreter": {
    "hash": "c7ad0fb529154325adae80858adf69263139128ad86800d0218f40cb1980a4c2"
   }
  }
 },
 "nbformat": 4,
 "nbformat_minor": 5
}
